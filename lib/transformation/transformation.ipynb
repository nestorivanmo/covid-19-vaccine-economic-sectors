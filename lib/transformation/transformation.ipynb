{
 "metadata": {
  "language_info": {
   "codemirror_mode": {
    "name": "ipython",
    "version": 3
   },
   "file_extension": ".py",
   "mimetype": "text/x-python",
   "name": "python",
   "nbconvert_exporter": "python",
   "pygments_lexer": "ipython3",
   "version": "3.8.5-final"
  },
  "orig_nbformat": 2,
  "kernelspec": {
   "name": "python3",
   "display_name": "Python 3",
   "language": "python"
  }
 },
 "nbformat": 4,
 "nbformat_minor": 2,
 "cells": [
  {
   "source": [
    "# Dataset final\n",
    "El objetivo de este notebook es crear el dataset de **productos.csv** el cual contendrá una categorización de los productos/negocios en cada una de las colonias prioritarias. Recordemos que para este punto, **microempresas_clean.csv** ya contiene los negocios de la CDMX que solicitaron apoyo financiero únicamente en las colonias prioritarias. "
   ],
   "cell_type": "markdown",
   "metadata": {}
  },
  {
   "cell_type": "code",
   "execution_count": 38,
   "metadata": {},
   "outputs": [],
   "source": [
    "import pandas as pd\n",
    "data_path = '../../data/'"
   ]
  },
  {
   "cell_type": "code",
   "execution_count": 39,
   "metadata": {},
   "outputs": [],
   "source": [
    "alcaldias_df = pd.read_csv(data_path + 'alcaldias_eci.csv')\n",
    "negocios_df = pd.read_csv(data_path + 'microempresas_clean.csv')\n",
    "colonias_df = pd.read_csv(data_path + 'colonias_prioritarias_clean.csv')"
   ]
  },
  {
   "cell_type": "code",
   "execution_count": 40,
   "metadata": {},
   "outputs": [
    {
     "output_type": "execute_result",
     "data": {
      "text/plain": [
       "                alcaldia       eci\n",
       "0             cuauhtemoc  3.471986\n",
       "1    venustiano carranza  2.501312\n",
       "2           azcapotzalco  3.865509\n",
       "3               coyoacan  2.800526\n",
       "4  cuajimalpa de morelos  3.854617"
      ],
      "text/html": "<div>\n<style scoped>\n    .dataframe tbody tr th:only-of-type {\n        vertical-align: middle;\n    }\n\n    .dataframe tbody tr th {\n        vertical-align: top;\n    }\n\n    .dataframe thead th {\n        text-align: right;\n    }\n</style>\n<table border=\"1\" class=\"dataframe\">\n  <thead>\n    <tr style=\"text-align: right;\">\n      <th></th>\n      <th>alcaldia</th>\n      <th>eci</th>\n    </tr>\n  </thead>\n  <tbody>\n    <tr>\n      <th>0</th>\n      <td>cuauhtemoc</td>\n      <td>3.471986</td>\n    </tr>\n    <tr>\n      <th>1</th>\n      <td>venustiano carranza</td>\n      <td>2.501312</td>\n    </tr>\n    <tr>\n      <th>2</th>\n      <td>azcapotzalco</td>\n      <td>3.865509</td>\n    </tr>\n    <tr>\n      <th>3</th>\n      <td>coyoacan</td>\n      <td>2.800526</td>\n    </tr>\n    <tr>\n      <th>4</th>\n      <td>cuajimalpa de morelos</td>\n      <td>3.854617</td>\n    </tr>\n  </tbody>\n</table>\n</div>"
     },
     "metadata": {},
     "execution_count": 40
    }
   ],
   "source": [
    "alcaldias_df.head()"
   ]
  },
  {
   "cell_type": "code",
   "execution_count": 41,
   "metadata": {},
   "outputs": [
    {
     "output_type": "execute_result",
     "data": {
      "text/plain": [
       "                                 ocupacion        alcaldia   c_p  \\\n",
       "0                          tiendas de ropa  alvaro obregon  1260   \n",
       "1                     tiendas de abarrotes  alvaro obregon  1780   \n",
       "2                     tiendas de abarrotes  alvaro obregon  1780   \n",
       "3                     tiendas de abarrotes  alvaro obregon  1780   \n",
       "4  venta de zapatos y productos de belleza  alvaro obregon  1290   \n",
       "\n",
       "                colonia                                     giro  \\\n",
       "0       calzada jalalpa                          tiendas de ropa   \n",
       "1  olivar de los padres                     tiendas de abarrotes   \n",
       "2  olivar de los padres                     tiendas de abarrotes   \n",
       "3  olivar de los padres                     tiendas de abarrotes   \n",
       "4           presidentes  venta de zapatos y productos de belleza   \n",
       "\n",
       "   num_empleados  \n",
       "0              3  \n",
       "1              0  \n",
       "2              3  \n",
       "3              0  \n",
       "4              0  "
      ],
      "text/html": "<div>\n<style scoped>\n    .dataframe tbody tr th:only-of-type {\n        vertical-align: middle;\n    }\n\n    .dataframe tbody tr th {\n        vertical-align: top;\n    }\n\n    .dataframe thead th {\n        text-align: right;\n    }\n</style>\n<table border=\"1\" class=\"dataframe\">\n  <thead>\n    <tr style=\"text-align: right;\">\n      <th></th>\n      <th>ocupacion</th>\n      <th>alcaldia</th>\n      <th>c_p</th>\n      <th>colonia</th>\n      <th>giro</th>\n      <th>num_empleados</th>\n    </tr>\n  </thead>\n  <tbody>\n    <tr>\n      <th>0</th>\n      <td>tiendas de ropa</td>\n      <td>alvaro obregon</td>\n      <td>1260</td>\n      <td>calzada jalalpa</td>\n      <td>tiendas de ropa</td>\n      <td>3</td>\n    </tr>\n    <tr>\n      <th>1</th>\n      <td>tiendas de abarrotes</td>\n      <td>alvaro obregon</td>\n      <td>1780</td>\n      <td>olivar de los padres</td>\n      <td>tiendas de abarrotes</td>\n      <td>0</td>\n    </tr>\n    <tr>\n      <th>2</th>\n      <td>tiendas de abarrotes</td>\n      <td>alvaro obregon</td>\n      <td>1780</td>\n      <td>olivar de los padres</td>\n      <td>tiendas de abarrotes</td>\n      <td>3</td>\n    </tr>\n    <tr>\n      <th>3</th>\n      <td>tiendas de abarrotes</td>\n      <td>alvaro obregon</td>\n      <td>1780</td>\n      <td>olivar de los padres</td>\n      <td>tiendas de abarrotes</td>\n      <td>0</td>\n    </tr>\n    <tr>\n      <th>4</th>\n      <td>venta de zapatos y productos de belleza</td>\n      <td>alvaro obregon</td>\n      <td>1290</td>\n      <td>presidentes</td>\n      <td>venta de zapatos y productos de belleza</td>\n      <td>0</td>\n    </tr>\n  </tbody>\n</table>\n</div>"
     },
     "metadata": {},
     "execution_count": 41
    }
   ],
   "source": [
    "negocios_df.head()"
   ]
  },
  {
   "cell_type": "code",
   "execution_count": 42,
   "metadata": {},
   "outputs": [
    {
     "output_type": "execute_result",
     "data": {
      "text/plain": [
       "         alcaldia                          colonia  casos_activos  \\\n",
       "0  alvaro obregon                     barrio norte             57   \n",
       "1  alvaro obregon                jalalpa el grande             47   \n",
       "2  alvaro obregon            jardines del pedregal             39   \n",
       "3  alvaro obregon                     merced gomez             48   \n",
       "4  alvaro obregon  olivar del conde 2da seccion ii             37   \n",
       "\n",
       "   poblacion_total  porcentaje_activos    cp  \n",
       "0     14367.414210              0.2562  1410  \n",
       "1     10972.245610              0.2112  1377  \n",
       "2     13817.000000              0.1753  1900  \n",
       "3      6992.834615              0.2157  1600  \n",
       "4      8191.441839              0.1663  1408  "
      ],
      "text/html": "<div>\n<style scoped>\n    .dataframe tbody tr th:only-of-type {\n        vertical-align: middle;\n    }\n\n    .dataframe tbody tr th {\n        vertical-align: top;\n    }\n\n    .dataframe thead th {\n        text-align: right;\n    }\n</style>\n<table border=\"1\" class=\"dataframe\">\n  <thead>\n    <tr style=\"text-align: right;\">\n      <th></th>\n      <th>alcaldia</th>\n      <th>colonia</th>\n      <th>casos_activos</th>\n      <th>poblacion_total</th>\n      <th>porcentaje_activos</th>\n      <th>cp</th>\n    </tr>\n  </thead>\n  <tbody>\n    <tr>\n      <th>0</th>\n      <td>alvaro obregon</td>\n      <td>barrio norte</td>\n      <td>57</td>\n      <td>14367.414210</td>\n      <td>0.2562</td>\n      <td>1410</td>\n    </tr>\n    <tr>\n      <th>1</th>\n      <td>alvaro obregon</td>\n      <td>jalalpa el grande</td>\n      <td>47</td>\n      <td>10972.245610</td>\n      <td>0.2112</td>\n      <td>1377</td>\n    </tr>\n    <tr>\n      <th>2</th>\n      <td>alvaro obregon</td>\n      <td>jardines del pedregal</td>\n      <td>39</td>\n      <td>13817.000000</td>\n      <td>0.1753</td>\n      <td>1900</td>\n    </tr>\n    <tr>\n      <th>3</th>\n      <td>alvaro obregon</td>\n      <td>merced gomez</td>\n      <td>48</td>\n      <td>6992.834615</td>\n      <td>0.2157</td>\n      <td>1600</td>\n    </tr>\n    <tr>\n      <th>4</th>\n      <td>alvaro obregon</td>\n      <td>olivar del conde 2da seccion ii</td>\n      <td>37</td>\n      <td>8191.441839</td>\n      <td>0.1663</td>\n      <td>1408</td>\n    </tr>\n  </tbody>\n</table>\n</div>"
     },
     "metadata": {},
     "execution_count": 42
    }
   ],
   "source": [
    "colonias_df.head()"
   ]
  },
  {
   "source": [
    "## Tomando los negocios en las alcaldias con top 3 ECI"
   ],
   "cell_type": "markdown",
   "metadata": {}
  },
  {
   "cell_type": "code",
   "execution_count": 43,
   "metadata": {},
   "outputs": [
    {
     "output_type": "stream",
     "name": "stdout",
     "text": [
      "['miguel hidalgo', 'azcapotzalco', 'cuajimalpa de morelos']\n"
     ]
    }
   ],
   "source": [
    "top = 3\n",
    "best_alcaldias_eci_df = alcaldias_df.sort_values(by='eci')[::-1].head(top)\n",
    "best_alcaldias = list(best_alcaldias_eci_df.alcaldia)\n",
    "negocios_mh_df = negocios_df[negocios_df.alcaldia.isin(best_alcaldias)]\n",
    "print(best_alcaldias)"
   ]
  },
  {
   "cell_type": "code",
   "execution_count": 44,
   "metadata": {},
   "outputs": [
    {
     "output_type": "stream",
     "name": "stdout",
     "text": [
      "13\n353\n"
     ]
    }
   ],
   "source": [
    "print(len(list(negocios_mh_df.colonia.unique())))\n",
    "print(len(list(negocios_mh_df.ocupacion)))"
   ]
  },
  {
   "cell_type": "code",
   "execution_count": 45,
   "metadata": {},
   "outputs": [
    {
     "output_type": "execute_result",
     "data": {
      "text/plain": [
       "  categoria           negocio\n",
       "0    comida  tiendasabarrotes\n",
       "1    comida          verduras\n",
       "2    comida          cremeria\n",
       "3    comida  casa_expendiopan\n",
       "4    comida         abarrotes"
      ],
      "text/html": "<div>\n<style scoped>\n    .dataframe tbody tr th:only-of-type {\n        vertical-align: middle;\n    }\n\n    .dataframe tbody tr th {\n        vertical-align: top;\n    }\n\n    .dataframe thead th {\n        text-align: right;\n    }\n</style>\n<table border=\"1\" class=\"dataframe\">\n  <thead>\n    <tr style=\"text-align: right;\">\n      <th></th>\n      <th>categoria</th>\n      <th>negocio</th>\n    </tr>\n  </thead>\n  <tbody>\n    <tr>\n      <th>0</th>\n      <td>comida</td>\n      <td>tiendasabarrotes</td>\n    </tr>\n    <tr>\n      <th>1</th>\n      <td>comida</td>\n      <td>verduras</td>\n    </tr>\n    <tr>\n      <th>2</th>\n      <td>comida</td>\n      <td>cremeria</td>\n    </tr>\n    <tr>\n      <th>3</th>\n      <td>comida</td>\n      <td>casa_expendiopan</td>\n    </tr>\n    <tr>\n      <th>4</th>\n      <td>comida</td>\n      <td>abarrotes</td>\n    </tr>\n  </tbody>\n</table>\n</div>"
     },
     "metadata": {},
     "execution_count": 45
    }
   ],
   "source": [
    "categoria_productos_df = pd.read_csv(data_path + 'cat.csv')\n",
    "categoria_productos_df.categoria = categoria_productos_df.categoria.str.lower()\n",
    "categoria_productos_df.head()"
   ]
  },
  {
   "cell_type": "code",
   "execution_count": 46,
   "metadata": {},
   "outputs": [],
   "source": [
    "negocios_ = list(categoria_productos_df.iloc[:, 1])\n",
    "categorias_ = list(categoria_productos_df.iloc[:, 0])\n",
    "cat_prod_dict = dict(zip(negocios_, categorias_))"
   ]
  },
  {
   "cell_type": "code",
   "execution_count": 47,
   "metadata": {},
   "outputs": [],
   "source": [
    "stopwords_list = ['venta', 'de', 'el', 'la', 'los', 'las', 'uno', 'unos', 'un', 'ella', 'con', 'y', 'comerciante', 'comercio', 'vendedor', 'vendedora', 'producto', 'productos', 'servicio', 'servicios', 'para', 'sin', 'por', 'panadero', 'panadera', 'en', 'ante', 'bajo', 'cabe', 'contra', 'desde', 'hasta', 'hacia', 'dentro de', 'tras', 'sobre', 'estudiante', 'tecnico', 'tecnica', 'compra', 'dueo', 'duea', 'nombre', 'empleada', 'empleado', 'auto', 'ama', 'amo', 'negocio', 'propietario', 'propietaria', 'independiente']\n",
    "stopwords = set()\n",
    "for s in stopwords_list:\n",
    "    stopwords.add(s)\n",
    "\n",
    "def remove_stop_words(s):\n",
    "    new_word = ''\n",
    "    curr = s.lower().split(' ')\n",
    "    for c in curr:\n",
    "        if c not in stopwords:\n",
    "            new_word += c\n",
    "    return new_word"
   ]
  },
  {
   "cell_type": "code",
   "execution_count": 48,
   "metadata": {},
   "outputs": [
    {
     "output_type": "execute_result",
     "data": {
      "text/plain": [
       "'zapatosbelleza'"
      ]
     },
     "metadata": {},
     "execution_count": 48
    }
   ],
   "source": [
    "remove_stop_words('venta de zapatos y productos de belleza')"
   ]
  },
  {
   "cell_type": "code",
   "execution_count": 49,
   "metadata": {},
   "outputs": [],
   "source": [
    "categorias = []\n",
    "negocios = []\n",
    "not_seen = []\n",
    "negocio = ''\n",
    "for _, row in negocios_mh_df.iterrows():\n",
    "    ocupacion = remove_stop_words(row.ocupacion)\n",
    "    giro = remove_stop_words(row.giro)\n",
    "    if len(ocupacion) + len(giro) > 0:\n",
    "        if ocupacion == giro or len(ocupacion) == 0:\n",
    "            negocio = giro\n",
    "        elif len(giro) == 0:\n",
    "            negocio = ocupacion\n",
    "        else:\n",
    "            negocio = ocupacion + '_' + giro \n",
    "        if negocio in cat_prod_dict:\n",
    "            negocios.append(negocio)\n",
    "            categorias.append(cat_prod_dict[negocio])\n",
    "            continue\n",
    "    not_seen.append((row.ocupacion,row.giro))"
   ]
  },
  {
   "cell_type": "code",
   "execution_count": 50,
   "metadata": {},
   "outputs": [
    {
     "output_type": "stream",
     "name": "stdout",
     "text": [
      "('comerciante', 'comerciante')\n('comerciante', 'comerciante')\n('comerciante', 'comercio')\n('comercio', 'comercio')\n('comerciante', 'puesto')\n('comerciante', 'comerciante')\n('comerciante', 'comerciante')\n('comerciante', 'comerciante')\n('comerciante', 'comerciante')\n('comerciante', 'comerciante')\n('comerciante', 'comerciante')\n('comerciante', 'comerciante')\n('vendedora', 'comerciante')\n('comerciante', 'comercio   servicio')\n('comerciante', 'comercio   servicio')\n('sin nombre', 'servicios')\n('sin nombre', 'comercio')\n('sin nombre', 'comercio')\n('sin nombre', 'comercio')\n('comerciante independiente', 'comercio   servicio')\n('comerciante', 'comercio')\n"
     ]
    }
   ],
   "source": [
    "for ns in not_seen:\n",
    "    print(ns)"
   ]
  },
  {
   "cell_type": "code",
   "execution_count": 51,
   "metadata": {},
   "outputs": [],
   "source": [
    "indexes_to_drop = set()\n",
    "for ocupacion_to_drop, giro_to_drop in not_seen:\n",
    "    idxs = list(\n",
    "        negocios_mh_df.loc[(negocios_mh_df.ocupacion == ocupacion_to_drop) & (negocios_mh_df.giro == giro_to_drop)].index\n",
    "    )\n",
    "    for i in idxs: indexes_to_drop.add(i)"
   ]
  },
  {
   "cell_type": "code",
   "execution_count": 52,
   "metadata": {},
   "outputs": [],
   "source": [
    "negocios_mh_df = negocios_mh_df.drop(indexes_to_drop)"
   ]
  },
  {
   "cell_type": "code",
   "execution_count": 53,
   "metadata": {},
   "outputs": [
    {
     "output_type": "stream",
     "name": "stdout",
     "text": [
      "332 332\n"
     ]
    }
   ],
   "source": [
    "print(len(categorias), len(negocios))"
   ]
  },
  {
   "cell_type": "code",
   "execution_count": 54,
   "metadata": {},
   "outputs": [],
   "source": [
    "complexity_indices = []\n",
    "for _, row in negocios_mh_df.iterrows():\n",
    "    alcaldia = row.alcaldia\n",
    "    eci = alcaldias_df[alcaldias_df.alcaldia==alcaldia].eci.values[0]\n",
    "    complexity_indices.append(eci)"
   ]
  },
  {
   "cell_type": "code",
   "execution_count": 55,
   "metadata": {},
   "outputs": [],
   "source": [
    "negocios_mh_df.drop(columns=[\"ocupacion\", \"giro\"], inplace=True)\n",
    "negocios_mh_df.insert(1, \"eci\", complexity_indices)\n",
    "negocios_mh_df.insert(4, \"negocio\", negocios)\n",
    "negocios_mh_df.insert(5, \"categoria\", categorias)"
   ]
  },
  {
   "cell_type": "code",
   "execution_count": 56,
   "metadata": {},
   "outputs": [],
   "source": [
    "activos = []\n",
    "for _, row in negocios_mh_df.iterrows():\n",
    "    cp = row.c_p\n",
    "    activos.append(colonias_df[colonias_df.cp == cp].porcentaje_activos.values[0])\n",
    "negocios_mh_df.insert(6, \"porcentaje_infectados\", activos)"
   ]
  },
  {
   "cell_type": "code",
   "execution_count": 57,
   "metadata": {},
   "outputs": [
    {
     "output_type": "execute_result",
     "data": {
      "text/plain": [
       "        alcaldia       eci    c_p             colonia         negocio  \\\n",
       "67  azcapotzalco  3.865509  13530  jaime torres bodet  zapatosbelleza   \n",
       "68  azcapotzalco  3.865509   2100          el rosario  manufacturados   \n",
       "69  azcapotzalco  3.865509   2459           tezozomoc      antojerias   \n",
       "70  azcapotzalco  3.865509   6720            doctores      fotografia   \n",
       "71  azcapotzalco  3.865509   2459           tezozomoc        catalogo   \n",
       "\n",
       "          categoria  porcentaje_infectados  num_empleados  \n",
       "67  arreglosgeneral                 0.1978              2  \n",
       "68        industria                 0.1573              0  \n",
       "69     restaurantes                 0.1303              3  \n",
       "70       fotografia                 0.1169              3  \n",
       "71   ventaproductos                 0.1303              2  "
      ],
      "text/html": "<div>\n<style scoped>\n    .dataframe tbody tr th:only-of-type {\n        vertical-align: middle;\n    }\n\n    .dataframe tbody tr th {\n        vertical-align: top;\n    }\n\n    .dataframe thead th {\n        text-align: right;\n    }\n</style>\n<table border=\"1\" class=\"dataframe\">\n  <thead>\n    <tr style=\"text-align: right;\">\n      <th></th>\n      <th>alcaldia</th>\n      <th>eci</th>\n      <th>c_p</th>\n      <th>colonia</th>\n      <th>negocio</th>\n      <th>categoria</th>\n      <th>porcentaje_infectados</th>\n      <th>num_empleados</th>\n    </tr>\n  </thead>\n  <tbody>\n    <tr>\n      <th>67</th>\n      <td>azcapotzalco</td>\n      <td>3.865509</td>\n      <td>13530</td>\n      <td>jaime torres bodet</td>\n      <td>zapatosbelleza</td>\n      <td>arreglosgeneral</td>\n      <td>0.1978</td>\n      <td>2</td>\n    </tr>\n    <tr>\n      <th>68</th>\n      <td>azcapotzalco</td>\n      <td>3.865509</td>\n      <td>2100</td>\n      <td>el rosario</td>\n      <td>manufacturados</td>\n      <td>industria</td>\n      <td>0.1573</td>\n      <td>0</td>\n    </tr>\n    <tr>\n      <th>69</th>\n      <td>azcapotzalco</td>\n      <td>3.865509</td>\n      <td>2459</td>\n      <td>tezozomoc</td>\n      <td>antojerias</td>\n      <td>restaurantes</td>\n      <td>0.1303</td>\n      <td>3</td>\n    </tr>\n    <tr>\n      <th>70</th>\n      <td>azcapotzalco</td>\n      <td>3.865509</td>\n      <td>6720</td>\n      <td>doctores</td>\n      <td>fotografia</td>\n      <td>fotografia</td>\n      <td>0.1169</td>\n      <td>3</td>\n    </tr>\n    <tr>\n      <th>71</th>\n      <td>azcapotzalco</td>\n      <td>3.865509</td>\n      <td>2459</td>\n      <td>tezozomoc</td>\n      <td>catalogo</td>\n      <td>ventaproductos</td>\n      <td>0.1303</td>\n      <td>2</td>\n    </tr>\n  </tbody>\n</table>\n</div>"
     },
     "metadata": {},
     "execution_count": 57
    }
   ],
   "source": [
    "negocios_mh_df.head()"
   ]
  },
  {
   "cell_type": "code",
   "execution_count": 58,
   "metadata": {},
   "outputs": [
    {
     "output_type": "execute_result",
     "data": {
      "text/plain": [
       "             alcaldia       eci    c_p                colonia  \\\n",
       "10373  miguel hidalgo  4.152792  11400                popotla   \n",
       "10436  miguel hidalgo  4.152792  16090               xaltocan   \n",
       "10451  miguel hidalgo  4.152792  11370               tlaxpana   \n",
       "10452  miguel hidalgo  4.152792  11370               tlaxpana   \n",
       "10465  miguel hidalgo  4.152792  16450  santa maria nativitas   \n",
       "\n",
       "                                        negocio       categoria  \\\n",
       "10373                locatariopublico_abarrotes          comida   \n",
       "10436  costurera_reparacionesbordadosropamedida            ropa   \n",
       "10451                               chilessecos          comida   \n",
       "10452                                 legumbres          comida   \n",
       "10465                          regalosnovedades  ventaproductos   \n",
       "\n",
       "       porcentaje_infectados  num_empleados  \n",
       "10373                 0.1528              1  \n",
       "10436                 0.2921              2  \n",
       "10451                 0.1573              1  \n",
       "10452                 0.1573              1  \n",
       "10465                 0.2427              2  "
      ],
      "text/html": "<div>\n<style scoped>\n    .dataframe tbody tr th:only-of-type {\n        vertical-align: middle;\n    }\n\n    .dataframe tbody tr th {\n        vertical-align: top;\n    }\n\n    .dataframe thead th {\n        text-align: right;\n    }\n</style>\n<table border=\"1\" class=\"dataframe\">\n  <thead>\n    <tr style=\"text-align: right;\">\n      <th></th>\n      <th>alcaldia</th>\n      <th>eci</th>\n      <th>c_p</th>\n      <th>colonia</th>\n      <th>negocio</th>\n      <th>categoria</th>\n      <th>porcentaje_infectados</th>\n      <th>num_empleados</th>\n    </tr>\n  </thead>\n  <tbody>\n    <tr>\n      <th>10373</th>\n      <td>miguel hidalgo</td>\n      <td>4.152792</td>\n      <td>11400</td>\n      <td>popotla</td>\n      <td>locatariopublico_abarrotes</td>\n      <td>comida</td>\n      <td>0.1528</td>\n      <td>1</td>\n    </tr>\n    <tr>\n      <th>10436</th>\n      <td>miguel hidalgo</td>\n      <td>4.152792</td>\n      <td>16090</td>\n      <td>xaltocan</td>\n      <td>costurera_reparacionesbordadosropamedida</td>\n      <td>ropa</td>\n      <td>0.2921</td>\n      <td>2</td>\n    </tr>\n    <tr>\n      <th>10451</th>\n      <td>miguel hidalgo</td>\n      <td>4.152792</td>\n      <td>11370</td>\n      <td>tlaxpana</td>\n      <td>chilessecos</td>\n      <td>comida</td>\n      <td>0.1573</td>\n      <td>1</td>\n    </tr>\n    <tr>\n      <th>10452</th>\n      <td>miguel hidalgo</td>\n      <td>4.152792</td>\n      <td>11370</td>\n      <td>tlaxpana</td>\n      <td>legumbres</td>\n      <td>comida</td>\n      <td>0.1573</td>\n      <td>1</td>\n    </tr>\n    <tr>\n      <th>10465</th>\n      <td>miguel hidalgo</td>\n      <td>4.152792</td>\n      <td>16450</td>\n      <td>santa maria nativitas</td>\n      <td>regalosnovedades</td>\n      <td>ventaproductos</td>\n      <td>0.2427</td>\n      <td>2</td>\n    </tr>\n  </tbody>\n</table>\n</div>"
     },
     "metadata": {},
     "execution_count": 58
    }
   ],
   "source": [
    "negocios_mh_df.tail()"
   ]
  },
  {
   "cell_type": "code",
   "execution_count": 59,
   "metadata": {},
   "outputs": [],
   "source": [
    "negocios_mh_df.to_csv(data_path+'datasetfinal.csv', index=False)"
   ]
  },
  {
   "cell_type": "code",
   "execution_count": null,
   "metadata": {},
   "outputs": [],
   "source": []
  }
 ]
}