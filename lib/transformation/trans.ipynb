{
 "metadata": {
  "language_info": {
   "codemirror_mode": {
    "name": "ipython",
    "version": 3
   },
   "file_extension": ".py",
   "mimetype": "text/x-python",
   "name": "python",
   "nbconvert_exporter": "python",
   "pygments_lexer": "ipython3",
   "version": "3.8.5-final"
  },
  "orig_nbformat": 2,
  "kernelspec": {
   "name": "python3",
   "display_name": "Python 3",
   "language": "python"
  }
 },
 "nbformat": 4,
 "nbformat_minor": 2,
 "cells": [
  {
   "source": [
    "# Dataset final\n",
    "El objetivo de este notebook es crear el dataset de **productos.csv** el cual contendrá una categorización de los productos/negocios en cada una de las colonias prioritarias. Recordemos que para este punto, **microempresas_clean.csv** ya contiene los negocios de la CDMX que solicitaron apoyo financiero únicamente en las colonias prioritarias. "
   ],
   "cell_type": "markdown",
   "metadata": {}
  },
  {
   "cell_type": "code",
   "execution_count": 435,
   "metadata": {},
   "outputs": [],
   "source": [
    "import pandas as pd\n",
    "data_path = '../../data/'"
   ]
  },
  {
   "cell_type": "code",
   "execution_count": 436,
   "metadata": {},
   "outputs": [],
   "source": [
    "alcaldias_df = pd.read_csv(data_path + 'alcaldias_eci.csv')\n",
    "negocios_df = pd.read_csv(data_path + 'microempresas_clean.csv')\n",
    "colonias_df = pd.read_csv(data_path + 'colonias_prioritarias_clean.csv')"
   ]
  },
  {
   "cell_type": "code",
   "execution_count": 437,
   "metadata": {},
   "outputs": [
    {
     "output_type": "execute_result",
     "data": {
      "text/plain": [
       "                alcaldia       eci\n",
       "0             cuauhtemoc  3.471986\n",
       "1    venustiano carranza  2.501312\n",
       "2           azcapotzalco  3.865509\n",
       "3               coyoacan  2.800526\n",
       "4  cuajimalpa de morelos  3.854617"
      ],
      "text/html": "<div>\n<style scoped>\n    .dataframe tbody tr th:only-of-type {\n        vertical-align: middle;\n    }\n\n    .dataframe tbody tr th {\n        vertical-align: top;\n    }\n\n    .dataframe thead th {\n        text-align: right;\n    }\n</style>\n<table border=\"1\" class=\"dataframe\">\n  <thead>\n    <tr style=\"text-align: right;\">\n      <th></th>\n      <th>alcaldia</th>\n      <th>eci</th>\n    </tr>\n  </thead>\n  <tbody>\n    <tr>\n      <th>0</th>\n      <td>cuauhtemoc</td>\n      <td>3.471986</td>\n    </tr>\n    <tr>\n      <th>1</th>\n      <td>venustiano carranza</td>\n      <td>2.501312</td>\n    </tr>\n    <tr>\n      <th>2</th>\n      <td>azcapotzalco</td>\n      <td>3.865509</td>\n    </tr>\n    <tr>\n      <th>3</th>\n      <td>coyoacan</td>\n      <td>2.800526</td>\n    </tr>\n    <tr>\n      <th>4</th>\n      <td>cuajimalpa de morelos</td>\n      <td>3.854617</td>\n    </tr>\n  </tbody>\n</table>\n</div>"
     },
     "metadata": {},
     "execution_count": 437
    }
   ],
   "source": [
    "alcaldias_df.head()"
   ]
  },
  {
   "cell_type": "code",
   "execution_count": 438,
   "metadata": {},
   "outputs": [
    {
     "output_type": "execute_result",
     "data": {
      "text/plain": [
       "                                 ocupacion        alcaldia   c_p  \\\n",
       "0                          tiendas de ropa  alvaro obregon  1260   \n",
       "1                     tiendas de abarrotes  alvaro obregon  1780   \n",
       "2                     tiendas de abarrotes  alvaro obregon  1780   \n",
       "3                     tiendas de abarrotes  alvaro obregon  1780   \n",
       "4  venta de zapatos y productos de belleza  alvaro obregon  1290   \n",
       "\n",
       "                colonia                                     giro  \\\n",
       "0       calzada jalalpa                          tiendas de ropa   \n",
       "1  olivar de los padres                     tiendas de abarrotes   \n",
       "2  olivar de los padres                     tiendas de abarrotes   \n",
       "3  olivar de los padres                     tiendas de abarrotes   \n",
       "4           presidentes  venta de zapatos y productos de belleza   \n",
       "\n",
       "   num_empleados  \n",
       "0              3  \n",
       "1              0  \n",
       "2              3  \n",
       "3              0  \n",
       "4              0  "
      ],
      "text/html": "<div>\n<style scoped>\n    .dataframe tbody tr th:only-of-type {\n        vertical-align: middle;\n    }\n\n    .dataframe tbody tr th {\n        vertical-align: top;\n    }\n\n    .dataframe thead th {\n        text-align: right;\n    }\n</style>\n<table border=\"1\" class=\"dataframe\">\n  <thead>\n    <tr style=\"text-align: right;\">\n      <th></th>\n      <th>ocupacion</th>\n      <th>alcaldia</th>\n      <th>c_p</th>\n      <th>colonia</th>\n      <th>giro</th>\n      <th>num_empleados</th>\n    </tr>\n  </thead>\n  <tbody>\n    <tr>\n      <th>0</th>\n      <td>tiendas de ropa</td>\n      <td>alvaro obregon</td>\n      <td>1260</td>\n      <td>calzada jalalpa</td>\n      <td>tiendas de ropa</td>\n      <td>3</td>\n    </tr>\n    <tr>\n      <th>1</th>\n      <td>tiendas de abarrotes</td>\n      <td>alvaro obregon</td>\n      <td>1780</td>\n      <td>olivar de los padres</td>\n      <td>tiendas de abarrotes</td>\n      <td>0</td>\n    </tr>\n    <tr>\n      <th>2</th>\n      <td>tiendas de abarrotes</td>\n      <td>alvaro obregon</td>\n      <td>1780</td>\n      <td>olivar de los padres</td>\n      <td>tiendas de abarrotes</td>\n      <td>3</td>\n    </tr>\n    <tr>\n      <th>3</th>\n      <td>tiendas de abarrotes</td>\n      <td>alvaro obregon</td>\n      <td>1780</td>\n      <td>olivar de los padres</td>\n      <td>tiendas de abarrotes</td>\n      <td>0</td>\n    </tr>\n    <tr>\n      <th>4</th>\n      <td>venta de zapatos y productos de belleza</td>\n      <td>alvaro obregon</td>\n      <td>1290</td>\n      <td>presidentes</td>\n      <td>venta de zapatos y productos de belleza</td>\n      <td>0</td>\n    </tr>\n  </tbody>\n</table>\n</div>"
     },
     "metadata": {},
     "execution_count": 438
    }
   ],
   "source": [
    "negocios_df.head()"
   ]
  },
  {
   "cell_type": "code",
   "execution_count": 439,
   "metadata": {},
   "outputs": [
    {
     "output_type": "execute_result",
     "data": {
      "text/plain": [
       "         alcaldia                          colonia  casos_activos  \\\n",
       "0  alvaro obregon                     barrio norte             57   \n",
       "1  alvaro obregon                jalalpa el grande             47   \n",
       "2  alvaro obregon            jardines del pedregal             39   \n",
       "3  alvaro obregon                     merced gomez             48   \n",
       "4  alvaro obregon  olivar del conde 2da seccion ii             37   \n",
       "\n",
       "   poblacion_total  porcentaje_activos    cp  \n",
       "0     14367.414210              0.2562  1410  \n",
       "1     10972.245610              0.2112  1377  \n",
       "2     13817.000000              0.1753  1900  \n",
       "3      6992.834615              0.2157  1600  \n",
       "4      8191.441839              0.1663  1408  "
      ],
      "text/html": "<div>\n<style scoped>\n    .dataframe tbody tr th:only-of-type {\n        vertical-align: middle;\n    }\n\n    .dataframe tbody tr th {\n        vertical-align: top;\n    }\n\n    .dataframe thead th {\n        text-align: right;\n    }\n</style>\n<table border=\"1\" class=\"dataframe\">\n  <thead>\n    <tr style=\"text-align: right;\">\n      <th></th>\n      <th>alcaldia</th>\n      <th>colonia</th>\n      <th>casos_activos</th>\n      <th>poblacion_total</th>\n      <th>porcentaje_activos</th>\n      <th>cp</th>\n    </tr>\n  </thead>\n  <tbody>\n    <tr>\n      <th>0</th>\n      <td>alvaro obregon</td>\n      <td>barrio norte</td>\n      <td>57</td>\n      <td>14367.414210</td>\n      <td>0.2562</td>\n      <td>1410</td>\n    </tr>\n    <tr>\n      <th>1</th>\n      <td>alvaro obregon</td>\n      <td>jalalpa el grande</td>\n      <td>47</td>\n      <td>10972.245610</td>\n      <td>0.2112</td>\n      <td>1377</td>\n    </tr>\n    <tr>\n      <th>2</th>\n      <td>alvaro obregon</td>\n      <td>jardines del pedregal</td>\n      <td>39</td>\n      <td>13817.000000</td>\n      <td>0.1753</td>\n      <td>1900</td>\n    </tr>\n    <tr>\n      <th>3</th>\n      <td>alvaro obregon</td>\n      <td>merced gomez</td>\n      <td>48</td>\n      <td>6992.834615</td>\n      <td>0.2157</td>\n      <td>1600</td>\n    </tr>\n    <tr>\n      <th>4</th>\n      <td>alvaro obregon</td>\n      <td>olivar del conde 2da seccion ii</td>\n      <td>37</td>\n      <td>8191.441839</td>\n      <td>0.1663</td>\n      <td>1408</td>\n    </tr>\n  </tbody>\n</table>\n</div>"
     },
     "metadata": {},
     "execution_count": 439
    }
   ],
   "source": [
    "colonias_df.head()"
   ]
  },
  {
   "source": [
    "## Tomando los negocios en las alcaldias con top 3 ECI"
   ],
   "cell_type": "markdown",
   "metadata": {}
  },
  {
   "cell_type": "code",
   "execution_count": 440,
   "metadata": {},
   "outputs": [
    {
     "output_type": "stream",
     "name": "stdout",
     "text": [
      "['miguel hidalgo', 'azcapotzalco', 'cuajimalpa de morelos']\n"
     ]
    }
   ],
   "source": [
    "top = 3\n",
    "best_alcaldias_eci_df = alcaldias_df.sort_values(by='eci')[::-1].head(top)\n",
    "best_alcaldias = list(best_alcaldias_eci_df.alcaldia)\n",
    "negocios_mh_df = negocios_df[negocios_df.alcaldia.isin(best_alcaldias)]\n",
    "print(best_alcaldias)"
   ]
  },
  {
   "cell_type": "code",
   "execution_count": 441,
   "metadata": {},
   "outputs": [
    {
     "output_type": "stream",
     "name": "stdout",
     "text": [
      "13\n353\n"
     ]
    }
   ],
   "source": [
    "print(len(list(negocios_mh_df.colonia.unique())))\n",
    "print(len(list(negocios_mh_df.ocupacion)))"
   ]
  },
  {
   "cell_type": "code",
   "execution_count": 464,
   "metadata": {},
   "outputs": [
    {
     "output_type": "execute_result",
     "data": {
      "text/plain": [
       "  categoria            negocio\n",
       "0    comida   tiendasabarrotes\n",
       "1    comida           verduras\n",
       "2    comida           cremeria\n",
       "3    comida   casa_expendiopan\n",
       "4    comida          abarrotes"
      ],
      "text/html": "<div>\n<style scoped>\n    .dataframe tbody tr th:only-of-type {\n        vertical-align: middle;\n    }\n\n    .dataframe tbody tr th {\n        vertical-align: top;\n    }\n\n    .dataframe thead th {\n        text-align: right;\n    }\n</style>\n<table border=\"1\" class=\"dataframe\">\n  <thead>\n    <tr style=\"text-align: right;\">\n      <th></th>\n      <th>categoria</th>\n      <th>negocio</th>\n    </tr>\n  </thead>\n  <tbody>\n    <tr>\n      <th>0</th>\n      <td>comida</td>\n      <td>tiendasabarrotes</td>\n    </tr>\n    <tr>\n      <th>1</th>\n      <td>comida</td>\n      <td>verduras</td>\n    </tr>\n    <tr>\n      <th>2</th>\n      <td>comida</td>\n      <td>cremeria</td>\n    </tr>\n    <tr>\n      <th>3</th>\n      <td>comida</td>\n      <td>casa_expendiopan</td>\n    </tr>\n    <tr>\n      <th>4</th>\n      <td>comida</td>\n      <td>abarrotes</td>\n    </tr>\n  </tbody>\n</table>\n</div>"
     },
     "metadata": {},
     "execution_count": 464
    }
   ],
   "source": [
    "categoria_productos_df = pd.read_csv(data_path + 'cat.csv')\n",
    "categoria_productos_df.categoria = categoria_productos_df.categoria.str.lower()\n",
    "categoria_productos_df.head()"
   ]
  },
  {
   "cell_type": "code",
   "execution_count": 496,
   "metadata": {},
   "outputs": [],
   "source": [
    "negocios_ = list(categoria_productos_df.iloc[:, 1])\n",
    "categorias_ = list(categoria_productos_df.iloc[:, 0])\n",
    "cat_prod_dict = dict(zip(negocios_, categorias_))"
   ]
  },
  {
   "cell_type": "code",
   "execution_count": null,
   "metadata": {},
   "outputs": [],
   "source": [
    "categorias = []\n",
    "negocios = []\n",
    "for _, row in negocios_df.iterrows():\n",
    "    "
   ]
  },
  {
   "cell_type": "code",
   "execution_count": null,
   "metadata": {},
   "outputs": [],
   "source": []
  }
 ]
}