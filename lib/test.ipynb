{
 "metadata": {
  "language_info": {
   "codemirror_mode": {
    "name": "ipython",
    "version": 3
   },
   "file_extension": ".py",
   "mimetype": "text/x-python",
   "name": "python",
   "nbconvert_exporter": "python",
   "pygments_lexer": "ipython3",
   "version": "3.8.5-final"
  },
  "orig_nbformat": 2,
  "kernelspec": {
   "name": "python3",
   "display_name": "Python 3",
   "language": "python"
  }
 },
 "nbformat": 4,
 "nbformat_minor": 2,
 "cells": [
  {
   "cell_type": "code",
   "execution_count": 1,
   "metadata": {},
   "outputs": [],
   "source": [
    "import pandas as pd\n",
    "import numpy as np\n",
    "data_path = '../data/'"
   ]
  },
  {
   "cell_type": "code",
   "execution_count": 2,
   "metadata": {},
   "outputs": [],
   "source": [
    "alcaldias_df = pd.read_csv(data_path + 'alcaldias_eci.csv')\n",
    "colonias_df = pd.read_csv(data_path + 'colonias_prioritarias_clean.csv')"
   ]
  },
  {
   "cell_type": "code",
   "execution_count": 3,
   "metadata": {},
   "outputs": [
    {
     "output_type": "execute_result",
     "data": {
      "text/plain": [
       "                  alcaldia       eci\n",
       "0               cuauhtemoc  3.471986\n",
       "1      venustiano carranza  2.501312\n",
       "2             azcapotzalco  3.865509\n",
       "3                 coyoacan  2.800526\n",
       "4    cuajimalpa de morelos  3.854617\n",
       "5        gustavo a. madero  2.680508\n",
       "6                iztacalco  2.944861\n",
       "7               iztapalapa  2.629184\n",
       "8   la magdalena contreras  1.623270\n",
       "9               milpa alta  0.343307\n",
       "10          alvaro obregon  3.818013\n",
       "11                 tlahuac  1.632037\n",
       "12                 tlalpan  2.426480\n",
       "13              xochimilco  1.213572\n",
       "14           benito juarez  3.778215\n",
       "15          miguel hidalgo  4.152792"
      ],
      "text/html": "<div>\n<style scoped>\n    .dataframe tbody tr th:only-of-type {\n        vertical-align: middle;\n    }\n\n    .dataframe tbody tr th {\n        vertical-align: top;\n    }\n\n    .dataframe thead th {\n        text-align: right;\n    }\n</style>\n<table border=\"1\" class=\"dataframe\">\n  <thead>\n    <tr style=\"text-align: right;\">\n      <th></th>\n      <th>alcaldia</th>\n      <th>eci</th>\n    </tr>\n  </thead>\n  <tbody>\n    <tr>\n      <th>0</th>\n      <td>cuauhtemoc</td>\n      <td>3.471986</td>\n    </tr>\n    <tr>\n      <th>1</th>\n      <td>venustiano carranza</td>\n      <td>2.501312</td>\n    </tr>\n    <tr>\n      <th>2</th>\n      <td>azcapotzalco</td>\n      <td>3.865509</td>\n    </tr>\n    <tr>\n      <th>3</th>\n      <td>coyoacan</td>\n      <td>2.800526</td>\n    </tr>\n    <tr>\n      <th>4</th>\n      <td>cuajimalpa de morelos</td>\n      <td>3.854617</td>\n    </tr>\n    <tr>\n      <th>5</th>\n      <td>gustavo a. madero</td>\n      <td>2.680508</td>\n    </tr>\n    <tr>\n      <th>6</th>\n      <td>iztacalco</td>\n      <td>2.944861</td>\n    </tr>\n    <tr>\n      <th>7</th>\n      <td>iztapalapa</td>\n      <td>2.629184</td>\n    </tr>\n    <tr>\n      <th>8</th>\n      <td>la magdalena contreras</td>\n      <td>1.623270</td>\n    </tr>\n    <tr>\n      <th>9</th>\n      <td>milpa alta</td>\n      <td>0.343307</td>\n    </tr>\n    <tr>\n      <th>10</th>\n      <td>alvaro obregon</td>\n      <td>3.818013</td>\n    </tr>\n    <tr>\n      <th>11</th>\n      <td>tlahuac</td>\n      <td>1.632037</td>\n    </tr>\n    <tr>\n      <th>12</th>\n      <td>tlalpan</td>\n      <td>2.426480</td>\n    </tr>\n    <tr>\n      <th>13</th>\n      <td>xochimilco</td>\n      <td>1.213572</td>\n    </tr>\n    <tr>\n      <th>14</th>\n      <td>benito juarez</td>\n      <td>3.778215</td>\n    </tr>\n    <tr>\n      <th>15</th>\n      <td>miguel hidalgo</td>\n      <td>4.152792</td>\n    </tr>\n  </tbody>\n</table>\n</div>"
     },
     "metadata": {},
     "execution_count": 3
    }
   ],
   "source": [
    "alcaldias_df"
   ]
  },
  {
   "cell_type": "code",
   "execution_count": 4,
   "metadata": {},
   "outputs": [
    {
     "output_type": "execute_result",
     "data": {
      "text/plain": [
       "           alcaldia                          colonia  casos_activos  \\\n",
       "0    alvaro obregon                     barrio norte             57   \n",
       "1    alvaro obregon                jalalpa el grande             47   \n",
       "2    alvaro obregon            jardines del pedregal             39   \n",
       "3    alvaro obregon                     merced gomez             48   \n",
       "4    alvaro obregon  olivar del conde 2da seccion ii             37   \n",
       "..              ...                              ...            ...   \n",
       "195      xochimilco     santa cruz xochitepec (pblo)             52   \n",
       "196      xochimilco       santa maria tepepan (pblo)             28   \n",
       "197      xochimilco           san mateo xalpa (pblo)             40   \n",
       "198      xochimilco   santa cecilia tepetlapa (pblo)             39   \n",
       "199      xochimilco                   tepepan (ampl)             29   \n",
       "\n",
       "     poblacion_total  porcentaje_activos  \n",
       "0       14367.414210              0.2562  \n",
       "1       10972.245610              0.2112  \n",
       "2       13817.000000              0.1753  \n",
       "3        6992.834615              0.2157  \n",
       "4        8191.441839              0.1663  \n",
       "..               ...                 ...  \n",
       "195     12078.070950              0.2337  \n",
       "196     15438.743990              0.1258  \n",
       "197     12343.582870              0.1798  \n",
       "198     12066.956920              0.1753  \n",
       "199      7505.606512              0.1303  \n",
       "\n",
       "[200 rows x 5 columns]"
      ],
      "text/html": "<div>\n<style scoped>\n    .dataframe tbody tr th:only-of-type {\n        vertical-align: middle;\n    }\n\n    .dataframe tbody tr th {\n        vertical-align: top;\n    }\n\n    .dataframe thead th {\n        text-align: right;\n    }\n</style>\n<table border=\"1\" class=\"dataframe\">\n  <thead>\n    <tr style=\"text-align: right;\">\n      <th></th>\n      <th>alcaldia</th>\n      <th>colonia</th>\n      <th>casos_activos</th>\n      <th>poblacion_total</th>\n      <th>porcentaje_activos</th>\n    </tr>\n  </thead>\n  <tbody>\n    <tr>\n      <th>0</th>\n      <td>alvaro obregon</td>\n      <td>barrio norte</td>\n      <td>57</td>\n      <td>14367.414210</td>\n      <td>0.2562</td>\n    </tr>\n    <tr>\n      <th>1</th>\n      <td>alvaro obregon</td>\n      <td>jalalpa el grande</td>\n      <td>47</td>\n      <td>10972.245610</td>\n      <td>0.2112</td>\n    </tr>\n    <tr>\n      <th>2</th>\n      <td>alvaro obregon</td>\n      <td>jardines del pedregal</td>\n      <td>39</td>\n      <td>13817.000000</td>\n      <td>0.1753</td>\n    </tr>\n    <tr>\n      <th>3</th>\n      <td>alvaro obregon</td>\n      <td>merced gomez</td>\n      <td>48</td>\n      <td>6992.834615</td>\n      <td>0.2157</td>\n    </tr>\n    <tr>\n      <th>4</th>\n      <td>alvaro obregon</td>\n      <td>olivar del conde 2da seccion ii</td>\n      <td>37</td>\n      <td>8191.441839</td>\n      <td>0.1663</td>\n    </tr>\n    <tr>\n      <th>...</th>\n      <td>...</td>\n      <td>...</td>\n      <td>...</td>\n      <td>...</td>\n      <td>...</td>\n    </tr>\n    <tr>\n      <th>195</th>\n      <td>xochimilco</td>\n      <td>santa cruz xochitepec (pblo)</td>\n      <td>52</td>\n      <td>12078.070950</td>\n      <td>0.2337</td>\n    </tr>\n    <tr>\n      <th>196</th>\n      <td>xochimilco</td>\n      <td>santa maria tepepan (pblo)</td>\n      <td>28</td>\n      <td>15438.743990</td>\n      <td>0.1258</td>\n    </tr>\n    <tr>\n      <th>197</th>\n      <td>xochimilco</td>\n      <td>san mateo xalpa (pblo)</td>\n      <td>40</td>\n      <td>12343.582870</td>\n      <td>0.1798</td>\n    </tr>\n    <tr>\n      <th>198</th>\n      <td>xochimilco</td>\n      <td>santa cecilia tepetlapa (pblo)</td>\n      <td>39</td>\n      <td>12066.956920</td>\n      <td>0.1753</td>\n    </tr>\n    <tr>\n      <th>199</th>\n      <td>xochimilco</td>\n      <td>tepepan (ampl)</td>\n      <td>29</td>\n      <td>7505.606512</td>\n      <td>0.1303</td>\n    </tr>\n  </tbody>\n</table>\n<p>200 rows × 5 columns</p>\n</div>"
     },
     "metadata": {},
     "execution_count": 4
    }
   ],
   "source": [
    "colonias_df"
   ]
  },
  {
   "cell_type": "code",
   "execution_count": 5,
   "metadata": {},
   "outputs": [
    {
     "output_type": "execute_result",
     "data": {
      "text/plain": [
       "['morelos ii', 'miguel hidalgo']"
      ]
     },
     "metadata": {},
     "execution_count": 5
    }
   ],
   "source": [
    "seen = set()\n",
    "repeated = []\n",
    "for col in list(colonias_df.colonia):\n",
    "    if col in seen:\n",
    "        repeated.append(col)\n",
    "        continue\n",
    "    seen.add(col)\n",
    "repeated"
   ]
  },
  {
   "cell_type": "code",
   "execution_count": 6,
   "metadata": {},
   "outputs": [
    {
     "output_type": "execute_result",
     "data": {
      "text/plain": [
       "                alcaldia         colonia  casos_activos  poblacion_total  \\\n",
       "54               tlalpan  miguel hidalgo             65      13276.78689   \n",
       "63   venustiano carranza      morelos ii             38      17867.00000   \n",
       "158           cuauhtemoc      morelos ii             18      12171.00000   \n",
       "182              tlahuac  miguel hidalgo             43      13122.58258   \n",
       "\n",
       "     porcentaje_activos  \n",
       "54               0.2921  \n",
       "63               0.1708  \n",
       "158              0.0809  \n",
       "182              0.1933  "
      ],
      "text/html": "<div>\n<style scoped>\n    .dataframe tbody tr th:only-of-type {\n        vertical-align: middle;\n    }\n\n    .dataframe tbody tr th {\n        vertical-align: top;\n    }\n\n    .dataframe thead th {\n        text-align: right;\n    }\n</style>\n<table border=\"1\" class=\"dataframe\">\n  <thead>\n    <tr style=\"text-align: right;\">\n      <th></th>\n      <th>alcaldia</th>\n      <th>colonia</th>\n      <th>casos_activos</th>\n      <th>poblacion_total</th>\n      <th>porcentaje_activos</th>\n    </tr>\n  </thead>\n  <tbody>\n    <tr>\n      <th>54</th>\n      <td>tlalpan</td>\n      <td>miguel hidalgo</td>\n      <td>65</td>\n      <td>13276.78689</td>\n      <td>0.2921</td>\n    </tr>\n    <tr>\n      <th>63</th>\n      <td>venustiano carranza</td>\n      <td>morelos ii</td>\n      <td>38</td>\n      <td>17867.00000</td>\n      <td>0.1708</td>\n    </tr>\n    <tr>\n      <th>158</th>\n      <td>cuauhtemoc</td>\n      <td>morelos ii</td>\n      <td>18</td>\n      <td>12171.00000</td>\n      <td>0.0809</td>\n    </tr>\n    <tr>\n      <th>182</th>\n      <td>tlahuac</td>\n      <td>miguel hidalgo</td>\n      <td>43</td>\n      <td>13122.58258</td>\n      <td>0.1933</td>\n    </tr>\n  </tbody>\n</table>\n</div>"
     },
     "metadata": {},
     "execution_count": 6
    }
   ],
   "source": [
    "colonias_df[colonias_df.colonia.isin(repeated)]"
   ]
  },
  {
   "cell_type": "code",
   "execution_count": 7,
   "metadata": {},
   "outputs": [],
   "source": [
    "colonias_df.loc[54, 'colonia'] = 'miguel hidalgo - tlal'\n",
    "colonias_df.loc[63, 'colonia'] = 'morelos ii - vc'\n",
    "colonias_df.loc[158, 'colonia'] = 'morelos ii - cu'\n",
    "colonias_df.loc[182, 'colonia'] = 'miguel hidalgo - tlah'"
   ]
  },
  {
   "cell_type": "code",
   "execution_count": 8,
   "metadata": {},
   "outputs": [],
   "source": [
    "colonias_df['cp'] = np.nan"
   ]
  },
  {
   "cell_type": "code",
   "execution_count": 9,
   "metadata": {},
   "outputs": [
    {
     "output_type": "execute_result",
     "data": {
      "text/plain": [
       "         alcaldia                          colonia  casos_activos  \\\n",
       "0  alvaro obregon                     barrio norte             57   \n",
       "1  alvaro obregon                jalalpa el grande             47   \n",
       "2  alvaro obregon            jardines del pedregal             39   \n",
       "3  alvaro obregon                     merced gomez             48   \n",
       "4  alvaro obregon  olivar del conde 2da seccion ii             37   \n",
       "\n",
       "   poblacion_total  porcentaje_activos  cp  \n",
       "0     14367.414210              0.2562 NaN  \n",
       "1     10972.245610              0.2112 NaN  \n",
       "2     13817.000000              0.1753 NaN  \n",
       "3      6992.834615              0.2157 NaN  \n",
       "4      8191.441839              0.1663 NaN  "
      ],
      "text/html": "<div>\n<style scoped>\n    .dataframe tbody tr th:only-of-type {\n        vertical-align: middle;\n    }\n\n    .dataframe tbody tr th {\n        vertical-align: top;\n    }\n\n    .dataframe thead th {\n        text-align: right;\n    }\n</style>\n<table border=\"1\" class=\"dataframe\">\n  <thead>\n    <tr style=\"text-align: right;\">\n      <th></th>\n      <th>alcaldia</th>\n      <th>colonia</th>\n      <th>casos_activos</th>\n      <th>poblacion_total</th>\n      <th>porcentaje_activos</th>\n      <th>cp</th>\n    </tr>\n  </thead>\n  <tbody>\n    <tr>\n      <th>0</th>\n      <td>alvaro obregon</td>\n      <td>barrio norte</td>\n      <td>57</td>\n      <td>14367.414210</td>\n      <td>0.2562</td>\n      <td>NaN</td>\n    </tr>\n    <tr>\n      <th>1</th>\n      <td>alvaro obregon</td>\n      <td>jalalpa el grande</td>\n      <td>47</td>\n      <td>10972.245610</td>\n      <td>0.2112</td>\n      <td>NaN</td>\n    </tr>\n    <tr>\n      <th>2</th>\n      <td>alvaro obregon</td>\n      <td>jardines del pedregal</td>\n      <td>39</td>\n      <td>13817.000000</td>\n      <td>0.1753</td>\n      <td>NaN</td>\n    </tr>\n    <tr>\n      <th>3</th>\n      <td>alvaro obregon</td>\n      <td>merced gomez</td>\n      <td>48</td>\n      <td>6992.834615</td>\n      <td>0.2157</td>\n      <td>NaN</td>\n    </tr>\n    <tr>\n      <th>4</th>\n      <td>alvaro obregon</td>\n      <td>olivar del conde 2da seccion ii</td>\n      <td>37</td>\n      <td>8191.441839</td>\n      <td>0.1663</td>\n      <td>NaN</td>\n    </tr>\n  </tbody>\n</table>\n</div>"
     },
     "metadata": {},
     "execution_count": 9
    }
   ],
   "source": [
    "colonias_df.head()"
   ]
  },
  {
   "cell_type": "code",
   "execution_count": 10,
   "metadata": {},
   "outputs": [
    {
     "output_type": "execute_result",
     "data": {
      "text/plain": [
       "     CP            Estado   Municipio Tipo de Asentamiento  \\\n",
       "0  9830  Ciudad de México  Iztapalapa              Colonia   \n",
       "1  9837  Ciudad de México  Iztapalapa              Colonia   \n",
       "2  9838  Ciudad de México  Iztapalapa              Colonia   \n",
       "3  9839  Ciudad de México  Iztapalapa              Colonia   \n",
       "4  9839  Ciudad de México  Iztapalapa              Colonia   \n",
       "\n",
       "                 Asentamiento  Clave de Oficina  \n",
       "0             Paraje San Juan              9821  \n",
       "1  San Miguel 8va. Ampliación              9821  \n",
       "2              Plan de Iguala              9821  \n",
       "3  Ampliación Paraje San Juan              9821  \n",
       "4               San Juan Joya              9821  "
      ],
      "text/html": "<div>\n<style scoped>\n    .dataframe tbody tr th:only-of-type {\n        vertical-align: middle;\n    }\n\n    .dataframe tbody tr th {\n        vertical-align: top;\n    }\n\n    .dataframe thead th {\n        text-align: right;\n    }\n</style>\n<table border=\"1\" class=\"dataframe\">\n  <thead>\n    <tr style=\"text-align: right;\">\n      <th></th>\n      <th>CP</th>\n      <th>Estado</th>\n      <th>Municipio</th>\n      <th>Tipo de Asentamiento</th>\n      <th>Asentamiento</th>\n      <th>Clave de Oficina</th>\n    </tr>\n  </thead>\n  <tbody>\n    <tr>\n      <th>0</th>\n      <td>9830</td>\n      <td>Ciudad de México</td>\n      <td>Iztapalapa</td>\n      <td>Colonia</td>\n      <td>Paraje San Juan</td>\n      <td>9821</td>\n    </tr>\n    <tr>\n      <th>1</th>\n      <td>9837</td>\n      <td>Ciudad de México</td>\n      <td>Iztapalapa</td>\n      <td>Colonia</td>\n      <td>San Miguel 8va. Ampliación</td>\n      <td>9821</td>\n    </tr>\n    <tr>\n      <th>2</th>\n      <td>9838</td>\n      <td>Ciudad de México</td>\n      <td>Iztapalapa</td>\n      <td>Colonia</td>\n      <td>Plan de Iguala</td>\n      <td>9821</td>\n    </tr>\n    <tr>\n      <th>3</th>\n      <td>9839</td>\n      <td>Ciudad de México</td>\n      <td>Iztapalapa</td>\n      <td>Colonia</td>\n      <td>Ampliación Paraje San Juan</td>\n      <td>9821</td>\n    </tr>\n    <tr>\n      <th>4</th>\n      <td>9839</td>\n      <td>Ciudad de México</td>\n      <td>Iztapalapa</td>\n      <td>Colonia</td>\n      <td>San Juan Joya</td>\n      <td>9821</td>\n    </tr>\n  </tbody>\n</table>\n</div>"
     },
     "metadata": {},
     "execution_count": 10
    }
   ],
   "source": [
    "cp_df = pd.read_csv(data_path + 'codigos_postales.csv')\n",
    "cp_df.head()"
   ]
  },
  {
   "cell_type": "code",
   "execution_count": 11,
   "metadata": {},
   "outputs": [
    {
     "output_type": "execute_result",
     "data": {
      "text/plain": [
       "     CP            Estado   Municipio Tipo de Asentamiento  \\\n",
       "0  9830  Ciudad de México  Iztapalapa              Colonia   \n",
       "1  9837  Ciudad de México  Iztapalapa              Colonia   \n",
       "2  9838  Ciudad de México  Iztapalapa              Colonia   \n",
       "3  9839  Ciudad de México  Iztapalapa              Colonia   \n",
       "4  9839  Ciudad de México  Iztapalapa              Colonia   \n",
       "\n",
       "                 Asentamiento  Clave de Oficina  \n",
       "0             paraje san juan              9821  \n",
       "1  san miguel 8va. ampliación              9821  \n",
       "2              plan de iguala              9821  \n",
       "3  ampliación paraje san juan              9821  \n",
       "4               san juan joya              9821  "
      ],
      "text/html": "<div>\n<style scoped>\n    .dataframe tbody tr th:only-of-type {\n        vertical-align: middle;\n    }\n\n    .dataframe tbody tr th {\n        vertical-align: top;\n    }\n\n    .dataframe thead th {\n        text-align: right;\n    }\n</style>\n<table border=\"1\" class=\"dataframe\">\n  <thead>\n    <tr style=\"text-align: right;\">\n      <th></th>\n      <th>CP</th>\n      <th>Estado</th>\n      <th>Municipio</th>\n      <th>Tipo de Asentamiento</th>\n      <th>Asentamiento</th>\n      <th>Clave de Oficina</th>\n    </tr>\n  </thead>\n  <tbody>\n    <tr>\n      <th>0</th>\n      <td>9830</td>\n      <td>Ciudad de México</td>\n      <td>Iztapalapa</td>\n      <td>Colonia</td>\n      <td>paraje san juan</td>\n      <td>9821</td>\n    </tr>\n    <tr>\n      <th>1</th>\n      <td>9837</td>\n      <td>Ciudad de México</td>\n      <td>Iztapalapa</td>\n      <td>Colonia</td>\n      <td>san miguel 8va. ampliación</td>\n      <td>9821</td>\n    </tr>\n    <tr>\n      <th>2</th>\n      <td>9838</td>\n      <td>Ciudad de México</td>\n      <td>Iztapalapa</td>\n      <td>Colonia</td>\n      <td>plan de iguala</td>\n      <td>9821</td>\n    </tr>\n    <tr>\n      <th>3</th>\n      <td>9839</td>\n      <td>Ciudad de México</td>\n      <td>Iztapalapa</td>\n      <td>Colonia</td>\n      <td>ampliación paraje san juan</td>\n      <td>9821</td>\n    </tr>\n    <tr>\n      <th>4</th>\n      <td>9839</td>\n      <td>Ciudad de México</td>\n      <td>Iztapalapa</td>\n      <td>Colonia</td>\n      <td>san juan joya</td>\n      <td>9821</td>\n    </tr>\n  </tbody>\n</table>\n</div>"
     },
     "metadata": {},
     "execution_count": 11
    }
   ],
   "source": [
    "cp_df.Asentamiento = cp_df.Asentamiento.str.lower()\n",
    "cp_df.head()"
   ]
  },
  {
   "cell_type": "code",
   "execution_count": 12,
   "metadata": {},
   "outputs": [],
   "source": [
    "from collections import Counter\n",
    "def should_be_equal(word1, word2, per=0.4):\n",
    "    s1 = word1.lower().replace(' ', '').replace('(', '').replace(')', '').replace('.','')\n",
    "    s2 = word2.lower().replace(' ', '').replace('(', '').replace(')', '').replace('.','')\n",
    "    max_len = max(len(s1), len(s2))\n",
    "    sum_ = 0\n",
    "    if s1[0] == s2[0]:\n",
    "        for i in range(min(len(s1), len(s2))):\n",
    "            if s1[i] == s2[i]:\n",
    "                sum_ += 1\n",
    "    #print(sum_, len(s1), len(s2), max_len, s1, s2, int(max_len*per))\n",
    "    if max_len - sum_ <= int(max_len*per):\n",
    "        return True \n",
    "    return False"
   ]
  },
  {
   "cell_type": "code",
   "execution_count": 13,
   "metadata": {},
   "outputs": [
    {
     "output_type": "execute_result",
     "data": {
      "text/plain": [
       "False"
      ]
     },
     "metadata": {},
     "execution_count": 13
    }
   ],
   "source": [
    "s1 = 'barrio norte'\n",
    "s2 = 'centro (área 5)'\n",
    "should_be_equal(s1, s2)"
   ]
  },
  {
   "cell_type": "code",
   "execution_count": 14,
   "metadata": {},
   "outputs": [],
   "source": [
    "found_col = dict()\n",
    "for _, rowCol in colonias_df.iterrows():\n",
    "    colonia = rowCol.colonia\n",
    "    col_alcaldia = rowCol.alcaldia\n",
    "    if colonia not in found_col:\n",
    "        found_col[(colonia, col_alcaldia)] = []\n",
    "    for _, row in cp_df.iterrows():\n",
    "        asentamiento = row.Asentamiento\n",
    "        cp = row.CP\n",
    "        alcaldia = row.Municipio\n",
    "        if should_be_equal(colonia, asentamiento) and len(col_alcaldia) == len(alcaldia):\n",
    "            found_col[(colonia, col_alcaldia)].append((asentamiento, alcaldia, cp))"
   ]
  },
  {
   "cell_type": "code",
   "execution_count": 15,
   "metadata": {},
   "outputs": [],
   "source": [
    "for _, row in colonias_df.iterrows():\n",
    "    tup = (row.colonia, row.alcaldia)\n",
    "    if tup in found_col.keys():\n",
    "        if len(found_col[tup]) > 0:\n",
    "            colonias_df.loc[colonias_df.colonia == row.colonia, 'cp'] = str(int(found_col[tup][0][2]))"
   ]
  },
  {
   "cell_type": "code",
   "execution_count": 16,
   "metadata": {},
   "outputs": [],
   "source": [
    "colonias_df.loc[57\t , 'cp'] = '14250'\n",
    "colonias_df.loc[191 , 'cp'] = '14250'\n",
    "colonias_df.loc[38\t , 'cp'] = '11320'\n",
    "colonias_df.loc[108 , 'cp'] = '11320'\n",
    "colonias_df.loc[127 , 'cp'] = '16090'\n",
    "colonias_df.loc[94\t , 'cp'] = '7960'\n",
    "colonias_df.loc[64\t , 'cp'] = '15640'\n",
    "colonias_df.loc[40\t , 'cp'] = '11800'\n",
    "colonias_df.loc[121 , 'cp'] = '15000'\n",
    "colonias_df.loc[47\t , 'cp'] = '13360'\n",
    "colonias_df.loc[111 , 'cp'] = '13360'\n",
    "colonias_df.loc[95\t , 'cp'] = '7140'\n",
    "colonias_df.loc[100 , 'cp'] = '9910'\n",
    "colonias_df.loc[158 , 'cp'] = '6200'\n",
    "colonias_df.loc[63\t , 'cp'] = '15270'\n",
    "colonias_df.loc[143 , 'cp'] = '3600'\n",
    "colonias_df.loc[80\t , 'cp'] = '5219'\n",
    "colonias_df.loc[162 , 'cp'] = '8100'\n",
    "colonias_df.loc[56\t , 'cp'] = '14100'\n",
    "colonias_df.loc[59\t , 'cp'] = '14100'\n",
    "colonias_df.loc[61\t , 'cp'] = '14100'\n",
    "colonias_df.loc[79\t , 'cp'] = '4369'\n",
    "colonias_df.loc[10\t , 'cp'] = '4369'\n",
    "colonias_df.loc[76\t , 'cp'] = '4369'\n",
    "colonias_df.loc[146 , 'cp'] = '04369'\n",
    "colonias_df.loc[13\t , 'cp'] = '04369'\n",
    "colonias_df.loc[149 , 'cp'] = '04369'\n",
    "colonias_df.loc[51\t , 'cp'] = '13099'\n",
    "colonias_df.loc[42\t , 'cp'] = '12100'\n",
    "colonias_df.loc[173 , 'cp'] = '10400'\n",
    "colonias_df.loc[114 , 'cp'] = '13000'\n",
    "colonias_df.loc[46\t , 'cp'] = '13310'\n",
    "colonias_df.loc[43\t , 'cp'] = '12400'\n",
    "colonias_df.loc[110 , 'cp'] = '12200'\n",
    "colonias_df.loc[180 , 'cp'] = '13070'\n",
    "colonias_df.loc[194 , 'cp'] = '16700'\n",
    "colonias_df.loc[181 , 'cp'] = '13300'\n",
    "colonias_df.loc[50\t , 'cp'] = '13420'\n",
    "colonias_df.loc[140 , 'cp'] = '3310'\n",
    "colonias_df.loc[199 , 'cp'] = '16029'\n",
    "colonias_df.loc[129 , 'cp'] = '1090'\n",
    "colonias_df.loc[184 , 'cp'] = '13300'"
   ]
  },
  {
   "cell_type": "code",
   "execution_count": 17,
   "metadata": {},
   "outputs": [
    {
     "output_type": "execute_result",
     "data": {
      "text/plain": [
       "         alcaldia                          colonia  casos_activos  \\\n",
       "0  alvaro obregon                     barrio norte             57   \n",
       "1  alvaro obregon                jalalpa el grande             47   \n",
       "2  alvaro obregon            jardines del pedregal             39   \n",
       "3  alvaro obregon                     merced gomez             48   \n",
       "4  alvaro obregon  olivar del conde 2da seccion ii             37   \n",
       "\n",
       "   poblacion_total  porcentaje_activos    cp  \n",
       "0     14367.414210              0.2562  1410  \n",
       "1     10972.245610              0.2112  1377  \n",
       "2     13817.000000              0.1753  1900  \n",
       "3      6992.834615              0.2157  1600  \n",
       "4      8191.441839              0.1663  1408  "
      ],
      "text/html": "<div>\n<style scoped>\n    .dataframe tbody tr th:only-of-type {\n        vertical-align: middle;\n    }\n\n    .dataframe tbody tr th {\n        vertical-align: top;\n    }\n\n    .dataframe thead th {\n        text-align: right;\n    }\n</style>\n<table border=\"1\" class=\"dataframe\">\n  <thead>\n    <tr style=\"text-align: right;\">\n      <th></th>\n      <th>alcaldia</th>\n      <th>colonia</th>\n      <th>casos_activos</th>\n      <th>poblacion_total</th>\n      <th>porcentaje_activos</th>\n      <th>cp</th>\n    </tr>\n  </thead>\n  <tbody>\n    <tr>\n      <th>0</th>\n      <td>alvaro obregon</td>\n      <td>barrio norte</td>\n      <td>57</td>\n      <td>14367.414210</td>\n      <td>0.2562</td>\n      <td>1410</td>\n    </tr>\n    <tr>\n      <th>1</th>\n      <td>alvaro obregon</td>\n      <td>jalalpa el grande</td>\n      <td>47</td>\n      <td>10972.245610</td>\n      <td>0.2112</td>\n      <td>1377</td>\n    </tr>\n    <tr>\n      <th>2</th>\n      <td>alvaro obregon</td>\n      <td>jardines del pedregal</td>\n      <td>39</td>\n      <td>13817.000000</td>\n      <td>0.1753</td>\n      <td>1900</td>\n    </tr>\n    <tr>\n      <th>3</th>\n      <td>alvaro obregon</td>\n      <td>merced gomez</td>\n      <td>48</td>\n      <td>6992.834615</td>\n      <td>0.2157</td>\n      <td>1600</td>\n    </tr>\n    <tr>\n      <th>4</th>\n      <td>alvaro obregon</td>\n      <td>olivar del conde 2da seccion ii</td>\n      <td>37</td>\n      <td>8191.441839</td>\n      <td>0.1663</td>\n      <td>1408</td>\n    </tr>\n  </tbody>\n</table>\n</div>"
     },
     "metadata": {},
     "execution_count": 17
    }
   ],
   "source": [
    "colonias_df.head()"
   ]
  },
  {
   "cell_type": "code",
   "execution_count": 18,
   "metadata": {},
   "outputs": [],
   "source": [
    "colonias_df.to_csv(data_path + 'colonias_prioritarias_clean.csv', index=False)"
   ]
  },
  {
   "cell_type": "code",
   "execution_count": 2,
   "metadata": {},
   "outputs": [
    {
     "output_type": "execute_result",
     "data": {
      "text/plain": [
       "(200, 6)"
      ]
     },
     "metadata": {},
     "execution_count": 2
    }
   ],
   "source": [
    "colonias_cdmx_df = pd.read_csv(data_path + 'colonias_prioritarias_clean.csv')\n",
    "colonias_cdmx_df.shape"
   ]
  },
  {
   "cell_type": "code",
   "execution_count": null,
   "metadata": {},
   "outputs": [],
   "source": []
  }
 ]
}