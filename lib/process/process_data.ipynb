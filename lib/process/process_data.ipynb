{
 "metadata": {
  "language_info": {
   "codemirror_mode": {
    "name": "ipython",
    "version": 3
   },
   "file_extension": ".py",
   "mimetype": "text/x-python",
   "name": "python",
   "nbconvert_exporter": "python",
   "pygments_lexer": "ipython3",
   "version": "3.8.5-final"
  },
  "orig_nbformat": 2,
  "kernelspec": {
   "name": "python3",
   "display_name": "Python 3",
   "language": "python"
  }
 },
 "nbformat": 4,
 "nbformat_minor": 2,
 "cells": [
  {
   "source": [
    "# Procesamiento de datos"
   ],
   "cell_type": "markdown",
   "metadata": {}
  },
  {
   "cell_type": "code",
   "execution_count": 292,
   "metadata": {},
   "outputs": [],
   "source": [
    "import pandas as pd\n",
    "import numpy as np\n",
    "import networkx as nx\n",
    "import plotly.express as px\n",
    "import matplotlib.pyplot as plt\n",
    "data_path = '../../data/'"
   ]
  },
  {
   "source": [
    "## Exploración de datos"
   ],
   "cell_type": "markdown",
   "metadata": {}
  },
  {
   "cell_type": "code",
   "execution_count": 293,
   "metadata": {},
   "outputs": [
    {
     "output_type": "execute_result",
     "data": {
      "text/plain": [
       "       alcaldia       eci    c_p             colonia         negocio  \\\n",
       "0  azcapotzalco  3.865509  13530  jaime torres bodet  zapatosbelleza   \n",
       "1  azcapotzalco  3.865509   2100          el rosario  manufacturados   \n",
       "2  azcapotzalco  3.865509   2459           tezozomoc      antojerias   \n",
       "3  azcapotzalco  3.865509   6720            doctores      fotografia   \n",
       "4  azcapotzalco  3.865509   2459           tezozomoc        catalogo   \n",
       "\n",
       "         categoria  porcentaje_infectados  num_empleados  \n",
       "0  arreglosgeneral                 0.1978              2  \n",
       "1        industria                 0.1573              0  \n",
       "2     restaurantes                 0.1303              3  \n",
       "3       fotografia                 0.1169              3  \n",
       "4   ventaproductos                 0.1303              2  "
      ],
      "text/html": "<div>\n<style scoped>\n    .dataframe tbody tr th:only-of-type {\n        vertical-align: middle;\n    }\n\n    .dataframe tbody tr th {\n        vertical-align: top;\n    }\n\n    .dataframe thead th {\n        text-align: right;\n    }\n</style>\n<table border=\"1\" class=\"dataframe\">\n  <thead>\n    <tr style=\"text-align: right;\">\n      <th></th>\n      <th>alcaldia</th>\n      <th>eci</th>\n      <th>c_p</th>\n      <th>colonia</th>\n      <th>negocio</th>\n      <th>categoria</th>\n      <th>porcentaje_infectados</th>\n      <th>num_empleados</th>\n    </tr>\n  </thead>\n  <tbody>\n    <tr>\n      <th>0</th>\n      <td>azcapotzalco</td>\n      <td>3.865509</td>\n      <td>13530</td>\n      <td>jaime torres bodet</td>\n      <td>zapatosbelleza</td>\n      <td>arreglosgeneral</td>\n      <td>0.1978</td>\n      <td>2</td>\n    </tr>\n    <tr>\n      <th>1</th>\n      <td>azcapotzalco</td>\n      <td>3.865509</td>\n      <td>2100</td>\n      <td>el rosario</td>\n      <td>manufacturados</td>\n      <td>industria</td>\n      <td>0.1573</td>\n      <td>0</td>\n    </tr>\n    <tr>\n      <th>2</th>\n      <td>azcapotzalco</td>\n      <td>3.865509</td>\n      <td>2459</td>\n      <td>tezozomoc</td>\n      <td>antojerias</td>\n      <td>restaurantes</td>\n      <td>0.1303</td>\n      <td>3</td>\n    </tr>\n    <tr>\n      <th>3</th>\n      <td>azcapotzalco</td>\n      <td>3.865509</td>\n      <td>6720</td>\n      <td>doctores</td>\n      <td>fotografia</td>\n      <td>fotografia</td>\n      <td>0.1169</td>\n      <td>3</td>\n    </tr>\n    <tr>\n      <th>4</th>\n      <td>azcapotzalco</td>\n      <td>3.865509</td>\n      <td>2459</td>\n      <td>tezozomoc</td>\n      <td>catalogo</td>\n      <td>ventaproductos</td>\n      <td>0.1303</td>\n      <td>2</td>\n    </tr>\n  </tbody>\n</table>\n</div>"
     },
     "metadata": {},
     "execution_count": 293
    }
   ],
   "source": [
    "df = pd.read_csv(data_path + 'datasetfinal.csv')\n",
    "df.head()"
   ]
  },
  {
   "cell_type": "code",
   "execution_count": 294,
   "metadata": {},
   "outputs": [
    {
     "output_type": "stream",
     "name": "stdout",
     "text": [
      "13 13\n332\n"
     ]
    }
   ],
   "source": [
    "num_colonias = len(df.colonia.unique())\n",
    "num_productos = len(df.categoria.unique())\n",
    "print(num_colonias, num_productos)\n",
    "print(df.shape[0])"
   ]
  },
  {
   "cell_type": "code",
   "execution_count": 295,
   "metadata": {},
   "outputs": [
    {
     "output_type": "display_data",
     "data": {
      "application/vnd.plotly.v1+json": {
       "config": {
        "plotlyServerURL": "https://plot.ly"
       },
       "data": [
        {
         "alignmentgroup": "True",
         "bingroup": "x",
         "hovertemplate": "colonia=%{x}<br>count=%{y}<extra></extra>",
         "legendgroup": "",
         "marker": {
          "color": "#636efa"
         },
         "name": "",
         "offsetgroup": "",
         "orientation": "v",
         "showlegend": false,
         "type": "histogram",
         "x": [
          "jaime torres bodet",
          "el rosario",
          "tezozomoc",
          "doctores",
          "tezozomoc",
          "el rosario",
          "el rosario",
          "olivar del conde 1a seccin",
          "campamento 2 de octubre",
          "popotla",
          "tlaxpana",
          "popotla",
          "escandon",
          "tlaxpana",
          "popotla",
          "tlaxpana",
          "tlaxpana",
          "popotla",
          "tlaxpana",
          "tlaxpana",
          "tlaxpana",
          "tlaxpana",
          "tlaxpana",
          "tlaxpana",
          "escandon",
          "escandon",
          "escandon",
          "escandon",
          "escandon",
          "popotla",
          "popotla",
          "popotla",
          "popotla",
          "popotla",
          "tlaxpana",
          "san martin xochinahuac",
          "san martin xochinahuac",
          "san martin xochinahuac",
          "popotla",
          "el rosario",
          "popotla",
          "san juan tlihuaca",
          "popotla",
          "san juan tlihuaca",
          "el rosario",
          "el rosario",
          "san martin xochinahuac",
          "tezozomoc",
          "popotla",
          "tlaxpana",
          "san martin xochinahuac",
          "popotla",
          "el rosario",
          "el rosario",
          "popotla",
          "san martin xochinahuac",
          "san juan tlihuaca",
          "san juan tlihuaca",
          "san juan tlihuaca",
          "san juan tlihuaca",
          "tezozomoc",
          "el rosario",
          "san martin xochinahuac",
          "el rosario",
          "san juan tlihuaca",
          "tlaxpana",
          "tlaxpana",
          "popotla",
          "tlaxpana",
          "el rosario",
          "tezozomoc",
          "tezozomoc",
          "san juan tlihuaca",
          "san juan tlihuaca",
          "san martin xochinahuac",
          "el rosario",
          "el rosario",
          "tezozomoc",
          "tezozomoc",
          "el rosario",
          "popotla",
          "tlaxpana",
          "san martin xochinahuac",
          "tezozomoc",
          "san martin xochinahuac",
          "el rosario",
          "tlaxpana",
          "tlaxpana",
          "san juan tlihuaca",
          "popotla",
          "el rosario",
          "san martin xochinahuac",
          "tezozomoc",
          "popotla",
          "san juan tlihuaca",
          "el rosario",
          "tlaxpana",
          "popotla",
          "el rosario",
          "san juan tlihuaca",
          "tezozomoc",
          "tezozomoc",
          "tlaxpana",
          "el rosario",
          "el rosario",
          "el rosario",
          "san juan tlihuaca",
          "san martin xochinahuac",
          "el rosario",
          "san juan tlihuaca",
          "popotla",
          "tlaxpana",
          "san martin xochinahuac",
          "san martin xochinahuac",
          "el rosario",
          "el rosario",
          "san martin xochinahuac",
          "san martin xochinahuac",
          "san juan tlihuaca",
          "popotla",
          "el rosario",
          "san juan tlihuaca",
          "popotla",
          "el rosario",
          "tlaxpana",
          "san juan tlihuaca",
          "tezozomoc",
          "tlaxpana",
          "popotla",
          "el rosario",
          "popotla",
          "tezozomoc",
          "tezozomoc",
          "tlaxpana",
          "tlaxpana",
          "san martin xochinahuac",
          "san martin xochinahuac",
          "el rosario",
          "san juan tlihuaca",
          "san martin xochinahuac",
          "tlaxpana",
          "tlaxpana",
          "popotla",
          "tezozomoc",
          "el rosario",
          "el rosario",
          "san martin xochinahuac",
          "tlaxpana",
          "tezozomoc",
          "popotla",
          "popotla",
          "san juan tlihuaca",
          "tlaxpana",
          "tlaxpana",
          "popotla",
          "popotla",
          "tlaxpana",
          "tlaxpana",
          "san martin xochinahuac",
          "san martin xochinahuac",
          "el rosario",
          "san juan tlihuaca",
          "tezozomoc",
          "san juan tlihuaca",
          "el rosario",
          "san juan tlihuaca",
          "tezozomoc",
          "san juan tlihuaca",
          "tezozomoc",
          "tezozomoc",
          "el rosario",
          "popotla",
          "tlaxpana",
          "san juan tlihuaca",
          "tezozomoc",
          "tezozomoc",
          "san juan tlihuaca",
          "san juan tlihuaca",
          "tezozomoc",
          "popotla",
          "tlaxpana",
          "popotla",
          "popotla",
          "popotla",
          "popotla",
          "el rosario",
          "san juan tlihuaca",
          "el rosario",
          "tezozomoc",
          "san juan tlihuaca",
          "san juan tlihuaca",
          "el rosario",
          "tlaxpana",
          "tezozomoc",
          "san martin xochinahuac",
          "san martin xochinahuac",
          "tlaxpana",
          "tlaxpana",
          "tlaxpana",
          "el rosario",
          "popotla",
          "tlaxpana",
          "el rosario",
          "popotla",
          "el rosario",
          "san martin xochinahuac",
          "san martin xochinahuac",
          "san martin xochinahuac",
          "popotla",
          "san martin xochinahuac",
          "el rosario",
          "el rosario",
          "san martin xochinahuac",
          "tezozomoc",
          "el rosario",
          "san juan tlihuaca",
          "tlaxpana",
          "tlaxpana",
          "san martin xochinahuac",
          "el rosario",
          "san martin xochinahuac",
          "el rosario",
          "el rosario",
          "el rosario",
          "tezozomoc",
          "san juan tlihuaca",
          "san martin xochinahuac",
          "tlaxpana",
          "san juan tlihuaca",
          "popotla",
          "san martin xochinahuac",
          "el rosario",
          "san juan tlihuaca",
          "popotla",
          "san martin xochinahuac",
          "san juan tlihuaca",
          "popotla",
          "tezozomoc",
          "san martin xochinahuac",
          "popotla",
          "tlaxpana",
          "tlaxpana",
          "tezozomoc",
          "el rosario",
          "san martin xochinahuac",
          "popotla",
          "san martin xochinahuac",
          "san juan tlihuaca",
          "san martin xochinahuac",
          "san martin xochinahuac",
          "san juan tlihuaca",
          "san juan tlihuaca",
          "san juan tlihuaca",
          "san juan tlihuaca",
          "tlaxpana",
          "el rosario",
          "el rosario",
          "el rosario",
          "el rosario",
          "popotla",
          "el rosario",
          "el rosario",
          "san juan tlihuaca",
          "san juan tlihuaca",
          "san juan tlihuaca",
          "tlaxpana",
          "el rosario",
          "tlaxpana",
          "tlaxpana",
          "tlaxpana",
          "tlaxpana",
          "tlaxpana",
          "tlaxpana",
          "tlaxpana",
          "tlaxpana",
          "tlaxpana",
          "tlaxpana",
          "tlaxpana",
          "tlaxpana",
          "tlaxpana",
          "tlaxpana",
          "popotla",
          "tlaxpana",
          "tlaxpana",
          "tlaxpana",
          "tlaxpana",
          "tlaxpana",
          "tlaxpana",
          "san juan tlihuaca",
          "tlaxpana",
          "tlaxpana",
          "tlaxpana",
          "tlaxpana",
          "popotla",
          "tlaxpana",
          "tlaxpana",
          "popotla",
          "popotla",
          "popotla",
          "tezozomoc",
          "tlaxpana",
          "popotla",
          "popotla",
          "popotla",
          "popotla",
          "popotla",
          "san juan tlihuaca",
          "san juan tlihuaca",
          "san juan tlihuaca",
          "san juan tlihuaca",
          "san juan tlihuaca",
          "san martin xochinahuac",
          "san martin xochinahuac",
          "san juan tlihuaca",
          "san juan tlihuaca",
          "san juan tlihuaca",
          "tezozomoc",
          "san juan tlihuaca",
          "san juan tlihuaca",
          "san juan tlihuaca",
          "san juan tlihuaca",
          "el rosario",
          "popotla",
          "popotla",
          "popotla",
          "popotla",
          "tlaxpana",
          "popotla",
          "xaltocan",
          "tlaxpana",
          "tlaxpana",
          "santa maria nativitas"
         ],
         "xaxis": "x",
         "yaxis": "y"
        }
       ],
       "layout": {
        "barmode": "relative",
        "legend": {
         "tracegroupgap": 0
        },
        "margin": {
         "t": 60
        },
        "template": {
         "data": {
          "bar": [
           {
            "error_x": {
             "color": "#2a3f5f"
            },
            "error_y": {
             "color": "#2a3f5f"
            },
            "marker": {
             "line": {
              "color": "#E5ECF6",
              "width": 0.5
             }
            },
            "type": "bar"
           }
          ],
          "barpolar": [
           {
            "marker": {
             "line": {
              "color": "#E5ECF6",
              "width": 0.5
             }
            },
            "type": "barpolar"
           }
          ],
          "carpet": [
           {
            "aaxis": {
             "endlinecolor": "#2a3f5f",
             "gridcolor": "white",
             "linecolor": "white",
             "minorgridcolor": "white",
             "startlinecolor": "#2a3f5f"
            },
            "baxis": {
             "endlinecolor": "#2a3f5f",
             "gridcolor": "white",
             "linecolor": "white",
             "minorgridcolor": "white",
             "startlinecolor": "#2a3f5f"
            },
            "type": "carpet"
           }
          ],
          "choropleth": [
           {
            "colorbar": {
             "outlinewidth": 0,
             "ticks": ""
            },
            "type": "choropleth"
           }
          ],
          "contour": [
           {
            "colorbar": {
             "outlinewidth": 0,
             "ticks": ""
            },
            "colorscale": [
             [
              0,
              "#0d0887"
             ],
             [
              0.1111111111111111,
              "#46039f"
             ],
             [
              0.2222222222222222,
              "#7201a8"
             ],
             [
              0.3333333333333333,
              "#9c179e"
             ],
             [
              0.4444444444444444,
              "#bd3786"
             ],
             [
              0.5555555555555556,
              "#d8576b"
             ],
             [
              0.6666666666666666,
              "#ed7953"
             ],
             [
              0.7777777777777778,
              "#fb9f3a"
             ],
             [
              0.8888888888888888,
              "#fdca26"
             ],
             [
              1,
              "#f0f921"
             ]
            ],
            "type": "contour"
           }
          ],
          "contourcarpet": [
           {
            "colorbar": {
             "outlinewidth": 0,
             "ticks": ""
            },
            "type": "contourcarpet"
           }
          ],
          "heatmap": [
           {
            "colorbar": {
             "outlinewidth": 0,
             "ticks": ""
            },
            "colorscale": [
             [
              0,
              "#0d0887"
             ],
             [
              0.1111111111111111,
              "#46039f"
             ],
             [
              0.2222222222222222,
              "#7201a8"
             ],
             [
              0.3333333333333333,
              "#9c179e"
             ],
             [
              0.4444444444444444,
              "#bd3786"
             ],
             [
              0.5555555555555556,
              "#d8576b"
             ],
             [
              0.6666666666666666,
              "#ed7953"
             ],
             [
              0.7777777777777778,
              "#fb9f3a"
             ],
             [
              0.8888888888888888,
              "#fdca26"
             ],
             [
              1,
              "#f0f921"
             ]
            ],
            "type": "heatmap"
           }
          ],
          "heatmapgl": [
           {
            "colorbar": {
             "outlinewidth": 0,
             "ticks": ""
            },
            "colorscale": [
             [
              0,
              "#0d0887"
             ],
             [
              0.1111111111111111,
              "#46039f"
             ],
             [
              0.2222222222222222,
              "#7201a8"
             ],
             [
              0.3333333333333333,
              "#9c179e"
             ],
             [
              0.4444444444444444,
              "#bd3786"
             ],
             [
              0.5555555555555556,
              "#d8576b"
             ],
             [
              0.6666666666666666,
              "#ed7953"
             ],
             [
              0.7777777777777778,
              "#fb9f3a"
             ],
             [
              0.8888888888888888,
              "#fdca26"
             ],
             [
              1,
              "#f0f921"
             ]
            ],
            "type": "heatmapgl"
           }
          ],
          "histogram": [
           {
            "marker": {
             "colorbar": {
              "outlinewidth": 0,
              "ticks": ""
             }
            },
            "type": "histogram"
           }
          ],
          "histogram2d": [
           {
            "colorbar": {
             "outlinewidth": 0,
             "ticks": ""
            },
            "colorscale": [
             [
              0,
              "#0d0887"
             ],
             [
              0.1111111111111111,
              "#46039f"
             ],
             [
              0.2222222222222222,
              "#7201a8"
             ],
             [
              0.3333333333333333,
              "#9c179e"
             ],
             [
              0.4444444444444444,
              "#bd3786"
             ],
             [
              0.5555555555555556,
              "#d8576b"
             ],
             [
              0.6666666666666666,
              "#ed7953"
             ],
             [
              0.7777777777777778,
              "#fb9f3a"
             ],
             [
              0.8888888888888888,
              "#fdca26"
             ],
             [
              1,
              "#f0f921"
             ]
            ],
            "type": "histogram2d"
           }
          ],
          "histogram2dcontour": [
           {
            "colorbar": {
             "outlinewidth": 0,
             "ticks": ""
            },
            "colorscale": [
             [
              0,
              "#0d0887"
             ],
             [
              0.1111111111111111,
              "#46039f"
             ],
             [
              0.2222222222222222,
              "#7201a8"
             ],
             [
              0.3333333333333333,
              "#9c179e"
             ],
             [
              0.4444444444444444,
              "#bd3786"
             ],
             [
              0.5555555555555556,
              "#d8576b"
             ],
             [
              0.6666666666666666,
              "#ed7953"
             ],
             [
              0.7777777777777778,
              "#fb9f3a"
             ],
             [
              0.8888888888888888,
              "#fdca26"
             ],
             [
              1,
              "#f0f921"
             ]
            ],
            "type": "histogram2dcontour"
           }
          ],
          "mesh3d": [
           {
            "colorbar": {
             "outlinewidth": 0,
             "ticks": ""
            },
            "type": "mesh3d"
           }
          ],
          "parcoords": [
           {
            "line": {
             "colorbar": {
              "outlinewidth": 0,
              "ticks": ""
             }
            },
            "type": "parcoords"
           }
          ],
          "pie": [
           {
            "automargin": true,
            "type": "pie"
           }
          ],
          "scatter": [
           {
            "marker": {
             "colorbar": {
              "outlinewidth": 0,
              "ticks": ""
             }
            },
            "type": "scatter"
           }
          ],
          "scatter3d": [
           {
            "line": {
             "colorbar": {
              "outlinewidth": 0,
              "ticks": ""
             }
            },
            "marker": {
             "colorbar": {
              "outlinewidth": 0,
              "ticks": ""
             }
            },
            "type": "scatter3d"
           }
          ],
          "scattercarpet": [
           {
            "marker": {
             "colorbar": {
              "outlinewidth": 0,
              "ticks": ""
             }
            },
            "type": "scattercarpet"
           }
          ],
          "scattergeo": [
           {
            "marker": {
             "colorbar": {
              "outlinewidth": 0,
              "ticks": ""
             }
            },
            "type": "scattergeo"
           }
          ],
          "scattergl": [
           {
            "marker": {
             "colorbar": {
              "outlinewidth": 0,
              "ticks": ""
             }
            },
            "type": "scattergl"
           }
          ],
          "scattermapbox": [
           {
            "marker": {
             "colorbar": {
              "outlinewidth": 0,
              "ticks": ""
             }
            },
            "type": "scattermapbox"
           }
          ],
          "scatterpolar": [
           {
            "marker": {
             "colorbar": {
              "outlinewidth": 0,
              "ticks": ""
             }
            },
            "type": "scatterpolar"
           }
          ],
          "scatterpolargl": [
           {
            "marker": {
             "colorbar": {
              "outlinewidth": 0,
              "ticks": ""
             }
            },
            "type": "scatterpolargl"
           }
          ],
          "scatterternary": [
           {
            "marker": {
             "colorbar": {
              "outlinewidth": 0,
              "ticks": ""
             }
            },
            "type": "scatterternary"
           }
          ],
          "surface": [
           {
            "colorbar": {
             "outlinewidth": 0,
             "ticks": ""
            },
            "colorscale": [
             [
              0,
              "#0d0887"
             ],
             [
              0.1111111111111111,
              "#46039f"
             ],
             [
              0.2222222222222222,
              "#7201a8"
             ],
             [
              0.3333333333333333,
              "#9c179e"
             ],
             [
              0.4444444444444444,
              "#bd3786"
             ],
             [
              0.5555555555555556,
              "#d8576b"
             ],
             [
              0.6666666666666666,
              "#ed7953"
             ],
             [
              0.7777777777777778,
              "#fb9f3a"
             ],
             [
              0.8888888888888888,
              "#fdca26"
             ],
             [
              1,
              "#f0f921"
             ]
            ],
            "type": "surface"
           }
          ],
          "table": [
           {
            "cells": {
             "fill": {
              "color": "#EBF0F8"
             },
             "line": {
              "color": "white"
             }
            },
            "header": {
             "fill": {
              "color": "#C8D4E3"
             },
             "line": {
              "color": "white"
             }
            },
            "type": "table"
           }
          ]
         },
         "layout": {
          "annotationdefaults": {
           "arrowcolor": "#2a3f5f",
           "arrowhead": 0,
           "arrowwidth": 1
          },
          "autotypenumbers": "strict",
          "coloraxis": {
           "colorbar": {
            "outlinewidth": 0,
            "ticks": ""
           }
          },
          "colorscale": {
           "diverging": [
            [
             0,
             "#8e0152"
            ],
            [
             0.1,
             "#c51b7d"
            ],
            [
             0.2,
             "#de77ae"
            ],
            [
             0.3,
             "#f1b6da"
            ],
            [
             0.4,
             "#fde0ef"
            ],
            [
             0.5,
             "#f7f7f7"
            ],
            [
             0.6,
             "#e6f5d0"
            ],
            [
             0.7,
             "#b8e186"
            ],
            [
             0.8,
             "#7fbc41"
            ],
            [
             0.9,
             "#4d9221"
            ],
            [
             1,
             "#276419"
            ]
           ],
           "sequential": [
            [
             0,
             "#0d0887"
            ],
            [
             0.1111111111111111,
             "#46039f"
            ],
            [
             0.2222222222222222,
             "#7201a8"
            ],
            [
             0.3333333333333333,
             "#9c179e"
            ],
            [
             0.4444444444444444,
             "#bd3786"
            ],
            [
             0.5555555555555556,
             "#d8576b"
            ],
            [
             0.6666666666666666,
             "#ed7953"
            ],
            [
             0.7777777777777778,
             "#fb9f3a"
            ],
            [
             0.8888888888888888,
             "#fdca26"
            ],
            [
             1,
             "#f0f921"
            ]
           ],
           "sequentialminus": [
            [
             0,
             "#0d0887"
            ],
            [
             0.1111111111111111,
             "#46039f"
            ],
            [
             0.2222222222222222,
             "#7201a8"
            ],
            [
             0.3333333333333333,
             "#9c179e"
            ],
            [
             0.4444444444444444,
             "#bd3786"
            ],
            [
             0.5555555555555556,
             "#d8576b"
            ],
            [
             0.6666666666666666,
             "#ed7953"
            ],
            [
             0.7777777777777778,
             "#fb9f3a"
            ],
            [
             0.8888888888888888,
             "#fdca26"
            ],
            [
             1,
             "#f0f921"
            ]
           ]
          },
          "colorway": [
           "#636efa",
           "#EF553B",
           "#00cc96",
           "#ab63fa",
           "#FFA15A",
           "#19d3f3",
           "#FF6692",
           "#B6E880",
           "#FF97FF",
           "#FECB52"
          ],
          "font": {
           "color": "#2a3f5f"
          },
          "geo": {
           "bgcolor": "white",
           "lakecolor": "white",
           "landcolor": "#E5ECF6",
           "showlakes": true,
           "showland": true,
           "subunitcolor": "white"
          },
          "hoverlabel": {
           "align": "left"
          },
          "hovermode": "closest",
          "mapbox": {
           "style": "light"
          },
          "paper_bgcolor": "white",
          "plot_bgcolor": "#E5ECF6",
          "polar": {
           "angularaxis": {
            "gridcolor": "white",
            "linecolor": "white",
            "ticks": ""
           },
           "bgcolor": "#E5ECF6",
           "radialaxis": {
            "gridcolor": "white",
            "linecolor": "white",
            "ticks": ""
           }
          },
          "scene": {
           "xaxis": {
            "backgroundcolor": "#E5ECF6",
            "gridcolor": "white",
            "gridwidth": 2,
            "linecolor": "white",
            "showbackground": true,
            "ticks": "",
            "zerolinecolor": "white"
           },
           "yaxis": {
            "backgroundcolor": "#E5ECF6",
            "gridcolor": "white",
            "gridwidth": 2,
            "linecolor": "white",
            "showbackground": true,
            "ticks": "",
            "zerolinecolor": "white"
           },
           "zaxis": {
            "backgroundcolor": "#E5ECF6",
            "gridcolor": "white",
            "gridwidth": 2,
            "linecolor": "white",
            "showbackground": true,
            "ticks": "",
            "zerolinecolor": "white"
           }
          },
          "shapedefaults": {
           "line": {
            "color": "#2a3f5f"
           }
          },
          "ternary": {
           "aaxis": {
            "gridcolor": "white",
            "linecolor": "white",
            "ticks": ""
           },
           "baxis": {
            "gridcolor": "white",
            "linecolor": "white",
            "ticks": ""
           },
           "bgcolor": "#E5ECF6",
           "caxis": {
            "gridcolor": "white",
            "linecolor": "white",
            "ticks": ""
           }
          },
          "title": {
           "x": 0.05
          },
          "xaxis": {
           "automargin": true,
           "gridcolor": "white",
           "linecolor": "white",
           "ticks": "",
           "title": {
            "standoff": 15
           },
           "zerolinecolor": "white",
           "zerolinewidth": 2
          },
          "yaxis": {
           "automargin": true,
           "gridcolor": "white",
           "linecolor": "white",
           "ticks": "",
           "title": {
            "standoff": 15
           },
           "zerolinecolor": "white",
           "zerolinewidth": 2
          }
         }
        },
        "title": {
         "text": "Cantidad de productos por colonia"
        },
        "xaxis": {
         "anchor": "y",
         "domain": [
          0,
          1
         ],
         "title": {
          "text": "colonia"
         }
        },
        "yaxis": {
         "anchor": "x",
         "domain": [
          0,
          1
         ],
         "title": {
          "text": "count"
         }
        }
       }
      }
     },
     "metadata": {}
    }
   ],
   "source": [
    "fig = px.histogram(df, x='colonia')\n",
    "fig.update_layout(\n",
    "    title=dict(\n",
    "        text='Cantidad de productos por colonia'\n",
    "    )\n",
    ")\n",
    "fig.show()"
   ]
  },
  {
   "cell_type": "code",
   "execution_count": 296,
   "metadata": {},
   "outputs": [
    {
     "output_type": "display_data",
     "data": {
      "application/vnd.plotly.v1+json": {
       "config": {
        "plotlyServerURL": "https://plot.ly"
       },
       "data": [
        {
         "alignmentgroup": "True",
         "bingroup": "x",
         "hovertemplate": "eci=3.8655088585<br>alcaldia=%{x}<br>count=%{y}<extra></extra>",
         "legendgroup": "3.8655088585",
         "marker": {
          "color": "#636efa"
         },
         "name": "3.8655088585",
         "offsetgroup": "3.8655088585",
         "orientation": "v",
         "showlegend": true,
         "type": "histogram",
         "x": [
          "azcapotzalco",
          "azcapotzalco",
          "azcapotzalco",
          "azcapotzalco",
          "azcapotzalco",
          "azcapotzalco",
          "azcapotzalco",
          "azcapotzalco",
          "azcapotzalco",
          "azcapotzalco",
          "azcapotzalco",
          "azcapotzalco",
          "azcapotzalco",
          "azcapotzalco",
          "azcapotzalco",
          "azcapotzalco",
          "azcapotzalco",
          "azcapotzalco",
          "azcapotzalco",
          "azcapotzalco",
          "azcapotzalco",
          "azcapotzalco",
          "azcapotzalco",
          "azcapotzalco",
          "azcapotzalco",
          "azcapotzalco",
          "azcapotzalco",
          "azcapotzalco",
          "azcapotzalco",
          "azcapotzalco",
          "azcapotzalco",
          "azcapotzalco",
          "azcapotzalco",
          "azcapotzalco",
          "azcapotzalco",
          "azcapotzalco",
          "azcapotzalco",
          "azcapotzalco",
          "azcapotzalco",
          "azcapotzalco",
          "azcapotzalco",
          "azcapotzalco",
          "azcapotzalco",
          "azcapotzalco",
          "azcapotzalco",
          "azcapotzalco",
          "azcapotzalco",
          "azcapotzalco",
          "azcapotzalco",
          "azcapotzalco",
          "azcapotzalco",
          "azcapotzalco",
          "azcapotzalco",
          "azcapotzalco",
          "azcapotzalco",
          "azcapotzalco",
          "azcapotzalco",
          "azcapotzalco",
          "azcapotzalco",
          "azcapotzalco",
          "azcapotzalco",
          "azcapotzalco",
          "azcapotzalco",
          "azcapotzalco",
          "azcapotzalco",
          "azcapotzalco",
          "azcapotzalco",
          "azcapotzalco",
          "azcapotzalco",
          "azcapotzalco",
          "azcapotzalco",
          "azcapotzalco",
          "azcapotzalco",
          "azcapotzalco",
          "azcapotzalco",
          "azcapotzalco",
          "azcapotzalco",
          "azcapotzalco",
          "azcapotzalco",
          "azcapotzalco",
          "azcapotzalco",
          "azcapotzalco",
          "azcapotzalco",
          "azcapotzalco",
          "azcapotzalco",
          "azcapotzalco",
          "azcapotzalco",
          "azcapotzalco",
          "azcapotzalco",
          "azcapotzalco",
          "azcapotzalco",
          "azcapotzalco",
          "azcapotzalco",
          "azcapotzalco",
          "azcapotzalco",
          "azcapotzalco",
          "azcapotzalco",
          "azcapotzalco",
          "azcapotzalco",
          "azcapotzalco",
          "azcapotzalco",
          "azcapotzalco",
          "azcapotzalco",
          "azcapotzalco",
          "azcapotzalco",
          "azcapotzalco",
          "azcapotzalco",
          "azcapotzalco",
          "azcapotzalco",
          "azcapotzalco",
          "azcapotzalco",
          "azcapotzalco",
          "azcapotzalco",
          "azcapotzalco",
          "azcapotzalco",
          "azcapotzalco",
          "azcapotzalco",
          "azcapotzalco",
          "azcapotzalco",
          "azcapotzalco",
          "azcapotzalco",
          "azcapotzalco",
          "azcapotzalco",
          "azcapotzalco",
          "azcapotzalco",
          "azcapotzalco",
          "azcapotzalco",
          "azcapotzalco",
          "azcapotzalco",
          "azcapotzalco",
          "azcapotzalco",
          "azcapotzalco",
          "azcapotzalco",
          "azcapotzalco",
          "azcapotzalco",
          "azcapotzalco",
          "azcapotzalco",
          "azcapotzalco",
          "azcapotzalco",
          "azcapotzalco",
          "azcapotzalco",
          "azcapotzalco",
          "azcapotzalco",
          "azcapotzalco",
          "azcapotzalco",
          "azcapotzalco",
          "azcapotzalco",
          "azcapotzalco",
          "azcapotzalco",
          "azcapotzalco",
          "azcapotzalco",
          "azcapotzalco",
          "azcapotzalco",
          "azcapotzalco",
          "azcapotzalco",
          "azcapotzalco",
          "azcapotzalco",
          "azcapotzalco",
          "azcapotzalco",
          "azcapotzalco",
          "azcapotzalco",
          "azcapotzalco",
          "azcapotzalco",
          "azcapotzalco",
          "azcapotzalco",
          "azcapotzalco",
          "azcapotzalco",
          "azcapotzalco",
          "azcapotzalco",
          "azcapotzalco",
          "azcapotzalco",
          "azcapotzalco",
          "azcapotzalco",
          "azcapotzalco",
          "azcapotzalco",
          "azcapotzalco",
          "azcapotzalco",
          "azcapotzalco",
          "azcapotzalco",
          "azcapotzalco",
          "azcapotzalco",
          "azcapotzalco",
          "azcapotzalco",
          "azcapotzalco",
          "azcapotzalco",
          "azcapotzalco"
         ],
         "xaxis": "x",
         "yaxis": "y"
        },
        {
         "alignmentgroup": "True",
         "bingroup": "x",
         "hovertemplate": "eci=3.854616836<br>alcaldia=%{x}<br>count=%{y}<extra></extra>",
         "legendgroup": "3.854616836",
         "marker": {
          "color": "#EF553B"
         },
         "name": "3.854616836",
         "offsetgroup": "3.854616836",
         "orientation": "v",
         "showlegend": true,
         "type": "histogram",
         "x": [
          "cuajimalpa de morelos",
          "cuajimalpa de morelos"
         ],
         "xaxis": "x",
         "yaxis": "y"
        },
        {
         "alignmentgroup": "True",
         "bingroup": "x",
         "hovertemplate": "eci=4.1527924151<br>alcaldia=%{x}<br>count=%{y}<extra></extra>",
         "legendgroup": "4.1527924151",
         "marker": {
          "color": "#00cc96"
         },
         "name": "4.1527924151",
         "offsetgroup": "4.1527924151",
         "orientation": "v",
         "showlegend": true,
         "type": "histogram",
         "x": [
          "miguel hidalgo",
          "miguel hidalgo",
          "miguel hidalgo",
          "miguel hidalgo",
          "miguel hidalgo",
          "miguel hidalgo",
          "miguel hidalgo",
          "miguel hidalgo",
          "miguel hidalgo",
          "miguel hidalgo",
          "miguel hidalgo",
          "miguel hidalgo",
          "miguel hidalgo",
          "miguel hidalgo",
          "miguel hidalgo",
          "miguel hidalgo",
          "miguel hidalgo",
          "miguel hidalgo",
          "miguel hidalgo",
          "miguel hidalgo",
          "miguel hidalgo",
          "miguel hidalgo",
          "miguel hidalgo",
          "miguel hidalgo",
          "miguel hidalgo",
          "miguel hidalgo",
          "miguel hidalgo",
          "miguel hidalgo",
          "miguel hidalgo",
          "miguel hidalgo",
          "miguel hidalgo",
          "miguel hidalgo",
          "miguel hidalgo",
          "miguel hidalgo",
          "miguel hidalgo",
          "miguel hidalgo",
          "miguel hidalgo",
          "miguel hidalgo",
          "miguel hidalgo",
          "miguel hidalgo",
          "miguel hidalgo",
          "miguel hidalgo",
          "miguel hidalgo",
          "miguel hidalgo",
          "miguel hidalgo",
          "miguel hidalgo",
          "miguel hidalgo",
          "miguel hidalgo",
          "miguel hidalgo",
          "miguel hidalgo",
          "miguel hidalgo",
          "miguel hidalgo",
          "miguel hidalgo",
          "miguel hidalgo",
          "miguel hidalgo",
          "miguel hidalgo",
          "miguel hidalgo",
          "miguel hidalgo",
          "miguel hidalgo",
          "miguel hidalgo",
          "miguel hidalgo",
          "miguel hidalgo",
          "miguel hidalgo",
          "miguel hidalgo",
          "miguel hidalgo",
          "miguel hidalgo",
          "miguel hidalgo",
          "miguel hidalgo",
          "miguel hidalgo",
          "miguel hidalgo",
          "miguel hidalgo",
          "miguel hidalgo",
          "miguel hidalgo",
          "miguel hidalgo",
          "miguel hidalgo",
          "miguel hidalgo",
          "miguel hidalgo",
          "miguel hidalgo",
          "miguel hidalgo",
          "miguel hidalgo",
          "miguel hidalgo",
          "miguel hidalgo",
          "miguel hidalgo",
          "miguel hidalgo",
          "miguel hidalgo",
          "miguel hidalgo",
          "miguel hidalgo",
          "miguel hidalgo",
          "miguel hidalgo",
          "miguel hidalgo",
          "miguel hidalgo",
          "miguel hidalgo",
          "miguel hidalgo",
          "miguel hidalgo",
          "miguel hidalgo",
          "miguel hidalgo",
          "miguel hidalgo",
          "miguel hidalgo",
          "miguel hidalgo",
          "miguel hidalgo",
          "miguel hidalgo",
          "miguel hidalgo",
          "miguel hidalgo",
          "miguel hidalgo",
          "miguel hidalgo",
          "miguel hidalgo",
          "miguel hidalgo",
          "miguel hidalgo",
          "miguel hidalgo",
          "miguel hidalgo",
          "miguel hidalgo",
          "miguel hidalgo",
          "miguel hidalgo",
          "miguel hidalgo",
          "miguel hidalgo",
          "miguel hidalgo",
          "miguel hidalgo",
          "miguel hidalgo",
          "miguel hidalgo",
          "miguel hidalgo",
          "miguel hidalgo",
          "miguel hidalgo",
          "miguel hidalgo",
          "miguel hidalgo",
          "miguel hidalgo",
          "miguel hidalgo",
          "miguel hidalgo",
          "miguel hidalgo",
          "miguel hidalgo",
          "miguel hidalgo",
          "miguel hidalgo",
          "miguel hidalgo",
          "miguel hidalgo",
          "miguel hidalgo",
          "miguel hidalgo",
          "miguel hidalgo",
          "miguel hidalgo",
          "miguel hidalgo",
          "miguel hidalgo",
          "miguel hidalgo",
          "miguel hidalgo",
          "miguel hidalgo",
          "miguel hidalgo",
          "miguel hidalgo"
         ],
         "xaxis": "x",
         "yaxis": "y"
        }
       ],
       "layout": {
        "barmode": "relative",
        "legend": {
         "title": {
          "text": "eci"
         },
         "tracegroupgap": 0
        },
        "margin": {
         "t": 60
        },
        "template": {
         "data": {
          "bar": [
           {
            "error_x": {
             "color": "#2a3f5f"
            },
            "error_y": {
             "color": "#2a3f5f"
            },
            "marker": {
             "line": {
              "color": "#E5ECF6",
              "width": 0.5
             }
            },
            "type": "bar"
           }
          ],
          "barpolar": [
           {
            "marker": {
             "line": {
              "color": "#E5ECF6",
              "width": 0.5
             }
            },
            "type": "barpolar"
           }
          ],
          "carpet": [
           {
            "aaxis": {
             "endlinecolor": "#2a3f5f",
             "gridcolor": "white",
             "linecolor": "white",
             "minorgridcolor": "white",
             "startlinecolor": "#2a3f5f"
            },
            "baxis": {
             "endlinecolor": "#2a3f5f",
             "gridcolor": "white",
             "linecolor": "white",
             "minorgridcolor": "white",
             "startlinecolor": "#2a3f5f"
            },
            "type": "carpet"
           }
          ],
          "choropleth": [
           {
            "colorbar": {
             "outlinewidth": 0,
             "ticks": ""
            },
            "type": "choropleth"
           }
          ],
          "contour": [
           {
            "colorbar": {
             "outlinewidth": 0,
             "ticks": ""
            },
            "colorscale": [
             [
              0,
              "#0d0887"
             ],
             [
              0.1111111111111111,
              "#46039f"
             ],
             [
              0.2222222222222222,
              "#7201a8"
             ],
             [
              0.3333333333333333,
              "#9c179e"
             ],
             [
              0.4444444444444444,
              "#bd3786"
             ],
             [
              0.5555555555555556,
              "#d8576b"
             ],
             [
              0.6666666666666666,
              "#ed7953"
             ],
             [
              0.7777777777777778,
              "#fb9f3a"
             ],
             [
              0.8888888888888888,
              "#fdca26"
             ],
             [
              1,
              "#f0f921"
             ]
            ],
            "type": "contour"
           }
          ],
          "contourcarpet": [
           {
            "colorbar": {
             "outlinewidth": 0,
             "ticks": ""
            },
            "type": "contourcarpet"
           }
          ],
          "heatmap": [
           {
            "colorbar": {
             "outlinewidth": 0,
             "ticks": ""
            },
            "colorscale": [
             [
              0,
              "#0d0887"
             ],
             [
              0.1111111111111111,
              "#46039f"
             ],
             [
              0.2222222222222222,
              "#7201a8"
             ],
             [
              0.3333333333333333,
              "#9c179e"
             ],
             [
              0.4444444444444444,
              "#bd3786"
             ],
             [
              0.5555555555555556,
              "#d8576b"
             ],
             [
              0.6666666666666666,
              "#ed7953"
             ],
             [
              0.7777777777777778,
              "#fb9f3a"
             ],
             [
              0.8888888888888888,
              "#fdca26"
             ],
             [
              1,
              "#f0f921"
             ]
            ],
            "type": "heatmap"
           }
          ],
          "heatmapgl": [
           {
            "colorbar": {
             "outlinewidth": 0,
             "ticks": ""
            },
            "colorscale": [
             [
              0,
              "#0d0887"
             ],
             [
              0.1111111111111111,
              "#46039f"
             ],
             [
              0.2222222222222222,
              "#7201a8"
             ],
             [
              0.3333333333333333,
              "#9c179e"
             ],
             [
              0.4444444444444444,
              "#bd3786"
             ],
             [
              0.5555555555555556,
              "#d8576b"
             ],
             [
              0.6666666666666666,
              "#ed7953"
             ],
             [
              0.7777777777777778,
              "#fb9f3a"
             ],
             [
              0.8888888888888888,
              "#fdca26"
             ],
             [
              1,
              "#f0f921"
             ]
            ],
            "type": "heatmapgl"
           }
          ],
          "histogram": [
           {
            "marker": {
             "colorbar": {
              "outlinewidth": 0,
              "ticks": ""
             }
            },
            "type": "histogram"
           }
          ],
          "histogram2d": [
           {
            "colorbar": {
             "outlinewidth": 0,
             "ticks": ""
            },
            "colorscale": [
             [
              0,
              "#0d0887"
             ],
             [
              0.1111111111111111,
              "#46039f"
             ],
             [
              0.2222222222222222,
              "#7201a8"
             ],
             [
              0.3333333333333333,
              "#9c179e"
             ],
             [
              0.4444444444444444,
              "#bd3786"
             ],
             [
              0.5555555555555556,
              "#d8576b"
             ],
             [
              0.6666666666666666,
              "#ed7953"
             ],
             [
              0.7777777777777778,
              "#fb9f3a"
             ],
             [
              0.8888888888888888,
              "#fdca26"
             ],
             [
              1,
              "#f0f921"
             ]
            ],
            "type": "histogram2d"
           }
          ],
          "histogram2dcontour": [
           {
            "colorbar": {
             "outlinewidth": 0,
             "ticks": ""
            },
            "colorscale": [
             [
              0,
              "#0d0887"
             ],
             [
              0.1111111111111111,
              "#46039f"
             ],
             [
              0.2222222222222222,
              "#7201a8"
             ],
             [
              0.3333333333333333,
              "#9c179e"
             ],
             [
              0.4444444444444444,
              "#bd3786"
             ],
             [
              0.5555555555555556,
              "#d8576b"
             ],
             [
              0.6666666666666666,
              "#ed7953"
             ],
             [
              0.7777777777777778,
              "#fb9f3a"
             ],
             [
              0.8888888888888888,
              "#fdca26"
             ],
             [
              1,
              "#f0f921"
             ]
            ],
            "type": "histogram2dcontour"
           }
          ],
          "mesh3d": [
           {
            "colorbar": {
             "outlinewidth": 0,
             "ticks": ""
            },
            "type": "mesh3d"
           }
          ],
          "parcoords": [
           {
            "line": {
             "colorbar": {
              "outlinewidth": 0,
              "ticks": ""
             }
            },
            "type": "parcoords"
           }
          ],
          "pie": [
           {
            "automargin": true,
            "type": "pie"
           }
          ],
          "scatter": [
           {
            "marker": {
             "colorbar": {
              "outlinewidth": 0,
              "ticks": ""
             }
            },
            "type": "scatter"
           }
          ],
          "scatter3d": [
           {
            "line": {
             "colorbar": {
              "outlinewidth": 0,
              "ticks": ""
             }
            },
            "marker": {
             "colorbar": {
              "outlinewidth": 0,
              "ticks": ""
             }
            },
            "type": "scatter3d"
           }
          ],
          "scattercarpet": [
           {
            "marker": {
             "colorbar": {
              "outlinewidth": 0,
              "ticks": ""
             }
            },
            "type": "scattercarpet"
           }
          ],
          "scattergeo": [
           {
            "marker": {
             "colorbar": {
              "outlinewidth": 0,
              "ticks": ""
             }
            },
            "type": "scattergeo"
           }
          ],
          "scattergl": [
           {
            "marker": {
             "colorbar": {
              "outlinewidth": 0,
              "ticks": ""
             }
            },
            "type": "scattergl"
           }
          ],
          "scattermapbox": [
           {
            "marker": {
             "colorbar": {
              "outlinewidth": 0,
              "ticks": ""
             }
            },
            "type": "scattermapbox"
           }
          ],
          "scatterpolar": [
           {
            "marker": {
             "colorbar": {
              "outlinewidth": 0,
              "ticks": ""
             }
            },
            "type": "scatterpolar"
           }
          ],
          "scatterpolargl": [
           {
            "marker": {
             "colorbar": {
              "outlinewidth": 0,
              "ticks": ""
             }
            },
            "type": "scatterpolargl"
           }
          ],
          "scatterternary": [
           {
            "marker": {
             "colorbar": {
              "outlinewidth": 0,
              "ticks": ""
             }
            },
            "type": "scatterternary"
           }
          ],
          "surface": [
           {
            "colorbar": {
             "outlinewidth": 0,
             "ticks": ""
            },
            "colorscale": [
             [
              0,
              "#0d0887"
             ],
             [
              0.1111111111111111,
              "#46039f"
             ],
             [
              0.2222222222222222,
              "#7201a8"
             ],
             [
              0.3333333333333333,
              "#9c179e"
             ],
             [
              0.4444444444444444,
              "#bd3786"
             ],
             [
              0.5555555555555556,
              "#d8576b"
             ],
             [
              0.6666666666666666,
              "#ed7953"
             ],
             [
              0.7777777777777778,
              "#fb9f3a"
             ],
             [
              0.8888888888888888,
              "#fdca26"
             ],
             [
              1,
              "#f0f921"
             ]
            ],
            "type": "surface"
           }
          ],
          "table": [
           {
            "cells": {
             "fill": {
              "color": "#EBF0F8"
             },
             "line": {
              "color": "white"
             }
            },
            "header": {
             "fill": {
              "color": "#C8D4E3"
             },
             "line": {
              "color": "white"
             }
            },
            "type": "table"
           }
          ]
         },
         "layout": {
          "annotationdefaults": {
           "arrowcolor": "#2a3f5f",
           "arrowhead": 0,
           "arrowwidth": 1
          },
          "autotypenumbers": "strict",
          "coloraxis": {
           "colorbar": {
            "outlinewidth": 0,
            "ticks": ""
           }
          },
          "colorscale": {
           "diverging": [
            [
             0,
             "#8e0152"
            ],
            [
             0.1,
             "#c51b7d"
            ],
            [
             0.2,
             "#de77ae"
            ],
            [
             0.3,
             "#f1b6da"
            ],
            [
             0.4,
             "#fde0ef"
            ],
            [
             0.5,
             "#f7f7f7"
            ],
            [
             0.6,
             "#e6f5d0"
            ],
            [
             0.7,
             "#b8e186"
            ],
            [
             0.8,
             "#7fbc41"
            ],
            [
             0.9,
             "#4d9221"
            ],
            [
             1,
             "#276419"
            ]
           ],
           "sequential": [
            [
             0,
             "#0d0887"
            ],
            [
             0.1111111111111111,
             "#46039f"
            ],
            [
             0.2222222222222222,
             "#7201a8"
            ],
            [
             0.3333333333333333,
             "#9c179e"
            ],
            [
             0.4444444444444444,
             "#bd3786"
            ],
            [
             0.5555555555555556,
             "#d8576b"
            ],
            [
             0.6666666666666666,
             "#ed7953"
            ],
            [
             0.7777777777777778,
             "#fb9f3a"
            ],
            [
             0.8888888888888888,
             "#fdca26"
            ],
            [
             1,
             "#f0f921"
            ]
           ],
           "sequentialminus": [
            [
             0,
             "#0d0887"
            ],
            [
             0.1111111111111111,
             "#46039f"
            ],
            [
             0.2222222222222222,
             "#7201a8"
            ],
            [
             0.3333333333333333,
             "#9c179e"
            ],
            [
             0.4444444444444444,
             "#bd3786"
            ],
            [
             0.5555555555555556,
             "#d8576b"
            ],
            [
             0.6666666666666666,
             "#ed7953"
            ],
            [
             0.7777777777777778,
             "#fb9f3a"
            ],
            [
             0.8888888888888888,
             "#fdca26"
            ],
            [
             1,
             "#f0f921"
            ]
           ]
          },
          "colorway": [
           "#636efa",
           "#EF553B",
           "#00cc96",
           "#ab63fa",
           "#FFA15A",
           "#19d3f3",
           "#FF6692",
           "#B6E880",
           "#FF97FF",
           "#FECB52"
          ],
          "font": {
           "color": "#2a3f5f"
          },
          "geo": {
           "bgcolor": "white",
           "lakecolor": "white",
           "landcolor": "#E5ECF6",
           "showlakes": true,
           "showland": true,
           "subunitcolor": "white"
          },
          "hoverlabel": {
           "align": "left"
          },
          "hovermode": "closest",
          "mapbox": {
           "style": "light"
          },
          "paper_bgcolor": "white",
          "plot_bgcolor": "#E5ECF6",
          "polar": {
           "angularaxis": {
            "gridcolor": "white",
            "linecolor": "white",
            "ticks": ""
           },
           "bgcolor": "#E5ECF6",
           "radialaxis": {
            "gridcolor": "white",
            "linecolor": "white",
            "ticks": ""
           }
          },
          "scene": {
           "xaxis": {
            "backgroundcolor": "#E5ECF6",
            "gridcolor": "white",
            "gridwidth": 2,
            "linecolor": "white",
            "showbackground": true,
            "ticks": "",
            "zerolinecolor": "white"
           },
           "yaxis": {
            "backgroundcolor": "#E5ECF6",
            "gridcolor": "white",
            "gridwidth": 2,
            "linecolor": "white",
            "showbackground": true,
            "ticks": "",
            "zerolinecolor": "white"
           },
           "zaxis": {
            "backgroundcolor": "#E5ECF6",
            "gridcolor": "white",
            "gridwidth": 2,
            "linecolor": "white",
            "showbackground": true,
            "ticks": "",
            "zerolinecolor": "white"
           }
          },
          "shapedefaults": {
           "line": {
            "color": "#2a3f5f"
           }
          },
          "ternary": {
           "aaxis": {
            "gridcolor": "white",
            "linecolor": "white",
            "ticks": ""
           },
           "baxis": {
            "gridcolor": "white",
            "linecolor": "white",
            "ticks": ""
           },
           "bgcolor": "#E5ECF6",
           "caxis": {
            "gridcolor": "white",
            "linecolor": "white",
            "ticks": ""
           }
          },
          "title": {
           "x": 0.05
          },
          "xaxis": {
           "automargin": true,
           "gridcolor": "white",
           "linecolor": "white",
           "ticks": "",
           "title": {
            "standoff": 15
           },
           "zerolinecolor": "white",
           "zerolinewidth": 2
          },
          "yaxis": {
           "automargin": true,
           "gridcolor": "white",
           "linecolor": "white",
           "ticks": "",
           "title": {
            "standoff": 15
           },
           "zerolinecolor": "white",
           "zerolinewidth": 2
          }
         }
        },
        "title": {
         "text": "Cantidad de productos por alcaldia con ECI"
        },
        "xaxis": {
         "anchor": "y",
         "domain": [
          0,
          1
         ],
         "title": {
          "text": "alcaldia"
         }
        },
        "yaxis": {
         "anchor": "x",
         "domain": [
          0,
          1
         ],
         "title": {
          "text": "count"
         }
        }
       }
      }
     },
     "metadata": {}
    }
   ],
   "source": [
    "fig = px.histogram(df, x='alcaldia', color='eci')\n",
    "fig.update_layout(\n",
    "    title=dict(\n",
    "        text='Cantidad de productos por alcaldia con ECI'\n",
    "    )\n",
    ")\n",
    "fig.show()"
   ]
  },
  {
   "cell_type": "code",
   "execution_count": 297,
   "metadata": {},
   "outputs": [
    {
     "output_type": "display_data",
     "data": {
      "application/vnd.plotly.v1+json": {
       "config": {
        "plotlyServerURL": "https://plot.ly"
       },
       "data": [
        {
         "alignmentgroup": "True",
         "bingroup": "x",
         "hovertemplate": "categoria=arreglosgeneral<br>colonia=%{x}<br>count=%{y}<extra></extra>",
         "legendgroup": "arreglosgeneral",
         "marker": {
          "color": "#636efa"
         },
         "name": "arreglosgeneral",
         "offsetgroup": "arreglosgeneral",
         "orientation": "v",
         "showlegend": true,
         "type": "histogram",
         "x": [
          "jaime torres bodet",
          "popotla",
          "popotla",
          "tezozomoc",
          "san juan tlihuaca",
          "san martin xochinahuac",
          "san martin xochinahuac",
          "san juan tlihuaca",
          "el rosario",
          "popotla",
          "san juan tlihuaca",
          "popotla",
          "tlaxpana",
          "el rosario",
          "san martin xochinahuac",
          "el rosario",
          "san juan tlihuaca",
          "san martin xochinahuac",
          "popotla",
          "san martin xochinahuac",
          "san martin xochinahuac",
          "san juan tlihuaca",
          "tlaxpana",
          "tlaxpana",
          "el rosario"
         ],
         "xaxis": "x",
         "yaxis": "y"
        },
        {
         "alignmentgroup": "True",
         "bingroup": "x",
         "hovertemplate": "categoria=industria<br>colonia=%{x}<br>count=%{y}<extra></extra>",
         "legendgroup": "industria",
         "marker": {
          "color": "#EF553B"
         },
         "name": "industria",
         "offsetgroup": "industria",
         "orientation": "v",
         "showlegend": true,
         "type": "histogram",
         "x": [
          "el rosario",
          "olivar del conde 1a seccin",
          "popotla",
          "popotla",
          "tlaxpana",
          "el rosario",
          "san juan tlihuaca",
          "popotla",
          "san martin xochinahuac",
          "tlaxpana",
          "popotla",
          "tezozomoc",
          "tezozomoc",
          "tlaxpana",
          "tlaxpana",
          "el rosario",
          "el rosario",
          "tezozomoc",
          "popotla",
          "san juan tlihuaca",
          "san juan tlihuaca",
          "san juan tlihuaca",
          "popotla",
          "san juan tlihuaca",
          "el rosario",
          "san martin xochinahuac",
          "tlaxpana",
          "san martin xochinahuac",
          "san martin xochinahuac",
          "el rosario",
          "tlaxpana",
          "el rosario",
          "el rosario",
          "tezozomoc",
          "san juan tlihuaca",
          "san martin xochinahuac",
          "popotla",
          "popotla",
          "san martin xochinahuac",
          "san juan tlihuaca",
          "san martin xochinahuac",
          "el rosario",
          "el rosario",
          "tlaxpana",
          "popotla"
         ],
         "xaxis": "x",
         "yaxis": "y"
        },
        {
         "alignmentgroup": "True",
         "bingroup": "x",
         "hovertemplate": "categoria=restaurantes<br>colonia=%{x}<br>count=%{y}<extra></extra>",
         "legendgroup": "restaurantes",
         "marker": {
          "color": "#00cc96"
         },
         "name": "restaurantes",
         "offsetgroup": "restaurantes",
         "orientation": "v",
         "showlegend": true,
         "type": "histogram",
         "x": [
          "tezozomoc",
          "tlaxpana",
          "popotla",
          "tlaxpana",
          "tlaxpana",
          "tlaxpana",
          "popotla",
          "tlaxpana",
          "tlaxpana",
          "tlaxpana",
          "popotla",
          "popotla",
          "popotla",
          "san martin xochinahuac",
          "san martin xochinahuac",
          "san juan tlihuaca",
          "el rosario",
          "el rosario",
          "san juan tlihuaca",
          "san juan tlihuaca",
          "san martin xochinahuac",
          "tezozomoc",
          "popotla",
          "san martin xochinahuac",
          "san juan tlihuaca",
          "popotla",
          "el rosario",
          "san martin xochinahuac",
          "tezozomoc",
          "san juan tlihuaca",
          "tlaxpana",
          "popotla",
          "tlaxpana",
          "el rosario",
          "san juan tlihuaca",
          "popotla",
          "tlaxpana",
          "el rosario",
          "tlaxpana",
          "tlaxpana",
          "tlaxpana",
          "tlaxpana",
          "san martin xochinahuac",
          "san martin xochinahuac",
          "el rosario",
          "tezozomoc",
          "tezozomoc",
          "popotla",
          "tlaxpana",
          "san juan tlihuaca",
          "tlaxpana",
          "popotla",
          "popotla",
          "san martin xochinahuac",
          "el rosario",
          "san martin xochinahuac",
          "el rosario",
          "el rosario",
          "tlaxpana",
          "san martin xochinahuac",
          "tlaxpana",
          "tlaxpana",
          "tlaxpana",
          "tlaxpana",
          "tlaxpana",
          "tlaxpana",
          "popotla",
          "popotla",
          "tezozomoc",
          "popotla",
          "popotla",
          "san juan tlihuaca",
          "san juan tlihuaca"
         ],
         "xaxis": "x",
         "yaxis": "y"
        },
        {
         "alignmentgroup": "True",
         "bingroup": "x",
         "hovertemplate": "categoria=fotografia<br>colonia=%{x}<br>count=%{y}<extra></extra>",
         "legendgroup": "fotografia",
         "marker": {
          "color": "#ab63fa"
         },
         "name": "fotografia",
         "offsetgroup": "fotografia",
         "orientation": "v",
         "showlegend": true,
         "type": "histogram",
         "x": [
          "doctores",
          "el rosario",
          "popotla",
          "san juan tlihuaca"
         ],
         "xaxis": "x",
         "yaxis": "y"
        },
        {
         "alignmentgroup": "True",
         "bingroup": "x",
         "hovertemplate": "categoria=ventaproductos<br>colonia=%{x}<br>count=%{y}<extra></extra>",
         "legendgroup": "ventaproductos",
         "marker": {
          "color": "#FFA15A"
         },
         "name": "ventaproductos",
         "offsetgroup": "ventaproductos",
         "orientation": "v",
         "showlegend": true,
         "type": "histogram",
         "x": [
          "tezozomoc",
          "escandon",
          "escandon",
          "escandon",
          "escandon",
          "escandon",
          "san juan tlihuaca",
          "tlaxpana",
          "el rosario",
          "popotla",
          "tlaxpana",
          "el rosario",
          "tlaxpana",
          "san juan tlihuaca",
          "tlaxpana",
          "el rosario",
          "san juan tlihuaca",
          "popotla",
          "tezozomoc",
          "el rosario",
          "san juan tlihuaca",
          "el rosario",
          "san juan tlihuaca",
          "tlaxpana",
          "popotla",
          "popotla",
          "san juan tlihuaca",
          "santa maria nativitas"
         ],
         "xaxis": "x",
         "yaxis": "y"
        },
        {
         "alignmentgroup": "True",
         "bingroup": "x",
         "hovertemplate": "categoria=comida<br>colonia=%{x}<br>count=%{y}<extra></extra>",
         "legendgroup": "comida",
         "marker": {
          "color": "#19d3f3"
         },
         "name": "comida",
         "offsetgroup": "comida",
         "orientation": "v",
         "showlegend": true,
         "type": "histogram",
         "x": [
          "el rosario",
          "tlaxpana",
          "tlaxpana",
          "tlaxpana",
          "popotla",
          "tezozomoc",
          "san martin xochinahuac",
          "el rosario",
          "san martin xochinahuac",
          "san juan tlihuaca",
          "tlaxpana",
          "el rosario",
          "el rosario",
          "tezozomoc",
          "el rosario",
          "san juan tlihuaca",
          "tezozomoc",
          "tezozomoc",
          "tlaxpana",
          "popotla",
          "tezozomoc",
          "tezozomoc",
          "san juan tlihuaca",
          "tezozomoc",
          "san martin xochinahuac",
          "el rosario",
          "el rosario",
          "popotla",
          "tezozomoc",
          "tlaxpana",
          "san juan tlihuaca",
          "san juan tlihuaca",
          "san juan tlihuaca",
          "tlaxpana",
          "tlaxpana",
          "tlaxpana",
          "tlaxpana",
          "tlaxpana",
          "tlaxpana",
          "tlaxpana",
          "tlaxpana",
          "tlaxpana",
          "tlaxpana",
          "tlaxpana",
          "tlaxpana",
          "tlaxpana",
          "tlaxpana",
          "popotla",
          "san juan tlihuaca",
          "san juan tlihuaca",
          "san juan tlihuaca",
          "popotla",
          "popotla",
          "popotla",
          "popotla",
          "tlaxpana",
          "tlaxpana"
         ],
         "xaxis": "x",
         "yaxis": "y"
        },
        {
         "alignmentgroup": "True",
         "bingroup": "x",
         "hovertemplate": "categoria=ropa<br>colonia=%{x}<br>count=%{y}<extra></extra>",
         "legendgroup": "ropa",
         "marker": {
          "color": "#FF6692"
         },
         "name": "ropa",
         "offsetgroup": "ropa",
         "orientation": "v",
         "showlegend": true,
         "type": "histogram",
         "x": [
          "el rosario",
          "campamento 2 de octubre",
          "san juan tlihuaca",
          "san juan tlihuaca",
          "san martin xochinahuac",
          "tlaxpana",
          "el rosario",
          "el rosario",
          "popotla",
          "tezozomoc",
          "tezozomoc",
          "tezozomoc",
          "popotla",
          "el rosario",
          "tlaxpana",
          "tlaxpana",
          "san juan tlihuaca",
          "el rosario",
          "san juan tlihuaca",
          "tlaxpana",
          "tlaxpana",
          "popotla",
          "tlaxpana",
          "tlaxpana",
          "xaltocan"
         ],
         "xaxis": "x",
         "yaxis": "y"
        },
        {
         "alignmentgroup": "True",
         "bingroup": "x",
         "hovertemplate": "categoria=papeleria<br>colonia=%{x}<br>count=%{y}<extra></extra>",
         "legendgroup": "papeleria",
         "marker": {
          "color": "#B6E880"
         },
         "name": "papeleria",
         "offsetgroup": "papeleria",
         "orientation": "v",
         "showlegend": true,
         "type": "histogram",
         "x": [
          "escandon",
          "el rosario",
          "el rosario",
          "popotla",
          "san martin xochinahuac",
          "san martin xochinahuac",
          "san juan tlihuaca",
          "san juan tlihuaca",
          "tlaxpana",
          "tezozomoc",
          "el rosario",
          "san juan tlihuaca",
          "tezozomoc"
         ],
         "xaxis": "x",
         "yaxis": "y"
        },
        {
         "alignmentgroup": "True",
         "bingroup": "x",
         "hovertemplate": "categoria=belleza<br>colonia=%{x}<br>count=%{y}<extra></extra>",
         "legendgroup": "belleza",
         "marker": {
          "color": "#FF97FF"
         },
         "name": "belleza",
         "offsetgroup": "belleza",
         "orientation": "v",
         "showlegend": true,
         "type": "histogram",
         "x": [
          "san martin xochinahuac",
          "popotla",
          "popotla",
          "el rosario",
          "popotla",
          "san martin xochinahuac",
          "popotla",
          "tezozomoc",
          "el rosario",
          "san martin xochinahuac",
          "san juan tlihuaca",
          "el rosario",
          "san martin xochinahuac",
          "popotla",
          "tlaxpana",
          "tezozomoc",
          "san martin xochinahuac",
          "popotla",
          "san juan tlihuaca",
          "el rosario",
          "tezozomoc",
          "el rosario",
          "san martin xochinahuac",
          "san martin xochinahuac",
          "el rosario",
          "tlaxpana",
          "san juan tlihuaca",
          "popotla",
          "san juan tlihuaca",
          "san juan tlihuaca"
         ],
         "xaxis": "x",
         "yaxis": "y"
        },
        {
         "alignmentgroup": "True",
         "bingroup": "x",
         "hovertemplate": "categoria=electronicos<br>colonia=%{x}<br>count=%{y}<extra></extra>",
         "legendgroup": "electronicos",
         "marker": {
          "color": "#FECB52"
         },
         "name": "electronicos",
         "offsetgroup": "electronicos",
         "orientation": "v",
         "showlegend": true,
         "type": "histogram",
         "x": [
          "el rosario",
          "tlaxpana",
          "tlaxpana",
          "tezozomoc",
          "san juan tlihuaca",
          "tezozomoc",
          "san martin xochinahuac",
          "popotla",
          "san martin xochinahuac",
          "tlaxpana",
          "popotla",
          "san juan tlihuaca",
          "tlaxpana"
         ],
         "xaxis": "x",
         "yaxis": "y"
        },
        {
         "alignmentgroup": "True",
         "bingroup": "x",
         "hovertemplate": "categoria=musica<br>colonia=%{x}<br>count=%{y}<extra></extra>",
         "legendgroup": "musica",
         "marker": {
          "color": "#636efa"
         },
         "name": "musica",
         "offsetgroup": "musica",
         "orientation": "v",
         "showlegend": true,
         "type": "histogram",
         "x": [
          "popotla",
          "tlaxpana",
          "san martin xochinahuac"
         ],
         "xaxis": "x",
         "yaxis": "y"
        },
        {
         "alignmentgroup": "True",
         "bingroup": "x",
         "hovertemplate": "categoria=salud<br>colonia=%{x}<br>count=%{y}<extra></extra>",
         "legendgroup": "salud",
         "marker": {
          "color": "#EF553B"
         },
         "name": "salud",
         "offsetgroup": "salud",
         "orientation": "v",
         "showlegend": true,
         "type": "histogram",
         "x": [
          "el rosario",
          "el rosario",
          "san juan tlihuaca",
          "el rosario",
          "san juan tlihuaca",
          "tezozomoc",
          "tlaxpana",
          "san martin xochinahuac",
          "san martin xochinahuac",
          "san juan tlihuaca",
          "san juan tlihuaca"
         ],
         "xaxis": "x",
         "yaxis": "y"
        },
        {
         "alignmentgroup": "True",
         "bingroup": "x",
         "hovertemplate": "categoria=mascotas<br>colonia=%{x}<br>count=%{y}<extra></extra>",
         "legendgroup": "mascotas",
         "marker": {
          "color": "#00cc96"
         },
         "name": "mascotas",
         "offsetgroup": "mascotas",
         "orientation": "v",
         "showlegend": true,
         "type": "histogram",
         "x": [
          "el rosario",
          "popotla",
          "popotla",
          "el rosario",
          "popotla"
         ],
         "xaxis": "x",
         "yaxis": "y"
        }
       ],
       "layout": {
        "barmode": "relative",
        "legend": {
         "title": {
          "text": "categoria"
         },
         "tracegroupgap": 0
        },
        "margin": {
         "t": 60
        },
        "template": {
         "data": {
          "bar": [
           {
            "error_x": {
             "color": "#2a3f5f"
            },
            "error_y": {
             "color": "#2a3f5f"
            },
            "marker": {
             "line": {
              "color": "#E5ECF6",
              "width": 0.5
             }
            },
            "type": "bar"
           }
          ],
          "barpolar": [
           {
            "marker": {
             "line": {
              "color": "#E5ECF6",
              "width": 0.5
             }
            },
            "type": "barpolar"
           }
          ],
          "carpet": [
           {
            "aaxis": {
             "endlinecolor": "#2a3f5f",
             "gridcolor": "white",
             "linecolor": "white",
             "minorgridcolor": "white",
             "startlinecolor": "#2a3f5f"
            },
            "baxis": {
             "endlinecolor": "#2a3f5f",
             "gridcolor": "white",
             "linecolor": "white",
             "minorgridcolor": "white",
             "startlinecolor": "#2a3f5f"
            },
            "type": "carpet"
           }
          ],
          "choropleth": [
           {
            "colorbar": {
             "outlinewidth": 0,
             "ticks": ""
            },
            "type": "choropleth"
           }
          ],
          "contour": [
           {
            "colorbar": {
             "outlinewidth": 0,
             "ticks": ""
            },
            "colorscale": [
             [
              0,
              "#0d0887"
             ],
             [
              0.1111111111111111,
              "#46039f"
             ],
             [
              0.2222222222222222,
              "#7201a8"
             ],
             [
              0.3333333333333333,
              "#9c179e"
             ],
             [
              0.4444444444444444,
              "#bd3786"
             ],
             [
              0.5555555555555556,
              "#d8576b"
             ],
             [
              0.6666666666666666,
              "#ed7953"
             ],
             [
              0.7777777777777778,
              "#fb9f3a"
             ],
             [
              0.8888888888888888,
              "#fdca26"
             ],
             [
              1,
              "#f0f921"
             ]
            ],
            "type": "contour"
           }
          ],
          "contourcarpet": [
           {
            "colorbar": {
             "outlinewidth": 0,
             "ticks": ""
            },
            "type": "contourcarpet"
           }
          ],
          "heatmap": [
           {
            "colorbar": {
             "outlinewidth": 0,
             "ticks": ""
            },
            "colorscale": [
             [
              0,
              "#0d0887"
             ],
             [
              0.1111111111111111,
              "#46039f"
             ],
             [
              0.2222222222222222,
              "#7201a8"
             ],
             [
              0.3333333333333333,
              "#9c179e"
             ],
             [
              0.4444444444444444,
              "#bd3786"
             ],
             [
              0.5555555555555556,
              "#d8576b"
             ],
             [
              0.6666666666666666,
              "#ed7953"
             ],
             [
              0.7777777777777778,
              "#fb9f3a"
             ],
             [
              0.8888888888888888,
              "#fdca26"
             ],
             [
              1,
              "#f0f921"
             ]
            ],
            "type": "heatmap"
           }
          ],
          "heatmapgl": [
           {
            "colorbar": {
             "outlinewidth": 0,
             "ticks": ""
            },
            "colorscale": [
             [
              0,
              "#0d0887"
             ],
             [
              0.1111111111111111,
              "#46039f"
             ],
             [
              0.2222222222222222,
              "#7201a8"
             ],
             [
              0.3333333333333333,
              "#9c179e"
             ],
             [
              0.4444444444444444,
              "#bd3786"
             ],
             [
              0.5555555555555556,
              "#d8576b"
             ],
             [
              0.6666666666666666,
              "#ed7953"
             ],
             [
              0.7777777777777778,
              "#fb9f3a"
             ],
             [
              0.8888888888888888,
              "#fdca26"
             ],
             [
              1,
              "#f0f921"
             ]
            ],
            "type": "heatmapgl"
           }
          ],
          "histogram": [
           {
            "marker": {
             "colorbar": {
              "outlinewidth": 0,
              "ticks": ""
             }
            },
            "type": "histogram"
           }
          ],
          "histogram2d": [
           {
            "colorbar": {
             "outlinewidth": 0,
             "ticks": ""
            },
            "colorscale": [
             [
              0,
              "#0d0887"
             ],
             [
              0.1111111111111111,
              "#46039f"
             ],
             [
              0.2222222222222222,
              "#7201a8"
             ],
             [
              0.3333333333333333,
              "#9c179e"
             ],
             [
              0.4444444444444444,
              "#bd3786"
             ],
             [
              0.5555555555555556,
              "#d8576b"
             ],
             [
              0.6666666666666666,
              "#ed7953"
             ],
             [
              0.7777777777777778,
              "#fb9f3a"
             ],
             [
              0.8888888888888888,
              "#fdca26"
             ],
             [
              1,
              "#f0f921"
             ]
            ],
            "type": "histogram2d"
           }
          ],
          "histogram2dcontour": [
           {
            "colorbar": {
             "outlinewidth": 0,
             "ticks": ""
            },
            "colorscale": [
             [
              0,
              "#0d0887"
             ],
             [
              0.1111111111111111,
              "#46039f"
             ],
             [
              0.2222222222222222,
              "#7201a8"
             ],
             [
              0.3333333333333333,
              "#9c179e"
             ],
             [
              0.4444444444444444,
              "#bd3786"
             ],
             [
              0.5555555555555556,
              "#d8576b"
             ],
             [
              0.6666666666666666,
              "#ed7953"
             ],
             [
              0.7777777777777778,
              "#fb9f3a"
             ],
             [
              0.8888888888888888,
              "#fdca26"
             ],
             [
              1,
              "#f0f921"
             ]
            ],
            "type": "histogram2dcontour"
           }
          ],
          "mesh3d": [
           {
            "colorbar": {
             "outlinewidth": 0,
             "ticks": ""
            },
            "type": "mesh3d"
           }
          ],
          "parcoords": [
           {
            "line": {
             "colorbar": {
              "outlinewidth": 0,
              "ticks": ""
             }
            },
            "type": "parcoords"
           }
          ],
          "pie": [
           {
            "automargin": true,
            "type": "pie"
           }
          ],
          "scatter": [
           {
            "marker": {
             "colorbar": {
              "outlinewidth": 0,
              "ticks": ""
             }
            },
            "type": "scatter"
           }
          ],
          "scatter3d": [
           {
            "line": {
             "colorbar": {
              "outlinewidth": 0,
              "ticks": ""
             }
            },
            "marker": {
             "colorbar": {
              "outlinewidth": 0,
              "ticks": ""
             }
            },
            "type": "scatter3d"
           }
          ],
          "scattercarpet": [
           {
            "marker": {
             "colorbar": {
              "outlinewidth": 0,
              "ticks": ""
             }
            },
            "type": "scattercarpet"
           }
          ],
          "scattergeo": [
           {
            "marker": {
             "colorbar": {
              "outlinewidth": 0,
              "ticks": ""
             }
            },
            "type": "scattergeo"
           }
          ],
          "scattergl": [
           {
            "marker": {
             "colorbar": {
              "outlinewidth": 0,
              "ticks": ""
             }
            },
            "type": "scattergl"
           }
          ],
          "scattermapbox": [
           {
            "marker": {
             "colorbar": {
              "outlinewidth": 0,
              "ticks": ""
             }
            },
            "type": "scattermapbox"
           }
          ],
          "scatterpolar": [
           {
            "marker": {
             "colorbar": {
              "outlinewidth": 0,
              "ticks": ""
             }
            },
            "type": "scatterpolar"
           }
          ],
          "scatterpolargl": [
           {
            "marker": {
             "colorbar": {
              "outlinewidth": 0,
              "ticks": ""
             }
            },
            "type": "scatterpolargl"
           }
          ],
          "scatterternary": [
           {
            "marker": {
             "colorbar": {
              "outlinewidth": 0,
              "ticks": ""
             }
            },
            "type": "scatterternary"
           }
          ],
          "surface": [
           {
            "colorbar": {
             "outlinewidth": 0,
             "ticks": ""
            },
            "colorscale": [
             [
              0,
              "#0d0887"
             ],
             [
              0.1111111111111111,
              "#46039f"
             ],
             [
              0.2222222222222222,
              "#7201a8"
             ],
             [
              0.3333333333333333,
              "#9c179e"
             ],
             [
              0.4444444444444444,
              "#bd3786"
             ],
             [
              0.5555555555555556,
              "#d8576b"
             ],
             [
              0.6666666666666666,
              "#ed7953"
             ],
             [
              0.7777777777777778,
              "#fb9f3a"
             ],
             [
              0.8888888888888888,
              "#fdca26"
             ],
             [
              1,
              "#f0f921"
             ]
            ],
            "type": "surface"
           }
          ],
          "table": [
           {
            "cells": {
             "fill": {
              "color": "#EBF0F8"
             },
             "line": {
              "color": "white"
             }
            },
            "header": {
             "fill": {
              "color": "#C8D4E3"
             },
             "line": {
              "color": "white"
             }
            },
            "type": "table"
           }
          ]
         },
         "layout": {
          "annotationdefaults": {
           "arrowcolor": "#2a3f5f",
           "arrowhead": 0,
           "arrowwidth": 1
          },
          "autotypenumbers": "strict",
          "coloraxis": {
           "colorbar": {
            "outlinewidth": 0,
            "ticks": ""
           }
          },
          "colorscale": {
           "diverging": [
            [
             0,
             "#8e0152"
            ],
            [
             0.1,
             "#c51b7d"
            ],
            [
             0.2,
             "#de77ae"
            ],
            [
             0.3,
             "#f1b6da"
            ],
            [
             0.4,
             "#fde0ef"
            ],
            [
             0.5,
             "#f7f7f7"
            ],
            [
             0.6,
             "#e6f5d0"
            ],
            [
             0.7,
             "#b8e186"
            ],
            [
             0.8,
             "#7fbc41"
            ],
            [
             0.9,
             "#4d9221"
            ],
            [
             1,
             "#276419"
            ]
           ],
           "sequential": [
            [
             0,
             "#0d0887"
            ],
            [
             0.1111111111111111,
             "#46039f"
            ],
            [
             0.2222222222222222,
             "#7201a8"
            ],
            [
             0.3333333333333333,
             "#9c179e"
            ],
            [
             0.4444444444444444,
             "#bd3786"
            ],
            [
             0.5555555555555556,
             "#d8576b"
            ],
            [
             0.6666666666666666,
             "#ed7953"
            ],
            [
             0.7777777777777778,
             "#fb9f3a"
            ],
            [
             0.8888888888888888,
             "#fdca26"
            ],
            [
             1,
             "#f0f921"
            ]
           ],
           "sequentialminus": [
            [
             0,
             "#0d0887"
            ],
            [
             0.1111111111111111,
             "#46039f"
            ],
            [
             0.2222222222222222,
             "#7201a8"
            ],
            [
             0.3333333333333333,
             "#9c179e"
            ],
            [
             0.4444444444444444,
             "#bd3786"
            ],
            [
             0.5555555555555556,
             "#d8576b"
            ],
            [
             0.6666666666666666,
             "#ed7953"
            ],
            [
             0.7777777777777778,
             "#fb9f3a"
            ],
            [
             0.8888888888888888,
             "#fdca26"
            ],
            [
             1,
             "#f0f921"
            ]
           ]
          },
          "colorway": [
           "#636efa",
           "#EF553B",
           "#00cc96",
           "#ab63fa",
           "#FFA15A",
           "#19d3f3",
           "#FF6692",
           "#B6E880",
           "#FF97FF",
           "#FECB52"
          ],
          "font": {
           "color": "#2a3f5f"
          },
          "geo": {
           "bgcolor": "white",
           "lakecolor": "white",
           "landcolor": "#E5ECF6",
           "showlakes": true,
           "showland": true,
           "subunitcolor": "white"
          },
          "hoverlabel": {
           "align": "left"
          },
          "hovermode": "closest",
          "mapbox": {
           "style": "light"
          },
          "paper_bgcolor": "white",
          "plot_bgcolor": "#E5ECF6",
          "polar": {
           "angularaxis": {
            "gridcolor": "white",
            "linecolor": "white",
            "ticks": ""
           },
           "bgcolor": "#E5ECF6",
           "radialaxis": {
            "gridcolor": "white",
            "linecolor": "white",
            "ticks": ""
           }
          },
          "scene": {
           "xaxis": {
            "backgroundcolor": "#E5ECF6",
            "gridcolor": "white",
            "gridwidth": 2,
            "linecolor": "white",
            "showbackground": true,
            "ticks": "",
            "zerolinecolor": "white"
           },
           "yaxis": {
            "backgroundcolor": "#E5ECF6",
            "gridcolor": "white",
            "gridwidth": 2,
            "linecolor": "white",
            "showbackground": true,
            "ticks": "",
            "zerolinecolor": "white"
           },
           "zaxis": {
            "backgroundcolor": "#E5ECF6",
            "gridcolor": "white",
            "gridwidth": 2,
            "linecolor": "white",
            "showbackground": true,
            "ticks": "",
            "zerolinecolor": "white"
           }
          },
          "shapedefaults": {
           "line": {
            "color": "#2a3f5f"
           }
          },
          "ternary": {
           "aaxis": {
            "gridcolor": "white",
            "linecolor": "white",
            "ticks": ""
           },
           "baxis": {
            "gridcolor": "white",
            "linecolor": "white",
            "ticks": ""
           },
           "bgcolor": "#E5ECF6",
           "caxis": {
            "gridcolor": "white",
            "linecolor": "white",
            "ticks": ""
           }
          },
          "title": {
           "x": 0.05
          },
          "xaxis": {
           "automargin": true,
           "gridcolor": "white",
           "linecolor": "white",
           "ticks": "",
           "title": {
            "standoff": 15
           },
           "zerolinecolor": "white",
           "zerolinewidth": 2
          },
          "yaxis": {
           "automargin": true,
           "gridcolor": "white",
           "linecolor": "white",
           "ticks": "",
           "title": {
            "standoff": 15
           },
           "zerolinecolor": "white",
           "zerolinewidth": 2
          }
         }
        },
        "title": {
         "text": "Distribución de productos (categoría) en las 13 colonias con mayor ECI"
        },
        "xaxis": {
         "anchor": "y",
         "domain": [
          0,
          1
         ],
         "title": {
          "text": "colonia"
         }
        },
        "yaxis": {
         "anchor": "x",
         "domain": [
          0,
          1
         ],
         "title": {
          "text": "count"
         }
        }
       }
      }
     },
     "metadata": {}
    }
   ],
   "source": [
    "fig = px.histogram(df, x='colonia', color='categoria')\n",
    "fig.update_layout(\n",
    "    title=dict(\n",
    "        text=\"Distribución de productos (categoría) en las 13 colonias con mayor ECI\"\n",
    "    )\n",
    ")\n",
    "fig.show()"
   ]
  },
  {
   "cell_type": "code",
   "execution_count": 298,
   "metadata": {},
   "outputs": [],
   "source": [
    "def view_products_from(colonia, df):\n",
    "    temp = df[df.colonia==colonia]\n",
    "    fig = px.histogram(temp, x='categoria')\n",
    "    fig.update_layout(\n",
    "        title=dict(text=f'Distribución de productos para {colonia.capitalize()}')\n",
    "    )\n",
    "    fig.show()"
   ]
  },
  {
   "cell_type": "code",
   "execution_count": 299,
   "metadata": {},
   "outputs": [
    {
     "output_type": "display_data",
     "data": {
      "application/vnd.plotly.v1+json": {
       "config": {
        "plotlyServerURL": "https://plot.ly"
       },
       "data": [
        {
         "alignmentgroup": "True",
         "bingroup": "x",
         "hovertemplate": "categoria=%{x}<br>count=%{y}<extra></extra>",
         "legendgroup": "",
         "marker": {
          "color": "#636efa"
         },
         "name": "",
         "offsetgroup": "",
         "orientation": "v",
         "showlegend": false,
         "type": "histogram",
         "x": [
          "industria",
          "comida",
          "ropa",
          "industria",
          "electronicos",
          "restaurantes",
          "comida",
          "restaurantes",
          "belleza",
          "papeleria",
          "salud",
          "comida",
          "comida",
          "comida",
          "salud",
          "restaurantes",
          "mascotas",
          "papeleria",
          "ropa",
          "belleza",
          "industria",
          "ropa",
          "belleza",
          "restaurantes",
          "fotografia",
          "ventaproductos",
          "restaurantes",
          "salud",
          "industria",
          "ventaproductos",
          "restaurantes",
          "belleza",
          "arreglosgeneral",
          "ropa",
          "industria",
          "belleza",
          "comida",
          "arreglosgeneral",
          "ventaproductos",
          "industria",
          "arreglosgeneral",
          "restaurantes",
          "industria",
          "restaurantes",
          "restaurantes",
          "industria",
          "comida",
          "ventaproductos",
          "mascotas",
          "industria",
          "belleza",
          "industria",
          "ventaproductos",
          "ropa",
          "papeleria",
          "arreglosgeneral"
         ],
         "xaxis": "x",
         "yaxis": "y"
        }
       ],
       "layout": {
        "barmode": "relative",
        "legend": {
         "tracegroupgap": 0
        },
        "margin": {
         "t": 60
        },
        "template": {
         "data": {
          "bar": [
           {
            "error_x": {
             "color": "#2a3f5f"
            },
            "error_y": {
             "color": "#2a3f5f"
            },
            "marker": {
             "line": {
              "color": "#E5ECF6",
              "width": 0.5
             }
            },
            "type": "bar"
           }
          ],
          "barpolar": [
           {
            "marker": {
             "line": {
              "color": "#E5ECF6",
              "width": 0.5
             }
            },
            "type": "barpolar"
           }
          ],
          "carpet": [
           {
            "aaxis": {
             "endlinecolor": "#2a3f5f",
             "gridcolor": "white",
             "linecolor": "white",
             "minorgridcolor": "white",
             "startlinecolor": "#2a3f5f"
            },
            "baxis": {
             "endlinecolor": "#2a3f5f",
             "gridcolor": "white",
             "linecolor": "white",
             "minorgridcolor": "white",
             "startlinecolor": "#2a3f5f"
            },
            "type": "carpet"
           }
          ],
          "choropleth": [
           {
            "colorbar": {
             "outlinewidth": 0,
             "ticks": ""
            },
            "type": "choropleth"
           }
          ],
          "contour": [
           {
            "colorbar": {
             "outlinewidth": 0,
             "ticks": ""
            },
            "colorscale": [
             [
              0,
              "#0d0887"
             ],
             [
              0.1111111111111111,
              "#46039f"
             ],
             [
              0.2222222222222222,
              "#7201a8"
             ],
             [
              0.3333333333333333,
              "#9c179e"
             ],
             [
              0.4444444444444444,
              "#bd3786"
             ],
             [
              0.5555555555555556,
              "#d8576b"
             ],
             [
              0.6666666666666666,
              "#ed7953"
             ],
             [
              0.7777777777777778,
              "#fb9f3a"
             ],
             [
              0.8888888888888888,
              "#fdca26"
             ],
             [
              1,
              "#f0f921"
             ]
            ],
            "type": "contour"
           }
          ],
          "contourcarpet": [
           {
            "colorbar": {
             "outlinewidth": 0,
             "ticks": ""
            },
            "type": "contourcarpet"
           }
          ],
          "heatmap": [
           {
            "colorbar": {
             "outlinewidth": 0,
             "ticks": ""
            },
            "colorscale": [
             [
              0,
              "#0d0887"
             ],
             [
              0.1111111111111111,
              "#46039f"
             ],
             [
              0.2222222222222222,
              "#7201a8"
             ],
             [
              0.3333333333333333,
              "#9c179e"
             ],
             [
              0.4444444444444444,
              "#bd3786"
             ],
             [
              0.5555555555555556,
              "#d8576b"
             ],
             [
              0.6666666666666666,
              "#ed7953"
             ],
             [
              0.7777777777777778,
              "#fb9f3a"
             ],
             [
              0.8888888888888888,
              "#fdca26"
             ],
             [
              1,
              "#f0f921"
             ]
            ],
            "type": "heatmap"
           }
          ],
          "heatmapgl": [
           {
            "colorbar": {
             "outlinewidth": 0,
             "ticks": ""
            },
            "colorscale": [
             [
              0,
              "#0d0887"
             ],
             [
              0.1111111111111111,
              "#46039f"
             ],
             [
              0.2222222222222222,
              "#7201a8"
             ],
             [
              0.3333333333333333,
              "#9c179e"
             ],
             [
              0.4444444444444444,
              "#bd3786"
             ],
             [
              0.5555555555555556,
              "#d8576b"
             ],
             [
              0.6666666666666666,
              "#ed7953"
             ],
             [
              0.7777777777777778,
              "#fb9f3a"
             ],
             [
              0.8888888888888888,
              "#fdca26"
             ],
             [
              1,
              "#f0f921"
             ]
            ],
            "type": "heatmapgl"
           }
          ],
          "histogram": [
           {
            "marker": {
             "colorbar": {
              "outlinewidth": 0,
              "ticks": ""
             }
            },
            "type": "histogram"
           }
          ],
          "histogram2d": [
           {
            "colorbar": {
             "outlinewidth": 0,
             "ticks": ""
            },
            "colorscale": [
             [
              0,
              "#0d0887"
             ],
             [
              0.1111111111111111,
              "#46039f"
             ],
             [
              0.2222222222222222,
              "#7201a8"
             ],
             [
              0.3333333333333333,
              "#9c179e"
             ],
             [
              0.4444444444444444,
              "#bd3786"
             ],
             [
              0.5555555555555556,
              "#d8576b"
             ],
             [
              0.6666666666666666,
              "#ed7953"
             ],
             [
              0.7777777777777778,
              "#fb9f3a"
             ],
             [
              0.8888888888888888,
              "#fdca26"
             ],
             [
              1,
              "#f0f921"
             ]
            ],
            "type": "histogram2d"
           }
          ],
          "histogram2dcontour": [
           {
            "colorbar": {
             "outlinewidth": 0,
             "ticks": ""
            },
            "colorscale": [
             [
              0,
              "#0d0887"
             ],
             [
              0.1111111111111111,
              "#46039f"
             ],
             [
              0.2222222222222222,
              "#7201a8"
             ],
             [
              0.3333333333333333,
              "#9c179e"
             ],
             [
              0.4444444444444444,
              "#bd3786"
             ],
             [
              0.5555555555555556,
              "#d8576b"
             ],
             [
              0.6666666666666666,
              "#ed7953"
             ],
             [
              0.7777777777777778,
              "#fb9f3a"
             ],
             [
              0.8888888888888888,
              "#fdca26"
             ],
             [
              1,
              "#f0f921"
             ]
            ],
            "type": "histogram2dcontour"
           }
          ],
          "mesh3d": [
           {
            "colorbar": {
             "outlinewidth": 0,
             "ticks": ""
            },
            "type": "mesh3d"
           }
          ],
          "parcoords": [
           {
            "line": {
             "colorbar": {
              "outlinewidth": 0,
              "ticks": ""
             }
            },
            "type": "parcoords"
           }
          ],
          "pie": [
           {
            "automargin": true,
            "type": "pie"
           }
          ],
          "scatter": [
           {
            "marker": {
             "colorbar": {
              "outlinewidth": 0,
              "ticks": ""
             }
            },
            "type": "scatter"
           }
          ],
          "scatter3d": [
           {
            "line": {
             "colorbar": {
              "outlinewidth": 0,
              "ticks": ""
             }
            },
            "marker": {
             "colorbar": {
              "outlinewidth": 0,
              "ticks": ""
             }
            },
            "type": "scatter3d"
           }
          ],
          "scattercarpet": [
           {
            "marker": {
             "colorbar": {
              "outlinewidth": 0,
              "ticks": ""
             }
            },
            "type": "scattercarpet"
           }
          ],
          "scattergeo": [
           {
            "marker": {
             "colorbar": {
              "outlinewidth": 0,
              "ticks": ""
             }
            },
            "type": "scattergeo"
           }
          ],
          "scattergl": [
           {
            "marker": {
             "colorbar": {
              "outlinewidth": 0,
              "ticks": ""
             }
            },
            "type": "scattergl"
           }
          ],
          "scattermapbox": [
           {
            "marker": {
             "colorbar": {
              "outlinewidth": 0,
              "ticks": ""
             }
            },
            "type": "scattermapbox"
           }
          ],
          "scatterpolar": [
           {
            "marker": {
             "colorbar": {
              "outlinewidth": 0,
              "ticks": ""
             }
            },
            "type": "scatterpolar"
           }
          ],
          "scatterpolargl": [
           {
            "marker": {
             "colorbar": {
              "outlinewidth": 0,
              "ticks": ""
             }
            },
            "type": "scatterpolargl"
           }
          ],
          "scatterternary": [
           {
            "marker": {
             "colorbar": {
              "outlinewidth": 0,
              "ticks": ""
             }
            },
            "type": "scatterternary"
           }
          ],
          "surface": [
           {
            "colorbar": {
             "outlinewidth": 0,
             "ticks": ""
            },
            "colorscale": [
             [
              0,
              "#0d0887"
             ],
             [
              0.1111111111111111,
              "#46039f"
             ],
             [
              0.2222222222222222,
              "#7201a8"
             ],
             [
              0.3333333333333333,
              "#9c179e"
             ],
             [
              0.4444444444444444,
              "#bd3786"
             ],
             [
              0.5555555555555556,
              "#d8576b"
             ],
             [
              0.6666666666666666,
              "#ed7953"
             ],
             [
              0.7777777777777778,
              "#fb9f3a"
             ],
             [
              0.8888888888888888,
              "#fdca26"
             ],
             [
              1,
              "#f0f921"
             ]
            ],
            "type": "surface"
           }
          ],
          "table": [
           {
            "cells": {
             "fill": {
              "color": "#EBF0F8"
             },
             "line": {
              "color": "white"
             }
            },
            "header": {
             "fill": {
              "color": "#C8D4E3"
             },
             "line": {
              "color": "white"
             }
            },
            "type": "table"
           }
          ]
         },
         "layout": {
          "annotationdefaults": {
           "arrowcolor": "#2a3f5f",
           "arrowhead": 0,
           "arrowwidth": 1
          },
          "autotypenumbers": "strict",
          "coloraxis": {
           "colorbar": {
            "outlinewidth": 0,
            "ticks": ""
           }
          },
          "colorscale": {
           "diverging": [
            [
             0,
             "#8e0152"
            ],
            [
             0.1,
             "#c51b7d"
            ],
            [
             0.2,
             "#de77ae"
            ],
            [
             0.3,
             "#f1b6da"
            ],
            [
             0.4,
             "#fde0ef"
            ],
            [
             0.5,
             "#f7f7f7"
            ],
            [
             0.6,
             "#e6f5d0"
            ],
            [
             0.7,
             "#b8e186"
            ],
            [
             0.8,
             "#7fbc41"
            ],
            [
             0.9,
             "#4d9221"
            ],
            [
             1,
             "#276419"
            ]
           ],
           "sequential": [
            [
             0,
             "#0d0887"
            ],
            [
             0.1111111111111111,
             "#46039f"
            ],
            [
             0.2222222222222222,
             "#7201a8"
            ],
            [
             0.3333333333333333,
             "#9c179e"
            ],
            [
             0.4444444444444444,
             "#bd3786"
            ],
            [
             0.5555555555555556,
             "#d8576b"
            ],
            [
             0.6666666666666666,
             "#ed7953"
            ],
            [
             0.7777777777777778,
             "#fb9f3a"
            ],
            [
             0.8888888888888888,
             "#fdca26"
            ],
            [
             1,
             "#f0f921"
            ]
           ],
           "sequentialminus": [
            [
             0,
             "#0d0887"
            ],
            [
             0.1111111111111111,
             "#46039f"
            ],
            [
             0.2222222222222222,
             "#7201a8"
            ],
            [
             0.3333333333333333,
             "#9c179e"
            ],
            [
             0.4444444444444444,
             "#bd3786"
            ],
            [
             0.5555555555555556,
             "#d8576b"
            ],
            [
             0.6666666666666666,
             "#ed7953"
            ],
            [
             0.7777777777777778,
             "#fb9f3a"
            ],
            [
             0.8888888888888888,
             "#fdca26"
            ],
            [
             1,
             "#f0f921"
            ]
           ]
          },
          "colorway": [
           "#636efa",
           "#EF553B",
           "#00cc96",
           "#ab63fa",
           "#FFA15A",
           "#19d3f3",
           "#FF6692",
           "#B6E880",
           "#FF97FF",
           "#FECB52"
          ],
          "font": {
           "color": "#2a3f5f"
          },
          "geo": {
           "bgcolor": "white",
           "lakecolor": "white",
           "landcolor": "#E5ECF6",
           "showlakes": true,
           "showland": true,
           "subunitcolor": "white"
          },
          "hoverlabel": {
           "align": "left"
          },
          "hovermode": "closest",
          "mapbox": {
           "style": "light"
          },
          "paper_bgcolor": "white",
          "plot_bgcolor": "#E5ECF6",
          "polar": {
           "angularaxis": {
            "gridcolor": "white",
            "linecolor": "white",
            "ticks": ""
           },
           "bgcolor": "#E5ECF6",
           "radialaxis": {
            "gridcolor": "white",
            "linecolor": "white",
            "ticks": ""
           }
          },
          "scene": {
           "xaxis": {
            "backgroundcolor": "#E5ECF6",
            "gridcolor": "white",
            "gridwidth": 2,
            "linecolor": "white",
            "showbackground": true,
            "ticks": "",
            "zerolinecolor": "white"
           },
           "yaxis": {
            "backgroundcolor": "#E5ECF6",
            "gridcolor": "white",
            "gridwidth": 2,
            "linecolor": "white",
            "showbackground": true,
            "ticks": "",
            "zerolinecolor": "white"
           },
           "zaxis": {
            "backgroundcolor": "#E5ECF6",
            "gridcolor": "white",
            "gridwidth": 2,
            "linecolor": "white",
            "showbackground": true,
            "ticks": "",
            "zerolinecolor": "white"
           }
          },
          "shapedefaults": {
           "line": {
            "color": "#2a3f5f"
           }
          },
          "ternary": {
           "aaxis": {
            "gridcolor": "white",
            "linecolor": "white",
            "ticks": ""
           },
           "baxis": {
            "gridcolor": "white",
            "linecolor": "white",
            "ticks": ""
           },
           "bgcolor": "#E5ECF6",
           "caxis": {
            "gridcolor": "white",
            "linecolor": "white",
            "ticks": ""
           }
          },
          "title": {
           "x": 0.05
          },
          "xaxis": {
           "automargin": true,
           "gridcolor": "white",
           "linecolor": "white",
           "ticks": "",
           "title": {
            "standoff": 15
           },
           "zerolinecolor": "white",
           "zerolinewidth": 2
          },
          "yaxis": {
           "automargin": true,
           "gridcolor": "white",
           "linecolor": "white",
           "ticks": "",
           "title": {
            "standoff": 15
           },
           "zerolinecolor": "white",
           "zerolinewidth": 2
          }
         }
        },
        "title": {
         "text": "Distribución de productos para El rosario"
        },
        "xaxis": {
         "anchor": "y",
         "domain": [
          0,
          1
         ],
         "title": {
          "text": "categoria"
         }
        },
        "yaxis": {
         "anchor": "x",
         "domain": [
          0,
          1
         ],
         "title": {
          "text": "count"
         }
        }
       }
      }
     },
     "metadata": {}
    }
   ],
   "source": [
    "view_products_from('el rosario', df)"
   ]
  },
  {
   "cell_type": "code",
   "execution_count": 300,
   "metadata": {},
   "outputs": [
    {
     "output_type": "display_data",
     "data": {
      "application/vnd.plotly.v1+json": {
       "config": {
        "plotlyServerURL": "https://plot.ly"
       },
       "data": [
        {
         "alignmentgroup": "True",
         "bingroup": "x",
         "hovertemplate": "categoria=%{x}<br>count=%{y}<extra></extra>",
         "legendgroup": "",
         "marker": {
          "color": "#636efa"
         },
         "name": "",
         "offsetgroup": "",
         "orientation": "v",
         "showlegend": false,
         "type": "histogram",
         "x": [
          "arreglosgeneral",
          "restaurantes",
          "arreglosgeneral",
          "restaurantes",
          "restaurantes",
          "restaurantes",
          "restaurantes",
          "industria",
          "industria",
          "comida",
          "belleza",
          "industria",
          "musica",
          "industria",
          "belleza",
          "belleza",
          "restaurantes",
          "restaurantes",
          "belleza",
          "restaurantes",
          "papeleria",
          "belleza",
          "restaurantes",
          "electronicos",
          "ventaproductos",
          "ropa",
          "comida",
          "belleza",
          "industria",
          "electronicos",
          "arreglosgeneral",
          "restaurantes",
          "industria",
          "ropa",
          "arreglosgeneral",
          "mascotas",
          "restaurantes",
          "restaurantes",
          "mascotas",
          "ventaproductos",
          "comida",
          "arreglosgeneral",
          "industria",
          "industria",
          "fotografia",
          "ropa",
          "restaurantes",
          "ventaproductos",
          "comida",
          "restaurantes",
          "ventaproductos",
          "restaurantes",
          "belleza",
          "restaurantes",
          "industria",
          "mascotas",
          "comida",
          "comida",
          "comida",
          "comida"
         ],
         "xaxis": "x",
         "yaxis": "y"
        }
       ],
       "layout": {
        "barmode": "relative",
        "legend": {
         "tracegroupgap": 0
        },
        "margin": {
         "t": 60
        },
        "template": {
         "data": {
          "bar": [
           {
            "error_x": {
             "color": "#2a3f5f"
            },
            "error_y": {
             "color": "#2a3f5f"
            },
            "marker": {
             "line": {
              "color": "#E5ECF6",
              "width": 0.5
             }
            },
            "type": "bar"
           }
          ],
          "barpolar": [
           {
            "marker": {
             "line": {
              "color": "#E5ECF6",
              "width": 0.5
             }
            },
            "type": "barpolar"
           }
          ],
          "carpet": [
           {
            "aaxis": {
             "endlinecolor": "#2a3f5f",
             "gridcolor": "white",
             "linecolor": "white",
             "minorgridcolor": "white",
             "startlinecolor": "#2a3f5f"
            },
            "baxis": {
             "endlinecolor": "#2a3f5f",
             "gridcolor": "white",
             "linecolor": "white",
             "minorgridcolor": "white",
             "startlinecolor": "#2a3f5f"
            },
            "type": "carpet"
           }
          ],
          "choropleth": [
           {
            "colorbar": {
             "outlinewidth": 0,
             "ticks": ""
            },
            "type": "choropleth"
           }
          ],
          "contour": [
           {
            "colorbar": {
             "outlinewidth": 0,
             "ticks": ""
            },
            "colorscale": [
             [
              0,
              "#0d0887"
             ],
             [
              0.1111111111111111,
              "#46039f"
             ],
             [
              0.2222222222222222,
              "#7201a8"
             ],
             [
              0.3333333333333333,
              "#9c179e"
             ],
             [
              0.4444444444444444,
              "#bd3786"
             ],
             [
              0.5555555555555556,
              "#d8576b"
             ],
             [
              0.6666666666666666,
              "#ed7953"
             ],
             [
              0.7777777777777778,
              "#fb9f3a"
             ],
             [
              0.8888888888888888,
              "#fdca26"
             ],
             [
              1,
              "#f0f921"
             ]
            ],
            "type": "contour"
           }
          ],
          "contourcarpet": [
           {
            "colorbar": {
             "outlinewidth": 0,
             "ticks": ""
            },
            "type": "contourcarpet"
           }
          ],
          "heatmap": [
           {
            "colorbar": {
             "outlinewidth": 0,
             "ticks": ""
            },
            "colorscale": [
             [
              0,
              "#0d0887"
             ],
             [
              0.1111111111111111,
              "#46039f"
             ],
             [
              0.2222222222222222,
              "#7201a8"
             ],
             [
              0.3333333333333333,
              "#9c179e"
             ],
             [
              0.4444444444444444,
              "#bd3786"
             ],
             [
              0.5555555555555556,
              "#d8576b"
             ],
             [
              0.6666666666666666,
              "#ed7953"
             ],
             [
              0.7777777777777778,
              "#fb9f3a"
             ],
             [
              0.8888888888888888,
              "#fdca26"
             ],
             [
              1,
              "#f0f921"
             ]
            ],
            "type": "heatmap"
           }
          ],
          "heatmapgl": [
           {
            "colorbar": {
             "outlinewidth": 0,
             "ticks": ""
            },
            "colorscale": [
             [
              0,
              "#0d0887"
             ],
             [
              0.1111111111111111,
              "#46039f"
             ],
             [
              0.2222222222222222,
              "#7201a8"
             ],
             [
              0.3333333333333333,
              "#9c179e"
             ],
             [
              0.4444444444444444,
              "#bd3786"
             ],
             [
              0.5555555555555556,
              "#d8576b"
             ],
             [
              0.6666666666666666,
              "#ed7953"
             ],
             [
              0.7777777777777778,
              "#fb9f3a"
             ],
             [
              0.8888888888888888,
              "#fdca26"
             ],
             [
              1,
              "#f0f921"
             ]
            ],
            "type": "heatmapgl"
           }
          ],
          "histogram": [
           {
            "marker": {
             "colorbar": {
              "outlinewidth": 0,
              "ticks": ""
             }
            },
            "type": "histogram"
           }
          ],
          "histogram2d": [
           {
            "colorbar": {
             "outlinewidth": 0,
             "ticks": ""
            },
            "colorscale": [
             [
              0,
              "#0d0887"
             ],
             [
              0.1111111111111111,
              "#46039f"
             ],
             [
              0.2222222222222222,
              "#7201a8"
             ],
             [
              0.3333333333333333,
              "#9c179e"
             ],
             [
              0.4444444444444444,
              "#bd3786"
             ],
             [
              0.5555555555555556,
              "#d8576b"
             ],
             [
              0.6666666666666666,
              "#ed7953"
             ],
             [
              0.7777777777777778,
              "#fb9f3a"
             ],
             [
              0.8888888888888888,
              "#fdca26"
             ],
             [
              1,
              "#f0f921"
             ]
            ],
            "type": "histogram2d"
           }
          ],
          "histogram2dcontour": [
           {
            "colorbar": {
             "outlinewidth": 0,
             "ticks": ""
            },
            "colorscale": [
             [
              0,
              "#0d0887"
             ],
             [
              0.1111111111111111,
              "#46039f"
             ],
             [
              0.2222222222222222,
              "#7201a8"
             ],
             [
              0.3333333333333333,
              "#9c179e"
             ],
             [
              0.4444444444444444,
              "#bd3786"
             ],
             [
              0.5555555555555556,
              "#d8576b"
             ],
             [
              0.6666666666666666,
              "#ed7953"
             ],
             [
              0.7777777777777778,
              "#fb9f3a"
             ],
             [
              0.8888888888888888,
              "#fdca26"
             ],
             [
              1,
              "#f0f921"
             ]
            ],
            "type": "histogram2dcontour"
           }
          ],
          "mesh3d": [
           {
            "colorbar": {
             "outlinewidth": 0,
             "ticks": ""
            },
            "type": "mesh3d"
           }
          ],
          "parcoords": [
           {
            "line": {
             "colorbar": {
              "outlinewidth": 0,
              "ticks": ""
             }
            },
            "type": "parcoords"
           }
          ],
          "pie": [
           {
            "automargin": true,
            "type": "pie"
           }
          ],
          "scatter": [
           {
            "marker": {
             "colorbar": {
              "outlinewidth": 0,
              "ticks": ""
             }
            },
            "type": "scatter"
           }
          ],
          "scatter3d": [
           {
            "line": {
             "colorbar": {
              "outlinewidth": 0,
              "ticks": ""
             }
            },
            "marker": {
             "colorbar": {
              "outlinewidth": 0,
              "ticks": ""
             }
            },
            "type": "scatter3d"
           }
          ],
          "scattercarpet": [
           {
            "marker": {
             "colorbar": {
              "outlinewidth": 0,
              "ticks": ""
             }
            },
            "type": "scattercarpet"
           }
          ],
          "scattergeo": [
           {
            "marker": {
             "colorbar": {
              "outlinewidth": 0,
              "ticks": ""
             }
            },
            "type": "scattergeo"
           }
          ],
          "scattergl": [
           {
            "marker": {
             "colorbar": {
              "outlinewidth": 0,
              "ticks": ""
             }
            },
            "type": "scattergl"
           }
          ],
          "scattermapbox": [
           {
            "marker": {
             "colorbar": {
              "outlinewidth": 0,
              "ticks": ""
             }
            },
            "type": "scattermapbox"
           }
          ],
          "scatterpolar": [
           {
            "marker": {
             "colorbar": {
              "outlinewidth": 0,
              "ticks": ""
             }
            },
            "type": "scatterpolar"
           }
          ],
          "scatterpolargl": [
           {
            "marker": {
             "colorbar": {
              "outlinewidth": 0,
              "ticks": ""
             }
            },
            "type": "scatterpolargl"
           }
          ],
          "scatterternary": [
           {
            "marker": {
             "colorbar": {
              "outlinewidth": 0,
              "ticks": ""
             }
            },
            "type": "scatterternary"
           }
          ],
          "surface": [
           {
            "colorbar": {
             "outlinewidth": 0,
             "ticks": ""
            },
            "colorscale": [
             [
              0,
              "#0d0887"
             ],
             [
              0.1111111111111111,
              "#46039f"
             ],
             [
              0.2222222222222222,
              "#7201a8"
             ],
             [
              0.3333333333333333,
              "#9c179e"
             ],
             [
              0.4444444444444444,
              "#bd3786"
             ],
             [
              0.5555555555555556,
              "#d8576b"
             ],
             [
              0.6666666666666666,
              "#ed7953"
             ],
             [
              0.7777777777777778,
              "#fb9f3a"
             ],
             [
              0.8888888888888888,
              "#fdca26"
             ],
             [
              1,
              "#f0f921"
             ]
            ],
            "type": "surface"
           }
          ],
          "table": [
           {
            "cells": {
             "fill": {
              "color": "#EBF0F8"
             },
             "line": {
              "color": "white"
             }
            },
            "header": {
             "fill": {
              "color": "#C8D4E3"
             },
             "line": {
              "color": "white"
             }
            },
            "type": "table"
           }
          ]
         },
         "layout": {
          "annotationdefaults": {
           "arrowcolor": "#2a3f5f",
           "arrowhead": 0,
           "arrowwidth": 1
          },
          "autotypenumbers": "strict",
          "coloraxis": {
           "colorbar": {
            "outlinewidth": 0,
            "ticks": ""
           }
          },
          "colorscale": {
           "diverging": [
            [
             0,
             "#8e0152"
            ],
            [
             0.1,
             "#c51b7d"
            ],
            [
             0.2,
             "#de77ae"
            ],
            [
             0.3,
             "#f1b6da"
            ],
            [
             0.4,
             "#fde0ef"
            ],
            [
             0.5,
             "#f7f7f7"
            ],
            [
             0.6,
             "#e6f5d0"
            ],
            [
             0.7,
             "#b8e186"
            ],
            [
             0.8,
             "#7fbc41"
            ],
            [
             0.9,
             "#4d9221"
            ],
            [
             1,
             "#276419"
            ]
           ],
           "sequential": [
            [
             0,
             "#0d0887"
            ],
            [
             0.1111111111111111,
             "#46039f"
            ],
            [
             0.2222222222222222,
             "#7201a8"
            ],
            [
             0.3333333333333333,
             "#9c179e"
            ],
            [
             0.4444444444444444,
             "#bd3786"
            ],
            [
             0.5555555555555556,
             "#d8576b"
            ],
            [
             0.6666666666666666,
             "#ed7953"
            ],
            [
             0.7777777777777778,
             "#fb9f3a"
            ],
            [
             0.8888888888888888,
             "#fdca26"
            ],
            [
             1,
             "#f0f921"
            ]
           ],
           "sequentialminus": [
            [
             0,
             "#0d0887"
            ],
            [
             0.1111111111111111,
             "#46039f"
            ],
            [
             0.2222222222222222,
             "#7201a8"
            ],
            [
             0.3333333333333333,
             "#9c179e"
            ],
            [
             0.4444444444444444,
             "#bd3786"
            ],
            [
             0.5555555555555556,
             "#d8576b"
            ],
            [
             0.6666666666666666,
             "#ed7953"
            ],
            [
             0.7777777777777778,
             "#fb9f3a"
            ],
            [
             0.8888888888888888,
             "#fdca26"
            ],
            [
             1,
             "#f0f921"
            ]
           ]
          },
          "colorway": [
           "#636efa",
           "#EF553B",
           "#00cc96",
           "#ab63fa",
           "#FFA15A",
           "#19d3f3",
           "#FF6692",
           "#B6E880",
           "#FF97FF",
           "#FECB52"
          ],
          "font": {
           "color": "#2a3f5f"
          },
          "geo": {
           "bgcolor": "white",
           "lakecolor": "white",
           "landcolor": "#E5ECF6",
           "showlakes": true,
           "showland": true,
           "subunitcolor": "white"
          },
          "hoverlabel": {
           "align": "left"
          },
          "hovermode": "closest",
          "mapbox": {
           "style": "light"
          },
          "paper_bgcolor": "white",
          "plot_bgcolor": "#E5ECF6",
          "polar": {
           "angularaxis": {
            "gridcolor": "white",
            "linecolor": "white",
            "ticks": ""
           },
           "bgcolor": "#E5ECF6",
           "radialaxis": {
            "gridcolor": "white",
            "linecolor": "white",
            "ticks": ""
           }
          },
          "scene": {
           "xaxis": {
            "backgroundcolor": "#E5ECF6",
            "gridcolor": "white",
            "gridwidth": 2,
            "linecolor": "white",
            "showbackground": true,
            "ticks": "",
            "zerolinecolor": "white"
           },
           "yaxis": {
            "backgroundcolor": "#E5ECF6",
            "gridcolor": "white",
            "gridwidth": 2,
            "linecolor": "white",
            "showbackground": true,
            "ticks": "",
            "zerolinecolor": "white"
           },
           "zaxis": {
            "backgroundcolor": "#E5ECF6",
            "gridcolor": "white",
            "gridwidth": 2,
            "linecolor": "white",
            "showbackground": true,
            "ticks": "",
            "zerolinecolor": "white"
           }
          },
          "shapedefaults": {
           "line": {
            "color": "#2a3f5f"
           }
          },
          "ternary": {
           "aaxis": {
            "gridcolor": "white",
            "linecolor": "white",
            "ticks": ""
           },
           "baxis": {
            "gridcolor": "white",
            "linecolor": "white",
            "ticks": ""
           },
           "bgcolor": "#E5ECF6",
           "caxis": {
            "gridcolor": "white",
            "linecolor": "white",
            "ticks": ""
           }
          },
          "title": {
           "x": 0.05
          },
          "xaxis": {
           "automargin": true,
           "gridcolor": "white",
           "linecolor": "white",
           "ticks": "",
           "title": {
            "standoff": 15
           },
           "zerolinecolor": "white",
           "zerolinewidth": 2
          },
          "yaxis": {
           "automargin": true,
           "gridcolor": "white",
           "linecolor": "white",
           "ticks": "",
           "title": {
            "standoff": 15
           },
           "zerolinecolor": "white",
           "zerolinewidth": 2
          }
         }
        },
        "title": {
         "text": "Distribución de productos para Popotla"
        },
        "xaxis": {
         "anchor": "y",
         "domain": [
          0,
          1
         ],
         "title": {
          "text": "categoria"
         }
        },
        "yaxis": {
         "anchor": "x",
         "domain": [
          0,
          1
         ],
         "title": {
          "text": "count"
         }
        }
       }
      }
     },
     "metadata": {}
    }
   ],
   "source": [
    "view_products_from('popotla', df)"
   ]
  },
  {
   "cell_type": "code",
   "execution_count": 301,
   "metadata": {},
   "outputs": [
    {
     "output_type": "display_data",
     "data": {
      "application/vnd.plotly.v1+json": {
       "config": {
        "plotlyServerURL": "https://plot.ly"
       },
       "data": [
        {
         "alignmentgroup": "True",
         "bingroup": "x",
         "hovertemplate": "categoria=%{x}<br>count=%{y}<extra></extra>",
         "legendgroup": "",
         "marker": {
          "color": "#636efa"
         },
         "name": "",
         "offsetgroup": "",
         "orientation": "v",
         "showlegend": false,
         "type": "histogram",
         "x": [
          "restaurantes",
          "restaurantes",
          "restaurantes",
          "restaurantes",
          "restaurantes",
          "restaurantes",
          "restaurantes",
          "comida",
          "comida",
          "comida",
          "industria",
          "industria",
          "electronicos",
          "comida",
          "electronicos",
          "ropa",
          "industria",
          "industria",
          "restaurantes",
          "ventaproductos",
          "restaurantes",
          "belleza",
          "restaurantes",
          "ventaproductos",
          "musica",
          "restaurantes",
          "electronicos",
          "comida",
          "ventaproductos",
          "restaurantes",
          "restaurantes",
          "restaurantes",
          "papeleria",
          "restaurantes",
          "restaurantes",
          "industria",
          "ventaproductos",
          "ropa",
          "arreglosgeneral",
          "ropa",
          "industria",
          "restaurantes",
          "restaurantes",
          "comida",
          "salud",
          "comida",
          "arreglosgeneral",
          "arreglosgeneral",
          "restaurantes",
          "restaurantes",
          "belleza",
          "comida",
          "restaurantes",
          "comida",
          "ropa",
          "comida",
          "ropa",
          "comida",
          "industria",
          "comida",
          "comida",
          "restaurantes",
          "comida",
          "ropa",
          "ventaproductos",
          "comida",
          "comida",
          "restaurantes",
          "comida",
          "comida",
          "comida",
          "comida",
          "ropa",
          "electronicos",
          "comida",
          "comida"
         ],
         "xaxis": "x",
         "yaxis": "y"
        }
       ],
       "layout": {
        "barmode": "relative",
        "legend": {
         "tracegroupgap": 0
        },
        "margin": {
         "t": 60
        },
        "template": {
         "data": {
          "bar": [
           {
            "error_x": {
             "color": "#2a3f5f"
            },
            "error_y": {
             "color": "#2a3f5f"
            },
            "marker": {
             "line": {
              "color": "#E5ECF6",
              "width": 0.5
             }
            },
            "type": "bar"
           }
          ],
          "barpolar": [
           {
            "marker": {
             "line": {
              "color": "#E5ECF6",
              "width": 0.5
             }
            },
            "type": "barpolar"
           }
          ],
          "carpet": [
           {
            "aaxis": {
             "endlinecolor": "#2a3f5f",
             "gridcolor": "white",
             "linecolor": "white",
             "minorgridcolor": "white",
             "startlinecolor": "#2a3f5f"
            },
            "baxis": {
             "endlinecolor": "#2a3f5f",
             "gridcolor": "white",
             "linecolor": "white",
             "minorgridcolor": "white",
             "startlinecolor": "#2a3f5f"
            },
            "type": "carpet"
           }
          ],
          "choropleth": [
           {
            "colorbar": {
             "outlinewidth": 0,
             "ticks": ""
            },
            "type": "choropleth"
           }
          ],
          "contour": [
           {
            "colorbar": {
             "outlinewidth": 0,
             "ticks": ""
            },
            "colorscale": [
             [
              0,
              "#0d0887"
             ],
             [
              0.1111111111111111,
              "#46039f"
             ],
             [
              0.2222222222222222,
              "#7201a8"
             ],
             [
              0.3333333333333333,
              "#9c179e"
             ],
             [
              0.4444444444444444,
              "#bd3786"
             ],
             [
              0.5555555555555556,
              "#d8576b"
             ],
             [
              0.6666666666666666,
              "#ed7953"
             ],
             [
              0.7777777777777778,
              "#fb9f3a"
             ],
             [
              0.8888888888888888,
              "#fdca26"
             ],
             [
              1,
              "#f0f921"
             ]
            ],
            "type": "contour"
           }
          ],
          "contourcarpet": [
           {
            "colorbar": {
             "outlinewidth": 0,
             "ticks": ""
            },
            "type": "contourcarpet"
           }
          ],
          "heatmap": [
           {
            "colorbar": {
             "outlinewidth": 0,
             "ticks": ""
            },
            "colorscale": [
             [
              0,
              "#0d0887"
             ],
             [
              0.1111111111111111,
              "#46039f"
             ],
             [
              0.2222222222222222,
              "#7201a8"
             ],
             [
              0.3333333333333333,
              "#9c179e"
             ],
             [
              0.4444444444444444,
              "#bd3786"
             ],
             [
              0.5555555555555556,
              "#d8576b"
             ],
             [
              0.6666666666666666,
              "#ed7953"
             ],
             [
              0.7777777777777778,
              "#fb9f3a"
             ],
             [
              0.8888888888888888,
              "#fdca26"
             ],
             [
              1,
              "#f0f921"
             ]
            ],
            "type": "heatmap"
           }
          ],
          "heatmapgl": [
           {
            "colorbar": {
             "outlinewidth": 0,
             "ticks": ""
            },
            "colorscale": [
             [
              0,
              "#0d0887"
             ],
             [
              0.1111111111111111,
              "#46039f"
             ],
             [
              0.2222222222222222,
              "#7201a8"
             ],
             [
              0.3333333333333333,
              "#9c179e"
             ],
             [
              0.4444444444444444,
              "#bd3786"
             ],
             [
              0.5555555555555556,
              "#d8576b"
             ],
             [
              0.6666666666666666,
              "#ed7953"
             ],
             [
              0.7777777777777778,
              "#fb9f3a"
             ],
             [
              0.8888888888888888,
              "#fdca26"
             ],
             [
              1,
              "#f0f921"
             ]
            ],
            "type": "heatmapgl"
           }
          ],
          "histogram": [
           {
            "marker": {
             "colorbar": {
              "outlinewidth": 0,
              "ticks": ""
             }
            },
            "type": "histogram"
           }
          ],
          "histogram2d": [
           {
            "colorbar": {
             "outlinewidth": 0,
             "ticks": ""
            },
            "colorscale": [
             [
              0,
              "#0d0887"
             ],
             [
              0.1111111111111111,
              "#46039f"
             ],
             [
              0.2222222222222222,
              "#7201a8"
             ],
             [
              0.3333333333333333,
              "#9c179e"
             ],
             [
              0.4444444444444444,
              "#bd3786"
             ],
             [
              0.5555555555555556,
              "#d8576b"
             ],
             [
              0.6666666666666666,
              "#ed7953"
             ],
             [
              0.7777777777777778,
              "#fb9f3a"
             ],
             [
              0.8888888888888888,
              "#fdca26"
             ],
             [
              1,
              "#f0f921"
             ]
            ],
            "type": "histogram2d"
           }
          ],
          "histogram2dcontour": [
           {
            "colorbar": {
             "outlinewidth": 0,
             "ticks": ""
            },
            "colorscale": [
             [
              0,
              "#0d0887"
             ],
             [
              0.1111111111111111,
              "#46039f"
             ],
             [
              0.2222222222222222,
              "#7201a8"
             ],
             [
              0.3333333333333333,
              "#9c179e"
             ],
             [
              0.4444444444444444,
              "#bd3786"
             ],
             [
              0.5555555555555556,
              "#d8576b"
             ],
             [
              0.6666666666666666,
              "#ed7953"
             ],
             [
              0.7777777777777778,
              "#fb9f3a"
             ],
             [
              0.8888888888888888,
              "#fdca26"
             ],
             [
              1,
              "#f0f921"
             ]
            ],
            "type": "histogram2dcontour"
           }
          ],
          "mesh3d": [
           {
            "colorbar": {
             "outlinewidth": 0,
             "ticks": ""
            },
            "type": "mesh3d"
           }
          ],
          "parcoords": [
           {
            "line": {
             "colorbar": {
              "outlinewidth": 0,
              "ticks": ""
             }
            },
            "type": "parcoords"
           }
          ],
          "pie": [
           {
            "automargin": true,
            "type": "pie"
           }
          ],
          "scatter": [
           {
            "marker": {
             "colorbar": {
              "outlinewidth": 0,
              "ticks": ""
             }
            },
            "type": "scatter"
           }
          ],
          "scatter3d": [
           {
            "line": {
             "colorbar": {
              "outlinewidth": 0,
              "ticks": ""
             }
            },
            "marker": {
             "colorbar": {
              "outlinewidth": 0,
              "ticks": ""
             }
            },
            "type": "scatter3d"
           }
          ],
          "scattercarpet": [
           {
            "marker": {
             "colorbar": {
              "outlinewidth": 0,
              "ticks": ""
             }
            },
            "type": "scattercarpet"
           }
          ],
          "scattergeo": [
           {
            "marker": {
             "colorbar": {
              "outlinewidth": 0,
              "ticks": ""
             }
            },
            "type": "scattergeo"
           }
          ],
          "scattergl": [
           {
            "marker": {
             "colorbar": {
              "outlinewidth": 0,
              "ticks": ""
             }
            },
            "type": "scattergl"
           }
          ],
          "scattermapbox": [
           {
            "marker": {
             "colorbar": {
              "outlinewidth": 0,
              "ticks": ""
             }
            },
            "type": "scattermapbox"
           }
          ],
          "scatterpolar": [
           {
            "marker": {
             "colorbar": {
              "outlinewidth": 0,
              "ticks": ""
             }
            },
            "type": "scatterpolar"
           }
          ],
          "scatterpolargl": [
           {
            "marker": {
             "colorbar": {
              "outlinewidth": 0,
              "ticks": ""
             }
            },
            "type": "scatterpolargl"
           }
          ],
          "scatterternary": [
           {
            "marker": {
             "colorbar": {
              "outlinewidth": 0,
              "ticks": ""
             }
            },
            "type": "scatterternary"
           }
          ],
          "surface": [
           {
            "colorbar": {
             "outlinewidth": 0,
             "ticks": ""
            },
            "colorscale": [
             [
              0,
              "#0d0887"
             ],
             [
              0.1111111111111111,
              "#46039f"
             ],
             [
              0.2222222222222222,
              "#7201a8"
             ],
             [
              0.3333333333333333,
              "#9c179e"
             ],
             [
              0.4444444444444444,
              "#bd3786"
             ],
             [
              0.5555555555555556,
              "#d8576b"
             ],
             [
              0.6666666666666666,
              "#ed7953"
             ],
             [
              0.7777777777777778,
              "#fb9f3a"
             ],
             [
              0.8888888888888888,
              "#fdca26"
             ],
             [
              1,
              "#f0f921"
             ]
            ],
            "type": "surface"
           }
          ],
          "table": [
           {
            "cells": {
             "fill": {
              "color": "#EBF0F8"
             },
             "line": {
              "color": "white"
             }
            },
            "header": {
             "fill": {
              "color": "#C8D4E3"
             },
             "line": {
              "color": "white"
             }
            },
            "type": "table"
           }
          ]
         },
         "layout": {
          "annotationdefaults": {
           "arrowcolor": "#2a3f5f",
           "arrowhead": 0,
           "arrowwidth": 1
          },
          "autotypenumbers": "strict",
          "coloraxis": {
           "colorbar": {
            "outlinewidth": 0,
            "ticks": ""
           }
          },
          "colorscale": {
           "diverging": [
            [
             0,
             "#8e0152"
            ],
            [
             0.1,
             "#c51b7d"
            ],
            [
             0.2,
             "#de77ae"
            ],
            [
             0.3,
             "#f1b6da"
            ],
            [
             0.4,
             "#fde0ef"
            ],
            [
             0.5,
             "#f7f7f7"
            ],
            [
             0.6,
             "#e6f5d0"
            ],
            [
             0.7,
             "#b8e186"
            ],
            [
             0.8,
             "#7fbc41"
            ],
            [
             0.9,
             "#4d9221"
            ],
            [
             1,
             "#276419"
            ]
           ],
           "sequential": [
            [
             0,
             "#0d0887"
            ],
            [
             0.1111111111111111,
             "#46039f"
            ],
            [
             0.2222222222222222,
             "#7201a8"
            ],
            [
             0.3333333333333333,
             "#9c179e"
            ],
            [
             0.4444444444444444,
             "#bd3786"
            ],
            [
             0.5555555555555556,
             "#d8576b"
            ],
            [
             0.6666666666666666,
             "#ed7953"
            ],
            [
             0.7777777777777778,
             "#fb9f3a"
            ],
            [
             0.8888888888888888,
             "#fdca26"
            ],
            [
             1,
             "#f0f921"
            ]
           ],
           "sequentialminus": [
            [
             0,
             "#0d0887"
            ],
            [
             0.1111111111111111,
             "#46039f"
            ],
            [
             0.2222222222222222,
             "#7201a8"
            ],
            [
             0.3333333333333333,
             "#9c179e"
            ],
            [
             0.4444444444444444,
             "#bd3786"
            ],
            [
             0.5555555555555556,
             "#d8576b"
            ],
            [
             0.6666666666666666,
             "#ed7953"
            ],
            [
             0.7777777777777778,
             "#fb9f3a"
            ],
            [
             0.8888888888888888,
             "#fdca26"
            ],
            [
             1,
             "#f0f921"
            ]
           ]
          },
          "colorway": [
           "#636efa",
           "#EF553B",
           "#00cc96",
           "#ab63fa",
           "#FFA15A",
           "#19d3f3",
           "#FF6692",
           "#B6E880",
           "#FF97FF",
           "#FECB52"
          ],
          "font": {
           "color": "#2a3f5f"
          },
          "geo": {
           "bgcolor": "white",
           "lakecolor": "white",
           "landcolor": "#E5ECF6",
           "showlakes": true,
           "showland": true,
           "subunitcolor": "white"
          },
          "hoverlabel": {
           "align": "left"
          },
          "hovermode": "closest",
          "mapbox": {
           "style": "light"
          },
          "paper_bgcolor": "white",
          "plot_bgcolor": "#E5ECF6",
          "polar": {
           "angularaxis": {
            "gridcolor": "white",
            "linecolor": "white",
            "ticks": ""
           },
           "bgcolor": "#E5ECF6",
           "radialaxis": {
            "gridcolor": "white",
            "linecolor": "white",
            "ticks": ""
           }
          },
          "scene": {
           "xaxis": {
            "backgroundcolor": "#E5ECF6",
            "gridcolor": "white",
            "gridwidth": 2,
            "linecolor": "white",
            "showbackground": true,
            "ticks": "",
            "zerolinecolor": "white"
           },
           "yaxis": {
            "backgroundcolor": "#E5ECF6",
            "gridcolor": "white",
            "gridwidth": 2,
            "linecolor": "white",
            "showbackground": true,
            "ticks": "",
            "zerolinecolor": "white"
           },
           "zaxis": {
            "backgroundcolor": "#E5ECF6",
            "gridcolor": "white",
            "gridwidth": 2,
            "linecolor": "white",
            "showbackground": true,
            "ticks": "",
            "zerolinecolor": "white"
           }
          },
          "shapedefaults": {
           "line": {
            "color": "#2a3f5f"
           }
          },
          "ternary": {
           "aaxis": {
            "gridcolor": "white",
            "linecolor": "white",
            "ticks": ""
           },
           "baxis": {
            "gridcolor": "white",
            "linecolor": "white",
            "ticks": ""
           },
           "bgcolor": "#E5ECF6",
           "caxis": {
            "gridcolor": "white",
            "linecolor": "white",
            "ticks": ""
           }
          },
          "title": {
           "x": 0.05
          },
          "xaxis": {
           "automargin": true,
           "gridcolor": "white",
           "linecolor": "white",
           "ticks": "",
           "title": {
            "standoff": 15
           },
           "zerolinecolor": "white",
           "zerolinewidth": 2
          },
          "yaxis": {
           "automargin": true,
           "gridcolor": "white",
           "linecolor": "white",
           "ticks": "",
           "title": {
            "standoff": 15
           },
           "zerolinecolor": "white",
           "zerolinewidth": 2
          }
         }
        },
        "title": {
         "text": "Distribución de productos para Tlaxpana"
        },
        "xaxis": {
         "anchor": "y",
         "domain": [
          0,
          1
         ],
         "title": {
          "text": "categoria"
         }
        },
        "yaxis": {
         "anchor": "x",
         "domain": [
          0,
          1
         ],
         "title": {
          "text": "count"
         }
        }
       }
      }
     },
     "metadata": {}
    }
   ],
   "source": [
    "view_products_from('tlaxpana', df)"
   ]
  },
  {
   "source": [
    "## Product Space matrix"
   ],
   "cell_type": "markdown",
   "metadata": {}
  },
  {
   "source": [
    "```product_space_matrix``` es la matriz que relaciona una colonia con los productos que produce.\n",
    "\n",
    "En el renglón $i$, columna $j$ obtendremos un $0$ si la colonia $i$ NO produce el producto $j$ y un $1$ si sí lo produce."
   ],
   "cell_type": "markdown",
   "metadata": {}
  },
  {
   "cell_type": "code",
   "execution_count": 302,
   "metadata": {},
   "outputs": [],
   "source": [
    "product_space_matrix = np.array([[0]*num_productos]*num_colonias)\n",
    "productos = list(df.categoria.unique())\n",
    "colonias = list(df.colonia.unique())\n",
    "for _, general_row in df.iterrows():\n",
    "    curr_colonia = general_row.colonia\n",
    "    categorias_por_colonia = list(df[df.colonia == curr_colonia].categoria.unique())\n",
    "    col_idx = colonias.index(curr_colonia)\n",
    "    for cat in categorias_por_colonia:\n",
    "        cat_idx = productos.index(cat)\n",
    "        product_space_matrix[col_idx][cat_idx] = 1"
   ]
  },
  {
   "cell_type": "code",
   "execution_count": 303,
   "metadata": {},
   "outputs": [
    {
     "output_type": "execute_result",
     "data": {
      "text/plain": [
       "array([[1, 0, 0, 0, 0, 0, 0, 0, 0, 0, 0, 0, 0],\n",
       "       [1, 1, 1, 1, 1, 1, 1, 1, 1, 1, 0, 1, 1],\n",
       "       [1, 1, 1, 0, 1, 1, 1, 1, 1, 1, 0, 1, 0],\n",
       "       [0, 0, 0, 1, 0, 0, 0, 0, 0, 0, 0, 0, 0],\n",
       "       [0, 1, 0, 0, 0, 0, 0, 0, 0, 0, 0, 0, 0],\n",
       "       [0, 0, 0, 0, 0, 0, 1, 0, 0, 0, 0, 0, 0],\n",
       "       [1, 1, 1, 1, 1, 1, 1, 1, 1, 1, 1, 0, 1],\n",
       "       [1, 1, 1, 0, 1, 1, 1, 1, 1, 1, 1, 1, 0],\n",
       "       [0, 0, 0, 0, 1, 0, 0, 1, 0, 0, 0, 0, 0],\n",
       "       [1, 1, 1, 0, 0, 1, 1, 1, 1, 1, 1, 1, 0],\n",
       "       [1, 1, 1, 1, 1, 1, 1, 1, 1, 1, 0, 1, 0],\n",
       "       [0, 0, 0, 0, 0, 0, 1, 0, 0, 0, 0, 0, 0],\n",
       "       [0, 0, 0, 0, 1, 0, 0, 0, 0, 0, 0, 0, 0]])"
      ]
     },
     "metadata": {},
     "execution_count": 303
    }
   ],
   "source": [
    "product_space_matrix"
   ]
  },
  {
   "source": [
    "## Gráfica bipartita"
   ],
   "cell_type": "markdown",
   "metadata": {}
  },
  {
   "cell_type": "code",
   "execution_count": 304,
   "metadata": {},
   "outputs": [
    {
     "output_type": "stream",
     "name": "stdout",
     "text": [
      "{'jaime torres bodet': 1, 'el rosario': 2, 'tezozomoc': 3, 'doctores': 4, 'olivar del conde 1a seccin': 5, 'campamento 2 de octubre': 6, 'popotla': 7, 'tlaxpana': 8, 'escandon': 9, 'san martin xochinahuac': 10, 'san juan tlihuaca': 11, 'xaltocan': 12, 'santa maria nativitas': 13}\n\n{'arreglosgeneral': 51, 'industria': 52, 'restaurantes': 53, 'fotografia': 54, 'ventaproductos': 55, 'comida': 56, 'ropa': 57, 'papeleria': 58, 'belleza': 59, 'electronicos': 60, 'musica': 61, 'salud': 62, 'mascotas': 63}\n"
     ]
    }
   ],
   "source": [
    "colonias_dict = dict(zip(colonias, list(range(1,len(colonias)+1))))\n",
    "productos_dict = dict(zip(productos, list(range(51, 50 + len(productos)+1))))\n",
    "print(colonias_dict, end='\\n\\n')\n",
    "print(productos_dict)"
   ]
  },
  {
   "cell_type": "code",
   "execution_count": 305,
   "metadata": {},
   "outputs": [
    {
     "output_type": "execute_result",
     "data": {
      "text/plain": [
       "NodeView((1, 2, 3, 4, 5, 6, 7, 8, 9, 10, 11, 12, 13, 51, 52, 53, 54, 55, 56, 57, 58, 59, 60, 61, 62, 63))"
      ]
     },
     "metadata": {},
     "execution_count": 305
    }
   ],
   "source": [
    "G = nx.Graph()\n",
    "G.add_nodes_from(colonias_dict.values())\n",
    "G.add_nodes_from(productos_dict.values())\n",
    "G.nodes()"
   ]
  },
  {
   "cell_type": "code",
   "execution_count": 306,
   "metadata": {},
   "outputs": [],
   "source": [
    "for colonia_idx in colonias_dict.values():\n",
    "    for prod_idx in productos_dict.values():\n",
    "        prod_idx -= 50\n",
    "        if product_space_matrix[colonia_idx-1][prod_idx-1] == 1:\n",
    "            G.add_edge(colonia_idx, prod_idx+50, color=\"#636ef9\")"
   ]
  },
  {
   "cell_type": "code",
   "execution_count": 307,
   "metadata": {},
   "outputs": [
    {
     "output_type": "display_data",
     "data": {
      "text/plain": "<Figure size 720x576 with 1 Axes>",
      "image/svg+xml": "<?xml version=\"1.0\" encoding=\"utf-8\" standalone=\"no\"?>\n<!DOCTYPE svg PUBLIC \"-//W3C//DTD SVG 1.1//EN\"\n  \"http://www.w3.org/Graphics/SVG/1.1/DTD/svg11.dtd\">\n<!-- Created with matplotlib (https://matplotlib.org/) -->\n<svg height=\"467.277656pt\" version=\"1.1\" viewBox=\"0 0 572.4 467.277656\" width=\"572.4pt\" xmlns=\"http://www.w3.org/2000/svg\" xmlns:xlink=\"http://www.w3.org/1999/xlink\">\n <metadata>\n  <rdf:RDF xmlns:cc=\"http://creativecommons.org/ns#\" xmlns:dc=\"http://purl.org/dc/elements/1.1/\" xmlns:rdf=\"http://www.w3.org/1999/02/22-rdf-syntax-ns#\">\n   <cc:Work>\n    <dc:type rdf:resource=\"http://purl.org/dc/dcmitype/StillImage\"/>\n    <dc:date>2021-02-05T19:56:10.395830</dc:date>\n    <dc:format>image/svg+xml</dc:format>\n    <dc:creator>\n     <cc:Agent>\n      <dc:title>Matplotlib v3.3.2, https://matplotlib.org/</dc:title>\n     </cc:Agent>\n    </dc:creator>\n   </cc:Work>\n  </rdf:RDF>\n </metadata>\n <defs>\n  <style type=\"text/css\">*{stroke-linecap:butt;stroke-linejoin:round;}</style>\n </defs>\n <g id=\"figure_1\">\n  <g id=\"patch_1\">\n   <path d=\"M 0 467.277656 \nL 572.4 467.277656 \nL 572.4 0 \nL 0 0 \nz\n\" style=\"fill:#ffffff;\"/>\n  </g>\n  <g id=\"axes_1\">\n   <g id=\"LineCollection_1\">\n    <path clip-path=\"url(#p12d8a32447)\" d=\"M 32.563636 440.310384 \nL 539.836364 440.310384 \n\" style=\"fill:none;stroke:#000000;\"/>\n    <path clip-path=\"url(#p12d8a32447)\" d=\"M 32.563636 407.364929 \nL 539.836364 440.310384 \n\" style=\"fill:none;stroke:#000000;\"/>\n    <path clip-path=\"url(#p12d8a32447)\" d=\"M 32.563636 407.364929 \nL 539.836364 407.364929 \n\" style=\"fill:none;stroke:#000000;\"/>\n    <path clip-path=\"url(#p12d8a32447)\" d=\"M 32.563636 407.364929 \nL 539.836364 374.419474 \n\" style=\"fill:none;stroke:#000000;\"/>\n    <path clip-path=\"url(#p12d8a32447)\" d=\"M 32.563636 407.364929 \nL 539.836364 341.47402 \n\" style=\"fill:none;stroke:#000000;\"/>\n    <path clip-path=\"url(#p12d8a32447)\" d=\"M 32.563636 407.364929 \nL 539.836364 308.528565 \n\" style=\"fill:none;stroke:#000000;\"/>\n    <path clip-path=\"url(#p12d8a32447)\" d=\"M 32.563636 407.364929 \nL 539.836364 275.583111 \n\" style=\"fill:none;stroke:#000000;\"/>\n    <path clip-path=\"url(#p12d8a32447)\" d=\"M 32.563636 407.364929 \nL 539.836364 242.637656 \n\" style=\"fill:none;stroke:#000000;\"/>\n    <path clip-path=\"url(#p12d8a32447)\" d=\"M 32.563636 407.364929 \nL 539.836364 209.692202 \n\" style=\"fill:none;stroke:#000000;\"/>\n    <path clip-path=\"url(#p12d8a32447)\" d=\"M 32.563636 407.364929 \nL 539.836364 176.746747 \n\" style=\"fill:none;stroke:#000000;\"/>\n    <path clip-path=\"url(#p12d8a32447)\" d=\"M 32.563636 407.364929 \nL 539.836364 143.801293 \n\" style=\"fill:none;stroke:#000000;\"/>\n    <path clip-path=\"url(#p12d8a32447)\" d=\"M 32.563636 407.364929 \nL 539.836364 77.910384 \n\" style=\"fill:none;stroke:#000000;\"/>\n    <path clip-path=\"url(#p12d8a32447)\" d=\"M 32.563636 407.364929 \nL 539.836364 44.964929 \n\" style=\"fill:none;stroke:#000000;\"/>\n    <path clip-path=\"url(#p12d8a32447)\" d=\"M 32.563636 374.419474 \nL 539.836364 440.310384 \n\" style=\"fill:none;stroke:#000000;\"/>\n    <path clip-path=\"url(#p12d8a32447)\" d=\"M 32.563636 374.419474 \nL 539.836364 407.364929 \n\" style=\"fill:none;stroke:#000000;\"/>\n    <path clip-path=\"url(#p12d8a32447)\" d=\"M 32.563636 374.419474 \nL 539.836364 374.419474 \n\" style=\"fill:none;stroke:#000000;\"/>\n    <path clip-path=\"url(#p12d8a32447)\" d=\"M 32.563636 374.419474 \nL 539.836364 308.528565 \n\" style=\"fill:none;stroke:#000000;\"/>\n    <path clip-path=\"url(#p12d8a32447)\" d=\"M 32.563636 374.419474 \nL 539.836364 275.583111 \n\" style=\"fill:none;stroke:#000000;\"/>\n    <path clip-path=\"url(#p12d8a32447)\" d=\"M 32.563636 374.419474 \nL 539.836364 242.637656 \n\" style=\"fill:none;stroke:#000000;\"/>\n    <path clip-path=\"url(#p12d8a32447)\" d=\"M 32.563636 374.419474 \nL 539.836364 209.692202 \n\" style=\"fill:none;stroke:#000000;\"/>\n    <path clip-path=\"url(#p12d8a32447)\" d=\"M 32.563636 374.419474 \nL 539.836364 176.746747 \n\" style=\"fill:none;stroke:#000000;\"/>\n    <path clip-path=\"url(#p12d8a32447)\" d=\"M 32.563636 374.419474 \nL 539.836364 143.801293 \n\" style=\"fill:none;stroke:#000000;\"/>\n    <path clip-path=\"url(#p12d8a32447)\" d=\"M 32.563636 374.419474 \nL 539.836364 77.910384 \n\" style=\"fill:none;stroke:#000000;\"/>\n    <path clip-path=\"url(#p12d8a32447)\" d=\"M 32.563636 341.47402 \nL 539.836364 341.47402 \n\" style=\"fill:none;stroke:#000000;\"/>\n    <path clip-path=\"url(#p12d8a32447)\" d=\"M 32.563636 308.528565 \nL 539.836364 407.364929 \n\" style=\"fill:none;stroke:#000000;\"/>\n    <path clip-path=\"url(#p12d8a32447)\" d=\"M 32.563636 275.583111 \nL 539.836364 242.637656 \n\" style=\"fill:none;stroke:#000000;\"/>\n    <path clip-path=\"url(#p12d8a32447)\" d=\"M 32.563636 242.637656 \nL 539.836364 440.310384 \n\" style=\"fill:none;stroke:#000000;\"/>\n    <path clip-path=\"url(#p12d8a32447)\" d=\"M 32.563636 242.637656 \nL 539.836364 407.364929 \n\" style=\"fill:none;stroke:#000000;\"/>\n    <path clip-path=\"url(#p12d8a32447)\" d=\"M 32.563636 242.637656 \nL 539.836364 374.419474 \n\" style=\"fill:none;stroke:#000000;\"/>\n    <path clip-path=\"url(#p12d8a32447)\" d=\"M 32.563636 242.637656 \nL 539.836364 341.47402 \n\" style=\"fill:none;stroke:#000000;\"/>\n    <path clip-path=\"url(#p12d8a32447)\" d=\"M 32.563636 242.637656 \nL 539.836364 308.528565 \n\" style=\"fill:none;stroke:#000000;\"/>\n    <path clip-path=\"url(#p12d8a32447)\" d=\"M 32.563636 242.637656 \nL 539.836364 275.583111 \n\" style=\"fill:none;stroke:#000000;\"/>\n    <path clip-path=\"url(#p12d8a32447)\" d=\"M 32.563636 242.637656 \nL 539.836364 242.637656 \n\" style=\"fill:none;stroke:#000000;\"/>\n    <path clip-path=\"url(#p12d8a32447)\" d=\"M 32.563636 242.637656 \nL 539.836364 209.692202 \n\" style=\"fill:none;stroke:#000000;\"/>\n    <path clip-path=\"url(#p12d8a32447)\" d=\"M 32.563636 242.637656 \nL 539.836364 176.746747 \n\" style=\"fill:none;stroke:#000000;\"/>\n    <path clip-path=\"url(#p12d8a32447)\" d=\"M 32.563636 242.637656 \nL 539.836364 143.801293 \n\" style=\"fill:none;stroke:#000000;\"/>\n    <path clip-path=\"url(#p12d8a32447)\" d=\"M 32.563636 242.637656 \nL 539.836364 110.855838 \n\" style=\"fill:none;stroke:#000000;\"/>\n    <path clip-path=\"url(#p12d8a32447)\" d=\"M 32.563636 242.637656 \nL 539.836364 44.964929 \n\" style=\"fill:none;stroke:#000000;\"/>\n    <path clip-path=\"url(#p12d8a32447)\" d=\"M 32.563636 209.692202 \nL 539.836364 440.310384 \n\" style=\"fill:none;stroke:#000000;\"/>\n    <path clip-path=\"url(#p12d8a32447)\" d=\"M 32.563636 209.692202 \nL 539.836364 407.364929 \n\" style=\"fill:none;stroke:#000000;\"/>\n    <path clip-path=\"url(#p12d8a32447)\" d=\"M 32.563636 209.692202 \nL 539.836364 374.419474 \n\" style=\"fill:none;stroke:#000000;\"/>\n    <path clip-path=\"url(#p12d8a32447)\" d=\"M 32.563636 209.692202 \nL 539.836364 308.528565 \n\" style=\"fill:none;stroke:#000000;\"/>\n    <path clip-path=\"url(#p12d8a32447)\" d=\"M 32.563636 209.692202 \nL 539.836364 275.583111 \n\" style=\"fill:none;stroke:#000000;\"/>\n    <path clip-path=\"url(#p12d8a32447)\" d=\"M 32.563636 209.692202 \nL 539.836364 242.637656 \n\" style=\"fill:none;stroke:#000000;\"/>\n    <path clip-path=\"url(#p12d8a32447)\" d=\"M 32.563636 209.692202 \nL 539.836364 209.692202 \n\" style=\"fill:none;stroke:#000000;\"/>\n    <path clip-path=\"url(#p12d8a32447)\" d=\"M 32.563636 209.692202 \nL 539.836364 176.746747 \n\" style=\"fill:none;stroke:#000000;\"/>\n    <path clip-path=\"url(#p12d8a32447)\" d=\"M 32.563636 209.692202 \nL 539.836364 143.801293 \n\" style=\"fill:none;stroke:#000000;\"/>\n    <path clip-path=\"url(#p12d8a32447)\" d=\"M 32.563636 209.692202 \nL 539.836364 110.855838 \n\" style=\"fill:none;stroke:#000000;\"/>\n    <path clip-path=\"url(#p12d8a32447)\" d=\"M 32.563636 209.692202 \nL 539.836364 77.910384 \n\" style=\"fill:none;stroke:#000000;\"/>\n    <path clip-path=\"url(#p12d8a32447)\" d=\"M 32.563636 176.746747 \nL 539.836364 308.528565 \n\" style=\"fill:none;stroke:#000000;\"/>\n    <path clip-path=\"url(#p12d8a32447)\" d=\"M 32.563636 176.746747 \nL 539.836364 209.692202 \n\" style=\"fill:none;stroke:#000000;\"/>\n    <path clip-path=\"url(#p12d8a32447)\" d=\"M 32.563636 143.801293 \nL 539.836364 440.310384 \n\" style=\"fill:none;stroke:#000000;\"/>\n    <path clip-path=\"url(#p12d8a32447)\" d=\"M 32.563636 143.801293 \nL 539.836364 407.364929 \n\" style=\"fill:none;stroke:#000000;\"/>\n    <path clip-path=\"url(#p12d8a32447)\" d=\"M 32.563636 143.801293 \nL 539.836364 374.419474 \n\" style=\"fill:none;stroke:#000000;\"/>\n    <path clip-path=\"url(#p12d8a32447)\" d=\"M 32.563636 143.801293 \nL 539.836364 275.583111 \n\" style=\"fill:none;stroke:#000000;\"/>\n    <path clip-path=\"url(#p12d8a32447)\" d=\"M 32.563636 143.801293 \nL 539.836364 242.637656 \n\" style=\"fill:none;stroke:#000000;\"/>\n    <path clip-path=\"url(#p12d8a32447)\" d=\"M 32.563636 143.801293 \nL 539.836364 209.692202 \n\" style=\"fill:none;stroke:#000000;\"/>\n    <path clip-path=\"url(#p12d8a32447)\" d=\"M 32.563636 143.801293 \nL 539.836364 176.746747 \n\" style=\"fill:none;stroke:#000000;\"/>\n    <path clip-path=\"url(#p12d8a32447)\" d=\"M 32.563636 143.801293 \nL 539.836364 143.801293 \n\" style=\"fill:none;stroke:#000000;\"/>\n    <path clip-path=\"url(#p12d8a32447)\" d=\"M 32.563636 143.801293 \nL 539.836364 110.855838 \n\" style=\"fill:none;stroke:#000000;\"/>\n    <path clip-path=\"url(#p12d8a32447)\" d=\"M 32.563636 143.801293 \nL 539.836364 77.910384 \n\" style=\"fill:none;stroke:#000000;\"/>\n    <path clip-path=\"url(#p12d8a32447)\" d=\"M 32.563636 110.855838 \nL 539.836364 440.310384 \n\" style=\"fill:none;stroke:#000000;\"/>\n    <path clip-path=\"url(#p12d8a32447)\" d=\"M 32.563636 110.855838 \nL 539.836364 407.364929 \n\" style=\"fill:none;stroke:#000000;\"/>\n    <path clip-path=\"url(#p12d8a32447)\" d=\"M 32.563636 110.855838 \nL 539.836364 374.419474 \n\" style=\"fill:none;stroke:#000000;\"/>\n    <path clip-path=\"url(#p12d8a32447)\" d=\"M 32.563636 110.855838 \nL 539.836364 341.47402 \n\" style=\"fill:none;stroke:#000000;\"/>\n    <path clip-path=\"url(#p12d8a32447)\" d=\"M 32.563636 110.855838 \nL 539.836364 308.528565 \n\" style=\"fill:none;stroke:#000000;\"/>\n    <path clip-path=\"url(#p12d8a32447)\" d=\"M 32.563636 110.855838 \nL 539.836364 275.583111 \n\" style=\"fill:none;stroke:#000000;\"/>\n    <path clip-path=\"url(#p12d8a32447)\" d=\"M 32.563636 110.855838 \nL 539.836364 242.637656 \n\" style=\"fill:none;stroke:#000000;\"/>\n    <path clip-path=\"url(#p12d8a32447)\" d=\"M 32.563636 110.855838 \nL 539.836364 209.692202 \n\" style=\"fill:none;stroke:#000000;\"/>\n    <path clip-path=\"url(#p12d8a32447)\" d=\"M 32.563636 110.855838 \nL 539.836364 176.746747 \n\" style=\"fill:none;stroke:#000000;\"/>\n    <path clip-path=\"url(#p12d8a32447)\" d=\"M 32.563636 110.855838 \nL 539.836364 143.801293 \n\" style=\"fill:none;stroke:#000000;\"/>\n    <path clip-path=\"url(#p12d8a32447)\" d=\"M 32.563636 110.855838 \nL 539.836364 77.910384 \n\" style=\"fill:none;stroke:#000000;\"/>\n    <path clip-path=\"url(#p12d8a32447)\" d=\"M 32.563636 77.910384 \nL 539.836364 242.637656 \n\" style=\"fill:none;stroke:#000000;\"/>\n    <path clip-path=\"url(#p12d8a32447)\" d=\"M 32.563636 44.964929 \nL 539.836364 308.528565 \n\" style=\"fill:none;stroke:#000000;\"/>\n   </g>\n   <g id=\"PathCollection_1\">\n    <defs>\n     <path d=\"M 0 12.4499 \nC 3.301752 12.4499 6.468717 11.1381 8.803408 8.803408 \nC 11.1381 6.468717 12.4499 3.301752 12.4499 0 \nC 12.4499 -3.301752 11.1381 -6.468717 8.803408 -8.803408 \nC 6.468717 -11.1381 3.301752 -12.4499 0 -12.4499 \nC -3.301752 -12.4499 -6.468717 -11.1381 -8.803408 -8.803408 \nC -11.1381 -6.468717 -12.4499 -3.301752 -12.4499 0 \nC -12.4499 3.301752 -11.1381 6.468717 -8.803408 8.803408 \nC -6.468717 11.1381 -3.301752 12.4499 0 12.4499 \nz\n\" id=\"mb5aa026085\" style=\"stroke:#5d67d9;\"/>\n    </defs>\n    <g clip-path=\"url(#p12d8a32447)\">\n     <use style=\"fill:#5d67d9;stroke:#5d67d9;\" x=\"32.563636\" xlink:href=\"#mb5aa026085\" y=\"440.310384\"/>\n     <use style=\"fill:#5d67d9;stroke:#5d67d9;\" x=\"32.563636\" xlink:href=\"#mb5aa026085\" y=\"407.364929\"/>\n     <use style=\"fill:#5d67d9;stroke:#5d67d9;\" x=\"32.563636\" xlink:href=\"#mb5aa026085\" y=\"374.419474\"/>\n     <use style=\"fill:#5d67d9;stroke:#5d67d9;\" x=\"32.563636\" xlink:href=\"#mb5aa026085\" y=\"341.47402\"/>\n     <use style=\"fill:#5d67d9;stroke:#5d67d9;\" x=\"32.563636\" xlink:href=\"#mb5aa026085\" y=\"308.528565\"/>\n     <use style=\"fill:#5d67d9;stroke:#5d67d9;\" x=\"32.563636\" xlink:href=\"#mb5aa026085\" y=\"275.583111\"/>\n     <use style=\"fill:#5d67d9;stroke:#5d67d9;\" x=\"32.563636\" xlink:href=\"#mb5aa026085\" y=\"242.637656\"/>\n     <use style=\"fill:#5d67d9;stroke:#5d67d9;\" x=\"32.563636\" xlink:href=\"#mb5aa026085\" y=\"209.692202\"/>\n     <use style=\"fill:#5d67d9;stroke:#5d67d9;\" x=\"32.563636\" xlink:href=\"#mb5aa026085\" y=\"176.746747\"/>\n     <use style=\"fill:#5d67d9;stroke:#5d67d9;\" x=\"32.563636\" xlink:href=\"#mb5aa026085\" y=\"143.801293\"/>\n     <use style=\"fill:#5d67d9;stroke:#5d67d9;\" x=\"32.563636\" xlink:href=\"#mb5aa026085\" y=\"110.855838\"/>\n     <use style=\"fill:#5d67d9;stroke:#5d67d9;\" x=\"32.563636\" xlink:href=\"#mb5aa026085\" y=\"77.910384\"/>\n     <use style=\"fill:#5d67d9;stroke:#5d67d9;\" x=\"32.563636\" xlink:href=\"#mb5aa026085\" y=\"44.964929\"/>\n     <use style=\"fill:#5d67d9;stroke:#5d67d9;\" x=\"539.836364\" xlink:href=\"#mb5aa026085\" y=\"440.310384\"/>\n     <use style=\"fill:#5d67d9;stroke:#5d67d9;\" x=\"539.836364\" xlink:href=\"#mb5aa026085\" y=\"407.364929\"/>\n     <use style=\"fill:#5d67d9;stroke:#5d67d9;\" x=\"539.836364\" xlink:href=\"#mb5aa026085\" y=\"374.419474\"/>\n     <use style=\"fill:#5d67d9;stroke:#5d67d9;\" x=\"539.836364\" xlink:href=\"#mb5aa026085\" y=\"341.47402\"/>\n     <use style=\"fill:#5d67d9;stroke:#5d67d9;\" x=\"539.836364\" xlink:href=\"#mb5aa026085\" y=\"308.528565\"/>\n     <use style=\"fill:#5d67d9;stroke:#5d67d9;\" x=\"539.836364\" xlink:href=\"#mb5aa026085\" y=\"275.583111\"/>\n     <use style=\"fill:#5d67d9;stroke:#5d67d9;\" x=\"539.836364\" xlink:href=\"#mb5aa026085\" y=\"242.637656\"/>\n     <use style=\"fill:#5d67d9;stroke:#5d67d9;\" x=\"539.836364\" xlink:href=\"#mb5aa026085\" y=\"209.692202\"/>\n     <use style=\"fill:#5d67d9;stroke:#5d67d9;\" x=\"539.836364\" xlink:href=\"#mb5aa026085\" y=\"176.746747\"/>\n     <use style=\"fill:#5d67d9;stroke:#5d67d9;\" x=\"539.836364\" xlink:href=\"#mb5aa026085\" y=\"143.801293\"/>\n     <use style=\"fill:#5d67d9;stroke:#5d67d9;\" x=\"539.836364\" xlink:href=\"#mb5aa026085\" y=\"110.855838\"/>\n     <use style=\"fill:#5d67d9;stroke:#5d67d9;\" x=\"539.836364\" xlink:href=\"#mb5aa026085\" y=\"77.910384\"/>\n     <use style=\"fill:#5d67d9;stroke:#5d67d9;\" x=\"539.836364\" xlink:href=\"#mb5aa026085\" y=\"44.964929\"/>\n    </g>\n   </g>\n   <g id=\"text_1\">\n    <g clip-path=\"url(#p12d8a32447)\">\n     <!-- 1 -->\n     <g transform=\"translate(28.746136 443.621634)scale(0.12 -0.12)\">\n      <defs>\n       <path d=\"M 12.40625 8.296875 \nL 28.515625 8.296875 \nL 28.515625 63.921875 \nL 10.984375 60.40625 \nL 10.984375 69.390625 \nL 28.421875 72.90625 \nL 38.28125 72.90625 \nL 38.28125 8.296875 \nL 54.390625 8.296875 \nL 54.390625 0 \nL 12.40625 0 \nz\n\" id=\"DejaVuSans-49\"/>\n      </defs>\n      <use xlink:href=\"#DejaVuSans-49\"/>\n     </g>\n    </g>\n   </g>\n   <g id=\"text_2\">\n    <g clip-path=\"url(#p12d8a32447)\">\n     <!-- 2 -->\n     <g transform=\"translate(28.746136 410.676179)scale(0.12 -0.12)\">\n      <defs>\n       <path d=\"M 19.1875 8.296875 \nL 53.609375 8.296875 \nL 53.609375 0 \nL 7.328125 0 \nL 7.328125 8.296875 \nQ 12.9375 14.109375 22.625 23.890625 \nQ 32.328125 33.6875 34.8125 36.53125 \nQ 39.546875 41.84375 41.421875 45.53125 \nQ 43.3125 49.21875 43.3125 52.78125 \nQ 43.3125 58.59375 39.234375 62.25 \nQ 35.15625 65.921875 28.609375 65.921875 \nQ 23.96875 65.921875 18.8125 64.3125 \nQ 13.671875 62.703125 7.8125 59.421875 \nL 7.8125 69.390625 \nQ 13.765625 71.78125 18.9375 73 \nQ 24.125 74.21875 28.421875 74.21875 \nQ 39.75 74.21875 46.484375 68.546875 \nQ 53.21875 62.890625 53.21875 53.421875 \nQ 53.21875 48.921875 51.53125 44.890625 \nQ 49.859375 40.875 45.40625 35.40625 \nQ 44.1875 33.984375 37.640625 27.21875 \nQ 31.109375 20.453125 19.1875 8.296875 \nz\n\" id=\"DejaVuSans-50\"/>\n      </defs>\n      <use xlink:href=\"#DejaVuSans-50\"/>\n     </g>\n    </g>\n   </g>\n   <g id=\"text_3\">\n    <g clip-path=\"url(#p12d8a32447)\">\n     <!-- 3 -->\n     <g transform=\"translate(28.746136 377.730724)scale(0.12 -0.12)\">\n      <defs>\n       <path d=\"M 40.578125 39.3125 \nQ 47.65625 37.796875 51.625 33 \nQ 55.609375 28.21875 55.609375 21.1875 \nQ 55.609375 10.40625 48.1875 4.484375 \nQ 40.765625 -1.421875 27.09375 -1.421875 \nQ 22.515625 -1.421875 17.65625 -0.515625 \nQ 12.796875 0.390625 7.625 2.203125 \nL 7.625 11.71875 \nQ 11.71875 9.328125 16.59375 8.109375 \nQ 21.484375 6.890625 26.8125 6.890625 \nQ 36.078125 6.890625 40.9375 10.546875 \nQ 45.796875 14.203125 45.796875 21.1875 \nQ 45.796875 27.640625 41.28125 31.265625 \nQ 36.765625 34.90625 28.71875 34.90625 \nL 20.21875 34.90625 \nL 20.21875 43.015625 \nL 29.109375 43.015625 \nQ 36.375 43.015625 40.234375 45.921875 \nQ 44.09375 48.828125 44.09375 54.296875 \nQ 44.09375 59.90625 40.109375 62.90625 \nQ 36.140625 65.921875 28.71875 65.921875 \nQ 24.65625 65.921875 20.015625 65.03125 \nQ 15.375 64.15625 9.8125 62.3125 \nL 9.8125 71.09375 \nQ 15.4375 72.65625 20.34375 73.4375 \nQ 25.25 74.21875 29.59375 74.21875 \nQ 40.828125 74.21875 47.359375 69.109375 \nQ 53.90625 64.015625 53.90625 55.328125 \nQ 53.90625 49.265625 50.4375 45.09375 \nQ 46.96875 40.921875 40.578125 39.3125 \nz\n\" id=\"DejaVuSans-51\"/>\n      </defs>\n      <use xlink:href=\"#DejaVuSans-51\"/>\n     </g>\n    </g>\n   </g>\n   <g id=\"text_4\">\n    <g clip-path=\"url(#p12d8a32447)\">\n     <!-- 4 -->\n     <g transform=\"translate(28.746136 344.78527)scale(0.12 -0.12)\">\n      <defs>\n       <path d=\"M 37.796875 64.3125 \nL 12.890625 25.390625 \nL 37.796875 25.390625 \nz\nM 35.203125 72.90625 \nL 47.609375 72.90625 \nL 47.609375 25.390625 \nL 58.015625 25.390625 \nL 58.015625 17.1875 \nL 47.609375 17.1875 \nL 47.609375 0 \nL 37.796875 0 \nL 37.796875 17.1875 \nL 4.890625 17.1875 \nL 4.890625 26.703125 \nz\n\" id=\"DejaVuSans-52\"/>\n      </defs>\n      <use xlink:href=\"#DejaVuSans-52\"/>\n     </g>\n    </g>\n   </g>\n   <g id=\"text_5\">\n    <g clip-path=\"url(#p12d8a32447)\">\n     <!-- 5 -->\n     <g transform=\"translate(28.746136 311.839815)scale(0.12 -0.12)\">\n      <defs>\n       <path d=\"M 10.796875 72.90625 \nL 49.515625 72.90625 \nL 49.515625 64.59375 \nL 19.828125 64.59375 \nL 19.828125 46.734375 \nQ 21.96875 47.46875 24.109375 47.828125 \nQ 26.265625 48.1875 28.421875 48.1875 \nQ 40.625 48.1875 47.75 41.5 \nQ 54.890625 34.8125 54.890625 23.390625 \nQ 54.890625 11.625 47.5625 5.09375 \nQ 40.234375 -1.421875 26.90625 -1.421875 \nQ 22.3125 -1.421875 17.546875 -0.640625 \nQ 12.796875 0.140625 7.71875 1.703125 \nL 7.71875 11.625 \nQ 12.109375 9.234375 16.796875 8.0625 \nQ 21.484375 6.890625 26.703125 6.890625 \nQ 35.15625 6.890625 40.078125 11.328125 \nQ 45.015625 15.765625 45.015625 23.390625 \nQ 45.015625 31 40.078125 35.4375 \nQ 35.15625 39.890625 26.703125 39.890625 \nQ 22.75 39.890625 18.8125 39.015625 \nQ 14.890625 38.140625 10.796875 36.28125 \nz\n\" id=\"DejaVuSans-53\"/>\n      </defs>\n      <use xlink:href=\"#DejaVuSans-53\"/>\n     </g>\n    </g>\n   </g>\n   <g id=\"text_6\">\n    <g clip-path=\"url(#p12d8a32447)\">\n     <!-- 6 -->\n     <g transform=\"translate(28.746136 278.894361)scale(0.12 -0.12)\">\n      <defs>\n       <path d=\"M 33.015625 40.375 \nQ 26.375 40.375 22.484375 35.828125 \nQ 18.609375 31.296875 18.609375 23.390625 \nQ 18.609375 15.53125 22.484375 10.953125 \nQ 26.375 6.390625 33.015625 6.390625 \nQ 39.65625 6.390625 43.53125 10.953125 \nQ 47.40625 15.53125 47.40625 23.390625 \nQ 47.40625 31.296875 43.53125 35.828125 \nQ 39.65625 40.375 33.015625 40.375 \nz\nM 52.59375 71.296875 \nL 52.59375 62.3125 \nQ 48.875 64.0625 45.09375 64.984375 \nQ 41.3125 65.921875 37.59375 65.921875 \nQ 27.828125 65.921875 22.671875 59.328125 \nQ 17.53125 52.734375 16.796875 39.40625 \nQ 19.671875 43.65625 24.015625 45.921875 \nQ 28.375 48.1875 33.59375 48.1875 \nQ 44.578125 48.1875 50.953125 41.515625 \nQ 57.328125 34.859375 57.328125 23.390625 \nQ 57.328125 12.15625 50.6875 5.359375 \nQ 44.046875 -1.421875 33.015625 -1.421875 \nQ 20.359375 -1.421875 13.671875 8.265625 \nQ 6.984375 17.96875 6.984375 36.375 \nQ 6.984375 53.65625 15.1875 63.9375 \nQ 23.390625 74.21875 37.203125 74.21875 \nQ 40.921875 74.21875 44.703125 73.484375 \nQ 48.484375 72.75 52.59375 71.296875 \nz\n\" id=\"DejaVuSans-54\"/>\n      </defs>\n      <use xlink:href=\"#DejaVuSans-54\"/>\n     </g>\n    </g>\n   </g>\n   <g id=\"text_7\">\n    <g clip-path=\"url(#p12d8a32447)\">\n     <!-- 7 -->\n     <g transform=\"translate(28.746136 245.948906)scale(0.12 -0.12)\">\n      <defs>\n       <path d=\"M 8.203125 72.90625 \nL 55.078125 72.90625 \nL 55.078125 68.703125 \nL 28.609375 0 \nL 18.3125 0 \nL 43.21875 64.59375 \nL 8.203125 64.59375 \nz\n\" id=\"DejaVuSans-55\"/>\n      </defs>\n      <use xlink:href=\"#DejaVuSans-55\"/>\n     </g>\n    </g>\n   </g>\n   <g id=\"text_8\">\n    <g clip-path=\"url(#p12d8a32447)\">\n     <!-- 8 -->\n     <g transform=\"translate(28.746136 213.003452)scale(0.12 -0.12)\">\n      <defs>\n       <path d=\"M 31.78125 34.625 \nQ 24.75 34.625 20.71875 30.859375 \nQ 16.703125 27.09375 16.703125 20.515625 \nQ 16.703125 13.921875 20.71875 10.15625 \nQ 24.75 6.390625 31.78125 6.390625 \nQ 38.8125 6.390625 42.859375 10.171875 \nQ 46.921875 13.96875 46.921875 20.515625 \nQ 46.921875 27.09375 42.890625 30.859375 \nQ 38.875 34.625 31.78125 34.625 \nz\nM 21.921875 38.8125 \nQ 15.578125 40.375 12.03125 44.71875 \nQ 8.5 49.078125 8.5 55.328125 \nQ 8.5 64.0625 14.71875 69.140625 \nQ 20.953125 74.21875 31.78125 74.21875 \nQ 42.671875 74.21875 48.875 69.140625 \nQ 55.078125 64.0625 55.078125 55.328125 \nQ 55.078125 49.078125 51.53125 44.71875 \nQ 48 40.375 41.703125 38.8125 \nQ 48.828125 37.15625 52.796875 32.3125 \nQ 56.78125 27.484375 56.78125 20.515625 \nQ 56.78125 9.90625 50.3125 4.234375 \nQ 43.84375 -1.421875 31.78125 -1.421875 \nQ 19.734375 -1.421875 13.25 4.234375 \nQ 6.78125 9.90625 6.78125 20.515625 \nQ 6.78125 27.484375 10.78125 32.3125 \nQ 14.796875 37.15625 21.921875 38.8125 \nz\nM 18.3125 54.390625 \nQ 18.3125 48.734375 21.84375 45.5625 \nQ 25.390625 42.390625 31.78125 42.390625 \nQ 38.140625 42.390625 41.71875 45.5625 \nQ 45.3125 48.734375 45.3125 54.390625 \nQ 45.3125 60.0625 41.71875 63.234375 \nQ 38.140625 66.40625 31.78125 66.40625 \nQ 25.390625 66.40625 21.84375 63.234375 \nQ 18.3125 60.0625 18.3125 54.390625 \nz\n\" id=\"DejaVuSans-56\"/>\n      </defs>\n      <use xlink:href=\"#DejaVuSans-56\"/>\n     </g>\n    </g>\n   </g>\n   <g id=\"text_9\">\n    <g clip-path=\"url(#p12d8a32447)\">\n     <!-- 9 -->\n     <g transform=\"translate(28.746136 180.057997)scale(0.12 -0.12)\">\n      <defs>\n       <path d=\"M 10.984375 1.515625 \nL 10.984375 10.5 \nQ 14.703125 8.734375 18.5 7.8125 \nQ 22.3125 6.890625 25.984375 6.890625 \nQ 35.75 6.890625 40.890625 13.453125 \nQ 46.046875 20.015625 46.78125 33.40625 \nQ 43.953125 29.203125 39.59375 26.953125 \nQ 35.25 24.703125 29.984375 24.703125 \nQ 19.046875 24.703125 12.671875 31.3125 \nQ 6.296875 37.9375 6.296875 49.421875 \nQ 6.296875 60.640625 12.9375 67.421875 \nQ 19.578125 74.21875 30.609375 74.21875 \nQ 43.265625 74.21875 49.921875 64.515625 \nQ 56.59375 54.828125 56.59375 36.375 \nQ 56.59375 19.140625 48.40625 8.859375 \nQ 40.234375 -1.421875 26.421875 -1.421875 \nQ 22.703125 -1.421875 18.890625 -0.6875 \nQ 15.09375 0.046875 10.984375 1.515625 \nz\nM 30.609375 32.421875 \nQ 37.25 32.421875 41.125 36.953125 \nQ 45.015625 41.5 45.015625 49.421875 \nQ 45.015625 57.28125 41.125 61.84375 \nQ 37.25 66.40625 30.609375 66.40625 \nQ 23.96875 66.40625 20.09375 61.84375 \nQ 16.21875 57.28125 16.21875 49.421875 \nQ 16.21875 41.5 20.09375 36.953125 \nQ 23.96875 32.421875 30.609375 32.421875 \nz\n\" id=\"DejaVuSans-57\"/>\n      </defs>\n      <use xlink:href=\"#DejaVuSans-57\"/>\n     </g>\n    </g>\n   </g>\n   <g id=\"text_10\">\n    <g clip-path=\"url(#p12d8a32447)\">\n     <!-- 10 -->\n     <g transform=\"translate(24.928636 147.112543)scale(0.12 -0.12)\">\n      <defs>\n       <path d=\"M 31.78125 66.40625 \nQ 24.171875 66.40625 20.328125 58.90625 \nQ 16.5 51.421875 16.5 36.375 \nQ 16.5 21.390625 20.328125 13.890625 \nQ 24.171875 6.390625 31.78125 6.390625 \nQ 39.453125 6.390625 43.28125 13.890625 \nQ 47.125 21.390625 47.125 36.375 \nQ 47.125 51.421875 43.28125 58.90625 \nQ 39.453125 66.40625 31.78125 66.40625 \nz\nM 31.78125 74.21875 \nQ 44.046875 74.21875 50.515625 64.515625 \nQ 56.984375 54.828125 56.984375 36.375 \nQ 56.984375 17.96875 50.515625 8.265625 \nQ 44.046875 -1.421875 31.78125 -1.421875 \nQ 19.53125 -1.421875 13.0625 8.265625 \nQ 6.59375 17.96875 6.59375 36.375 \nQ 6.59375 54.828125 13.0625 64.515625 \nQ 19.53125 74.21875 31.78125 74.21875 \nz\n\" id=\"DejaVuSans-48\"/>\n      </defs>\n      <use xlink:href=\"#DejaVuSans-49\"/>\n      <use x=\"63.623047\" xlink:href=\"#DejaVuSans-48\"/>\n     </g>\n    </g>\n   </g>\n   <g id=\"text_11\">\n    <g clip-path=\"url(#p12d8a32447)\">\n     <!-- 11 -->\n     <g transform=\"translate(24.928636 114.167088)scale(0.12 -0.12)\">\n      <use xlink:href=\"#DejaVuSans-49\"/>\n      <use x=\"63.623047\" xlink:href=\"#DejaVuSans-49\"/>\n     </g>\n    </g>\n   </g>\n   <g id=\"text_12\">\n    <g clip-path=\"url(#p12d8a32447)\">\n     <!-- 12 -->\n     <g transform=\"translate(24.928636 81.221634)scale(0.12 -0.12)\">\n      <use xlink:href=\"#DejaVuSans-49\"/>\n      <use x=\"63.623047\" xlink:href=\"#DejaVuSans-50\"/>\n     </g>\n    </g>\n   </g>\n   <g id=\"text_13\">\n    <g clip-path=\"url(#p12d8a32447)\">\n     <!-- 13 -->\n     <g transform=\"translate(24.928636 48.276179)scale(0.12 -0.12)\">\n      <use xlink:href=\"#DejaVuSans-49\"/>\n      <use x=\"63.623047\" xlink:href=\"#DejaVuSans-51\"/>\n     </g>\n    </g>\n   </g>\n   <g id=\"text_14\">\n    <g clip-path=\"url(#p12d8a32447)\">\n     <!-- 51 -->\n     <g transform=\"translate(532.201364 443.621634)scale(0.12 -0.12)\">\n      <use xlink:href=\"#DejaVuSans-53\"/>\n      <use x=\"63.623047\" xlink:href=\"#DejaVuSans-49\"/>\n     </g>\n    </g>\n   </g>\n   <g id=\"text_15\">\n    <g clip-path=\"url(#p12d8a32447)\">\n     <!-- 52 -->\n     <g transform=\"translate(532.201364 410.676179)scale(0.12 -0.12)\">\n      <use xlink:href=\"#DejaVuSans-53\"/>\n      <use x=\"63.623047\" xlink:href=\"#DejaVuSans-50\"/>\n     </g>\n    </g>\n   </g>\n   <g id=\"text_16\">\n    <g clip-path=\"url(#p12d8a32447)\">\n     <!-- 53 -->\n     <g transform=\"translate(532.201364 377.730724)scale(0.12 -0.12)\">\n      <use xlink:href=\"#DejaVuSans-53\"/>\n      <use x=\"63.623047\" xlink:href=\"#DejaVuSans-51\"/>\n     </g>\n    </g>\n   </g>\n   <g id=\"text_17\">\n    <g clip-path=\"url(#p12d8a32447)\">\n     <!-- 54 -->\n     <g transform=\"translate(532.201364 344.78527)scale(0.12 -0.12)\">\n      <use xlink:href=\"#DejaVuSans-53\"/>\n      <use x=\"63.623047\" xlink:href=\"#DejaVuSans-52\"/>\n     </g>\n    </g>\n   </g>\n   <g id=\"text_18\">\n    <g clip-path=\"url(#p12d8a32447)\">\n     <!-- 55 -->\n     <g transform=\"translate(532.201364 311.839815)scale(0.12 -0.12)\">\n      <use xlink:href=\"#DejaVuSans-53\"/>\n      <use x=\"63.623047\" xlink:href=\"#DejaVuSans-53\"/>\n     </g>\n    </g>\n   </g>\n   <g id=\"text_19\">\n    <g clip-path=\"url(#p12d8a32447)\">\n     <!-- 56 -->\n     <g transform=\"translate(532.201364 278.894361)scale(0.12 -0.12)\">\n      <use xlink:href=\"#DejaVuSans-53\"/>\n      <use x=\"63.623047\" xlink:href=\"#DejaVuSans-54\"/>\n     </g>\n    </g>\n   </g>\n   <g id=\"text_20\">\n    <g clip-path=\"url(#p12d8a32447)\">\n     <!-- 57 -->\n     <g transform=\"translate(532.201364 245.948906)scale(0.12 -0.12)\">\n      <use xlink:href=\"#DejaVuSans-53\"/>\n      <use x=\"63.623047\" xlink:href=\"#DejaVuSans-55\"/>\n     </g>\n    </g>\n   </g>\n   <g id=\"text_21\">\n    <g clip-path=\"url(#p12d8a32447)\">\n     <!-- 58 -->\n     <g transform=\"translate(532.201364 213.003452)scale(0.12 -0.12)\">\n      <use xlink:href=\"#DejaVuSans-53\"/>\n      <use x=\"63.623047\" xlink:href=\"#DejaVuSans-56\"/>\n     </g>\n    </g>\n   </g>\n   <g id=\"text_22\">\n    <g clip-path=\"url(#p12d8a32447)\">\n     <!-- 59 -->\n     <g transform=\"translate(532.201364 180.057997)scale(0.12 -0.12)\">\n      <use xlink:href=\"#DejaVuSans-53\"/>\n      <use x=\"63.623047\" xlink:href=\"#DejaVuSans-57\"/>\n     </g>\n    </g>\n   </g>\n   <g id=\"text_23\">\n    <g clip-path=\"url(#p12d8a32447)\">\n     <!-- 60 -->\n     <g transform=\"translate(532.201364 147.112543)scale(0.12 -0.12)\">\n      <use xlink:href=\"#DejaVuSans-54\"/>\n      <use x=\"63.623047\" xlink:href=\"#DejaVuSans-48\"/>\n     </g>\n    </g>\n   </g>\n   <g id=\"text_24\">\n    <g clip-path=\"url(#p12d8a32447)\">\n     <!-- 61 -->\n     <g transform=\"translate(532.201364 114.167088)scale(0.12 -0.12)\">\n      <use xlink:href=\"#DejaVuSans-54\"/>\n      <use x=\"63.623047\" xlink:href=\"#DejaVuSans-49\"/>\n     </g>\n    </g>\n   </g>\n   <g id=\"text_25\">\n    <g clip-path=\"url(#p12d8a32447)\">\n     <!-- 62 -->\n     <g transform=\"translate(532.201364 81.221634)scale(0.12 -0.12)\">\n      <use xlink:href=\"#DejaVuSans-54\"/>\n      <use x=\"63.623047\" xlink:href=\"#DejaVuSans-50\"/>\n     </g>\n    </g>\n   </g>\n   <g id=\"text_26\">\n    <g clip-path=\"url(#p12d8a32447)\">\n     <!-- 63 -->\n     <g transform=\"translate(532.201364 48.276179)scale(0.12 -0.12)\">\n      <use xlink:href=\"#DejaVuSans-54\"/>\n      <use x=\"63.623047\" xlink:href=\"#DejaVuSans-51\"/>\n     </g>\n    </g>\n   </g>\n   <g id=\"text_27\">\n    <!-- Gráfica bipartita entre colonia (izq) y productos (der) -->\n    <g style=\"fill:#262626;\" transform=\"translate(87.355078 19.197656)scale(0.15 -0.15)\">\n     <defs>\n      <path d=\"M 59.515625 10.40625 \nL 59.515625 29.984375 \nL 43.40625 29.984375 \nL 43.40625 38.09375 \nL 69.28125 38.09375 \nL 69.28125 6.78125 \nQ 63.578125 2.734375 56.6875 0.65625 \nQ 49.8125 -1.421875 42 -1.421875 \nQ 24.90625 -1.421875 15.25 8.5625 \nQ 5.609375 18.5625 5.609375 36.375 \nQ 5.609375 54.25 15.25 64.234375 \nQ 24.90625 74.21875 42 74.21875 \nQ 49.125 74.21875 55.546875 72.453125 \nQ 61.96875 70.703125 67.390625 67.28125 \nL 67.390625 56.78125 \nQ 61.921875 61.421875 55.765625 63.765625 \nQ 49.609375 66.109375 42.828125 66.109375 \nQ 29.4375 66.109375 22.71875 58.640625 \nQ 16.015625 51.171875 16.015625 36.375 \nQ 16.015625 21.625 22.71875 14.15625 \nQ 29.4375 6.6875 42.828125 6.6875 \nQ 48.046875 6.6875 52.140625 7.59375 \nQ 56.25 8.5 59.515625 10.40625 \nz\n\" id=\"DejaVuSans-71\"/>\n      <path d=\"M 41.109375 46.296875 \nQ 39.59375 47.171875 37.8125 47.578125 \nQ 36.03125 48 33.890625 48 \nQ 26.265625 48 22.1875 43.046875 \nQ 18.109375 38.09375 18.109375 28.8125 \nL 18.109375 0 \nL 9.078125 0 \nL 9.078125 54.6875 \nL 18.109375 54.6875 \nL 18.109375 46.1875 \nQ 20.953125 51.171875 25.484375 53.578125 \nQ 30.03125 56 36.53125 56 \nQ 37.453125 56 38.578125 55.875 \nQ 39.703125 55.765625 41.0625 55.515625 \nz\n\" id=\"DejaVuSans-114\"/>\n      <path d=\"M 34.28125 27.484375 \nQ 23.390625 27.484375 19.1875 25 \nQ 14.984375 22.515625 14.984375 16.5 \nQ 14.984375 11.71875 18.140625 8.90625 \nQ 21.296875 6.109375 26.703125 6.109375 \nQ 34.1875 6.109375 38.703125 11.40625 \nQ 43.21875 16.703125 43.21875 25.484375 \nL 43.21875 27.484375 \nz\nM 52.203125 31.203125 \nL 52.203125 0 \nL 43.21875 0 \nL 43.21875 8.296875 \nQ 40.140625 3.328125 35.546875 0.953125 \nQ 30.953125 -1.421875 24.3125 -1.421875 \nQ 15.921875 -1.421875 10.953125 3.296875 \nQ 6 8.015625 6 15.921875 \nQ 6 25.140625 12.171875 29.828125 \nQ 18.359375 34.515625 30.609375 34.515625 \nL 43.21875 34.515625 \nL 43.21875 35.40625 \nQ 43.21875 41.609375 39.140625 45 \nQ 35.0625 48.390625 27.6875 48.390625 \nQ 23 48.390625 18.546875 47.265625 \nQ 14.109375 46.140625 10.015625 43.890625 \nL 10.015625 52.203125 \nQ 14.9375 54.109375 19.578125 55.046875 \nQ 24.21875 56 28.609375 56 \nQ 40.484375 56 46.34375 49.84375 \nQ 52.203125 43.703125 52.203125 31.203125 \nz\nM 35.78125 79.984375 \nL 45.5 79.984375 \nL 29.59375 61.625 \nL 22.109375 61.625 \nz\n\" id=\"DejaVuSans-225\"/>\n      <path d=\"M 37.109375 75.984375 \nL 37.109375 68.5 \nL 28.515625 68.5 \nQ 23.6875 68.5 21.796875 66.546875 \nQ 19.921875 64.59375 19.921875 59.515625 \nL 19.921875 54.6875 \nL 34.71875 54.6875 \nL 34.71875 47.703125 \nL 19.921875 47.703125 \nL 19.921875 0 \nL 10.890625 0 \nL 10.890625 47.703125 \nL 2.296875 47.703125 \nL 2.296875 54.6875 \nL 10.890625 54.6875 \nL 10.890625 58.5 \nQ 10.890625 67.625 15.140625 71.796875 \nQ 19.390625 75.984375 28.609375 75.984375 \nz\n\" id=\"DejaVuSans-102\"/>\n      <path d=\"M 9.421875 54.6875 \nL 18.40625 54.6875 \nL 18.40625 0 \nL 9.421875 0 \nz\nM 9.421875 75.984375 \nL 18.40625 75.984375 \nL 18.40625 64.59375 \nL 9.421875 64.59375 \nz\n\" id=\"DejaVuSans-105\"/>\n      <path d=\"M 48.78125 52.59375 \nL 48.78125 44.1875 \nQ 44.96875 46.296875 41.140625 47.34375 \nQ 37.3125 48.390625 33.40625 48.390625 \nQ 24.65625 48.390625 19.8125 42.84375 \nQ 14.984375 37.3125 14.984375 27.296875 \nQ 14.984375 17.28125 19.8125 11.734375 \nQ 24.65625 6.203125 33.40625 6.203125 \nQ 37.3125 6.203125 41.140625 7.25 \nQ 44.96875 8.296875 48.78125 10.40625 \nL 48.78125 2.09375 \nQ 45.015625 0.34375 40.984375 -0.53125 \nQ 36.96875 -1.421875 32.421875 -1.421875 \nQ 20.0625 -1.421875 12.78125 6.34375 \nQ 5.515625 14.109375 5.515625 27.296875 \nQ 5.515625 40.671875 12.859375 48.328125 \nQ 20.21875 56 33.015625 56 \nQ 37.15625 56 41.109375 55.140625 \nQ 45.0625 54.296875 48.78125 52.59375 \nz\n\" id=\"DejaVuSans-99\"/>\n      <path d=\"M 34.28125 27.484375 \nQ 23.390625 27.484375 19.1875 25 \nQ 14.984375 22.515625 14.984375 16.5 \nQ 14.984375 11.71875 18.140625 8.90625 \nQ 21.296875 6.109375 26.703125 6.109375 \nQ 34.1875 6.109375 38.703125 11.40625 \nQ 43.21875 16.703125 43.21875 25.484375 \nL 43.21875 27.484375 \nz\nM 52.203125 31.203125 \nL 52.203125 0 \nL 43.21875 0 \nL 43.21875 8.296875 \nQ 40.140625 3.328125 35.546875 0.953125 \nQ 30.953125 -1.421875 24.3125 -1.421875 \nQ 15.921875 -1.421875 10.953125 3.296875 \nQ 6 8.015625 6 15.921875 \nQ 6 25.140625 12.171875 29.828125 \nQ 18.359375 34.515625 30.609375 34.515625 \nL 43.21875 34.515625 \nL 43.21875 35.40625 \nQ 43.21875 41.609375 39.140625 45 \nQ 35.0625 48.390625 27.6875 48.390625 \nQ 23 48.390625 18.546875 47.265625 \nQ 14.109375 46.140625 10.015625 43.890625 \nL 10.015625 52.203125 \nQ 14.9375 54.109375 19.578125 55.046875 \nQ 24.21875 56 28.609375 56 \nQ 40.484375 56 46.34375 49.84375 \nQ 52.203125 43.703125 52.203125 31.203125 \nz\n\" id=\"DejaVuSans-97\"/>\n      <path id=\"DejaVuSans-32\"/>\n      <path d=\"M 48.6875 27.296875 \nQ 48.6875 37.203125 44.609375 42.84375 \nQ 40.53125 48.484375 33.40625 48.484375 \nQ 26.265625 48.484375 22.1875 42.84375 \nQ 18.109375 37.203125 18.109375 27.296875 \nQ 18.109375 17.390625 22.1875 11.75 \nQ 26.265625 6.109375 33.40625 6.109375 \nQ 40.53125 6.109375 44.609375 11.75 \nQ 48.6875 17.390625 48.6875 27.296875 \nz\nM 18.109375 46.390625 \nQ 20.953125 51.265625 25.265625 53.625 \nQ 29.59375 56 35.59375 56 \nQ 45.5625 56 51.78125 48.09375 \nQ 58.015625 40.1875 58.015625 27.296875 \nQ 58.015625 14.40625 51.78125 6.484375 \nQ 45.5625 -1.421875 35.59375 -1.421875 \nQ 29.59375 -1.421875 25.265625 0.953125 \nQ 20.953125 3.328125 18.109375 8.203125 \nL 18.109375 0 \nL 9.078125 0 \nL 9.078125 75.984375 \nL 18.109375 75.984375 \nz\n\" id=\"DejaVuSans-98\"/>\n      <path d=\"M 18.109375 8.203125 \nL 18.109375 -20.796875 \nL 9.078125 -20.796875 \nL 9.078125 54.6875 \nL 18.109375 54.6875 \nL 18.109375 46.390625 \nQ 20.953125 51.265625 25.265625 53.625 \nQ 29.59375 56 35.59375 56 \nQ 45.5625 56 51.78125 48.09375 \nQ 58.015625 40.1875 58.015625 27.296875 \nQ 58.015625 14.40625 51.78125 6.484375 \nQ 45.5625 -1.421875 35.59375 -1.421875 \nQ 29.59375 -1.421875 25.265625 0.953125 \nQ 20.953125 3.328125 18.109375 8.203125 \nz\nM 48.6875 27.296875 \nQ 48.6875 37.203125 44.609375 42.84375 \nQ 40.53125 48.484375 33.40625 48.484375 \nQ 26.265625 48.484375 22.1875 42.84375 \nQ 18.109375 37.203125 18.109375 27.296875 \nQ 18.109375 17.390625 22.1875 11.75 \nQ 26.265625 6.109375 33.40625 6.109375 \nQ 40.53125 6.109375 44.609375 11.75 \nQ 48.6875 17.390625 48.6875 27.296875 \nz\n\" id=\"DejaVuSans-112\"/>\n      <path d=\"M 18.3125 70.21875 \nL 18.3125 54.6875 \nL 36.8125 54.6875 \nL 36.8125 47.703125 \nL 18.3125 47.703125 \nL 18.3125 18.015625 \nQ 18.3125 11.328125 20.140625 9.421875 \nQ 21.96875 7.515625 27.59375 7.515625 \nL 36.8125 7.515625 \nL 36.8125 0 \nL 27.59375 0 \nQ 17.1875 0 13.234375 3.875 \nQ 9.28125 7.765625 9.28125 18.015625 \nL 9.28125 47.703125 \nL 2.6875 47.703125 \nL 2.6875 54.6875 \nL 9.28125 54.6875 \nL 9.28125 70.21875 \nz\n\" id=\"DejaVuSans-116\"/>\n      <path d=\"M 56.203125 29.59375 \nL 56.203125 25.203125 \nL 14.890625 25.203125 \nQ 15.484375 15.921875 20.484375 11.0625 \nQ 25.484375 6.203125 34.421875 6.203125 \nQ 39.59375 6.203125 44.453125 7.46875 \nQ 49.3125 8.734375 54.109375 11.28125 \nL 54.109375 2.78125 \nQ 49.265625 0.734375 44.1875 -0.34375 \nQ 39.109375 -1.421875 33.890625 -1.421875 \nQ 20.796875 -1.421875 13.15625 6.1875 \nQ 5.515625 13.8125 5.515625 26.8125 \nQ 5.515625 40.234375 12.765625 48.109375 \nQ 20.015625 56 32.328125 56 \nQ 43.359375 56 49.78125 48.890625 \nQ 56.203125 41.796875 56.203125 29.59375 \nz\nM 47.21875 32.234375 \nQ 47.125 39.59375 43.09375 43.984375 \nQ 39.0625 48.390625 32.421875 48.390625 \nQ 24.90625 48.390625 20.390625 44.140625 \nQ 15.875 39.890625 15.1875 32.171875 \nz\n\" id=\"DejaVuSans-101\"/>\n      <path d=\"M 54.890625 33.015625 \nL 54.890625 0 \nL 45.90625 0 \nL 45.90625 32.71875 \nQ 45.90625 40.484375 42.875 44.328125 \nQ 39.84375 48.1875 33.796875 48.1875 \nQ 26.515625 48.1875 22.3125 43.546875 \nQ 18.109375 38.921875 18.109375 30.90625 \nL 18.109375 0 \nL 9.078125 0 \nL 9.078125 54.6875 \nL 18.109375 54.6875 \nL 18.109375 46.1875 \nQ 21.34375 51.125 25.703125 53.5625 \nQ 30.078125 56 35.796875 56 \nQ 45.21875 56 50.046875 50.171875 \nQ 54.890625 44.34375 54.890625 33.015625 \nz\n\" id=\"DejaVuSans-110\"/>\n      <path d=\"M 30.609375 48.390625 \nQ 23.390625 48.390625 19.1875 42.75 \nQ 14.984375 37.109375 14.984375 27.296875 \nQ 14.984375 17.484375 19.15625 11.84375 \nQ 23.34375 6.203125 30.609375 6.203125 \nQ 37.796875 6.203125 41.984375 11.859375 \nQ 46.1875 17.53125 46.1875 27.296875 \nQ 46.1875 37.015625 41.984375 42.703125 \nQ 37.796875 48.390625 30.609375 48.390625 \nz\nM 30.609375 56 \nQ 42.328125 56 49.015625 48.375 \nQ 55.71875 40.765625 55.71875 27.296875 \nQ 55.71875 13.875 49.015625 6.21875 \nQ 42.328125 -1.421875 30.609375 -1.421875 \nQ 18.84375 -1.421875 12.171875 6.21875 \nQ 5.515625 13.875 5.515625 27.296875 \nQ 5.515625 40.765625 12.171875 48.375 \nQ 18.84375 56 30.609375 56 \nz\n\" id=\"DejaVuSans-111\"/>\n      <path d=\"M 9.421875 75.984375 \nL 18.40625 75.984375 \nL 18.40625 0 \nL 9.421875 0 \nz\n\" id=\"DejaVuSans-108\"/>\n      <path d=\"M 31 75.875 \nQ 24.46875 64.65625 21.28125 53.65625 \nQ 18.109375 42.671875 18.109375 31.390625 \nQ 18.109375 20.125 21.3125 9.0625 \nQ 24.515625 -2 31 -13.1875 \nL 23.1875 -13.1875 \nQ 15.875 -1.703125 12.234375 9.375 \nQ 8.59375 20.453125 8.59375 31.390625 \nQ 8.59375 42.28125 12.203125 53.3125 \nQ 15.828125 64.359375 23.1875 75.875 \nz\n\" id=\"DejaVuSans-40\"/>\n      <path d=\"M 5.515625 54.6875 \nL 48.1875 54.6875 \nL 48.1875 46.484375 \nL 14.40625 7.171875 \nL 48.1875 7.171875 \nL 48.1875 0 \nL 4.296875 0 \nL 4.296875 8.203125 \nL 38.09375 47.515625 \nL 5.515625 47.515625 \nz\n\" id=\"DejaVuSans-122\"/>\n      <path d=\"M 14.796875 27.296875 \nQ 14.796875 17.390625 18.875 11.75 \nQ 22.953125 6.109375 30.078125 6.109375 \nQ 37.203125 6.109375 41.296875 11.75 \nQ 45.40625 17.390625 45.40625 27.296875 \nQ 45.40625 37.203125 41.296875 42.84375 \nQ 37.203125 48.484375 30.078125 48.484375 \nQ 22.953125 48.484375 18.875 42.84375 \nQ 14.796875 37.203125 14.796875 27.296875 \nz\nM 45.40625 8.203125 \nQ 42.578125 3.328125 38.25 0.953125 \nQ 33.9375 -1.421875 27.875 -1.421875 \nQ 17.96875 -1.421875 11.734375 6.484375 \nQ 5.515625 14.40625 5.515625 27.296875 \nQ 5.515625 40.1875 11.734375 48.09375 \nQ 17.96875 56 27.875 56 \nQ 33.9375 56 38.25 53.625 \nQ 42.578125 51.265625 45.40625 46.390625 \nL 45.40625 54.6875 \nL 54.390625 54.6875 \nL 54.390625 -20.796875 \nL 45.40625 -20.796875 \nz\n\" id=\"DejaVuSans-113\"/>\n      <path d=\"M 8.015625 75.875 \nL 15.828125 75.875 \nQ 23.140625 64.359375 26.78125 53.3125 \nQ 30.421875 42.28125 30.421875 31.390625 \nQ 30.421875 20.453125 26.78125 9.375 \nQ 23.140625 -1.703125 15.828125 -13.1875 \nL 8.015625 -13.1875 \nQ 14.5 -2 17.703125 9.0625 \nQ 20.90625 20.125 20.90625 31.390625 \nQ 20.90625 42.671875 17.703125 53.65625 \nQ 14.5 64.65625 8.015625 75.875 \nz\n\" id=\"DejaVuSans-41\"/>\n      <path d=\"M 32.171875 -5.078125 \nQ 28.375 -14.84375 24.75 -17.8125 \nQ 21.140625 -20.796875 15.09375 -20.796875 \nL 7.90625 -20.796875 \nL 7.90625 -13.28125 \nL 13.1875 -13.28125 \nQ 16.890625 -13.28125 18.9375 -11.515625 \nQ 21 -9.765625 23.484375 -3.21875 \nL 25.09375 0.875 \nL 2.984375 54.6875 \nL 12.5 54.6875 \nL 29.59375 11.921875 \nL 46.6875 54.6875 \nL 56.203125 54.6875 \nz\n\" id=\"DejaVuSans-121\"/>\n      <path d=\"M 45.40625 46.390625 \nL 45.40625 75.984375 \nL 54.390625 75.984375 \nL 54.390625 0 \nL 45.40625 0 \nL 45.40625 8.203125 \nQ 42.578125 3.328125 38.25 0.953125 \nQ 33.9375 -1.421875 27.875 -1.421875 \nQ 17.96875 -1.421875 11.734375 6.484375 \nQ 5.515625 14.40625 5.515625 27.296875 \nQ 5.515625 40.1875 11.734375 48.09375 \nQ 17.96875 56 27.875 56 \nQ 33.9375 56 38.25 53.625 \nQ 42.578125 51.265625 45.40625 46.390625 \nz\nM 14.796875 27.296875 \nQ 14.796875 17.390625 18.875 11.75 \nQ 22.953125 6.109375 30.078125 6.109375 \nQ 37.203125 6.109375 41.296875 11.75 \nQ 45.40625 17.390625 45.40625 27.296875 \nQ 45.40625 37.203125 41.296875 42.84375 \nQ 37.203125 48.484375 30.078125 48.484375 \nQ 22.953125 48.484375 18.875 42.84375 \nQ 14.796875 37.203125 14.796875 27.296875 \nz\n\" id=\"DejaVuSans-100\"/>\n      <path d=\"M 8.5 21.578125 \nL 8.5 54.6875 \nL 17.484375 54.6875 \nL 17.484375 21.921875 \nQ 17.484375 14.15625 20.5 10.265625 \nQ 23.53125 6.390625 29.59375 6.390625 \nQ 36.859375 6.390625 41.078125 11.03125 \nQ 45.3125 15.671875 45.3125 23.6875 \nL 45.3125 54.6875 \nL 54.296875 54.6875 \nL 54.296875 0 \nL 45.3125 0 \nL 45.3125 8.40625 \nQ 42.046875 3.421875 37.71875 1 \nQ 33.40625 -1.421875 27.6875 -1.421875 \nQ 18.265625 -1.421875 13.375 4.4375 \nQ 8.5 10.296875 8.5 21.578125 \nz\nM 31.109375 56 \nz\n\" id=\"DejaVuSans-117\"/>\n      <path d=\"M 44.28125 53.078125 \nL 44.28125 44.578125 \nQ 40.484375 46.53125 36.375 47.5 \nQ 32.28125 48.484375 27.875 48.484375 \nQ 21.1875 48.484375 17.84375 46.4375 \nQ 14.5 44.390625 14.5 40.28125 \nQ 14.5 37.15625 16.890625 35.375 \nQ 19.28125 33.59375 26.515625 31.984375 \nL 29.59375 31.296875 \nQ 39.15625 29.25 43.1875 25.515625 \nQ 47.21875 21.78125 47.21875 15.09375 \nQ 47.21875 7.46875 41.1875 3.015625 \nQ 35.15625 -1.421875 24.609375 -1.421875 \nQ 20.21875 -1.421875 15.453125 -0.5625 \nQ 10.6875 0.296875 5.421875 2 \nL 5.421875 11.28125 \nQ 10.40625 8.6875 15.234375 7.390625 \nQ 20.0625 6.109375 24.8125 6.109375 \nQ 31.15625 6.109375 34.5625 8.28125 \nQ 37.984375 10.453125 37.984375 14.40625 \nQ 37.984375 18.0625 35.515625 20.015625 \nQ 33.0625 21.96875 24.703125 23.78125 \nL 21.578125 24.515625 \nQ 13.234375 26.265625 9.515625 29.90625 \nQ 5.8125 33.546875 5.8125 39.890625 \nQ 5.8125 47.609375 11.28125 51.796875 \nQ 16.75 56 26.8125 56 \nQ 31.78125 56 36.171875 55.265625 \nQ 40.578125 54.546875 44.28125 53.078125 \nz\n\" id=\"DejaVuSans-115\"/>\n     </defs>\n     <use xlink:href=\"#DejaVuSans-71\"/>\n     <use x=\"77.490234\" xlink:href=\"#DejaVuSans-114\"/>\n     <use x=\"118.603516\" xlink:href=\"#DejaVuSans-225\"/>\n     <use x=\"179.882812\" xlink:href=\"#DejaVuSans-102\"/>\n     <use x=\"215.087891\" xlink:href=\"#DejaVuSans-105\"/>\n     <use x=\"242.871094\" xlink:href=\"#DejaVuSans-99\"/>\n     <use x=\"297.851562\" xlink:href=\"#DejaVuSans-97\"/>\n     <use x=\"359.130859\" xlink:href=\"#DejaVuSans-32\"/>\n     <use x=\"390.917969\" xlink:href=\"#DejaVuSans-98\"/>\n     <use x=\"454.394531\" xlink:href=\"#DejaVuSans-105\"/>\n     <use x=\"482.177734\" xlink:href=\"#DejaVuSans-112\"/>\n     <use x=\"545.654297\" xlink:href=\"#DejaVuSans-97\"/>\n     <use x=\"606.933594\" xlink:href=\"#DejaVuSans-114\"/>\n     <use x=\"648.046875\" xlink:href=\"#DejaVuSans-116\"/>\n     <use x=\"687.255859\" xlink:href=\"#DejaVuSans-105\"/>\n     <use x=\"715.039062\" xlink:href=\"#DejaVuSans-116\"/>\n     <use x=\"754.248047\" xlink:href=\"#DejaVuSans-97\"/>\n     <use x=\"815.527344\" xlink:href=\"#DejaVuSans-32\"/>\n     <use x=\"847.314453\" xlink:href=\"#DejaVuSans-101\"/>\n     <use x=\"908.837891\" xlink:href=\"#DejaVuSans-110\"/>\n     <use x=\"972.216797\" xlink:href=\"#DejaVuSans-116\"/>\n     <use x=\"1011.425781\" xlink:href=\"#DejaVuSans-114\"/>\n     <use x=\"1050.289062\" xlink:href=\"#DejaVuSans-101\"/>\n     <use x=\"1111.8125\" xlink:href=\"#DejaVuSans-32\"/>\n     <use x=\"1143.599609\" xlink:href=\"#DejaVuSans-99\"/>\n     <use x=\"1198.580078\" xlink:href=\"#DejaVuSans-111\"/>\n     <use x=\"1259.761719\" xlink:href=\"#DejaVuSans-108\"/>\n     <use x=\"1287.544922\" xlink:href=\"#DejaVuSans-111\"/>\n     <use x=\"1348.726562\" xlink:href=\"#DejaVuSans-110\"/>\n     <use x=\"1412.105469\" xlink:href=\"#DejaVuSans-105\"/>\n     <use x=\"1439.888672\" xlink:href=\"#DejaVuSans-97\"/>\n     <use x=\"1501.167969\" xlink:href=\"#DejaVuSans-32\"/>\n     <use x=\"1532.955078\" xlink:href=\"#DejaVuSans-40\"/>\n     <use x=\"1571.96875\" xlink:href=\"#DejaVuSans-105\"/>\n     <use x=\"1599.751953\" xlink:href=\"#DejaVuSans-122\"/>\n     <use x=\"1652.242188\" xlink:href=\"#DejaVuSans-113\"/>\n     <use x=\"1715.71875\" xlink:href=\"#DejaVuSans-41\"/>\n     <use x=\"1754.732422\" xlink:href=\"#DejaVuSans-32\"/>\n     <use x=\"1786.519531\" xlink:href=\"#DejaVuSans-121\"/>\n     <use x=\"1845.699219\" xlink:href=\"#DejaVuSans-32\"/>\n     <use x=\"1877.486328\" xlink:href=\"#DejaVuSans-112\"/>\n     <use x=\"1940.962891\" xlink:href=\"#DejaVuSans-114\"/>\n     <use x=\"1979.826172\" xlink:href=\"#DejaVuSans-111\"/>\n     <use x=\"2041.007812\" xlink:href=\"#DejaVuSans-100\"/>\n     <use x=\"2104.484375\" xlink:href=\"#DejaVuSans-117\"/>\n     <use x=\"2167.863281\" xlink:href=\"#DejaVuSans-99\"/>\n     <use x=\"2222.84375\" xlink:href=\"#DejaVuSans-116\"/>\n     <use x=\"2262.052734\" xlink:href=\"#DejaVuSans-111\"/>\n     <use x=\"2323.234375\" xlink:href=\"#DejaVuSans-115\"/>\n     <use x=\"2375.333984\" xlink:href=\"#DejaVuSans-32\"/>\n     <use x=\"2407.121094\" xlink:href=\"#DejaVuSans-40\"/>\n     <use x=\"2446.134766\" xlink:href=\"#DejaVuSans-100\"/>\n     <use x=\"2509.611328\" xlink:href=\"#DejaVuSans-101\"/>\n     <use x=\"2571.134766\" xlink:href=\"#DejaVuSans-114\"/>\n     <use x=\"2612.248047\" xlink:href=\"#DejaVuSans-41\"/>\n    </g>\n   </g>\n  </g>\n </g>\n <defs>\n  <clipPath id=\"p12d8a32447\">\n   <rect height=\"434.88\" width=\"558\" x=\"7.2\" y=\"25.197656\"/>\n  </clipPath>\n </defs>\n</svg>\n",
      "image/png": "[encoded data removed]"
     },
     "metadata": {}
    }
   ],
   "source": [
    "plt.figure(figsize=(10,8))\n",
    "ax = plt.gca()\n",
    "ax.set_title(\"Gráfica bipartita entre colonia (izq) y productos (der)\", fontsize=15, color=\"#262626\")\n",
    "top = nx.bipartite.sets(G)[0]\n",
    "pos = nx.bipartite_layout(G, top)\n",
    "nx.draw(G, pos=pos, with_labels=True, node_color=\"#5d67d9\", ax=ax, node_size=620)"
   ]
  },
  {
   "source": [
    "## Vectores de agrupaciones\n",
    "\n",
    "Para cada colonia se creará un vector: $$(M_{c0}, M_{c1}, ECI_{ca}, S_c)$$\n",
    "\n",
    "en donde: \n",
    "- $M_{c0}$: diversificación de productos\n",
    "- $M_{c1}$: complejidad de producción\n",
    "- $ECI_{ca}$: índice de complejidad (ECI) para la alcaldía $a$ de la colonia $c$\n",
    "- $S_c$: porcentaje de infectados de COVID-19 para la colonia $c$"
   ],
   "cell_type": "markdown",
   "metadata": {}
  },
  {
   "cell_type": "code",
   "execution_count": 308,
   "metadata": {},
   "outputs": [],
   "source": [
    "def productos_por(colonia, df):\n",
    "    return list(df[df.colonia == colonia].categoria.unique())\n",
    "\n",
    "def complejidad_por_producto(producto, product_space_matrix, prod_dict):\n",
    "    prod_idx = prod_dict[producto.lower()]-50\n",
    "    return product_space_matrix[:,prod_idx-1].sum()\n",
    "\n",
    "def complejidad(colonia, df, product_space_matrix, prod_dict):\n",
    "    complejidad_col = []\n",
    "    for k in productos_por(colonia, df):\n",
    "        comp = complejidad_por_producto(k, product_space_matrix, prod_dict)\n",
    "        complejidad_col.append(comp)\n",
    "    return sum(complejidad_col)\n",
    "\n",
    "def diversificacion(colonia, product_space_matrix, col_dict):\n",
    "    col_idx = col_dict[colonia.lower()]\n",
    "    return product_space_matrix[col_idx-1].sum()\n",
    "\n",
    "def eci_por(colonia, df):\n",
    "    return np.round(df[df.colonia == colonia].eci.values[0],3)\n",
    "\n",
    "def porcentaje_infectados_por(colonia, df):\n",
    "    return df[df.colonia==colonia].porcentaje_infectados.values[0]"
   ]
  },
  {
   "cell_type": "code",
   "execution_count": 324,
   "metadata": {},
   "outputs": [],
   "source": [
    "class VectorAgrupacion:\n",
    "    def __init__(self, mc0, mc1, ecic, sc):\n",
    "        self.mc0 = mc0\n",
    "        self.mc1 = mc1\n",
    "        self.ecic = ecic\n",
    "        self.sc = sc\n",
    "\n",
    "    def __str__(self):\n",
    "        return f'<M0:{self.mc0}, M1:{self.mc1}, ECI:{self.ecic}, S:{self.sc}>'\n",
    "\n",
    "class ColoniaAgrupacion:\n",
    "    def __init__(self, colonia, vector_agrupacion):\n",
    "        self.colonia = colonia\n",
    "        self.vector_agrupacion = vector_agrupacion\n",
    "\n",
    "    def __str__(self):\n",
    "        return f'Col: {self.colonia.capitalize()} \\n\\t {self.vector_agrupacion}'\n",
    "\n",
    "    def __repr__(self):\n",
    "        return f'<Class:ColoniaAgrupacion> colonia: {self.colonia}'"
   ]
  },
  {
   "cell_type": "code",
   "execution_count": 331,
   "metadata": {},
   "outputs": [
    {
     "output_type": "stream",
     "name": "stdout",
     "text": [
      "Col: Jaime torres bodet \n\t <M0:1, M1:7, ECI:3.866, S:0.1978>\nCol: El rosario \n\t <M0:12, M1:71, ECI:3.866, S:0.1573>\nCol: Tezozomoc \n\t <M0:10, M1:65, ECI:3.866, S:0.1303>\nCol: Doctores \n\t <M0:1, M1:4, ECI:3.866, S:0.1169>\nCol: Olivar del conde 1a seccin \n\t <M0:1, M1:7, ECI:3.855, S:0.1663>\nCol: Campamento 2 de octubre \n\t <M0:1, M1:8, ECI:3.855, S:0.1124>\nCol: Popotla \n\t <M0:12, M1:69, ECI:4.153, S:0.1528>\nCol: Tlaxpana \n\t <M0:11, M1:68, ECI:4.153, S:0.1573>\nCol: Escandon \n\t <M0:2, M1:14, ECI:4.153, S:0.1213>\nCol: San martin xochinahuac \n\t <M0:10, M1:61, ECI:3.866, S:0.17980000000000002>\nCol: San juan tlihuaca \n\t <M0:11, M1:69, ECI:3.866, S:0.2022>\nCol: Xaltocan \n\t <M0:1, M1:8, ECI:4.153, S:0.2921>\nCol: Santa maria nativitas \n\t <M0:1, M1:7, ECI:4.153, S:0.2427>\n"
     ]
    }
   ],
   "source": [
    "colonias_agrupacion = []\n",
    "for colonia in list(df.colonia.unique()):\n",
    "    mc0 = diversificacion(colonia, product_space_matrix, colonias_dict)\n",
    "    mc1 = complejidad(colonia, df, product_space_matrix, productos_dict)\n",
    "    ecic = eci_por(colonia, df)\n",
    "    sc = porcentaje_infectados_por(colonia, df)\n",
    "    vector_agrupacion = VectorAgrupacion(mc0, mc1, ecic, sc)\n",
    "    colonia_agrupacion = ColoniaAgrupacion(colonia, vector_agrupacion)\n",
    "    colonias_agrupacion.append(colonia_agrupacion)\n",
    "\n",
    "for col_ag in colonias_agrupacion:\n",
    "    print(col_ag)"
   ]
  },
  {
   "cell_type": "code",
   "execution_count": 368,
   "metadata": {},
   "outputs": [
    {
     "output_type": "execute_result",
     "data": {
      "text/plain": [
       "{0: <Class:ColoniaAgrupacion> colonia: jaime torres bodet,\n",
       " 1: <Class:ColoniaAgrupacion> colonia: el rosario,\n",
       " 2: <Class:ColoniaAgrupacion> colonia: tezozomoc,\n",
       " 3: <Class:ColoniaAgrupacion> colonia: doctores,\n",
       " 4: <Class:ColoniaAgrupacion> colonia: olivar del conde 1a seccin,\n",
       " 5: <Class:ColoniaAgrupacion> colonia: campamento 2 de octubre,\n",
       " 6: <Class:ColoniaAgrupacion> colonia: popotla,\n",
       " 7: <Class:ColoniaAgrupacion> colonia: tlaxpana,\n",
       " 8: <Class:ColoniaAgrupacion> colonia: escandon,\n",
       " 9: <Class:ColoniaAgrupacion> colonia: san martin xochinahuac,\n",
       " 10: <Class:ColoniaAgrupacion> colonia: san juan tlihuaca,\n",
       " 11: <Class:ColoniaAgrupacion> colonia: xaltocan,\n",
       " 12: <Class:ColoniaAgrupacion> colonia: santa maria nativitas}"
      ]
     },
     "metadata": {},
     "execution_count": 368
    }
   ],
   "source": [
    "colonias_agrupacion_dict = dict(zip(list(range(0, len(colonias_agrupacion))), colonias_agrupacion))\n",
    "colonias_agrupacion_dict"
   ]
  },
  {
   "source": [
    "# Gráfica completa"
   ],
   "cell_type": "markdown",
   "metadata": {}
  },
  {
   "cell_type": "code",
   "execution_count": 369,
   "metadata": {},
   "outputs": [],
   "source": [
    "def peso_arista(colag1, colag2):\n",
    "    return np.random.randint(1,10)"
   ]
  },
  {
   "cell_type": "code",
   "execution_count": 375,
   "metadata": {},
   "outputs": [
    {
     "output_type": "execute_result",
     "data": {
      "text/plain": [
       "NodeView((0, 1, 2, 3, 4, 5, 6, 7, 8, 9, 10, 11, 12))"
      ]
     },
     "metadata": {},
     "execution_count": 375
    }
   ],
   "source": [
    "A = nx.Graph()\n",
    "A.add_nodes_from(list(range(0, len(colonias_agrupacion))))\n",
    "A.nodes()"
   ]
  },
  {
   "cell_type": "code",
   "execution_count": 376,
   "metadata": {},
   "outputs": [
    {
     "output_type": "execute_result",
     "data": {
      "text/plain": [
       "EdgeView([(0, 0), (0, 1), (0, 2), (0, 3), (0, 4), (0, 5), (0, 6), (0, 7), (0, 8), (0, 9), (0, 10), (0, 11), (0, 12), (1, 1), (1, 2), (1, 3), (1, 4), (1, 5), (1, 6), (1, 7), (1, 8), (1, 9), (1, 10), (1, 11), (1, 12), (2, 2), (2, 3), (2, 4), (2, 5), (2, 6), (2, 7), (2, 8), (2, 9), (2, 10), (2, 11), (2, 12), (3, 3), (3, 4), (3, 5), (3, 6), (3, 7), (3, 8), (3, 9), (3, 10), (3, 11), (3, 12), (4, 4), (4, 5), (4, 6), (4, 7), (4, 8), (4, 9), (4, 10), (4, 11), (4, 12), (5, 5), (5, 6), (5, 7), (5, 8), (5, 9), (5, 10), (5, 11), (5, 12), (6, 6), (6, 7), (6, 8), (6, 9), (6, 10), (6, 11), (6, 12), (7, 7), (7, 8), (7, 9), (7, 10), (7, 11), (7, 12), (8, 8), (8, 9), (8, 10), (8, 11), (8, 12), (9, 9), (9, 10), (9, 11), (9, 12), (10, 10), (10, 11), (10, 12), (11, 11), (11, 12), (12, 12)])"
      ]
     },
     "metadata": {},
     "execution_count": 376
    }
   ],
   "source": [
    "for i in range(len(colonias_agrupacion)):\n",
    "    for j in range(len(colonias_agrupacion)):\n",
    "        A.add_edge(i, j, weight=peso_arista(colonias_agrupacion_dict[i], colonias_agrupacion_dict[j]))\n",
    "A.edges()"
   ]
  },
  {
   "cell_type": "code",
   "execution_count": 377,
   "metadata": {},
   "outputs": [
    {
     "output_type": "display_data",
     "data": {
      "text/plain": "<Figure size 720x576 with 1 Axes>",
      "image/svg+xml": "<?xml version=\"1.0\" encoding=\"utf-8\" standalone=\"no\"?>\n<!DOCTYPE svg PUBLIC \"-//W3C//DTD SVG 1.1//EN\"\n  \"http://www.w3.org/Graphics/SVG/1.1/DTD/svg11.dtd\">\n<!-- Created with matplotlib (https://matplotlib.org/) -->\n<svg height=\"467.277656pt\" version=\"1.1\" viewBox=\"0 0 572.4 467.277656\" width=\"572.4pt\" xmlns=\"http://www.w3.org/2000/svg\" xmlns:xlink=\"http://www.w3.org/1999/xlink\">\n <metadata>\n  <rdf:RDF xmlns:cc=\"http://creativecommons.org/ns#\" xmlns:dc=\"http://purl.org/dc/elements/1.1/\" xmlns:rdf=\"http://www.w3.org/1999/02/22-rdf-syntax-ns#\">\n   <cc:Work>\n    <dc:type rdf:resource=\"http://purl.org/dc/dcmitype/StillImage\"/>\n    <dc:date>2021-02-05T20:31:53.836295</dc:date>\n    <dc:format>image/svg+xml</dc:format>\n    <dc:creator>\n     <cc:Agent>\n      <dc:title>Matplotlib v3.3.2, https://matplotlib.org/</dc:title>\n     </cc:Agent>\n    </dc:creator>\n   </cc:Work>\n  </rdf:RDF>\n </metadata>\n <defs>\n  <style type=\"text/css\">*{stroke-linecap:butt;stroke-linejoin:round;}</style>\n </defs>\n <g id=\"figure_1\">\n  <g id=\"patch_1\">\n   <path d=\"M 0 467.277656 \nL 572.4 467.277656 \nL 572.4 0 \nL 0 0 \nz\n\" style=\"fill:#ffffff;\"/>\n  </g>\n  <g id=\"axes_1\">\n   <g id=\"LineCollection_1\">\n    <path clip-path=\"url(#pd43bc60494)\" d=\"M 482.486844 440.310384 \nL 482.486844 440.310384 \n\" style=\"fill:none;stroke:#000000;\"/>\n    <path clip-path=\"url(#pd43bc60494)\" d=\"M 482.486844 440.310384 \nL 539.836364 300.323859 \n\" style=\"fill:none;stroke:#000000;\"/>\n    <path clip-path=\"url(#pd43bc60494)\" d=\"M 482.486844 440.310384 \nL 276.820619 335.729256 \n\" style=\"fill:none;stroke:#000000;\"/>\n    <path clip-path=\"url(#pd43bc60494)\" d=\"M 482.486844 440.310384 \nL 390.685515 44.964929 \n\" style=\"fill:none;stroke:#000000;\"/>\n    <path clip-path=\"url(#pd43bc60494)\" d=\"M 482.486844 440.310384 \nL 99.043596 391.009168 \n\" style=\"fill:none;stroke:#000000;\"/>\n    <path clip-path=\"url(#pd43bc60494)\" d=\"M 482.486844 440.310384 \nL 252.392523 67.756626 \n\" style=\"fill:none;stroke:#000000;\"/>\n    <path clip-path=\"url(#pd43bc60494)\" d=\"M 482.486844 440.310384 \nL 371.808289 243.31274 \n\" style=\"fill:none;stroke:#000000;\"/>\n    <path clip-path=\"url(#pd43bc60494)\" d=\"M 482.486844 440.310384 \nL 539.169697 163.579512 \n\" style=\"fill:none;stroke:#000000;\"/>\n    <path clip-path=\"url(#pd43bc60494)\" d=\"M 482.486844 440.310384 \nL 272.671637 430.563298 \n\" style=\"fill:none;stroke:#000000;\"/>\n    <path clip-path=\"url(#pd43bc60494)\" d=\"M 482.486844 440.310384 \nL 156.470214 258.576964 \n\" style=\"fill:none;stroke:#000000;\"/>\n    <path clip-path=\"url(#pd43bc60494)\" d=\"M 482.486844 440.310384 \nL 33.894583 113.725834 \n\" style=\"fill:none;stroke:#000000;\"/>\n    <path clip-path=\"url(#pd43bc60494)\" d=\"M 482.486844 440.310384 \nL 235.868011 158.896873 \n\" style=\"fill:none;stroke:#000000;\"/>\n    <path clip-path=\"url(#pd43bc60494)\" d=\"M 482.486844 440.310384 \nL 32.563636 294.682426 \n\" style=\"fill:none;stroke:#000000;\"/>\n    <path clip-path=\"url(#pd43bc60494)\" d=\"M 539.836364 300.323859 \nL 539.836364 300.323859 \n\" style=\"fill:none;stroke:#000000;\"/>\n    <path clip-path=\"url(#pd43bc60494)\" d=\"M 539.836364 300.323859 \nL 276.820619 335.729256 \n\" style=\"fill:none;stroke:#000000;\"/>\n    <path clip-path=\"url(#pd43bc60494)\" d=\"M 539.836364 300.323859 \nL 390.685515 44.964929 \n\" style=\"fill:none;stroke:#000000;\"/>\n    <path clip-path=\"url(#pd43bc60494)\" d=\"M 539.836364 300.323859 \nL 99.043596 391.009168 \n\" style=\"fill:none;stroke:#000000;\"/>\n    <path clip-path=\"url(#pd43bc60494)\" d=\"M 539.836364 300.323859 \nL 252.392523 67.756626 \n\" style=\"fill:none;stroke:#000000;\"/>\n    <path clip-path=\"url(#pd43bc60494)\" d=\"M 539.836364 300.323859 \nL 371.808289 243.31274 \n\" style=\"fill:none;stroke:#000000;\"/>\n    <path clip-path=\"url(#pd43bc60494)\" d=\"M 539.836364 300.323859 \nL 539.169697 163.579512 \n\" style=\"fill:none;stroke:#000000;\"/>\n    <path clip-path=\"url(#pd43bc60494)\" d=\"M 539.836364 300.323859 \nL 272.671637 430.563298 \n\" style=\"fill:none;stroke:#000000;\"/>\n    <path clip-path=\"url(#pd43bc60494)\" d=\"M 539.836364 300.323859 \nL 156.470214 258.576964 \n\" style=\"fill:none;stroke:#000000;\"/>\n    <path clip-path=\"url(#pd43bc60494)\" d=\"M 539.836364 300.323859 \nL 33.894583 113.725834 \n\" style=\"fill:none;stroke:#000000;\"/>\n    <path clip-path=\"url(#pd43bc60494)\" d=\"M 539.836364 300.323859 \nL 235.868011 158.896873 \n\" style=\"fill:none;stroke:#000000;\"/>\n    <path clip-path=\"url(#pd43bc60494)\" d=\"M 539.836364 300.323859 \nL 32.563636 294.682426 \n\" style=\"fill:none;stroke:#000000;\"/>\n    <path clip-path=\"url(#pd43bc60494)\" d=\"M 276.820619 335.729256 \nL 276.820619 335.729256 \n\" style=\"fill:none;stroke:#000000;\"/>\n    <path clip-path=\"url(#pd43bc60494)\" d=\"M 276.820619 335.729256 \nL 390.685515 44.964929 \n\" style=\"fill:none;stroke:#000000;\"/>\n    <path clip-path=\"url(#pd43bc60494)\" d=\"M 276.820619 335.729256 \nL 99.043596 391.009168 \n\" style=\"fill:none;stroke:#000000;\"/>\n    <path clip-path=\"url(#pd43bc60494)\" d=\"M 276.820619 335.729256 \nL 252.392523 67.756626 \n\" style=\"fill:none;stroke:#000000;\"/>\n    <path clip-path=\"url(#pd43bc60494)\" d=\"M 276.820619 335.729256 \nL 371.808289 243.31274 \n\" style=\"fill:none;stroke:#000000;\"/>\n    <path clip-path=\"url(#pd43bc60494)\" d=\"M 276.820619 335.729256 \nL 539.169697 163.579512 \n\" style=\"fill:none;stroke:#000000;\"/>\n    <path clip-path=\"url(#pd43bc60494)\" d=\"M 276.820619 335.729256 \nL 272.671637 430.563298 \n\" style=\"fill:none;stroke:#000000;\"/>\n    <path clip-path=\"url(#pd43bc60494)\" d=\"M 276.820619 335.729256 \nL 156.470214 258.576964 \n\" style=\"fill:none;stroke:#000000;\"/>\n    <path clip-path=\"url(#pd43bc60494)\" d=\"M 276.820619 335.729256 \nL 33.894583 113.725834 \n\" style=\"fill:none;stroke:#000000;\"/>\n    <path clip-path=\"url(#pd43bc60494)\" d=\"M 276.820619 335.729256 \nL 235.868011 158.896873 \n\" style=\"fill:none;stroke:#000000;\"/>\n    <path clip-path=\"url(#pd43bc60494)\" d=\"M 276.820619 335.729256 \nL 32.563636 294.682426 \n\" style=\"fill:none;stroke:#000000;\"/>\n    <path clip-path=\"url(#pd43bc60494)\" d=\"M 390.685515 44.964929 \nL 390.685515 44.964929 \n\" style=\"fill:none;stroke:#000000;\"/>\n    <path clip-path=\"url(#pd43bc60494)\" d=\"M 390.685515 44.964929 \nL 99.043596 391.009168 \n\" style=\"fill:none;stroke:#000000;\"/>\n    <path clip-path=\"url(#pd43bc60494)\" d=\"M 390.685515 44.964929 \nL 252.392523 67.756626 \n\" style=\"fill:none;stroke:#000000;\"/>\n    <path clip-path=\"url(#pd43bc60494)\" d=\"M 390.685515 44.964929 \nL 371.808289 243.31274 \n\" style=\"fill:none;stroke:#000000;\"/>\n    <path clip-path=\"url(#pd43bc60494)\" d=\"M 390.685515 44.964929 \nL 539.169697 163.579512 \n\" style=\"fill:none;stroke:#000000;\"/>\n    <path clip-path=\"url(#pd43bc60494)\" d=\"M 390.685515 44.964929 \nL 272.671637 430.563298 \n\" style=\"fill:none;stroke:#000000;\"/>\n    <path clip-path=\"url(#pd43bc60494)\" d=\"M 390.685515 44.964929 \nL 156.470214 258.576964 \n\" style=\"fill:none;stroke:#000000;\"/>\n    <path clip-path=\"url(#pd43bc60494)\" d=\"M 390.685515 44.964929 \nL 33.894583 113.725834 \n\" style=\"fill:none;stroke:#000000;\"/>\n    <path clip-path=\"url(#pd43bc60494)\" d=\"M 390.685515 44.964929 \nL 235.868011 158.896873 \n\" style=\"fill:none;stroke:#000000;\"/>\n    <path clip-path=\"url(#pd43bc60494)\" d=\"M 390.685515 44.964929 \nL 32.563636 294.682426 \n\" style=\"fill:none;stroke:#000000;\"/>\n    <path clip-path=\"url(#pd43bc60494)\" d=\"M 99.043596 391.009168 \nL 99.043596 391.009168 \n\" style=\"fill:none;stroke:#000000;\"/>\n    <path clip-path=\"url(#pd43bc60494)\" d=\"M 99.043596 391.009168 \nL 252.392523 67.756626 \n\" style=\"fill:none;stroke:#000000;\"/>\n    <path clip-path=\"url(#pd43bc60494)\" d=\"M 99.043596 391.009168 \nL 371.808289 243.31274 \n\" style=\"fill:none;stroke:#000000;\"/>\n    <path clip-path=\"url(#pd43bc60494)\" d=\"M 99.043596 391.009168 \nL 539.169697 163.579512 \n\" style=\"fill:none;stroke:#000000;\"/>\n    <path clip-path=\"url(#pd43bc60494)\" d=\"M 99.043596 391.009168 \nL 272.671637 430.563298 \n\" style=\"fill:none;stroke:#000000;\"/>\n    <path clip-path=\"url(#pd43bc60494)\" d=\"M 99.043596 391.009168 \nL 156.470214 258.576964 \n\" style=\"fill:none;stroke:#000000;\"/>\n    <path clip-path=\"url(#pd43bc60494)\" d=\"M 99.043596 391.009168 \nL 33.894583 113.725834 \n\" style=\"fill:none;stroke:#000000;\"/>\n    <path clip-path=\"url(#pd43bc60494)\" d=\"M 99.043596 391.009168 \nL 235.868011 158.896873 \n\" style=\"fill:none;stroke:#000000;\"/>\n    <path clip-path=\"url(#pd43bc60494)\" d=\"M 99.043596 391.009168 \nL 32.563636 294.682426 \n\" style=\"fill:none;stroke:#000000;\"/>\n    <path clip-path=\"url(#pd43bc60494)\" d=\"M 252.392523 67.756626 \nL 252.392523 67.756626 \n\" style=\"fill:none;stroke:#000000;\"/>\n    <path clip-path=\"url(#pd43bc60494)\" d=\"M 252.392523 67.756626 \nL 371.808289 243.31274 \n\" style=\"fill:none;stroke:#000000;\"/>\n    <path clip-path=\"url(#pd43bc60494)\" d=\"M 252.392523 67.756626 \nL 539.169697 163.579512 \n\" style=\"fill:none;stroke:#000000;\"/>\n    <path clip-path=\"url(#pd43bc60494)\" d=\"M 252.392523 67.756626 \nL 272.671637 430.563298 \n\" style=\"fill:none;stroke:#000000;\"/>\n    <path clip-path=\"url(#pd43bc60494)\" d=\"M 252.392523 67.756626 \nL 156.470214 258.576964 \n\" style=\"fill:none;stroke:#000000;\"/>\n    <path clip-path=\"url(#pd43bc60494)\" d=\"M 252.392523 67.756626 \nL 33.894583 113.725834 \n\" style=\"fill:none;stroke:#000000;\"/>\n    <path clip-path=\"url(#pd43bc60494)\" d=\"M 252.392523 67.756626 \nL 235.868011 158.896873 \n\" style=\"fill:none;stroke:#000000;\"/>\n    <path clip-path=\"url(#pd43bc60494)\" d=\"M 252.392523 67.756626 \nL 32.563636 294.682426 \n\" style=\"fill:none;stroke:#000000;\"/>\n    <path clip-path=\"url(#pd43bc60494)\" d=\"M 371.808289 243.31274 \nL 371.808289 243.31274 \n\" style=\"fill:none;stroke:#000000;\"/>\n    <path clip-path=\"url(#pd43bc60494)\" d=\"M 371.808289 243.31274 \nL 539.169697 163.579512 \n\" style=\"fill:none;stroke:#000000;\"/>\n    <path clip-path=\"url(#pd43bc60494)\" d=\"M 371.808289 243.31274 \nL 272.671637 430.563298 \n\" style=\"fill:none;stroke:#000000;\"/>\n    <path clip-path=\"url(#pd43bc60494)\" d=\"M 371.808289 243.31274 \nL 156.470214 258.576964 \n\" style=\"fill:none;stroke:#000000;\"/>\n    <path clip-path=\"url(#pd43bc60494)\" d=\"M 371.808289 243.31274 \nL 33.894583 113.725834 \n\" style=\"fill:none;stroke:#000000;\"/>\n    <path clip-path=\"url(#pd43bc60494)\" d=\"M 371.808289 243.31274 \nL 235.868011 158.896873 \n\" style=\"fill:none;stroke:#000000;\"/>\n    <path clip-path=\"url(#pd43bc60494)\" d=\"M 371.808289 243.31274 \nL 32.563636 294.682426 \n\" style=\"fill:none;stroke:#000000;\"/>\n    <path clip-path=\"url(#pd43bc60494)\" d=\"M 539.169697 163.579512 \nL 539.169697 163.579512 \n\" style=\"fill:none;stroke:#000000;\"/>\n    <path clip-path=\"url(#pd43bc60494)\" d=\"M 539.169697 163.579512 \nL 272.671637 430.563298 \n\" style=\"fill:none;stroke:#000000;\"/>\n    <path clip-path=\"url(#pd43bc60494)\" d=\"M 539.169697 163.579512 \nL 156.470214 258.576964 \n\" style=\"fill:none;stroke:#000000;\"/>\n    <path clip-path=\"url(#pd43bc60494)\" d=\"M 539.169697 163.579512 \nL 33.894583 113.725834 \n\" style=\"fill:none;stroke:#000000;\"/>\n    <path clip-path=\"url(#pd43bc60494)\" d=\"M 539.169697 163.579512 \nL 235.868011 158.896873 \n\" style=\"fill:none;stroke:#000000;\"/>\n    <path clip-path=\"url(#pd43bc60494)\" d=\"M 539.169697 163.579512 \nL 32.563636 294.682426 \n\" style=\"fill:none;stroke:#000000;\"/>\n    <path clip-path=\"url(#pd43bc60494)\" d=\"M 272.671637 430.563298 \nL 272.671637 430.563298 \n\" style=\"fill:none;stroke:#000000;\"/>\n    <path clip-path=\"url(#pd43bc60494)\" d=\"M 272.671637 430.563298 \nL 156.470214 258.576964 \n\" style=\"fill:none;stroke:#000000;\"/>\n    <path clip-path=\"url(#pd43bc60494)\" d=\"M 272.671637 430.563298 \nL 33.894583 113.725834 \n\" style=\"fill:none;stroke:#000000;\"/>\n    <path clip-path=\"url(#pd43bc60494)\" d=\"M 272.671637 430.563298 \nL 235.868011 158.896873 \n\" style=\"fill:none;stroke:#000000;\"/>\n    <path clip-path=\"url(#pd43bc60494)\" d=\"M 272.671637 430.563298 \nL 32.563636 294.682426 \n\" style=\"fill:none;stroke:#000000;\"/>\n    <path clip-path=\"url(#pd43bc60494)\" d=\"M 156.470214 258.576964 \nL 156.470214 258.576964 \n\" style=\"fill:none;stroke:#000000;\"/>\n    <path clip-path=\"url(#pd43bc60494)\" d=\"M 156.470214 258.576964 \nL 33.894583 113.725834 \n\" style=\"fill:none;stroke:#000000;\"/>\n    <path clip-path=\"url(#pd43bc60494)\" d=\"M 156.470214 258.576964 \nL 235.868011 158.896873 \n\" style=\"fill:none;stroke:#000000;\"/>\n    <path clip-path=\"url(#pd43bc60494)\" d=\"M 156.470214 258.576964 \nL 32.563636 294.682426 \n\" style=\"fill:none;stroke:#000000;\"/>\n    <path clip-path=\"url(#pd43bc60494)\" d=\"M 33.894583 113.725834 \nL 33.894583 113.725834 \n\" style=\"fill:none;stroke:#000000;\"/>\n    <path clip-path=\"url(#pd43bc60494)\" d=\"M 33.894583 113.725834 \nL 235.868011 158.896873 \n\" style=\"fill:none;stroke:#000000;\"/>\n    <path clip-path=\"url(#pd43bc60494)\" d=\"M 33.894583 113.725834 \nL 32.563636 294.682426 \n\" style=\"fill:none;stroke:#000000;\"/>\n    <path clip-path=\"url(#pd43bc60494)\" d=\"M 235.868011 158.896873 \nL 235.868011 158.896873 \n\" style=\"fill:none;stroke:#000000;\"/>\n    <path clip-path=\"url(#pd43bc60494)\" d=\"M 235.868011 158.896873 \nL 32.563636 294.682426 \n\" style=\"fill:none;stroke:#000000;\"/>\n    <path clip-path=\"url(#pd43bc60494)\" d=\"M 32.563636 294.682426 \nL 32.563636 294.682426 \n\" style=\"fill:none;stroke:#000000;\"/>\n   </g>\n   <g id=\"text_1\">\n    <g id=\"patch_2\">\n     <path clip-path=\"url(#pd43bc60494)\" d=\"M 479.305594 448.149446 \nL 485.668094 448.149446 \nQ 488.668094 448.149446 488.668094 445.149446 \nL 488.668094 435.471321 \nQ 488.668094 432.471321 485.668094 432.471321 \nL 479.305594 432.471321 \nQ 476.305594 432.471321 476.305594 435.471321 \nL 476.305594 445.149446 \nQ 476.305594 448.149446 479.305594 448.149446 \nz\n\" style=\"fill:#ffffff;stroke:#ffffff;stroke-linejoin:miter;\"/>\n    </g>\n    <g clip-path=\"url(#pd43bc60494)\">\n     <!-- 4 -->\n     <g transform=\"translate(479.305594 443.069759)scale(0.1 -0.1)\">\n      <defs>\n       <path d=\"M 37.796875 64.3125 \nL 12.890625 25.390625 \nL 37.796875 25.390625 \nz\nM 35.203125 72.90625 \nL 47.609375 72.90625 \nL 47.609375 25.390625 \nL 58.015625 25.390625 \nL 58.015625 17.1875 \nL 47.609375 17.1875 \nL 47.609375 0 \nL 37.796875 0 \nL 37.796875 17.1875 \nL 4.890625 17.1875 \nL 4.890625 26.703125 \nz\n\" id=\"DejaVuSans-52\"/>\n      </defs>\n      <use xlink:href=\"#DejaVuSans-52\"/>\n     </g>\n    </g>\n   </g>\n   <g id=\"text_2\">\n    <g id=\"patch_3\">\n     <path clip-path=\"url(#pd43bc60494)\" d=\"M 517.209521 376.23269 \nL 519.621537 370.345112 \nQ 520.758834 367.569043 517.982765 366.431747 \nL 509.027052 362.76278 \nQ 506.250984 361.625484 505.113687 364.401552 \nL 502.701671 370.289131 \nQ 501.564374 373.0652 504.340443 374.202496 \nL 513.296155 377.871462 \nQ 516.072224 379.008759 517.209521 376.23269 \nz\n\" style=\"fill:#ffffff;stroke:#ffffff;stroke-linejoin:miter;\"/>\n    </g>\n    <g clip-path=\"url(#pd43bc60494)\">\n     <!-- 8 -->\n     <g transform=\"translate(512.509 374.306987)rotate(-67.722125)scale(0.1 -0.1)\">\n      <defs>\n       <path d=\"M 31.78125 34.625 \nQ 24.75 34.625 20.71875 30.859375 \nQ 16.703125 27.09375 16.703125 20.515625 \nQ 16.703125 13.921875 20.71875 10.15625 \nQ 24.75 6.390625 31.78125 6.390625 \nQ 38.8125 6.390625 42.859375 10.171875 \nQ 46.921875 13.96875 46.921875 20.515625 \nQ 46.921875 27.09375 42.890625 30.859375 \nQ 38.875 34.625 31.78125 34.625 \nz\nM 21.921875 38.8125 \nQ 15.578125 40.375 12.03125 44.71875 \nQ 8.5 49.078125 8.5 55.328125 \nQ 8.5 64.0625 14.71875 69.140625 \nQ 20.953125 74.21875 31.78125 74.21875 \nQ 42.671875 74.21875 48.875 69.140625 \nQ 55.078125 64.0625 55.078125 55.328125 \nQ 55.078125 49.078125 51.53125 44.71875 \nQ 48 40.375 41.703125 38.8125 \nQ 48.828125 37.15625 52.796875 32.3125 \nQ 56.78125 27.484375 56.78125 20.515625 \nQ 56.78125 9.90625 50.3125 4.234375 \nQ 43.84375 -1.421875 31.78125 -1.421875 \nQ 19.734375 -1.421875 13.25 4.234375 \nQ 6.78125 9.90625 6.78125 20.515625 \nQ 6.78125 27.484375 10.78125 32.3125 \nQ 14.796875 37.15625 21.921875 38.8125 \nz\nM 18.3125 54.390625 \nQ 18.3125 48.734375 21.84375 45.5625 \nQ 25.390625 42.390625 31.78125 42.390625 \nQ 38.140625 42.390625 41.71875 45.5625 \nQ 45.3125 48.734375 45.3125 54.390625 \nQ 45.3125 60.0625 41.71875 63.234375 \nQ 38.140625 66.40625 31.78125 66.40625 \nQ 25.390625 66.40625 21.84375 63.234375 \nQ 18.3125 60.0625 18.3125 54.390625 \nz\n\" id=\"DejaVuSans-56\"/>\n      </defs>\n      <use xlink:href=\"#DejaVuSans-56\"/>\n     </g>\n    </g>\n   </g>\n   <g id=\"text_3\">\n    <g id=\"patch_4\">\n     <path clip-path=\"url(#pd43bc60494)\" d=\"M 373.264875 393.565427 \nL 378.936256 396.44932 \nQ 381.610385 397.809113 382.970177 395.134984 \nL 387.356924 386.508134 \nQ 388.716717 383.834005 386.042588 382.474212 \nL 380.371207 379.590319 \nQ 377.697078 378.230527 376.337286 380.904655 \nL 371.950538 389.531506 \nQ 370.590746 392.205635 373.264875 393.565427 \nz\n\" style=\"fill:#ffffff;stroke:#ffffff;stroke-linejoin:miter;\"/>\n    </g>\n    <g clip-path=\"url(#pd43bc60494)\">\n     <!-- 6 -->\n     <g transform=\"translate(375.567315 389.037514)rotate(-333.046696)scale(0.1 -0.1)\">\n      <defs>\n       <path d=\"M 33.015625 40.375 \nQ 26.375 40.375 22.484375 35.828125 \nQ 18.609375 31.296875 18.609375 23.390625 \nQ 18.609375 15.53125 22.484375 10.953125 \nQ 26.375 6.390625 33.015625 6.390625 \nQ 39.65625 6.390625 43.53125 10.953125 \nQ 47.40625 15.53125 47.40625 23.390625 \nQ 47.40625 31.296875 43.53125 35.828125 \nQ 39.65625 40.375 33.015625 40.375 \nz\nM 52.59375 71.296875 \nL 52.59375 62.3125 \nQ 48.875 64.0625 45.09375 64.984375 \nQ 41.3125 65.921875 37.59375 65.921875 \nQ 27.828125 65.921875 22.671875 59.328125 \nQ 17.53125 52.734375 16.796875 39.40625 \nQ 19.671875 43.65625 24.015625 45.921875 \nQ 28.375 48.1875 33.59375 48.1875 \nQ 44.578125 48.1875 50.953125 41.515625 \nQ 57.328125 34.859375 57.328125 23.390625 \nQ 57.328125 12.15625 50.6875 5.359375 \nQ 44.046875 -1.421875 33.015625 -1.421875 \nQ 20.359375 -1.421875 13.671875 8.265625 \nQ 6.984375 17.96875 6.984375 36.375 \nQ 6.984375 53.65625 15.1875 63.9375 \nQ 23.390625 74.21875 37.203125 74.21875 \nQ 40.921875 74.21875 44.703125 73.484375 \nQ 48.484375 72.75 52.59375 71.296875 \nz\n\" id=\"DejaVuSans-54\"/>\n      </defs>\n      <use xlink:href=\"#DejaVuSans-54\"/>\n     </g>\n    </g>\n   </g>\n   <g id=\"text_4\">\n    <g id=\"patch_5\">\n     <path clip-path=\"url(#pd43bc60494)\" d=\"M 428.230717 241.31195 \nL 429.669834 247.509558 \nQ 430.348397 250.431809 433.270648 249.753247 \nL 442.697953 247.564176 \nQ 445.620204 246.885614 444.941642 243.963363 \nL 443.502524 237.765755 \nQ 442.823962 234.843503 439.90171 235.522066 \nL 430.474406 237.711136 \nQ 427.552154 238.389699 428.230717 241.31195 \nz\n\" style=\"fill:#ffffff;stroke:#ffffff;stroke-linejoin:miter;\"/>\n    </g>\n    <g clip-path=\"url(#pd43bc60494)\">\n     <!-- 1 -->\n     <g transform=\"translate(433.178758 240.162988)rotate(-283.072715)scale(0.1 -0.1)\">\n      <defs>\n       <path d=\"M 12.40625 8.296875 \nL 28.515625 8.296875 \nL 28.515625 63.921875 \nL 10.984375 60.40625 \nL 10.984375 69.390625 \nL 28.421875 72.90625 \nL 38.28125 72.90625 \nL 38.28125 8.296875 \nL 54.390625 8.296875 \nL 54.390625 0 \nL 12.40625 0 \nz\n\" id=\"DejaVuSans-49\"/>\n      </defs>\n      <use xlink:href=\"#DejaVuSans-49\"/>\n     </g>\n    </g>\n   </g>\n   <g id=\"text_5\">\n    <g id=\"patch_6\">\n     <path clip-path=\"url(#pd43bc60494)\" d=\"M 286.610266 423.029145 \nL 292.920818 423.840524 \nQ 295.896324 424.2231 296.278899 421.247594 \nL 297.513105 411.648488 \nQ 297.89568 408.672982 294.920174 408.290406 \nL 288.609622 407.479027 \nQ 285.634116 407.096451 285.25154 410.071957 \nL 284.017335 419.671063 \nQ 283.63476 422.646569 286.610266 423.029145 \nz\n\" style=\"fill:#ffffff;stroke:#ffffff;stroke-linejoin:miter;\"/>\n    </g>\n    <g clip-path=\"url(#pd43bc60494)\">\n     <!-- 1 -->\n     <g transform=\"translate(287.258054 417.990932)rotate(-352.673392)scale(0.1 -0.1)\">\n      <use xlink:href=\"#DejaVuSans-49\"/>\n     </g>\n    </g>\n   </g>\n   <g id=\"text_6\">\n    <g id=\"patch_7\">\n     <path clip-path=\"url(#pd43bc60494)\" d=\"M 359.098466 255.446074 \nL 362.441784 260.859357 \nQ 364.018201 263.411789 366.570633 261.835372 \nL 374.804885 256.749784 \nQ 377.357317 255.173367 375.7809 252.620935 \nL 372.437582 247.207652 \nQ 370.861165 244.65522 368.308733 246.231637 \nL 360.074481 251.317225 \nQ 357.522049 252.893642 359.098466 255.446074 \nz\n\" style=\"fill:#ffffff;stroke:#ffffff;stroke-linejoin:miter;\"/>\n    </g>\n    <g clip-path=\"url(#pd43bc60494)\">\n     <!-- 2 -->\n     <g transform=\"translate(363.420319 252.776838)rotate(-301.700048)scale(0.1 -0.1)\">\n      <defs>\n       <path d=\"M 19.1875 8.296875 \nL 53.609375 8.296875 \nL 53.609375 0 \nL 7.328125 0 \nL 7.328125 8.296875 \nQ 12.9375 14.109375 22.625 23.890625 \nQ 32.328125 33.6875 34.8125 36.53125 \nQ 39.546875 41.84375 41.421875 45.53125 \nQ 43.3125 49.21875 43.3125 52.78125 \nQ 43.3125 58.59375 39.234375 62.25 \nQ 35.15625 65.921875 28.609375 65.921875 \nQ 23.96875 65.921875 18.8125 64.3125 \nQ 13.671875 62.703125 7.8125 59.421875 \nL 7.8125 69.390625 \nQ 13.765625 71.78125 18.9375 73 \nQ 24.125 74.21875 28.421875 74.21875 \nQ 39.75 74.21875 46.484375 68.546875 \nQ 53.21875 62.890625 53.21875 53.421875 \nQ 53.21875 48.921875 51.53125 44.890625 \nQ 49.859375 40.875 45.40625 35.40625 \nQ 44.1875 33.984375 37.640625 27.21875 \nQ 31.109375 20.453125 19.1875 8.296875 \nz\n\" id=\"DejaVuSans-50\"/>\n      </defs>\n      <use xlink:href=\"#DejaVuSans-50\"/>\n     </g>\n    </g>\n   </g>\n   <g id=\"text_7\">\n    <g id=\"patch_8\">\n     <path clip-path=\"url(#pd43bc60494)\" d=\"M 418.755041 342.877757 \nL 421.871491 348.424752 \nQ 423.340937 351.04023 425.956416 349.570784 \nL 434.394059 344.83029 \nQ 437.009538 343.360844 435.540092 340.745366 \nL 432.423642 335.198371 \nQ 430.954196 332.582893 428.338717 334.052339 \nL 419.901074 338.792833 \nQ 417.285595 340.262279 418.755041 342.877757 \nz\n\" style=\"fill:#ffffff;stroke:#ffffff;stroke-linejoin:miter;\"/>\n    </g>\n    <g clip-path=\"url(#pd43bc60494)\">\n     <!-- 5 -->\n     <g transform=\"translate(423.183646 340.389649)rotate(-299.328444)scale(0.1 -0.1)\">\n      <defs>\n       <path d=\"M 10.796875 72.90625 \nL 49.515625 72.90625 \nL 49.515625 64.59375 \nL 19.828125 64.59375 \nL 19.828125 46.734375 \nQ 21.96875 47.46875 24.109375 47.828125 \nQ 26.265625 48.1875 28.421875 48.1875 \nQ 40.625 48.1875 47.75 41.5 \nQ 54.890625 34.8125 54.890625 23.390625 \nQ 54.890625 11.625 47.5625 5.09375 \nQ 40.234375 -1.421875 26.90625 -1.421875 \nQ 22.3125 -1.421875 17.546875 -0.640625 \nQ 12.796875 0.140625 7.71875 1.703125 \nL 7.71875 11.625 \nQ 12.109375 9.234375 16.796875 8.0625 \nQ 21.484375 6.890625 26.703125 6.890625 \nQ 35.15625 6.890625 40.078125 11.328125 \nQ 45.015625 15.765625 45.015625 23.390625 \nQ 45.015625 31 40.078125 35.4375 \nQ 35.15625 39.890625 26.703125 39.890625 \nQ 22.75 39.890625 18.8125 39.015625 \nQ 14.890625 38.140625 10.796875 36.28125 \nz\n\" id=\"DejaVuSans-53\"/>\n      </defs>\n      <use xlink:href=\"#DejaVuSans-53\"/>\n     </g>\n    </g>\n   </g>\n   <g id=\"text_8\">\n    <g id=\"patch_9\">\n     <path clip-path=\"url(#pd43bc60494)\" d=\"M 517.869525 306.634509 \nL 519.14625 300.401422 \nQ 519.748242 297.462441 516.809262 296.860449 \nL 507.327989 294.918398 \nQ 504.389008 294.316406 503.787016 297.255386 \nL 502.510291 303.488474 \nQ 501.908299 306.427454 504.84728 307.029446 \nL 514.328553 308.971498 \nQ 517.267533 309.57349 517.869525 306.634509 \nz\n\" style=\"fill:#ffffff;stroke:#ffffff;stroke-linejoin:miter;\"/>\n    </g>\n    <g clip-path=\"url(#pd43bc60494)\">\n     <!-- 5 -->\n     <g transform=\"translate(512.893158 305.615199)rotate(-78.424208)scale(0.1 -0.1)\">\n      <use xlink:href=\"#DejaVuSans-53\"/>\n     </g>\n    </g>\n   </g>\n   <g id=\"text_9\">\n    <g id=\"patch_10\">\n     <path clip-path=\"url(#pd43bc60494)\" d=\"M 374.037642 443.119831 \nL 380.393288 443.415086 \nQ 383.390056 443.554302 383.529272 440.557534 \nL 383.978391 430.889836 \nQ 384.117607 427.893068 381.120839 427.753851 \nL 374.765194 427.458596 \nQ 371.768425 427.31938 371.629209 430.316148 \nL 371.18009 439.983846 \nQ 371.040874 442.980614 374.037642 443.119831 \nz\n\" style=\"fill:#ffffff;stroke:#ffffff;stroke-linejoin:miter;\"/>\n    </g>\n    <g clip-path=\"url(#pd43bc60494)\">\n     <!-- 7 -->\n     <g transform=\"translate(374.273367 438.045616)rotate(-357.340204)scale(0.1 -0.1)\">\n      <defs>\n       <path d=\"M 8.203125 72.90625 \nL 55.078125 72.90625 \nL 55.078125 68.703125 \nL 28.609375 0 \nL 18.3125 0 \nL 43.21875 64.59375 \nL 8.203125 64.59375 \nz\n\" id=\"DejaVuSans-55\"/>\n      </defs>\n      <use xlink:href=\"#DejaVuSans-55\"/>\n     </g>\n    </g>\n   </g>\n   <g id=\"text_10\">\n    <g id=\"patch_11\">\n     <path clip-path=\"url(#pd43bc60494)\" d=\"M 312.883017 354.741831 \nL 318.4404 357.839717 \nQ 321.060777 359.300409 322.52147 356.680032 \nL 327.233726 348.226586 \nQ 328.694418 345.606209 326.074041 344.145516 \nL 320.516658 341.04763 \nQ 317.896281 339.586938 316.435588 342.207315 \nL 311.723332 350.660761 \nQ 310.26264 353.281138 312.883017 354.741831 \nz\n\" style=\"fill:#ffffff;stroke:#ffffff;stroke-linejoin:miter;\"/>\n    </g>\n    <g clip-path=\"url(#pd43bc60494)\">\n     <!-- 3 -->\n     <g transform=\"translate(315.356304 350.304932)rotate(-330.863129)scale(0.1 -0.1)\">\n      <defs>\n       <path d=\"M 40.578125 39.3125 \nQ 47.65625 37.796875 51.625 33 \nQ 55.609375 28.21875 55.609375 21.1875 \nQ 55.609375 10.40625 48.1875 4.484375 \nQ 40.765625 -1.421875 27.09375 -1.421875 \nQ 22.515625 -1.421875 17.65625 -0.515625 \nQ 12.796875 0.390625 7.625 2.203125 \nL 7.625 11.71875 \nQ 11.71875 9.328125 16.59375 8.109375 \nQ 21.484375 6.890625 26.8125 6.890625 \nQ 36.078125 6.890625 40.9375 10.546875 \nQ 45.796875 14.203125 45.796875 21.1875 \nQ 45.796875 27.640625 41.28125 31.265625 \nQ 36.765625 34.90625 28.71875 34.90625 \nL 20.21875 34.90625 \nL 20.21875 43.015625 \nL 29.109375 43.015625 \nQ 36.375 43.015625 40.234375 45.921875 \nQ 44.09375 48.828125 44.09375 54.296875 \nQ 44.09375 59.90625 40.109375 62.90625 \nQ 36.140625 65.921875 28.71875 65.921875 \nQ 24.65625 65.921875 20.015625 65.03125 \nQ 15.375 64.15625 9.8125 62.3125 \nL 9.8125 71.09375 \nQ 15.4375 72.65625 20.34375 73.4375 \nQ 25.25 74.21875 29.59375 74.21875 \nQ 40.828125 74.21875 47.359375 69.109375 \nQ 53.90625 64.015625 53.90625 55.328125 \nQ 53.90625 49.265625 50.4375 45.09375 \nQ 46.96875 40.921875 40.578125 39.3125 \nz\n\" id=\"DejaVuSans-51\"/>\n      </defs>\n      <use xlink:href=\"#DejaVuSans-51\"/>\n     </g>\n    </g>\n   </g>\n   <g id=\"text_11\">\n    <g id=\"patch_12\">\n     <path clip-path=\"url(#pd43bc60494)\" d=\"M 251.005022 281.483206 \nL 256.148774 285.227965 \nQ 258.574119 286.993666 260.339821 284.568322 \nL 266.036048 276.744058 \nQ 267.80175 274.318714 265.376405 272.553012 \nL 260.232653 268.808253 \nQ 257.807308 267.042551 256.041607 269.467896 \nL 250.345379 277.292159 \nQ 248.579678 279.717504 251.005022 281.483206 \nz\n\" style=\"fill:#ffffff;stroke:#ffffff;stroke-linejoin:miter;\"/>\n    </g>\n    <g clip-path=\"url(#pd43bc60494)\">\n     <!-- 1 -->\n     <g transform=\"translate(253.99476 277.376541)rotate(-323.944598)scale(0.1 -0.1)\">\n      <use xlink:href=\"#DejaVuSans-49\"/>\n     </g>\n    </g>\n   </g>\n   <g id=\"text_12\">\n    <g id=\"patch_13\">\n     <path clip-path=\"url(#pd43bc60494)\" d=\"M 351.185193 302.377694 \nL 355.378606 307.162742 \nQ 357.355854 309.418954 359.612066 307.441706 \nL 366.890698 301.063022 \nQ 369.14691 299.085774 367.169662 296.829563 \nL 362.976249 292.044514 \nQ 360.999001 289.788302 358.742789 291.76555 \nL 351.464157 298.144234 \nQ 349.207945 300.121482 351.185193 302.377694 \nz\n\" style=\"fill:#ffffff;stroke:#ffffff;stroke-linejoin:miter;\"/>\n    </g>\n    <g clip-path=\"url(#pd43bc60494)\">\n     <!-- 1 -->\n     <g transform=\"translate(355.005476 299.02976)rotate(-311.229946)scale(0.1 -0.1)\">\n      <use xlink:href=\"#DejaVuSans-49\"/>\n     </g>\n    </g>\n   </g>\n   <g id=\"text_13\">\n    <g id=\"patch_14\">\n     <path clip-path=\"url(#pd43bc60494)\" d=\"M 252.084593 373.974878 \nL 258.137905 375.934171 \nQ 260.992118 376.858002 261.91595 374.003789 \nL 264.896269 364.795977 \nQ 265.820101 361.941763 262.965887 361.017932 \nL 256.912576 359.058639 \nQ 254.058362 358.134807 253.134531 360.989021 \nL 250.154211 370.196833 \nQ 249.23038 373.051046 252.084593 373.974878 \nz\n\" style=\"fill:#ffffff;stroke:#ffffff;stroke-linejoin:miter;\"/>\n    </g>\n    <g clip-path=\"url(#pd43bc60494)\">\n     <!-- 2 -->\n     <g transform=\"translate(253.648852 369.14204)rotate(-342.064637)scale(0.1 -0.1)\">\n      <use xlink:href=\"#DejaVuSans-50\"/>\n     </g>\n    </g>\n   </g>\n   <g id=\"text_14\">\n    <g id=\"patch_15\">\n     <path clip-path=\"url(#pd43bc60494)\" d=\"M 536.655114 308.162922 \nL 543.017614 308.162922 \nQ 546.017614 308.162922 546.017614 305.162922 \nL 546.017614 295.484797 \nQ 546.017614 292.484797 543.017614 292.484797 \nL 536.655114 292.484797 \nQ 533.655114 292.484797 533.655114 295.484797 \nL 533.655114 305.162922 \nQ 533.655114 308.162922 536.655114 308.162922 \nz\n\" style=\"fill:#ffffff;stroke:#ffffff;stroke-linejoin:miter;\"/>\n    </g>\n    <g clip-path=\"url(#pd43bc60494)\">\n     <!-- 5 -->\n     <g transform=\"translate(536.655114 303.083234)scale(0.1 -0.1)\">\n      <use xlink:href=\"#DejaVuSans-53\"/>\n     </g>\n    </g>\n   </g>\n   <g id=\"text_15\">\n    <g id=\"patch_16\">\n     <path clip-path=\"url(#pd43bc60494)\" d=\"M 406.221487 326.219957 \nL 412.527112 325.371136 \nQ 415.500295 324.970906 415.100065 321.997724 \nL 413.808908 312.406112 \nQ 413.408678 309.432929 410.435495 309.833159 \nL 404.12987 310.681979 \nQ 401.156687 311.082209 401.556917 314.055392 \nL 402.848075 323.647004 \nQ 403.248304 326.620186 406.221487 326.219957 \nz\n\" style=\"fill:#ffffff;stroke:#ffffff;stroke-linejoin:miter;\"/>\n    </g>\n    <g clip-path=\"url(#pd43bc60494)\">\n     <!-- 1 -->\n     <g transform=\"translate(405.543806 321.185677)rotate(-7.666683)scale(0.1 -0.1)\">\n      <use xlink:href=\"#DejaVuSans-49\"/>\n     </g>\n    </g>\n   </g>\n   <g id=\"text_16\">\n    <g id=\"patch_17\">\n     <path clip-path=\"url(#pd43bc60494)\" d=\"M 456.887456 173.851057 \nL 460.096409 179.345057 \nQ 461.609471 181.935548 464.199962 180.422485 \nL 472.556993 175.541284 \nQ 475.147484 174.028222 473.634422 171.437731 \nL 470.42547 165.943732 \nQ 468.912407 163.353241 466.321917 164.866303 \nL 457.964885 169.747504 \nQ 455.374394 171.260566 456.887456 173.851057 \nz\n\" style=\"fill:#ffffff;stroke:#ffffff;stroke-linejoin:miter;\"/>\n    </g>\n    <g clip-path=\"url(#pd43bc60494)\">\n     <!-- 1 -->\n     <g transform=\"translate(461.273751 171.289096)rotate(-300.288481)scale(0.1 -0.1)\">\n      <use xlink:href=\"#DejaVuSans-49\"/>\n     </g>\n    </g>\n   </g>\n   <g id=\"text_17\">\n    <g id=\"patch_18\">\n     <path clip-path=\"url(#pd43bc60494)\" d=\"M 317.903654 353.985826 \nL 324.135634 352.703706 \nQ 327.074092 352.099171 326.469557 349.160712 \nL 324.519299 339.681124 \nQ 323.914763 336.742666 320.976305 337.347201 \nL 314.744325 338.629321 \nQ 311.805867 339.233857 312.410403 342.172315 \nL 314.36066 351.651903 \nQ 314.965196 354.590362 317.903654 353.985826 \nz\n\" style=\"fill:#ffffff;stroke:#ffffff;stroke-linejoin:miter;\"/>\n    </g>\n    <g clip-path=\"url(#pd43bc60494)\">\n     <!-- 1 -->\n     <g transform=\"translate(316.880037 349.010343)rotate(-11.625386)scale(0.1 -0.1)\">\n      <use xlink:href=\"#DejaVuSans-49\"/>\n     </g>\n    </g>\n   </g>\n   <g id=\"text_18\">\n    <g id=\"patch_19\">\n     <path clip-path=\"url(#pd43bc60494)\" d=\"M 388.710587 188.133429 \nL 393.656863 192.135399 \nQ 395.989095 194.022379 397.876075 191.690146 \nL 403.963551 184.166268 \nQ 405.850531 181.834036 403.518299 179.947056 \nL 398.572023 175.945086 \nQ 396.239791 174.058106 394.352811 176.390339 \nL 388.265335 183.914216 \nQ 386.378355 186.246449 388.710587 188.133429 \nz\n\" style=\"fill:#ffffff;stroke:#ffffff;stroke-linejoin:miter;\"/>\n    </g>\n    <g clip-path=\"url(#pd43bc60494)\">\n     <!-- 6 -->\n     <g transform=\"translate(391.905677 184.184425)rotate(-321.024109)scale(0.1 -0.1)\">\n      <use xlink:href=\"#DejaVuSans-54\"/>\n     </g>\n    </g>\n   </g>\n   <g id=\"text_19\">\n    <g id=\"patch_20\">\n     <path clip-path=\"url(#pd43bc60494)\" d=\"M 450.291034 278.219554 \nL 456.316168 280.263853 \nQ 459.157096 281.227766 460.121009 278.386838 \nL 463.230634 269.221886 \nQ 464.194547 266.380959 461.353619 265.417045 \nL 455.328484 263.372746 \nQ 452.487556 262.408833 451.523643 265.249761 \nL 448.414019 274.414713 \nQ 447.450106 277.25564 450.291034 278.219554 \nz\n\" style=\"fill:#ffffff;stroke:#ffffff;stroke-linejoin:miter;\"/>\n    </g>\n    <g clip-path=\"url(#pd43bc60494)\">\n     <!-- 4 -->\n     <g transform=\"translate(451.92316 273.409212)rotate(-341.258172)scale(0.1 -0.1)\">\n      <use xlink:href=\"#DejaVuSans-52\"/>\n     </g>\n    </g>\n   </g>\n   <g id=\"text_20\">\n    <g id=\"patch_21\">\n     <path clip-path=\"url(#pd43bc60494)\" d=\"M 531.648552 228.808691 \nL 531.679571 235.171115 \nQ 531.694196 238.171079 534.694161 238.156454 \nL 544.37217 238.109271 \nQ 547.372135 238.094645 547.357509 235.094681 \nL 547.326491 228.732256 \nQ 547.311865 225.732292 544.311901 225.746918 \nL 534.633891 225.794101 \nQ 531.633926 225.808726 531.648552 228.808691 \nz\n\" style=\"fill:#ffffff;stroke:#ffffff;stroke-linejoin:miter;\"/>\n    </g>\n    <g clip-path=\"url(#pd43bc60494)\">\n     <!-- 5 -->\n     <g transform=\"translate(536.728179 228.783926)rotate(-270.27933)scale(0.1 -0.1)\">\n      <use xlink:href=\"#DejaVuSans-53\"/>\n     </g>\n    </g>\n   </g>\n   <g id=\"text_21\">\n    <g id=\"patch_22\">\n     <path clip-path=\"url(#pd43bc60494)\" d=\"M 406.829459 373.883964 \nL 412.548588 371.09596 \nQ 415.245231 369.781381 413.930651 367.084739 \nL 409.689764 358.385257 \nQ 408.375185 355.688615 405.678542 357.003194 \nL 399.959412 359.791197 \nQ 397.26277 361.105777 398.577349 363.802419 \nL 402.818237 372.501901 \nQ 404.132816 375.198543 406.829459 373.883964 \nz\n\" style=\"fill:#ffffff;stroke:#ffffff;stroke-linejoin:miter;\"/>\n    </g>\n    <g clip-path=\"url(#pd43bc60494)\">\n     <!-- 6 -->\n     <g transform=\"translate(404.603575 369.31793)rotate(-25.98865)scale(0.1 -0.1)\">\n      <use xlink:href=\"#DejaVuSans-54\"/>\n     </g>\n    </g>\n   </g>\n   <g id=\"text_22\">\n    <g id=\"patch_23\">\n     <path clip-path=\"url(#pd43bc60494)\" d=\"M 344.142112 286.899016 \nL 350.46722 287.587793 \nQ 353.449589 287.91256 353.774356 284.93019 \nL 354.822068 275.308943 \nQ 355.146835 272.326574 352.164466 272.001807 \nL 345.839357 271.31303 \nQ 342.856988 270.988263 342.532221 273.970632 \nL 341.48451 283.59188 \nQ 341.159743 286.574249 344.142112 286.899016 \nz\n\" style=\"fill:#ffffff;stroke:#ffffff;stroke-linejoin:miter;\"/>\n    </g>\n    <g clip-path=\"url(#pd43bc60494)\">\n     <!-- 4 -->\n     <g transform=\"translate(344.692017 281.849182)rotate(-353.785229)scale(0.1 -0.1)\">\n      <use xlink:href=\"#DejaVuSans-52\"/>\n     </g>\n    </g>\n   </g>\n   <g id=\"text_23\">\n    <g id=\"patch_24\">\n     <path clip-path=\"url(#pd43bc60494)\" d=\"M 281.168204 213.278835 \nL 287.137652 215.480447 \nQ 289.952323 216.518535 290.990411 213.703863 \nL 294.339326 204.623617 \nQ 295.377414 201.808946 292.562743 200.770858 \nL 286.593295 198.569247 \nQ 283.778624 197.531159 282.740536 200.34583 \nL 279.391621 209.426076 \nQ 278.353533 212.240747 281.168204 213.278835 \nz\n\" style=\"fill:#ffffff;stroke:#ffffff;stroke-linejoin:miter;\"/>\n    </g>\n    <g clip-path=\"url(#pd43bc60494)\">\n     <!-- 1 -->\n     <g transform=\"translate(282.925925 208.512952)rotate(-339.755358)scale(0.1 -0.1)\">\n      <use xlink:href=\"#DejaVuSans-49\"/>\n     </g>\n    </g>\n   </g>\n   <g id=\"text_24\">\n    <g id=\"patch_25\">\n     <path clip-path=\"url(#pd43bc60494)\" d=\"M 381.660984 235.375802 \nL 387.429661 238.059787 \nQ 390.149666 239.325321 391.415199 236.605316 \nL 395.497862 227.830468 \nQ 396.763395 225.110463 394.043391 223.84493 \nL 388.274714 221.160944 \nQ 385.554709 219.895411 384.289176 222.615416 \nL 380.206513 231.390264 \nQ 378.94098 234.110269 381.660984 235.375802 \nz\n\" style=\"fill:#ffffff;stroke:#ffffff;stroke-linejoin:miter;\"/>\n    </g>\n    <g clip-path=\"url(#pd43bc60494)\">\n     <!-- 5 -->\n     <g transform=\"translate(383.803822 230.770211)rotate(-335.048911)scale(0.1 -0.1)\">\n      <use xlink:href=\"#DejaVuSans-53\"/>\n     </g>\n    </g>\n   </g>\n   <g id=\"text_25\">\n    <g id=\"patch_26\">\n     <path clip-path=\"url(#pd43bc60494)\" d=\"M 282.931773 305.306344 \nL 289.29388 305.377097 \nQ 292.293694 305.410459 292.327055 302.410644 \nL 292.43468 292.733118 \nQ 292.468041 289.733303 289.468227 289.699942 \nL 283.10612 289.629188 \nQ 280.106306 289.595827 280.072945 292.595641 \nL 279.96532 302.273168 \nQ 279.931959 305.272982 282.931773 305.306344 \nz\n\" style=\"fill:#ffffff;stroke:#ffffff;stroke-linejoin:miter;\"/>\n    </g>\n    <g clip-path=\"url(#pd43bc60494)\">\n     <!-- 1 -->\n     <g transform=\"translate(282.988261 300.22697)rotate(-359.362834)scale(0.1 -0.1)\">\n      <use xlink:href=\"#DejaVuSans-49\"/>\n     </g>\n    </g>\n   </g>\n   <g id=\"text_26\">\n    <g id=\"patch_27\">\n     <path clip-path=\"url(#pd43bc60494)\" d=\"M 273.639369 343.568318 \nL 280.001869 343.568318 \nQ 283.001869 343.568318 283.001869 340.568318 \nL 283.001869 330.890193 \nQ 283.001869 327.890193 280.001869 327.890193 \nL 273.639369 327.890193 \nQ 270.639369 327.890193 270.639369 330.890193 \nL 270.639369 340.568318 \nQ 270.639369 343.568318 273.639369 343.568318 \nz\n\" style=\"fill:#ffffff;stroke:#ffffff;stroke-linejoin:miter;\"/>\n    </g>\n    <g clip-path=\"url(#pd43bc60494)\">\n     <!-- 8 -->\n     <g transform=\"translate(273.639369 338.488631)scale(0.1 -0.1)\">\n      <use xlink:href=\"#DejaVuSans-56\"/>\n     </g>\n    </g>\n   </g>\n   <g id=\"text_27\">\n    <g id=\"patch_28\">\n     <path clip-path=\"url(#pd43bc60494)\" d=\"M 339.892372 196.167761 \nL 342.21241 190.243334 \nQ 343.306337 187.449892 340.512894 186.355964 \nL 331.501131 182.826909 \nQ 328.707689 181.732981 327.613761 184.526424 \nL 325.293723 190.450851 \nQ 324.199796 193.244293 326.993239 194.338221 \nL 336.005002 197.867276 \nQ 338.798444 198.961204 339.892372 196.167761 \nz\n\" style=\"fill:#ffffff;stroke:#ffffff;stroke-linejoin:miter;\"/>\n    </g>\n    <g clip-path=\"url(#pd43bc60494)\">\n     <!-- 3 -->\n     <g transform=\"translate(335.162433 194.315491)rotate(-68.614418)scale(0.1 -0.1)\">\n      <use xlink:href=\"#DejaVuSans-51\"/>\n     </g>\n    </g>\n   </g>\n   <g id=\"text_28\">\n    <g id=\"patch_29\">\n     <path clip-path=\"url(#pd43bc60494)\" d=\"M 187.22196 371.799333 \nL 193.297513 369.910135 \nQ 196.162213 369.019354 195.271432 366.154654 \nL 192.397736 356.91301 \nQ 191.506955 354.04831 188.642254 354.939091 \nL 182.566702 356.828289 \nQ 179.702001 357.71907 180.592782 360.58377 \nL 183.466479 369.825414 \nQ 184.35726 372.690114 187.22196 371.799333 \nz\n\" style=\"fill:#ffffff;stroke:#ffffff;stroke-linejoin:miter;\"/>\n    </g>\n    <g clip-path=\"url(#pd43bc60494)\">\n     <!-- 7 -->\n     <g transform=\"translate(185.713664 366.948739)rotate(-17.273125)scale(0.1 -0.1)\">\n      <use xlink:href=\"#DejaVuSans-55\"/>\n     </g>\n    </g>\n   </g>\n   <g id=\"text_29\">\n    <g id=\"patch_30\">\n     <path clip-path=\"url(#pd43bc60494)\" d=\"M 256.511076 199.286477 \nL 257.088679 205.622704 \nQ 257.361027 208.610317 260.348639 208.337969 \nL 269.986801 207.459365 \nQ 272.974413 207.187017 272.702065 204.199405 \nL 272.124462 197.863177 \nQ 271.852114 194.875565 268.864502 195.147913 \nL 259.22634 196.026517 \nQ 256.238728 196.298864 256.511076 199.286477 \nz\n\" style=\"fill:#ffffff;stroke:#ffffff;stroke-linejoin:miter;\"/>\n    </g>\n    <g clip-path=\"url(#pd43bc60494)\">\n     <!-- 8 -->\n     <g transform=\"translate(261.569788 198.82533)rotate(-275.208626)scale(0.1 -0.1)\">\n      <use xlink:href=\"#DejaVuSans-56\"/>\n     </g>\n    </g>\n   </g>\n   <g id=\"text_30\">\n    <g id=\"patch_31\">\n     <path clip-path=\"url(#pd43bc60494)\" d=\"M 327.500812 297.357985 \nL 332.061075 292.921161 \nQ 334.211297 290.829142 332.119278 288.678919 \nL 325.370337 281.742213 \nQ 323.278317 279.591991 321.128095 281.68401 \nL 316.567832 286.120835 \nQ 314.41761 288.212854 316.50963 290.363076 \nL 323.258571 297.299782 \nQ 325.35059 299.450004 327.500812 297.357985 \nz\n\" style=\"fill:#ffffff;stroke:#ffffff;stroke-linejoin:miter;\"/>\n    </g>\n    <g clip-path=\"url(#pd43bc60494)\">\n     <!-- 8 -->\n     <g transform=\"translate(323.958544 293.717166)rotate(-44.213961)scale(0.1 -0.1)\">\n      <use xlink:href=\"#DejaVuSans-56\"/>\n     </g>\n    </g>\n   </g>\n   <g id=\"text_31\">\n    <g id=\"patch_32\">\n     <path clip-path=\"url(#pd43bc60494)\" d=\"M 409.63606 257.953703 \nL 414.955572 254.463115 \nQ 417.463789 252.817258 415.817933 250.30904 \nL 410.50833 242.217426 \nQ 408.862473 239.709208 406.354256 241.355065 \nL 401.034744 244.845653 \nQ 398.526527 246.49151 400.172383 248.999727 \nL 405.481986 257.091342 \nQ 407.127843 259.599559 409.63606 257.953703 \nz\n\" style=\"fill:#ffffff;stroke:#ffffff;stroke-linejoin:miter;\"/>\n    </g>\n    <g clip-path=\"url(#pd43bc60494)\">\n     <!-- 2 -->\n     <g transform=\"translate(406.849248 253.706716)rotate(-33.272317)scale(0.1 -0.1)\">\n      <use xlink:href=\"#DejaVuSans-50\"/>\n     </g>\n    </g>\n   </g>\n   <g id=\"text_32\">\n    <g id=\"patch_33\">\n     <path clip-path=\"url(#pd43bc60494)\" d=\"M 282.438652 386.667118 \nL 282.716745 380.310698 \nQ 282.84787 377.313565 279.850736 377.182441 \nL 270.18186 376.759428 \nQ 267.184727 376.628304 267.053603 379.625437 \nL 266.77551 385.981856 \nQ 266.644386 388.978989 269.641519 389.110114 \nL 279.310395 389.533126 \nQ 282.307528 389.664251 282.438652 386.667118 \nz\n\" style=\"fill:#ffffff;stroke:#ffffff;stroke-linejoin:miter;\"/>\n    </g>\n    <g clip-path=\"url(#pd43bc60494)\">\n     <!-- 3 -->\n     <g transform=\"translate(277.363819 386.445094)rotate(-87.494912)scale(0.1 -0.1)\">\n      <use xlink:href=\"#DejaVuSans-51\"/>\n     </g>\n    </g>\n   </g>\n   <g id=\"text_33\">\n    <g id=\"patch_34\">\n     <path clip-path=\"url(#pd43bc60494)\" d=\"M 209.73658 302.035653 \nL 215.092943 305.469424 \nQ 217.618536 307.08849 219.237603 304.562897 \nL 224.46078 296.415227 \nQ 226.079846 293.889633 223.554253 292.270566 \nL 218.19789 288.836796 \nQ 215.672296 287.217729 214.053229 289.743323 \nL 208.830053 297.890993 \nQ 207.210986 300.416586 209.73658 302.035653 \nz\n\" style=\"fill:#ffffff;stroke:#ffffff;stroke-linejoin:miter;\"/>\n    </g>\n    <g clip-path=\"url(#pd43bc60494)\">\n     <!-- 6 -->\n     <g transform=\"translate(212.478031 297.759244)rotate(-327.337536)scale(0.1 -0.1)\">\n      <use xlink:href=\"#DejaVuSans-54\"/>\n     </g>\n    </g>\n   </g>\n   <g id=\"text_34\">\n    <g id=\"patch_35\">\n     <path clip-path=\"url(#pd43bc60494)\" d=\"M 147.721008 228.368109 \nL 152.417683 232.66027 \nQ 154.632225 234.68408 156.656034 232.469537 \nL 163.184927 225.325332 \nQ 165.208736 223.11079 162.994194 221.086981 \nL 158.297519 216.794819 \nQ 156.082977 214.77101 154.059168 216.985552 \nL 147.530275 224.129757 \nQ 145.506466 226.3443 147.721008 228.368109 \nz\n\" style=\"fill:#ffffff;stroke:#ffffff;stroke-linejoin:miter;\"/>\n    </g>\n    <g clip-path=\"url(#pd43bc60494)\">\n     <!-- 1 -->\n     <g transform=\"translate(151.147781 224.618381)rotate(-317.576669)scale(0.1 -0.1)\">\n      <use xlink:href=\"#DejaVuSans-49\"/>\n     </g>\n    </g>\n   </g>\n   <g id=\"text_35\">\n    <g id=\"patch_36\">\n     <path clip-path=\"url(#pd43bc60494)\" d=\"M 247.989628 245.982479 \nL 249.425126 252.180926 \nQ 250.101982 255.103573 253.024629 254.426718 \nL 262.453211 252.243153 \nQ 265.375858 251.566297 264.699002 248.64365 \nL 263.263504 242.445202 \nQ 262.586648 239.522555 259.664001 240.199411 \nL 250.235419 242.382976 \nQ 247.312772 243.059832 247.989628 245.982479 \nz\n\" style=\"fill:#ffffff;stroke:#ffffff;stroke-linejoin:miter;\"/>\n    </g>\n    <g clip-path=\"url(#pd43bc60494)\">\n     <!-- 3 -->\n     <g transform=\"translate(252.938339 244.836407)rotate(-283.039256)scale(0.1 -0.1)\">\n      <use xlink:href=\"#DejaVuSans-51\"/>\n     </g>\n    </g>\n   </g>\n   <g id=\"text_36\">\n    <g id=\"patch_37\">\n     <path clip-path=\"url(#pd43bc60494)\" d=\"M 150.255747 322.409297 \nL 156.530267 323.463716 \nQ 159.488784 323.960888 159.985955 321.002371 \nL 161.589853 311.458074 \nQ 162.087025 308.499557 159.128508 308.002385 \nL 152.853988 306.947966 \nQ 149.895471 306.450794 149.398299 309.409311 \nL 147.794402 318.953608 \nQ 147.29723 321.912125 150.255747 322.409297 \nz\n\" style=\"fill:#ffffff;stroke:#ffffff;stroke-linejoin:miter;\"/>\n    </g>\n    <g clip-path=\"url(#pd43bc60494)\">\n     <!-- 8 -->\n     <g transform=\"translate(151.097573 317.39985)rotate(-350.460705)scale(0.1 -0.1)\">\n      <use xlink:href=\"#DejaVuSans-56\"/>\n     </g>\n    </g>\n   </g>\n   <g id=\"text_37\">\n    <g id=\"patch_38\">\n     <path clip-path=\"url(#pd43bc60494)\" d=\"M 387.504265 52.803991 \nL 393.866765 52.803991 \nQ 396.866765 52.803991 396.866765 49.803991 \nL 396.866765 40.125866 \nQ 396.866765 37.125866 393.866765 37.125866 \nL 387.504265 37.125866 \nQ 384.504265 37.125866 384.504265 40.125866 \nL 384.504265 49.803991 \nQ 384.504265 52.803991 387.504265 52.803991 \nz\n\" style=\"fill:#ffffff;stroke:#ffffff;stroke-linejoin:miter;\"/>\n    </g>\n    <g clip-path=\"url(#pd43bc60494)\">\n     <!-- 2 -->\n     <g transform=\"translate(387.504265 47.724304)scale(0.1 -0.1)\">\n      <use xlink:href=\"#DejaVuSans-50\"/>\n     </g>\n    </g>\n   </g>\n   <g id=\"text_38\">\n    <g id=\"patch_39\">\n     <path clip-path=\"url(#pd43bc60494)\" d=\"M 248.808597 225.471418 \nL 252.908853 220.606307 \nQ 254.842177 218.312346 252.548215 216.379022 \nL 245.147799 210.14204 \nQ 242.853837 208.208717 240.920513 210.502679 \nL 236.820257 215.367789 \nQ 234.886933 217.661751 237.180895 219.595075 \nL 244.581312 225.832056 \nQ 246.875273 227.76538 248.808597 225.471418 \nz\n\" style=\"fill:#ffffff;stroke:#ffffff;stroke-linejoin:miter;\"/>\n    </g>\n    <g clip-path=\"url(#pd43bc60494)\">\n     <!-- 4 -->\n     <g transform=\"translate(244.924394 222.197858)rotate(-49.876214)scale(0.1 -0.1)\">\n      <use xlink:href=\"#DejaVuSans-52\"/>\n     </g>\n    </g>\n   </g>\n   <g id=\"text_39\">\n    <g id=\"patch_40\">\n     <path clip-path=\"url(#pd43bc60494)\" d=\"M 319.67485 64.612815 \nL 325.952664 63.578186 \nQ 328.912734 63.090344 328.424893 60.130275 \nL 326.851097 50.580968 \nQ 326.363256 47.620898 323.403187 48.108739 \nL 317.125373 49.143369 \nQ 314.165303 49.63121 314.653144 52.59128 \nL 316.22694 62.140587 \nQ 316.714781 65.100656 319.67485 64.612815 \nz\n\" style=\"fill:#ffffff;stroke:#ffffff;stroke-linejoin:miter;\"/>\n    </g>\n    <g clip-path=\"url(#pd43bc60494)\">\n     <!-- 9 -->\n     <g transform=\"translate(318.848824 59.600739)rotate(-9.358637)scale(0.1 -0.1)\">\n      <defs>\n       <path d=\"M 10.984375 1.515625 \nL 10.984375 10.5 \nQ 14.703125 8.734375 18.5 7.8125 \nQ 22.3125 6.890625 25.984375 6.890625 \nQ 35.75 6.890625 40.890625 13.453125 \nQ 46.046875 20.015625 46.78125 33.40625 \nQ 43.953125 29.203125 39.59375 26.953125 \nQ 35.25 24.703125 29.984375 24.703125 \nQ 19.046875 24.703125 12.671875 31.3125 \nQ 6.296875 37.9375 6.296875 49.421875 \nQ 6.296875 60.640625 12.9375 67.421875 \nQ 19.578125 74.21875 30.609375 74.21875 \nQ 43.265625 74.21875 49.921875 64.515625 \nQ 56.59375 54.828125 56.59375 36.375 \nQ 56.59375 19.140625 48.40625 8.859375 \nQ 40.234375 -1.421875 26.421875 -1.421875 \nQ 22.703125 -1.421875 18.890625 -0.6875 \nQ 15.09375 0.046875 10.984375 1.515625 \nz\nM 30.609375 32.421875 \nQ 37.25 32.421875 41.125 36.953125 \nQ 45.015625 41.5 45.015625 49.421875 \nQ 45.015625 57.28125 41.125 61.84375 \nQ 37.25 66.40625 30.609375 66.40625 \nQ 23.96875 66.40625 20.09375 61.84375 \nQ 16.21875 57.28125 16.21875 49.421875 \nQ 16.21875 41.5 20.09375 36.953125 \nQ 23.96875 32.421875 30.609375 32.421875 \nz\n\" id=\"DejaVuSans-57\"/>\n      </defs>\n      <use xlink:href=\"#DejaVuSans-57\"/>\n     </g>\n    </g>\n   </g>\n   <g id=\"text_40\">\n    <g id=\"patch_41\">\n     <path clip-path=\"url(#pd43bc60494)\" d=\"M 388.749296 148.04848 \nL 389.352107 141.714601 \nQ 389.636339 138.728096 386.649834 138.443863 \nL 377.015245 137.526917 \nQ 374.02874 137.242684 373.744507 140.229189 \nL 373.141697 146.563068 \nQ 372.857464 149.549573 375.843969 149.833806 \nL 385.478559 150.750752 \nQ 388.465064 151.034985 388.749296 148.04848 \nz\n\" style=\"fill:#ffffff;stroke:#ffffff;stroke-linejoin:miter;\"/>\n    </g>\n    <g clip-path=\"url(#pd43bc60494)\">\n     <!-- 1 -->\n     <g transform=\"translate(383.692459 147.567209)rotate(-84.563402)scale(0.1 -0.1)\">\n      <use xlink:href=\"#DejaVuSans-49\"/>\n     </g>\n    </g>\n   </g>\n   <g id=\"text_41\">\n    <g id=\"patch_42\">\n     <path clip-path=\"url(#pd43bc60494)\" d=\"M 457.54938 108.411427 \nL 462.520478 112.382522 \nQ 464.864414 114.254943 466.736836 111.911007 \nL 472.777346 104.349371 \nQ 474.649768 102.005435 472.305832 100.133014 \nL 467.334734 96.161919 \nQ 464.990798 94.289497 463.118376 96.633434 \nL 457.077866 104.195069 \nQ 455.205444 106.539006 457.54938 108.411427 \nz\n\" style=\"fill:#ffffff;stroke:#ffffff;stroke-linejoin:miter;\"/>\n    </g>\n    <g clip-path=\"url(#pd43bc60494)\">\n     <!-- 5 -->\n     <g transform=\"translate(460.719819 104.442606)rotate(-321.380864)scale(0.1 -0.1)\">\n      <use xlink:href=\"#DejaVuSans-53\"/>\n     </g>\n    </g>\n   </g>\n   <g id=\"text_42\">\n    <g id=\"patch_43\">\n     <path clip-path=\"url(#pd43bc60494)\" d=\"M 338.243424 243.100219 \nL 340.105437 237.01628 \nQ 340.9834 234.147625 338.114745 233.269662 \nL 328.860345 230.437317 \nQ 325.99169 229.559354 325.113727 232.428009 \nL 323.251714 238.511948 \nQ 322.373751 241.380603 325.242406 242.258566 \nL 334.496806 245.090911 \nQ 337.365461 245.968874 338.243424 243.100219 \nz\n\" style=\"fill:#ffffff;stroke:#ffffff;stroke-linejoin:miter;\"/>\n    </g>\n    <g clip-path=\"url(#pd43bc60494)\">\n     <!-- 4 -->\n     <g transform=\"translate(333.386134 241.613626)rotate(-72.983066)scale(0.1 -0.1)\">\n      <use xlink:href=\"#DejaVuSans-52\"/>\n     </g>\n    </g>\n   </g>\n   <g id=\"text_43\">\n    <g id=\"patch_44\">\n     <path clip-path=\"url(#pd43bc60494)\" d=\"M 276.509821 159.706618 \nL 281.2108 155.419171 \nQ 283.427372 153.397585 281.405786 151.181013 \nL 274.884065 144.03026 \nQ 272.862479 141.813689 270.645907 143.835275 \nL 265.944928 148.122722 \nQ 263.728357 150.144308 265.749943 152.36088 \nL 272.271663 159.511632 \nQ 274.293249 161.728204 276.509821 159.706618 \nz\n\" style=\"fill:#ffffff;stroke:#ffffff;stroke-linejoin:miter;\"/>\n    </g>\n    <g clip-path=\"url(#pd43bc60494)\">\n     <!-- 2 -->\n     <g transform=\"translate(273.086813 155.953454)rotate(-42.365841)scale(0.1 -0.1)\">\n      <use xlink:href=\"#DejaVuSans-50\"/>\n     </g>\n    </g>\n   </g>\n   <g id=\"text_44\">\n    <g id=\"patch_45\">\n     <path clip-path=\"url(#pd43bc60494)\" d=\"M 210.64973 87.644816 \nL 216.897268 86.440787 \nQ 219.843061 85.873073 219.275347 82.927279 \nL 217.443876 73.424026 \nQ 216.876161 70.478233 213.930367 71.045947 \nL 207.68283 72.249975 \nQ 204.737037 72.81769 205.304751 75.763484 \nL 207.136222 85.266737 \nQ 207.703937 88.21253 210.64973 87.644816 \nz\n\" style=\"fill:#ffffff;stroke:#ffffff;stroke-linejoin:miter;\"/>\n    </g>\n    <g clip-path=\"url(#pd43bc60494)\">\n     <!-- 2 -->\n     <g transform=\"translate(209.68846 82.656912)rotate(-10.908331)scale(0.1 -0.1)\">\n      <use xlink:href=\"#DejaVuSans-50\"/>\n     </g>\n    </g>\n   </g>\n   <g id=\"text_45\">\n    <g id=\"patch_46\">\n     <path clip-path=\"url(#pd43bc60494)\" d=\"M 315.360855 110.130158 \nL 320.4853 106.359021 \nQ 322.901541 104.580882 321.123402 102.164641 \nL 315.387051 94.369746 \nQ 313.608912 91.953505 311.192671 93.731644 \nL 306.068226 97.502781 \nQ 303.651985 99.28092 305.430124 101.697161 \nL 311.166475 109.492056 \nQ 312.944614 111.908297 315.360855 110.130158 \nz\n\" style=\"fill:#ffffff;stroke:#ffffff;stroke-linejoin:miter;\"/>\n    </g>\n    <g clip-path=\"url(#pd43bc60494)\">\n     <!-- 3 -->\n     <g transform=\"translate(312.350058 106.038908)rotate(-36.34977)scale(0.1 -0.1)\">\n      <use xlink:href=\"#DejaVuSans-51\"/>\n     </g>\n    </g>\n   </g>\n   <g id=\"text_46\">\n    <g id=\"patch_47\">\n     <path clip-path=\"url(#pd43bc60494)\" d=\"M 213.498822 178.073432 \nL 218.717803 174.43425 \nQ 221.178619 172.718329 219.462698 170.257513 \nL 213.927066 162.318818 \nQ 212.211145 159.858002 209.750329 161.573923 \nL 204.531348 165.213105 \nQ 202.070532 166.929026 203.786453 169.389842 \nL 209.322085 177.328537 \nQ 211.038006 179.789353 213.498822 178.073432 \nz\n\" style=\"fill:#ffffff;stroke:#ffffff;stroke-linejoin:miter;\"/>\n    </g>\n    <g clip-path=\"url(#pd43bc60494)\">\n     <!-- 2 -->\n     <g transform=\"translate(210.593375 173.906707)rotate(-34.887968)scale(0.1 -0.1)\">\n      <use xlink:href=\"#DejaVuSans-50\"/>\n     </g>\n    </g>\n   </g>\n   <g id=\"text_47\">\n    <g id=\"patch_48\">\n     <path clip-path=\"url(#pd43bc60494)\" d=\"M 95.862346 398.84823 \nL 102.224846 398.84823 \nQ 105.224846 398.84823 105.224846 395.84823 \nL 105.224846 386.170105 \nQ 105.224846 383.170105 102.224846 383.170105 \nL 95.862346 383.170105 \nQ 92.862346 383.170105 92.862346 386.170105 \nL 92.862346 395.84823 \nQ 92.862346 398.84823 95.862346 398.84823 \nz\n\" style=\"fill:#ffffff;stroke:#ffffff;stroke-linejoin:miter;\"/>\n    </g>\n    <g clip-path=\"url(#pd43bc60494)\">\n     <!-- 2 -->\n     <g transform=\"translate(95.862346 393.768543)scale(0.1 -0.1)\">\n      <use xlink:href=\"#DejaVuSans-50\"/>\n     </g>\n    </g>\n   </g>\n   <g id=\"text_48\">\n    <g id=\"patch_49\">\n     <path clip-path=\"url(#pd43bc60494)\" d=\"M 181.437057 235.617022 \nL 184.164086 229.868568 \nQ 185.449915 227.158099 182.739446 225.87227 \nL 173.99536 221.724132 \nQ 171.28489 220.438302 169.999061 223.148772 \nL 167.272032 228.897225 \nQ 165.986203 231.607694 168.696672 232.893523 \nL 177.440759 237.041662 \nQ 180.151228 238.327491 181.437057 235.617022 \nz\n\" style=\"fill:#ffffff;stroke:#ffffff;stroke-linejoin:miter;\"/>\n    </g>\n    <g clip-path=\"url(#pd43bc60494)\">\n     <!-- 1 -->\n     <g transform=\"translate(176.847611 233.439818)rotate(-64.620638)scale(0.1 -0.1)\">\n      <use xlink:href=\"#DejaVuSans-49\"/>\n     </g>\n    </g>\n   </g>\n   <g id=\"text_49\">\n    <g id=\"patch_50\">\n     <path clip-path=\"url(#pd43bc60494)\" d=\"M 236.36109 325.56909 \nL 241.956024 322.539549 \nQ 244.594107 321.111082 243.16564 318.472999 \nL 238.557345 309.962433 \nQ 237.128878 307.32435 234.490795 308.752818 \nL 228.895861 311.782359 \nQ 226.257778 313.210826 227.686245 315.848909 \nL 232.29454 324.359474 \nQ 233.723007 326.997557 236.36109 325.56909 \nz\n\" style=\"fill:#ffffff;stroke:#ffffff;stroke-linejoin:miter;\"/>\n    </g>\n    <g clip-path=\"url(#pd43bc60494)\">\n     <!-- 5 -->\n     <g transform=\"translate(233.942368 321.102211)rotate(-28.434627)scale(0.1 -0.1)\">\n      <use xlink:href=\"#DejaVuSans-53\"/>\n     </g>\n    </g>\n   </g>\n   <g id=\"text_50\">\n    <g id=\"patch_51\">\n     <path clip-path=\"url(#pd43bc60494)\" d=\"M 319.879099 285.71898 \nL 325.531546 282.798149 \nQ 328.196747 281.42094 326.819538 278.755739 \nL 322.376604 270.157691 \nQ 320.999394 267.49249 318.334194 268.869699 \nL 312.681747 271.79053 \nQ 310.016546 273.167739 311.393756 275.83294 \nL 315.83669 284.430989 \nQ 317.213899 287.09619 319.879099 285.71898 \nz\n\" style=\"fill:#ffffff;stroke:#ffffff;stroke-linejoin:miter;\"/>\n    </g>\n    <g clip-path=\"url(#pd43bc60494)\">\n     <!-- 2 -->\n     <g transform=\"translate(317.547169 281.206185)rotate(-27.327094)scale(0.1 -0.1)\">\n      <use xlink:href=\"#DejaVuSans-50\"/>\n     </g>\n    </g>\n   </g>\n   <g id=\"text_51\">\n    <g id=\"patch_52\">\n     <path clip-path=\"url(#pd43bc60494)\" d=\"M 181.014632 417.722857 \nL 187.218194 419.136088 \nQ 190.143253 419.802445 190.809609 416.877386 \nL 192.959303 407.441024 \nQ 193.625659 404.515965 190.700601 403.849609 \nL 184.497038 402.436378 \nQ 181.57198 401.770022 180.905623 404.69508 \nL 178.75593 414.131442 \nQ 178.089573 417.056501 181.014632 417.722857 \nz\n\" style=\"fill:#ffffff;stroke:#ffffff;stroke-linejoin:miter;\"/>\n    </g>\n    <g clip-path=\"url(#pd43bc60494)\">\n     <!-- 1 -->\n     <g transform=\"translate(182.142926 412.770062)rotate(-347.166489)scale(0.1 -0.1)\">\n      <use xlink:href=\"#DejaVuSans-49\"/>\n     </g>\n    </g>\n   </g>\n   <g id=\"text_52\">\n    <g id=\"patch_53\">\n     <path clip-path=\"url(#pd43bc60494)\" d=\"M 133.683283 330.830391 \nL 136.21452 324.993076 \nQ 137.40803 322.240707 134.655661 321.047197 \nL 125.776406 317.196882 \nQ 123.024037 316.003372 121.830527 318.755741 \nL 119.29929 324.593056 \nQ 118.105779 327.345424 120.858148 328.538935 \nL 129.737404 332.389249 \nQ 132.489772 333.582759 133.683283 330.830391 \nz\n\" style=\"fill:#ffffff;stroke:#ffffff;stroke-linejoin:miter;\"/>\n    </g>\n    <g clip-path=\"url(#pd43bc60494)\">\n     <!-- 8 -->\n     <g transform=\"translate(129.022892 328.809504)rotate(-66.556983)scale(0.1 -0.1)\">\n      <use xlink:href=\"#DejaVuSans-56\"/>\n     </g>\n    </g>\n   </g>\n   <g id=\"text_53\">\n    <g id=\"patch_54\">\n     <path clip-path=\"url(#pd43bc60494)\" d=\"M 58.110199 251.063582 \nL 59.56547 257.257417 \nQ 60.251648 260.17789 63.172121 259.491711 \nL 72.593686 257.27807 \nQ 75.514159 256.591892 74.82798 253.671419 \nL 73.37271 247.477584 \nQ 72.686531 244.557112 69.766059 245.24329 \nL 60.344493 247.456931 \nQ 57.424021 248.14311 58.110199 251.063582 \nz\n\" style=\"fill:#ffffff;stroke:#ffffff;stroke-linejoin:miter;\"/>\n    </g>\n    <g clip-path=\"url(#pd43bc60494)\">\n     <!-- 4 -->\n     <g transform=\"translate(63.055228 249.901725)rotate(-283.222089)scale(0.1 -0.1)\">\n      <use xlink:href=\"#DejaVuSans-52\"/>\n     </g>\n    </g>\n   </g>\n   <g id=\"text_54\">\n    <g id=\"patch_55\">\n     <path clip-path=\"url(#pd43bc60494)\" d=\"M 172.593417 281.674343 \nL 175.824379 276.193259 \nQ 177.347819 273.608858 174.763418 272.085417 \nL 166.426032 267.170736 \nQ 163.841631 265.647296 162.31819 268.231697 \nL 159.087228 273.712781 \nQ 157.563788 276.297183 160.148189 277.820623 \nL 168.485575 282.735304 \nQ 171.069976 284.258745 172.593417 281.674343 \nz\n\" style=\"fill:#ffffff;stroke:#ffffff;stroke-linejoin:miter;\"/>\n    </g>\n    <g clip-path=\"url(#pd43bc60494)\">\n     <!-- 6 -->\n     <g transform=\"translate(168.217433 279.09481)rotate(-59.48171)scale(0.1 -0.1)\">\n      <use xlink:href=\"#DejaVuSans-54\"/>\n     </g>\n    </g>\n   </g>\n   <g id=\"text_55\">\n    <g id=\"patch_56\">\n     <path clip-path=\"url(#pd43bc60494)\" d=\"M 57.544914 344.680218 \nL 61.158873 349.916696 \nQ 62.862901 352.385763 65.331968 350.681735 \nL 73.297279 345.184471 \nQ 75.766345 343.480443 74.062318 341.011376 \nL 70.448359 335.774898 \nQ 68.744331 333.305831 66.275265 335.009859 \nL 58.309953 340.507123 \nQ 55.840887 342.211151 57.544914 344.680218 \nz\n\" style=\"fill:#ffffff;stroke:#ffffff;stroke-linejoin:miter;\"/>\n    </g>\n    <g clip-path=\"url(#pd43bc60494)\">\n     <!-- 5 -->\n     <g transform=\"translate(61.72561 341.794908)rotate(-304.611521)scale(0.1 -0.1)\">\n      <use xlink:href=\"#DejaVuSans-53\"/>\n     </g>\n    </g>\n   </g>\n   <g id=\"text_56\">\n    <g id=\"patch_57\">\n     <path clip-path=\"url(#pd43bc60494)\" d=\"M 249.211273 75.595688 \nL 255.573773 75.595688 \nQ 258.573773 75.595688 258.573773 72.595688 \nL 258.573773 62.917563 \nQ 258.573773 59.917563 255.573773 59.917563 \nL 249.211273 59.917563 \nQ 246.211273 59.917563 246.211273 62.917563 \nL 246.211273 72.595688 \nQ 246.211273 75.595688 249.211273 75.595688 \nz\n\" style=\"fill:#ffffff;stroke:#ffffff;stroke-linejoin:miter;\"/>\n    </g>\n    <g clip-path=\"url(#pd43bc60494)\">\n     <!-- 4 -->\n     <g transform=\"translate(249.211273 70.516001)scale(0.1 -0.1)\">\n      <use xlink:href=\"#DejaVuSans-52\"/>\n     </g>\n    </g>\n   </g>\n   <g id=\"text_57\">\n    <g id=\"patch_58\">\n     <path clip-path=\"url(#pd43bc60494)\" d=\"M 303.829489 157.313218 \nL 307.407957 162.574013 \nQ 309.095251 165.054546 311.575783 163.367252 \nL 319.578084 157.923973 \nQ 322.058616 156.23668 320.371323 153.756148 \nL 316.792855 148.495352 \nQ 315.105561 146.014819 312.625029 147.702113 \nL 304.622728 153.145392 \nQ 302.142196 154.832685 303.829489 157.313218 \nz\n\" style=\"fill:#ffffff;stroke:#ffffff;stroke-linejoin:miter;\"/>\n    </g>\n    <g clip-path=\"url(#pd43bc60494)\">\n     <!-- 8 -->\n     <g transform=\"translate(308.029599 154.456243)rotate(-304.224095)scale(0.1 -0.1)\">\n      <use xlink:href=\"#DejaVuSans-56\"/>\n     </g>\n    </g>\n   </g>\n   <g id=\"text_58\">\n    <g id=\"patch_59\">\n     <path clip-path=\"url(#pd43bc60494)\" d=\"M 390.279533 122.09488 \nL 396.314074 124.111244 \nQ 399.159437 125.061985 400.110178 122.216622 \nL 403.177309 113.037362 \nQ 404.12805 110.191999 401.282687 109.241258 \nL 395.248146 107.224894 \nQ 392.402783 106.274153 391.452042 109.119516 \nL 388.384911 118.298775 \nQ 387.43417 121.144138 390.279533 122.09488 \nz\n\" style=\"fill:#ffffff;stroke:#ffffff;stroke-linejoin:miter;\"/>\n    </g>\n    <g clip-path=\"url(#pd43bc60494)\">\n     <!-- 2 -->\n     <g transform=\"translate(391.889356 117.277028)rotate(-341.523615)scale(0.1 -0.1)\">\n      <use xlink:href=\"#DejaVuSans-50\"/>\n     </g>\n    </g>\n   </g>\n   <g id=\"text_59\">\n    <g id=\"patch_60\">\n     <path clip-path=\"url(#pd43bc60494)\" d=\"M 254.527695 246.421152 \nL 254.882773 252.773736 \nQ 255.050197 255.769061 258.045522 255.601637 \nL 267.708564 255.06152 \nQ 270.703888 254.894096 270.536464 251.898772 \nL 270.181386 245.546188 \nQ 270.013962 242.550863 267.018638 242.718287 \nL 257.355596 243.258404 \nQ 254.360271 243.425828 254.527695 246.421152 \nz\n\" style=\"fill:#ffffff;stroke:#ffffff;stroke-linejoin:miter;\"/>\n    </g>\n    <g clip-path=\"url(#pd43bc60494)\">\n     <!-- 1 -->\n     <g transform=\"translate(259.599466 246.137665)rotate(-273.199224)scale(0.1 -0.1)\">\n      <use xlink:href=\"#DejaVuSans-49\"/>\n     </g>\n    </g>\n   </g>\n   <g id=\"text_60\">\n    <g id=\"patch_61\">\n     <path clip-path=\"url(#pd43bc60494)\" d=\"M 210.006506 169.529899 \nL 212.864101 163.845221 \nQ 214.211494 161.164824 211.531096 159.817431 \nL 202.884021 155.470685 \nQ 200.203623 154.123293 198.856231 156.803691 \nL 195.998635 162.488368 \nQ 194.651242 165.168766 197.33164 166.516158 \nL 205.978715 170.862904 \nQ 208.659113 172.210296 210.006506 169.529899 \nz\n\" style=\"fill:#ffffff;stroke:#ffffff;stroke-linejoin:miter;\"/>\n    </g>\n    <g clip-path=\"url(#pd43bc60494)\">\n     <!-- 5 -->\n     <g transform=\"translate(205.467978 167.248454)rotate(-63.312061)scale(0.1 -0.1)\">\n      <use xlink:href=\"#DejaVuSans-53\"/>\n     </g>\n    </g>\n   </g>\n   <g id=\"text_61\">\n    <g id=\"patch_62\">\n     <path clip-path=\"url(#pd43bc60494)\" d=\"M 141.644363 99.067314 \nL 147.87056 97.757401 \nQ 150.806292 97.13976 150.188651 94.204028 \nL 148.196116 84.733236 \nQ 147.578475 81.797504 144.642743 82.415145 \nL 138.416546 83.725059 \nQ 135.480814 84.3427 136.098455 87.278431 \nL 138.09099 96.749223 \nQ 138.708631 99.684955 141.644363 99.067314 \nz\n\" style=\"fill:#ffffff;stroke:#ffffff;stroke-linejoin:miter;\"/>\n    </g>\n    <g clip-path=\"url(#pd43bc60494)\">\n     <!-- 9 -->\n     <g transform=\"translate(140.598555 94.096448)rotate(-11.881035)scale(0.1 -0.1)\">\n      <use xlink:href=\"#DejaVuSans-57\"/>\n     </g>\n    </g>\n   </g>\n   <g id=\"text_62\">\n    <g id=\"patch_63\">\n     <path clip-path=\"url(#pd43bc60494)\" d=\"M 251.27604 117.855455 \nL 252.411111 111.595022 \nQ 252.946311 108.643148 249.994437 108.107948 \nL 240.471568 106.381369 \nQ 237.519694 105.846169 236.984493 108.798043 \nL 235.849423 115.058476 \nQ 235.314223 118.01035 238.266097 118.545551 \nL 247.788966 120.272129 \nQ 250.74084 120.807329 251.27604 117.855455 \nz\n\" style=\"fill:#ffffff;stroke:#ffffff;stroke-linejoin:miter;\"/>\n    </g>\n    <g clip-path=\"url(#pd43bc60494)\">\n     <!-- 9 -->\n     <g transform=\"translate(246.277841 116.949238)rotate(-79.723418)scale(0.1 -0.1)\">\n      <use xlink:href=\"#DejaVuSans-57\"/>\n     </g>\n    </g>\n   </g>\n   <g id=\"text_63\">\n    <g id=\"patch_64\">\n     <path clip-path=\"url(#pd43bc60494)\" d=\"M 145.895007 188.958767 \nL 150.321947 184.388909 \nQ 152.409306 182.234162 150.25456 180.146803 \nL 143.303257 173.412897 \nQ 141.14851 171.325538 139.061151 173.480285 \nL 134.634211 178.050143 \nQ 132.546853 180.20489 134.701599 182.292249 \nL 141.652902 189.026155 \nQ 143.807649 191.113514 145.895007 188.958767 \nz\n\" style=\"fill:#ffffff;stroke:#ffffff;stroke-linejoin:miter;\"/>\n    </g>\n    <g clip-path=\"url(#pd43bc60494)\">\n     <!-- 4 -->\n     <g transform=\"translate(142.246527 185.42439)rotate(-45.910095)scale(0.1 -0.1)\">\n      <use xlink:href=\"#DejaVuSans-52\"/>\n     </g>\n    </g>\n   </g>\n   <g id=\"text_64\">\n    <g id=\"patch_65\">\n     <path clip-path=\"url(#pd43bc60494)\" d=\"M 368.627039 251.151802 \nL 374.989539 251.151802 \nQ 377.989539 251.151802 377.989539 248.151802 \nL 377.989539 238.473677 \nQ 377.989539 235.473677 374.989539 235.473677 \nL 368.627039 235.473677 \nQ 365.627039 235.473677 365.627039 238.473677 \nL 365.627039 248.151802 \nQ 365.627039 251.151802 368.627039 251.151802 \nz\n\" style=\"fill:#ffffff;stroke:#ffffff;stroke-linejoin:miter;\"/>\n    </g>\n    <g clip-path=\"url(#pd43bc60494)\">\n     <!-- 6 -->\n     <g transform=\"translate(368.627039 246.072115)scale(0.1 -0.1)\">\n      <use xlink:href=\"#DejaVuSans-54\"/>\n     </g>\n    </g>\n   </g>\n   <g id=\"text_65\">\n    <g id=\"patch_66\">\n     <path clip-path=\"url(#pd43bc60494)\" d=\"M 455.988579 211.891341 \nL 461.732532 209.154845 \nQ 464.440879 207.864552 463.150586 205.156205 \nL 458.988047 196.418964 \nQ 457.697754 193.710617 454.989407 195.00091 \nL 449.245454 197.737407 \nQ 446.537107 199.0277 447.8274 201.736047 \nL 451.989939 210.473287 \nQ 453.280232 213.181634 455.988579 211.891341 \nz\n\" style=\"fill:#ffffff;stroke:#ffffff;stroke-linejoin:miter;\"/>\n    </g>\n    <g clip-path=\"url(#pd43bc60494)\">\n     <!-- 6 -->\n     <g transform=\"translate(453.803818 207.305489)rotate(-25.473759)scale(0.1 -0.1)\">\n      <use xlink:href=\"#DejaVuSans-54\"/>\n     </g>\n    </g>\n   </g>\n   <g id=\"text_66\">\n    <g id=\"patch_67\">\n     <path clip-path=\"url(#pd43bc60494)\" d=\"M 327.679456 343.417461 \nL 330.656485 337.79441 \nQ 332.060193 335.14307 329.408852 333.739363 \nL 320.855518 329.210944 \nQ 318.204178 327.807237 316.80047 330.458577 \nL 313.823441 336.081628 \nQ 312.419733 338.732968 315.071074 340.136675 \nL 323.624408 344.665094 \nQ 326.275748 346.068802 327.679456 343.417461 \nz\n\" style=\"fill:#ffffff;stroke:#ffffff;stroke-linejoin:miter;\"/>\n    </g>\n    <g clip-path=\"url(#pd43bc60494)\">\n     <!-- 2 -->\n     <g transform=\"translate(323.190129 341.040663)rotate(-62.101772)scale(0.1 -0.1)\">\n      <use xlink:href=\"#DejaVuSans-50\"/>\n     </g>\n    </g>\n   </g>\n   <g id=\"text_67\">\n    <g id=\"patch_68\">\n     <path clip-path=\"url(#pd43bc60494)\" d=\"M 261.520244 258.989232 \nL 267.86682 258.539355 \nQ 270.859311 258.327233 270.647188 255.334742 \nL 269.962872 245.68084 \nQ 269.75075 242.688349 266.758259 242.900471 \nL 260.411683 243.350348 \nQ 257.419192 243.56247 257.631315 246.554962 \nL 258.315631 256.208863 \nQ 258.527753 259.201354 261.520244 258.989232 \nz\n\" style=\"fill:#ffffff;stroke:#ffffff;stroke-linejoin:miter;\"/>\n    </g>\n    <g clip-path=\"url(#pd43bc60494)\">\n     <!-- 3 -->\n     <g transform=\"translate(261.161072 253.922258)rotate(-4.054625)scale(0.1 -0.1)\">\n      <use xlink:href=\"#DejaVuSans-51\"/>\n     </g>\n    </g>\n   </g>\n   <g id=\"text_68\">\n    <g id=\"patch_69\">\n     <path clip-path=\"url(#pd43bc60494)\" d=\"M 197.074223 184.699502 \nL 203.01487 186.977687 \nQ 205.81596 188.051881 206.890154 185.25079 \nL 210.355546 176.214355 \nQ 211.42974 173.413265 208.628649 172.339071 \nL 202.688003 170.060886 \nQ 199.886912 168.986693 198.812719 171.787783 \nL 195.347326 180.824218 \nQ 194.273133 183.625309 197.074223 184.699502 \nz\n\" style=\"fill:#ffffff;stroke:#ffffff;stroke-linejoin:miter;\"/>\n    </g>\n    <g clip-path=\"url(#pd43bc60494)\">\n     <!-- 2 -->\n     <g transform=\"translate(198.893079 179.956614)rotate(-339.018625)scale(0.1 -0.1)\">\n      <use xlink:href=\"#DejaVuSans-50\"/>\n     </g>\n    </g>\n   </g>\n   <g id=\"text_69\">\n    <g id=\"patch_70\">\n     <path clip-path=\"url(#pd43bc60494)\" d=\"M 297.000167 206.086094 \nL 302.405305 209.442564 \nQ 304.953896 211.025182 306.536515 208.476591 \nL 311.642107 200.254728 \nQ 313.224725 197.706136 310.676134 196.123518 \nL 305.270996 192.767048 \nQ 302.722404 191.18443 301.139786 193.733022 \nL 296.034193 201.954884 \nQ 294.451575 204.503476 297.000167 206.086094 \nz\n\" style=\"fill:#ffffff;stroke:#ffffff;stroke-linejoin:miter;\"/>\n    </g>\n    <g clip-path=\"url(#pd43bc60494)\">\n     <!-- 9 -->\n     <g transform=\"translate(299.679902 201.770745)rotate(-328.160645)scale(0.1 -0.1)\">\n      <use xlink:href=\"#DejaVuSans-57\"/>\n     </g>\n    </g>\n   </g>\n   <g id=\"text_70\">\n    <g id=\"patch_71\">\n     <path clip-path=\"url(#pd43bc60494)\" d=\"M 200.21421 277.224578 \nL 206.504997 276.272003 \nQ 209.471184 275.822852 209.022033 272.856666 \nL 207.573053 263.287624 \nQ 207.123902 260.321437 204.157716 260.770588 \nL 197.866928 261.723163 \nQ 194.900741 262.172314 195.349892 265.1385 \nL 196.798872 274.707542 \nQ 197.248023 277.673729 200.21421 277.224578 \nz\n\" style=\"fill:#ffffff;stroke:#ffffff;stroke-linejoin:miter;\"/>\n    </g>\n    <g clip-path=\"url(#pd43bc60494)\">\n     <!-- 7 -->\n     <g transform=\"translate(199.453694 272.202144)rotate(-8.610527)scale(0.1 -0.1)\">\n      <use xlink:href=\"#DejaVuSans-55\"/>\n     </g>\n    </g>\n   </g>\n   <g id=\"text_71\">\n    <g id=\"patch_72\">\n     <path clip-path=\"url(#pd43bc60494)\" d=\"M 535.988447 171.418574 \nL 542.350947 171.418574 \nQ 545.350947 171.418574 545.350947 168.418574 \nL 545.350947 158.740449 \nQ 545.350947 155.740449 542.350947 155.740449 \nL 535.988447 155.740449 \nQ 532.988447 155.740449 532.988447 158.740449 \nL 532.988447 168.418574 \nQ 532.988447 171.418574 535.988447 171.418574 \nz\n\" style=\"fill:#ffffff;stroke:#ffffff;stroke-linejoin:miter;\"/>\n    </g>\n    <g clip-path=\"url(#pd43bc60494)\">\n     <!-- 2 -->\n     <g transform=\"translate(535.988447 166.338887)scale(0.1 -0.1)\">\n      <use xlink:href=\"#DejaVuSans-50\"/>\n     </g>\n    </g>\n   </g>\n   <g id=\"text_72\">\n    <g id=\"patch_73\">\n     <path clip-path=\"url(#pd43bc60494)\" d=\"M 409.221332 304.860941 \nL 413.7162 300.35788 \nQ 415.835588 298.234629 413.712338 296.115241 \nL 406.862642 289.278007 \nQ 404.739391 287.158619 402.620003 289.281869 \nL 398.125134 293.784931 \nQ 396.005746 295.908182 398.128997 298.02757 \nL 404.978693 304.864804 \nQ 407.101944 306.984192 409.221332 304.860941 \nz\n\" style=\"fill:#ffffff;stroke:#ffffff;stroke-linejoin:miter;\"/>\n    </g>\n    <g clip-path=\"url(#pd43bc60494)\">\n     <!-- 3 -->\n     <g transform=\"translate(405.626181 301.272331)rotate(-45.052167)scale(0.1 -0.1)\">\n      <use xlink:href=\"#DejaVuSans-51\"/>\n     </g>\n    </g>\n   </g>\n   <g id=\"text_73\">\n    <g id=\"patch_74\">\n     <path clip-path=\"url(#pd43bc60494)\" d=\"M 346.620982 219.452825 \nL 352.796077 217.919982 \nQ 355.707713 217.197227 354.984958 214.285591 \nL 352.65332 204.892531 \nQ 351.930565 201.980895 349.018929 202.70365 \nL 342.843834 204.236493 \nQ 339.932198 204.959248 340.654953 207.870885 \nL 342.986591 217.263944 \nQ 343.709346 220.17558 346.620982 219.452825 \nz\n\" style=\"fill:#ffffff;stroke:#ffffff;stroke-linejoin:miter;\"/>\n    </g>\n    <g clip-path=\"url(#pd43bc60494)\">\n     <!-- 3 -->\n     <g transform=\"translate(345.397192 214.522758)rotate(-13.94075)scale(0.1 -0.1)\">\n      <use xlink:href=\"#DejaVuSans-51\"/>\n     </g>\n    </g>\n   </g>\n   <g id=\"text_74\">\n    <g id=\"patch_75\">\n     <path clip-path=\"url(#pd43bc60494)\" d=\"M 282.596549 146.141489 \nL 288.928303 146.766221 \nQ 291.913806 147.060789 292.208375 144.075286 \nL 293.158667 134.443929 \nQ 293.453236 131.458425 290.467732 131.163857 \nL 284.135978 130.539125 \nQ 281.150475 130.244556 280.855906 133.230059 \nL 279.905614 142.861417 \nQ 279.611045 145.84692 282.596549 146.141489 \nz\n\" style=\"fill:#ffffff;stroke:#ffffff;stroke-linejoin:miter;\"/>\n    </g>\n    <g clip-path=\"url(#pd43bc60494)\">\n     <!-- 2 -->\n     <g transform=\"translate(283.095321 141.086348)rotate(-354.36507)scale(0.1 -0.1)\">\n      <use xlink:href=\"#DejaVuSans-50\"/>\n     </g>\n    </g>\n   </g>\n   <g id=\"text_75\">\n    <g id=\"patch_76\">\n     <path clip-path=\"url(#pd43bc60494)\" d=\"M 384.216971 169.027212 \nL 390.578713 169.12543 \nQ 393.578356 169.171741 393.624667 166.172098 \nL 393.774069 156.495127 \nQ 393.82038 153.495484 390.820737 153.449173 \nL 384.458995 153.350955 \nQ 381.459353 153.304644 381.413042 156.304286 \nL 381.26364 165.981258 \nQ 381.217329 168.9809 384.216971 169.027212 \nz\n\" style=\"fill:#ffffff;stroke:#ffffff;stroke-linejoin:miter;\"/>\n    </g>\n    <g clip-path=\"url(#pd43bc60494)\">\n     <!-- 4 -->\n     <g transform=\"translate(384.295387 163.948129)rotate(-359.115487)scale(0.1 -0.1)\">\n      <use xlink:href=\"#DejaVuSans-52\"/>\n     </g>\n    </g>\n   </g>\n   <g id=\"text_76\">\n    <g id=\"patch_77\">\n     <path clip-path=\"url(#pd43bc60494)\" d=\"M 284.750821 237.517037 \nL 290.910408 235.923018 \nQ 293.814732 235.171418 293.063131 232.267094 \nL 290.638437 222.897624 \nQ 289.886837 219.9933 286.982513 220.744901 \nL 280.822926 222.33892 \nQ 277.918602 223.09052 278.670203 225.994844 \nL 281.094897 235.364314 \nQ 281.846497 238.268638 284.750821 237.517037 \nz\n\" style=\"fill:#ffffff;stroke:#ffffff;stroke-linejoin:miter;\"/>\n    </g>\n    <g clip-path=\"url(#pd43bc60494)\">\n     <!-- 1 -->\n     <g transform=\"translate(283.478189 232.599351)rotate(-14.509082)scale(0.1 -0.1)\">\n      <use xlink:href=\"#DejaVuSans-49\"/>\n     </g>\n    </g>\n   </g>\n   <g id=\"text_77\">\n    <g id=\"patch_78\">\n     <path clip-path=\"url(#pd43bc60494)\" d=\"M 269.490387 438.402361 \nL 275.852887 438.402361 \nQ 278.852887 438.402361 278.852887 435.402361 \nL 278.852887 425.724236 \nQ 278.852887 422.724236 275.852887 422.724236 \nL 269.490387 422.724236 \nQ 266.490387 422.724236 266.490387 425.724236 \nL 266.490387 435.402361 \nQ 266.490387 438.402361 269.490387 438.402361 \nz\n\" style=\"fill:#ffffff;stroke:#ffffff;stroke-linejoin:miter;\"/>\n    </g>\n    <g clip-path=\"url(#pd43bc60494)\">\n     <!-- 4 -->\n     <g transform=\"translate(269.490387 433.322673)scale(0.1 -0.1)\">\n      <use xlink:href=\"#DejaVuSans-52\"/>\n     </g>\n    </g>\n   </g>\n   <g id=\"text_78\">\n    <g id=\"patch_79\">\n     <path clip-path=\"url(#pd43bc60494)\" d=\"M 206.294479 346.322756 \nL 209.856455 351.594732 \nQ 211.535972 354.080536 214.021776 352.401019 \nL 222.041084 346.982827 \nQ 224.526888 345.30331 222.847371 342.817506 \nL 219.285396 337.54553 \nQ 217.605879 335.059726 215.120074 336.739243 \nL 207.100766 342.157435 \nQ 204.614962 343.836952 206.294479 346.322756 \nz\n\" style=\"fill:#ffffff;stroke:#ffffff;stroke-linejoin:miter;\"/>\n    </g>\n    <g clip-path=\"url(#pd43bc60494)\">\n     <!-- 9 -->\n     <g transform=\"translate(210.503515 343.478949)rotate(-304.044666)scale(0.1 -0.1)\">\n      <use xlink:href=\"#DejaVuSans-57\"/>\n     </g>\n    </g>\n   </g>\n   <g id=\"text_79\">\n    <g id=\"patch_80\">\n     <path clip-path=\"url(#pd43bc60494)\" d=\"M 145.108133 274.321949 \nL 148.937415 279.403091 \nQ 150.742971 281.798915 153.138794 279.993359 \nL 160.86782 274.168562 \nQ 163.263643 272.363006 161.458088 269.967183 \nL 157.628805 264.886041 \nQ 155.82325 262.490218 153.427426 264.295773 \nL 145.698401 270.120571 \nQ 143.302577 271.926126 145.108133 274.321949 \nz\n\" style=\"fill:#ffffff;stroke:#ffffff;stroke-linejoin:miter;\"/>\n    </g>\n    <g clip-path=\"url(#pd43bc60494)\">\n     <!-- 4 -->\n     <g transform=\"translate(149.164811 271.26473)rotate(-307.002641)scale(0.1 -0.1)\">\n      <use xlink:href=\"#DejaVuSans-52\"/>\n     </g>\n    </g>\n   </g>\n   <g id=\"text_80\">\n    <g id=\"patch_81\">\n     <path clip-path=\"url(#pd43bc60494)\" d=\"M 246.074648 292.630005 \nL 246.928796 298.934911 \nQ 247.331538 301.907755 250.304381 301.505013 \nL 259.894899 300.205751 \nQ 262.867742 299.803009 262.465 296.830166 \nL 261.610852 290.52526 \nQ 261.20811 287.552416 258.235267 287.955158 \nL 248.644749 289.25442 \nQ 245.671906 289.657162 246.074648 292.630005 \nz\n\" style=\"fill:#ffffff;stroke:#ffffff;stroke-linejoin:miter;\"/>\n    </g>\n    <g clip-path=\"url(#pd43bc60494)\">\n     <!-- 2 -->\n     <g transform=\"translate(251.108353 291.948071)rotate(-277.715095)scale(0.1 -0.1)\">\n      <use xlink:href=\"#DejaVuSans-50\"/>\n     </g>\n    </g>\n   </g>\n   <g id=\"text_81\">\n    <g id=\"patch_82\">\n     <path clip-path=\"url(#pd43bc60494)\" d=\"M 145.98811 367.878395 \nL 151.525409 371.012039 \nQ 154.136316 372.489593 155.613869 369.878685 \nL 160.380517 361.45579 \nQ 161.858071 358.844883 159.247164 357.367329 \nL 153.709864 354.233685 \nQ 151.098957 352.756132 149.621404 355.367039 \nL 144.854756 363.789935 \nQ 143.377203 366.400842 145.98811 367.878395 \nz\n\" style=\"fill:#ffffff;stroke:#ffffff;stroke-linejoin:miter;\"/>\n    </g>\n    <g clip-path=\"url(#pd43bc60494)\">\n     <!-- 9 -->\n     <g transform=\"translate(148.489946 363.457531)rotate(-330.4938)scale(0.1 -0.1)\">\n      <use xlink:href=\"#DejaVuSans-57\"/>\n     </g>\n    </g>\n   </g>\n   <g id=\"text_82\">\n    <g id=\"patch_83\">\n     <path clip-path=\"url(#pd43bc60494)\" d=\"M 153.288964 266.416026 \nL 159.651464 266.416026 \nQ 162.651464 266.416026 162.651464 263.416026 \nL 162.651464 253.737901 \nQ 162.651464 250.737901 159.651464 250.737901 \nL 153.288964 250.737901 \nQ 150.288964 250.737901 150.288964 253.737901 \nL 150.288964 263.416026 \nQ 150.288964 266.416026 153.288964 266.416026 \nz\n\" style=\"fill:#ffffff;stroke:#ffffff;stroke-linejoin:miter;\"/>\n    </g>\n    <g clip-path=\"url(#pd43bc60494)\">\n     <!-- 5 -->\n     <g transform=\"translate(153.288964 261.336339)scale(0.1 -0.1)\">\n      <use xlink:href=\"#DejaVuSans-53\"/>\n     </g>\n    </g>\n   </g>\n   <g id=\"text_83\">\n    <g id=\"patch_84\">\n     <path clip-path=\"url(#pd43bc60494)\" d=\"M 87.143361 188.786758 \nL 91.25335 193.64365 \nQ 93.191262 195.933736 95.481348 193.995824 \nL 102.869263 187.744038 \nQ 105.159349 185.806126 103.221437 183.516039 \nL 99.111448 178.659148 \nQ 97.173535 176.369061 94.883449 178.306974 \nL 87.495535 184.558759 \nQ 85.205448 186.496672 87.143361 188.786758 \nz\n\" style=\"fill:#ffffff;stroke:#ffffff;stroke-linejoin:miter;\"/>\n    </g>\n    <g clip-path=\"url(#pd43bc60494)\">\n     <!-- 9 -->\n     <g transform=\"translate(91.021002 185.505428)rotate(-310.2385)scale(0.1 -0.1)\">\n      <use xlink:href=\"#DejaVuSans-57\"/>\n     </g>\n    </g>\n   </g>\n   <g id=\"text_84\">\n    <g id=\"patch_85\">\n     <path clip-path=\"url(#pd43bc60494)\" d=\"M 200.318733 216.109292 \nL 204.282804 211.132592 \nQ 206.151915 208.786015 203.805337 206.916904 \nL 196.23518 200.887077 \nQ 193.888603 199.017966 192.019492 201.364544 \nL 188.055421 206.341244 \nQ 186.18631 208.687821 188.532888 210.556932 \nL 196.103045 216.58676 \nQ 198.449622 218.45587 200.318733 216.109292 \nz\n\" style=\"fill:#ffffff;stroke:#ffffff;stroke-linejoin:miter;\"/>\n    </g>\n    <g clip-path=\"url(#pd43bc60494)\">\n     <!-- 7 -->\n     <g transform=\"translate(196.345439 212.94446)rotate(-51.461762)scale(0.1 -0.1)\">\n      <use xlink:href=\"#DejaVuSans-55\"/>\n     </g>\n    </g>\n   </g>\n   <g id=\"text_85\">\n    <g id=\"patch_86\">\n     <path clip-path=\"url(#pd43bc60494)\" d=\"M 93.655737 285.045728 \nL 99.764187 283.26577 \nQ 102.644399 282.426498 101.805126 279.546286 \nL 99.097598 270.254602 \nQ 98.258325 267.37439 95.378113 268.213662 \nL 89.269664 269.993619 \nQ 86.389451 270.832892 87.228724 273.713104 \nL 89.936252 283.004788 \nQ 90.775525 285.885 93.655737 285.045728 \nz\n\" style=\"fill:#ffffff;stroke:#ffffff;stroke-linejoin:miter;\"/>\n    </g>\n    <g clip-path=\"url(#pd43bc60494)\">\n     <!-- 8 -->\n     <g transform=\"translate(92.234656 280.168869)rotate(-16.245733)scale(0.1 -0.1)\">\n      <use xlink:href=\"#DejaVuSans-56\"/>\n     </g>\n    </g>\n   </g>\n   <g id=\"text_86\">\n    <g id=\"patch_87\">\n     <path clip-path=\"url(#pd43bc60494)\" d=\"M 30.713333 121.564896 \nL 37.075833 121.564896 \nQ 40.075833 121.564896 40.075833 118.564896 \nL 40.075833 108.886771 \nQ 40.075833 105.886771 37.075833 105.886771 \nL 30.713333 105.886771 \nQ 27.713333 105.886771 27.713333 108.886771 \nL 27.713333 118.564896 \nQ 27.713333 121.564896 30.713333 121.564896 \nz\n\" style=\"fill:#ffffff;stroke:#ffffff;stroke-linejoin:miter;\"/>\n    </g>\n    <g clip-path=\"url(#pd43bc60494)\">\n     <!-- 5 -->\n     <g transform=\"translate(30.713333 116.485209)scale(0.1 -0.1)\">\n      <use xlink:href=\"#DejaVuSans-53\"/>\n     </g>\n    </g>\n   </g>\n   <g id=\"text_87\">\n    <g id=\"patch_88\">\n     <path clip-path=\"url(#pd43bc60494)\" d=\"M 130.065816 143.267098 \nL 136.274925 144.655756 \nQ 139.202599 145.310526 139.857369 142.382851 \nL 141.969683 132.938052 \nQ 142.624453 130.010378 139.696779 129.355608 \nL 133.48767 127.966951 \nQ 130.559995 127.312181 129.905226 130.239855 \nL 127.792911 139.684654 \nQ 127.138142 142.612329 130.065816 143.267098 \nz\n\" style=\"fill:#ffffff;stroke:#ffffff;stroke-linejoin:miter;\"/>\n    </g>\n    <g clip-path=\"url(#pd43bc60494)\">\n     <!-- 6 -->\n     <g transform=\"translate(131.174491 138.309875)rotate(-347.393346)scale(0.1 -0.1)\">\n      <use xlink:href=\"#DejaVuSans-54\"/>\n     </g>\n    </g>\n   </g>\n   <g id=\"text_88\">\n    <g id=\"patch_89\">\n     <path clip-path=\"url(#pd43bc60494)\" d=\"M 41.044563 207.442949 \nL 41.091358 201.080621 \nQ 41.113423 198.080702 38.113504 198.058638 \nL 28.435641 197.987457 \nQ 25.435722 197.965392 25.413657 200.965311 \nL 25.366862 207.327639 \nQ 25.344797 210.327558 28.344716 210.349622 \nL 38.022579 210.420803 \nQ 41.022498 210.442868 41.044563 207.442949 \nz\n\" style=\"fill:#ffffff;stroke:#ffffff;stroke-linejoin:miter;\"/>\n    </g>\n    <g clip-path=\"url(#pd43bc60494)\">\n     <!-- 4 -->\n     <g transform=\"translate(35.965013 207.405589)rotate(-89.578594)scale(0.1 -0.1)\">\n      <use xlink:href=\"#DejaVuSans-52\"/>\n     </g>\n    </g>\n   </g>\n   <g id=\"text_89\">\n    <g id=\"patch_90\">\n     <path clip-path=\"url(#pd43bc60494)\" d=\"M 232.686761 166.735935 \nL 239.049261 166.735935 \nQ 242.049261 166.735935 242.049261 163.735935 \nL 242.049261 154.05781 \nQ 242.049261 151.05781 239.049261 151.05781 \nL 232.686761 151.05781 \nQ 229.686761 151.05781 229.686761 154.05781 \nL 229.686761 163.735935 \nQ 229.686761 166.735935 232.686761 166.735935 \nz\n\" style=\"fill:#ffffff;stroke:#ffffff;stroke-linejoin:miter;\"/>\n    </g>\n    <g clip-path=\"url(#pd43bc60494)\">\n     <!-- 1 -->\n     <g transform=\"translate(232.686761 161.656248)scale(0.1 -0.1)\">\n      <use xlink:href=\"#DejaVuSans-49\"/>\n     </g>\n    </g>\n   </g>\n   <g id=\"text_90\">\n    <g id=\"patch_91\">\n     <path clip-path=\"url(#pd43bc60494)\" d=\"M 135.924224 235.075337 \nL 141.215148 231.541567 \nQ 143.709886 229.875349 142.043668 227.380611 \nL 136.668379 219.332482 \nQ 135.002162 216.837744 132.507424 218.503962 \nL 127.2165 222.037732 \nQ 124.721762 223.70395 126.38798 226.198688 \nL 131.763268 234.246817 \nQ 133.429486 236.741555 135.924224 235.075337 \nz\n\" style=\"fill:#ffffff;stroke:#ffffff;stroke-linejoin:miter;\"/>\n    </g>\n    <g clip-path=\"url(#pd43bc60494)\">\n     <!-- 2 -->\n     <g transform=\"translate(133.102935 230.851174)rotate(-33.738681)scale(0.1 -0.1)\">\n      <use xlink:href=\"#DejaVuSans-50\"/>\n     </g>\n    </g>\n   </g>\n   <g id=\"text_91\">\n    <g id=\"patch_92\">\n     <path clip-path=\"url(#pd43bc60494)\" d=\"M 29.382386 302.521489 \nL 35.744886 302.521489 \nQ 38.744886 302.521489 38.744886 299.521489 \nL 38.744886 289.843364 \nQ 38.744886 286.843364 35.744886 286.843364 \nL 29.382386 286.843364 \nQ 26.382386 286.843364 26.382386 289.843364 \nL 26.382386 299.521489 \nQ 26.382386 302.521489 29.382386 302.521489 \nz\n\" style=\"fill:#ffffff;stroke:#ffffff;stroke-linejoin:miter;\"/>\n    </g>\n    <g clip-path=\"url(#pd43bc60494)\">\n     <!-- 2 -->\n     <g transform=\"translate(29.382386 297.441801)scale(0.1 -0.1)\">\n      <use xlink:href=\"#DejaVuSans-50\"/>\n     </g>\n    </g>\n   </g>\n   <g id=\"PathCollection_1\">\n    <defs>\n     <path d=\"M 0 12.4499 \nC 3.301752 12.4499 6.468717 11.1381 8.803408 8.803408 \nC 11.1381 6.468717 12.4499 3.301752 12.4499 0 \nC 12.4499 -3.301752 11.1381 -6.468717 8.803408 -8.803408 \nC 6.468717 -11.1381 3.301752 -12.4499 0 -12.4499 \nC -3.301752 -12.4499 -6.468717 -11.1381 -8.803408 -8.803408 \nC -11.1381 -6.468717 -12.4499 -3.301752 -12.4499 0 \nC -12.4499 3.301752 -11.1381 6.468717 -8.803408 8.803408 \nC -6.468717 11.1381 -3.301752 12.4499 0 12.4499 \nz\n\" id=\"meff826a9f4\" style=\"stroke:#5d67d9;\"/>\n    </defs>\n    <g clip-path=\"url(#pd43bc60494)\">\n     <use style=\"fill:#5d67d9;stroke:#5d67d9;\" x=\"482.486844\" xlink:href=\"#meff826a9f4\" y=\"440.310384\"/>\n     <use style=\"fill:#5d67d9;stroke:#5d67d9;\" x=\"539.836364\" xlink:href=\"#meff826a9f4\" y=\"300.323859\"/>\n     <use style=\"fill:#5d67d9;stroke:#5d67d9;\" x=\"276.820619\" xlink:href=\"#meff826a9f4\" y=\"335.729256\"/>\n     <use style=\"fill:#5d67d9;stroke:#5d67d9;\" x=\"390.685515\" xlink:href=\"#meff826a9f4\" y=\"44.964929\"/>\n     <use style=\"fill:#5d67d9;stroke:#5d67d9;\" x=\"99.043596\" xlink:href=\"#meff826a9f4\" y=\"391.009168\"/>\n     <use style=\"fill:#5d67d9;stroke:#5d67d9;\" x=\"252.392523\" xlink:href=\"#meff826a9f4\" y=\"67.756626\"/>\n     <use style=\"fill:#5d67d9;stroke:#5d67d9;\" x=\"371.808289\" xlink:href=\"#meff826a9f4\" y=\"243.31274\"/>\n     <use style=\"fill:#5d67d9;stroke:#5d67d9;\" x=\"539.169697\" xlink:href=\"#meff826a9f4\" y=\"163.579512\"/>\n     <use style=\"fill:#5d67d9;stroke:#5d67d9;\" x=\"272.671637\" xlink:href=\"#meff826a9f4\" y=\"430.563298\"/>\n     <use style=\"fill:#5d67d9;stroke:#5d67d9;\" x=\"156.470214\" xlink:href=\"#meff826a9f4\" y=\"258.576964\"/>\n     <use style=\"fill:#5d67d9;stroke:#5d67d9;\" x=\"33.894583\" xlink:href=\"#meff826a9f4\" y=\"113.725834\"/>\n     <use style=\"fill:#5d67d9;stroke:#5d67d9;\" x=\"235.868011\" xlink:href=\"#meff826a9f4\" y=\"158.896873\"/>\n     <use style=\"fill:#5d67d9;stroke:#5d67d9;\" x=\"32.563636\" xlink:href=\"#meff826a9f4\" y=\"294.682426\"/>\n    </g>\n   </g>\n   <g id=\"text_92\">\n    <g clip-path=\"url(#pd43bc60494)\">\n     <!-- 0 -->\n     <g transform=\"translate(478.669344 443.621634)scale(0.12 -0.12)\">\n      <defs>\n       <path d=\"M 31.78125 66.40625 \nQ 24.171875 66.40625 20.328125 58.90625 \nQ 16.5 51.421875 16.5 36.375 \nQ 16.5 21.390625 20.328125 13.890625 \nQ 24.171875 6.390625 31.78125 6.390625 \nQ 39.453125 6.390625 43.28125 13.890625 \nQ 47.125 21.390625 47.125 36.375 \nQ 47.125 51.421875 43.28125 58.90625 \nQ 39.453125 66.40625 31.78125 66.40625 \nz\nM 31.78125 74.21875 \nQ 44.046875 74.21875 50.515625 64.515625 \nQ 56.984375 54.828125 56.984375 36.375 \nQ 56.984375 17.96875 50.515625 8.265625 \nQ 44.046875 -1.421875 31.78125 -1.421875 \nQ 19.53125 -1.421875 13.0625 8.265625 \nQ 6.59375 17.96875 6.59375 36.375 \nQ 6.59375 54.828125 13.0625 64.515625 \nQ 19.53125 74.21875 31.78125 74.21875 \nz\n\" id=\"DejaVuSans-48\"/>\n      </defs>\n      <use xlink:href=\"#DejaVuSans-48\"/>\n     </g>\n    </g>\n   </g>\n   <g id=\"text_93\">\n    <g clip-path=\"url(#pd43bc60494)\">\n     <!-- 1 -->\n     <g transform=\"translate(536.018864 303.635109)scale(0.12 -0.12)\">\n      <use xlink:href=\"#DejaVuSans-49\"/>\n     </g>\n    </g>\n   </g>\n   <g id=\"text_94\">\n    <g clip-path=\"url(#pd43bc60494)\">\n     <!-- 2 -->\n     <g transform=\"translate(273.003119 339.040506)scale(0.12 -0.12)\">\n      <use xlink:href=\"#DejaVuSans-50\"/>\n     </g>\n    </g>\n   </g>\n   <g id=\"text_95\">\n    <g clip-path=\"url(#pd43bc60494)\">\n     <!-- 3 -->\n     <g transform=\"translate(386.868015 48.276179)scale(0.12 -0.12)\">\n      <use xlink:href=\"#DejaVuSans-51\"/>\n     </g>\n    </g>\n   </g>\n   <g id=\"text_96\">\n    <g clip-path=\"url(#pd43bc60494)\">\n     <!-- 4 -->\n     <g transform=\"translate(95.226096 394.320418)scale(0.12 -0.12)\">\n      <use xlink:href=\"#DejaVuSans-52\"/>\n     </g>\n    </g>\n   </g>\n   <g id=\"text_97\">\n    <g clip-path=\"url(#pd43bc60494)\">\n     <!-- 5 -->\n     <g transform=\"translate(248.575023 71.067876)scale(0.12 -0.12)\">\n      <use xlink:href=\"#DejaVuSans-53\"/>\n     </g>\n    </g>\n   </g>\n   <g id=\"text_98\">\n    <g clip-path=\"url(#pd43bc60494)\">\n     <!-- 6 -->\n     <g transform=\"translate(367.990789 246.62399)scale(0.12 -0.12)\">\n      <use xlink:href=\"#DejaVuSans-54\"/>\n     </g>\n    </g>\n   </g>\n   <g id=\"text_99\">\n    <g clip-path=\"url(#pd43bc60494)\">\n     <!-- 7 -->\n     <g transform=\"translate(535.352197 166.890762)scale(0.12 -0.12)\">\n      <use xlink:href=\"#DejaVuSans-55\"/>\n     </g>\n    </g>\n   </g>\n   <g id=\"text_100\">\n    <g clip-path=\"url(#pd43bc60494)\">\n     <!-- 8 -->\n     <g transform=\"translate(268.854137 433.874548)scale(0.12 -0.12)\">\n      <use xlink:href=\"#DejaVuSans-56\"/>\n     </g>\n    </g>\n   </g>\n   <g id=\"text_101\">\n    <g clip-path=\"url(#pd43bc60494)\">\n     <!-- 9 -->\n     <g transform=\"translate(152.652714 261.888214)scale(0.12 -0.12)\">\n      <use xlink:href=\"#DejaVuSans-57\"/>\n     </g>\n    </g>\n   </g>\n   <g id=\"text_102\">\n    <g clip-path=\"url(#pd43bc60494)\">\n     <!-- 10 -->\n     <g transform=\"translate(26.259583 117.037084)scale(0.12 -0.12)\">\n      <use xlink:href=\"#DejaVuSans-49\"/>\n      <use x=\"63.623047\" xlink:href=\"#DejaVuSans-48\"/>\n     </g>\n    </g>\n   </g>\n   <g id=\"text_103\">\n    <g clip-path=\"url(#pd43bc60494)\">\n     <!-- 11 -->\n     <g transform=\"translate(228.233011 162.208123)scale(0.12 -0.12)\">\n      <use xlink:href=\"#DejaVuSans-49\"/>\n      <use x=\"63.623047\" xlink:href=\"#DejaVuSans-49\"/>\n     </g>\n    </g>\n   </g>\n   <g id=\"text_104\">\n    <g clip-path=\"url(#pd43bc60494)\">\n     <!-- 12 -->\n     <g transform=\"translate(24.928636 297.993676)scale(0.12 -0.12)\">\n      <use xlink:href=\"#DejaVuSans-49\"/>\n      <use x=\"63.623047\" xlink:href=\"#DejaVuSans-50\"/>\n     </g>\n    </g>\n   </g>\n   <g id=\"text_105\">\n    <!-- Gráfica completa entre las 13 colonias -->\n    <g style=\"fill:#262626;\" transform=\"translate(141.639844 19.197656)scale(0.15 -0.15)\">\n     <defs>\n      <path d=\"M 59.515625 10.40625 \nL 59.515625 29.984375 \nL 43.40625 29.984375 \nL 43.40625 38.09375 \nL 69.28125 38.09375 \nL 69.28125 6.78125 \nQ 63.578125 2.734375 56.6875 0.65625 \nQ 49.8125 -1.421875 42 -1.421875 \nQ 24.90625 -1.421875 15.25 8.5625 \nQ 5.609375 18.5625 5.609375 36.375 \nQ 5.609375 54.25 15.25 64.234375 \nQ 24.90625 74.21875 42 74.21875 \nQ 49.125 74.21875 55.546875 72.453125 \nQ 61.96875 70.703125 67.390625 67.28125 \nL 67.390625 56.78125 \nQ 61.921875 61.421875 55.765625 63.765625 \nQ 49.609375 66.109375 42.828125 66.109375 \nQ 29.4375 66.109375 22.71875 58.640625 \nQ 16.015625 51.171875 16.015625 36.375 \nQ 16.015625 21.625 22.71875 14.15625 \nQ 29.4375 6.6875 42.828125 6.6875 \nQ 48.046875 6.6875 52.140625 7.59375 \nQ 56.25 8.5 59.515625 10.40625 \nz\n\" id=\"DejaVuSans-71\"/>\n      <path d=\"M 41.109375 46.296875 \nQ 39.59375 47.171875 37.8125 47.578125 \nQ 36.03125 48 33.890625 48 \nQ 26.265625 48 22.1875 43.046875 \nQ 18.109375 38.09375 18.109375 28.8125 \nL 18.109375 0 \nL 9.078125 0 \nL 9.078125 54.6875 \nL 18.109375 54.6875 \nL 18.109375 46.1875 \nQ 20.953125 51.171875 25.484375 53.578125 \nQ 30.03125 56 36.53125 56 \nQ 37.453125 56 38.578125 55.875 \nQ 39.703125 55.765625 41.0625 55.515625 \nz\n\" id=\"DejaVuSans-114\"/>\n      <path d=\"M 34.28125 27.484375 \nQ 23.390625 27.484375 19.1875 25 \nQ 14.984375 22.515625 14.984375 16.5 \nQ 14.984375 11.71875 18.140625 8.90625 \nQ 21.296875 6.109375 26.703125 6.109375 \nQ 34.1875 6.109375 38.703125 11.40625 \nQ 43.21875 16.703125 43.21875 25.484375 \nL 43.21875 27.484375 \nz\nM 52.203125 31.203125 \nL 52.203125 0 \nL 43.21875 0 \nL 43.21875 8.296875 \nQ 40.140625 3.328125 35.546875 0.953125 \nQ 30.953125 -1.421875 24.3125 -1.421875 \nQ 15.921875 -1.421875 10.953125 3.296875 \nQ 6 8.015625 6 15.921875 \nQ 6 25.140625 12.171875 29.828125 \nQ 18.359375 34.515625 30.609375 34.515625 \nL 43.21875 34.515625 \nL 43.21875 35.40625 \nQ 43.21875 41.609375 39.140625 45 \nQ 35.0625 48.390625 27.6875 48.390625 \nQ 23 48.390625 18.546875 47.265625 \nQ 14.109375 46.140625 10.015625 43.890625 \nL 10.015625 52.203125 \nQ 14.9375 54.109375 19.578125 55.046875 \nQ 24.21875 56 28.609375 56 \nQ 40.484375 56 46.34375 49.84375 \nQ 52.203125 43.703125 52.203125 31.203125 \nz\nM 35.78125 79.984375 \nL 45.5 79.984375 \nL 29.59375 61.625 \nL 22.109375 61.625 \nz\n\" id=\"DejaVuSans-225\"/>\n      <path d=\"M 37.109375 75.984375 \nL 37.109375 68.5 \nL 28.515625 68.5 \nQ 23.6875 68.5 21.796875 66.546875 \nQ 19.921875 64.59375 19.921875 59.515625 \nL 19.921875 54.6875 \nL 34.71875 54.6875 \nL 34.71875 47.703125 \nL 19.921875 47.703125 \nL 19.921875 0 \nL 10.890625 0 \nL 10.890625 47.703125 \nL 2.296875 47.703125 \nL 2.296875 54.6875 \nL 10.890625 54.6875 \nL 10.890625 58.5 \nQ 10.890625 67.625 15.140625 71.796875 \nQ 19.390625 75.984375 28.609375 75.984375 \nz\n\" id=\"DejaVuSans-102\"/>\n      <path d=\"M 9.421875 54.6875 \nL 18.40625 54.6875 \nL 18.40625 0 \nL 9.421875 0 \nz\nM 9.421875 75.984375 \nL 18.40625 75.984375 \nL 18.40625 64.59375 \nL 9.421875 64.59375 \nz\n\" id=\"DejaVuSans-105\"/>\n      <path d=\"M 48.78125 52.59375 \nL 48.78125 44.1875 \nQ 44.96875 46.296875 41.140625 47.34375 \nQ 37.3125 48.390625 33.40625 48.390625 \nQ 24.65625 48.390625 19.8125 42.84375 \nQ 14.984375 37.3125 14.984375 27.296875 \nQ 14.984375 17.28125 19.8125 11.734375 \nQ 24.65625 6.203125 33.40625 6.203125 \nQ 37.3125 6.203125 41.140625 7.25 \nQ 44.96875 8.296875 48.78125 10.40625 \nL 48.78125 2.09375 \nQ 45.015625 0.34375 40.984375 -0.53125 \nQ 36.96875 -1.421875 32.421875 -1.421875 \nQ 20.0625 -1.421875 12.78125 6.34375 \nQ 5.515625 14.109375 5.515625 27.296875 \nQ 5.515625 40.671875 12.859375 48.328125 \nQ 20.21875 56 33.015625 56 \nQ 37.15625 56 41.109375 55.140625 \nQ 45.0625 54.296875 48.78125 52.59375 \nz\n\" id=\"DejaVuSans-99\"/>\n      <path d=\"M 34.28125 27.484375 \nQ 23.390625 27.484375 19.1875 25 \nQ 14.984375 22.515625 14.984375 16.5 \nQ 14.984375 11.71875 18.140625 8.90625 \nQ 21.296875 6.109375 26.703125 6.109375 \nQ 34.1875 6.109375 38.703125 11.40625 \nQ 43.21875 16.703125 43.21875 25.484375 \nL 43.21875 27.484375 \nz\nM 52.203125 31.203125 \nL 52.203125 0 \nL 43.21875 0 \nL 43.21875 8.296875 \nQ 40.140625 3.328125 35.546875 0.953125 \nQ 30.953125 -1.421875 24.3125 -1.421875 \nQ 15.921875 -1.421875 10.953125 3.296875 \nQ 6 8.015625 6 15.921875 \nQ 6 25.140625 12.171875 29.828125 \nQ 18.359375 34.515625 30.609375 34.515625 \nL 43.21875 34.515625 \nL 43.21875 35.40625 \nQ 43.21875 41.609375 39.140625 45 \nQ 35.0625 48.390625 27.6875 48.390625 \nQ 23 48.390625 18.546875 47.265625 \nQ 14.109375 46.140625 10.015625 43.890625 \nL 10.015625 52.203125 \nQ 14.9375 54.109375 19.578125 55.046875 \nQ 24.21875 56 28.609375 56 \nQ 40.484375 56 46.34375 49.84375 \nQ 52.203125 43.703125 52.203125 31.203125 \nz\n\" id=\"DejaVuSans-97\"/>\n      <path id=\"DejaVuSans-32\"/>\n      <path d=\"M 30.609375 48.390625 \nQ 23.390625 48.390625 19.1875 42.75 \nQ 14.984375 37.109375 14.984375 27.296875 \nQ 14.984375 17.484375 19.15625 11.84375 \nQ 23.34375 6.203125 30.609375 6.203125 \nQ 37.796875 6.203125 41.984375 11.859375 \nQ 46.1875 17.53125 46.1875 27.296875 \nQ 46.1875 37.015625 41.984375 42.703125 \nQ 37.796875 48.390625 30.609375 48.390625 \nz\nM 30.609375 56 \nQ 42.328125 56 49.015625 48.375 \nQ 55.71875 40.765625 55.71875 27.296875 \nQ 55.71875 13.875 49.015625 6.21875 \nQ 42.328125 -1.421875 30.609375 -1.421875 \nQ 18.84375 -1.421875 12.171875 6.21875 \nQ 5.515625 13.875 5.515625 27.296875 \nQ 5.515625 40.765625 12.171875 48.375 \nQ 18.84375 56 30.609375 56 \nz\n\" id=\"DejaVuSans-111\"/>\n      <path d=\"M 52 44.1875 \nQ 55.375 50.25 60.0625 53.125 \nQ 64.75 56 71.09375 56 \nQ 79.640625 56 84.28125 50.015625 \nQ 88.921875 44.046875 88.921875 33.015625 \nL 88.921875 0 \nL 79.890625 0 \nL 79.890625 32.71875 \nQ 79.890625 40.578125 77.09375 44.375 \nQ 74.3125 48.1875 68.609375 48.1875 \nQ 61.625 48.1875 57.5625 43.546875 \nQ 53.515625 38.921875 53.515625 30.90625 \nL 53.515625 0 \nL 44.484375 0 \nL 44.484375 32.71875 \nQ 44.484375 40.625 41.703125 44.40625 \nQ 38.921875 48.1875 33.109375 48.1875 \nQ 26.21875 48.1875 22.15625 43.53125 \nQ 18.109375 38.875 18.109375 30.90625 \nL 18.109375 0 \nL 9.078125 0 \nL 9.078125 54.6875 \nL 18.109375 54.6875 \nL 18.109375 46.1875 \nQ 21.1875 51.21875 25.484375 53.609375 \nQ 29.78125 56 35.6875 56 \nQ 41.65625 56 45.828125 52.96875 \nQ 50 49.953125 52 44.1875 \nz\n\" id=\"DejaVuSans-109\"/>\n      <path d=\"M 18.109375 8.203125 \nL 18.109375 -20.796875 \nL 9.078125 -20.796875 \nL 9.078125 54.6875 \nL 18.109375 54.6875 \nL 18.109375 46.390625 \nQ 20.953125 51.265625 25.265625 53.625 \nQ 29.59375 56 35.59375 56 \nQ 45.5625 56 51.78125 48.09375 \nQ 58.015625 40.1875 58.015625 27.296875 \nQ 58.015625 14.40625 51.78125 6.484375 \nQ 45.5625 -1.421875 35.59375 -1.421875 \nQ 29.59375 -1.421875 25.265625 0.953125 \nQ 20.953125 3.328125 18.109375 8.203125 \nz\nM 48.6875 27.296875 \nQ 48.6875 37.203125 44.609375 42.84375 \nQ 40.53125 48.484375 33.40625 48.484375 \nQ 26.265625 48.484375 22.1875 42.84375 \nQ 18.109375 37.203125 18.109375 27.296875 \nQ 18.109375 17.390625 22.1875 11.75 \nQ 26.265625 6.109375 33.40625 6.109375 \nQ 40.53125 6.109375 44.609375 11.75 \nQ 48.6875 17.390625 48.6875 27.296875 \nz\n\" id=\"DejaVuSans-112\"/>\n      <path d=\"M 9.421875 75.984375 \nL 18.40625 75.984375 \nL 18.40625 0 \nL 9.421875 0 \nz\n\" id=\"DejaVuSans-108\"/>\n      <path d=\"M 56.203125 29.59375 \nL 56.203125 25.203125 \nL 14.890625 25.203125 \nQ 15.484375 15.921875 20.484375 11.0625 \nQ 25.484375 6.203125 34.421875 6.203125 \nQ 39.59375 6.203125 44.453125 7.46875 \nQ 49.3125 8.734375 54.109375 11.28125 \nL 54.109375 2.78125 \nQ 49.265625 0.734375 44.1875 -0.34375 \nQ 39.109375 -1.421875 33.890625 -1.421875 \nQ 20.796875 -1.421875 13.15625 6.1875 \nQ 5.515625 13.8125 5.515625 26.8125 \nQ 5.515625 40.234375 12.765625 48.109375 \nQ 20.015625 56 32.328125 56 \nQ 43.359375 56 49.78125 48.890625 \nQ 56.203125 41.796875 56.203125 29.59375 \nz\nM 47.21875 32.234375 \nQ 47.125 39.59375 43.09375 43.984375 \nQ 39.0625 48.390625 32.421875 48.390625 \nQ 24.90625 48.390625 20.390625 44.140625 \nQ 15.875 39.890625 15.1875 32.171875 \nz\n\" id=\"DejaVuSans-101\"/>\n      <path d=\"M 18.3125 70.21875 \nL 18.3125 54.6875 \nL 36.8125 54.6875 \nL 36.8125 47.703125 \nL 18.3125 47.703125 \nL 18.3125 18.015625 \nQ 18.3125 11.328125 20.140625 9.421875 \nQ 21.96875 7.515625 27.59375 7.515625 \nL 36.8125 7.515625 \nL 36.8125 0 \nL 27.59375 0 \nQ 17.1875 0 13.234375 3.875 \nQ 9.28125 7.765625 9.28125 18.015625 \nL 9.28125 47.703125 \nL 2.6875 47.703125 \nL 2.6875 54.6875 \nL 9.28125 54.6875 \nL 9.28125 70.21875 \nz\n\" id=\"DejaVuSans-116\"/>\n      <path d=\"M 54.890625 33.015625 \nL 54.890625 0 \nL 45.90625 0 \nL 45.90625 32.71875 \nQ 45.90625 40.484375 42.875 44.328125 \nQ 39.84375 48.1875 33.796875 48.1875 \nQ 26.515625 48.1875 22.3125 43.546875 \nQ 18.109375 38.921875 18.109375 30.90625 \nL 18.109375 0 \nL 9.078125 0 \nL 9.078125 54.6875 \nL 18.109375 54.6875 \nL 18.109375 46.1875 \nQ 21.34375 51.125 25.703125 53.5625 \nQ 30.078125 56 35.796875 56 \nQ 45.21875 56 50.046875 50.171875 \nQ 54.890625 44.34375 54.890625 33.015625 \nz\n\" id=\"DejaVuSans-110\"/>\n      <path d=\"M 44.28125 53.078125 \nL 44.28125 44.578125 \nQ 40.484375 46.53125 36.375 47.5 \nQ 32.28125 48.484375 27.875 48.484375 \nQ 21.1875 48.484375 17.84375 46.4375 \nQ 14.5 44.390625 14.5 40.28125 \nQ 14.5 37.15625 16.890625 35.375 \nQ 19.28125 33.59375 26.515625 31.984375 \nL 29.59375 31.296875 \nQ 39.15625 29.25 43.1875 25.515625 \nQ 47.21875 21.78125 47.21875 15.09375 \nQ 47.21875 7.46875 41.1875 3.015625 \nQ 35.15625 -1.421875 24.609375 -1.421875 \nQ 20.21875 -1.421875 15.453125 -0.5625 \nQ 10.6875 0.296875 5.421875 2 \nL 5.421875 11.28125 \nQ 10.40625 8.6875 15.234375 7.390625 \nQ 20.0625 6.109375 24.8125 6.109375 \nQ 31.15625 6.109375 34.5625 8.28125 \nQ 37.984375 10.453125 37.984375 14.40625 \nQ 37.984375 18.0625 35.515625 20.015625 \nQ 33.0625 21.96875 24.703125 23.78125 \nL 21.578125 24.515625 \nQ 13.234375 26.265625 9.515625 29.90625 \nQ 5.8125 33.546875 5.8125 39.890625 \nQ 5.8125 47.609375 11.28125 51.796875 \nQ 16.75 56 26.8125 56 \nQ 31.78125 56 36.171875 55.265625 \nQ 40.578125 54.546875 44.28125 53.078125 \nz\n\" id=\"DejaVuSans-115\"/>\n     </defs>\n     <use xlink:href=\"#DejaVuSans-71\"/>\n     <use x=\"77.490234\" xlink:href=\"#DejaVuSans-114\"/>\n     <use x=\"118.603516\" xlink:href=\"#DejaVuSans-225\"/>\n     <use x=\"179.882812\" xlink:href=\"#DejaVuSans-102\"/>\n     <use x=\"215.087891\" xlink:href=\"#DejaVuSans-105\"/>\n     <use x=\"242.871094\" xlink:href=\"#DejaVuSans-99\"/>\n     <use x=\"297.851562\" xlink:href=\"#DejaVuSans-97\"/>\n     <use x=\"359.130859\" xlink:href=\"#DejaVuSans-32\"/>\n     <use x=\"390.917969\" xlink:href=\"#DejaVuSans-99\"/>\n     <use x=\"445.898438\" xlink:href=\"#DejaVuSans-111\"/>\n     <use x=\"507.080078\" xlink:href=\"#DejaVuSans-109\"/>\n     <use x=\"604.492188\" xlink:href=\"#DejaVuSans-112\"/>\n     <use x=\"667.96875\" xlink:href=\"#DejaVuSans-108\"/>\n     <use x=\"695.751953\" xlink:href=\"#DejaVuSans-101\"/>\n     <use x=\"757.275391\" xlink:href=\"#DejaVuSans-116\"/>\n     <use x=\"796.484375\" xlink:href=\"#DejaVuSans-97\"/>\n     <use x=\"857.763672\" xlink:href=\"#DejaVuSans-32\"/>\n     <use x=\"889.550781\" xlink:href=\"#DejaVuSans-101\"/>\n     <use x=\"951.074219\" xlink:href=\"#DejaVuSans-110\"/>\n     <use x=\"1014.453125\" xlink:href=\"#DejaVuSans-116\"/>\n     <use x=\"1053.662109\" xlink:href=\"#DejaVuSans-114\"/>\n     <use x=\"1092.525391\" xlink:href=\"#DejaVuSans-101\"/>\n     <use x=\"1154.048828\" xlink:href=\"#DejaVuSans-32\"/>\n     <use x=\"1185.835938\" xlink:href=\"#DejaVuSans-108\"/>\n     <use x=\"1213.619141\" xlink:href=\"#DejaVuSans-97\"/>\n     <use x=\"1274.898438\" xlink:href=\"#DejaVuSans-115\"/>\n     <use x=\"1326.998047\" xlink:href=\"#DejaVuSans-32\"/>\n     <use x=\"1358.785156\" xlink:href=\"#DejaVuSans-49\"/>\n     <use x=\"1422.408203\" xlink:href=\"#DejaVuSans-51\"/>\n     <use x=\"1486.03125\" xlink:href=\"#DejaVuSans-32\"/>\n     <use x=\"1517.818359\" xlink:href=\"#DejaVuSans-99\"/>\n     <use x=\"1572.798828\" xlink:href=\"#DejaVuSans-111\"/>\n     <use x=\"1633.980469\" xlink:href=\"#DejaVuSans-108\"/>\n     <use x=\"1661.763672\" xlink:href=\"#DejaVuSans-111\"/>\n     <use x=\"1722.945312\" xlink:href=\"#DejaVuSans-110\"/>\n     <use x=\"1786.324219\" xlink:href=\"#DejaVuSans-105\"/>\n     <use x=\"1814.107422\" xlink:href=\"#DejaVuSans-97\"/>\n     <use x=\"1875.386719\" xlink:href=\"#DejaVuSans-115\"/>\n    </g>\n   </g>\n  </g>\n </g>\n <defs>\n  <clipPath id=\"pd43bc60494\">\n   <rect height=\"434.88\" width=\"558\" x=\"7.2\" y=\"25.197656\"/>\n  </clipPath>\n </defs>\n</svg>\n",
      "image/png": "[encoded data removed]"
     },
     "metadata": {}
    }
   ],
   "source": [
    "plt.figure(figsize=(10,8))\n",
    "ax = plt.gca()\n",
    "ax.set_title(\"Gráfica completa entre las 13 colonias\", fontsize=15, color=\"#262626\")\n",
    "pos = nx.spring_layout(A)\n",
    "nx.draw(A, pos=pos, with_labels=True, node_color=\"#5d67d9\", ax=ax, node_size=620)\n",
    "labels = nx.get_edge_attributes(A,'weight')\n",
    "nx.draw_networkx_edge_labels(A,pos,edge_labels=labels)\n",
    "plt.show()"
   ]
  },
  {
   "source": [
    "## Encontrando el árbol de peso mínimo"
   ],
   "cell_type": "markdown",
   "metadata": {}
  },
  {
   "cell_type": "code",
   "execution_count": 383,
   "metadata": {},
   "outputs": [],
   "source": [
    "GRAPH_NODES = len(colonias_agrupacion)\n",
    "edges_to_add = []\n",
    "def Prim(G, start_vertex):\n",
    "  intree = [False]*GRAPH_NODES\n",
    "  distance = [10e12]*GRAPH_NODES\n",
    "  parent = [-1]*GRAPH_NODES\n",
    "  weight_labels = nx.get_edge_attributes(G,'weight') #diccionario con la arista como llave y peso como valor\n",
    "  v = w = None\n",
    "  weight = 0\n",
    "  distance[start_vertex] = 0\n",
    "  v = start_vertex\n",
    "  while not intree[v]:\n",
    "    intree[v] = True\n",
    "    if v != start_vertex:\n",
    "      print(f'\\t Arista ({parent[v]},{v}) en el APM')\n",
    "      edges_to_add.append((parent[v], v))\n",
    "      weight += dist\n",
    "    p = list(G.edges(v))\n",
    "    while p:\n",
    "      w = p[0][1]\n",
    "      if p[0] in weight_labels:\n",
    "        weight_p = weight_labels[p[0]]\n",
    "      else:\n",
    "        weight_p = weight_labels[(p[0][1], p[0][0])]\n",
    "      if (distance[w] > weight_p) and (not intree[w]):\n",
    "        distance[w] = weight_p\n",
    "        parent[w] = v \n",
    "      p = p[1:]\n",
    "    dist = 10e12\n",
    "    for i in range(G.number_of_nodes()):\n",
    "      if (not intree[i]) and (dist > distance[i]):\n",
    "        dist = distance[i]\n",
    "        v = i\n",
    "  return weight"
   ]
  },
  {
   "cell_type": "code",
   "execution_count": 384,
   "metadata": {},
   "outputs": [
    {
     "output_type": "stream",
     "name": "stdout",
     "text": [
      "\t Arista (1,2) en el APM\n\t Arista (1,3) en el APM\n\t Arista (3,0) en el APM\n\t Arista (1,4) en el APM\n\t Arista (4,5) en el APM\n\t Arista (3,6) en el APM\n\t Arista (4,8) en el APM\n\t Arista (1,10) en el APM\n\t Arista (0,11) en el APM\n\t Arista (1,12) en el APM\n\t Arista (12,7) en el APM\n\t Arista (3,9) en el APM\n13\n[(1, 2), (1, 3), (3, 0), (1, 4), (4, 5), (3, 6), (4, 8), (1, 10), (0, 11), (1, 12), (12, 7), (3, 9)]\n"
     ]
    }
   ],
   "source": [
    "weight = Prim(A, 1)\n",
    "print(weight)\n",
    "print(edges_to_add)"
   ]
  },
  {
   "cell_type": "code",
   "execution_count": null,
   "metadata": {},
   "outputs": [],
   "source": []
  }
 ]
}