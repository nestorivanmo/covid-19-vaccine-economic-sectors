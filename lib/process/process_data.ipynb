{
 "metadata": {
  "language_info": {
   "codemirror_mode": {
    "name": "ipython",
    "version": 3
   },
   "file_extension": ".py",
   "mimetype": "text/x-python",
   "name": "python",
   "nbconvert_exporter": "python",
   "pygments_lexer": "ipython3",
   "version": "3.8.5-final"
  },
  "orig_nbformat": 2,
  "kernelspec": {
   "name": "python3",
   "display_name": "Python 3",
   "language": "python"
  }
 },
 "nbformat": 4,
 "nbformat_minor": 2,
 "cells": [
  {
   "source": [
    "# Procesamiento de datos"
   ],
   "cell_type": "markdown",
   "metadata": {}
  },
  {
   "cell_type": "code",
   "execution_count": 2,
   "metadata": {},
   "outputs": [],
   "source": [
    "import pandas as pd\n",
    "import numpy as np\n",
    "import networkx as nx\n",
    "import plotly.express as px\n",
    "import matplotlib.pyplot as plt\n",
    "data_path = '../../data/'"
   ]
  },
  {
   "source": [
    "## Exploración de datos"
   ],
   "cell_type": "markdown",
   "metadata": {}
  },
  {
   "cell_type": "code",
   "execution_count": 3,
   "metadata": {},
   "outputs": [
    {
     "output_type": "execute_result",
     "data": {
      "text/plain": [
       "       alcaldia       eci    c_p             colonia         negocio  \\\n",
       "0  azcapotzalco  3.865509  13530  jaime torres bodet  zapatosbelleza   \n",
       "1  azcapotzalco  3.865509   2100          el rosario  manufacturados   \n",
       "2  azcapotzalco  3.865509   2459           tezozomoc      antojerias   \n",
       "3  azcapotzalco  3.865509   6720            doctores      fotografia   \n",
       "4  azcapotzalco  3.865509   2459           tezozomoc        catalogo   \n",
       "\n",
       "         categoria  porcentaje_infectados  num_empleados  \n",
       "0  arreglosgeneral                 0.1978              2  \n",
       "1        industria                 0.1573              0  \n",
       "2     restaurantes                 0.1303              3  \n",
       "3       fotografia                 0.1169              3  \n",
       "4   ventaproductos                 0.1303              2  "
      ],
      "text/html": "<div>\n<style scoped>\n    .dataframe tbody tr th:only-of-type {\n        vertical-align: middle;\n    }\n\n    .dataframe tbody tr th {\n        vertical-align: top;\n    }\n\n    .dataframe thead th {\n        text-align: right;\n    }\n</style>\n<table border=\"1\" class=\"dataframe\">\n  <thead>\n    <tr style=\"text-align: right;\">\n      <th></th>\n      <th>alcaldia</th>\n      <th>eci</th>\n      <th>c_p</th>\n      <th>colonia</th>\n      <th>negocio</th>\n      <th>categoria</th>\n      <th>porcentaje_infectados</th>\n      <th>num_empleados</th>\n    </tr>\n  </thead>\n  <tbody>\n    <tr>\n      <th>0</th>\n      <td>azcapotzalco</td>\n      <td>3.865509</td>\n      <td>13530</td>\n      <td>jaime torres bodet</td>\n      <td>zapatosbelleza</td>\n      <td>arreglosgeneral</td>\n      <td>0.1978</td>\n      <td>2</td>\n    </tr>\n    <tr>\n      <th>1</th>\n      <td>azcapotzalco</td>\n      <td>3.865509</td>\n      <td>2100</td>\n      <td>el rosario</td>\n      <td>manufacturados</td>\n      <td>industria</td>\n      <td>0.1573</td>\n      <td>0</td>\n    </tr>\n    <tr>\n      <th>2</th>\n      <td>azcapotzalco</td>\n      <td>3.865509</td>\n      <td>2459</td>\n      <td>tezozomoc</td>\n      <td>antojerias</td>\n      <td>restaurantes</td>\n      <td>0.1303</td>\n      <td>3</td>\n    </tr>\n    <tr>\n      <th>3</th>\n      <td>azcapotzalco</td>\n      <td>3.865509</td>\n      <td>6720</td>\n      <td>doctores</td>\n      <td>fotografia</td>\n      <td>fotografia</td>\n      <td>0.1169</td>\n      <td>3</td>\n    </tr>\n    <tr>\n      <th>4</th>\n      <td>azcapotzalco</td>\n      <td>3.865509</td>\n      <td>2459</td>\n      <td>tezozomoc</td>\n      <td>catalogo</td>\n      <td>ventaproductos</td>\n      <td>0.1303</td>\n      <td>2</td>\n    </tr>\n  </tbody>\n</table>\n</div>"
     },
     "metadata": {},
     "execution_count": 3
    }
   ],
   "source": [
    "df = pd.read_csv(data_path + 'datasetfinal.csv')\n",
    "df.head()"
   ]
  },
  {
   "cell_type": "code",
   "execution_count": 4,
   "metadata": {},
   "outputs": [
    {
     "output_type": "stream",
     "name": "stdout",
     "text": [
      "13 13\n332\n"
     ]
    }
   ],
   "source": [
    "num_colonias = len(df.colonia.unique())\n",
    "num_productos = len(df.categoria.unique())\n",
    "print(num_colonias, num_productos)\n",
    "print(df.shape[0])"
   ]
  },
  {
   "cell_type": "code",
   "execution_count": 5,
   "metadata": {},
   "outputs": [
    {
     "output_type": "display_data",
     "data": {
      "application/vnd.plotly.v1+json": {
       "config": {
        "plotlyServerURL": "https://plot.ly"
       },
       "data": [
        {
         "alignmentgroup": "True",
         "bingroup": "x",
         "hovertemplate": "colonia=%{x}<br>count=%{y}<extra></extra>",
         "legendgroup": "",
         "marker": {
          "color": "#636efa"
         },
         "name": "",
         "offsetgroup": "",
         "orientation": "v",
         "showlegend": false,
         "type": "histogram",
         "x": [
          "jaime torres bodet",
          "el rosario",
          "tezozomoc",
          "doctores",
          "tezozomoc",
          "el rosario",
          "el rosario",
          "olivar del conde 1a seccin",
          "campamento 2 de octubre",
          "popotla",
          "tlaxpana",
          "popotla",
          "escandon",
          "tlaxpana",
          "popotla",
          "tlaxpana",
          "tlaxpana",
          "popotla",
          "tlaxpana",
          "tlaxpana",
          "tlaxpana",
          "tlaxpana",
          "tlaxpana",
          "tlaxpana",
          "escandon",
          "escandon",
          "escandon",
          "escandon",
          "escandon",
          "popotla",
          "popotla",
          "popotla",
          "popotla",
          "popotla",
          "tlaxpana",
          "san martin xochinahuac",
          "san martin xochinahuac",
          "san martin xochinahuac",
          "popotla",
          "el rosario",
          "popotla",
          "san juan tlihuaca",
          "popotla",
          "san juan tlihuaca",
          "el rosario",
          "el rosario",
          "san martin xochinahuac",
          "tezozomoc",
          "popotla",
          "tlaxpana",
          "san martin xochinahuac",
          "popotla",
          "el rosario",
          "el rosario",
          "popotla",
          "san martin xochinahuac",
          "san juan tlihuaca",
          "san juan tlihuaca",
          "san juan tlihuaca",
          "san juan tlihuaca",
          "tezozomoc",
          "el rosario",
          "san martin xochinahuac",
          "el rosario",
          "san juan tlihuaca",
          "tlaxpana",
          "tlaxpana",
          "popotla",
          "tlaxpana",
          "el rosario",
          "tezozomoc",
          "tezozomoc",
          "san juan tlihuaca",
          "san juan tlihuaca",
          "san martin xochinahuac",
          "el rosario",
          "el rosario",
          "tezozomoc",
          "tezozomoc",
          "el rosario",
          "popotla",
          "tlaxpana",
          "san martin xochinahuac",
          "tezozomoc",
          "san martin xochinahuac",
          "el rosario",
          "tlaxpana",
          "tlaxpana",
          "san juan tlihuaca",
          "popotla",
          "el rosario",
          "san martin xochinahuac",
          "tezozomoc",
          "popotla",
          "san juan tlihuaca",
          "el rosario",
          "tlaxpana",
          "popotla",
          "el rosario",
          "san juan tlihuaca",
          "tezozomoc",
          "tezozomoc",
          "tlaxpana",
          "el rosario",
          "el rosario",
          "el rosario",
          "san juan tlihuaca",
          "san martin xochinahuac",
          "el rosario",
          "san juan tlihuaca",
          "popotla",
          "tlaxpana",
          "san martin xochinahuac",
          "san martin xochinahuac",
          "el rosario",
          "el rosario",
          "san martin xochinahuac",
          "san martin xochinahuac",
          "san juan tlihuaca",
          "popotla",
          "el rosario",
          "san juan tlihuaca",
          "popotla",
          "el rosario",
          "tlaxpana",
          "san juan tlihuaca",
          "tezozomoc",
          "tlaxpana",
          "popotla",
          "el rosario",
          "popotla",
          "tezozomoc",
          "tezozomoc",
          "tlaxpana",
          "tlaxpana",
          "san martin xochinahuac",
          "san martin xochinahuac",
          "el rosario",
          "san juan tlihuaca",
          "san martin xochinahuac",
          "tlaxpana",
          "tlaxpana",
          "popotla",
          "tezozomoc",
          "el rosario",
          "el rosario",
          "san martin xochinahuac",
          "tlaxpana",
          "tezozomoc",
          "popotla",
          "popotla",
          "san juan tlihuaca",
          "tlaxpana",
          "tlaxpana",
          "popotla",
          "popotla",
          "tlaxpana",
          "tlaxpana",
          "san martin xochinahuac",
          "san martin xochinahuac",
          "el rosario",
          "san juan tlihuaca",
          "tezozomoc",
          "san juan tlihuaca",
          "el rosario",
          "san juan tlihuaca",
          "tezozomoc",
          "san juan tlihuaca",
          "tezozomoc",
          "tezozomoc",
          "el rosario",
          "popotla",
          "tlaxpana",
          "san juan tlihuaca",
          "tezozomoc",
          "tezozomoc",
          "san juan tlihuaca",
          "san juan tlihuaca",
          "tezozomoc",
          "popotla",
          "tlaxpana",
          "popotla",
          "popotla",
          "popotla",
          "popotla",
          "el rosario",
          "san juan tlihuaca",
          "el rosario",
          "tezozomoc",
          "san juan tlihuaca",
          "san juan tlihuaca",
          "el rosario",
          "tlaxpana",
          "tezozomoc",
          "san martin xochinahuac",
          "san martin xochinahuac",
          "tlaxpana",
          "tlaxpana",
          "tlaxpana",
          "el rosario",
          "popotla",
          "tlaxpana",
          "el rosario",
          "popotla",
          "el rosario",
          "san martin xochinahuac",
          "san martin xochinahuac",
          "san martin xochinahuac",
          "popotla",
          "san martin xochinahuac",
          "el rosario",
          "el rosario",
          "san martin xochinahuac",
          "tezozomoc",
          "el rosario",
          "san juan tlihuaca",
          "tlaxpana",
          "tlaxpana",
          "san martin xochinahuac",
          "el rosario",
          "san martin xochinahuac",
          "el rosario",
          "el rosario",
          "el rosario",
          "tezozomoc",
          "san juan tlihuaca",
          "san martin xochinahuac",
          "tlaxpana",
          "san juan tlihuaca",
          "popotla",
          "san martin xochinahuac",
          "el rosario",
          "san juan tlihuaca",
          "popotla",
          "san martin xochinahuac",
          "san juan tlihuaca",
          "popotla",
          "tezozomoc",
          "san martin xochinahuac",
          "popotla",
          "tlaxpana",
          "tlaxpana",
          "tezozomoc",
          "el rosario",
          "san martin xochinahuac",
          "popotla",
          "san martin xochinahuac",
          "san juan tlihuaca",
          "san martin xochinahuac",
          "san martin xochinahuac",
          "san juan tlihuaca",
          "san juan tlihuaca",
          "san juan tlihuaca",
          "san juan tlihuaca",
          "tlaxpana",
          "el rosario",
          "el rosario",
          "el rosario",
          "el rosario",
          "popotla",
          "el rosario",
          "el rosario",
          "san juan tlihuaca",
          "san juan tlihuaca",
          "san juan tlihuaca",
          "tlaxpana",
          "el rosario",
          "tlaxpana",
          "tlaxpana",
          "tlaxpana",
          "tlaxpana",
          "tlaxpana",
          "tlaxpana",
          "tlaxpana",
          "tlaxpana",
          "tlaxpana",
          "tlaxpana",
          "tlaxpana",
          "tlaxpana",
          "tlaxpana",
          "tlaxpana",
          "popotla",
          "tlaxpana",
          "tlaxpana",
          "tlaxpana",
          "tlaxpana",
          "tlaxpana",
          "tlaxpana",
          "san juan tlihuaca",
          "tlaxpana",
          "tlaxpana",
          "tlaxpana",
          "tlaxpana",
          "popotla",
          "tlaxpana",
          "tlaxpana",
          "popotla",
          "popotla",
          "popotla",
          "tezozomoc",
          "tlaxpana",
          "popotla",
          "popotla",
          "popotla",
          "popotla",
          "popotla",
          "san juan tlihuaca",
          "san juan tlihuaca",
          "san juan tlihuaca",
          "san juan tlihuaca",
          "san juan tlihuaca",
          "san martin xochinahuac",
          "san martin xochinahuac",
          "san juan tlihuaca",
          "san juan tlihuaca",
          "san juan tlihuaca",
          "tezozomoc",
          "san juan tlihuaca",
          "san juan tlihuaca",
          "san juan tlihuaca",
          "san juan tlihuaca",
          "el rosario",
          "popotla",
          "popotla",
          "popotla",
          "popotla",
          "tlaxpana",
          "popotla",
          "xaltocan",
          "tlaxpana",
          "tlaxpana",
          "santa maria nativitas"
         ],
         "xaxis": "x",
         "yaxis": "y"
        }
       ],
       "layout": {
        "barmode": "relative",
        "legend": {
         "tracegroupgap": 0
        },
        "margin": {
         "t": 60
        },
        "template": {
         "data": {
          "bar": [
           {
            "error_x": {
             "color": "#2a3f5f"
            },
            "error_y": {
             "color": "#2a3f5f"
            },
            "marker": {
             "line": {
              "color": "#E5ECF6",
              "width": 0.5
             }
            },
            "type": "bar"
           }
          ],
          "barpolar": [
           {
            "marker": {
             "line": {
              "color": "#E5ECF6",
              "width": 0.5
             }
            },
            "type": "barpolar"
           }
          ],
          "carpet": [
           {
            "aaxis": {
             "endlinecolor": "#2a3f5f",
             "gridcolor": "white",
             "linecolor": "white",
             "minorgridcolor": "white",
             "startlinecolor": "#2a3f5f"
            },
            "baxis": {
             "endlinecolor": "#2a3f5f",
             "gridcolor": "white",
             "linecolor": "white",
             "minorgridcolor": "white",
             "startlinecolor": "#2a3f5f"
            },
            "type": "carpet"
           }
          ],
          "choropleth": [
           {
            "colorbar": {
             "outlinewidth": 0,
             "ticks": ""
            },
            "type": "choropleth"
           }
          ],
          "contour": [
           {
            "colorbar": {
             "outlinewidth": 0,
             "ticks": ""
            },
            "colorscale": [
             [
              0,
              "#0d0887"
             ],
             [
              0.1111111111111111,
              "#46039f"
             ],
             [
              0.2222222222222222,
              "#7201a8"
             ],
             [
              0.3333333333333333,
              "#9c179e"
             ],
             [
              0.4444444444444444,
              "#bd3786"
             ],
             [
              0.5555555555555556,
              "#d8576b"
             ],
             [
              0.6666666666666666,
              "#ed7953"
             ],
             [
              0.7777777777777778,
              "#fb9f3a"
             ],
             [
              0.8888888888888888,
              "#fdca26"
             ],
             [
              1,
              "#f0f921"
             ]
            ],
            "type": "contour"
           }
          ],
          "contourcarpet": [
           {
            "colorbar": {
             "outlinewidth": 0,
             "ticks": ""
            },
            "type": "contourcarpet"
           }
          ],
          "heatmap": [
           {
            "colorbar": {
             "outlinewidth": 0,
             "ticks": ""
            },
            "colorscale": [
             [
              0,
              "#0d0887"
             ],
             [
              0.1111111111111111,
              "#46039f"
             ],
             [
              0.2222222222222222,
              "#7201a8"
             ],
             [
              0.3333333333333333,
              "#9c179e"
             ],
             [
              0.4444444444444444,
              "#bd3786"
             ],
             [
              0.5555555555555556,
              "#d8576b"
             ],
             [
              0.6666666666666666,
              "#ed7953"
             ],
             [
              0.7777777777777778,
              "#fb9f3a"
             ],
             [
              0.8888888888888888,
              "#fdca26"
             ],
             [
              1,
              "#f0f921"
             ]
            ],
            "type": "heatmap"
           }
          ],
          "heatmapgl": [
           {
            "colorbar": {
             "outlinewidth": 0,
             "ticks": ""
            },
            "colorscale": [
             [
              0,
              "#0d0887"
             ],
             [
              0.1111111111111111,
              "#46039f"
             ],
             [
              0.2222222222222222,
              "#7201a8"
             ],
             [
              0.3333333333333333,
              "#9c179e"
             ],
             [
              0.4444444444444444,
              "#bd3786"
             ],
             [
              0.5555555555555556,
              "#d8576b"
             ],
             [
              0.6666666666666666,
              "#ed7953"
             ],
             [
              0.7777777777777778,
              "#fb9f3a"
             ],
             [
              0.8888888888888888,
              "#fdca26"
             ],
             [
              1,
              "#f0f921"
             ]
            ],
            "type": "heatmapgl"
           }
          ],
          "histogram": [
           {
            "marker": {
             "colorbar": {
              "outlinewidth": 0,
              "ticks": ""
             }
            },
            "type": "histogram"
           }
          ],
          "histogram2d": [
           {
            "colorbar": {
             "outlinewidth": 0,
             "ticks": ""
            },
            "colorscale": [
             [
              0,
              "#0d0887"
             ],
             [
              0.1111111111111111,
              "#46039f"
             ],
             [
              0.2222222222222222,
              "#7201a8"
             ],
             [
              0.3333333333333333,
              "#9c179e"
             ],
             [
              0.4444444444444444,
              "#bd3786"
             ],
             [
              0.5555555555555556,
              "#d8576b"
             ],
             [
              0.6666666666666666,
              "#ed7953"
             ],
             [
              0.7777777777777778,
              "#fb9f3a"
             ],
             [
              0.8888888888888888,
              "#fdca26"
             ],
             [
              1,
              "#f0f921"
             ]
            ],
            "type": "histogram2d"
           }
          ],
          "histogram2dcontour": [
           {
            "colorbar": {
             "outlinewidth": 0,
             "ticks": ""
            },
            "colorscale": [
             [
              0,
              "#0d0887"
             ],
             [
              0.1111111111111111,
              "#46039f"
             ],
             [
              0.2222222222222222,
              "#7201a8"
             ],
             [
              0.3333333333333333,
              "#9c179e"
             ],
             [
              0.4444444444444444,
              "#bd3786"
             ],
             [
              0.5555555555555556,
              "#d8576b"
             ],
             [
              0.6666666666666666,
              "#ed7953"
             ],
             [
              0.7777777777777778,
              "#fb9f3a"
             ],
             [
              0.8888888888888888,
              "#fdca26"
             ],
             [
              1,
              "#f0f921"
             ]
            ],
            "type": "histogram2dcontour"
           }
          ],
          "mesh3d": [
           {
            "colorbar": {
             "outlinewidth": 0,
             "ticks": ""
            },
            "type": "mesh3d"
           }
          ],
          "parcoords": [
           {
            "line": {
             "colorbar": {
              "outlinewidth": 0,
              "ticks": ""
             }
            },
            "type": "parcoords"
           }
          ],
          "pie": [
           {
            "automargin": true,
            "type": "pie"
           }
          ],
          "scatter": [
           {
            "marker": {
             "colorbar": {
              "outlinewidth": 0,
              "ticks": ""
             }
            },
            "type": "scatter"
           }
          ],
          "scatter3d": [
           {
            "line": {
             "colorbar": {
              "outlinewidth": 0,
              "ticks": ""
             }
            },
            "marker": {
             "colorbar": {
              "outlinewidth": 0,
              "ticks": ""
             }
            },
            "type": "scatter3d"
           }
          ],
          "scattercarpet": [
           {
            "marker": {
             "colorbar": {
              "outlinewidth": 0,
              "ticks": ""
             }
            },
            "type": "scattercarpet"
           }
          ],
          "scattergeo": [
           {
            "marker": {
             "colorbar": {
              "outlinewidth": 0,
              "ticks": ""
             }
            },
            "type": "scattergeo"
           }
          ],
          "scattergl": [
           {
            "marker": {
             "colorbar": {
              "outlinewidth": 0,
              "ticks": ""
             }
            },
            "type": "scattergl"
           }
          ],
          "scattermapbox": [
           {
            "marker": {
             "colorbar": {
              "outlinewidth": 0,
              "ticks": ""
             }
            },
            "type": "scattermapbox"
           }
          ],
          "scatterpolar": [
           {
            "marker": {
             "colorbar": {
              "outlinewidth": 0,
              "ticks": ""
             }
            },
            "type": "scatterpolar"
           }
          ],
          "scatterpolargl": [
           {
            "marker": {
             "colorbar": {
              "outlinewidth": 0,
              "ticks": ""
             }
            },
            "type": "scatterpolargl"
           }
          ],
          "scatterternary": [
           {
            "marker": {
             "colorbar": {
              "outlinewidth": 0,
              "ticks": ""
             }
            },
            "type": "scatterternary"
           }
          ],
          "surface": [
           {
            "colorbar": {
             "outlinewidth": 0,
             "ticks": ""
            },
            "colorscale": [
             [
              0,
              "#0d0887"
             ],
             [
              0.1111111111111111,
              "#46039f"
             ],
             [
              0.2222222222222222,
              "#7201a8"
             ],
             [
              0.3333333333333333,
              "#9c179e"
             ],
             [
              0.4444444444444444,
              "#bd3786"
             ],
             [
              0.5555555555555556,
              "#d8576b"
             ],
             [
              0.6666666666666666,
              "#ed7953"
             ],
             [
              0.7777777777777778,
              "#fb9f3a"
             ],
             [
              0.8888888888888888,
              "#fdca26"
             ],
             [
              1,
              "#f0f921"
             ]
            ],
            "type": "surface"
           }
          ],
          "table": [
           {
            "cells": {
             "fill": {
              "color": "#EBF0F8"
             },
             "line": {
              "color": "white"
             }
            },
            "header": {
             "fill": {
              "color": "#C8D4E3"
             },
             "line": {
              "color": "white"
             }
            },
            "type": "table"
           }
          ]
         },
         "layout": {
          "annotationdefaults": {
           "arrowcolor": "#2a3f5f",
           "arrowhead": 0,
           "arrowwidth": 1
          },
          "autotypenumbers": "strict",
          "coloraxis": {
           "colorbar": {
            "outlinewidth": 0,
            "ticks": ""
           }
          },
          "colorscale": {
           "diverging": [
            [
             0,
             "#8e0152"
            ],
            [
             0.1,
             "#c51b7d"
            ],
            [
             0.2,
             "#de77ae"
            ],
            [
             0.3,
             "#f1b6da"
            ],
            [
             0.4,
             "#fde0ef"
            ],
            [
             0.5,
             "#f7f7f7"
            ],
            [
             0.6,
             "#e6f5d0"
            ],
            [
             0.7,
             "#b8e186"
            ],
            [
             0.8,
             "#7fbc41"
            ],
            [
             0.9,
             "#4d9221"
            ],
            [
             1,
             "#276419"
            ]
           ],
           "sequential": [
            [
             0,
             "#0d0887"
            ],
            [
             0.1111111111111111,
             "#46039f"
            ],
            [
             0.2222222222222222,
             "#7201a8"
            ],
            [
             0.3333333333333333,
             "#9c179e"
            ],
            [
             0.4444444444444444,
             "#bd3786"
            ],
            [
             0.5555555555555556,
             "#d8576b"
            ],
            [
             0.6666666666666666,
             "#ed7953"
            ],
            [
             0.7777777777777778,
             "#fb9f3a"
            ],
            [
             0.8888888888888888,
             "#fdca26"
            ],
            [
             1,
             "#f0f921"
            ]
           ],
           "sequentialminus": [
            [
             0,
             "#0d0887"
            ],
            [
             0.1111111111111111,
             "#46039f"
            ],
            [
             0.2222222222222222,
             "#7201a8"
            ],
            [
             0.3333333333333333,
             "#9c179e"
            ],
            [
             0.4444444444444444,
             "#bd3786"
            ],
            [
             0.5555555555555556,
             "#d8576b"
            ],
            [
             0.6666666666666666,
             "#ed7953"
            ],
            [
             0.7777777777777778,
             "#fb9f3a"
            ],
            [
             0.8888888888888888,
             "#fdca26"
            ],
            [
             1,
             "#f0f921"
            ]
           ]
          },
          "colorway": [
           "#636efa",
           "#EF553B",
           "#00cc96",
           "#ab63fa",
           "#FFA15A",
           "#19d3f3",
           "#FF6692",
           "#B6E880",
           "#FF97FF",
           "#FECB52"
          ],
          "font": {
           "color": "#2a3f5f"
          },
          "geo": {
           "bgcolor": "white",
           "lakecolor": "white",
           "landcolor": "#E5ECF6",
           "showlakes": true,
           "showland": true,
           "subunitcolor": "white"
          },
          "hoverlabel": {
           "align": "left"
          },
          "hovermode": "closest",
          "mapbox": {
           "style": "light"
          },
          "paper_bgcolor": "white",
          "plot_bgcolor": "#E5ECF6",
          "polar": {
           "angularaxis": {
            "gridcolor": "white",
            "linecolor": "white",
            "ticks": ""
           },
           "bgcolor": "#E5ECF6",
           "radialaxis": {
            "gridcolor": "white",
            "linecolor": "white",
            "ticks": ""
           }
          },
          "scene": {
           "xaxis": {
            "backgroundcolor": "#E5ECF6",
            "gridcolor": "white",
            "gridwidth": 2,
            "linecolor": "white",
            "showbackground": true,
            "ticks": "",
            "zerolinecolor": "white"
           },
           "yaxis": {
            "backgroundcolor": "#E5ECF6",
            "gridcolor": "white",
            "gridwidth": 2,
            "linecolor": "white",
            "showbackground": true,
            "ticks": "",
            "zerolinecolor": "white"
           },
           "zaxis": {
            "backgroundcolor": "#E5ECF6",
            "gridcolor": "white",
            "gridwidth": 2,
            "linecolor": "white",
            "showbackground": true,
            "ticks": "",
            "zerolinecolor": "white"
           }
          },
          "shapedefaults": {
           "line": {
            "color": "#2a3f5f"
           }
          },
          "ternary": {
           "aaxis": {
            "gridcolor": "white",
            "linecolor": "white",
            "ticks": ""
           },
           "baxis": {
            "gridcolor": "white",
            "linecolor": "white",
            "ticks": ""
           },
           "bgcolor": "#E5ECF6",
           "caxis": {
            "gridcolor": "white",
            "linecolor": "white",
            "ticks": ""
           }
          },
          "title": {
           "x": 0.05
          },
          "xaxis": {
           "automargin": true,
           "gridcolor": "white",
           "linecolor": "white",
           "ticks": "",
           "title": {
            "standoff": 15
           },
           "zerolinecolor": "white",
           "zerolinewidth": 2
          },
          "yaxis": {
           "automargin": true,
           "gridcolor": "white",
           "linecolor": "white",
           "ticks": "",
           "title": {
            "standoff": 15
           },
           "zerolinecolor": "white",
           "zerolinewidth": 2
          }
         }
        },
        "title": {
         "text": "Cantidad de productos por colonia"
        },
        "xaxis": {
         "anchor": "y",
         "domain": [
          0,
          1
         ],
         "title": {
          "text": "colonia"
         }
        },
        "yaxis": {
         "anchor": "x",
         "domain": [
          0,
          1
         ],
         "title": {
          "text": "count"
         }
        }
       }
      }
     },
     "metadata": {}
    }
   ],
   "source": [
    "fig = px.histogram(df, x='colonia')\n",
    "fig.update_layout(\n",
    "    title=dict(\n",
    "        text='Cantidad de productos por colonia'\n",
    "    )\n",
    ")\n",
    "fig.show()"
   ]
  },
  {
   "cell_type": "code",
   "execution_count": 6,
   "metadata": {},
   "outputs": [
    {
     "output_type": "display_data",
     "data": {
      "application/vnd.plotly.v1+json": {
       "config": {
        "plotlyServerURL": "https://plot.ly"
       },
       "data": [
        {
         "alignmentgroup": "True",
         "bingroup": "x",
         "hovertemplate": "eci=3.8655088585<br>alcaldia=%{x}<br>count=%{y}<extra></extra>",
         "legendgroup": "3.8655088585",
         "marker": {
          "color": "#636efa"
         },
         "name": "3.8655088585",
         "offsetgroup": "3.8655088585",
         "orientation": "v",
         "showlegend": true,
         "type": "histogram",
         "x": [
          "azcapotzalco",
          "azcapotzalco",
          "azcapotzalco",
          "azcapotzalco",
          "azcapotzalco",
          "azcapotzalco",
          "azcapotzalco",
          "azcapotzalco",
          "azcapotzalco",
          "azcapotzalco",
          "azcapotzalco",
          "azcapotzalco",
          "azcapotzalco",
          "azcapotzalco",
          "azcapotzalco",
          "azcapotzalco",
          "azcapotzalco",
          "azcapotzalco",
          "azcapotzalco",
          "azcapotzalco",
          "azcapotzalco",
          "azcapotzalco",
          "azcapotzalco",
          "azcapotzalco",
          "azcapotzalco",
          "azcapotzalco",
          "azcapotzalco",
          "azcapotzalco",
          "azcapotzalco",
          "azcapotzalco",
          "azcapotzalco",
          "azcapotzalco",
          "azcapotzalco",
          "azcapotzalco",
          "azcapotzalco",
          "azcapotzalco",
          "azcapotzalco",
          "azcapotzalco",
          "azcapotzalco",
          "azcapotzalco",
          "azcapotzalco",
          "azcapotzalco",
          "azcapotzalco",
          "azcapotzalco",
          "azcapotzalco",
          "azcapotzalco",
          "azcapotzalco",
          "azcapotzalco",
          "azcapotzalco",
          "azcapotzalco",
          "azcapotzalco",
          "azcapotzalco",
          "azcapotzalco",
          "azcapotzalco",
          "azcapotzalco",
          "azcapotzalco",
          "azcapotzalco",
          "azcapotzalco",
          "azcapotzalco",
          "azcapotzalco",
          "azcapotzalco",
          "azcapotzalco",
          "azcapotzalco",
          "azcapotzalco",
          "azcapotzalco",
          "azcapotzalco",
          "azcapotzalco",
          "azcapotzalco",
          "azcapotzalco",
          "azcapotzalco",
          "azcapotzalco",
          "azcapotzalco",
          "azcapotzalco",
          "azcapotzalco",
          "azcapotzalco",
          "azcapotzalco",
          "azcapotzalco",
          "azcapotzalco",
          "azcapotzalco",
          "azcapotzalco",
          "azcapotzalco",
          "azcapotzalco",
          "azcapotzalco",
          "azcapotzalco",
          "azcapotzalco",
          "azcapotzalco",
          "azcapotzalco",
          "azcapotzalco",
          "azcapotzalco",
          "azcapotzalco",
          "azcapotzalco",
          "azcapotzalco",
          "azcapotzalco",
          "azcapotzalco",
          "azcapotzalco",
          "azcapotzalco",
          "azcapotzalco",
          "azcapotzalco",
          "azcapotzalco",
          "azcapotzalco",
          "azcapotzalco",
          "azcapotzalco",
          "azcapotzalco",
          "azcapotzalco",
          "azcapotzalco",
          "azcapotzalco",
          "azcapotzalco",
          "azcapotzalco",
          "azcapotzalco",
          "azcapotzalco",
          "azcapotzalco",
          "azcapotzalco",
          "azcapotzalco",
          "azcapotzalco",
          "azcapotzalco",
          "azcapotzalco",
          "azcapotzalco",
          "azcapotzalco",
          "azcapotzalco",
          "azcapotzalco",
          "azcapotzalco",
          "azcapotzalco",
          "azcapotzalco",
          "azcapotzalco",
          "azcapotzalco",
          "azcapotzalco",
          "azcapotzalco",
          "azcapotzalco",
          "azcapotzalco",
          "azcapotzalco",
          "azcapotzalco",
          "azcapotzalco",
          "azcapotzalco",
          "azcapotzalco",
          "azcapotzalco",
          "azcapotzalco",
          "azcapotzalco",
          "azcapotzalco",
          "azcapotzalco",
          "azcapotzalco",
          "azcapotzalco",
          "azcapotzalco",
          "azcapotzalco",
          "azcapotzalco",
          "azcapotzalco",
          "azcapotzalco",
          "azcapotzalco",
          "azcapotzalco",
          "azcapotzalco",
          "azcapotzalco",
          "azcapotzalco",
          "azcapotzalco",
          "azcapotzalco",
          "azcapotzalco",
          "azcapotzalco",
          "azcapotzalco",
          "azcapotzalco",
          "azcapotzalco",
          "azcapotzalco",
          "azcapotzalco",
          "azcapotzalco",
          "azcapotzalco",
          "azcapotzalco",
          "azcapotzalco",
          "azcapotzalco",
          "azcapotzalco",
          "azcapotzalco",
          "azcapotzalco",
          "azcapotzalco",
          "azcapotzalco",
          "azcapotzalco",
          "azcapotzalco",
          "azcapotzalco",
          "azcapotzalco",
          "azcapotzalco",
          "azcapotzalco",
          "azcapotzalco",
          "azcapotzalco",
          "azcapotzalco",
          "azcapotzalco",
          "azcapotzalco",
          "azcapotzalco",
          "azcapotzalco",
          "azcapotzalco",
          "azcapotzalco",
          "azcapotzalco"
         ],
         "xaxis": "x",
         "yaxis": "y"
        },
        {
         "alignmentgroup": "True",
         "bingroup": "x",
         "hovertemplate": "eci=3.854616836<br>alcaldia=%{x}<br>count=%{y}<extra></extra>",
         "legendgroup": "3.854616836",
         "marker": {
          "color": "#EF553B"
         },
         "name": "3.854616836",
         "offsetgroup": "3.854616836",
         "orientation": "v",
         "showlegend": true,
         "type": "histogram",
         "x": [
          "cuajimalpa de morelos",
          "cuajimalpa de morelos"
         ],
         "xaxis": "x",
         "yaxis": "y"
        },
        {
         "alignmentgroup": "True",
         "bingroup": "x",
         "hovertemplate": "eci=4.1527924151<br>alcaldia=%{x}<br>count=%{y}<extra></extra>",
         "legendgroup": "4.1527924151",
         "marker": {
          "color": "#00cc96"
         },
         "name": "4.1527924151",
         "offsetgroup": "4.1527924151",
         "orientation": "v",
         "showlegend": true,
         "type": "histogram",
         "x": [
          "miguel hidalgo",
          "miguel hidalgo",
          "miguel hidalgo",
          "miguel hidalgo",
          "miguel hidalgo",
          "miguel hidalgo",
          "miguel hidalgo",
          "miguel hidalgo",
          "miguel hidalgo",
          "miguel hidalgo",
          "miguel hidalgo",
          "miguel hidalgo",
          "miguel hidalgo",
          "miguel hidalgo",
          "miguel hidalgo",
          "miguel hidalgo",
          "miguel hidalgo",
          "miguel hidalgo",
          "miguel hidalgo",
          "miguel hidalgo",
          "miguel hidalgo",
          "miguel hidalgo",
          "miguel hidalgo",
          "miguel hidalgo",
          "miguel hidalgo",
          "miguel hidalgo",
          "miguel hidalgo",
          "miguel hidalgo",
          "miguel hidalgo",
          "miguel hidalgo",
          "miguel hidalgo",
          "miguel hidalgo",
          "miguel hidalgo",
          "miguel hidalgo",
          "miguel hidalgo",
          "miguel hidalgo",
          "miguel hidalgo",
          "miguel hidalgo",
          "miguel hidalgo",
          "miguel hidalgo",
          "miguel hidalgo",
          "miguel hidalgo",
          "miguel hidalgo",
          "miguel hidalgo",
          "miguel hidalgo",
          "miguel hidalgo",
          "miguel hidalgo",
          "miguel hidalgo",
          "miguel hidalgo",
          "miguel hidalgo",
          "miguel hidalgo",
          "miguel hidalgo",
          "miguel hidalgo",
          "miguel hidalgo",
          "miguel hidalgo",
          "miguel hidalgo",
          "miguel hidalgo",
          "miguel hidalgo",
          "miguel hidalgo",
          "miguel hidalgo",
          "miguel hidalgo",
          "miguel hidalgo",
          "miguel hidalgo",
          "miguel hidalgo",
          "miguel hidalgo",
          "miguel hidalgo",
          "miguel hidalgo",
          "miguel hidalgo",
          "miguel hidalgo",
          "miguel hidalgo",
          "miguel hidalgo",
          "miguel hidalgo",
          "miguel hidalgo",
          "miguel hidalgo",
          "miguel hidalgo",
          "miguel hidalgo",
          "miguel hidalgo",
          "miguel hidalgo",
          "miguel hidalgo",
          "miguel hidalgo",
          "miguel hidalgo",
          "miguel hidalgo",
          "miguel hidalgo",
          "miguel hidalgo",
          "miguel hidalgo",
          "miguel hidalgo",
          "miguel hidalgo",
          "miguel hidalgo",
          "miguel hidalgo",
          "miguel hidalgo",
          "miguel hidalgo",
          "miguel hidalgo",
          "miguel hidalgo",
          "miguel hidalgo",
          "miguel hidalgo",
          "miguel hidalgo",
          "miguel hidalgo",
          "miguel hidalgo",
          "miguel hidalgo",
          "miguel hidalgo",
          "miguel hidalgo",
          "miguel hidalgo",
          "miguel hidalgo",
          "miguel hidalgo",
          "miguel hidalgo",
          "miguel hidalgo",
          "miguel hidalgo",
          "miguel hidalgo",
          "miguel hidalgo",
          "miguel hidalgo",
          "miguel hidalgo",
          "miguel hidalgo",
          "miguel hidalgo",
          "miguel hidalgo",
          "miguel hidalgo",
          "miguel hidalgo",
          "miguel hidalgo",
          "miguel hidalgo",
          "miguel hidalgo",
          "miguel hidalgo",
          "miguel hidalgo",
          "miguel hidalgo",
          "miguel hidalgo",
          "miguel hidalgo",
          "miguel hidalgo",
          "miguel hidalgo",
          "miguel hidalgo",
          "miguel hidalgo",
          "miguel hidalgo",
          "miguel hidalgo",
          "miguel hidalgo",
          "miguel hidalgo",
          "miguel hidalgo",
          "miguel hidalgo",
          "miguel hidalgo",
          "miguel hidalgo",
          "miguel hidalgo",
          "miguel hidalgo",
          "miguel hidalgo",
          "miguel hidalgo",
          "miguel hidalgo",
          "miguel hidalgo",
          "miguel hidalgo",
          "miguel hidalgo"
         ],
         "xaxis": "x",
         "yaxis": "y"
        }
       ],
       "layout": {
        "barmode": "relative",
        "legend": {
         "title": {
          "text": "eci"
         },
         "tracegroupgap": 0
        },
        "margin": {
         "t": 60
        },
        "template": {
         "data": {
          "bar": [
           {
            "error_x": {
             "color": "#2a3f5f"
            },
            "error_y": {
             "color": "#2a3f5f"
            },
            "marker": {
             "line": {
              "color": "#E5ECF6",
              "width": 0.5
             }
            },
            "type": "bar"
           }
          ],
          "barpolar": [
           {
            "marker": {
             "line": {
              "color": "#E5ECF6",
              "width": 0.5
             }
            },
            "type": "barpolar"
           }
          ],
          "carpet": [
           {
            "aaxis": {
             "endlinecolor": "#2a3f5f",
             "gridcolor": "white",
             "linecolor": "white",
             "minorgridcolor": "white",
             "startlinecolor": "#2a3f5f"
            },
            "baxis": {
             "endlinecolor": "#2a3f5f",
             "gridcolor": "white",
             "linecolor": "white",
             "minorgridcolor": "white",
             "startlinecolor": "#2a3f5f"
            },
            "type": "carpet"
           }
          ],
          "choropleth": [
           {
            "colorbar": {
             "outlinewidth": 0,
             "ticks": ""
            },
            "type": "choropleth"
           }
          ],
          "contour": [
           {
            "colorbar": {
             "outlinewidth": 0,
             "ticks": ""
            },
            "colorscale": [
             [
              0,
              "#0d0887"
             ],
             [
              0.1111111111111111,
              "#46039f"
             ],
             [
              0.2222222222222222,
              "#7201a8"
             ],
             [
              0.3333333333333333,
              "#9c179e"
             ],
             [
              0.4444444444444444,
              "#bd3786"
             ],
             [
              0.5555555555555556,
              "#d8576b"
             ],
             [
              0.6666666666666666,
              "#ed7953"
             ],
             [
              0.7777777777777778,
              "#fb9f3a"
             ],
             [
              0.8888888888888888,
              "#fdca26"
             ],
             [
              1,
              "#f0f921"
             ]
            ],
            "type": "contour"
           }
          ],
          "contourcarpet": [
           {
            "colorbar": {
             "outlinewidth": 0,
             "ticks": ""
            },
            "type": "contourcarpet"
           }
          ],
          "heatmap": [
           {
            "colorbar": {
             "outlinewidth": 0,
             "ticks": ""
            },
            "colorscale": [
             [
              0,
              "#0d0887"
             ],
             [
              0.1111111111111111,
              "#46039f"
             ],
             [
              0.2222222222222222,
              "#7201a8"
             ],
             [
              0.3333333333333333,
              "#9c179e"
             ],
             [
              0.4444444444444444,
              "#bd3786"
             ],
             [
              0.5555555555555556,
              "#d8576b"
             ],
             [
              0.6666666666666666,
              "#ed7953"
             ],
             [
              0.7777777777777778,
              "#fb9f3a"
             ],
             [
              0.8888888888888888,
              "#fdca26"
             ],
             [
              1,
              "#f0f921"
             ]
            ],
            "type": "heatmap"
           }
          ],
          "heatmapgl": [
           {
            "colorbar": {
             "outlinewidth": 0,
             "ticks": ""
            },
            "colorscale": [
             [
              0,
              "#0d0887"
             ],
             [
              0.1111111111111111,
              "#46039f"
             ],
             [
              0.2222222222222222,
              "#7201a8"
             ],
             [
              0.3333333333333333,
              "#9c179e"
             ],
             [
              0.4444444444444444,
              "#bd3786"
             ],
             [
              0.5555555555555556,
              "#d8576b"
             ],
             [
              0.6666666666666666,
              "#ed7953"
             ],
             [
              0.7777777777777778,
              "#fb9f3a"
             ],
             [
              0.8888888888888888,
              "#fdca26"
             ],
             [
              1,
              "#f0f921"
             ]
            ],
            "type": "heatmapgl"
           }
          ],
          "histogram": [
           {
            "marker": {
             "colorbar": {
              "outlinewidth": 0,
              "ticks": ""
             }
            },
            "type": "histogram"
           }
          ],
          "histogram2d": [
           {
            "colorbar": {
             "outlinewidth": 0,
             "ticks": ""
            },
            "colorscale": [
             [
              0,
              "#0d0887"
             ],
             [
              0.1111111111111111,
              "#46039f"
             ],
             [
              0.2222222222222222,
              "#7201a8"
             ],
             [
              0.3333333333333333,
              "#9c179e"
             ],
             [
              0.4444444444444444,
              "#bd3786"
             ],
             [
              0.5555555555555556,
              "#d8576b"
             ],
             [
              0.6666666666666666,
              "#ed7953"
             ],
             [
              0.7777777777777778,
              "#fb9f3a"
             ],
             [
              0.8888888888888888,
              "#fdca26"
             ],
             [
              1,
              "#f0f921"
             ]
            ],
            "type": "histogram2d"
           }
          ],
          "histogram2dcontour": [
           {
            "colorbar": {
             "outlinewidth": 0,
             "ticks": ""
            },
            "colorscale": [
             [
              0,
              "#0d0887"
             ],
             [
              0.1111111111111111,
              "#46039f"
             ],
             [
              0.2222222222222222,
              "#7201a8"
             ],
             [
              0.3333333333333333,
              "#9c179e"
             ],
             [
              0.4444444444444444,
              "#bd3786"
             ],
             [
              0.5555555555555556,
              "#d8576b"
             ],
             [
              0.6666666666666666,
              "#ed7953"
             ],
             [
              0.7777777777777778,
              "#fb9f3a"
             ],
             [
              0.8888888888888888,
              "#fdca26"
             ],
             [
              1,
              "#f0f921"
             ]
            ],
            "type": "histogram2dcontour"
           }
          ],
          "mesh3d": [
           {
            "colorbar": {
             "outlinewidth": 0,
             "ticks": ""
            },
            "type": "mesh3d"
           }
          ],
          "parcoords": [
           {
            "line": {
             "colorbar": {
              "outlinewidth": 0,
              "ticks": ""
             }
            },
            "type": "parcoords"
           }
          ],
          "pie": [
           {
            "automargin": true,
            "type": "pie"
           }
          ],
          "scatter": [
           {
            "marker": {
             "colorbar": {
              "outlinewidth": 0,
              "ticks": ""
             }
            },
            "type": "scatter"
           }
          ],
          "scatter3d": [
           {
            "line": {
             "colorbar": {
              "outlinewidth": 0,
              "ticks": ""
             }
            },
            "marker": {
             "colorbar": {
              "outlinewidth": 0,
              "ticks": ""
             }
            },
            "type": "scatter3d"
           }
          ],
          "scattercarpet": [
           {
            "marker": {
             "colorbar": {
              "outlinewidth": 0,
              "ticks": ""
             }
            },
            "type": "scattercarpet"
           }
          ],
          "scattergeo": [
           {
            "marker": {
             "colorbar": {
              "outlinewidth": 0,
              "ticks": ""
             }
            },
            "type": "scattergeo"
           }
          ],
          "scattergl": [
           {
            "marker": {
             "colorbar": {
              "outlinewidth": 0,
              "ticks": ""
             }
            },
            "type": "scattergl"
           }
          ],
          "scattermapbox": [
           {
            "marker": {
             "colorbar": {
              "outlinewidth": 0,
              "ticks": ""
             }
            },
            "type": "scattermapbox"
           }
          ],
          "scatterpolar": [
           {
            "marker": {
             "colorbar": {
              "outlinewidth": 0,
              "ticks": ""
             }
            },
            "type": "scatterpolar"
           }
          ],
          "scatterpolargl": [
           {
            "marker": {
             "colorbar": {
              "outlinewidth": 0,
              "ticks": ""
             }
            },
            "type": "scatterpolargl"
           }
          ],
          "scatterternary": [
           {
            "marker": {
             "colorbar": {
              "outlinewidth": 0,
              "ticks": ""
             }
            },
            "type": "scatterternary"
           }
          ],
          "surface": [
           {
            "colorbar": {
             "outlinewidth": 0,
             "ticks": ""
            },
            "colorscale": [
             [
              0,
              "#0d0887"
             ],
             [
              0.1111111111111111,
              "#46039f"
             ],
             [
              0.2222222222222222,
              "#7201a8"
             ],
             [
              0.3333333333333333,
              "#9c179e"
             ],
             [
              0.4444444444444444,
              "#bd3786"
             ],
             [
              0.5555555555555556,
              "#d8576b"
             ],
             [
              0.6666666666666666,
              "#ed7953"
             ],
             [
              0.7777777777777778,
              "#fb9f3a"
             ],
             [
              0.8888888888888888,
              "#fdca26"
             ],
             [
              1,
              "#f0f921"
             ]
            ],
            "type": "surface"
           }
          ],
          "table": [
           {
            "cells": {
             "fill": {
              "color": "#EBF0F8"
             },
             "line": {
              "color": "white"
             }
            },
            "header": {
             "fill": {
              "color": "#C8D4E3"
             },
             "line": {
              "color": "white"
             }
            },
            "type": "table"
           }
          ]
         },
         "layout": {
          "annotationdefaults": {
           "arrowcolor": "#2a3f5f",
           "arrowhead": 0,
           "arrowwidth": 1
          },
          "autotypenumbers": "strict",
          "coloraxis": {
           "colorbar": {
            "outlinewidth": 0,
            "ticks": ""
           }
          },
          "colorscale": {
           "diverging": [
            [
             0,
             "#8e0152"
            ],
            [
             0.1,
             "#c51b7d"
            ],
            [
             0.2,
             "#de77ae"
            ],
            [
             0.3,
             "#f1b6da"
            ],
            [
             0.4,
             "#fde0ef"
            ],
            [
             0.5,
             "#f7f7f7"
            ],
            [
             0.6,
             "#e6f5d0"
            ],
            [
             0.7,
             "#b8e186"
            ],
            [
             0.8,
             "#7fbc41"
            ],
            [
             0.9,
             "#4d9221"
            ],
            [
             1,
             "#276419"
            ]
           ],
           "sequential": [
            [
             0,
             "#0d0887"
            ],
            [
             0.1111111111111111,
             "#46039f"
            ],
            [
             0.2222222222222222,
             "#7201a8"
            ],
            [
             0.3333333333333333,
             "#9c179e"
            ],
            [
             0.4444444444444444,
             "#bd3786"
            ],
            [
             0.5555555555555556,
             "#d8576b"
            ],
            [
             0.6666666666666666,
             "#ed7953"
            ],
            [
             0.7777777777777778,
             "#fb9f3a"
            ],
            [
             0.8888888888888888,
             "#fdca26"
            ],
            [
             1,
             "#f0f921"
            ]
           ],
           "sequentialminus": [
            [
             0,
             "#0d0887"
            ],
            [
             0.1111111111111111,
             "#46039f"
            ],
            [
             0.2222222222222222,
             "#7201a8"
            ],
            [
             0.3333333333333333,
             "#9c179e"
            ],
            [
             0.4444444444444444,
             "#bd3786"
            ],
            [
             0.5555555555555556,
             "#d8576b"
            ],
            [
             0.6666666666666666,
             "#ed7953"
            ],
            [
             0.7777777777777778,
             "#fb9f3a"
            ],
            [
             0.8888888888888888,
             "#fdca26"
            ],
            [
             1,
             "#f0f921"
            ]
           ]
          },
          "colorway": [
           "#636efa",
           "#EF553B",
           "#00cc96",
           "#ab63fa",
           "#FFA15A",
           "#19d3f3",
           "#FF6692",
           "#B6E880",
           "#FF97FF",
           "#FECB52"
          ],
          "font": {
           "color": "#2a3f5f"
          },
          "geo": {
           "bgcolor": "white",
           "lakecolor": "white",
           "landcolor": "#E5ECF6",
           "showlakes": true,
           "showland": true,
           "subunitcolor": "white"
          },
          "hoverlabel": {
           "align": "left"
          },
          "hovermode": "closest",
          "mapbox": {
           "style": "light"
          },
          "paper_bgcolor": "white",
          "plot_bgcolor": "#E5ECF6",
          "polar": {
           "angularaxis": {
            "gridcolor": "white",
            "linecolor": "white",
            "ticks": ""
           },
           "bgcolor": "#E5ECF6",
           "radialaxis": {
            "gridcolor": "white",
            "linecolor": "white",
            "ticks": ""
           }
          },
          "scene": {
           "xaxis": {
            "backgroundcolor": "#E5ECF6",
            "gridcolor": "white",
            "gridwidth": 2,
            "linecolor": "white",
            "showbackground": true,
            "ticks": "",
            "zerolinecolor": "white"
           },
           "yaxis": {
            "backgroundcolor": "#E5ECF6",
            "gridcolor": "white",
            "gridwidth": 2,
            "linecolor": "white",
            "showbackground": true,
            "ticks": "",
            "zerolinecolor": "white"
           },
           "zaxis": {
            "backgroundcolor": "#E5ECF6",
            "gridcolor": "white",
            "gridwidth": 2,
            "linecolor": "white",
            "showbackground": true,
            "ticks": "",
            "zerolinecolor": "white"
           }
          },
          "shapedefaults": {
           "line": {
            "color": "#2a3f5f"
           }
          },
          "ternary": {
           "aaxis": {
            "gridcolor": "white",
            "linecolor": "white",
            "ticks": ""
           },
           "baxis": {
            "gridcolor": "white",
            "linecolor": "white",
            "ticks": ""
           },
           "bgcolor": "#E5ECF6",
           "caxis": {
            "gridcolor": "white",
            "linecolor": "white",
            "ticks": ""
           }
          },
          "title": {
           "x": 0.05
          },
          "xaxis": {
           "automargin": true,
           "gridcolor": "white",
           "linecolor": "white",
           "ticks": "",
           "title": {
            "standoff": 15
           },
           "zerolinecolor": "white",
           "zerolinewidth": 2
          },
          "yaxis": {
           "automargin": true,
           "gridcolor": "white",
           "linecolor": "white",
           "ticks": "",
           "title": {
            "standoff": 15
           },
           "zerolinecolor": "white",
           "zerolinewidth": 2
          }
         }
        },
        "title": {
         "text": "Cantidad de productos por alcaldia con ECI"
        },
        "xaxis": {
         "anchor": "y",
         "domain": [
          0,
          1
         ],
         "title": {
          "text": "alcaldia"
         }
        },
        "yaxis": {
         "anchor": "x",
         "domain": [
          0,
          1
         ],
         "title": {
          "text": "count"
         }
        }
       }
      }
     },
     "metadata": {}
    }
   ],
   "source": [
    "fig = px.histogram(df, x='alcaldia', color='eci')\n",
    "fig.update_layout(\n",
    "    title=dict(\n",
    "        text='Cantidad de productos por alcaldia con ECI'\n",
    "    )\n",
    ")\n",
    "fig.show()"
   ]
  },
  {
   "cell_type": "code",
   "execution_count": 7,
   "metadata": {},
   "outputs": [
    {
     "output_type": "display_data",
     "data": {
      "application/vnd.plotly.v1+json": {
       "config": {
        "plotlyServerURL": "https://plot.ly"
       },
       "data": [
        {
         "alignmentgroup": "True",
         "bingroup": "x",
         "hovertemplate": "categoria=arreglosgeneral<br>colonia=%{x}<br>count=%{y}<extra></extra>",
         "legendgroup": "arreglosgeneral",
         "marker": {
          "color": "#636efa"
         },
         "name": "arreglosgeneral",
         "offsetgroup": "arreglosgeneral",
         "orientation": "v",
         "showlegend": true,
         "type": "histogram",
         "x": [
          "jaime torres bodet",
          "popotla",
          "popotla",
          "tezozomoc",
          "san juan tlihuaca",
          "san martin xochinahuac",
          "san martin xochinahuac",
          "san juan tlihuaca",
          "el rosario",
          "popotla",
          "san juan tlihuaca",
          "popotla",
          "tlaxpana",
          "el rosario",
          "san martin xochinahuac",
          "el rosario",
          "san juan tlihuaca",
          "san martin xochinahuac",
          "popotla",
          "san martin xochinahuac",
          "san martin xochinahuac",
          "san juan tlihuaca",
          "tlaxpana",
          "tlaxpana",
          "el rosario"
         ],
         "xaxis": "x",
         "yaxis": "y"
        },
        {
         "alignmentgroup": "True",
         "bingroup": "x",
         "hovertemplate": "categoria=industria<br>colonia=%{x}<br>count=%{y}<extra></extra>",
         "legendgroup": "industria",
         "marker": {
          "color": "#EF553B"
         },
         "name": "industria",
         "offsetgroup": "industria",
         "orientation": "v",
         "showlegend": true,
         "type": "histogram",
         "x": [
          "el rosario",
          "olivar del conde 1a seccin",
          "popotla",
          "popotla",
          "tlaxpana",
          "el rosario",
          "san juan tlihuaca",
          "popotla",
          "san martin xochinahuac",
          "tlaxpana",
          "popotla",
          "tezozomoc",
          "tezozomoc",
          "tlaxpana",
          "tlaxpana",
          "el rosario",
          "el rosario",
          "tezozomoc",
          "popotla",
          "san juan tlihuaca",
          "san juan tlihuaca",
          "san juan tlihuaca",
          "popotla",
          "san juan tlihuaca",
          "el rosario",
          "san martin xochinahuac",
          "tlaxpana",
          "san martin xochinahuac",
          "san martin xochinahuac",
          "el rosario",
          "tlaxpana",
          "el rosario",
          "el rosario",
          "tezozomoc",
          "san juan tlihuaca",
          "san martin xochinahuac",
          "popotla",
          "popotla",
          "san martin xochinahuac",
          "san juan tlihuaca",
          "san martin xochinahuac",
          "el rosario",
          "el rosario",
          "tlaxpana",
          "popotla"
         ],
         "xaxis": "x",
         "yaxis": "y"
        },
        {
         "alignmentgroup": "True",
         "bingroup": "x",
         "hovertemplate": "categoria=restaurantes<br>colonia=%{x}<br>count=%{y}<extra></extra>",
         "legendgroup": "restaurantes",
         "marker": {
          "color": "#00cc96"
         },
         "name": "restaurantes",
         "offsetgroup": "restaurantes",
         "orientation": "v",
         "showlegend": true,
         "type": "histogram",
         "x": [
          "tezozomoc",
          "tlaxpana",
          "popotla",
          "tlaxpana",
          "tlaxpana",
          "tlaxpana",
          "popotla",
          "tlaxpana",
          "tlaxpana",
          "tlaxpana",
          "popotla",
          "popotla",
          "popotla",
          "san martin xochinahuac",
          "san martin xochinahuac",
          "san juan tlihuaca",
          "el rosario",
          "el rosario",
          "san juan tlihuaca",
          "san juan tlihuaca",
          "san martin xochinahuac",
          "tezozomoc",
          "popotla",
          "san martin xochinahuac",
          "san juan tlihuaca",
          "popotla",
          "el rosario",
          "san martin xochinahuac",
          "tezozomoc",
          "san juan tlihuaca",
          "tlaxpana",
          "popotla",
          "tlaxpana",
          "el rosario",
          "san juan tlihuaca",
          "popotla",
          "tlaxpana",
          "el rosario",
          "tlaxpana",
          "tlaxpana",
          "tlaxpana",
          "tlaxpana",
          "san martin xochinahuac",
          "san martin xochinahuac",
          "el rosario",
          "tezozomoc",
          "tezozomoc",
          "popotla",
          "tlaxpana",
          "san juan tlihuaca",
          "tlaxpana",
          "popotla",
          "popotla",
          "san martin xochinahuac",
          "el rosario",
          "san martin xochinahuac",
          "el rosario",
          "el rosario",
          "tlaxpana",
          "san martin xochinahuac",
          "tlaxpana",
          "tlaxpana",
          "tlaxpana",
          "tlaxpana",
          "tlaxpana",
          "tlaxpana",
          "popotla",
          "popotla",
          "tezozomoc",
          "popotla",
          "popotla",
          "san juan tlihuaca",
          "san juan tlihuaca"
         ],
         "xaxis": "x",
         "yaxis": "y"
        },
        {
         "alignmentgroup": "True",
         "bingroup": "x",
         "hovertemplate": "categoria=fotografia<br>colonia=%{x}<br>count=%{y}<extra></extra>",
         "legendgroup": "fotografia",
         "marker": {
          "color": "#ab63fa"
         },
         "name": "fotografia",
         "offsetgroup": "fotografia",
         "orientation": "v",
         "showlegend": true,
         "type": "histogram",
         "x": [
          "doctores",
          "el rosario",
          "popotla",
          "san juan tlihuaca"
         ],
         "xaxis": "x",
         "yaxis": "y"
        },
        {
         "alignmentgroup": "True",
         "bingroup": "x",
         "hovertemplate": "categoria=ventaproductos<br>colonia=%{x}<br>count=%{y}<extra></extra>",
         "legendgroup": "ventaproductos",
         "marker": {
          "color": "#FFA15A"
         },
         "name": "ventaproductos",
         "offsetgroup": "ventaproductos",
         "orientation": "v",
         "showlegend": true,
         "type": "histogram",
         "x": [
          "tezozomoc",
          "escandon",
          "escandon",
          "escandon",
          "escandon",
          "escandon",
          "san juan tlihuaca",
          "tlaxpana",
          "el rosario",
          "popotla",
          "tlaxpana",
          "el rosario",
          "tlaxpana",
          "san juan tlihuaca",
          "tlaxpana",
          "el rosario",
          "san juan tlihuaca",
          "popotla",
          "tezozomoc",
          "el rosario",
          "san juan tlihuaca",
          "el rosario",
          "san juan tlihuaca",
          "tlaxpana",
          "popotla",
          "popotla",
          "san juan tlihuaca",
          "santa maria nativitas"
         ],
         "xaxis": "x",
         "yaxis": "y"
        },
        {
         "alignmentgroup": "True",
         "bingroup": "x",
         "hovertemplate": "categoria=comida<br>colonia=%{x}<br>count=%{y}<extra></extra>",
         "legendgroup": "comida",
         "marker": {
          "color": "#19d3f3"
         },
         "name": "comida",
         "offsetgroup": "comida",
         "orientation": "v",
         "showlegend": true,
         "type": "histogram",
         "x": [
          "el rosario",
          "tlaxpana",
          "tlaxpana",
          "tlaxpana",
          "popotla",
          "tezozomoc",
          "san martin xochinahuac",
          "el rosario",
          "san martin xochinahuac",
          "san juan tlihuaca",
          "tlaxpana",
          "el rosario",
          "el rosario",
          "tezozomoc",
          "el rosario",
          "san juan tlihuaca",
          "tezozomoc",
          "tezozomoc",
          "tlaxpana",
          "popotla",
          "tezozomoc",
          "tezozomoc",
          "san juan tlihuaca",
          "tezozomoc",
          "san martin xochinahuac",
          "el rosario",
          "el rosario",
          "popotla",
          "tezozomoc",
          "tlaxpana",
          "san juan tlihuaca",
          "san juan tlihuaca",
          "san juan tlihuaca",
          "tlaxpana",
          "tlaxpana",
          "tlaxpana",
          "tlaxpana",
          "tlaxpana",
          "tlaxpana",
          "tlaxpana",
          "tlaxpana",
          "tlaxpana",
          "tlaxpana",
          "tlaxpana",
          "tlaxpana",
          "tlaxpana",
          "tlaxpana",
          "popotla",
          "san juan tlihuaca",
          "san juan tlihuaca",
          "san juan tlihuaca",
          "popotla",
          "popotla",
          "popotla",
          "popotla",
          "tlaxpana",
          "tlaxpana"
         ],
         "xaxis": "x",
         "yaxis": "y"
        },
        {
         "alignmentgroup": "True",
         "bingroup": "x",
         "hovertemplate": "categoria=ropa<br>colonia=%{x}<br>count=%{y}<extra></extra>",
         "legendgroup": "ropa",
         "marker": {
          "color": "#FF6692"
         },
         "name": "ropa",
         "offsetgroup": "ropa",
         "orientation": "v",
         "showlegend": true,
         "type": "histogram",
         "x": [
          "el rosario",
          "campamento 2 de octubre",
          "san juan tlihuaca",
          "san juan tlihuaca",
          "san martin xochinahuac",
          "tlaxpana",
          "el rosario",
          "el rosario",
          "popotla",
          "tezozomoc",
          "tezozomoc",
          "tezozomoc",
          "popotla",
          "el rosario",
          "tlaxpana",
          "tlaxpana",
          "san juan tlihuaca",
          "el rosario",
          "san juan tlihuaca",
          "tlaxpana",
          "tlaxpana",
          "popotla",
          "tlaxpana",
          "tlaxpana",
          "xaltocan"
         ],
         "xaxis": "x",
         "yaxis": "y"
        },
        {
         "alignmentgroup": "True",
         "bingroup": "x",
         "hovertemplate": "categoria=papeleria<br>colonia=%{x}<br>count=%{y}<extra></extra>",
         "legendgroup": "papeleria",
         "marker": {
          "color": "#B6E880"
         },
         "name": "papeleria",
         "offsetgroup": "papeleria",
         "orientation": "v",
         "showlegend": true,
         "type": "histogram",
         "x": [
          "escandon",
          "el rosario",
          "el rosario",
          "popotla",
          "san martin xochinahuac",
          "san martin xochinahuac",
          "san juan tlihuaca",
          "san juan tlihuaca",
          "tlaxpana",
          "tezozomoc",
          "el rosario",
          "san juan tlihuaca",
          "tezozomoc"
         ],
         "xaxis": "x",
         "yaxis": "y"
        },
        {
         "alignmentgroup": "True",
         "bingroup": "x",
         "hovertemplate": "categoria=belleza<br>colonia=%{x}<br>count=%{y}<extra></extra>",
         "legendgroup": "belleza",
         "marker": {
          "color": "#FF97FF"
         },
         "name": "belleza",
         "offsetgroup": "belleza",
         "orientation": "v",
         "showlegend": true,
         "type": "histogram",
         "x": [
          "san martin xochinahuac",
          "popotla",
          "popotla",
          "el rosario",
          "popotla",
          "san martin xochinahuac",
          "popotla",
          "tezozomoc",
          "el rosario",
          "san martin xochinahuac",
          "san juan tlihuaca",
          "el rosario",
          "san martin xochinahuac",
          "popotla",
          "tlaxpana",
          "tezozomoc",
          "san martin xochinahuac",
          "popotla",
          "san juan tlihuaca",
          "el rosario",
          "tezozomoc",
          "el rosario",
          "san martin xochinahuac",
          "san martin xochinahuac",
          "el rosario",
          "tlaxpana",
          "san juan tlihuaca",
          "popotla",
          "san juan tlihuaca",
          "san juan tlihuaca"
         ],
         "xaxis": "x",
         "yaxis": "y"
        },
        {
         "alignmentgroup": "True",
         "bingroup": "x",
         "hovertemplate": "categoria=electronicos<br>colonia=%{x}<br>count=%{y}<extra></extra>",
         "legendgroup": "electronicos",
         "marker": {
          "color": "#FECB52"
         },
         "name": "electronicos",
         "offsetgroup": "electronicos",
         "orientation": "v",
         "showlegend": true,
         "type": "histogram",
         "x": [
          "el rosario",
          "tlaxpana",
          "tlaxpana",
          "tezozomoc",
          "san juan tlihuaca",
          "tezozomoc",
          "san martin xochinahuac",
          "popotla",
          "san martin xochinahuac",
          "tlaxpana",
          "popotla",
          "san juan tlihuaca",
          "tlaxpana"
         ],
         "xaxis": "x",
         "yaxis": "y"
        },
        {
         "alignmentgroup": "True",
         "bingroup": "x",
         "hovertemplate": "categoria=musica<br>colonia=%{x}<br>count=%{y}<extra></extra>",
         "legendgroup": "musica",
         "marker": {
          "color": "#636efa"
         },
         "name": "musica",
         "offsetgroup": "musica",
         "orientation": "v",
         "showlegend": true,
         "type": "histogram",
         "x": [
          "popotla",
          "tlaxpana",
          "san martin xochinahuac"
         ],
         "xaxis": "x",
         "yaxis": "y"
        },
        {
         "alignmentgroup": "True",
         "bingroup": "x",
         "hovertemplate": "categoria=salud<br>colonia=%{x}<br>count=%{y}<extra></extra>",
         "legendgroup": "salud",
         "marker": {
          "color": "#EF553B"
         },
         "name": "salud",
         "offsetgroup": "salud",
         "orientation": "v",
         "showlegend": true,
         "type": "histogram",
         "x": [
          "el rosario",
          "el rosario",
          "san juan tlihuaca",
          "el rosario",
          "san juan tlihuaca",
          "tezozomoc",
          "tlaxpana",
          "san martin xochinahuac",
          "san martin xochinahuac",
          "san juan tlihuaca",
          "san juan tlihuaca"
         ],
         "xaxis": "x",
         "yaxis": "y"
        },
        {
         "alignmentgroup": "True",
         "bingroup": "x",
         "hovertemplate": "categoria=mascotas<br>colonia=%{x}<br>count=%{y}<extra></extra>",
         "legendgroup": "mascotas",
         "marker": {
          "color": "#00cc96"
         },
         "name": "mascotas",
         "offsetgroup": "mascotas",
         "orientation": "v",
         "showlegend": true,
         "type": "histogram",
         "x": [
          "el rosario",
          "popotla",
          "popotla",
          "el rosario",
          "popotla"
         ],
         "xaxis": "x",
         "yaxis": "y"
        }
       ],
       "layout": {
        "barmode": "relative",
        "legend": {
         "title": {
          "text": "categoria"
         },
         "tracegroupgap": 0
        },
        "margin": {
         "t": 60
        },
        "template": {
         "data": {
          "bar": [
           {
            "error_x": {
             "color": "#2a3f5f"
            },
            "error_y": {
             "color": "#2a3f5f"
            },
            "marker": {
             "line": {
              "color": "#E5ECF6",
              "width": 0.5
             }
            },
            "type": "bar"
           }
          ],
          "barpolar": [
           {
            "marker": {
             "line": {
              "color": "#E5ECF6",
              "width": 0.5
             }
            },
            "type": "barpolar"
           }
          ],
          "carpet": [
           {
            "aaxis": {
             "endlinecolor": "#2a3f5f",
             "gridcolor": "white",
             "linecolor": "white",
             "minorgridcolor": "white",
             "startlinecolor": "#2a3f5f"
            },
            "baxis": {
             "endlinecolor": "#2a3f5f",
             "gridcolor": "white",
             "linecolor": "white",
             "minorgridcolor": "white",
             "startlinecolor": "#2a3f5f"
            },
            "type": "carpet"
           }
          ],
          "choropleth": [
           {
            "colorbar": {
             "outlinewidth": 0,
             "ticks": ""
            },
            "type": "choropleth"
           }
          ],
          "contour": [
           {
            "colorbar": {
             "outlinewidth": 0,
             "ticks": ""
            },
            "colorscale": [
             [
              0,
              "#0d0887"
             ],
             [
              0.1111111111111111,
              "#46039f"
             ],
             [
              0.2222222222222222,
              "#7201a8"
             ],
             [
              0.3333333333333333,
              "#9c179e"
             ],
             [
              0.4444444444444444,
              "#bd3786"
             ],
             [
              0.5555555555555556,
              "#d8576b"
             ],
             [
              0.6666666666666666,
              "#ed7953"
             ],
             [
              0.7777777777777778,
              "#fb9f3a"
             ],
             [
              0.8888888888888888,
              "#fdca26"
             ],
             [
              1,
              "#f0f921"
             ]
            ],
            "type": "contour"
           }
          ],
          "contourcarpet": [
           {
            "colorbar": {
             "outlinewidth": 0,
             "ticks": ""
            },
            "type": "contourcarpet"
           }
          ],
          "heatmap": [
           {
            "colorbar": {
             "outlinewidth": 0,
             "ticks": ""
            },
            "colorscale": [
             [
              0,
              "#0d0887"
             ],
             [
              0.1111111111111111,
              "#46039f"
             ],
             [
              0.2222222222222222,
              "#7201a8"
             ],
             [
              0.3333333333333333,
              "#9c179e"
             ],
             [
              0.4444444444444444,
              "#bd3786"
             ],
             [
              0.5555555555555556,
              "#d8576b"
             ],
             [
              0.6666666666666666,
              "#ed7953"
             ],
             [
              0.7777777777777778,
              "#fb9f3a"
             ],
             [
              0.8888888888888888,
              "#fdca26"
             ],
             [
              1,
              "#f0f921"
             ]
            ],
            "type": "heatmap"
           }
          ],
          "heatmapgl": [
           {
            "colorbar": {
             "outlinewidth": 0,
             "ticks": ""
            },
            "colorscale": [
             [
              0,
              "#0d0887"
             ],
             [
              0.1111111111111111,
              "#46039f"
             ],
             [
              0.2222222222222222,
              "#7201a8"
             ],
             [
              0.3333333333333333,
              "#9c179e"
             ],
             [
              0.4444444444444444,
              "#bd3786"
             ],
             [
              0.5555555555555556,
              "#d8576b"
             ],
             [
              0.6666666666666666,
              "#ed7953"
             ],
             [
              0.7777777777777778,
              "#fb9f3a"
             ],
             [
              0.8888888888888888,
              "#fdca26"
             ],
             [
              1,
              "#f0f921"
             ]
            ],
            "type": "heatmapgl"
           }
          ],
          "histogram": [
           {
            "marker": {
             "colorbar": {
              "outlinewidth": 0,
              "ticks": ""
             }
            },
            "type": "histogram"
           }
          ],
          "histogram2d": [
           {
            "colorbar": {
             "outlinewidth": 0,
             "ticks": ""
            },
            "colorscale": [
             [
              0,
              "#0d0887"
             ],
             [
              0.1111111111111111,
              "#46039f"
             ],
             [
              0.2222222222222222,
              "#7201a8"
             ],
             [
              0.3333333333333333,
              "#9c179e"
             ],
             [
              0.4444444444444444,
              "#bd3786"
             ],
             [
              0.5555555555555556,
              "#d8576b"
             ],
             [
              0.6666666666666666,
              "#ed7953"
             ],
             [
              0.7777777777777778,
              "#fb9f3a"
             ],
             [
              0.8888888888888888,
              "#fdca26"
             ],
             [
              1,
              "#f0f921"
             ]
            ],
            "type": "histogram2d"
           }
          ],
          "histogram2dcontour": [
           {
            "colorbar": {
             "outlinewidth": 0,
             "ticks": ""
            },
            "colorscale": [
             [
              0,
              "#0d0887"
             ],
             [
              0.1111111111111111,
              "#46039f"
             ],
             [
              0.2222222222222222,
              "#7201a8"
             ],
             [
              0.3333333333333333,
              "#9c179e"
             ],
             [
              0.4444444444444444,
              "#bd3786"
             ],
             [
              0.5555555555555556,
              "#d8576b"
             ],
             [
              0.6666666666666666,
              "#ed7953"
             ],
             [
              0.7777777777777778,
              "#fb9f3a"
             ],
             [
              0.8888888888888888,
              "#fdca26"
             ],
             [
              1,
              "#f0f921"
             ]
            ],
            "type": "histogram2dcontour"
           }
          ],
          "mesh3d": [
           {
            "colorbar": {
             "outlinewidth": 0,
             "ticks": ""
            },
            "type": "mesh3d"
           }
          ],
          "parcoords": [
           {
            "line": {
             "colorbar": {
              "outlinewidth": 0,
              "ticks": ""
             }
            },
            "type": "parcoords"
           }
          ],
          "pie": [
           {
            "automargin": true,
            "type": "pie"
           }
          ],
          "scatter": [
           {
            "marker": {
             "colorbar": {
              "outlinewidth": 0,
              "ticks": ""
             }
            },
            "type": "scatter"
           }
          ],
          "scatter3d": [
           {
            "line": {
             "colorbar": {
              "outlinewidth": 0,
              "ticks": ""
             }
            },
            "marker": {
             "colorbar": {
              "outlinewidth": 0,
              "ticks": ""
             }
            },
            "type": "scatter3d"
           }
          ],
          "scattercarpet": [
           {
            "marker": {
             "colorbar": {
              "outlinewidth": 0,
              "ticks": ""
             }
            },
            "type": "scattercarpet"
           }
          ],
          "scattergeo": [
           {
            "marker": {
             "colorbar": {
              "outlinewidth": 0,
              "ticks": ""
             }
            },
            "type": "scattergeo"
           }
          ],
          "scattergl": [
           {
            "marker": {
             "colorbar": {
              "outlinewidth": 0,
              "ticks": ""
             }
            },
            "type": "scattergl"
           }
          ],
          "scattermapbox": [
           {
            "marker": {
             "colorbar": {
              "outlinewidth": 0,
              "ticks": ""
             }
            },
            "type": "scattermapbox"
           }
          ],
          "scatterpolar": [
           {
            "marker": {
             "colorbar": {
              "outlinewidth": 0,
              "ticks": ""
             }
            },
            "type": "scatterpolar"
           }
          ],
          "scatterpolargl": [
           {
            "marker": {
             "colorbar": {
              "outlinewidth": 0,
              "ticks": ""
             }
            },
            "type": "scatterpolargl"
           }
          ],
          "scatterternary": [
           {
            "marker": {
             "colorbar": {
              "outlinewidth": 0,
              "ticks": ""
             }
            },
            "type": "scatterternary"
           }
          ],
          "surface": [
           {
            "colorbar": {
             "outlinewidth": 0,
             "ticks": ""
            },
            "colorscale": [
             [
              0,
              "#0d0887"
             ],
             [
              0.1111111111111111,
              "#46039f"
             ],
             [
              0.2222222222222222,
              "#7201a8"
             ],
             [
              0.3333333333333333,
              "#9c179e"
             ],
             [
              0.4444444444444444,
              "#bd3786"
             ],
             [
              0.5555555555555556,
              "#d8576b"
             ],
             [
              0.6666666666666666,
              "#ed7953"
             ],
             [
              0.7777777777777778,
              "#fb9f3a"
             ],
             [
              0.8888888888888888,
              "#fdca26"
             ],
             [
              1,
              "#f0f921"
             ]
            ],
            "type": "surface"
           }
          ],
          "table": [
           {
            "cells": {
             "fill": {
              "color": "#EBF0F8"
             },
             "line": {
              "color": "white"
             }
            },
            "header": {
             "fill": {
              "color": "#C8D4E3"
             },
             "line": {
              "color": "white"
             }
            },
            "type": "table"
           }
          ]
         },
         "layout": {
          "annotationdefaults": {
           "arrowcolor": "#2a3f5f",
           "arrowhead": 0,
           "arrowwidth": 1
          },
          "autotypenumbers": "strict",
          "coloraxis": {
           "colorbar": {
            "outlinewidth": 0,
            "ticks": ""
           }
          },
          "colorscale": {
           "diverging": [
            [
             0,
             "#8e0152"
            ],
            [
             0.1,
             "#c51b7d"
            ],
            [
             0.2,
             "#de77ae"
            ],
            [
             0.3,
             "#f1b6da"
            ],
            [
             0.4,
             "#fde0ef"
            ],
            [
             0.5,
             "#f7f7f7"
            ],
            [
             0.6,
             "#e6f5d0"
            ],
            [
             0.7,
             "#b8e186"
            ],
            [
             0.8,
             "#7fbc41"
            ],
            [
             0.9,
             "#4d9221"
            ],
            [
             1,
             "#276419"
            ]
           ],
           "sequential": [
            [
             0,
             "#0d0887"
            ],
            [
             0.1111111111111111,
             "#46039f"
            ],
            [
             0.2222222222222222,
             "#7201a8"
            ],
            [
             0.3333333333333333,
             "#9c179e"
            ],
            [
             0.4444444444444444,
             "#bd3786"
            ],
            [
             0.5555555555555556,
             "#d8576b"
            ],
            [
             0.6666666666666666,
             "#ed7953"
            ],
            [
             0.7777777777777778,
             "#fb9f3a"
            ],
            [
             0.8888888888888888,
             "#fdca26"
            ],
            [
             1,
             "#f0f921"
            ]
           ],
           "sequentialminus": [
            [
             0,
             "#0d0887"
            ],
            [
             0.1111111111111111,
             "#46039f"
            ],
            [
             0.2222222222222222,
             "#7201a8"
            ],
            [
             0.3333333333333333,
             "#9c179e"
            ],
            [
             0.4444444444444444,
             "#bd3786"
            ],
            [
             0.5555555555555556,
             "#d8576b"
            ],
            [
             0.6666666666666666,
             "#ed7953"
            ],
            [
             0.7777777777777778,
             "#fb9f3a"
            ],
            [
             0.8888888888888888,
             "#fdca26"
            ],
            [
             1,
             "#f0f921"
            ]
           ]
          },
          "colorway": [
           "#636efa",
           "#EF553B",
           "#00cc96",
           "#ab63fa",
           "#FFA15A",
           "#19d3f3",
           "#FF6692",
           "#B6E880",
           "#FF97FF",
           "#FECB52"
          ],
          "font": {
           "color": "#2a3f5f"
          },
          "geo": {
           "bgcolor": "white",
           "lakecolor": "white",
           "landcolor": "#E5ECF6",
           "showlakes": true,
           "showland": true,
           "subunitcolor": "white"
          },
          "hoverlabel": {
           "align": "left"
          },
          "hovermode": "closest",
          "mapbox": {
           "style": "light"
          },
          "paper_bgcolor": "white",
          "plot_bgcolor": "#E5ECF6",
          "polar": {
           "angularaxis": {
            "gridcolor": "white",
            "linecolor": "white",
            "ticks": ""
           },
           "bgcolor": "#E5ECF6",
           "radialaxis": {
            "gridcolor": "white",
            "linecolor": "white",
            "ticks": ""
           }
          },
          "scene": {
           "xaxis": {
            "backgroundcolor": "#E5ECF6",
            "gridcolor": "white",
            "gridwidth": 2,
            "linecolor": "white",
            "showbackground": true,
            "ticks": "",
            "zerolinecolor": "white"
           },
           "yaxis": {
            "backgroundcolor": "#E5ECF6",
            "gridcolor": "white",
            "gridwidth": 2,
            "linecolor": "white",
            "showbackground": true,
            "ticks": "",
            "zerolinecolor": "white"
           },
           "zaxis": {
            "backgroundcolor": "#E5ECF6",
            "gridcolor": "white",
            "gridwidth": 2,
            "linecolor": "white",
            "showbackground": true,
            "ticks": "",
            "zerolinecolor": "white"
           }
          },
          "shapedefaults": {
           "line": {
            "color": "#2a3f5f"
           }
          },
          "ternary": {
           "aaxis": {
            "gridcolor": "white",
            "linecolor": "white",
            "ticks": ""
           },
           "baxis": {
            "gridcolor": "white",
            "linecolor": "white",
            "ticks": ""
           },
           "bgcolor": "#E5ECF6",
           "caxis": {
            "gridcolor": "white",
            "linecolor": "white",
            "ticks": ""
           }
          },
          "title": {
           "x": 0.05
          },
          "xaxis": {
           "automargin": true,
           "gridcolor": "white",
           "linecolor": "white",
           "ticks": "",
           "title": {
            "standoff": 15
           },
           "zerolinecolor": "white",
           "zerolinewidth": 2
          },
          "yaxis": {
           "automargin": true,
           "gridcolor": "white",
           "linecolor": "white",
           "ticks": "",
           "title": {
            "standoff": 15
           },
           "zerolinecolor": "white",
           "zerolinewidth": 2
          }
         }
        },
        "title": {
         "text": "Distribución de productos (categoría) en las 13 colonias con mayor ECI"
        },
        "xaxis": {
         "anchor": "y",
         "domain": [
          0,
          1
         ],
         "title": {
          "text": "colonia"
         }
        },
        "yaxis": {
         "anchor": "x",
         "domain": [
          0,
          1
         ],
         "title": {
          "text": "count"
         }
        }
       }
      }
     },
     "metadata": {}
    }
   ],
   "source": [
    "fig = px.histogram(df, x='colonia', color='categoria')\n",
    "fig.update_layout(\n",
    "    title=dict(\n",
    "        text=\"Distribución de productos (categoría) en las 13 colonias con mayor ECI\"\n",
    "    )\n",
    ")\n",
    "fig.show()"
   ]
  },
  {
   "cell_type": "code",
   "execution_count": 8,
   "metadata": {},
   "outputs": [],
   "source": [
    "def view_products_from(colonia, df):\n",
    "    temp = df[df.colonia==colonia]\n",
    "    fig = px.histogram(temp, x='categoria')\n",
    "    fig.update_layout(\n",
    "        title=dict(text=f'Distribución de productos para {colonia.capitalize()}')\n",
    "    )\n",
    "    fig.show()"
   ]
  },
  {
   "cell_type": "code",
   "execution_count": 9,
   "metadata": {},
   "outputs": [
    {
     "output_type": "display_data",
     "data": {
      "application/vnd.plotly.v1+json": {
       "config": {
        "plotlyServerURL": "https://plot.ly"
       },
       "data": [
        {
         "alignmentgroup": "True",
         "bingroup": "x",
         "hovertemplate": "categoria=%{x}<br>count=%{y}<extra></extra>",
         "legendgroup": "",
         "marker": {
          "color": "#636efa"
         },
         "name": "",
         "offsetgroup": "",
         "orientation": "v",
         "showlegend": false,
         "type": "histogram",
         "x": [
          "industria",
          "comida",
          "ropa",
          "industria",
          "electronicos",
          "restaurantes",
          "comida",
          "restaurantes",
          "belleza",
          "papeleria",
          "salud",
          "comida",
          "comida",
          "comida",
          "salud",
          "restaurantes",
          "mascotas",
          "papeleria",
          "ropa",
          "belleza",
          "industria",
          "ropa",
          "belleza",
          "restaurantes",
          "fotografia",
          "ventaproductos",
          "restaurantes",
          "salud",
          "industria",
          "ventaproductos",
          "restaurantes",
          "belleza",
          "arreglosgeneral",
          "ropa",
          "industria",
          "belleza",
          "comida",
          "arreglosgeneral",
          "ventaproductos",
          "industria",
          "arreglosgeneral",
          "restaurantes",
          "industria",
          "restaurantes",
          "restaurantes",
          "industria",
          "comida",
          "ventaproductos",
          "mascotas",
          "industria",
          "belleza",
          "industria",
          "ventaproductos",
          "ropa",
          "papeleria",
          "arreglosgeneral"
         ],
         "xaxis": "x",
         "yaxis": "y"
        }
       ],
       "layout": {
        "barmode": "relative",
        "legend": {
         "tracegroupgap": 0
        },
        "margin": {
         "t": 60
        },
        "template": {
         "data": {
          "bar": [
           {
            "error_x": {
             "color": "#2a3f5f"
            },
            "error_y": {
             "color": "#2a3f5f"
            },
            "marker": {
             "line": {
              "color": "#E5ECF6",
              "width": 0.5
             }
            },
            "type": "bar"
           }
          ],
          "barpolar": [
           {
            "marker": {
             "line": {
              "color": "#E5ECF6",
              "width": 0.5
             }
            },
            "type": "barpolar"
           }
          ],
          "carpet": [
           {
            "aaxis": {
             "endlinecolor": "#2a3f5f",
             "gridcolor": "white",
             "linecolor": "white",
             "minorgridcolor": "white",
             "startlinecolor": "#2a3f5f"
            },
            "baxis": {
             "endlinecolor": "#2a3f5f",
             "gridcolor": "white",
             "linecolor": "white",
             "minorgridcolor": "white",
             "startlinecolor": "#2a3f5f"
            },
            "type": "carpet"
           }
          ],
          "choropleth": [
           {
            "colorbar": {
             "outlinewidth": 0,
             "ticks": ""
            },
            "type": "choropleth"
           }
          ],
          "contour": [
           {
            "colorbar": {
             "outlinewidth": 0,
             "ticks": ""
            },
            "colorscale": [
             [
              0,
              "#0d0887"
             ],
             [
              0.1111111111111111,
              "#46039f"
             ],
             [
              0.2222222222222222,
              "#7201a8"
             ],
             [
              0.3333333333333333,
              "#9c179e"
             ],
             [
              0.4444444444444444,
              "#bd3786"
             ],
             [
              0.5555555555555556,
              "#d8576b"
             ],
             [
              0.6666666666666666,
              "#ed7953"
             ],
             [
              0.7777777777777778,
              "#fb9f3a"
             ],
             [
              0.8888888888888888,
              "#fdca26"
             ],
             [
              1,
              "#f0f921"
             ]
            ],
            "type": "contour"
           }
          ],
          "contourcarpet": [
           {
            "colorbar": {
             "outlinewidth": 0,
             "ticks": ""
            },
            "type": "contourcarpet"
           }
          ],
          "heatmap": [
           {
            "colorbar": {
             "outlinewidth": 0,
             "ticks": ""
            },
            "colorscale": [
             [
              0,
              "#0d0887"
             ],
             [
              0.1111111111111111,
              "#46039f"
             ],
             [
              0.2222222222222222,
              "#7201a8"
             ],
             [
              0.3333333333333333,
              "#9c179e"
             ],
             [
              0.4444444444444444,
              "#bd3786"
             ],
             [
              0.5555555555555556,
              "#d8576b"
             ],
             [
              0.6666666666666666,
              "#ed7953"
             ],
             [
              0.7777777777777778,
              "#fb9f3a"
             ],
             [
              0.8888888888888888,
              "#fdca26"
             ],
             [
              1,
              "#f0f921"
             ]
            ],
            "type": "heatmap"
           }
          ],
          "heatmapgl": [
           {
            "colorbar": {
             "outlinewidth": 0,
             "ticks": ""
            },
            "colorscale": [
             [
              0,
              "#0d0887"
             ],
             [
              0.1111111111111111,
              "#46039f"
             ],
             [
              0.2222222222222222,
              "#7201a8"
             ],
             [
              0.3333333333333333,
              "#9c179e"
             ],
             [
              0.4444444444444444,
              "#bd3786"
             ],
             [
              0.5555555555555556,
              "#d8576b"
             ],
             [
              0.6666666666666666,
              "#ed7953"
             ],
             [
              0.7777777777777778,
              "#fb9f3a"
             ],
             [
              0.8888888888888888,
              "#fdca26"
             ],
             [
              1,
              "#f0f921"
             ]
            ],
            "type": "heatmapgl"
           }
          ],
          "histogram": [
           {
            "marker": {
             "colorbar": {
              "outlinewidth": 0,
              "ticks": ""
             }
            },
            "type": "histogram"
           }
          ],
          "histogram2d": [
           {
            "colorbar": {
             "outlinewidth": 0,
             "ticks": ""
            },
            "colorscale": [
             [
              0,
              "#0d0887"
             ],
             [
              0.1111111111111111,
              "#46039f"
             ],
             [
              0.2222222222222222,
              "#7201a8"
             ],
             [
              0.3333333333333333,
              "#9c179e"
             ],
             [
              0.4444444444444444,
              "#bd3786"
             ],
             [
              0.5555555555555556,
              "#d8576b"
             ],
             [
              0.6666666666666666,
              "#ed7953"
             ],
             [
              0.7777777777777778,
              "#fb9f3a"
             ],
             [
              0.8888888888888888,
              "#fdca26"
             ],
             [
              1,
              "#f0f921"
             ]
            ],
            "type": "histogram2d"
           }
          ],
          "histogram2dcontour": [
           {
            "colorbar": {
             "outlinewidth": 0,
             "ticks": ""
            },
            "colorscale": [
             [
              0,
              "#0d0887"
             ],
             [
              0.1111111111111111,
              "#46039f"
             ],
             [
              0.2222222222222222,
              "#7201a8"
             ],
             [
              0.3333333333333333,
              "#9c179e"
             ],
             [
              0.4444444444444444,
              "#bd3786"
             ],
             [
              0.5555555555555556,
              "#d8576b"
             ],
             [
              0.6666666666666666,
              "#ed7953"
             ],
             [
              0.7777777777777778,
              "#fb9f3a"
             ],
             [
              0.8888888888888888,
              "#fdca26"
             ],
             [
              1,
              "#f0f921"
             ]
            ],
            "type": "histogram2dcontour"
           }
          ],
          "mesh3d": [
           {
            "colorbar": {
             "outlinewidth": 0,
             "ticks": ""
            },
            "type": "mesh3d"
           }
          ],
          "parcoords": [
           {
            "line": {
             "colorbar": {
              "outlinewidth": 0,
              "ticks": ""
             }
            },
            "type": "parcoords"
           }
          ],
          "pie": [
           {
            "automargin": true,
            "type": "pie"
           }
          ],
          "scatter": [
           {
            "marker": {
             "colorbar": {
              "outlinewidth": 0,
              "ticks": ""
             }
            },
            "type": "scatter"
           }
          ],
          "scatter3d": [
           {
            "line": {
             "colorbar": {
              "outlinewidth": 0,
              "ticks": ""
             }
            },
            "marker": {
             "colorbar": {
              "outlinewidth": 0,
              "ticks": ""
             }
            },
            "type": "scatter3d"
           }
          ],
          "scattercarpet": [
           {
            "marker": {
             "colorbar": {
              "outlinewidth": 0,
              "ticks": ""
             }
            },
            "type": "scattercarpet"
           }
          ],
          "scattergeo": [
           {
            "marker": {
             "colorbar": {
              "outlinewidth": 0,
              "ticks": ""
             }
            },
            "type": "scattergeo"
           }
          ],
          "scattergl": [
           {
            "marker": {
             "colorbar": {
              "outlinewidth": 0,
              "ticks": ""
             }
            },
            "type": "scattergl"
           }
          ],
          "scattermapbox": [
           {
            "marker": {
             "colorbar": {
              "outlinewidth": 0,
              "ticks": ""
             }
            },
            "type": "scattermapbox"
           }
          ],
          "scatterpolar": [
           {
            "marker": {
             "colorbar": {
              "outlinewidth": 0,
              "ticks": ""
             }
            },
            "type": "scatterpolar"
           }
          ],
          "scatterpolargl": [
           {
            "marker": {
             "colorbar": {
              "outlinewidth": 0,
              "ticks": ""
             }
            },
            "type": "scatterpolargl"
           }
          ],
          "scatterternary": [
           {
            "marker": {
             "colorbar": {
              "outlinewidth": 0,
              "ticks": ""
             }
            },
            "type": "scatterternary"
           }
          ],
          "surface": [
           {
            "colorbar": {
             "outlinewidth": 0,
             "ticks": ""
            },
            "colorscale": [
             [
              0,
              "#0d0887"
             ],
             [
              0.1111111111111111,
              "#46039f"
             ],
             [
              0.2222222222222222,
              "#7201a8"
             ],
             [
              0.3333333333333333,
              "#9c179e"
             ],
             [
              0.4444444444444444,
              "#bd3786"
             ],
             [
              0.5555555555555556,
              "#d8576b"
             ],
             [
              0.6666666666666666,
              "#ed7953"
             ],
             [
              0.7777777777777778,
              "#fb9f3a"
             ],
             [
              0.8888888888888888,
              "#fdca26"
             ],
             [
              1,
              "#f0f921"
             ]
            ],
            "type": "surface"
           }
          ],
          "table": [
           {
            "cells": {
             "fill": {
              "color": "#EBF0F8"
             },
             "line": {
              "color": "white"
             }
            },
            "header": {
             "fill": {
              "color": "#C8D4E3"
             },
             "line": {
              "color": "white"
             }
            },
            "type": "table"
           }
          ]
         },
         "layout": {
          "annotationdefaults": {
           "arrowcolor": "#2a3f5f",
           "arrowhead": 0,
           "arrowwidth": 1
          },
          "autotypenumbers": "strict",
          "coloraxis": {
           "colorbar": {
            "outlinewidth": 0,
            "ticks": ""
           }
          },
          "colorscale": {
           "diverging": [
            [
             0,
             "#8e0152"
            ],
            [
             0.1,
             "#c51b7d"
            ],
            [
             0.2,
             "#de77ae"
            ],
            [
             0.3,
             "#f1b6da"
            ],
            [
             0.4,
             "#fde0ef"
            ],
            [
             0.5,
             "#f7f7f7"
            ],
            [
             0.6,
             "#e6f5d0"
            ],
            [
             0.7,
             "#b8e186"
            ],
            [
             0.8,
             "#7fbc41"
            ],
            [
             0.9,
             "#4d9221"
            ],
            [
             1,
             "#276419"
            ]
           ],
           "sequential": [
            [
             0,
             "#0d0887"
            ],
            [
             0.1111111111111111,
             "#46039f"
            ],
            [
             0.2222222222222222,
             "#7201a8"
            ],
            [
             0.3333333333333333,
             "#9c179e"
            ],
            [
             0.4444444444444444,
             "#bd3786"
            ],
            [
             0.5555555555555556,
             "#d8576b"
            ],
            [
             0.6666666666666666,
             "#ed7953"
            ],
            [
             0.7777777777777778,
             "#fb9f3a"
            ],
            [
             0.8888888888888888,
             "#fdca26"
            ],
            [
             1,
             "#f0f921"
            ]
           ],
           "sequentialminus": [
            [
             0,
             "#0d0887"
            ],
            [
             0.1111111111111111,
             "#46039f"
            ],
            [
             0.2222222222222222,
             "#7201a8"
            ],
            [
             0.3333333333333333,
             "#9c179e"
            ],
            [
             0.4444444444444444,
             "#bd3786"
            ],
            [
             0.5555555555555556,
             "#d8576b"
            ],
            [
             0.6666666666666666,
             "#ed7953"
            ],
            [
             0.7777777777777778,
             "#fb9f3a"
            ],
            [
             0.8888888888888888,
             "#fdca26"
            ],
            [
             1,
             "#f0f921"
            ]
           ]
          },
          "colorway": [
           "#636efa",
           "#EF553B",
           "#00cc96",
           "#ab63fa",
           "#FFA15A",
           "#19d3f3",
           "#FF6692",
           "#B6E880",
           "#FF97FF",
           "#FECB52"
          ],
          "font": {
           "color": "#2a3f5f"
          },
          "geo": {
           "bgcolor": "white",
           "lakecolor": "white",
           "landcolor": "#E5ECF6",
           "showlakes": true,
           "showland": true,
           "subunitcolor": "white"
          },
          "hoverlabel": {
           "align": "left"
          },
          "hovermode": "closest",
          "mapbox": {
           "style": "light"
          },
          "paper_bgcolor": "white",
          "plot_bgcolor": "#E5ECF6",
          "polar": {
           "angularaxis": {
            "gridcolor": "white",
            "linecolor": "white",
            "ticks": ""
           },
           "bgcolor": "#E5ECF6",
           "radialaxis": {
            "gridcolor": "white",
            "linecolor": "white",
            "ticks": ""
           }
          },
          "scene": {
           "xaxis": {
            "backgroundcolor": "#E5ECF6",
            "gridcolor": "white",
            "gridwidth": 2,
            "linecolor": "white",
            "showbackground": true,
            "ticks": "",
            "zerolinecolor": "white"
           },
           "yaxis": {
            "backgroundcolor": "#E5ECF6",
            "gridcolor": "white",
            "gridwidth": 2,
            "linecolor": "white",
            "showbackground": true,
            "ticks": "",
            "zerolinecolor": "white"
           },
           "zaxis": {
            "backgroundcolor": "#E5ECF6",
            "gridcolor": "white",
            "gridwidth": 2,
            "linecolor": "white",
            "showbackground": true,
            "ticks": "",
            "zerolinecolor": "white"
           }
          },
          "shapedefaults": {
           "line": {
            "color": "#2a3f5f"
           }
          },
          "ternary": {
           "aaxis": {
            "gridcolor": "white",
            "linecolor": "white",
            "ticks": ""
           },
           "baxis": {
            "gridcolor": "white",
            "linecolor": "white",
            "ticks": ""
           },
           "bgcolor": "#E5ECF6",
           "caxis": {
            "gridcolor": "white",
            "linecolor": "white",
            "ticks": ""
           }
          },
          "title": {
           "x": 0.05
          },
          "xaxis": {
           "automargin": true,
           "gridcolor": "white",
           "linecolor": "white",
           "ticks": "",
           "title": {
            "standoff": 15
           },
           "zerolinecolor": "white",
           "zerolinewidth": 2
          },
          "yaxis": {
           "automargin": true,
           "gridcolor": "white",
           "linecolor": "white",
           "ticks": "",
           "title": {
            "standoff": 15
           },
           "zerolinecolor": "white",
           "zerolinewidth": 2
          }
         }
        },
        "title": {
         "text": "Distribución de productos para El rosario"
        },
        "xaxis": {
         "anchor": "y",
         "domain": [
          0,
          1
         ],
         "title": {
          "text": "categoria"
         }
        },
        "yaxis": {
         "anchor": "x",
         "domain": [
          0,
          1
         ],
         "title": {
          "text": "count"
         }
        }
       }
      }
     },
     "metadata": {}
    }
   ],
   "source": [
    "view_products_from('el rosario', df)"
   ]
  },
  {
   "cell_type": "code",
   "execution_count": 10,
   "metadata": {},
   "outputs": [
    {
     "output_type": "display_data",
     "data": {
      "application/vnd.plotly.v1+json": {
       "config": {
        "plotlyServerURL": "https://plot.ly"
       },
       "data": [
        {
         "alignmentgroup": "True",
         "bingroup": "x",
         "hovertemplate": "categoria=%{x}<br>count=%{y}<extra></extra>",
         "legendgroup": "",
         "marker": {
          "color": "#636efa"
         },
         "name": "",
         "offsetgroup": "",
         "orientation": "v",
         "showlegend": false,
         "type": "histogram",
         "x": [
          "arreglosgeneral",
          "restaurantes",
          "arreglosgeneral",
          "restaurantes",
          "restaurantes",
          "restaurantes",
          "restaurantes",
          "industria",
          "industria",
          "comida",
          "belleza",
          "industria",
          "musica",
          "industria",
          "belleza",
          "belleza",
          "restaurantes",
          "restaurantes",
          "belleza",
          "restaurantes",
          "papeleria",
          "belleza",
          "restaurantes",
          "electronicos",
          "ventaproductos",
          "ropa",
          "comida",
          "belleza",
          "industria",
          "electronicos",
          "arreglosgeneral",
          "restaurantes",
          "industria",
          "ropa",
          "arreglosgeneral",
          "mascotas",
          "restaurantes",
          "restaurantes",
          "mascotas",
          "ventaproductos",
          "comida",
          "arreglosgeneral",
          "industria",
          "industria",
          "fotografia",
          "ropa",
          "restaurantes",
          "ventaproductos",
          "comida",
          "restaurantes",
          "ventaproductos",
          "restaurantes",
          "belleza",
          "restaurantes",
          "industria",
          "mascotas",
          "comida",
          "comida",
          "comida",
          "comida"
         ],
         "xaxis": "x",
         "yaxis": "y"
        }
       ],
       "layout": {
        "barmode": "relative",
        "legend": {
         "tracegroupgap": 0
        },
        "margin": {
         "t": 60
        },
        "template": {
         "data": {
          "bar": [
           {
            "error_x": {
             "color": "#2a3f5f"
            },
            "error_y": {
             "color": "#2a3f5f"
            },
            "marker": {
             "line": {
              "color": "#E5ECF6",
              "width": 0.5
             }
            },
            "type": "bar"
           }
          ],
          "barpolar": [
           {
            "marker": {
             "line": {
              "color": "#E5ECF6",
              "width": 0.5
             }
            },
            "type": "barpolar"
           }
          ],
          "carpet": [
           {
            "aaxis": {
             "endlinecolor": "#2a3f5f",
             "gridcolor": "white",
             "linecolor": "white",
             "minorgridcolor": "white",
             "startlinecolor": "#2a3f5f"
            },
            "baxis": {
             "endlinecolor": "#2a3f5f",
             "gridcolor": "white",
             "linecolor": "white",
             "minorgridcolor": "white",
             "startlinecolor": "#2a3f5f"
            },
            "type": "carpet"
           }
          ],
          "choropleth": [
           {
            "colorbar": {
             "outlinewidth": 0,
             "ticks": ""
            },
            "type": "choropleth"
           }
          ],
          "contour": [
           {
            "colorbar": {
             "outlinewidth": 0,
             "ticks": ""
            },
            "colorscale": [
             [
              0,
              "#0d0887"
             ],
             [
              0.1111111111111111,
              "#46039f"
             ],
             [
              0.2222222222222222,
              "#7201a8"
             ],
             [
              0.3333333333333333,
              "#9c179e"
             ],
             [
              0.4444444444444444,
              "#bd3786"
             ],
             [
              0.5555555555555556,
              "#d8576b"
             ],
             [
              0.6666666666666666,
              "#ed7953"
             ],
             [
              0.7777777777777778,
              "#fb9f3a"
             ],
             [
              0.8888888888888888,
              "#fdca26"
             ],
             [
              1,
              "#f0f921"
             ]
            ],
            "type": "contour"
           }
          ],
          "contourcarpet": [
           {
            "colorbar": {
             "outlinewidth": 0,
             "ticks": ""
            },
            "type": "contourcarpet"
           }
          ],
          "heatmap": [
           {
            "colorbar": {
             "outlinewidth": 0,
             "ticks": ""
            },
            "colorscale": [
             [
              0,
              "#0d0887"
             ],
             [
              0.1111111111111111,
              "#46039f"
             ],
             [
              0.2222222222222222,
              "#7201a8"
             ],
             [
              0.3333333333333333,
              "#9c179e"
             ],
             [
              0.4444444444444444,
              "#bd3786"
             ],
             [
              0.5555555555555556,
              "#d8576b"
             ],
             [
              0.6666666666666666,
              "#ed7953"
             ],
             [
              0.7777777777777778,
              "#fb9f3a"
             ],
             [
              0.8888888888888888,
              "#fdca26"
             ],
             [
              1,
              "#f0f921"
             ]
            ],
            "type": "heatmap"
           }
          ],
          "heatmapgl": [
           {
            "colorbar": {
             "outlinewidth": 0,
             "ticks": ""
            },
            "colorscale": [
             [
              0,
              "#0d0887"
             ],
             [
              0.1111111111111111,
              "#46039f"
             ],
             [
              0.2222222222222222,
              "#7201a8"
             ],
             [
              0.3333333333333333,
              "#9c179e"
             ],
             [
              0.4444444444444444,
              "#bd3786"
             ],
             [
              0.5555555555555556,
              "#d8576b"
             ],
             [
              0.6666666666666666,
              "#ed7953"
             ],
             [
              0.7777777777777778,
              "#fb9f3a"
             ],
             [
              0.8888888888888888,
              "#fdca26"
             ],
             [
              1,
              "#f0f921"
             ]
            ],
            "type": "heatmapgl"
           }
          ],
          "histogram": [
           {
            "marker": {
             "colorbar": {
              "outlinewidth": 0,
              "ticks": ""
             }
            },
            "type": "histogram"
           }
          ],
          "histogram2d": [
           {
            "colorbar": {
             "outlinewidth": 0,
             "ticks": ""
            },
            "colorscale": [
             [
              0,
              "#0d0887"
             ],
             [
              0.1111111111111111,
              "#46039f"
             ],
             [
              0.2222222222222222,
              "#7201a8"
             ],
             [
              0.3333333333333333,
              "#9c179e"
             ],
             [
              0.4444444444444444,
              "#bd3786"
             ],
             [
              0.5555555555555556,
              "#d8576b"
             ],
             [
              0.6666666666666666,
              "#ed7953"
             ],
             [
              0.7777777777777778,
              "#fb9f3a"
             ],
             [
              0.8888888888888888,
              "#fdca26"
             ],
             [
              1,
              "#f0f921"
             ]
            ],
            "type": "histogram2d"
           }
          ],
          "histogram2dcontour": [
           {
            "colorbar": {
             "outlinewidth": 0,
             "ticks": ""
            },
            "colorscale": [
             [
              0,
              "#0d0887"
             ],
             [
              0.1111111111111111,
              "#46039f"
             ],
             [
              0.2222222222222222,
              "#7201a8"
             ],
             [
              0.3333333333333333,
              "#9c179e"
             ],
             [
              0.4444444444444444,
              "#bd3786"
             ],
             [
              0.5555555555555556,
              "#d8576b"
             ],
             [
              0.6666666666666666,
              "#ed7953"
             ],
             [
              0.7777777777777778,
              "#fb9f3a"
             ],
             [
              0.8888888888888888,
              "#fdca26"
             ],
             [
              1,
              "#f0f921"
             ]
            ],
            "type": "histogram2dcontour"
           }
          ],
          "mesh3d": [
           {
            "colorbar": {
             "outlinewidth": 0,
             "ticks": ""
            },
            "type": "mesh3d"
           }
          ],
          "parcoords": [
           {
            "line": {
             "colorbar": {
              "outlinewidth": 0,
              "ticks": ""
             }
            },
            "type": "parcoords"
           }
          ],
          "pie": [
           {
            "automargin": true,
            "type": "pie"
           }
          ],
          "scatter": [
           {
            "marker": {
             "colorbar": {
              "outlinewidth": 0,
              "ticks": ""
             }
            },
            "type": "scatter"
           }
          ],
          "scatter3d": [
           {
            "line": {
             "colorbar": {
              "outlinewidth": 0,
              "ticks": ""
             }
            },
            "marker": {
             "colorbar": {
              "outlinewidth": 0,
              "ticks": ""
             }
            },
            "type": "scatter3d"
           }
          ],
          "scattercarpet": [
           {
            "marker": {
             "colorbar": {
              "outlinewidth": 0,
              "ticks": ""
             }
            },
            "type": "scattercarpet"
           }
          ],
          "scattergeo": [
           {
            "marker": {
             "colorbar": {
              "outlinewidth": 0,
              "ticks": ""
             }
            },
            "type": "scattergeo"
           }
          ],
          "scattergl": [
           {
            "marker": {
             "colorbar": {
              "outlinewidth": 0,
              "ticks": ""
             }
            },
            "type": "scattergl"
           }
          ],
          "scattermapbox": [
           {
            "marker": {
             "colorbar": {
              "outlinewidth": 0,
              "ticks": ""
             }
            },
            "type": "scattermapbox"
           }
          ],
          "scatterpolar": [
           {
            "marker": {
             "colorbar": {
              "outlinewidth": 0,
              "ticks": ""
             }
            },
            "type": "scatterpolar"
           }
          ],
          "scatterpolargl": [
           {
            "marker": {
             "colorbar": {
              "outlinewidth": 0,
              "ticks": ""
             }
            },
            "type": "scatterpolargl"
           }
          ],
          "scatterternary": [
           {
            "marker": {
             "colorbar": {
              "outlinewidth": 0,
              "ticks": ""
             }
            },
            "type": "scatterternary"
           }
          ],
          "surface": [
           {
            "colorbar": {
             "outlinewidth": 0,
             "ticks": ""
            },
            "colorscale": [
             [
              0,
              "#0d0887"
             ],
             [
              0.1111111111111111,
              "#46039f"
             ],
             [
              0.2222222222222222,
              "#7201a8"
             ],
             [
              0.3333333333333333,
              "#9c179e"
             ],
             [
              0.4444444444444444,
              "#bd3786"
             ],
             [
              0.5555555555555556,
              "#d8576b"
             ],
             [
              0.6666666666666666,
              "#ed7953"
             ],
             [
              0.7777777777777778,
              "#fb9f3a"
             ],
             [
              0.8888888888888888,
              "#fdca26"
             ],
             [
              1,
              "#f0f921"
             ]
            ],
            "type": "surface"
           }
          ],
          "table": [
           {
            "cells": {
             "fill": {
              "color": "#EBF0F8"
             },
             "line": {
              "color": "white"
             }
            },
            "header": {
             "fill": {
              "color": "#C8D4E3"
             },
             "line": {
              "color": "white"
             }
            },
            "type": "table"
           }
          ]
         },
         "layout": {
          "annotationdefaults": {
           "arrowcolor": "#2a3f5f",
           "arrowhead": 0,
           "arrowwidth": 1
          },
          "autotypenumbers": "strict",
          "coloraxis": {
           "colorbar": {
            "outlinewidth": 0,
            "ticks": ""
           }
          },
          "colorscale": {
           "diverging": [
            [
             0,
             "#8e0152"
            ],
            [
             0.1,
             "#c51b7d"
            ],
            [
             0.2,
             "#de77ae"
            ],
            [
             0.3,
             "#f1b6da"
            ],
            [
             0.4,
             "#fde0ef"
            ],
            [
             0.5,
             "#f7f7f7"
            ],
            [
             0.6,
             "#e6f5d0"
            ],
            [
             0.7,
             "#b8e186"
            ],
            [
             0.8,
             "#7fbc41"
            ],
            [
             0.9,
             "#4d9221"
            ],
            [
             1,
             "#276419"
            ]
           ],
           "sequential": [
            [
             0,
             "#0d0887"
            ],
            [
             0.1111111111111111,
             "#46039f"
            ],
            [
             0.2222222222222222,
             "#7201a8"
            ],
            [
             0.3333333333333333,
             "#9c179e"
            ],
            [
             0.4444444444444444,
             "#bd3786"
            ],
            [
             0.5555555555555556,
             "#d8576b"
            ],
            [
             0.6666666666666666,
             "#ed7953"
            ],
            [
             0.7777777777777778,
             "#fb9f3a"
            ],
            [
             0.8888888888888888,
             "#fdca26"
            ],
            [
             1,
             "#f0f921"
            ]
           ],
           "sequentialminus": [
            [
             0,
             "#0d0887"
            ],
            [
             0.1111111111111111,
             "#46039f"
            ],
            [
             0.2222222222222222,
             "#7201a8"
            ],
            [
             0.3333333333333333,
             "#9c179e"
            ],
            [
             0.4444444444444444,
             "#bd3786"
            ],
            [
             0.5555555555555556,
             "#d8576b"
            ],
            [
             0.6666666666666666,
             "#ed7953"
            ],
            [
             0.7777777777777778,
             "#fb9f3a"
            ],
            [
             0.8888888888888888,
             "#fdca26"
            ],
            [
             1,
             "#f0f921"
            ]
           ]
          },
          "colorway": [
           "#636efa",
           "#EF553B",
           "#00cc96",
           "#ab63fa",
           "#FFA15A",
           "#19d3f3",
           "#FF6692",
           "#B6E880",
           "#FF97FF",
           "#FECB52"
          ],
          "font": {
           "color": "#2a3f5f"
          },
          "geo": {
           "bgcolor": "white",
           "lakecolor": "white",
           "landcolor": "#E5ECF6",
           "showlakes": true,
           "showland": true,
           "subunitcolor": "white"
          },
          "hoverlabel": {
           "align": "left"
          },
          "hovermode": "closest",
          "mapbox": {
           "style": "light"
          },
          "paper_bgcolor": "white",
          "plot_bgcolor": "#E5ECF6",
          "polar": {
           "angularaxis": {
            "gridcolor": "white",
            "linecolor": "white",
            "ticks": ""
           },
           "bgcolor": "#E5ECF6",
           "radialaxis": {
            "gridcolor": "white",
            "linecolor": "white",
            "ticks": ""
           }
          },
          "scene": {
           "xaxis": {
            "backgroundcolor": "#E5ECF6",
            "gridcolor": "white",
            "gridwidth": 2,
            "linecolor": "white",
            "showbackground": true,
            "ticks": "",
            "zerolinecolor": "white"
           },
           "yaxis": {
            "backgroundcolor": "#E5ECF6",
            "gridcolor": "white",
            "gridwidth": 2,
            "linecolor": "white",
            "showbackground": true,
            "ticks": "",
            "zerolinecolor": "white"
           },
           "zaxis": {
            "backgroundcolor": "#E5ECF6",
            "gridcolor": "white",
            "gridwidth": 2,
            "linecolor": "white",
            "showbackground": true,
            "ticks": "",
            "zerolinecolor": "white"
           }
          },
          "shapedefaults": {
           "line": {
            "color": "#2a3f5f"
           }
          },
          "ternary": {
           "aaxis": {
            "gridcolor": "white",
            "linecolor": "white",
            "ticks": ""
           },
           "baxis": {
            "gridcolor": "white",
            "linecolor": "white",
            "ticks": ""
           },
           "bgcolor": "#E5ECF6",
           "caxis": {
            "gridcolor": "white",
            "linecolor": "white",
            "ticks": ""
           }
          },
          "title": {
           "x": 0.05
          },
          "xaxis": {
           "automargin": true,
           "gridcolor": "white",
           "linecolor": "white",
           "ticks": "",
           "title": {
            "standoff": 15
           },
           "zerolinecolor": "white",
           "zerolinewidth": 2
          },
          "yaxis": {
           "automargin": true,
           "gridcolor": "white",
           "linecolor": "white",
           "ticks": "",
           "title": {
            "standoff": 15
           },
           "zerolinecolor": "white",
           "zerolinewidth": 2
          }
         }
        },
        "title": {
         "text": "Distribución de productos para Popotla"
        },
        "xaxis": {
         "anchor": "y",
         "domain": [
          0,
          1
         ],
         "title": {
          "text": "categoria"
         }
        },
        "yaxis": {
         "anchor": "x",
         "domain": [
          0,
          1
         ],
         "title": {
          "text": "count"
         }
        }
       }
      }
     },
     "metadata": {}
    }
   ],
   "source": [
    "view_products_from('popotla', df)"
   ]
  },
  {
   "cell_type": "code",
   "execution_count": 11,
   "metadata": {},
   "outputs": [
    {
     "output_type": "display_data",
     "data": {
      "application/vnd.plotly.v1+json": {
       "config": {
        "plotlyServerURL": "https://plot.ly"
       },
       "data": [
        {
         "alignmentgroup": "True",
         "bingroup": "x",
         "hovertemplate": "categoria=%{x}<br>count=%{y}<extra></extra>",
         "legendgroup": "",
         "marker": {
          "color": "#636efa"
         },
         "name": "",
         "offsetgroup": "",
         "orientation": "v",
         "showlegend": false,
         "type": "histogram",
         "x": [
          "restaurantes",
          "restaurantes",
          "restaurantes",
          "restaurantes",
          "restaurantes",
          "restaurantes",
          "restaurantes",
          "comida",
          "comida",
          "comida",
          "industria",
          "industria",
          "electronicos",
          "comida",
          "electronicos",
          "ropa",
          "industria",
          "industria",
          "restaurantes",
          "ventaproductos",
          "restaurantes",
          "belleza",
          "restaurantes",
          "ventaproductos",
          "musica",
          "restaurantes",
          "electronicos",
          "comida",
          "ventaproductos",
          "restaurantes",
          "restaurantes",
          "restaurantes",
          "papeleria",
          "restaurantes",
          "restaurantes",
          "industria",
          "ventaproductos",
          "ropa",
          "arreglosgeneral",
          "ropa",
          "industria",
          "restaurantes",
          "restaurantes",
          "comida",
          "salud",
          "comida",
          "arreglosgeneral",
          "arreglosgeneral",
          "restaurantes",
          "restaurantes",
          "belleza",
          "comida",
          "restaurantes",
          "comida",
          "ropa",
          "comida",
          "ropa",
          "comida",
          "industria",
          "comida",
          "comida",
          "restaurantes",
          "comida",
          "ropa",
          "ventaproductos",
          "comida",
          "comida",
          "restaurantes",
          "comida",
          "comida",
          "comida",
          "comida",
          "ropa",
          "electronicos",
          "comida",
          "comida"
         ],
         "xaxis": "x",
         "yaxis": "y"
        }
       ],
       "layout": {
        "barmode": "relative",
        "legend": {
         "tracegroupgap": 0
        },
        "margin": {
         "t": 60
        },
        "template": {
         "data": {
          "bar": [
           {
            "error_x": {
             "color": "#2a3f5f"
            },
            "error_y": {
             "color": "#2a3f5f"
            },
            "marker": {
             "line": {
              "color": "#E5ECF6",
              "width": 0.5
             }
            },
            "type": "bar"
           }
          ],
          "barpolar": [
           {
            "marker": {
             "line": {
              "color": "#E5ECF6",
              "width": 0.5
             }
            },
            "type": "barpolar"
           }
          ],
          "carpet": [
           {
            "aaxis": {
             "endlinecolor": "#2a3f5f",
             "gridcolor": "white",
             "linecolor": "white",
             "minorgridcolor": "white",
             "startlinecolor": "#2a3f5f"
            },
            "baxis": {
             "endlinecolor": "#2a3f5f",
             "gridcolor": "white",
             "linecolor": "white",
             "minorgridcolor": "white",
             "startlinecolor": "#2a3f5f"
            },
            "type": "carpet"
           }
          ],
          "choropleth": [
           {
            "colorbar": {
             "outlinewidth": 0,
             "ticks": ""
            },
            "type": "choropleth"
           }
          ],
          "contour": [
           {
            "colorbar": {
             "outlinewidth": 0,
             "ticks": ""
            },
            "colorscale": [
             [
              0,
              "#0d0887"
             ],
             [
              0.1111111111111111,
              "#46039f"
             ],
             [
              0.2222222222222222,
              "#7201a8"
             ],
             [
              0.3333333333333333,
              "#9c179e"
             ],
             [
              0.4444444444444444,
              "#bd3786"
             ],
             [
              0.5555555555555556,
              "#d8576b"
             ],
             [
              0.6666666666666666,
              "#ed7953"
             ],
             [
              0.7777777777777778,
              "#fb9f3a"
             ],
             [
              0.8888888888888888,
              "#fdca26"
             ],
             [
              1,
              "#f0f921"
             ]
            ],
            "type": "contour"
           }
          ],
          "contourcarpet": [
           {
            "colorbar": {
             "outlinewidth": 0,
             "ticks": ""
            },
            "type": "contourcarpet"
           }
          ],
          "heatmap": [
           {
            "colorbar": {
             "outlinewidth": 0,
             "ticks": ""
            },
            "colorscale": [
             [
              0,
              "#0d0887"
             ],
             [
              0.1111111111111111,
              "#46039f"
             ],
             [
              0.2222222222222222,
              "#7201a8"
             ],
             [
              0.3333333333333333,
              "#9c179e"
             ],
             [
              0.4444444444444444,
              "#bd3786"
             ],
             [
              0.5555555555555556,
              "#d8576b"
             ],
             [
              0.6666666666666666,
              "#ed7953"
             ],
             [
              0.7777777777777778,
              "#fb9f3a"
             ],
             [
              0.8888888888888888,
              "#fdca26"
             ],
             [
              1,
              "#f0f921"
             ]
            ],
            "type": "heatmap"
           }
          ],
          "heatmapgl": [
           {
            "colorbar": {
             "outlinewidth": 0,
             "ticks": ""
            },
            "colorscale": [
             [
              0,
              "#0d0887"
             ],
             [
              0.1111111111111111,
              "#46039f"
             ],
             [
              0.2222222222222222,
              "#7201a8"
             ],
             [
              0.3333333333333333,
              "#9c179e"
             ],
             [
              0.4444444444444444,
              "#bd3786"
             ],
             [
              0.5555555555555556,
              "#d8576b"
             ],
             [
              0.6666666666666666,
              "#ed7953"
             ],
             [
              0.7777777777777778,
              "#fb9f3a"
             ],
             [
              0.8888888888888888,
              "#fdca26"
             ],
             [
              1,
              "#f0f921"
             ]
            ],
            "type": "heatmapgl"
           }
          ],
          "histogram": [
           {
            "marker": {
             "colorbar": {
              "outlinewidth": 0,
              "ticks": ""
             }
            },
            "type": "histogram"
           }
          ],
          "histogram2d": [
           {
            "colorbar": {
             "outlinewidth": 0,
             "ticks": ""
            },
            "colorscale": [
             [
              0,
              "#0d0887"
             ],
             [
              0.1111111111111111,
              "#46039f"
             ],
             [
              0.2222222222222222,
              "#7201a8"
             ],
             [
              0.3333333333333333,
              "#9c179e"
             ],
             [
              0.4444444444444444,
              "#bd3786"
             ],
             [
              0.5555555555555556,
              "#d8576b"
             ],
             [
              0.6666666666666666,
              "#ed7953"
             ],
             [
              0.7777777777777778,
              "#fb9f3a"
             ],
             [
              0.8888888888888888,
              "#fdca26"
             ],
             [
              1,
              "#f0f921"
             ]
            ],
            "type": "histogram2d"
           }
          ],
          "histogram2dcontour": [
           {
            "colorbar": {
             "outlinewidth": 0,
             "ticks": ""
            },
            "colorscale": [
             [
              0,
              "#0d0887"
             ],
             [
              0.1111111111111111,
              "#46039f"
             ],
             [
              0.2222222222222222,
              "#7201a8"
             ],
             [
              0.3333333333333333,
              "#9c179e"
             ],
             [
              0.4444444444444444,
              "#bd3786"
             ],
             [
              0.5555555555555556,
              "#d8576b"
             ],
             [
              0.6666666666666666,
              "#ed7953"
             ],
             [
              0.7777777777777778,
              "#fb9f3a"
             ],
             [
              0.8888888888888888,
              "#fdca26"
             ],
             [
              1,
              "#f0f921"
             ]
            ],
            "type": "histogram2dcontour"
           }
          ],
          "mesh3d": [
           {
            "colorbar": {
             "outlinewidth": 0,
             "ticks": ""
            },
            "type": "mesh3d"
           }
          ],
          "parcoords": [
           {
            "line": {
             "colorbar": {
              "outlinewidth": 0,
              "ticks": ""
             }
            },
            "type": "parcoords"
           }
          ],
          "pie": [
           {
            "automargin": true,
            "type": "pie"
           }
          ],
          "scatter": [
           {
            "marker": {
             "colorbar": {
              "outlinewidth": 0,
              "ticks": ""
             }
            },
            "type": "scatter"
           }
          ],
          "scatter3d": [
           {
            "line": {
             "colorbar": {
              "outlinewidth": 0,
              "ticks": ""
             }
            },
            "marker": {
             "colorbar": {
              "outlinewidth": 0,
              "ticks": ""
             }
            },
            "type": "scatter3d"
           }
          ],
          "scattercarpet": [
           {
            "marker": {
             "colorbar": {
              "outlinewidth": 0,
              "ticks": ""
             }
            },
            "type": "scattercarpet"
           }
          ],
          "scattergeo": [
           {
            "marker": {
             "colorbar": {
              "outlinewidth": 0,
              "ticks": ""
             }
            },
            "type": "scattergeo"
           }
          ],
          "scattergl": [
           {
            "marker": {
             "colorbar": {
              "outlinewidth": 0,
              "ticks": ""
             }
            },
            "type": "scattergl"
           }
          ],
          "scattermapbox": [
           {
            "marker": {
             "colorbar": {
              "outlinewidth": 0,
              "ticks": ""
             }
            },
            "type": "scattermapbox"
           }
          ],
          "scatterpolar": [
           {
            "marker": {
             "colorbar": {
              "outlinewidth": 0,
              "ticks": ""
             }
            },
            "type": "scatterpolar"
           }
          ],
          "scatterpolargl": [
           {
            "marker": {
             "colorbar": {
              "outlinewidth": 0,
              "ticks": ""
             }
            },
            "type": "scatterpolargl"
           }
          ],
          "scatterternary": [
           {
            "marker": {
             "colorbar": {
              "outlinewidth": 0,
              "ticks": ""
             }
            },
            "type": "scatterternary"
           }
          ],
          "surface": [
           {
            "colorbar": {
             "outlinewidth": 0,
             "ticks": ""
            },
            "colorscale": [
             [
              0,
              "#0d0887"
             ],
             [
              0.1111111111111111,
              "#46039f"
             ],
             [
              0.2222222222222222,
              "#7201a8"
             ],
             [
              0.3333333333333333,
              "#9c179e"
             ],
             [
              0.4444444444444444,
              "#bd3786"
             ],
             [
              0.5555555555555556,
              "#d8576b"
             ],
             [
              0.6666666666666666,
              "#ed7953"
             ],
             [
              0.7777777777777778,
              "#fb9f3a"
             ],
             [
              0.8888888888888888,
              "#fdca26"
             ],
             [
              1,
              "#f0f921"
             ]
            ],
            "type": "surface"
           }
          ],
          "table": [
           {
            "cells": {
             "fill": {
              "color": "#EBF0F8"
             },
             "line": {
              "color": "white"
             }
            },
            "header": {
             "fill": {
              "color": "#C8D4E3"
             },
             "line": {
              "color": "white"
             }
            },
            "type": "table"
           }
          ]
         },
         "layout": {
          "annotationdefaults": {
           "arrowcolor": "#2a3f5f",
           "arrowhead": 0,
           "arrowwidth": 1
          },
          "autotypenumbers": "strict",
          "coloraxis": {
           "colorbar": {
            "outlinewidth": 0,
            "ticks": ""
           }
          },
          "colorscale": {
           "diverging": [
            [
             0,
             "#8e0152"
            ],
            [
             0.1,
             "#c51b7d"
            ],
            [
             0.2,
             "#de77ae"
            ],
            [
             0.3,
             "#f1b6da"
            ],
            [
             0.4,
             "#fde0ef"
            ],
            [
             0.5,
             "#f7f7f7"
            ],
            [
             0.6,
             "#e6f5d0"
            ],
            [
             0.7,
             "#b8e186"
            ],
            [
             0.8,
             "#7fbc41"
            ],
            [
             0.9,
             "#4d9221"
            ],
            [
             1,
             "#276419"
            ]
           ],
           "sequential": [
            [
             0,
             "#0d0887"
            ],
            [
             0.1111111111111111,
             "#46039f"
            ],
            [
             0.2222222222222222,
             "#7201a8"
            ],
            [
             0.3333333333333333,
             "#9c179e"
            ],
            [
             0.4444444444444444,
             "#bd3786"
            ],
            [
             0.5555555555555556,
             "#d8576b"
            ],
            [
             0.6666666666666666,
             "#ed7953"
            ],
            [
             0.7777777777777778,
             "#fb9f3a"
            ],
            [
             0.8888888888888888,
             "#fdca26"
            ],
            [
             1,
             "#f0f921"
            ]
           ],
           "sequentialminus": [
            [
             0,
             "#0d0887"
            ],
            [
             0.1111111111111111,
             "#46039f"
            ],
            [
             0.2222222222222222,
             "#7201a8"
            ],
            [
             0.3333333333333333,
             "#9c179e"
            ],
            [
             0.4444444444444444,
             "#bd3786"
            ],
            [
             0.5555555555555556,
             "#d8576b"
            ],
            [
             0.6666666666666666,
             "#ed7953"
            ],
            [
             0.7777777777777778,
             "#fb9f3a"
            ],
            [
             0.8888888888888888,
             "#fdca26"
            ],
            [
             1,
             "#f0f921"
            ]
           ]
          },
          "colorway": [
           "#636efa",
           "#EF553B",
           "#00cc96",
           "#ab63fa",
           "#FFA15A",
           "#19d3f3",
           "#FF6692",
           "#B6E880",
           "#FF97FF",
           "#FECB52"
          ],
          "font": {
           "color": "#2a3f5f"
          },
          "geo": {
           "bgcolor": "white",
           "lakecolor": "white",
           "landcolor": "#E5ECF6",
           "showlakes": true,
           "showland": true,
           "subunitcolor": "white"
          },
          "hoverlabel": {
           "align": "left"
          },
          "hovermode": "closest",
          "mapbox": {
           "style": "light"
          },
          "paper_bgcolor": "white",
          "plot_bgcolor": "#E5ECF6",
          "polar": {
           "angularaxis": {
            "gridcolor": "white",
            "linecolor": "white",
            "ticks": ""
           },
           "bgcolor": "#E5ECF6",
           "radialaxis": {
            "gridcolor": "white",
            "linecolor": "white",
            "ticks": ""
           }
          },
          "scene": {
           "xaxis": {
            "backgroundcolor": "#E5ECF6",
            "gridcolor": "white",
            "gridwidth": 2,
            "linecolor": "white",
            "showbackground": true,
            "ticks": "",
            "zerolinecolor": "white"
           },
           "yaxis": {
            "backgroundcolor": "#E5ECF6",
            "gridcolor": "white",
            "gridwidth": 2,
            "linecolor": "white",
            "showbackground": true,
            "ticks": "",
            "zerolinecolor": "white"
           },
           "zaxis": {
            "backgroundcolor": "#E5ECF6",
            "gridcolor": "white",
            "gridwidth": 2,
            "linecolor": "white",
            "showbackground": true,
            "ticks": "",
            "zerolinecolor": "white"
           }
          },
          "shapedefaults": {
           "line": {
            "color": "#2a3f5f"
           }
          },
          "ternary": {
           "aaxis": {
            "gridcolor": "white",
            "linecolor": "white",
            "ticks": ""
           },
           "baxis": {
            "gridcolor": "white",
            "linecolor": "white",
            "ticks": ""
           },
           "bgcolor": "#E5ECF6",
           "caxis": {
            "gridcolor": "white",
            "linecolor": "white",
            "ticks": ""
           }
          },
          "title": {
           "x": 0.05
          },
          "xaxis": {
           "automargin": true,
           "gridcolor": "white",
           "linecolor": "white",
           "ticks": "",
           "title": {
            "standoff": 15
           },
           "zerolinecolor": "white",
           "zerolinewidth": 2
          },
          "yaxis": {
           "automargin": true,
           "gridcolor": "white",
           "linecolor": "white",
           "ticks": "",
           "title": {
            "standoff": 15
           },
           "zerolinecolor": "white",
           "zerolinewidth": 2
          }
         }
        },
        "title": {
         "text": "Distribución de productos para Tlaxpana"
        },
        "xaxis": {
         "anchor": "y",
         "domain": [
          0,
          1
         ],
         "title": {
          "text": "categoria"
         }
        },
        "yaxis": {
         "anchor": "x",
         "domain": [
          0,
          1
         ],
         "title": {
          "text": "count"
         }
        }
       }
      }
     },
     "metadata": {}
    }
   ],
   "source": [
    "view_products_from('tlaxpana', df)"
   ]
  },
  {
   "source": [
    "## Product Space matrix"
   ],
   "cell_type": "markdown",
   "metadata": {}
  },
  {
   "source": [
    "```product_space_matrix``` es la matriz que relaciona una colonia con los productos que produce.\n",
    "\n",
    "En el renglón $i$, columna $j$ obtendremos un $0$ si la colonia $i$ NO produce el producto $j$ y un $1$ si sí lo produce."
   ],
   "cell_type": "markdown",
   "metadata": {}
  },
  {
   "cell_type": "code",
   "execution_count": 12,
   "metadata": {},
   "outputs": [],
   "source": [
    "product_space_matrix = np.array([[0]*num_productos]*num_colonias)\n",
    "productos = list(df.categoria.unique())\n",
    "colonias = list(df.colonia.unique())\n",
    "for _, general_row in df.iterrows():\n",
    "    curr_colonia = general_row.colonia\n",
    "    categorias_por_colonia = list(df[df.colonia == curr_colonia].categoria.unique())\n",
    "    col_idx = colonias.index(curr_colonia)\n",
    "    for cat in categorias_por_colonia:\n",
    "        cat_idx = productos.index(cat)\n",
    "        product_space_matrix[col_idx][cat_idx] = 1"
   ]
  },
  {
   "cell_type": "code",
   "execution_count": 13,
   "metadata": {},
   "outputs": [
    {
     "output_type": "execute_result",
     "data": {
      "text/plain": [
       "array([[1, 0, 0, 0, 0, 0, 0, 0, 0, 0, 0, 0, 0],\n",
       "       [1, 1, 1, 1, 1, 1, 1, 1, 1, 1, 0, 1, 1],\n",
       "       [1, 1, 1, 0, 1, 1, 1, 1, 1, 1, 0, 1, 0],\n",
       "       [0, 0, 0, 1, 0, 0, 0, 0, 0, 0, 0, 0, 0],\n",
       "       [0, 1, 0, 0, 0, 0, 0, 0, 0, 0, 0, 0, 0],\n",
       "       [0, 0, 0, 0, 0, 0, 1, 0, 0, 0, 0, 0, 0],\n",
       "       [1, 1, 1, 1, 1, 1, 1, 1, 1, 1, 1, 0, 1],\n",
       "       [1, 1, 1, 0, 1, 1, 1, 1, 1, 1, 1, 1, 0],\n",
       "       [0, 0, 0, 0, 1, 0, 0, 1, 0, 0, 0, 0, 0],\n",
       "       [1, 1, 1, 0, 0, 1, 1, 1, 1, 1, 1, 1, 0],\n",
       "       [1, 1, 1, 1, 1, 1, 1, 1, 1, 1, 0, 1, 0],\n",
       "       [0, 0, 0, 0, 0, 0, 1, 0, 0, 0, 0, 0, 0],\n",
       "       [0, 0, 0, 0, 1, 0, 0, 0, 0, 0, 0, 0, 0]])"
      ]
     },
     "metadata": {},
     "execution_count": 13
    }
   ],
   "source": [
    "product_space_matrix"
   ]
  },
  {
   "source": [
    "## Gráfica bipartita"
   ],
   "cell_type": "markdown",
   "metadata": {}
  },
  {
   "cell_type": "code",
   "execution_count": 14,
   "metadata": {},
   "outputs": [
    {
     "output_type": "stream",
     "name": "stdout",
     "text": [
      "{'jaime torres bodet': 1, 'el rosario': 2, 'tezozomoc': 3, 'doctores': 4, 'olivar del conde 1a seccin': 5, 'campamento 2 de octubre': 6, 'popotla': 7, 'tlaxpana': 8, 'escandon': 9, 'san martin xochinahuac': 10, 'san juan tlihuaca': 11, 'xaltocan': 12, 'santa maria nativitas': 13}\n\n{'arreglosgeneral': 51, 'industria': 52, 'restaurantes': 53, 'fotografia': 54, 'ventaproductos': 55, 'comida': 56, 'ropa': 57, 'papeleria': 58, 'belleza': 59, 'electronicos': 60, 'musica': 61, 'salud': 62, 'mascotas': 63}\n"
     ]
    }
   ],
   "source": [
    "colonias_dict = dict(zip(colonias, list(range(1,len(colonias)+1))))\n",
    "productos_dict = dict(zip(productos, list(range(51, 50 + len(productos)+1))))\n",
    "print(colonias_dict, end='\\n\\n')\n",
    "print(productos_dict)"
   ]
  },
  {
   "cell_type": "code",
   "execution_count": 15,
   "metadata": {},
   "outputs": [
    {
     "output_type": "execute_result",
     "data": {
      "text/plain": [
       "NodeView((1, 2, 3, 4, 5, 6, 7, 8, 9, 10, 11, 12, 13, 51, 52, 53, 54, 55, 56, 57, 58, 59, 60, 61, 62, 63))"
      ]
     },
     "metadata": {},
     "execution_count": 15
    }
   ],
   "source": [
    "G = nx.Graph()\n",
    "G.add_nodes_from(colonias_dict.values())\n",
    "G.add_nodes_from(productos_dict.values())\n",
    "G.nodes()"
   ]
  },
  {
   "cell_type": "code",
   "execution_count": 16,
   "metadata": {},
   "outputs": [],
   "source": [
    "for colonia_idx in colonias_dict.values():\n",
    "    for prod_idx in productos_dict.values():\n",
    "        prod_idx -= 50\n",
    "        if product_space_matrix[colonia_idx-1][prod_idx-1] == 1:\n",
    "            G.add_edge(colonia_idx, prod_idx+50, color=\"#636ef9\")"
   ]
  },
  {
   "cell_type": "code",
   "execution_count": 17,
   "metadata": {},
   "outputs": [
    {
     "output_type": "display_data",
     "data": {
      "text/plain": "<Figure size 720x576 with 1 Axes>",
      "image/svg+xml": "<?xml version=\"1.0\" encoding=\"utf-8\" standalone=\"no\"?>\n<!DOCTYPE svg PUBLIC \"-//W3C//DTD SVG 1.1//EN\"\n  \"http://www.w3.org/Graphics/SVG/1.1/DTD/svg11.dtd\">\n<!-- Created with matplotlib (https://matplotlib.org/) -->\n<svg height=\"467.277656pt\" version=\"1.1\" viewBox=\"0 0 572.4 467.277656\" width=\"572.4pt\" xmlns=\"http://www.w3.org/2000/svg\" xmlns:xlink=\"http://www.w3.org/1999/xlink\">\n <metadata>\n  <rdf:RDF xmlns:cc=\"http://creativecommons.org/ns#\" xmlns:dc=\"http://purl.org/dc/elements/1.1/\" xmlns:rdf=\"http://www.w3.org/1999/02/22-rdf-syntax-ns#\">\n   <cc:Work>\n    <dc:type rdf:resource=\"http://purl.org/dc/dcmitype/StillImage\"/>\n    <dc:date>2021-02-06T00:14:44.585530</dc:date>\n    <dc:format>image/svg+xml</dc:format>\n    <dc:creator>\n     <cc:Agent>\n      <dc:title>Matplotlib v3.3.2, https://matplotlib.org/</dc:title>\n     </cc:Agent>\n    </dc:creator>\n   </cc:Work>\n  </rdf:RDF>\n </metadata>\n <defs>\n  <style type=\"text/css\">*{stroke-linecap:butt;stroke-linejoin:round;}</style>\n </defs>\n <g id=\"figure_1\">\n  <g id=\"patch_1\">\n   <path d=\"M 0 467.277656 \nL 572.4 467.277656 \nL 572.4 0 \nL 0 0 \nz\n\" style=\"fill:#ffffff;\"/>\n  </g>\n  <g id=\"axes_1\">\n   <g id=\"LineCollection_1\">\n    <path clip-path=\"url(#p21ad92c3b6)\" d=\"M 32.563636 440.310384 \nL 539.836364 440.310384 \n\" style=\"fill:none;stroke:#000000;\"/>\n    <path clip-path=\"url(#p21ad92c3b6)\" d=\"M 32.563636 407.364929 \nL 539.836364 440.310384 \n\" style=\"fill:none;stroke:#000000;\"/>\n    <path clip-path=\"url(#p21ad92c3b6)\" d=\"M 32.563636 407.364929 \nL 539.836364 407.364929 \n\" style=\"fill:none;stroke:#000000;\"/>\n    <path clip-path=\"url(#p21ad92c3b6)\" d=\"M 32.563636 407.364929 \nL 539.836364 374.419474 \n\" style=\"fill:none;stroke:#000000;\"/>\n    <path clip-path=\"url(#p21ad92c3b6)\" d=\"M 32.563636 407.364929 \nL 539.836364 341.47402 \n\" style=\"fill:none;stroke:#000000;\"/>\n    <path clip-path=\"url(#p21ad92c3b6)\" d=\"M 32.563636 407.364929 \nL 539.836364 308.528565 \n\" style=\"fill:none;stroke:#000000;\"/>\n    <path clip-path=\"url(#p21ad92c3b6)\" d=\"M 32.563636 407.364929 \nL 539.836364 275.583111 \n\" style=\"fill:none;stroke:#000000;\"/>\n    <path clip-path=\"url(#p21ad92c3b6)\" d=\"M 32.563636 407.364929 \nL 539.836364 242.637656 \n\" style=\"fill:none;stroke:#000000;\"/>\n    <path clip-path=\"url(#p21ad92c3b6)\" d=\"M 32.563636 407.364929 \nL 539.836364 209.692202 \n\" style=\"fill:none;stroke:#000000;\"/>\n    <path clip-path=\"url(#p21ad92c3b6)\" d=\"M 32.563636 407.364929 \nL 539.836364 176.746747 \n\" style=\"fill:none;stroke:#000000;\"/>\n    <path clip-path=\"url(#p21ad92c3b6)\" d=\"M 32.563636 407.364929 \nL 539.836364 143.801293 \n\" style=\"fill:none;stroke:#000000;\"/>\n    <path clip-path=\"url(#p21ad92c3b6)\" d=\"M 32.563636 407.364929 \nL 539.836364 77.910384 \n\" style=\"fill:none;stroke:#000000;\"/>\n    <path clip-path=\"url(#p21ad92c3b6)\" d=\"M 32.563636 407.364929 \nL 539.836364 44.964929 \n\" style=\"fill:none;stroke:#000000;\"/>\n    <path clip-path=\"url(#p21ad92c3b6)\" d=\"M 32.563636 374.419474 \nL 539.836364 440.310384 \n\" style=\"fill:none;stroke:#000000;\"/>\n    <path clip-path=\"url(#p21ad92c3b6)\" d=\"M 32.563636 374.419474 \nL 539.836364 407.364929 \n\" style=\"fill:none;stroke:#000000;\"/>\n    <path clip-path=\"url(#p21ad92c3b6)\" d=\"M 32.563636 374.419474 \nL 539.836364 374.419474 \n\" style=\"fill:none;stroke:#000000;\"/>\n    <path clip-path=\"url(#p21ad92c3b6)\" d=\"M 32.563636 374.419474 \nL 539.836364 308.528565 \n\" style=\"fill:none;stroke:#000000;\"/>\n    <path clip-path=\"url(#p21ad92c3b6)\" d=\"M 32.563636 374.419474 \nL 539.836364 275.583111 \n\" style=\"fill:none;stroke:#000000;\"/>\n    <path clip-path=\"url(#p21ad92c3b6)\" d=\"M 32.563636 374.419474 \nL 539.836364 242.637656 \n\" style=\"fill:none;stroke:#000000;\"/>\n    <path clip-path=\"url(#p21ad92c3b6)\" d=\"M 32.563636 374.419474 \nL 539.836364 209.692202 \n\" style=\"fill:none;stroke:#000000;\"/>\n    <path clip-path=\"url(#p21ad92c3b6)\" d=\"M 32.563636 374.419474 \nL 539.836364 176.746747 \n\" style=\"fill:none;stroke:#000000;\"/>\n    <path clip-path=\"url(#p21ad92c3b6)\" d=\"M 32.563636 374.419474 \nL 539.836364 143.801293 \n\" style=\"fill:none;stroke:#000000;\"/>\n    <path clip-path=\"url(#p21ad92c3b6)\" d=\"M 32.563636 374.419474 \nL 539.836364 77.910384 \n\" style=\"fill:none;stroke:#000000;\"/>\n    <path clip-path=\"url(#p21ad92c3b6)\" d=\"M 32.563636 341.47402 \nL 539.836364 341.47402 \n\" style=\"fill:none;stroke:#000000;\"/>\n    <path clip-path=\"url(#p21ad92c3b6)\" d=\"M 32.563636 308.528565 \nL 539.836364 407.364929 \n\" style=\"fill:none;stroke:#000000;\"/>\n    <path clip-path=\"url(#p21ad92c3b6)\" d=\"M 32.563636 275.583111 \nL 539.836364 242.637656 \n\" style=\"fill:none;stroke:#000000;\"/>\n    <path clip-path=\"url(#p21ad92c3b6)\" d=\"M 32.563636 242.637656 \nL 539.836364 440.310384 \n\" style=\"fill:none;stroke:#000000;\"/>\n    <path clip-path=\"url(#p21ad92c3b6)\" d=\"M 32.563636 242.637656 \nL 539.836364 407.364929 \n\" style=\"fill:none;stroke:#000000;\"/>\n    <path clip-path=\"url(#p21ad92c3b6)\" d=\"M 32.563636 242.637656 \nL 539.836364 374.419474 \n\" style=\"fill:none;stroke:#000000;\"/>\n    <path clip-path=\"url(#p21ad92c3b6)\" d=\"M 32.563636 242.637656 \nL 539.836364 341.47402 \n\" style=\"fill:none;stroke:#000000;\"/>\n    <path clip-path=\"url(#p21ad92c3b6)\" d=\"M 32.563636 242.637656 \nL 539.836364 308.528565 \n\" style=\"fill:none;stroke:#000000;\"/>\n    <path clip-path=\"url(#p21ad92c3b6)\" d=\"M 32.563636 242.637656 \nL 539.836364 275.583111 \n\" style=\"fill:none;stroke:#000000;\"/>\n    <path clip-path=\"url(#p21ad92c3b6)\" d=\"M 32.563636 242.637656 \nL 539.836364 242.637656 \n\" style=\"fill:none;stroke:#000000;\"/>\n    <path clip-path=\"url(#p21ad92c3b6)\" d=\"M 32.563636 242.637656 \nL 539.836364 209.692202 \n\" style=\"fill:none;stroke:#000000;\"/>\n    <path clip-path=\"url(#p21ad92c3b6)\" d=\"M 32.563636 242.637656 \nL 539.836364 176.746747 \n\" style=\"fill:none;stroke:#000000;\"/>\n    <path clip-path=\"url(#p21ad92c3b6)\" d=\"M 32.563636 242.637656 \nL 539.836364 143.801293 \n\" style=\"fill:none;stroke:#000000;\"/>\n    <path clip-path=\"url(#p21ad92c3b6)\" d=\"M 32.563636 242.637656 \nL 539.836364 110.855838 \n\" style=\"fill:none;stroke:#000000;\"/>\n    <path clip-path=\"url(#p21ad92c3b6)\" d=\"M 32.563636 242.637656 \nL 539.836364 44.964929 \n\" style=\"fill:none;stroke:#000000;\"/>\n    <path clip-path=\"url(#p21ad92c3b6)\" d=\"M 32.563636 209.692202 \nL 539.836364 440.310384 \n\" style=\"fill:none;stroke:#000000;\"/>\n    <path clip-path=\"url(#p21ad92c3b6)\" d=\"M 32.563636 209.692202 \nL 539.836364 407.364929 \n\" style=\"fill:none;stroke:#000000;\"/>\n    <path clip-path=\"url(#p21ad92c3b6)\" d=\"M 32.563636 209.692202 \nL 539.836364 374.419474 \n\" style=\"fill:none;stroke:#000000;\"/>\n    <path clip-path=\"url(#p21ad92c3b6)\" d=\"M 32.563636 209.692202 \nL 539.836364 308.528565 \n\" style=\"fill:none;stroke:#000000;\"/>\n    <path clip-path=\"url(#p21ad92c3b6)\" d=\"M 32.563636 209.692202 \nL 539.836364 275.583111 \n\" style=\"fill:none;stroke:#000000;\"/>\n    <path clip-path=\"url(#p21ad92c3b6)\" d=\"M 32.563636 209.692202 \nL 539.836364 242.637656 \n\" style=\"fill:none;stroke:#000000;\"/>\n    <path clip-path=\"url(#p21ad92c3b6)\" d=\"M 32.563636 209.692202 \nL 539.836364 209.692202 \n\" style=\"fill:none;stroke:#000000;\"/>\n    <path clip-path=\"url(#p21ad92c3b6)\" d=\"M 32.563636 209.692202 \nL 539.836364 176.746747 \n\" style=\"fill:none;stroke:#000000;\"/>\n    <path clip-path=\"url(#p21ad92c3b6)\" d=\"M 32.563636 209.692202 \nL 539.836364 143.801293 \n\" style=\"fill:none;stroke:#000000;\"/>\n    <path clip-path=\"url(#p21ad92c3b6)\" d=\"M 32.563636 209.692202 \nL 539.836364 110.855838 \n\" style=\"fill:none;stroke:#000000;\"/>\n    <path clip-path=\"url(#p21ad92c3b6)\" d=\"M 32.563636 209.692202 \nL 539.836364 77.910384 \n\" style=\"fill:none;stroke:#000000;\"/>\n    <path clip-path=\"url(#p21ad92c3b6)\" d=\"M 32.563636 176.746747 \nL 539.836364 308.528565 \n\" style=\"fill:none;stroke:#000000;\"/>\n    <path clip-path=\"url(#p21ad92c3b6)\" d=\"M 32.563636 176.746747 \nL 539.836364 209.692202 \n\" style=\"fill:none;stroke:#000000;\"/>\n    <path clip-path=\"url(#p21ad92c3b6)\" d=\"M 32.563636 143.801293 \nL 539.836364 440.310384 \n\" style=\"fill:none;stroke:#000000;\"/>\n    <path clip-path=\"url(#p21ad92c3b6)\" d=\"M 32.563636 143.801293 \nL 539.836364 407.364929 \n\" style=\"fill:none;stroke:#000000;\"/>\n    <path clip-path=\"url(#p21ad92c3b6)\" d=\"M 32.563636 143.801293 \nL 539.836364 374.419474 \n\" style=\"fill:none;stroke:#000000;\"/>\n    <path clip-path=\"url(#p21ad92c3b6)\" d=\"M 32.563636 143.801293 \nL 539.836364 275.583111 \n\" style=\"fill:none;stroke:#000000;\"/>\n    <path clip-path=\"url(#p21ad92c3b6)\" d=\"M 32.563636 143.801293 \nL 539.836364 242.637656 \n\" style=\"fill:none;stroke:#000000;\"/>\n    <path clip-path=\"url(#p21ad92c3b6)\" d=\"M 32.563636 143.801293 \nL 539.836364 209.692202 \n\" style=\"fill:none;stroke:#000000;\"/>\n    <path clip-path=\"url(#p21ad92c3b6)\" d=\"M 32.563636 143.801293 \nL 539.836364 176.746747 \n\" style=\"fill:none;stroke:#000000;\"/>\n    <path clip-path=\"url(#p21ad92c3b6)\" d=\"M 32.563636 143.801293 \nL 539.836364 143.801293 \n\" style=\"fill:none;stroke:#000000;\"/>\n    <path clip-path=\"url(#p21ad92c3b6)\" d=\"M 32.563636 143.801293 \nL 539.836364 110.855838 \n\" style=\"fill:none;stroke:#000000;\"/>\n    <path clip-path=\"url(#p21ad92c3b6)\" d=\"M 32.563636 143.801293 \nL 539.836364 77.910384 \n\" style=\"fill:none;stroke:#000000;\"/>\n    <path clip-path=\"url(#p21ad92c3b6)\" d=\"M 32.563636 110.855838 \nL 539.836364 440.310384 \n\" style=\"fill:none;stroke:#000000;\"/>\n    <path clip-path=\"url(#p21ad92c3b6)\" d=\"M 32.563636 110.855838 \nL 539.836364 407.364929 \n\" style=\"fill:none;stroke:#000000;\"/>\n    <path clip-path=\"url(#p21ad92c3b6)\" d=\"M 32.563636 110.855838 \nL 539.836364 374.419474 \n\" style=\"fill:none;stroke:#000000;\"/>\n    <path clip-path=\"url(#p21ad92c3b6)\" d=\"M 32.563636 110.855838 \nL 539.836364 341.47402 \n\" style=\"fill:none;stroke:#000000;\"/>\n    <path clip-path=\"url(#p21ad92c3b6)\" d=\"M 32.563636 110.855838 \nL 539.836364 308.528565 \n\" style=\"fill:none;stroke:#000000;\"/>\n    <path clip-path=\"url(#p21ad92c3b6)\" d=\"M 32.563636 110.855838 \nL 539.836364 275.583111 \n\" style=\"fill:none;stroke:#000000;\"/>\n    <path clip-path=\"url(#p21ad92c3b6)\" d=\"M 32.563636 110.855838 \nL 539.836364 242.637656 \n\" style=\"fill:none;stroke:#000000;\"/>\n    <path clip-path=\"url(#p21ad92c3b6)\" d=\"M 32.563636 110.855838 \nL 539.836364 209.692202 \n\" style=\"fill:none;stroke:#000000;\"/>\n    <path clip-path=\"url(#p21ad92c3b6)\" d=\"M 32.563636 110.855838 \nL 539.836364 176.746747 \n\" style=\"fill:none;stroke:#000000;\"/>\n    <path clip-path=\"url(#p21ad92c3b6)\" d=\"M 32.563636 110.855838 \nL 539.836364 143.801293 \n\" style=\"fill:none;stroke:#000000;\"/>\n    <path clip-path=\"url(#p21ad92c3b6)\" d=\"M 32.563636 110.855838 \nL 539.836364 77.910384 \n\" style=\"fill:none;stroke:#000000;\"/>\n    <path clip-path=\"url(#p21ad92c3b6)\" d=\"M 32.563636 77.910384 \nL 539.836364 242.637656 \n\" style=\"fill:none;stroke:#000000;\"/>\n    <path clip-path=\"url(#p21ad92c3b6)\" d=\"M 32.563636 44.964929 \nL 539.836364 308.528565 \n\" style=\"fill:none;stroke:#000000;\"/>\n   </g>\n   <g id=\"PathCollection_1\">\n    <defs>\n     <path d=\"M 0 12.4499 \nC 3.301752 12.4499 6.468717 11.1381 8.803408 8.803408 \nC 11.1381 6.468717 12.4499 3.301752 12.4499 0 \nC 12.4499 -3.301752 11.1381 -6.468717 8.803408 -8.803408 \nC 6.468717 -11.1381 3.301752 -12.4499 0 -12.4499 \nC -3.301752 -12.4499 -6.468717 -11.1381 -8.803408 -8.803408 \nC -11.1381 -6.468717 -12.4499 -3.301752 -12.4499 0 \nC -12.4499 3.301752 -11.1381 6.468717 -8.803408 8.803408 \nC -6.468717 11.1381 -3.301752 12.4499 0 12.4499 \nz\n\" id=\"m3b282a53fb\" style=\"stroke:#5d67d9;\"/>\n    </defs>\n    <g clip-path=\"url(#p21ad92c3b6)\">\n     <use style=\"fill:#5d67d9;stroke:#5d67d9;\" x=\"32.563636\" xlink:href=\"#m3b282a53fb\" y=\"440.310384\"/>\n     <use style=\"fill:#5d67d9;stroke:#5d67d9;\" x=\"32.563636\" xlink:href=\"#m3b282a53fb\" y=\"407.364929\"/>\n     <use style=\"fill:#5d67d9;stroke:#5d67d9;\" x=\"32.563636\" xlink:href=\"#m3b282a53fb\" y=\"374.419474\"/>\n     <use style=\"fill:#5d67d9;stroke:#5d67d9;\" x=\"32.563636\" xlink:href=\"#m3b282a53fb\" y=\"341.47402\"/>\n     <use style=\"fill:#5d67d9;stroke:#5d67d9;\" x=\"32.563636\" xlink:href=\"#m3b282a53fb\" y=\"308.528565\"/>\n     <use style=\"fill:#5d67d9;stroke:#5d67d9;\" x=\"32.563636\" xlink:href=\"#m3b282a53fb\" y=\"275.583111\"/>\n     <use style=\"fill:#5d67d9;stroke:#5d67d9;\" x=\"32.563636\" xlink:href=\"#m3b282a53fb\" y=\"242.637656\"/>\n     <use style=\"fill:#5d67d9;stroke:#5d67d9;\" x=\"32.563636\" xlink:href=\"#m3b282a53fb\" y=\"209.692202\"/>\n     <use style=\"fill:#5d67d9;stroke:#5d67d9;\" x=\"32.563636\" xlink:href=\"#m3b282a53fb\" y=\"176.746747\"/>\n     <use style=\"fill:#5d67d9;stroke:#5d67d9;\" x=\"32.563636\" xlink:href=\"#m3b282a53fb\" y=\"143.801293\"/>\n     <use style=\"fill:#5d67d9;stroke:#5d67d9;\" x=\"32.563636\" xlink:href=\"#m3b282a53fb\" y=\"110.855838\"/>\n     <use style=\"fill:#5d67d9;stroke:#5d67d9;\" x=\"32.563636\" xlink:href=\"#m3b282a53fb\" y=\"77.910384\"/>\n     <use style=\"fill:#5d67d9;stroke:#5d67d9;\" x=\"32.563636\" xlink:href=\"#m3b282a53fb\" y=\"44.964929\"/>\n     <use style=\"fill:#5d67d9;stroke:#5d67d9;\" x=\"539.836364\" xlink:href=\"#m3b282a53fb\" y=\"440.310384\"/>\n     <use style=\"fill:#5d67d9;stroke:#5d67d9;\" x=\"539.836364\" xlink:href=\"#m3b282a53fb\" y=\"407.364929\"/>\n     <use style=\"fill:#5d67d9;stroke:#5d67d9;\" x=\"539.836364\" xlink:href=\"#m3b282a53fb\" y=\"374.419474\"/>\n     <use style=\"fill:#5d67d9;stroke:#5d67d9;\" x=\"539.836364\" xlink:href=\"#m3b282a53fb\" y=\"341.47402\"/>\n     <use style=\"fill:#5d67d9;stroke:#5d67d9;\" x=\"539.836364\" xlink:href=\"#m3b282a53fb\" y=\"308.528565\"/>\n     <use style=\"fill:#5d67d9;stroke:#5d67d9;\" x=\"539.836364\" xlink:href=\"#m3b282a53fb\" y=\"275.583111\"/>\n     <use style=\"fill:#5d67d9;stroke:#5d67d9;\" x=\"539.836364\" xlink:href=\"#m3b282a53fb\" y=\"242.637656\"/>\n     <use style=\"fill:#5d67d9;stroke:#5d67d9;\" x=\"539.836364\" xlink:href=\"#m3b282a53fb\" y=\"209.692202\"/>\n     <use style=\"fill:#5d67d9;stroke:#5d67d9;\" x=\"539.836364\" xlink:href=\"#m3b282a53fb\" y=\"176.746747\"/>\n     <use style=\"fill:#5d67d9;stroke:#5d67d9;\" x=\"539.836364\" xlink:href=\"#m3b282a53fb\" y=\"143.801293\"/>\n     <use style=\"fill:#5d67d9;stroke:#5d67d9;\" x=\"539.836364\" xlink:href=\"#m3b282a53fb\" y=\"110.855838\"/>\n     <use style=\"fill:#5d67d9;stroke:#5d67d9;\" x=\"539.836364\" xlink:href=\"#m3b282a53fb\" y=\"77.910384\"/>\n     <use style=\"fill:#5d67d9;stroke:#5d67d9;\" x=\"539.836364\" xlink:href=\"#m3b282a53fb\" y=\"44.964929\"/>\n    </g>\n   </g>\n   <g id=\"text_1\">\n    <g clip-path=\"url(#p21ad92c3b6)\">\n     <!-- 1 -->\n     <g transform=\"translate(28.746136 443.621634)scale(0.12 -0.12)\">\n      <defs>\n       <path d=\"M 12.40625 8.296875 \nL 28.515625 8.296875 \nL 28.515625 63.921875 \nL 10.984375 60.40625 \nL 10.984375 69.390625 \nL 28.421875 72.90625 \nL 38.28125 72.90625 \nL 38.28125 8.296875 \nL 54.390625 8.296875 \nL 54.390625 0 \nL 12.40625 0 \nz\n\" id=\"DejaVuSans-49\"/>\n      </defs>\n      <use xlink:href=\"#DejaVuSans-49\"/>\n     </g>\n    </g>\n   </g>\n   <g id=\"text_2\">\n    <g clip-path=\"url(#p21ad92c3b6)\">\n     <!-- 2 -->\n     <g transform=\"translate(28.746136 410.676179)scale(0.12 -0.12)\">\n      <defs>\n       <path d=\"M 19.1875 8.296875 \nL 53.609375 8.296875 \nL 53.609375 0 \nL 7.328125 0 \nL 7.328125 8.296875 \nQ 12.9375 14.109375 22.625 23.890625 \nQ 32.328125 33.6875 34.8125 36.53125 \nQ 39.546875 41.84375 41.421875 45.53125 \nQ 43.3125 49.21875 43.3125 52.78125 \nQ 43.3125 58.59375 39.234375 62.25 \nQ 35.15625 65.921875 28.609375 65.921875 \nQ 23.96875 65.921875 18.8125 64.3125 \nQ 13.671875 62.703125 7.8125 59.421875 \nL 7.8125 69.390625 \nQ 13.765625 71.78125 18.9375 73 \nQ 24.125 74.21875 28.421875 74.21875 \nQ 39.75 74.21875 46.484375 68.546875 \nQ 53.21875 62.890625 53.21875 53.421875 \nQ 53.21875 48.921875 51.53125 44.890625 \nQ 49.859375 40.875 45.40625 35.40625 \nQ 44.1875 33.984375 37.640625 27.21875 \nQ 31.109375 20.453125 19.1875 8.296875 \nz\n\" id=\"DejaVuSans-50\"/>\n      </defs>\n      <use xlink:href=\"#DejaVuSans-50\"/>\n     </g>\n    </g>\n   </g>\n   <g id=\"text_3\">\n    <g clip-path=\"url(#p21ad92c3b6)\">\n     <!-- 3 -->\n     <g transform=\"translate(28.746136 377.730724)scale(0.12 -0.12)\">\n      <defs>\n       <path d=\"M 40.578125 39.3125 \nQ 47.65625 37.796875 51.625 33 \nQ 55.609375 28.21875 55.609375 21.1875 \nQ 55.609375 10.40625 48.1875 4.484375 \nQ 40.765625 -1.421875 27.09375 -1.421875 \nQ 22.515625 -1.421875 17.65625 -0.515625 \nQ 12.796875 0.390625 7.625 2.203125 \nL 7.625 11.71875 \nQ 11.71875 9.328125 16.59375 8.109375 \nQ 21.484375 6.890625 26.8125 6.890625 \nQ 36.078125 6.890625 40.9375 10.546875 \nQ 45.796875 14.203125 45.796875 21.1875 \nQ 45.796875 27.640625 41.28125 31.265625 \nQ 36.765625 34.90625 28.71875 34.90625 \nL 20.21875 34.90625 \nL 20.21875 43.015625 \nL 29.109375 43.015625 \nQ 36.375 43.015625 40.234375 45.921875 \nQ 44.09375 48.828125 44.09375 54.296875 \nQ 44.09375 59.90625 40.109375 62.90625 \nQ 36.140625 65.921875 28.71875 65.921875 \nQ 24.65625 65.921875 20.015625 65.03125 \nQ 15.375 64.15625 9.8125 62.3125 \nL 9.8125 71.09375 \nQ 15.4375 72.65625 20.34375 73.4375 \nQ 25.25 74.21875 29.59375 74.21875 \nQ 40.828125 74.21875 47.359375 69.109375 \nQ 53.90625 64.015625 53.90625 55.328125 \nQ 53.90625 49.265625 50.4375 45.09375 \nQ 46.96875 40.921875 40.578125 39.3125 \nz\n\" id=\"DejaVuSans-51\"/>\n      </defs>\n      <use xlink:href=\"#DejaVuSans-51\"/>\n     </g>\n    </g>\n   </g>\n   <g id=\"text_4\">\n    <g clip-path=\"url(#p21ad92c3b6)\">\n     <!-- 4 -->\n     <g transform=\"translate(28.746136 344.78527)scale(0.12 -0.12)\">\n      <defs>\n       <path d=\"M 37.796875 64.3125 \nL 12.890625 25.390625 \nL 37.796875 25.390625 \nz\nM 35.203125 72.90625 \nL 47.609375 72.90625 \nL 47.609375 25.390625 \nL 58.015625 25.390625 \nL 58.015625 17.1875 \nL 47.609375 17.1875 \nL 47.609375 0 \nL 37.796875 0 \nL 37.796875 17.1875 \nL 4.890625 17.1875 \nL 4.890625 26.703125 \nz\n\" id=\"DejaVuSans-52\"/>\n      </defs>\n      <use xlink:href=\"#DejaVuSans-52\"/>\n     </g>\n    </g>\n   </g>\n   <g id=\"text_5\">\n    <g clip-path=\"url(#p21ad92c3b6)\">\n     <!-- 5 -->\n     <g transform=\"translate(28.746136 311.839815)scale(0.12 -0.12)\">\n      <defs>\n       <path d=\"M 10.796875 72.90625 \nL 49.515625 72.90625 \nL 49.515625 64.59375 \nL 19.828125 64.59375 \nL 19.828125 46.734375 \nQ 21.96875 47.46875 24.109375 47.828125 \nQ 26.265625 48.1875 28.421875 48.1875 \nQ 40.625 48.1875 47.75 41.5 \nQ 54.890625 34.8125 54.890625 23.390625 \nQ 54.890625 11.625 47.5625 5.09375 \nQ 40.234375 -1.421875 26.90625 -1.421875 \nQ 22.3125 -1.421875 17.546875 -0.640625 \nQ 12.796875 0.140625 7.71875 1.703125 \nL 7.71875 11.625 \nQ 12.109375 9.234375 16.796875 8.0625 \nQ 21.484375 6.890625 26.703125 6.890625 \nQ 35.15625 6.890625 40.078125 11.328125 \nQ 45.015625 15.765625 45.015625 23.390625 \nQ 45.015625 31 40.078125 35.4375 \nQ 35.15625 39.890625 26.703125 39.890625 \nQ 22.75 39.890625 18.8125 39.015625 \nQ 14.890625 38.140625 10.796875 36.28125 \nz\n\" id=\"DejaVuSans-53\"/>\n      </defs>\n      <use xlink:href=\"#DejaVuSans-53\"/>\n     </g>\n    </g>\n   </g>\n   <g id=\"text_6\">\n    <g clip-path=\"url(#p21ad92c3b6)\">\n     <!-- 6 -->\n     <g transform=\"translate(28.746136 278.894361)scale(0.12 -0.12)\">\n      <defs>\n       <path d=\"M 33.015625 40.375 \nQ 26.375 40.375 22.484375 35.828125 \nQ 18.609375 31.296875 18.609375 23.390625 \nQ 18.609375 15.53125 22.484375 10.953125 \nQ 26.375 6.390625 33.015625 6.390625 \nQ 39.65625 6.390625 43.53125 10.953125 \nQ 47.40625 15.53125 47.40625 23.390625 \nQ 47.40625 31.296875 43.53125 35.828125 \nQ 39.65625 40.375 33.015625 40.375 \nz\nM 52.59375 71.296875 \nL 52.59375 62.3125 \nQ 48.875 64.0625 45.09375 64.984375 \nQ 41.3125 65.921875 37.59375 65.921875 \nQ 27.828125 65.921875 22.671875 59.328125 \nQ 17.53125 52.734375 16.796875 39.40625 \nQ 19.671875 43.65625 24.015625 45.921875 \nQ 28.375 48.1875 33.59375 48.1875 \nQ 44.578125 48.1875 50.953125 41.515625 \nQ 57.328125 34.859375 57.328125 23.390625 \nQ 57.328125 12.15625 50.6875 5.359375 \nQ 44.046875 -1.421875 33.015625 -1.421875 \nQ 20.359375 -1.421875 13.671875 8.265625 \nQ 6.984375 17.96875 6.984375 36.375 \nQ 6.984375 53.65625 15.1875 63.9375 \nQ 23.390625 74.21875 37.203125 74.21875 \nQ 40.921875 74.21875 44.703125 73.484375 \nQ 48.484375 72.75 52.59375 71.296875 \nz\n\" id=\"DejaVuSans-54\"/>\n      </defs>\n      <use xlink:href=\"#DejaVuSans-54\"/>\n     </g>\n    </g>\n   </g>\n   <g id=\"text_7\">\n    <g clip-path=\"url(#p21ad92c3b6)\">\n     <!-- 7 -->\n     <g transform=\"translate(28.746136 245.948906)scale(0.12 -0.12)\">\n      <defs>\n       <path d=\"M 8.203125 72.90625 \nL 55.078125 72.90625 \nL 55.078125 68.703125 \nL 28.609375 0 \nL 18.3125 0 \nL 43.21875 64.59375 \nL 8.203125 64.59375 \nz\n\" id=\"DejaVuSans-55\"/>\n      </defs>\n      <use xlink:href=\"#DejaVuSans-55\"/>\n     </g>\n    </g>\n   </g>\n   <g id=\"text_8\">\n    <g clip-path=\"url(#p21ad92c3b6)\">\n     <!-- 8 -->\n     <g transform=\"translate(28.746136 213.003452)scale(0.12 -0.12)\">\n      <defs>\n       <path d=\"M 31.78125 34.625 \nQ 24.75 34.625 20.71875 30.859375 \nQ 16.703125 27.09375 16.703125 20.515625 \nQ 16.703125 13.921875 20.71875 10.15625 \nQ 24.75 6.390625 31.78125 6.390625 \nQ 38.8125 6.390625 42.859375 10.171875 \nQ 46.921875 13.96875 46.921875 20.515625 \nQ 46.921875 27.09375 42.890625 30.859375 \nQ 38.875 34.625 31.78125 34.625 \nz\nM 21.921875 38.8125 \nQ 15.578125 40.375 12.03125 44.71875 \nQ 8.5 49.078125 8.5 55.328125 \nQ 8.5 64.0625 14.71875 69.140625 \nQ 20.953125 74.21875 31.78125 74.21875 \nQ 42.671875 74.21875 48.875 69.140625 \nQ 55.078125 64.0625 55.078125 55.328125 \nQ 55.078125 49.078125 51.53125 44.71875 \nQ 48 40.375 41.703125 38.8125 \nQ 48.828125 37.15625 52.796875 32.3125 \nQ 56.78125 27.484375 56.78125 20.515625 \nQ 56.78125 9.90625 50.3125 4.234375 \nQ 43.84375 -1.421875 31.78125 -1.421875 \nQ 19.734375 -1.421875 13.25 4.234375 \nQ 6.78125 9.90625 6.78125 20.515625 \nQ 6.78125 27.484375 10.78125 32.3125 \nQ 14.796875 37.15625 21.921875 38.8125 \nz\nM 18.3125 54.390625 \nQ 18.3125 48.734375 21.84375 45.5625 \nQ 25.390625 42.390625 31.78125 42.390625 \nQ 38.140625 42.390625 41.71875 45.5625 \nQ 45.3125 48.734375 45.3125 54.390625 \nQ 45.3125 60.0625 41.71875 63.234375 \nQ 38.140625 66.40625 31.78125 66.40625 \nQ 25.390625 66.40625 21.84375 63.234375 \nQ 18.3125 60.0625 18.3125 54.390625 \nz\n\" id=\"DejaVuSans-56\"/>\n      </defs>\n      <use xlink:href=\"#DejaVuSans-56\"/>\n     </g>\n    </g>\n   </g>\n   <g id=\"text_9\">\n    <g clip-path=\"url(#p21ad92c3b6)\">\n     <!-- 9 -->\n     <g transform=\"translate(28.746136 180.057997)scale(0.12 -0.12)\">\n      <defs>\n       <path d=\"M 10.984375 1.515625 \nL 10.984375 10.5 \nQ 14.703125 8.734375 18.5 7.8125 \nQ 22.3125 6.890625 25.984375 6.890625 \nQ 35.75 6.890625 40.890625 13.453125 \nQ 46.046875 20.015625 46.78125 33.40625 \nQ 43.953125 29.203125 39.59375 26.953125 \nQ 35.25 24.703125 29.984375 24.703125 \nQ 19.046875 24.703125 12.671875 31.3125 \nQ 6.296875 37.9375 6.296875 49.421875 \nQ 6.296875 60.640625 12.9375 67.421875 \nQ 19.578125 74.21875 30.609375 74.21875 \nQ 43.265625 74.21875 49.921875 64.515625 \nQ 56.59375 54.828125 56.59375 36.375 \nQ 56.59375 19.140625 48.40625 8.859375 \nQ 40.234375 -1.421875 26.421875 -1.421875 \nQ 22.703125 -1.421875 18.890625 -0.6875 \nQ 15.09375 0.046875 10.984375 1.515625 \nz\nM 30.609375 32.421875 \nQ 37.25 32.421875 41.125 36.953125 \nQ 45.015625 41.5 45.015625 49.421875 \nQ 45.015625 57.28125 41.125 61.84375 \nQ 37.25 66.40625 30.609375 66.40625 \nQ 23.96875 66.40625 20.09375 61.84375 \nQ 16.21875 57.28125 16.21875 49.421875 \nQ 16.21875 41.5 20.09375 36.953125 \nQ 23.96875 32.421875 30.609375 32.421875 \nz\n\" id=\"DejaVuSans-57\"/>\n      </defs>\n      <use xlink:href=\"#DejaVuSans-57\"/>\n     </g>\n    </g>\n   </g>\n   <g id=\"text_10\">\n    <g clip-path=\"url(#p21ad92c3b6)\">\n     <!-- 10 -->\n     <g transform=\"translate(24.928636 147.112543)scale(0.12 -0.12)\">\n      <defs>\n       <path d=\"M 31.78125 66.40625 \nQ 24.171875 66.40625 20.328125 58.90625 \nQ 16.5 51.421875 16.5 36.375 \nQ 16.5 21.390625 20.328125 13.890625 \nQ 24.171875 6.390625 31.78125 6.390625 \nQ 39.453125 6.390625 43.28125 13.890625 \nQ 47.125 21.390625 47.125 36.375 \nQ 47.125 51.421875 43.28125 58.90625 \nQ 39.453125 66.40625 31.78125 66.40625 \nz\nM 31.78125 74.21875 \nQ 44.046875 74.21875 50.515625 64.515625 \nQ 56.984375 54.828125 56.984375 36.375 \nQ 56.984375 17.96875 50.515625 8.265625 \nQ 44.046875 -1.421875 31.78125 -1.421875 \nQ 19.53125 -1.421875 13.0625 8.265625 \nQ 6.59375 17.96875 6.59375 36.375 \nQ 6.59375 54.828125 13.0625 64.515625 \nQ 19.53125 74.21875 31.78125 74.21875 \nz\n\" id=\"DejaVuSans-48\"/>\n      </defs>\n      <use xlink:href=\"#DejaVuSans-49\"/>\n      <use x=\"63.623047\" xlink:href=\"#DejaVuSans-48\"/>\n     </g>\n    </g>\n   </g>\n   <g id=\"text_11\">\n    <g clip-path=\"url(#p21ad92c3b6)\">\n     <!-- 11 -->\n     <g transform=\"translate(24.928636 114.167088)scale(0.12 -0.12)\">\n      <use xlink:href=\"#DejaVuSans-49\"/>\n      <use x=\"63.623047\" xlink:href=\"#DejaVuSans-49\"/>\n     </g>\n    </g>\n   </g>\n   <g id=\"text_12\">\n    <g clip-path=\"url(#p21ad92c3b6)\">\n     <!-- 12 -->\n     <g transform=\"translate(24.928636 81.221634)scale(0.12 -0.12)\">\n      <use xlink:href=\"#DejaVuSans-49\"/>\n      <use x=\"63.623047\" xlink:href=\"#DejaVuSans-50\"/>\n     </g>\n    </g>\n   </g>\n   <g id=\"text_13\">\n    <g clip-path=\"url(#p21ad92c3b6)\">\n     <!-- 13 -->\n     <g transform=\"translate(24.928636 48.276179)scale(0.12 -0.12)\">\n      <use xlink:href=\"#DejaVuSans-49\"/>\n      <use x=\"63.623047\" xlink:href=\"#DejaVuSans-51\"/>\n     </g>\n    </g>\n   </g>\n   <g id=\"text_14\">\n    <g clip-path=\"url(#p21ad92c3b6)\">\n     <!-- 51 -->\n     <g transform=\"translate(532.201364 443.621634)scale(0.12 -0.12)\">\n      <use xlink:href=\"#DejaVuSans-53\"/>\n      <use x=\"63.623047\" xlink:href=\"#DejaVuSans-49\"/>\n     </g>\n    </g>\n   </g>\n   <g id=\"text_15\">\n    <g clip-path=\"url(#p21ad92c3b6)\">\n     <!-- 52 -->\n     <g transform=\"translate(532.201364 410.676179)scale(0.12 -0.12)\">\n      <use xlink:href=\"#DejaVuSans-53\"/>\n      <use x=\"63.623047\" xlink:href=\"#DejaVuSans-50\"/>\n     </g>\n    </g>\n   </g>\n   <g id=\"text_16\">\n    <g clip-path=\"url(#p21ad92c3b6)\">\n     <!-- 53 -->\n     <g transform=\"translate(532.201364 377.730724)scale(0.12 -0.12)\">\n      <use xlink:href=\"#DejaVuSans-53\"/>\n      <use x=\"63.623047\" xlink:href=\"#DejaVuSans-51\"/>\n     </g>\n    </g>\n   </g>\n   <g id=\"text_17\">\n    <g clip-path=\"url(#p21ad92c3b6)\">\n     <!-- 54 -->\n     <g transform=\"translate(532.201364 344.78527)scale(0.12 -0.12)\">\n      <use xlink:href=\"#DejaVuSans-53\"/>\n      <use x=\"63.623047\" xlink:href=\"#DejaVuSans-52\"/>\n     </g>\n    </g>\n   </g>\n   <g id=\"text_18\">\n    <g clip-path=\"url(#p21ad92c3b6)\">\n     <!-- 55 -->\n     <g transform=\"translate(532.201364 311.839815)scale(0.12 -0.12)\">\n      <use xlink:href=\"#DejaVuSans-53\"/>\n      <use x=\"63.623047\" xlink:href=\"#DejaVuSans-53\"/>\n     </g>\n    </g>\n   </g>\n   <g id=\"text_19\">\n    <g clip-path=\"url(#p21ad92c3b6)\">\n     <!-- 56 -->\n     <g transform=\"translate(532.201364 278.894361)scale(0.12 -0.12)\">\n      <use xlink:href=\"#DejaVuSans-53\"/>\n      <use x=\"63.623047\" xlink:href=\"#DejaVuSans-54\"/>\n     </g>\n    </g>\n   </g>\n   <g id=\"text_20\">\n    <g clip-path=\"url(#p21ad92c3b6)\">\n     <!-- 57 -->\n     <g transform=\"translate(532.201364 245.948906)scale(0.12 -0.12)\">\n      <use xlink:href=\"#DejaVuSans-53\"/>\n      <use x=\"63.623047\" xlink:href=\"#DejaVuSans-55\"/>\n     </g>\n    </g>\n   </g>\n   <g id=\"text_21\">\n    <g clip-path=\"url(#p21ad92c3b6)\">\n     <!-- 58 -->\n     <g transform=\"translate(532.201364 213.003452)scale(0.12 -0.12)\">\n      <use xlink:href=\"#DejaVuSans-53\"/>\n      <use x=\"63.623047\" xlink:href=\"#DejaVuSans-56\"/>\n     </g>\n    </g>\n   </g>\n   <g id=\"text_22\">\n    <g clip-path=\"url(#p21ad92c3b6)\">\n     <!-- 59 -->\n     <g transform=\"translate(532.201364 180.057997)scale(0.12 -0.12)\">\n      <use xlink:href=\"#DejaVuSans-53\"/>\n      <use x=\"63.623047\" xlink:href=\"#DejaVuSans-57\"/>\n     </g>\n    </g>\n   </g>\n   <g id=\"text_23\">\n    <g clip-path=\"url(#p21ad92c3b6)\">\n     <!-- 60 -->\n     <g transform=\"translate(532.201364 147.112543)scale(0.12 -0.12)\">\n      <use xlink:href=\"#DejaVuSans-54\"/>\n      <use x=\"63.623047\" xlink:href=\"#DejaVuSans-48\"/>\n     </g>\n    </g>\n   </g>\n   <g id=\"text_24\">\n    <g clip-path=\"url(#p21ad92c3b6)\">\n     <!-- 61 -->\n     <g transform=\"translate(532.201364 114.167088)scale(0.12 -0.12)\">\n      <use xlink:href=\"#DejaVuSans-54\"/>\n      <use x=\"63.623047\" xlink:href=\"#DejaVuSans-49\"/>\n     </g>\n    </g>\n   </g>\n   <g id=\"text_25\">\n    <g clip-path=\"url(#p21ad92c3b6)\">\n     <!-- 62 -->\n     <g transform=\"translate(532.201364 81.221634)scale(0.12 -0.12)\">\n      <use xlink:href=\"#DejaVuSans-54\"/>\n      <use x=\"63.623047\" xlink:href=\"#DejaVuSans-50\"/>\n     </g>\n    </g>\n   </g>\n   <g id=\"text_26\">\n    <g clip-path=\"url(#p21ad92c3b6)\">\n     <!-- 63 -->\n     <g transform=\"translate(532.201364 48.276179)scale(0.12 -0.12)\">\n      <use xlink:href=\"#DejaVuSans-54\"/>\n      <use x=\"63.623047\" xlink:href=\"#DejaVuSans-51\"/>\n     </g>\n    </g>\n   </g>\n   <g id=\"text_27\">\n    <!-- Gráfica bipartita entre colonia (izq) y productos (der) -->\n    <g style=\"fill:#262626;\" transform=\"translate(87.355078 19.197656)scale(0.15 -0.15)\">\n     <defs>\n      <path d=\"M 59.515625 10.40625 \nL 59.515625 29.984375 \nL 43.40625 29.984375 \nL 43.40625 38.09375 \nL 69.28125 38.09375 \nL 69.28125 6.78125 \nQ 63.578125 2.734375 56.6875 0.65625 \nQ 49.8125 -1.421875 42 -1.421875 \nQ 24.90625 -1.421875 15.25 8.5625 \nQ 5.609375 18.5625 5.609375 36.375 \nQ 5.609375 54.25 15.25 64.234375 \nQ 24.90625 74.21875 42 74.21875 \nQ 49.125 74.21875 55.546875 72.453125 \nQ 61.96875 70.703125 67.390625 67.28125 \nL 67.390625 56.78125 \nQ 61.921875 61.421875 55.765625 63.765625 \nQ 49.609375 66.109375 42.828125 66.109375 \nQ 29.4375 66.109375 22.71875 58.640625 \nQ 16.015625 51.171875 16.015625 36.375 \nQ 16.015625 21.625 22.71875 14.15625 \nQ 29.4375 6.6875 42.828125 6.6875 \nQ 48.046875 6.6875 52.140625 7.59375 \nQ 56.25 8.5 59.515625 10.40625 \nz\n\" id=\"DejaVuSans-71\"/>\n      <path d=\"M 41.109375 46.296875 \nQ 39.59375 47.171875 37.8125 47.578125 \nQ 36.03125 48 33.890625 48 \nQ 26.265625 48 22.1875 43.046875 \nQ 18.109375 38.09375 18.109375 28.8125 \nL 18.109375 0 \nL 9.078125 0 \nL 9.078125 54.6875 \nL 18.109375 54.6875 \nL 18.109375 46.1875 \nQ 20.953125 51.171875 25.484375 53.578125 \nQ 30.03125 56 36.53125 56 \nQ 37.453125 56 38.578125 55.875 \nQ 39.703125 55.765625 41.0625 55.515625 \nz\n\" id=\"DejaVuSans-114\"/>\n      <path d=\"M 34.28125 27.484375 \nQ 23.390625 27.484375 19.1875 25 \nQ 14.984375 22.515625 14.984375 16.5 \nQ 14.984375 11.71875 18.140625 8.90625 \nQ 21.296875 6.109375 26.703125 6.109375 \nQ 34.1875 6.109375 38.703125 11.40625 \nQ 43.21875 16.703125 43.21875 25.484375 \nL 43.21875 27.484375 \nz\nM 52.203125 31.203125 \nL 52.203125 0 \nL 43.21875 0 \nL 43.21875 8.296875 \nQ 40.140625 3.328125 35.546875 0.953125 \nQ 30.953125 -1.421875 24.3125 -1.421875 \nQ 15.921875 -1.421875 10.953125 3.296875 \nQ 6 8.015625 6 15.921875 \nQ 6 25.140625 12.171875 29.828125 \nQ 18.359375 34.515625 30.609375 34.515625 \nL 43.21875 34.515625 \nL 43.21875 35.40625 \nQ 43.21875 41.609375 39.140625 45 \nQ 35.0625 48.390625 27.6875 48.390625 \nQ 23 48.390625 18.546875 47.265625 \nQ 14.109375 46.140625 10.015625 43.890625 \nL 10.015625 52.203125 \nQ 14.9375 54.109375 19.578125 55.046875 \nQ 24.21875 56 28.609375 56 \nQ 40.484375 56 46.34375 49.84375 \nQ 52.203125 43.703125 52.203125 31.203125 \nz\nM 35.78125 79.984375 \nL 45.5 79.984375 \nL 29.59375 61.625 \nL 22.109375 61.625 \nz\n\" id=\"DejaVuSans-225\"/>\n      <path d=\"M 37.109375 75.984375 \nL 37.109375 68.5 \nL 28.515625 68.5 \nQ 23.6875 68.5 21.796875 66.546875 \nQ 19.921875 64.59375 19.921875 59.515625 \nL 19.921875 54.6875 \nL 34.71875 54.6875 \nL 34.71875 47.703125 \nL 19.921875 47.703125 \nL 19.921875 0 \nL 10.890625 0 \nL 10.890625 47.703125 \nL 2.296875 47.703125 \nL 2.296875 54.6875 \nL 10.890625 54.6875 \nL 10.890625 58.5 \nQ 10.890625 67.625 15.140625 71.796875 \nQ 19.390625 75.984375 28.609375 75.984375 \nz\n\" id=\"DejaVuSans-102\"/>\n      <path d=\"M 9.421875 54.6875 \nL 18.40625 54.6875 \nL 18.40625 0 \nL 9.421875 0 \nz\nM 9.421875 75.984375 \nL 18.40625 75.984375 \nL 18.40625 64.59375 \nL 9.421875 64.59375 \nz\n\" id=\"DejaVuSans-105\"/>\n      <path d=\"M 48.78125 52.59375 \nL 48.78125 44.1875 \nQ 44.96875 46.296875 41.140625 47.34375 \nQ 37.3125 48.390625 33.40625 48.390625 \nQ 24.65625 48.390625 19.8125 42.84375 \nQ 14.984375 37.3125 14.984375 27.296875 \nQ 14.984375 17.28125 19.8125 11.734375 \nQ 24.65625 6.203125 33.40625 6.203125 \nQ 37.3125 6.203125 41.140625 7.25 \nQ 44.96875 8.296875 48.78125 10.40625 \nL 48.78125 2.09375 \nQ 45.015625 0.34375 40.984375 -0.53125 \nQ 36.96875 -1.421875 32.421875 -1.421875 \nQ 20.0625 -1.421875 12.78125 6.34375 \nQ 5.515625 14.109375 5.515625 27.296875 \nQ 5.515625 40.671875 12.859375 48.328125 \nQ 20.21875 56 33.015625 56 \nQ 37.15625 56 41.109375 55.140625 \nQ 45.0625 54.296875 48.78125 52.59375 \nz\n\" id=\"DejaVuSans-99\"/>\n      <path d=\"M 34.28125 27.484375 \nQ 23.390625 27.484375 19.1875 25 \nQ 14.984375 22.515625 14.984375 16.5 \nQ 14.984375 11.71875 18.140625 8.90625 \nQ 21.296875 6.109375 26.703125 6.109375 \nQ 34.1875 6.109375 38.703125 11.40625 \nQ 43.21875 16.703125 43.21875 25.484375 \nL 43.21875 27.484375 \nz\nM 52.203125 31.203125 \nL 52.203125 0 \nL 43.21875 0 \nL 43.21875 8.296875 \nQ 40.140625 3.328125 35.546875 0.953125 \nQ 30.953125 -1.421875 24.3125 -1.421875 \nQ 15.921875 -1.421875 10.953125 3.296875 \nQ 6 8.015625 6 15.921875 \nQ 6 25.140625 12.171875 29.828125 \nQ 18.359375 34.515625 30.609375 34.515625 \nL 43.21875 34.515625 \nL 43.21875 35.40625 \nQ 43.21875 41.609375 39.140625 45 \nQ 35.0625 48.390625 27.6875 48.390625 \nQ 23 48.390625 18.546875 47.265625 \nQ 14.109375 46.140625 10.015625 43.890625 \nL 10.015625 52.203125 \nQ 14.9375 54.109375 19.578125 55.046875 \nQ 24.21875 56 28.609375 56 \nQ 40.484375 56 46.34375 49.84375 \nQ 52.203125 43.703125 52.203125 31.203125 \nz\n\" id=\"DejaVuSans-97\"/>\n      <path id=\"DejaVuSans-32\"/>\n      <path d=\"M 48.6875 27.296875 \nQ 48.6875 37.203125 44.609375 42.84375 \nQ 40.53125 48.484375 33.40625 48.484375 \nQ 26.265625 48.484375 22.1875 42.84375 \nQ 18.109375 37.203125 18.109375 27.296875 \nQ 18.109375 17.390625 22.1875 11.75 \nQ 26.265625 6.109375 33.40625 6.109375 \nQ 40.53125 6.109375 44.609375 11.75 \nQ 48.6875 17.390625 48.6875 27.296875 \nz\nM 18.109375 46.390625 \nQ 20.953125 51.265625 25.265625 53.625 \nQ 29.59375 56 35.59375 56 \nQ 45.5625 56 51.78125 48.09375 \nQ 58.015625 40.1875 58.015625 27.296875 \nQ 58.015625 14.40625 51.78125 6.484375 \nQ 45.5625 -1.421875 35.59375 -1.421875 \nQ 29.59375 -1.421875 25.265625 0.953125 \nQ 20.953125 3.328125 18.109375 8.203125 \nL 18.109375 0 \nL 9.078125 0 \nL 9.078125 75.984375 \nL 18.109375 75.984375 \nz\n\" id=\"DejaVuSans-98\"/>\n      <path d=\"M 18.109375 8.203125 \nL 18.109375 -20.796875 \nL 9.078125 -20.796875 \nL 9.078125 54.6875 \nL 18.109375 54.6875 \nL 18.109375 46.390625 \nQ 20.953125 51.265625 25.265625 53.625 \nQ 29.59375 56 35.59375 56 \nQ 45.5625 56 51.78125 48.09375 \nQ 58.015625 40.1875 58.015625 27.296875 \nQ 58.015625 14.40625 51.78125 6.484375 \nQ 45.5625 -1.421875 35.59375 -1.421875 \nQ 29.59375 -1.421875 25.265625 0.953125 \nQ 20.953125 3.328125 18.109375 8.203125 \nz\nM 48.6875 27.296875 \nQ 48.6875 37.203125 44.609375 42.84375 \nQ 40.53125 48.484375 33.40625 48.484375 \nQ 26.265625 48.484375 22.1875 42.84375 \nQ 18.109375 37.203125 18.109375 27.296875 \nQ 18.109375 17.390625 22.1875 11.75 \nQ 26.265625 6.109375 33.40625 6.109375 \nQ 40.53125 6.109375 44.609375 11.75 \nQ 48.6875 17.390625 48.6875 27.296875 \nz\n\" id=\"DejaVuSans-112\"/>\n      <path d=\"M 18.3125 70.21875 \nL 18.3125 54.6875 \nL 36.8125 54.6875 \nL 36.8125 47.703125 \nL 18.3125 47.703125 \nL 18.3125 18.015625 \nQ 18.3125 11.328125 20.140625 9.421875 \nQ 21.96875 7.515625 27.59375 7.515625 \nL 36.8125 7.515625 \nL 36.8125 0 \nL 27.59375 0 \nQ 17.1875 0 13.234375 3.875 \nQ 9.28125 7.765625 9.28125 18.015625 \nL 9.28125 47.703125 \nL 2.6875 47.703125 \nL 2.6875 54.6875 \nL 9.28125 54.6875 \nL 9.28125 70.21875 \nz\n\" id=\"DejaVuSans-116\"/>\n      <path d=\"M 56.203125 29.59375 \nL 56.203125 25.203125 \nL 14.890625 25.203125 \nQ 15.484375 15.921875 20.484375 11.0625 \nQ 25.484375 6.203125 34.421875 6.203125 \nQ 39.59375 6.203125 44.453125 7.46875 \nQ 49.3125 8.734375 54.109375 11.28125 \nL 54.109375 2.78125 \nQ 49.265625 0.734375 44.1875 -0.34375 \nQ 39.109375 -1.421875 33.890625 -1.421875 \nQ 20.796875 -1.421875 13.15625 6.1875 \nQ 5.515625 13.8125 5.515625 26.8125 \nQ 5.515625 40.234375 12.765625 48.109375 \nQ 20.015625 56 32.328125 56 \nQ 43.359375 56 49.78125 48.890625 \nQ 56.203125 41.796875 56.203125 29.59375 \nz\nM 47.21875 32.234375 \nQ 47.125 39.59375 43.09375 43.984375 \nQ 39.0625 48.390625 32.421875 48.390625 \nQ 24.90625 48.390625 20.390625 44.140625 \nQ 15.875 39.890625 15.1875 32.171875 \nz\n\" id=\"DejaVuSans-101\"/>\n      <path d=\"M 54.890625 33.015625 \nL 54.890625 0 \nL 45.90625 0 \nL 45.90625 32.71875 \nQ 45.90625 40.484375 42.875 44.328125 \nQ 39.84375 48.1875 33.796875 48.1875 \nQ 26.515625 48.1875 22.3125 43.546875 \nQ 18.109375 38.921875 18.109375 30.90625 \nL 18.109375 0 \nL 9.078125 0 \nL 9.078125 54.6875 \nL 18.109375 54.6875 \nL 18.109375 46.1875 \nQ 21.34375 51.125 25.703125 53.5625 \nQ 30.078125 56 35.796875 56 \nQ 45.21875 56 50.046875 50.171875 \nQ 54.890625 44.34375 54.890625 33.015625 \nz\n\" id=\"DejaVuSans-110\"/>\n      <path d=\"M 30.609375 48.390625 \nQ 23.390625 48.390625 19.1875 42.75 \nQ 14.984375 37.109375 14.984375 27.296875 \nQ 14.984375 17.484375 19.15625 11.84375 \nQ 23.34375 6.203125 30.609375 6.203125 \nQ 37.796875 6.203125 41.984375 11.859375 \nQ 46.1875 17.53125 46.1875 27.296875 \nQ 46.1875 37.015625 41.984375 42.703125 \nQ 37.796875 48.390625 30.609375 48.390625 \nz\nM 30.609375 56 \nQ 42.328125 56 49.015625 48.375 \nQ 55.71875 40.765625 55.71875 27.296875 \nQ 55.71875 13.875 49.015625 6.21875 \nQ 42.328125 -1.421875 30.609375 -1.421875 \nQ 18.84375 -1.421875 12.171875 6.21875 \nQ 5.515625 13.875 5.515625 27.296875 \nQ 5.515625 40.765625 12.171875 48.375 \nQ 18.84375 56 30.609375 56 \nz\n\" id=\"DejaVuSans-111\"/>\n      <path d=\"M 9.421875 75.984375 \nL 18.40625 75.984375 \nL 18.40625 0 \nL 9.421875 0 \nz\n\" id=\"DejaVuSans-108\"/>\n      <path d=\"M 31 75.875 \nQ 24.46875 64.65625 21.28125 53.65625 \nQ 18.109375 42.671875 18.109375 31.390625 \nQ 18.109375 20.125 21.3125 9.0625 \nQ 24.515625 -2 31 -13.1875 \nL 23.1875 -13.1875 \nQ 15.875 -1.703125 12.234375 9.375 \nQ 8.59375 20.453125 8.59375 31.390625 \nQ 8.59375 42.28125 12.203125 53.3125 \nQ 15.828125 64.359375 23.1875 75.875 \nz\n\" id=\"DejaVuSans-40\"/>\n      <path d=\"M 5.515625 54.6875 \nL 48.1875 54.6875 \nL 48.1875 46.484375 \nL 14.40625 7.171875 \nL 48.1875 7.171875 \nL 48.1875 0 \nL 4.296875 0 \nL 4.296875 8.203125 \nL 38.09375 47.515625 \nL 5.515625 47.515625 \nz\n\" id=\"DejaVuSans-122\"/>\n      <path d=\"M 14.796875 27.296875 \nQ 14.796875 17.390625 18.875 11.75 \nQ 22.953125 6.109375 30.078125 6.109375 \nQ 37.203125 6.109375 41.296875 11.75 \nQ 45.40625 17.390625 45.40625 27.296875 \nQ 45.40625 37.203125 41.296875 42.84375 \nQ 37.203125 48.484375 30.078125 48.484375 \nQ 22.953125 48.484375 18.875 42.84375 \nQ 14.796875 37.203125 14.796875 27.296875 \nz\nM 45.40625 8.203125 \nQ 42.578125 3.328125 38.25 0.953125 \nQ 33.9375 -1.421875 27.875 -1.421875 \nQ 17.96875 -1.421875 11.734375 6.484375 \nQ 5.515625 14.40625 5.515625 27.296875 \nQ 5.515625 40.1875 11.734375 48.09375 \nQ 17.96875 56 27.875 56 \nQ 33.9375 56 38.25 53.625 \nQ 42.578125 51.265625 45.40625 46.390625 \nL 45.40625 54.6875 \nL 54.390625 54.6875 \nL 54.390625 -20.796875 \nL 45.40625 -20.796875 \nz\n\" id=\"DejaVuSans-113\"/>\n      <path d=\"M 8.015625 75.875 \nL 15.828125 75.875 \nQ 23.140625 64.359375 26.78125 53.3125 \nQ 30.421875 42.28125 30.421875 31.390625 \nQ 30.421875 20.453125 26.78125 9.375 \nQ 23.140625 -1.703125 15.828125 -13.1875 \nL 8.015625 -13.1875 \nQ 14.5 -2 17.703125 9.0625 \nQ 20.90625 20.125 20.90625 31.390625 \nQ 20.90625 42.671875 17.703125 53.65625 \nQ 14.5 64.65625 8.015625 75.875 \nz\n\" id=\"DejaVuSans-41\"/>\n      <path d=\"M 32.171875 -5.078125 \nQ 28.375 -14.84375 24.75 -17.8125 \nQ 21.140625 -20.796875 15.09375 -20.796875 \nL 7.90625 -20.796875 \nL 7.90625 -13.28125 \nL 13.1875 -13.28125 \nQ 16.890625 -13.28125 18.9375 -11.515625 \nQ 21 -9.765625 23.484375 -3.21875 \nL 25.09375 0.875 \nL 2.984375 54.6875 \nL 12.5 54.6875 \nL 29.59375 11.921875 \nL 46.6875 54.6875 \nL 56.203125 54.6875 \nz\n\" id=\"DejaVuSans-121\"/>\n      <path d=\"M 45.40625 46.390625 \nL 45.40625 75.984375 \nL 54.390625 75.984375 \nL 54.390625 0 \nL 45.40625 0 \nL 45.40625 8.203125 \nQ 42.578125 3.328125 38.25 0.953125 \nQ 33.9375 -1.421875 27.875 -1.421875 \nQ 17.96875 -1.421875 11.734375 6.484375 \nQ 5.515625 14.40625 5.515625 27.296875 \nQ 5.515625 40.1875 11.734375 48.09375 \nQ 17.96875 56 27.875 56 \nQ 33.9375 56 38.25 53.625 \nQ 42.578125 51.265625 45.40625 46.390625 \nz\nM 14.796875 27.296875 \nQ 14.796875 17.390625 18.875 11.75 \nQ 22.953125 6.109375 30.078125 6.109375 \nQ 37.203125 6.109375 41.296875 11.75 \nQ 45.40625 17.390625 45.40625 27.296875 \nQ 45.40625 37.203125 41.296875 42.84375 \nQ 37.203125 48.484375 30.078125 48.484375 \nQ 22.953125 48.484375 18.875 42.84375 \nQ 14.796875 37.203125 14.796875 27.296875 \nz\n\" id=\"DejaVuSans-100\"/>\n      <path d=\"M 8.5 21.578125 \nL 8.5 54.6875 \nL 17.484375 54.6875 \nL 17.484375 21.921875 \nQ 17.484375 14.15625 20.5 10.265625 \nQ 23.53125 6.390625 29.59375 6.390625 \nQ 36.859375 6.390625 41.078125 11.03125 \nQ 45.3125 15.671875 45.3125 23.6875 \nL 45.3125 54.6875 \nL 54.296875 54.6875 \nL 54.296875 0 \nL 45.3125 0 \nL 45.3125 8.40625 \nQ 42.046875 3.421875 37.71875 1 \nQ 33.40625 -1.421875 27.6875 -1.421875 \nQ 18.265625 -1.421875 13.375 4.4375 \nQ 8.5 10.296875 8.5 21.578125 \nz\nM 31.109375 56 \nz\n\" id=\"DejaVuSans-117\"/>\n      <path d=\"M 44.28125 53.078125 \nL 44.28125 44.578125 \nQ 40.484375 46.53125 36.375 47.5 \nQ 32.28125 48.484375 27.875 48.484375 \nQ 21.1875 48.484375 17.84375 46.4375 \nQ 14.5 44.390625 14.5 40.28125 \nQ 14.5 37.15625 16.890625 35.375 \nQ 19.28125 33.59375 26.515625 31.984375 \nL 29.59375 31.296875 \nQ 39.15625 29.25 43.1875 25.515625 \nQ 47.21875 21.78125 47.21875 15.09375 \nQ 47.21875 7.46875 41.1875 3.015625 \nQ 35.15625 -1.421875 24.609375 -1.421875 \nQ 20.21875 -1.421875 15.453125 -0.5625 \nQ 10.6875 0.296875 5.421875 2 \nL 5.421875 11.28125 \nQ 10.40625 8.6875 15.234375 7.390625 \nQ 20.0625 6.109375 24.8125 6.109375 \nQ 31.15625 6.109375 34.5625 8.28125 \nQ 37.984375 10.453125 37.984375 14.40625 \nQ 37.984375 18.0625 35.515625 20.015625 \nQ 33.0625 21.96875 24.703125 23.78125 \nL 21.578125 24.515625 \nQ 13.234375 26.265625 9.515625 29.90625 \nQ 5.8125 33.546875 5.8125 39.890625 \nQ 5.8125 47.609375 11.28125 51.796875 \nQ 16.75 56 26.8125 56 \nQ 31.78125 56 36.171875 55.265625 \nQ 40.578125 54.546875 44.28125 53.078125 \nz\n\" id=\"DejaVuSans-115\"/>\n     </defs>\n     <use xlink:href=\"#DejaVuSans-71\"/>\n     <use x=\"77.490234\" xlink:href=\"#DejaVuSans-114\"/>\n     <use x=\"118.603516\" xlink:href=\"#DejaVuSans-225\"/>\n     <use x=\"179.882812\" xlink:href=\"#DejaVuSans-102\"/>\n     <use x=\"215.087891\" xlink:href=\"#DejaVuSans-105\"/>\n     <use x=\"242.871094\" xlink:href=\"#DejaVuSans-99\"/>\n     <use x=\"297.851562\" xlink:href=\"#DejaVuSans-97\"/>\n     <use x=\"359.130859\" xlink:href=\"#DejaVuSans-32\"/>\n     <use x=\"390.917969\" xlink:href=\"#DejaVuSans-98\"/>\n     <use x=\"454.394531\" xlink:href=\"#DejaVuSans-105\"/>\n     <use x=\"482.177734\" xlink:href=\"#DejaVuSans-112\"/>\n     <use x=\"545.654297\" xlink:href=\"#DejaVuSans-97\"/>\n     <use x=\"606.933594\" xlink:href=\"#DejaVuSans-114\"/>\n     <use x=\"648.046875\" xlink:href=\"#DejaVuSans-116\"/>\n     <use x=\"687.255859\" xlink:href=\"#DejaVuSans-105\"/>\n     <use x=\"715.039062\" xlink:href=\"#DejaVuSans-116\"/>\n     <use x=\"754.248047\" xlink:href=\"#DejaVuSans-97\"/>\n     <use x=\"815.527344\" xlink:href=\"#DejaVuSans-32\"/>\n     <use x=\"847.314453\" xlink:href=\"#DejaVuSans-101\"/>\n     <use x=\"908.837891\" xlink:href=\"#DejaVuSans-110\"/>\n     <use x=\"972.216797\" xlink:href=\"#DejaVuSans-116\"/>\n     <use x=\"1011.425781\" xlink:href=\"#DejaVuSans-114\"/>\n     <use x=\"1050.289062\" xlink:href=\"#DejaVuSans-101\"/>\n     <use x=\"1111.8125\" xlink:href=\"#DejaVuSans-32\"/>\n     <use x=\"1143.599609\" xlink:href=\"#DejaVuSans-99\"/>\n     <use x=\"1198.580078\" xlink:href=\"#DejaVuSans-111\"/>\n     <use x=\"1259.761719\" xlink:href=\"#DejaVuSans-108\"/>\n     <use x=\"1287.544922\" xlink:href=\"#DejaVuSans-111\"/>\n     <use x=\"1348.726562\" xlink:href=\"#DejaVuSans-110\"/>\n     <use x=\"1412.105469\" xlink:href=\"#DejaVuSans-105\"/>\n     <use x=\"1439.888672\" xlink:href=\"#DejaVuSans-97\"/>\n     <use x=\"1501.167969\" xlink:href=\"#DejaVuSans-32\"/>\n     <use x=\"1532.955078\" xlink:href=\"#DejaVuSans-40\"/>\n     <use x=\"1571.96875\" xlink:href=\"#DejaVuSans-105\"/>\n     <use x=\"1599.751953\" xlink:href=\"#DejaVuSans-122\"/>\n     <use x=\"1652.242188\" xlink:href=\"#DejaVuSans-113\"/>\n     <use x=\"1715.71875\" xlink:href=\"#DejaVuSans-41\"/>\n     <use x=\"1754.732422\" xlink:href=\"#DejaVuSans-32\"/>\n     <use x=\"1786.519531\" xlink:href=\"#DejaVuSans-121\"/>\n     <use x=\"1845.699219\" xlink:href=\"#DejaVuSans-32\"/>\n     <use x=\"1877.486328\" xlink:href=\"#DejaVuSans-112\"/>\n     <use x=\"1940.962891\" xlink:href=\"#DejaVuSans-114\"/>\n     <use x=\"1979.826172\" xlink:href=\"#DejaVuSans-111\"/>\n     <use x=\"2041.007812\" xlink:href=\"#DejaVuSans-100\"/>\n     <use x=\"2104.484375\" xlink:href=\"#DejaVuSans-117\"/>\n     <use x=\"2167.863281\" xlink:href=\"#DejaVuSans-99\"/>\n     <use x=\"2222.84375\" xlink:href=\"#DejaVuSans-116\"/>\n     <use x=\"2262.052734\" xlink:href=\"#DejaVuSans-111\"/>\n     <use x=\"2323.234375\" xlink:href=\"#DejaVuSans-115\"/>\n     <use x=\"2375.333984\" xlink:href=\"#DejaVuSans-32\"/>\n     <use x=\"2407.121094\" xlink:href=\"#DejaVuSans-40\"/>\n     <use x=\"2446.134766\" xlink:href=\"#DejaVuSans-100\"/>\n     <use x=\"2509.611328\" xlink:href=\"#DejaVuSans-101\"/>\n     <use x=\"2571.134766\" xlink:href=\"#DejaVuSans-114\"/>\n     <use x=\"2612.248047\" xlink:href=\"#DejaVuSans-41\"/>\n    </g>\n   </g>\n  </g>\n </g>\n <defs>\n  <clipPath id=\"p21ad92c3b6\">\n   <rect height=\"434.88\" width=\"558\" x=\"7.2\" y=\"25.197656\"/>\n  </clipPath>\n </defs>\n</svg>\n",
      "image/png": "[encoded data removed]"
     },
     "metadata": {}
    }
   ],
   "source": [
    "plt.figure(figsize=(10,8))\n",
    "ax = plt.gca()\n",
    "ax.set_title(\"Gráfica bipartita entre colonia (izq) y productos (der)\", fontsize=15, color=\"#262626\")\n",
    "top = nx.bipartite.sets(G)[0]\n",
    "pos = nx.bipartite_layout(G, top)\n",
    "nx.draw(G, pos=pos, with_labels=True, node_color=\"#5d67d9\", ax=ax, node_size=620)"
   ]
  },
  {
   "source": [
    "## Vectores de agrupaciones\n",
    "\n",
    "Para cada colonia se creará un vector: $$(M_{c0}, M_{c1}, ECI_{ca}, S_c)$$\n",
    "\n",
    "en donde: \n",
    "- $M_{c0}$: diversificación de productos\n",
    "- $M_{c1}$: complejidad de producción\n",
    "- $ECI_{ca}$: índice de complejidad (ECI) para la alcaldía $a$ de la colonia $c$\n",
    "- $S_c$: porcentaje de infectados de COVID-19 para la colonia $c$"
   ],
   "cell_type": "markdown",
   "metadata": {}
  },
  {
   "cell_type": "code",
   "execution_count": 18,
   "metadata": {},
   "outputs": [],
   "source": [
    "def productos_por(colonia, df):\n",
    "    return list(df[df.colonia == colonia].categoria.unique())\n",
    "\n",
    "def complejidad_por_producto(producto, product_space_matrix, prod_dict):\n",
    "    prod_idx = prod_dict[producto.lower()]-50\n",
    "    return product_space_matrix[:,prod_idx-1].sum()\n",
    "\n",
    "def complejidad(colonia, df, product_space_matrix, prod_dict):\n",
    "    complejidad_col = []\n",
    "    for k in productos_por(colonia, df):\n",
    "        comp = complejidad_por_producto(k, product_space_matrix, prod_dict)\n",
    "        complejidad_col.append(comp)\n",
    "    return sum(complejidad_col)\n",
    "\n",
    "def diversificacion(colonia, product_space_matrix, col_dict):\n",
    "    col_idx = col_dict[colonia.lower()]\n",
    "    return product_space_matrix[col_idx-1].sum()\n",
    "\n",
    "def eci_por(colonia, df):\n",
    "    return np.round(df[df.colonia == colonia].eci.values[0],3)\n",
    "\n",
    "def porcentaje_infectados_por(colonia, df):\n",
    "    return df[df.colonia==colonia].porcentaje_infectados.values[0]"
   ]
  },
  {
   "cell_type": "code",
   "execution_count": 19,
   "metadata": {},
   "outputs": [],
   "source": [
    "class VectorAgrupacion:\n",
    "    def __init__(self, mc0, mc1, ecic, sc):\n",
    "        self.mc0 = mc0\n",
    "        self.mc1 = mc1\n",
    "        self.ecic = ecic\n",
    "        self.sc = sc\n",
    "\n",
    "    def __str__(self):\n",
    "        return f'<M0:{self.mc0}, M1:{self.mc1}, ECI:{self.ecic}, S:{self.sc}>'\n",
    "\n",
    "class ColoniaAgrupacion:\n",
    "    def __init__(self, colonia, vector_agrupacion):\n",
    "        self.colonia = colonia\n",
    "        self.vector_agrupacion = vector_agrupacion\n",
    "\n",
    "    def __str__(self):\n",
    "        return f'Col: {self.colonia.capitalize()} \\n\\t {self.vector_agrupacion}'\n",
    "\n",
    "    def __repr__(self):\n",
    "        return f'<Class:ColoniaAgrupacion> colonia: {self.colonia}'"
   ]
  },
  {
   "cell_type": "code",
   "execution_count": 20,
   "metadata": {},
   "outputs": [
    {
     "output_type": "stream",
     "name": "stdout",
     "text": [
      "Col: Jaime torres bodet \n\t <M0:1, M1:7, ECI:3.866, S:0.1978>\nCol: El rosario \n\t <M0:12, M1:71, ECI:3.866, S:0.1573>\nCol: Tezozomoc \n\t <M0:10, M1:65, ECI:3.866, S:0.1303>\nCol: Doctores \n\t <M0:1, M1:4, ECI:3.866, S:0.1169>\nCol: Olivar del conde 1a seccin \n\t <M0:1, M1:7, ECI:3.855, S:0.1663>\nCol: Campamento 2 de octubre \n\t <M0:1, M1:8, ECI:3.855, S:0.1124>\nCol: Popotla \n\t <M0:12, M1:69, ECI:4.153, S:0.1528>\nCol: Tlaxpana \n\t <M0:11, M1:68, ECI:4.153, S:0.1573>\nCol: Escandon \n\t <M0:2, M1:14, ECI:4.153, S:0.1213>\nCol: San martin xochinahuac \n\t <M0:10, M1:61, ECI:3.866, S:0.17980000000000002>\nCol: San juan tlihuaca \n\t <M0:11, M1:69, ECI:3.866, S:0.2022>\nCol: Xaltocan \n\t <M0:1, M1:8, ECI:4.153, S:0.2921>\nCol: Santa maria nativitas \n\t <M0:1, M1:7, ECI:4.153, S:0.2427>\n"
     ]
    }
   ],
   "source": [
    "colonias_agrupacion = []\n",
    "for colonia in list(df.colonia.unique()):\n",
    "    mc0 = diversificacion(colonia, product_space_matrix, colonias_dict)\n",
    "    mc1 = complejidad(colonia, df, product_space_matrix, productos_dict)\n",
    "    ecic = eci_por(colonia, df)\n",
    "    sc = porcentaje_infectados_por(colonia, df)\n",
    "    vector_agrupacion = VectorAgrupacion(mc0, mc1, ecic, sc)\n",
    "    colonia_agrupacion = ColoniaAgrupacion(colonia, vector_agrupacion)\n",
    "    colonias_agrupacion.append(colonia_agrupacion)\n",
    "\n",
    "for col_ag in colonias_agrupacion:\n",
    "    print(col_ag)"
   ]
  },
  {
   "cell_type": "code",
   "execution_count": 21,
   "metadata": {},
   "outputs": [
    {
     "output_type": "execute_result",
     "data": {
      "text/plain": [
       "{0: <Class:ColoniaAgrupacion> colonia: jaime torres bodet,\n",
       " 1: <Class:ColoniaAgrupacion> colonia: el rosario,\n",
       " 2: <Class:ColoniaAgrupacion> colonia: tezozomoc,\n",
       " 3: <Class:ColoniaAgrupacion> colonia: doctores,\n",
       " 4: <Class:ColoniaAgrupacion> colonia: olivar del conde 1a seccin,\n",
       " 5: <Class:ColoniaAgrupacion> colonia: campamento 2 de octubre,\n",
       " 6: <Class:ColoniaAgrupacion> colonia: popotla,\n",
       " 7: <Class:ColoniaAgrupacion> colonia: tlaxpana,\n",
       " 8: <Class:ColoniaAgrupacion> colonia: escandon,\n",
       " 9: <Class:ColoniaAgrupacion> colonia: san martin xochinahuac,\n",
       " 10: <Class:ColoniaAgrupacion> colonia: san juan tlihuaca,\n",
       " 11: <Class:ColoniaAgrupacion> colonia: xaltocan,\n",
       " 12: <Class:ColoniaAgrupacion> colonia: santa maria nativitas}"
      ]
     },
     "metadata": {},
     "execution_count": 21
    }
   ],
   "source": [
    "colonias_agrupacion_dict = dict(zip(list(range(0, len(colonias_agrupacion))), colonias_agrupacion))\n",
    "colonias_agrupacion_dict"
   ]
  },
  {
   "source": [
    "# Gráfica completa"
   ],
   "cell_type": "markdown",
   "metadata": {}
  },
  {
   "cell_type": "code",
   "execution_count": 22,
   "metadata": {},
   "outputs": [],
   "source": [
    "def peso_arista(colag1, colag2):\n",
    "    colag1 = colag1.vector_agrupacion\n",
    "    colag2 = colag2.vector_agrupacion\n",
    "    eci_max = max(colag1.ecic, colag2.ecic)\n",
    "    s_diff = (colag1.sc + colag2.sc) ** 2\n",
    "    alfa = colag1.mc1 + colag2.mc1\n",
    "    beta = max(colag1.mc0, colag2.mc0)\n",
    "    return np.round(1/ (s_diff*eci_max*(beta+alfa)), 4)"
   ]
  },
  {
   "cell_type": "code",
   "execution_count": 23,
   "metadata": {},
   "outputs": [
    {
     "output_type": "execute_result",
     "data": {
      "text/plain": [
       "NodeView((0, 1, 2, 3, 4, 5, 6, 7, 8, 9, 10, 11, 12))"
      ]
     },
     "metadata": {},
     "execution_count": 23
    }
   ],
   "source": [
    "A = nx.Graph()\n",
    "A.add_nodes_from(list(range(0, len(colonias_agrupacion))))\n",
    "A.nodes()"
   ]
  },
  {
   "cell_type": "code",
   "execution_count": 24,
   "metadata": {},
   "outputs": [
    {
     "output_type": "execute_result",
     "data": {
      "text/plain": [
       "EdgeView([(0, 0), (0, 1), (0, 2), (0, 3), (0, 4), (0, 5), (0, 6), (0, 7), (0, 8), (0, 9), (0, 10), (0, 11), (0, 12), (1, 1), (1, 2), (1, 3), (1, 4), (1, 5), (1, 6), (1, 7), (1, 8), (1, 9), (1, 10), (1, 11), (1, 12), (2, 2), (2, 3), (2, 4), (2, 5), (2, 6), (2, 7), (2, 8), (2, 9), (2, 10), (2, 11), (2, 12), (3, 3), (3, 4), (3, 5), (3, 6), (3, 7), (3, 8), (3, 9), (3, 10), (3, 11), (3, 12), (4, 4), (4, 5), (4, 6), (4, 7), (4, 8), (4, 9), (4, 10), (4, 11), (4, 12), (5, 5), (5, 6), (5, 7), (5, 8), (5, 9), (5, 10), (5, 11), (5, 12), (6, 6), (6, 7), (6, 8), (6, 9), (6, 10), (6, 11), (6, 12), (7, 7), (7, 8), (7, 9), (7, 10), (7, 11), (7, 12), (8, 8), (8, 9), (8, 10), (8, 11), (8, 12), (9, 9), (9, 10), (9, 11), (9, 12), (10, 10), (10, 11), (10, 12), (11, 11), (11, 12), (12, 12)])"
      ]
     },
     "metadata": {},
     "execution_count": 24
    }
   ],
   "source": [
    "for i in range(len(colonias_agrupacion)):\n",
    "    for j in range(len(colonias_agrupacion)):\n",
    "        A.add_edge(i, j, weight=peso_arista(colonias_agrupacion_dict[i], colonias_agrupacion_dict[j]))\n",
    "A.edges()"
   ]
  },
  {
   "cell_type": "code",
   "execution_count": 25,
   "metadata": {},
   "outputs": [
    {
     "output_type": "display_data",
     "data": {
      "text/plain": "<Figure size 720x576 with 1 Axes>",
      "image/svg+xml": "<?xml version=\"1.0\" encoding=\"utf-8\" standalone=\"no\"?>\n<!DOCTYPE svg PUBLIC \"-//W3C//DTD SVG 1.1//EN\"\n  \"http://www.w3.org/Graphics/SVG/1.1/DTD/svg11.dtd\">\n<!-- Created with matplotlib (https://matplotlib.org/) -->\n<svg height=\"467.277656pt\" version=\"1.1\" viewBox=\"0 0 572.4 467.277656\" width=\"572.4pt\" xmlns=\"http://www.w3.org/2000/svg\" xmlns:xlink=\"http://www.w3.org/1999/xlink\">\n <metadata>\n  <rdf:RDF xmlns:cc=\"http://creativecommons.org/ns#\" xmlns:dc=\"http://purl.org/dc/elements/1.1/\" xmlns:rdf=\"http://www.w3.org/1999/02/22-rdf-syntax-ns#\">\n   <cc:Work>\n    <dc:type rdf:resource=\"http://purl.org/dc/dcmitype/StillImage\"/>\n    <dc:date>2021-02-06T00:14:45.482409</dc:date>\n    <dc:format>image/svg+xml</dc:format>\n    <dc:creator>\n     <cc:Agent>\n      <dc:title>Matplotlib v3.3.2, https://matplotlib.org/</dc:title>\n     </cc:Agent>\n    </dc:creator>\n   </cc:Work>\n  </rdf:RDF>\n </metadata>\n <defs>\n  <style type=\"text/css\">*{stroke-linecap:butt;stroke-linejoin:round;}</style>\n </defs>\n <g id=\"figure_1\">\n  <g id=\"patch_1\">\n   <path d=\"M 0 467.277656 \nL 572.4 467.277656 \nL 572.4 0 \nL 0 0 \nz\n\" style=\"fill:#ffffff;\"/>\n  </g>\n  <g id=\"axes_1\">\n   <g id=\"LineCollection_1\">\n    <path clip-path=\"url(#p6bf3d56c5a)\" d=\"M 412.186484 307.376594 \nL 412.186484 307.376594 \n\" style=\"fill:none;stroke:#000000;\"/>\n    <path clip-path=\"url(#p6bf3d56c5a)\" d=\"M 412.186484 307.376594 \nL 281.793228 44.964929 \n\" style=\"fill:none;stroke:#000000;\"/>\n    <path clip-path=\"url(#p6bf3d56c5a)\" d=\"M 412.186484 307.376594 \nL 127.877617 130.242458 \n\" style=\"fill:none;stroke:#000000;\"/>\n    <path clip-path=\"url(#p6bf3d56c5a)\" d=\"M 412.186484 307.376594 \nL 321.179702 206.798068 \n\" style=\"fill:none;stroke:#000000;\"/>\n    <path clip-path=\"url(#p6bf3d56c5a)\" d=\"M 412.186484 307.376594 \nL 409.039961 189.16533 \n\" style=\"fill:none;stroke:#000000;\"/>\n    <path clip-path=\"url(#p6bf3d56c5a)\" d=\"M 412.186484 307.376594 \nL 325.847909 268.247107 \n\" style=\"fill:none;stroke:#000000;\"/>\n    <path clip-path=\"url(#p6bf3d56c5a)\" d=\"M 412.186484 307.376594 \nL 532.209993 379.792772 \n\" style=\"fill:none;stroke:#000000;\"/>\n    <path clip-path=\"url(#p6bf3d56c5a)\" d=\"M 412.186484 307.376594 \nL 250.551666 440.310384 \n\" style=\"fill:none;stroke:#000000;\"/>\n    <path clip-path=\"url(#p6bf3d56c5a)\" d=\"M 412.186484 307.376594 \nL 219.905653 227.572948 \n\" style=\"fill:none;stroke:#000000;\"/>\n    <path clip-path=\"url(#p6bf3d56c5a)\" d=\"M 412.186484 307.376594 \nL 32.563636 274.634087 \n\" style=\"fill:none;stroke:#000000;\"/>\n    <path clip-path=\"url(#p6bf3d56c5a)\" d=\"M 412.186484 307.376594 \nL 525.287696 63.96098 \n\" style=\"fill:none;stroke:#000000;\"/>\n    <path clip-path=\"url(#p6bf3d56c5a)\" d=\"M 412.186484 307.376594 \nL 539.836364 234.364138 \n\" style=\"fill:none;stroke:#000000;\"/>\n    <path clip-path=\"url(#p6bf3d56c5a)\" d=\"M 412.186484 307.376594 \nL 244.537964 333.072725 \n\" style=\"fill:none;stroke:#000000;\"/>\n    <path clip-path=\"url(#p6bf3d56c5a)\" d=\"M 281.793228 44.964929 \nL 281.793228 44.964929 \n\" style=\"fill:none;stroke:#000000;\"/>\n    <path clip-path=\"url(#p6bf3d56c5a)\" d=\"M 281.793228 44.964929 \nL 127.877617 130.242458 \n\" style=\"fill:none;stroke:#000000;\"/>\n    <path clip-path=\"url(#p6bf3d56c5a)\" d=\"M 281.793228 44.964929 \nL 321.179702 206.798068 \n\" style=\"fill:none;stroke:#000000;\"/>\n    <path clip-path=\"url(#p6bf3d56c5a)\" d=\"M 281.793228 44.964929 \nL 409.039961 189.16533 \n\" style=\"fill:none;stroke:#000000;\"/>\n    <path clip-path=\"url(#p6bf3d56c5a)\" d=\"M 281.793228 44.964929 \nL 325.847909 268.247107 \n\" style=\"fill:none;stroke:#000000;\"/>\n    <path clip-path=\"url(#p6bf3d56c5a)\" d=\"M 281.793228 44.964929 \nL 532.209993 379.792772 \n\" style=\"fill:none;stroke:#000000;\"/>\n    <path clip-path=\"url(#p6bf3d56c5a)\" d=\"M 281.793228 44.964929 \nL 250.551666 440.310384 \n\" style=\"fill:none;stroke:#000000;\"/>\n    <path clip-path=\"url(#p6bf3d56c5a)\" d=\"M 281.793228 44.964929 \nL 219.905653 227.572948 \n\" style=\"fill:none;stroke:#000000;\"/>\n    <path clip-path=\"url(#p6bf3d56c5a)\" d=\"M 281.793228 44.964929 \nL 32.563636 274.634087 \n\" style=\"fill:none;stroke:#000000;\"/>\n    <path clip-path=\"url(#p6bf3d56c5a)\" d=\"M 281.793228 44.964929 \nL 525.287696 63.96098 \n\" style=\"fill:none;stroke:#000000;\"/>\n    <path clip-path=\"url(#p6bf3d56c5a)\" d=\"M 281.793228 44.964929 \nL 539.836364 234.364138 \n\" style=\"fill:none;stroke:#000000;\"/>\n    <path clip-path=\"url(#p6bf3d56c5a)\" d=\"M 281.793228 44.964929 \nL 244.537964 333.072725 \n\" style=\"fill:none;stroke:#000000;\"/>\n    <path clip-path=\"url(#p6bf3d56c5a)\" d=\"M 127.877617 130.242458 \nL 127.877617 130.242458 \n\" style=\"fill:none;stroke:#000000;\"/>\n    <path clip-path=\"url(#p6bf3d56c5a)\" d=\"M 127.877617 130.242458 \nL 321.179702 206.798068 \n\" style=\"fill:none;stroke:#000000;\"/>\n    <path clip-path=\"url(#p6bf3d56c5a)\" d=\"M 127.877617 130.242458 \nL 409.039961 189.16533 \n\" style=\"fill:none;stroke:#000000;\"/>\n    <path clip-path=\"url(#p6bf3d56c5a)\" d=\"M 127.877617 130.242458 \nL 325.847909 268.247107 \n\" style=\"fill:none;stroke:#000000;\"/>\n    <path clip-path=\"url(#p6bf3d56c5a)\" d=\"M 127.877617 130.242458 \nL 532.209993 379.792772 \n\" style=\"fill:none;stroke:#000000;\"/>\n    <path clip-path=\"url(#p6bf3d56c5a)\" d=\"M 127.877617 130.242458 \nL 250.551666 440.310384 \n\" style=\"fill:none;stroke:#000000;\"/>\n    <path clip-path=\"url(#p6bf3d56c5a)\" d=\"M 127.877617 130.242458 \nL 219.905653 227.572948 \n\" style=\"fill:none;stroke:#000000;\"/>\n    <path clip-path=\"url(#p6bf3d56c5a)\" d=\"M 127.877617 130.242458 \nL 32.563636 274.634087 \n\" style=\"fill:none;stroke:#000000;\"/>\n    <path clip-path=\"url(#p6bf3d56c5a)\" d=\"M 127.877617 130.242458 \nL 525.287696 63.96098 \n\" style=\"fill:none;stroke:#000000;\"/>\n    <path clip-path=\"url(#p6bf3d56c5a)\" d=\"M 127.877617 130.242458 \nL 539.836364 234.364138 \n\" style=\"fill:none;stroke:#000000;\"/>\n    <path clip-path=\"url(#p6bf3d56c5a)\" d=\"M 127.877617 130.242458 \nL 244.537964 333.072725 \n\" style=\"fill:none;stroke:#000000;\"/>\n    <path clip-path=\"url(#p6bf3d56c5a)\" d=\"M 321.179702 206.798068 \nL 321.179702 206.798068 \n\" style=\"fill:none;stroke:#000000;\"/>\n    <path clip-path=\"url(#p6bf3d56c5a)\" d=\"M 321.179702 206.798068 \nL 409.039961 189.16533 \n\" style=\"fill:none;stroke:#000000;\"/>\n    <path clip-path=\"url(#p6bf3d56c5a)\" d=\"M 321.179702 206.798068 \nL 325.847909 268.247107 \n\" style=\"fill:none;stroke:#000000;\"/>\n    <path clip-path=\"url(#p6bf3d56c5a)\" d=\"M 321.179702 206.798068 \nL 532.209993 379.792772 \n\" style=\"fill:none;stroke:#000000;\"/>\n    <path clip-path=\"url(#p6bf3d56c5a)\" d=\"M 321.179702 206.798068 \nL 250.551666 440.310384 \n\" style=\"fill:none;stroke:#000000;\"/>\n    <path clip-path=\"url(#p6bf3d56c5a)\" d=\"M 321.179702 206.798068 \nL 219.905653 227.572948 \n\" style=\"fill:none;stroke:#000000;\"/>\n    <path clip-path=\"url(#p6bf3d56c5a)\" d=\"M 321.179702 206.798068 \nL 32.563636 274.634087 \n\" style=\"fill:none;stroke:#000000;\"/>\n    <path clip-path=\"url(#p6bf3d56c5a)\" d=\"M 321.179702 206.798068 \nL 525.287696 63.96098 \n\" style=\"fill:none;stroke:#000000;\"/>\n    <path clip-path=\"url(#p6bf3d56c5a)\" d=\"M 321.179702 206.798068 \nL 539.836364 234.364138 \n\" style=\"fill:none;stroke:#000000;\"/>\n    <path clip-path=\"url(#p6bf3d56c5a)\" d=\"M 321.179702 206.798068 \nL 244.537964 333.072725 \n\" style=\"fill:none;stroke:#000000;\"/>\n    <path clip-path=\"url(#p6bf3d56c5a)\" d=\"M 409.039961 189.16533 \nL 409.039961 189.16533 \n\" style=\"fill:none;stroke:#000000;\"/>\n    <path clip-path=\"url(#p6bf3d56c5a)\" d=\"M 409.039961 189.16533 \nL 325.847909 268.247107 \n\" style=\"fill:none;stroke:#000000;\"/>\n    <path clip-path=\"url(#p6bf3d56c5a)\" d=\"M 409.039961 189.16533 \nL 532.209993 379.792772 \n\" style=\"fill:none;stroke:#000000;\"/>\n    <path clip-path=\"url(#p6bf3d56c5a)\" d=\"M 409.039961 189.16533 \nL 250.551666 440.310384 \n\" style=\"fill:none;stroke:#000000;\"/>\n    <path clip-path=\"url(#p6bf3d56c5a)\" d=\"M 409.039961 189.16533 \nL 219.905653 227.572948 \n\" style=\"fill:none;stroke:#000000;\"/>\n    <path clip-path=\"url(#p6bf3d56c5a)\" d=\"M 409.039961 189.16533 \nL 32.563636 274.634087 \n\" style=\"fill:none;stroke:#000000;\"/>\n    <path clip-path=\"url(#p6bf3d56c5a)\" d=\"M 409.039961 189.16533 \nL 525.287696 63.96098 \n\" style=\"fill:none;stroke:#000000;\"/>\n    <path clip-path=\"url(#p6bf3d56c5a)\" d=\"M 409.039961 189.16533 \nL 539.836364 234.364138 \n\" style=\"fill:none;stroke:#000000;\"/>\n    <path clip-path=\"url(#p6bf3d56c5a)\" d=\"M 409.039961 189.16533 \nL 244.537964 333.072725 \n\" style=\"fill:none;stroke:#000000;\"/>\n    <path clip-path=\"url(#p6bf3d56c5a)\" d=\"M 325.847909 268.247107 \nL 325.847909 268.247107 \n\" style=\"fill:none;stroke:#000000;\"/>\n    <path clip-path=\"url(#p6bf3d56c5a)\" d=\"M 325.847909 268.247107 \nL 532.209993 379.792772 \n\" style=\"fill:none;stroke:#000000;\"/>\n    <path clip-path=\"url(#p6bf3d56c5a)\" d=\"M 325.847909 268.247107 \nL 250.551666 440.310384 \n\" style=\"fill:none;stroke:#000000;\"/>\n    <path clip-path=\"url(#p6bf3d56c5a)\" d=\"M 325.847909 268.247107 \nL 219.905653 227.572948 \n\" style=\"fill:none;stroke:#000000;\"/>\n    <path clip-path=\"url(#p6bf3d56c5a)\" d=\"M 325.847909 268.247107 \nL 32.563636 274.634087 \n\" style=\"fill:none;stroke:#000000;\"/>\n    <path clip-path=\"url(#p6bf3d56c5a)\" d=\"M 325.847909 268.247107 \nL 525.287696 63.96098 \n\" style=\"fill:none;stroke:#000000;\"/>\n    <path clip-path=\"url(#p6bf3d56c5a)\" d=\"M 325.847909 268.247107 \nL 539.836364 234.364138 \n\" style=\"fill:none;stroke:#000000;\"/>\n    <path clip-path=\"url(#p6bf3d56c5a)\" d=\"M 325.847909 268.247107 \nL 244.537964 333.072725 \n\" style=\"fill:none;stroke:#000000;\"/>\n    <path clip-path=\"url(#p6bf3d56c5a)\" d=\"M 532.209993 379.792772 \nL 532.209993 379.792772 \n\" style=\"fill:none;stroke:#000000;\"/>\n    <path clip-path=\"url(#p6bf3d56c5a)\" d=\"M 532.209993 379.792772 \nL 250.551666 440.310384 \n\" style=\"fill:none;stroke:#000000;\"/>\n    <path clip-path=\"url(#p6bf3d56c5a)\" d=\"M 532.209993 379.792772 \nL 219.905653 227.572948 \n\" style=\"fill:none;stroke:#000000;\"/>\n    <path clip-path=\"url(#p6bf3d56c5a)\" d=\"M 532.209993 379.792772 \nL 32.563636 274.634087 \n\" style=\"fill:none;stroke:#000000;\"/>\n    <path clip-path=\"url(#p6bf3d56c5a)\" d=\"M 532.209993 379.792772 \nL 525.287696 63.96098 \n\" style=\"fill:none;stroke:#000000;\"/>\n    <path clip-path=\"url(#p6bf3d56c5a)\" d=\"M 532.209993 379.792772 \nL 539.836364 234.364138 \n\" style=\"fill:none;stroke:#000000;\"/>\n    <path clip-path=\"url(#p6bf3d56c5a)\" d=\"M 532.209993 379.792772 \nL 244.537964 333.072725 \n\" style=\"fill:none;stroke:#000000;\"/>\n    <path clip-path=\"url(#p6bf3d56c5a)\" d=\"M 250.551666 440.310384 \nL 250.551666 440.310384 \n\" style=\"fill:none;stroke:#000000;\"/>\n    <path clip-path=\"url(#p6bf3d56c5a)\" d=\"M 250.551666 440.310384 \nL 219.905653 227.572948 \n\" style=\"fill:none;stroke:#000000;\"/>\n    <path clip-path=\"url(#p6bf3d56c5a)\" d=\"M 250.551666 440.310384 \nL 32.563636 274.634087 \n\" style=\"fill:none;stroke:#000000;\"/>\n    <path clip-path=\"url(#p6bf3d56c5a)\" d=\"M 250.551666 440.310384 \nL 525.287696 63.96098 \n\" style=\"fill:none;stroke:#000000;\"/>\n    <path clip-path=\"url(#p6bf3d56c5a)\" d=\"M 250.551666 440.310384 \nL 539.836364 234.364138 \n\" style=\"fill:none;stroke:#000000;\"/>\n    <path clip-path=\"url(#p6bf3d56c5a)\" d=\"M 250.551666 440.310384 \nL 244.537964 333.072725 \n\" style=\"fill:none;stroke:#000000;\"/>\n    <path clip-path=\"url(#p6bf3d56c5a)\" d=\"M 219.905653 227.572948 \nL 219.905653 227.572948 \n\" style=\"fill:none;stroke:#000000;\"/>\n    <path clip-path=\"url(#p6bf3d56c5a)\" d=\"M 219.905653 227.572948 \nL 32.563636 274.634087 \n\" style=\"fill:none;stroke:#000000;\"/>\n    <path clip-path=\"url(#p6bf3d56c5a)\" d=\"M 219.905653 227.572948 \nL 525.287696 63.96098 \n\" style=\"fill:none;stroke:#000000;\"/>\n    <path clip-path=\"url(#p6bf3d56c5a)\" d=\"M 219.905653 227.572948 \nL 539.836364 234.364138 \n\" style=\"fill:none;stroke:#000000;\"/>\n    <path clip-path=\"url(#p6bf3d56c5a)\" d=\"M 219.905653 227.572948 \nL 244.537964 333.072725 \n\" style=\"fill:none;stroke:#000000;\"/>\n    <path clip-path=\"url(#p6bf3d56c5a)\" d=\"M 32.563636 274.634087 \nL 32.563636 274.634087 \n\" style=\"fill:none;stroke:#000000;\"/>\n    <path clip-path=\"url(#p6bf3d56c5a)\" d=\"M 32.563636 274.634087 \nL 525.287696 63.96098 \n\" style=\"fill:none;stroke:#000000;\"/>\n    <path clip-path=\"url(#p6bf3d56c5a)\" d=\"M 32.563636 274.634087 \nL 539.836364 234.364138 \n\" style=\"fill:none;stroke:#000000;\"/>\n    <path clip-path=\"url(#p6bf3d56c5a)\" d=\"M 32.563636 274.634087 \nL 244.537964 333.072725 \n\" style=\"fill:none;stroke:#000000;\"/>\n    <path clip-path=\"url(#p6bf3d56c5a)\" d=\"M 525.287696 63.96098 \nL 525.287696 63.96098 \n\" style=\"fill:none;stroke:#000000;\"/>\n    <path clip-path=\"url(#p6bf3d56c5a)\" d=\"M 525.287696 63.96098 \nL 539.836364 234.364138 \n\" style=\"fill:none;stroke:#000000;\"/>\n    <path clip-path=\"url(#p6bf3d56c5a)\" d=\"M 525.287696 63.96098 \nL 244.537964 333.072725 \n\" style=\"fill:none;stroke:#000000;\"/>\n    <path clip-path=\"url(#p6bf3d56c5a)\" d=\"M 539.836364 234.364138 \nL 539.836364 234.364138 \n\" style=\"fill:none;stroke:#000000;\"/>\n    <path clip-path=\"url(#p6bf3d56c5a)\" d=\"M 539.836364 234.364138 \nL 244.537964 333.072725 \n\" style=\"fill:none;stroke:#000000;\"/>\n    <path clip-path=\"url(#p6bf3d56c5a)\" d=\"M 244.537964 333.072725 \nL 244.537964 333.072725 \n\" style=\"fill:none;stroke:#000000;\"/>\n   </g>\n   <g id=\"text_1\">\n    <g id=\"patch_2\">\n     <path clip-path=\"url(#p6bf3d56c5a)\" d=\"M 394.691172 315.215657 \nL 429.681797 315.215657 \nQ 432.681797 315.215657 432.681797 312.215657 \nL 432.681797 302.537532 \nQ 432.681797 299.537532 429.681797 299.537532 \nL 394.691172 299.537532 \nQ 391.691172 299.537532 391.691172 302.537532 \nL 391.691172 312.215657 \nQ 391.691172 315.215657 394.691172 315.215657 \nz\n\" style=\"fill:#ffffff;stroke:#ffffff;stroke-linejoin:miter;\"/>\n    </g>\n    <g clip-path=\"url(#p6bf3d56c5a)\">\n     <!-- 0.1102 -->\n     <g transform=\"translate(394.691172 310.135969)scale(0.1 -0.1)\">\n      <defs>\n       <path d=\"M 31.78125 66.40625 \nQ 24.171875 66.40625 20.328125 58.90625 \nQ 16.5 51.421875 16.5 36.375 \nQ 16.5 21.390625 20.328125 13.890625 \nQ 24.171875 6.390625 31.78125 6.390625 \nQ 39.453125 6.390625 43.28125 13.890625 \nQ 47.125 21.390625 47.125 36.375 \nQ 47.125 51.421875 43.28125 58.90625 \nQ 39.453125 66.40625 31.78125 66.40625 \nz\nM 31.78125 74.21875 \nQ 44.046875 74.21875 50.515625 64.515625 \nQ 56.984375 54.828125 56.984375 36.375 \nQ 56.984375 17.96875 50.515625 8.265625 \nQ 44.046875 -1.421875 31.78125 -1.421875 \nQ 19.53125 -1.421875 13.0625 8.265625 \nQ 6.59375 17.96875 6.59375 36.375 \nQ 6.59375 54.828125 13.0625 64.515625 \nQ 19.53125 74.21875 31.78125 74.21875 \nz\n\" id=\"DejaVuSans-48\"/>\n       <path d=\"M 10.6875 12.40625 \nL 21 12.40625 \nL 21 0 \nL 10.6875 0 \nz\n\" id=\"DejaVuSans-46\"/>\n       <path d=\"M 12.40625 8.296875 \nL 28.515625 8.296875 \nL 28.515625 63.921875 \nL 10.984375 60.40625 \nL 10.984375 69.390625 \nL 28.421875 72.90625 \nL 38.28125 72.90625 \nL 38.28125 8.296875 \nL 54.390625 8.296875 \nL 54.390625 0 \nL 12.40625 0 \nz\n\" id=\"DejaVuSans-49\"/>\n       <path d=\"M 19.1875 8.296875 \nL 53.609375 8.296875 \nL 53.609375 0 \nL 7.328125 0 \nL 7.328125 8.296875 \nQ 12.9375 14.109375 22.625 23.890625 \nQ 32.328125 33.6875 34.8125 36.53125 \nQ 39.546875 41.84375 41.421875 45.53125 \nQ 43.3125 49.21875 43.3125 52.78125 \nQ 43.3125 58.59375 39.234375 62.25 \nQ 35.15625 65.921875 28.609375 65.921875 \nQ 23.96875 65.921875 18.8125 64.3125 \nQ 13.671875 62.703125 7.8125 59.421875 \nL 7.8125 69.390625 \nQ 13.765625 71.78125 18.9375 73 \nQ 24.125 74.21875 28.421875 74.21875 \nQ 39.75 74.21875 46.484375 68.546875 \nQ 53.21875 62.890625 53.21875 53.421875 \nQ 53.21875 48.921875 51.53125 44.890625 \nQ 49.859375 40.875 45.40625 35.40625 \nQ 44.1875 33.984375 37.640625 27.21875 \nQ 31.109375 20.453125 19.1875 8.296875 \nz\n\" id=\"DejaVuSans-50\"/>\n      </defs>\n      <use xlink:href=\"#DejaVuSans-48\"/>\n      <use x=\"63.623047\" xlink:href=\"#DejaVuSans-46\"/>\n      <use x=\"95.410156\" xlink:href=\"#DejaVuSans-49\"/>\n      <use x=\"159.033203\" xlink:href=\"#DejaVuSans-49\"/>\n      <use x=\"222.65625\" xlink:href=\"#DejaVuSans-48\"/>\n      <use x=\"286.279297\" xlink:href=\"#DejaVuSans-50\"/>\n     </g>\n    </g>\n   </g>\n   <g id=\"text_2\">\n    <g id=\"patch_3\">\n     <path clip-path=\"url(#p6bf3d56c5a)\" d=\"M 332.184407 163.991454 \nL 347.755017 195.326737 \nQ 349.089998 198.013338 351.776599 196.678357 \nL 360.443686 192.371652 \nQ 363.130287 191.03667 361.795305 188.350069 \nL 346.224696 157.014786 \nQ 344.889715 154.328185 342.203114 155.663167 \nL 333.536027 159.969872 \nQ 330.849426 161.304853 332.184407 163.991454 \nz\n\" style=\"fill:#ffffff;stroke:#ffffff;stroke-linejoin:miter;\"/>\n    </g>\n    <g clip-path=\"url(#p6bf3d56c5a)\">\n     <!-- 0.0228 -->\n     <g transform=\"translate(336.733438 161.731025)rotate(-296.422939)scale(0.1 -0.1)\">\n      <defs>\n       <path d=\"M 31.78125 34.625 \nQ 24.75 34.625 20.71875 30.859375 \nQ 16.703125 27.09375 16.703125 20.515625 \nQ 16.703125 13.921875 20.71875 10.15625 \nQ 24.75 6.390625 31.78125 6.390625 \nQ 38.8125 6.390625 42.859375 10.171875 \nQ 46.921875 13.96875 46.921875 20.515625 \nQ 46.921875 27.09375 42.890625 30.859375 \nQ 38.875 34.625 31.78125 34.625 \nz\nM 21.921875 38.8125 \nQ 15.578125 40.375 12.03125 44.71875 \nQ 8.5 49.078125 8.5 55.328125 \nQ 8.5 64.0625 14.71875 69.140625 \nQ 20.953125 74.21875 31.78125 74.21875 \nQ 42.671875 74.21875 48.875 69.140625 \nQ 55.078125 64.0625 55.078125 55.328125 \nQ 55.078125 49.078125 51.53125 44.71875 \nQ 48 40.375 41.703125 38.8125 \nQ 48.828125 37.15625 52.796875 32.3125 \nQ 56.78125 27.484375 56.78125 20.515625 \nQ 56.78125 9.90625 50.3125 4.234375 \nQ 43.84375 -1.421875 31.78125 -1.421875 \nQ 19.734375 -1.421875 13.25 4.234375 \nQ 6.78125 9.90625 6.78125 20.515625 \nQ 6.78125 27.484375 10.78125 32.3125 \nQ 14.796875 37.15625 21.921875 38.8125 \nz\nM 18.3125 54.390625 \nQ 18.3125 48.734375 21.84375 45.5625 \nQ 25.390625 42.390625 31.78125 42.390625 \nQ 38.140625 42.390625 41.71875 45.5625 \nQ 45.3125 48.734375 45.3125 54.390625 \nQ 45.3125 60.0625 41.71875 63.234375 \nQ 38.140625 66.40625 31.78125 66.40625 \nQ 25.390625 66.40625 21.84375 63.234375 \nQ 18.3125 60.0625 18.3125 54.390625 \nz\n\" id=\"DejaVuSans-56\"/>\n      </defs>\n      <use xlink:href=\"#DejaVuSans-48\"/>\n      <use x=\"63.623047\" xlink:href=\"#DejaVuSans-46\"/>\n      <use x=\"95.410156\" xlink:href=\"#DejaVuSans-48\"/>\n      <use x=\"159.033203\" xlink:href=\"#DejaVuSans-50\"/>\n      <use x=\"222.65625\" xlink:href=\"#DejaVuSans-50\"/>\n      <use x=\"286.279297\" xlink:href=\"#DejaVuSans-56\"/>\n     </g>\n    </g>\n   </g>\n   <g id=\"text_3\">\n    <g id=\"patch_4\">\n     <path clip-path=\"url(#p6bf3d56c5a)\" d=\"M 251.037665 216.211413 \nL 280.735865 234.714406 \nQ 283.282107 236.300802 284.868503 233.75456 \nL 289.986282 225.540277 \nQ 291.572678 222.994035 289.026436 221.407639 \nL 259.328236 202.904646 \nQ 256.781994 201.318251 255.195598 203.864493 \nL 250.077819 212.078775 \nQ 248.491423 214.625017 251.037665 216.211413 \nz\n\" style=\"fill:#ffffff;stroke:#ffffff;stroke-linejoin:miter;\"/>\n    </g>\n    <g clip-path=\"url(#p6bf3d56c5a)\">\n     <!-- 0.0293 -->\n     <g transform=\"translate(253.723797 211.900042)rotate(-328.075684)scale(0.1 -0.1)\">\n      <defs>\n       <path d=\"M 10.984375 1.515625 \nL 10.984375 10.5 \nQ 14.703125 8.734375 18.5 7.8125 \nQ 22.3125 6.890625 25.984375 6.890625 \nQ 35.75 6.890625 40.890625 13.453125 \nQ 46.046875 20.015625 46.78125 33.40625 \nQ 43.953125 29.203125 39.59375 26.953125 \nQ 35.25 24.703125 29.984375 24.703125 \nQ 19.046875 24.703125 12.671875 31.3125 \nQ 6.296875 37.9375 6.296875 49.421875 \nQ 6.296875 60.640625 12.9375 67.421875 \nQ 19.578125 74.21875 30.609375 74.21875 \nQ 43.265625 74.21875 49.921875 64.515625 \nQ 56.59375 54.828125 56.59375 36.375 \nQ 56.59375 19.140625 48.40625 8.859375 \nQ 40.234375 -1.421875 26.421875 -1.421875 \nQ 22.703125 -1.421875 18.890625 -0.6875 \nQ 15.09375 0.046875 10.984375 1.515625 \nz\nM 30.609375 32.421875 \nQ 37.25 32.421875 41.125 36.953125 \nQ 45.015625 41.5 45.015625 49.421875 \nQ 45.015625 57.28125 41.125 61.84375 \nQ 37.25 66.40625 30.609375 66.40625 \nQ 23.96875 66.40625 20.09375 61.84375 \nQ 16.21875 57.28125 16.21875 49.421875 \nQ 16.21875 41.5 20.09375 36.953125 \nQ 23.96875 32.421875 30.609375 32.421875 \nz\n\" id=\"DejaVuSans-57\"/>\n       <path d=\"M 40.578125 39.3125 \nQ 47.65625 37.796875 51.625 33 \nQ 55.609375 28.21875 55.609375 21.1875 \nQ 55.609375 10.40625 48.1875 4.484375 \nQ 40.765625 -1.421875 27.09375 -1.421875 \nQ 22.515625 -1.421875 17.65625 -0.515625 \nQ 12.796875 0.390625 7.625 2.203125 \nL 7.625 11.71875 \nQ 11.71875 9.328125 16.59375 8.109375 \nQ 21.484375 6.890625 26.8125 6.890625 \nQ 36.078125 6.890625 40.9375 10.546875 \nQ 45.796875 14.203125 45.796875 21.1875 \nQ 45.796875 27.640625 41.28125 31.265625 \nQ 36.765625 34.90625 28.71875 34.90625 \nL 20.21875 34.90625 \nL 20.21875 43.015625 \nL 29.109375 43.015625 \nQ 36.375 43.015625 40.234375 45.921875 \nQ 44.09375 48.828125 44.09375 54.296875 \nQ 44.09375 59.90625 40.109375 62.90625 \nQ 36.140625 65.921875 28.71875 65.921875 \nQ 24.65625 65.921875 20.015625 65.03125 \nQ 15.375 64.15625 9.8125 62.3125 \nL 9.8125 71.09375 \nQ 15.4375 72.65625 20.34375 73.4375 \nQ 25.25 74.21875 29.59375 74.21875 \nQ 40.828125 74.21875 47.359375 69.109375 \nQ 53.90625 64.015625 53.90625 55.328125 \nQ 53.90625 49.265625 50.4375 45.09375 \nQ 46.96875 40.921875 40.578125 39.3125 \nz\n\" id=\"DejaVuSans-51\"/>\n      </defs>\n      <use xlink:href=\"#DejaVuSans-48\"/>\n      <use x=\"63.623047\" xlink:href=\"#DejaVuSans-46\"/>\n      <use x=\"95.410156\" xlink:href=\"#DejaVuSans-48\"/>\n      <use x=\"159.033203\" xlink:href=\"#DejaVuSans-50\"/>\n      <use x=\"222.65625\" xlink:href=\"#DejaVuSans-57\"/>\n      <use x=\"286.279297\" xlink:href=\"#DejaVuSans-51\"/>\n     </g>\n    </g>\n   </g>\n   <g id=\"text_4\">\n    <g id=\"patch_5\">\n     <path clip-path=\"url(#p6bf3d56c5a)\" d=\"M 349.132008 249.37395 \nL 372.6087 275.319831 \nQ 374.621527 277.544359 376.846056 275.531532 \nL 384.022477 269.038068 \nQ 386.247006 267.025241 384.234179 264.800713 \nL 360.757486 238.854832 \nQ 358.744659 236.630303 356.520131 238.64313 \nL 349.343709 245.136594 \nQ 347.119181 247.149421 349.132008 249.37395 \nz\n\" style=\"fill:#ffffff;stroke:#ffffff;stroke-linejoin:miter;\"/>\n    </g>\n    <g clip-path=\"url(#p6bf3d56c5a)\">\n     <!-- 0.2177 -->\n     <g transform=\"translate(352.898644 245.965772)rotate(-312.139838)scale(0.1 -0.1)\">\n      <defs>\n       <path d=\"M 8.203125 72.90625 \nL 55.078125 72.90625 \nL 55.078125 68.703125 \nL 28.609375 0 \nL 18.3125 0 \nL 43.21875 64.59375 \nL 8.203125 64.59375 \nz\n\" id=\"DejaVuSans-55\"/>\n      </defs>\n      <use xlink:href=\"#DejaVuSans-48\"/>\n      <use x=\"63.623047\" xlink:href=\"#DejaVuSans-46\"/>\n      <use x=\"95.410156\" xlink:href=\"#DejaVuSans-50\"/>\n      <use x=\"159.033203\" xlink:href=\"#DejaVuSans-49\"/>\n      <use x=\"222.65625\" xlink:href=\"#DejaVuSans-55\"/>\n      <use x=\"286.279297\" xlink:href=\"#DejaVuSans-55\"/>\n     </g>\n    </g>\n   </g>\n   <g id=\"text_5\">\n    <g id=\"patch_6\">\n     <path clip-path=\"url(#p6bf3d56c5a)\" d=\"M 402.311414 230.990429 \nL 403.242457 265.968665 \nQ 403.322282 268.967603 406.32122 268.887778 \nL 415.995918 268.630259 \nQ 418.994856 268.550433 418.915031 265.551496 \nL 417.983987 230.57326 \nQ 417.904162 227.574322 414.905225 227.654147 \nL 405.230526 227.911666 \nQ 402.231588 227.991491 402.311414 230.990429 \nz\n\" style=\"fill:#ffffff;stroke:#ffffff;stroke-linejoin:miter;\"/>\n    </g>\n    <g clip-path=\"url(#p6bf3d56c5a)\">\n     <!-- 0.1301 -->\n     <g transform=\"translate(407.389302 230.855267)rotate(-271.524727)scale(0.1 -0.1)\">\n      <use xlink:href=\"#DejaVuSans-48\"/>\n      <use x=\"63.623047\" xlink:href=\"#DejaVuSans-46\"/>\n      <use x=\"95.410156\" xlink:href=\"#DejaVuSans-49\"/>\n      <use x=\"159.033203\" xlink:href=\"#DejaVuSans-51\"/>\n      <use x=\"222.65625\" xlink:href=\"#DejaVuSans-48\"/>\n      <use x=\"286.279297\" xlink:href=\"#DejaVuSans-49\"/>\n     </g>\n    </g>\n   </g>\n   <g id=\"text_6\">\n    <g id=\"patch_7\">\n     <path clip-path=\"url(#p6bf3d56c5a)\" d=\"M 352.743681 289.043093 \nL 378.81887 300.860624 \nQ 381.551343 302.099008 382.789726 299.366535 \nL 386.784802 290.551464 \nQ 388.023185 287.818992 385.290713 286.580608 \nL 359.215523 274.763077 \nQ 356.483051 273.524694 355.244668 276.257167 \nL 351.249591 285.072237 \nQ 350.011208 287.80471 352.743681 289.043093 \nz\n\" style=\"fill:#ffffff;stroke:#ffffff;stroke-linejoin:miter;\"/>\n    </g>\n    <g clip-path=\"url(#p6bf3d56c5a)\">\n     <!-- 0.168 -->\n     <g transform=\"translate(354.840547 284.416391)rotate(-335.619501)scale(0.1 -0.1)\">\n      <defs>\n       <path d=\"M 33.015625 40.375 \nQ 26.375 40.375 22.484375 35.828125 \nQ 18.609375 31.296875 18.609375 23.390625 \nQ 18.609375 15.53125 22.484375 10.953125 \nQ 26.375 6.390625 33.015625 6.390625 \nQ 39.65625 6.390625 43.53125 10.953125 \nQ 47.40625 15.53125 47.40625 23.390625 \nQ 47.40625 31.296875 43.53125 35.828125 \nQ 39.65625 40.375 33.015625 40.375 \nz\nM 52.59375 71.296875 \nL 52.59375 62.3125 \nQ 48.875 64.0625 45.09375 64.984375 \nQ 41.3125 65.921875 37.59375 65.921875 \nQ 27.828125 65.921875 22.671875 59.328125 \nQ 17.53125 52.734375 16.796875 39.40625 \nQ 19.671875 43.65625 24.015625 45.921875 \nQ 28.375 48.1875 33.59375 48.1875 \nQ 44.578125 48.1875 50.953125 41.515625 \nQ 57.328125 34.859375 57.328125 23.390625 \nQ 57.328125 12.15625 50.6875 5.359375 \nQ 44.046875 -1.421875 33.015625 -1.421875 \nQ 20.359375 -1.421875 13.671875 8.265625 \nQ 6.984375 17.96875 6.984375 36.375 \nQ 6.984375 53.65625 15.1875 63.9375 \nQ 23.390625 74.21875 37.203125 74.21875 \nQ 40.921875 74.21875 44.703125 73.484375 \nQ 48.484375 72.75 52.59375 71.296875 \nz\n\" id=\"DejaVuSans-54\"/>\n      </defs>\n      <use xlink:href=\"#DejaVuSans-48\"/>\n      <use x=\"63.623047\" xlink:href=\"#DejaVuSans-46\"/>\n      <use x=\"95.410156\" xlink:href=\"#DejaVuSans-49\"/>\n      <use x=\"159.033203\" xlink:href=\"#DejaVuSans-54\"/>\n      <use x=\"222.65625\" xlink:href=\"#DejaVuSans-56\"/>\n     </g>\n    </g>\n   </g>\n   <g id=\"text_7\">\n    <g id=\"patch_8\">\n     <path clip-path=\"url(#p6bf3d56c5a)\" d=\"M 453.168631 341.258548 \nL 483.128476 359.334819 \nQ 485.697151 360.884629 487.24696 358.315954 \nL 492.246711 350.029302 \nQ 493.796521 347.460627 491.227846 345.910818 \nL 461.268002 327.834547 \nQ 458.699327 326.284737 457.149517 328.853412 \nL 452.149766 337.140064 \nQ 450.599957 339.708739 453.168631 341.258548 \nz\n\" style=\"fill:#ffffff;stroke:#ffffff;stroke-linejoin:miter;\"/>\n    </g>\n    <g clip-path=\"url(#p6bf3d56c5a)\">\n     <!-- 0.0223 -->\n     <g transform=\"translate(455.792814 336.909193)rotate(-328.895321)scale(0.1 -0.1)\">\n      <use xlink:href=\"#DejaVuSans-48\"/>\n      <use x=\"63.623047\" xlink:href=\"#DejaVuSans-46\"/>\n      <use x=\"95.410156\" xlink:href=\"#DejaVuSans-48\"/>\n      <use x=\"159.033203\" xlink:href=\"#DejaVuSans-50\"/>\n      <use x=\"222.65625\" xlink:href=\"#DejaVuSans-50\"/>\n      <use x=\"286.279297\" xlink:href=\"#DejaVuSans-51\"/>\n     </g>\n    </g>\n   </g>\n   <g id=\"text_8\">\n    <g id=\"patch_9\">\n     <path clip-path=\"url(#p6bf3d56c5a)\" d=\"M 322.836038 391.011021 \nL 349.860896 368.784889 \nQ 352.177933 366.879282 350.272325 364.562245 \nL 344.124756 357.087387 \nQ 342.219149 354.77035 339.902112 356.675957 \nL 312.877254 378.902089 \nQ 310.560217 380.807696 312.465825 383.124733 \nL 318.613394 390.599591 \nQ 320.519001 392.916628 322.836038 391.011021 \nz\n\" style=\"fill:#ffffff;stroke:#ffffff;stroke-linejoin:miter;\"/>\n    </g>\n    <g clip-path=\"url(#p6bf3d56c5a)\">\n     <!-- 0.0222 -->\n     <g transform=\"translate(319.609408 387.087746)rotate(-39.435003)scale(0.1 -0.1)\">\n      <use xlink:href=\"#DejaVuSans-48\"/>\n      <use x=\"63.623047\" xlink:href=\"#DejaVuSans-46\"/>\n      <use x=\"95.410156\" xlink:href=\"#DejaVuSans-48\"/>\n      <use x=\"159.033203\" xlink:href=\"#DejaVuSans-50\"/>\n      <use x=\"222.65625\" xlink:href=\"#DejaVuSans-50\"/>\n      <use x=\"286.279297\" xlink:href=\"#DejaVuSans-50\"/>\n     </g>\n    </g>\n   </g>\n   <g id=\"text_9\">\n    <g id=\"patch_10\">\n     <path clip-path=\"url(#p6bf3d56c5a)\" d=\"M 296.882248 268.00849 \nL 329.199955 281.421532 \nQ 331.970786 282.571529 333.120783 279.800698 \nL 336.830723 270.861881 \nQ 337.98072 268.091049 335.209889 266.941052 \nL 302.892182 253.52801 \nQ 300.121351 252.378013 298.971354 255.148844 \nL 295.261414 264.087661 \nQ 294.111417 266.858493 296.882248 268.00849 \nz\n\" style=\"fill:#ffffff;stroke:#ffffff;stroke-linejoin:miter;\"/>\n    </g>\n    <g clip-path=\"url(#p6bf3d56c5a)\">\n     <!-- 0.1028 -->\n     <g transform=\"translate(298.829457 263.316838)rotate(-337.459745)scale(0.1 -0.1)\">\n      <use xlink:href=\"#DejaVuSans-48\"/>\n      <use x=\"63.623047\" xlink:href=\"#DejaVuSans-46\"/>\n      <use x=\"95.410156\" xlink:href=\"#DejaVuSans-49\"/>\n      <use x=\"159.033203\" xlink:href=\"#DejaVuSans-48\"/>\n      <use x=\"222.65625\" xlink:href=\"#DejaVuSans-50\"/>\n      <use x=\"286.279297\" xlink:href=\"#DejaVuSans-56\"/>\n     </g>\n    </g>\n   </g>\n   <g id=\"text_10\">\n    <g id=\"patch_11\">\n     <path clip-path=\"url(#p6bf3d56c5a)\" d=\"M 204.270842 297.312016 \nL 239.13204 300.318798 \nQ 242.120943 300.576591 242.378737 297.587688 \nL 243.210388 287.945362 \nQ 243.468181 284.956458 240.479278 284.698665 \nL 205.61808 281.691884 \nQ 202.629177 281.43409 202.371384 284.422994 \nL 201.539732 294.06532 \nQ 201.281939 297.054223 204.270842 297.312016 \nz\n\" style=\"fill:#ffffff;stroke:#ffffff;stroke-linejoin:miter;\"/>\n    </g>\n    <g clip-path=\"url(#p6bf3d56c5a)\">\n     <!-- 0.0233 -->\n     <g transform=\"translate(204.707345 292.251118)rotate(-355.070433)scale(0.1 -0.1)\">\n      <use xlink:href=\"#DejaVuSans-48\"/>\n      <use x=\"63.623047\" xlink:href=\"#DejaVuSans-46\"/>\n      <use x=\"95.410156\" xlink:href=\"#DejaVuSans-48\"/>\n      <use x=\"159.033203\" xlink:href=\"#DejaVuSans-50\"/>\n      <use x=\"222.65625\" xlink:href=\"#DejaVuSans-51\"/>\n      <use x=\"286.279297\" xlink:href=\"#DejaVuSans-51\"/>\n     </g>\n    </g>\n   </g>\n   <g id=\"text_11\">\n    <g id=\"patch_12\">\n     <path clip-path=\"url(#p6bf3d56c5a)\" d=\"M 468.474092 204.838234 \nL 483.21835 173.105748 \nQ 484.482483 170.385091 481.761826 169.120959 \nL 472.984876 165.042816 \nQ 470.26422 163.778684 469.000088 166.49934 \nL 454.25583 198.231827 \nQ 452.991698 200.952483 455.712354 202.216615 \nL 464.489304 206.294758 \nQ 467.20996 207.55889 468.474092 204.838234 \nz\n\" style=\"fill:#ffffff;stroke:#ffffff;stroke-linejoin:miter;\"/>\n    </g>\n    <g clip-path=\"url(#p6bf3d56c5a)\">\n     <!-- 0.0186 -->\n     <g transform=\"translate(463.867398 202.697768)rotate(-65.078422)scale(0.1 -0.1)\">\n      <use xlink:href=\"#DejaVuSans-48\"/>\n      <use x=\"63.623047\" xlink:href=\"#DejaVuSans-46\"/>\n      <use x=\"95.410156\" xlink:href=\"#DejaVuSans-48\"/>\n      <use x=\"159.033203\" xlink:href=\"#DejaVuSans-49\"/>\n      <use x=\"222.65625\" xlink:href=\"#DejaVuSans-56\"/>\n      <use x=\"286.279297\" xlink:href=\"#DejaVuSans-54\"/>\n     </g>\n    </g>\n   </g>\n   <g id=\"text_12\">\n    <g id=\"patch_13\">\n     <path clip-path=\"url(#p6bf3d56c5a)\" d=\"M 464.716874 286.361331 \nL 495.090101 268.988624 \nQ 497.694218 267.499136 496.20473 264.895019 \nL 491.399579 256.49403 \nQ 489.910091 253.889913 487.305974 255.379401 \nL 456.932747 272.752107 \nQ 454.32863 274.241595 455.818118 276.845712 \nL 460.623269 285.246702 \nQ 462.112757 287.850819 464.716874 286.361331 \nz\n\" style=\"fill:#ffffff;stroke:#ffffff;stroke-linejoin:miter;\"/>\n    </g>\n    <g clip-path=\"url(#p6bf3d56c5a)\">\n     <!-- 0.0627 -->\n     <g transform=\"translate(462.194829 281.951964)rotate(-29.768449)scale(0.1 -0.1)\">\n      <use xlink:href=\"#DejaVuSans-48\"/>\n      <use x=\"63.623047\" xlink:href=\"#DejaVuSans-46\"/>\n      <use x=\"95.410156\" xlink:href=\"#DejaVuSans-48\"/>\n      <use x=\"159.033203\" xlink:href=\"#DejaVuSans-54\"/>\n      <use x=\"222.65625\" xlink:href=\"#DejaVuSans-50\"/>\n      <use x=\"286.279297\" xlink:href=\"#DejaVuSans-55\"/>\n     </g>\n    </g>\n   </g>\n   <g id=\"text_13\">\n    <g id=\"patch_14\">\n     <path clip-path=\"url(#p6bf3d56c5a)\" d=\"M 312.256521 330.623851 \nL 346.843234 325.322613 \nQ 349.808604 324.8681 349.35409 321.90273 \nL 347.88781 312.336324 \nQ 347.433297 309.370954 344.467927 309.825468 \nL 309.881214 315.126706 \nQ 306.915844 315.581219 307.370358 318.546589 \nL 308.836638 328.112995 \nQ 309.291151 331.078365 312.256521 330.623851 \nz\n\" style=\"fill:#ffffff;stroke:#ffffff;stroke-linejoin:miter;\"/>\n    </g>\n    <g clip-path=\"url(#p6bf3d56c5a)\">\n     <!-- 0.0827 -->\n     <g transform=\"translate(311.486925 325.602801)rotate(-8.714126)scale(0.1 -0.1)\">\n      <use xlink:href=\"#DejaVuSans-48\"/>\n      <use x=\"63.623047\" xlink:href=\"#DejaVuSans-46\"/>\n      <use x=\"95.410156\" xlink:href=\"#DejaVuSans-48\"/>\n      <use x=\"159.033203\" xlink:href=\"#DejaVuSans-56\"/>\n      <use x=\"222.65625\" xlink:href=\"#DejaVuSans-50\"/>\n      <use x=\"286.279297\" xlink:href=\"#DejaVuSans-55\"/>\n     </g>\n    </g>\n   </g>\n   <g id=\"text_14\">\n    <g id=\"patch_15\">\n     <path clip-path=\"url(#p6bf3d56c5a)\" d=\"M 267.479166 52.803991 \nL 296.107291 52.803991 \nQ 299.107291 52.803991 299.107291 49.803991 \nL 299.107291 40.125866 \nQ 299.107291 37.125866 296.107291 37.125866 \nL 267.479166 37.125866 \nQ 264.479166 37.125866 264.479166 40.125866 \nL 264.479166 49.803991 \nQ 264.479166 52.803991 267.479166 52.803991 \nz\n\" style=\"fill:#ffffff;stroke:#ffffff;stroke-linejoin:miter;\"/>\n    </g>\n    <g clip-path=\"url(#p6bf3d56c5a)\">\n     <!-- 0.017 -->\n     <g transform=\"translate(267.479166 47.724304)scale(0.1 -0.1)\">\n      <use xlink:href=\"#DejaVuSans-48\"/>\n      <use x=\"63.623047\" xlink:href=\"#DejaVuSans-46\"/>\n      <use x=\"95.410156\" xlink:href=\"#DejaVuSans-48\"/>\n      <use x=\"159.033203\" xlink:href=\"#DejaVuSans-49\"/>\n      <use x=\"222.65625\" xlink:href=\"#DejaVuSans-55\"/>\n     </g>\n    </g>\n   </g>\n   <g id=\"text_15\">\n    <g id=\"patch_16\">\n     <path clip-path=\"url(#p6bf3d56c5a)\" d=\"M 193.331136 102.939542 \nL 223.937938 85.981727 \nQ 226.562081 84.52781 225.108164 81.903667 \nL 220.417769 73.438072 \nQ 218.963853 70.813929 216.33971 72.267846 \nL 185.732908 89.225661 \nQ 183.108765 90.679577 184.562681 93.30372 \nL 189.253076 101.769315 \nQ 190.706992 104.393458 193.331136 102.939542 \nz\n\" style=\"fill:#ffffff;stroke:#ffffff;stroke-linejoin:miter;\"/>\n    </g>\n    <g clip-path=\"url(#p6bf3d56c5a)\">\n     <!-- 0.0211 -->\n     <g transform=\"translate(190.869322 98.496266)rotate(-28.988811)scale(0.1 -0.1)\">\n      <use xlink:href=\"#DejaVuSans-48\"/>\n      <use x=\"63.623047\" xlink:href=\"#DejaVuSans-46\"/>\n      <use x=\"95.410156\" xlink:href=\"#DejaVuSans-48\"/>\n      <use x=\"159.033203\" xlink:href=\"#DejaVuSans-50\"/>\n      <use x=\"222.65625\" xlink:href=\"#DejaVuSans-49\"/>\n      <use x=\"286.279297\" xlink:href=\"#DejaVuSans-49\"/>\n     </g>\n    </g>\n   </g>\n   <g id=\"text_16\">\n    <g id=\"patch_17\">\n     <path clip-path=\"url(#p6bf3d56c5a)\" d=\"M 289.732544 110.73613 \nL 298.006929 144.734341 \nQ 298.716352 147.649255 301.631265 146.939832 \nL 311.034897 144.651203 \nQ 313.94981 143.94178 313.240387 141.026867 \nL 304.966002 107.028656 \nQ 304.256579 104.113742 301.341666 104.823165 \nL 291.938034 107.111794 \nQ 289.023121 107.821217 289.732544 110.73613 \nz\n\" style=\"fill:#ffffff;stroke:#ffffff;stroke-linejoin:miter;\"/>\n    </g>\n    <g clip-path=\"url(#p6bf3d56c5a)\">\n     <!-- 0.0395 -->\n     <g transform=\"translate(294.66816 109.534914)rotate(-283.678546)scale(0.1 -0.1)\">\n      <defs>\n       <path d=\"M 10.796875 72.90625 \nL 49.515625 72.90625 \nL 49.515625 64.59375 \nL 19.828125 64.59375 \nL 19.828125 46.734375 \nQ 21.96875 47.46875 24.109375 47.828125 \nQ 26.265625 48.1875 28.421875 48.1875 \nQ 40.625 48.1875 47.75 41.5 \nQ 54.890625 34.8125 54.890625 23.390625 \nQ 54.890625 11.625 47.5625 5.09375 \nQ 40.234375 -1.421875 26.90625 -1.421875 \nQ 22.3125 -1.421875 17.546875 -0.640625 \nQ 12.796875 0.140625 7.71875 1.703125 \nL 7.71875 11.625 \nQ 12.109375 9.234375 16.796875 8.0625 \nQ 21.484375 6.890625 26.703125 6.890625 \nQ 35.15625 6.890625 40.078125 11.328125 \nQ 45.015625 15.765625 45.015625 23.390625 \nQ 45.015625 31 40.078125 35.4375 \nQ 35.15625 39.890625 26.703125 39.890625 \nQ 22.75 39.890625 18.8125 39.015625 \nQ 14.890625 38.140625 10.796875 36.28125 \nz\n\" id=\"DejaVuSans-53\"/>\n      </defs>\n      <use xlink:href=\"#DejaVuSans-48\"/>\n      <use x=\"63.623047\" xlink:href=\"#DejaVuSans-46\"/>\n      <use x=\"95.410156\" xlink:href=\"#DejaVuSans-48\"/>\n      <use x=\"159.033203\" xlink:href=\"#DejaVuSans-51\"/>\n      <use x=\"222.65625\" xlink:href=\"#DejaVuSans-57\"/>\n      <use x=\"286.279297\" xlink:href=\"#DejaVuSans-53\"/>\n     </g>\n    </g>\n   </g>\n   <g id=\"text_17\">\n    <g id=\"patch_18\">\n     <path clip-path=\"url(#p6bf3d56c5a)\" d=\"M 327.962949 109.13373 \nL 351.114637 135.370024 \nQ 353.099599 137.619452 355.349027 135.63449 \nL 362.605775 129.23092 \nQ 364.855202 127.245957 362.87024 124.99653 \nL 339.718552 98.760235 \nQ 337.73359 96.510807 335.484162 98.495769 \nL 328.227414 104.89934 \nQ 325.977986 106.884302 327.962949 109.13373 \nz\n\" style=\"fill:#ffffff;stroke:#ffffff;stroke-linejoin:miter;\"/>\n    </g>\n    <g clip-path=\"url(#p6bf3d56c5a)\">\n     <!-- 0.0274 -->\n     <g transform=\"translate(331.771745 105.772734)rotate(-311.426142)scale(0.1 -0.1)\">\n      <defs>\n       <path d=\"M 37.796875 64.3125 \nL 12.890625 25.390625 \nL 37.796875 25.390625 \nz\nM 35.203125 72.90625 \nL 47.609375 72.90625 \nL 47.609375 25.390625 \nL 58.015625 25.390625 \nL 58.015625 17.1875 \nL 47.609375 17.1875 \nL 47.609375 0 \nL 37.796875 0 \nL 37.796875 17.1875 \nL 4.890625 17.1875 \nL 4.890625 26.703125 \nz\n\" id=\"DejaVuSans-52\"/>\n      </defs>\n      <use xlink:href=\"#DejaVuSans-48\"/>\n      <use x=\"63.623047\" xlink:href=\"#DejaVuSans-46\"/>\n      <use x=\"95.410156\" xlink:href=\"#DejaVuSans-48\"/>\n      <use x=\"159.033203\" xlink:href=\"#DejaVuSans-50\"/>\n      <use x=\"222.65625\" xlink:href=\"#DejaVuSans-55\"/>\n      <use x=\"286.279297\" xlink:href=\"#DejaVuSans-52\"/>\n     </g>\n    </g>\n   </g>\n   <g id=\"text_18\">\n    <g id=\"patch_19\">\n     <path clip-path=\"url(#p6bf3d56c5a)\" d=\"M 292.743154 140.959046 \nL 299.516397 175.287853 \nQ 300.097117 178.231111 303.040374 177.650392 \nL 312.535446 175.776967 \nQ 315.478703 175.196248 314.897984 172.25299 \nL 308.12474 137.924183 \nQ 307.544021 134.980925 304.600763 135.561645 \nL 295.105692 137.435069 \nQ 292.162434 138.015789 292.743154 140.959046 \nz\n\" style=\"fill:#ffffff;stroke:#ffffff;stroke-linejoin:miter;\"/>\n    </g>\n    <g clip-path=\"url(#p6bf3d56c5a)\">\n     <!-- 0.0391 -->\n     <g transform=\"translate(297.726763 139.975755)rotate(-281.16138)scale(0.1 -0.1)\">\n      <use xlink:href=\"#DejaVuSans-48\"/>\n      <use x=\"63.623047\" xlink:href=\"#DejaVuSans-46\"/>\n      <use x=\"95.410156\" xlink:href=\"#DejaVuSans-48\"/>\n      <use x=\"159.033203\" xlink:href=\"#DejaVuSans-51\"/>\n      <use x=\"222.65625\" xlink:href=\"#DejaVuSans-57\"/>\n      <use x=\"286.279297\" xlink:href=\"#DejaVuSans-49\"/>\n     </g>\n    </g>\n   </g>\n   <g id=\"text_19\">\n    <g id=\"patch_20\">\n     <path clip-path=\"url(#p6bf3d56c5a)\" d=\"M 390.245708 203.063455 \nL 411.202352 231.084214 \nQ 412.999117 233.486637 415.40154 231.689872 \nL 423.151856 225.893433 \nQ 425.554279 224.096668 423.757514 221.694245 \nL 402.80087 193.673487 \nQ 401.004105 191.271064 398.601682 193.067829 \nL 390.851366 198.864267 \nQ 388.448943 200.661033 390.245708 203.063455 \nz\n\" style=\"fill:#ffffff;stroke:#ffffff;stroke-linejoin:miter;\"/>\n    </g>\n    <g clip-path=\"url(#p6bf3d56c5a)\">\n     <!-- 0.0165 -->\n     <g transform=\"translate(394.313561 200.02112)rotate(-306.792707)scale(0.1 -0.1)\">\n      <use xlink:href=\"#DejaVuSans-48\"/>\n      <use x=\"63.623047\" xlink:href=\"#DejaVuSans-46\"/>\n      <use x=\"95.410156\" xlink:href=\"#DejaVuSans-48\"/>\n      <use x=\"159.033203\" xlink:href=\"#DejaVuSans-49\"/>\n      <use x=\"222.65625\" xlink:href=\"#DejaVuSans-54\"/>\n      <use x=\"286.279297\" xlink:href=\"#DejaVuSans-53\"/>\n     </g>\n    </g>\n   </g>\n   <g id=\"text_20\">\n    <g id=\"patch_21\">\n     <path clip-path=\"url(#p6bf3d56c5a)\" d=\"M 272.608904 260.696141 \nL 275.365391 225.81426 \nQ 275.601724 222.823584 272.611048 222.58725 \nL 262.963 221.824828 \nQ 259.972324 221.588495 259.73599 224.579171 \nL 256.979504 259.461052 \nQ 256.74317 262.451729 259.733847 262.688062 \nL 269.381894 263.450484 \nQ 272.37257 263.686818 272.608904 260.696141 \nz\n\" style=\"fill:#ffffff;stroke:#ffffff;stroke-linejoin:miter;\"/>\n    </g>\n    <g clip-path=\"url(#p6bf3d56c5a)\">\n     <!-- 0.0161 -->\n     <g transform=\"translate(267.545003 260.295974)rotate(-85.481679)scale(0.1 -0.1)\">\n      <use xlink:href=\"#DejaVuSans-48\"/>\n      <use x=\"63.623047\" xlink:href=\"#DejaVuSans-46\"/>\n      <use x=\"95.410156\" xlink:href=\"#DejaVuSans-48\"/>\n      <use x=\"159.033203\" xlink:href=\"#DejaVuSans-49\"/>\n      <use x=\"222.65625\" xlink:href=\"#DejaVuSans-54\"/>\n      <use x=\"286.279297\" xlink:href=\"#DejaVuSans-49\"/>\n     </g>\n    </g>\n   </g>\n   <g id=\"text_21\">\n    <g id=\"patch_22\">\n     <path clip-path=\"url(#p6bf3d56c5a)\" d=\"M 253.679234 152.341759 \nL 262.868196 125.228431 \nQ 263.831126 122.38717 260.989865 121.42424 \nL 251.823838 118.317787 \nQ 248.982577 117.354857 248.019647 120.196118 \nL 238.830685 147.309445 \nQ 237.867755 150.150707 240.709016 151.113637 \nL 249.875043 154.22009 \nQ 252.716304 155.18302 253.679234 152.341759 \nz\n\" style=\"fill:#ffffff;stroke:#ffffff;stroke-linejoin:miter;\"/>\n    </g>\n    <g clip-path=\"url(#p6bf3d56c5a)\">\n     <!-- 0.032 -->\n     <g transform=\"translate(248.868328 150.711297)rotate(-71.277997)scale(0.1 -0.1)\">\n      <use xlink:href=\"#DejaVuSans-48\"/>\n      <use x=\"63.623047\" xlink:href=\"#DejaVuSans-46\"/>\n      <use x=\"95.410156\" xlink:href=\"#DejaVuSans-48\"/>\n      <use x=\"159.033203\" xlink:href=\"#DejaVuSans-51\"/>\n      <use x=\"222.65625\" xlink:href=\"#DejaVuSans-50\"/>\n     </g>\n    </g>\n   </g>\n   <g id=\"text_22\">\n    <g id=\"patch_23\">\n     <path clip-path=\"url(#p6bf3d56c5a)\" d=\"M 149.625036 177.420038 \nL 175.356271 153.708282 \nQ 177.562397 151.675301 175.529416 149.469176 \nL 168.970935 142.352123 \nQ 166.937954 140.145998 164.731829 142.178979 \nL 139.000594 165.890734 \nQ 136.794468 167.923715 138.827449 170.129841 \nL 145.38593 177.246893 \nQ 147.41891 179.453018 149.625036 177.420038 \nz\n\" style=\"fill:#ffffff;stroke:#ffffff;stroke-linejoin:miter;\"/>\n    </g>\n    <g clip-path=\"url(#p6bf3d56c5a)\">\n     <!-- 0.0158 -->\n     <g transform=\"translate(146.182733 173.684562)rotate(-42.661076)scale(0.1 -0.1)\">\n      <use xlink:href=\"#DejaVuSans-48\"/>\n      <use x=\"63.623047\" xlink:href=\"#DejaVuSans-46\"/>\n      <use x=\"95.410156\" xlink:href=\"#DejaVuSans-48\"/>\n      <use x=\"159.033203\" xlink:href=\"#DejaVuSans-49\"/>\n      <use x=\"222.65625\" xlink:href=\"#DejaVuSans-53\"/>\n      <use x=\"286.279297\" xlink:href=\"#DejaVuSans-56\"/>\n     </g>\n    </g>\n   </g>\n   <g id=\"text_23\">\n    <g id=\"patch_24\">\n     <path clip-path=\"url(#p6bf3d56c5a)\" d=\"M 385.488442 60.91752 \nL 420.37307 63.63902 \nQ 423.363982 63.872354 423.597316 60.881442 \nL 424.350061 51.232635 \nQ 424.583395 48.241723 421.592483 48.008389 \nL 386.707855 45.286889 \nQ 383.716942 45.053555 383.483609 48.044467 \nL 382.730864 57.693274 \nQ 382.49753 60.684186 385.488442 60.91752 \nz\n\" style=\"fill:#ffffff;stroke:#ffffff;stroke-linejoin:miter;\"/>\n    </g>\n    <g clip-path=\"url(#p6bf3d56c5a)\">\n     <!-- 0.0132 -->\n     <g transform=\"translate(385.88353 55.853221)rotate(-355.539145)scale(0.1 -0.1)\">\n      <use xlink:href=\"#DejaVuSans-48\"/>\n      <use x=\"63.623047\" xlink:href=\"#DejaVuSans-46\"/>\n      <use x=\"95.410156\" xlink:href=\"#DejaVuSans-48\"/>\n      <use x=\"159.033203\" xlink:href=\"#DejaVuSans-49\"/>\n      <use x=\"222.65625\" xlink:href=\"#DejaVuSans-51\"/>\n      <use x=\"286.279297\" xlink:href=\"#DejaVuSans-50\"/>\n     </g>\n    </g>\n   </g>\n   <g id=\"text_24\">\n    <g id=\"patch_25\">\n     <path clip-path=\"url(#p6bf3d56c5a)\" d=\"M 392.072453 135.631987 \nL 420.280329 156.336082 \nQ 422.698795 158.111194 424.473907 155.692728 \nL 430.200493 147.890657 \nQ 431.975605 145.472191 429.557139 143.697079 \nL 401.349263 122.992984 \nQ 398.930797 121.217872 397.155685 123.636338 \nL 391.429099 131.438409 \nQ 389.653987 133.856875 392.072453 135.631987 \nz\n\" style=\"fill:#ffffff;stroke:#ffffff;stroke-linejoin:miter;\"/>\n    </g>\n    <g clip-path=\"url(#p6bf3d56c5a)\">\n     <!-- 0.0131 -->\n     <g transform=\"translate(395.078124 131.536971)rotate(-323.721973)scale(0.1 -0.1)\">\n      <use xlink:href=\"#DejaVuSans-48\"/>\n      <use x=\"63.623047\" xlink:href=\"#DejaVuSans-46\"/>\n      <use x=\"95.410156\" xlink:href=\"#DejaVuSans-48\"/>\n      <use x=\"159.033203\" xlink:href=\"#DejaVuSans-49\"/>\n      <use x=\"222.65625\" xlink:href=\"#DejaVuSans-51\"/>\n      <use x=\"286.279297\" xlink:href=\"#DejaVuSans-49\"/>\n     </g>\n    </g>\n   </g>\n   <g id=\"text_25\">\n    <g id=\"patch_26\">\n     <path clip-path=\"url(#p6bf3d56c5a)\" d=\"M 268.696289 207.374978 \nL 273.183572 172.673276 \nQ 273.568299 169.698048 270.59307 169.31332 \nL 260.994859 168.072174 \nQ 258.019631 167.687447 257.634903 170.662676 \nL 253.147621 205.364378 \nQ 252.762893 208.339606 255.738122 208.724334 \nL 265.336333 209.96548 \nQ 268.311562 210.350207 268.696289 207.374978 \nz\n\" style=\"fill:#ffffff;stroke:#ffffff;stroke-linejoin:miter;\"/>\n    </g>\n    <g clip-path=\"url(#p6bf3d56c5a)\">\n     <!-- 0.0167 -->\n     <g transform=\"translate(263.658545 206.723547)rotate(-82.631959)scale(0.1 -0.1)\">\n      <use xlink:href=\"#DejaVuSans-48\"/>\n      <use x=\"63.623047\" xlink:href=\"#DejaVuSans-46\"/>\n      <use x=\"95.410156\" xlink:href=\"#DejaVuSans-48\"/>\n      <use x=\"159.033203\" xlink:href=\"#DejaVuSans-49\"/>\n      <use x=\"222.65625\" xlink:href=\"#DejaVuSans-54\"/>\n      <use x=\"286.279297\" xlink:href=\"#DejaVuSans-55\"/>\n     </g>\n    </g>\n   </g>\n   <g id=\"text_26\">\n    <g id=\"patch_27\">\n     <path clip-path=\"url(#p6bf3d56c5a)\" d=\"M 110.382304 138.081521 \nL 145.372929 138.081521 \nQ 148.372929 138.081521 148.372929 135.081521 \nL 148.372929 125.403396 \nQ 148.372929 122.403396 145.372929 122.403396 \nL 110.382304 122.403396 \nQ 107.382304 122.403396 107.382304 125.403396 \nL 107.382304 135.081521 \nQ 107.382304 138.081521 110.382304 138.081521 \nz\n\" style=\"fill:#ffffff;stroke:#ffffff;stroke-linejoin:miter;\"/>\n    </g>\n    <g clip-path=\"url(#p6bf3d56c5a)\">\n     <!-- 0.0272 -->\n     <g transform=\"translate(110.382304 133.001833)scale(0.1 -0.1)\">\n      <use xlink:href=\"#DejaVuSans-48\"/>\n      <use x=\"63.623047\" xlink:href=\"#DejaVuSans-46\"/>\n      <use x=\"95.410156\" xlink:href=\"#DejaVuSans-48\"/>\n      <use x=\"159.033203\" xlink:href=\"#DejaVuSans-50\"/>\n      <use x=\"222.65625\" xlink:href=\"#DejaVuSans-55\"/>\n      <use x=\"286.279297\" xlink:href=\"#DejaVuSans-50\"/>\n     </g>\n    </g>\n   </g>\n   <g id=\"text_27\">\n    <g id=\"patch_28\">\n     <path clip-path=\"url(#p6bf3d56c5a)\" d=\"M 205.376095 169.366509 \nL 237.908294 182.250604 \nQ 240.697515 183.355251 241.802162 180.566029 \nL 245.365799 171.567885 \nQ 246.470446 168.778664 243.681224 167.674017 \nL 211.149026 154.789923 \nQ 208.359804 153.685276 207.255157 156.474497 \nL 203.691521 165.472641 \nQ 202.586874 168.261863 205.376095 169.366509 \nz\n\" style=\"fill:#ffffff;stroke:#ffffff;stroke-linejoin:miter;\"/>\n    </g>\n    <g clip-path=\"url(#p6bf3d56c5a)\">\n     <!-- 0.0536 -->\n     <g transform=\"translate(207.246515 164.643719)rotate(-338.394389)scale(0.1 -0.1)\">\n      <use xlink:href=\"#DejaVuSans-48\"/>\n      <use x=\"63.623047\" xlink:href=\"#DejaVuSans-46\"/>\n      <use x=\"95.410156\" xlink:href=\"#DejaVuSans-48\"/>\n      <use x=\"159.033203\" xlink:href=\"#DejaVuSans-53\"/>\n      <use x=\"222.65625\" xlink:href=\"#DejaVuSans-51\"/>\n      <use x=\"286.279297\" xlink:href=\"#DejaVuSans-54\"/>\n     </g>\n    </g>\n   </g>\n   <g id=\"text_28\">\n    <g id=\"patch_29\">\n     <path clip-path=\"url(#p6bf3d56c5a)\" d=\"M 249.727562 163.787768 \nL 283.974227 170.964802 \nQ 286.910442 171.580141 287.525781 168.643927 \nL 289.510891 159.171575 \nQ 290.12623 156.23536 287.190015 155.620021 \nL 252.943351 148.442987 \nQ 250.007136 147.827647 249.391797 150.763862 \nL 247.406687 160.236214 \nQ 246.791348 163.172429 249.727562 163.787768 \nz\n\" style=\"fill:#ffffff;stroke:#ffffff;stroke-linejoin:miter;\"/>\n    </g>\n    <g clip-path=\"url(#p6bf3d56c5a)\">\n     <!-- 0.0359 -->\n     <g transform=\"translate(250.769473 158.816083)rotate(-348.163882)scale(0.1 -0.1)\">\n      <use xlink:href=\"#DejaVuSans-48\"/>\n      <use x=\"63.623047\" xlink:href=\"#DejaVuSans-46\"/>\n      <use x=\"95.410156\" xlink:href=\"#DejaVuSans-48\"/>\n      <use x=\"159.033203\" xlink:href=\"#DejaVuSans-51\"/>\n      <use x=\"222.65625\" xlink:href=\"#DejaVuSans-53\"/>\n      <use x=\"286.279297\" xlink:href=\"#DejaVuSans-57\"/>\n     </g>\n    </g>\n   </g>\n   <g id=\"text_29\">\n    <g id=\"patch_30\">\n     <path clip-path=\"url(#p6bf3d56c5a)\" d=\"M 208.02763 195.67062 \nL 236.73215 215.680477 \nQ 239.193197 217.396067 240.908787 214.935021 \nL 246.443352 206.995582 \nQ 248.158942 204.534535 245.697896 202.818945 \nL 216.993376 182.809088 \nQ 214.532329 181.093498 212.816739 183.554545 \nL 207.282174 191.493984 \nQ 205.566584 193.95503 208.02763 195.67062 \nz\n\" style=\"fill:#ffffff;stroke:#ffffff;stroke-linejoin:miter;\"/>\n    </g>\n    <g clip-path=\"url(#p6bf3d56c5a)\">\n     <!-- 0.0529 -->\n     <g transform=\"translate(210.932518 191.503505)rotate(-325.119733)scale(0.1 -0.1)\">\n      <use xlink:href=\"#DejaVuSans-48\"/>\n      <use x=\"63.623047\" xlink:href=\"#DejaVuSans-46\"/>\n      <use x=\"95.410156\" xlink:href=\"#DejaVuSans-48\"/>\n      <use x=\"159.033203\" xlink:href=\"#DejaVuSans-53\"/>\n      <use x=\"222.65625\" xlink:href=\"#DejaVuSans-50\"/>\n      <use x=\"286.279297\" xlink:href=\"#DejaVuSans-57\"/>\n     </g>\n    </g>\n   </g>\n   <g id=\"text_30\">\n    <g id=\"patch_31\">\n     <path clip-path=\"url(#p6bf3d56c5a)\" d=\"M 311.038624 252.499686 \nL 340.814647 270.87718 \nQ 343.367562 272.452816 344.943198 269.899902 \nL 350.026264 261.664094 \nQ 351.6019 259.11118 349.048986 257.535544 \nL 319.272963 239.15805 \nQ 316.720049 237.582414 315.144413 240.135328 \nL 310.061346 248.371136 \nQ 308.48571 250.924051 311.038624 252.499686 \nz\n\" style=\"fill:#ffffff;stroke:#ffffff;stroke-linejoin:miter;\"/>\n    </g>\n    <g clip-path=\"url(#p6bf3d56c5a)\">\n     <!-- 0.0206 -->\n     <g transform=\"translate(313.706537 248.177017)rotate(-328.317488)scale(0.1 -0.1)\">\n      <use xlink:href=\"#DejaVuSans-48\"/>\n      <use x=\"63.623047\" xlink:href=\"#DejaVuSans-46\"/>\n      <use x=\"95.410156\" xlink:href=\"#DejaVuSans-48\"/>\n      <use x=\"159.033203\" xlink:href=\"#DejaVuSans-50\"/>\n      <use x=\"222.65625\" xlink:href=\"#DejaVuSans-48\"/>\n      <use x=\"286.279297\" xlink:href=\"#DejaVuSans-54\"/>\n     </g>\n    </g>\n   </g>\n   <g id=\"text_31\">\n    <g id=\"patch_32\">\n     <path clip-path=\"url(#p6bf3d56c5a)\" d=\"M 175.488989 271.891977 \nL 188.361685 304.428688 \nQ 189.465355 307.218296 192.254963 306.114626 \nL 201.254355 302.554142 \nQ 204.043963 301.450473 202.940293 298.660865 \nL 190.067598 266.124154 \nQ 188.963928 263.334546 186.17432 264.438215 \nL 177.174928 267.998699 \nQ 174.38532 269.102369 175.488989 271.891977 \nz\n\" style=\"fill:#ffffff;stroke:#ffffff;stroke-linejoin:miter;\"/>\n    </g>\n    <g clip-path=\"url(#p6bf3d56c5a)\">\n     <!-- 0.0202 -->\n     <g transform=\"translate(180.212435 270.023212)rotate(-291.585537)scale(0.1 -0.1)\">\n      <use xlink:href=\"#DejaVuSans-48\"/>\n      <use x=\"63.623047\" xlink:href=\"#DejaVuSans-46\"/>\n      <use x=\"95.410156\" xlink:href=\"#DejaVuSans-48\"/>\n      <use x=\"159.033203\" xlink:href=\"#DejaVuSans-50\"/>\n      <use x=\"222.65625\" xlink:href=\"#DejaVuSans-48\"/>\n      <use x=\"286.279297\" xlink:href=\"#DejaVuSans-50\"/>\n     </g>\n    </g>\n   </g>\n   <g id=\"text_32\">\n    <g id=\"patch_33\">\n     <path clip-path=\"url(#p6bf3d56c5a)\" d=\"M 156.17567 171.580941 \nL 180.215522 197.005916 \nQ 182.276632 199.185784 184.4565 197.124673 \nL 191.488843 190.475443 \nQ 193.668711 188.414333 191.6076 186.234465 \nL 167.567748 160.80949 \nQ 165.506637 158.629622 163.32677 160.690733 \nL 156.294426 167.339963 \nQ 154.114559 169.401073 156.17567 171.580941 \nz\n\" style=\"fill:#ffffff;stroke:#ffffff;stroke-linejoin:miter;\"/>\n    </g>\n    <g clip-path=\"url(#p6bf3d56c5a)\">\n     <!-- 0.0427 -->\n     <g transform=\"translate(159.866685 168.091008)rotate(-313.396012)scale(0.1 -0.1)\">\n      <use xlink:href=\"#DejaVuSans-48\"/>\n      <use x=\"63.623047\" xlink:href=\"#DejaVuSans-46\"/>\n      <use x=\"95.410156\" xlink:href=\"#DejaVuSans-48\"/>\n      <use x=\"159.033203\" xlink:href=\"#DejaVuSans-52\"/>\n      <use x=\"222.65625\" xlink:href=\"#DejaVuSans-50\"/>\n      <use x=\"286.279297\" xlink:href=\"#DejaVuSans-55\"/>\n     </g>\n    </g>\n   </g>\n   <g id=\"text_33\">\n    <g id=\"patch_34\">\n     <path clip-path=\"url(#p6bf3d56c5a)\" d=\"M 77.12461 221.35788 \nL 96.401108 192.155817 \nQ 98.053822 189.652113 95.550117 187.999399 \nL 87.473062 182.667675 \nQ 84.969357 181.014961 83.316643 183.518665 \nL 64.040146 212.720728 \nQ 62.387432 215.224433 64.891136 216.877147 \nL 72.968192 222.208871 \nQ 75.471896 223.861585 77.12461 221.35788 \nz\n\" style=\"fill:#ffffff;stroke:#ffffff;stroke-linejoin:miter;\"/>\n    </g>\n    <g clip-path=\"url(#p6bf3d56c5a)\">\n     <!-- 0.0198 -->\n     <g transform=\"translate(72.885265 218.559457)rotate(-56.570903)scale(0.1 -0.1)\">\n      <use xlink:href=\"#DejaVuSans-48\"/>\n      <use x=\"63.623047\" xlink:href=\"#DejaVuSans-46\"/>\n      <use x=\"95.410156\" xlink:href=\"#DejaVuSans-48\"/>\n      <use x=\"159.033203\" xlink:href=\"#DejaVuSans-49\"/>\n      <use x=\"222.65625\" xlink:href=\"#DejaVuSans-57\"/>\n      <use x=\"286.279297\" xlink:href=\"#DejaVuSans-56\"/>\n     </g>\n    </g>\n   </g>\n   <g id=\"text_34\">\n    <g id=\"patch_35\">\n     <path clip-path=\"url(#p6bf3d56c5a)\" d=\"M 310.615327 107.712151 \nL 345.129213 101.955801 \nQ 348.088338 101.462268 347.594805 98.503142 \nL 346.002645 88.956879 \nQ 345.509111 85.997754 342.549986 86.491287 \nL 308.0361 92.247637 \nQ 305.076975 92.741171 305.570508 95.700296 \nL 307.162668 105.246559 \nQ 307.656202 108.205684 310.615327 107.712151 \nz\n\" style=\"fill:#ffffff;stroke:#ffffff;stroke-linejoin:miter;\"/>\n    </g>\n    <g clip-path=\"url(#p6bf3d56c5a)\">\n     <!-- 0.0161 -->\n     <g transform=\"translate(309.779662 102.701673)rotate(-9.46884)scale(0.1 -0.1)\">\n      <use xlink:href=\"#DejaVuSans-48\"/>\n      <use x=\"63.623047\" xlink:href=\"#DejaVuSans-46\"/>\n      <use x=\"95.410156\" xlink:href=\"#DejaVuSans-48\"/>\n      <use x=\"159.033203\" xlink:href=\"#DejaVuSans-49\"/>\n      <use x=\"222.65625\" xlink:href=\"#DejaVuSans-54\"/>\n      <use x=\"286.279297\" xlink:href=\"#DejaVuSans-49\"/>\n     </g>\n    </g>\n   </g>\n   <g id=\"text_35\">\n    <g id=\"patch_36\">\n     <path clip-path=\"url(#p6bf3d56c5a)\" d=\"M 314.974167 185.616277 \nL 348.898012 194.190456 \nQ 351.80655 194.925582 352.541676 192.017045 \nL 354.913225 182.633982 \nQ 355.648351 179.725445 352.739814 178.990319 \nL 318.815968 170.41614 \nQ 315.907431 169.681014 315.172305 172.589551 \nL 312.800756 181.972613 \nQ 312.065629 184.881151 314.974167 185.616277 \nz\n\" style=\"fill:#ffffff;stroke:#ffffff;stroke-linejoin:miter;\"/>\n    </g>\n    <g clip-path=\"url(#p6bf3d56c5a)\">\n     <!-- 0.0163 -->\n     <g transform=\"translate(316.218904 180.691457)rotate(-345.815675)scale(0.1 -0.1)\">\n      <use xlink:href=\"#DejaVuSans-48\"/>\n      <use x=\"63.623047\" xlink:href=\"#DejaVuSans-46\"/>\n      <use x=\"95.410156\" xlink:href=\"#DejaVuSans-48\"/>\n      <use x=\"159.033203\" xlink:href=\"#DejaVuSans-49\"/>\n      <use x=\"222.65625\" xlink:href=\"#DejaVuSans-54\"/>\n      <use x=\"286.279297\" xlink:href=\"#DejaVuSans-51\"/>\n     </g>\n    </g>\n   </g>\n   <g id=\"text_36\">\n    <g id=\"patch_37\">\n     <path clip-path=\"url(#p6bf3d56c5a)\" d=\"M 170.689776 220.400235 \nL 188.135294 250.7317 \nQ 189.631025 253.332236 192.231561 251.836505 \nL 200.621 247.011215 \nQ 203.221536 245.515484 201.725805 242.914948 \nL 184.280287 212.583484 \nQ 182.784556 209.982947 180.18402 211.478678 \nL 171.794581 216.303968 \nQ 169.194045 217.799699 170.689776 220.400235 \nz\n\" style=\"fill:#ffffff;stroke:#ffffff;stroke-linejoin:miter;\"/>\n    </g>\n    <g clip-path=\"url(#p6bf3d56c5a)\">\n     <!-- 0.0211 -->\n     <g transform=\"translate(175.09308 217.86762)rotate(-299.905895)scale(0.1 -0.1)\">\n      <use xlink:href=\"#DejaVuSans-48\"/>\n      <use x=\"63.623047\" xlink:href=\"#DejaVuSans-46\"/>\n      <use x=\"95.410156\" xlink:href=\"#DejaVuSans-48\"/>\n      <use x=\"159.033203\" xlink:href=\"#DejaVuSans-50\"/>\n      <use x=\"222.65625\" xlink:href=\"#DejaVuSans-49\"/>\n      <use x=\"286.279297\" xlink:href=\"#DejaVuSans-49\"/>\n     </g>\n    </g>\n   </g>\n   <g id=\"text_37\">\n    <g id=\"patch_38\">\n     <path clip-path=\"url(#p6bf3d56c5a)\" d=\"M 303.68439 214.637131 \nL 338.675015 214.637131 \nQ 341.675015 214.637131 341.675015 211.637131 \nL 341.675015 201.959006 \nQ 341.675015 198.959006 338.675015 198.959006 \nL 303.68439 198.959006 \nQ 300.68439 198.959006 300.68439 201.959006 \nL 300.68439 211.637131 \nQ 300.68439 214.637131 303.68439 214.637131 \nz\n\" style=\"fill:#ffffff;stroke:#ffffff;stroke-linejoin:miter;\"/>\n    </g>\n    <g clip-path=\"url(#p6bf3d56c5a)\">\n     <!-- 0.5258 -->\n     <g transform=\"translate(303.68439 209.557443)scale(0.1 -0.1)\">\n      <use xlink:href=\"#DejaVuSans-48\"/>\n      <use x=\"63.623047\" xlink:href=\"#DejaVuSans-46\"/>\n      <use x=\"95.410156\" xlink:href=\"#DejaVuSans-53\"/>\n      <use x=\"159.033203\" xlink:href=\"#DejaVuSans-50\"/>\n      <use x=\"222.65625\" xlink:href=\"#DejaVuSans-53\"/>\n      <use x=\"286.279297\" xlink:href=\"#DejaVuSans-56\"/>\n     </g>\n    </g>\n   </g>\n   <g id=\"text_38\">\n    <g id=\"patch_39\">\n     <path clip-path=\"url(#p6bf3d56c5a)\" d=\"M 349.499019 209.110015 \nL 383.805585 202.225005 \nQ 386.746936 201.634704 386.156634 198.693353 \nL 384.252296 189.204433 \nQ 383.661994 186.263082 380.720644 186.853384 \nL 346.414078 193.738393 \nQ 343.472727 194.328695 344.063029 197.270046 \nL 345.967367 206.758966 \nQ 346.557669 209.700316 349.499019 209.110015 \nz\n\" style=\"fill:#ffffff;stroke:#ffffff;stroke-linejoin:miter;\"/>\n    </g>\n    <g clip-path=\"url(#p6bf3d56c5a)\">\n     <!-- 0.2688 -->\n     <g transform=\"translate(348.499503 204.129634)rotate(-11.34798)scale(0.1 -0.1)\">\n      <use xlink:href=\"#DejaVuSans-48\"/>\n      <use x=\"63.623047\" xlink:href=\"#DejaVuSans-46\"/>\n      <use x=\"95.410156\" xlink:href=\"#DejaVuSans-50\"/>\n      <use x=\"159.033203\" xlink:href=\"#DejaVuSans-54\"/>\n      <use x=\"222.65625\" xlink:href=\"#DejaVuSans-56\"/>\n      <use x=\"286.279297\" xlink:href=\"#DejaVuSans-56\"/>\n     </g>\n    </g>\n   </g>\n   <g id=\"text_39\">\n    <g id=\"patch_40\">\n     <path clip-path=\"url(#p6bf3d56c5a)\" d=\"M 314.371988 220.671355 \nL 317.022545 255.561445 \nQ 317.249796 258.552826 320.241177 258.325574 \nL 329.891495 257.592452 \nQ 332.882875 257.3652 332.655624 254.37382 \nL 330.005067 219.48373 \nQ 329.777815 216.492349 326.786435 216.719601 \nL 317.136117 217.452724 \nQ 314.144737 217.679975 314.371988 220.671355 \nz\n\" style=\"fill:#ffffff;stroke:#ffffff;stroke-linejoin:miter;\"/>\n    </g>\n    <g clip-path=\"url(#p6bf3d56c5a)\">\n     <!-- 0.3784 -->\n     <g transform=\"translate(319.437081 220.286567)rotate(-274.344344)scale(0.1 -0.1)\">\n      <use xlink:href=\"#DejaVuSans-48\"/>\n      <use x=\"63.623047\" xlink:href=\"#DejaVuSans-46\"/>\n      <use x=\"95.410156\" xlink:href=\"#DejaVuSans-51\"/>\n      <use x=\"159.033203\" xlink:href=\"#DejaVuSans-55\"/>\n      <use x=\"222.65625\" xlink:href=\"#DejaVuSans-56\"/>\n      <use x=\"286.279297\" xlink:href=\"#DejaVuSans-52\"/>\n     </g>\n    </g>\n   </g>\n   <g id=\"text_40\">\n    <g id=\"patch_41\">\n     <path clip-path=\"url(#p6bf3d56c5a)\" d=\"M 408.194982 288.266322 \nL 435.255257 310.449319 \nQ 437.575331 312.351228 439.47724 310.031155 \nL 445.612878 302.5465 \nQ 447.514787 300.226427 445.194714 298.324518 \nL 418.134439 276.141521 \nQ 415.814365 274.239612 413.912456 276.559685 \nL 407.776818 284.044339 \nQ 405.874908 286.364413 408.194982 288.266322 \nz\n\" style=\"fill:#ffffff;stroke:#ffffff;stroke-linejoin:miter;\"/>\n    </g>\n    <g clip-path=\"url(#p6bf3d56c5a)\">\n     <!-- 0.0389 -->\n     <g transform=\"translate(411.41535 284.337906)rotate(-320.656387)scale(0.1 -0.1)\">\n      <use xlink:href=\"#DejaVuSans-48\"/>\n      <use x=\"63.623047\" xlink:href=\"#DejaVuSans-46\"/>\n      <use x=\"95.410156\" xlink:href=\"#DejaVuSans-48\"/>\n      <use x=\"159.033203\" xlink:href=\"#DejaVuSans-51\"/>\n      <use x=\"222.65625\" xlink:href=\"#DejaVuSans-56\"/>\n      <use x=\"286.279297\" xlink:href=\"#DejaVuSans-57\"/>\n     </g>\n    </g>\n   </g>\n   <g id=\"text_41\">\n    <g id=\"patch_42\">\n     <path clip-path=\"url(#p6bf3d56c5a)\" d=\"M 288.30403 342.569781 \nL 298.434062 309.077598 \nQ 299.302583 306.20607 296.431055 305.337549 \nL 287.167387 302.535664 \nQ 284.295859 301.667143 283.427338 304.538671 \nL 273.297307 338.030854 \nQ 272.428786 340.902381 275.300313 341.770902 \nL 284.563981 344.572787 \nQ 287.435509 345.441308 288.30403 342.569781 \nz\n\" style=\"fill:#ffffff;stroke:#ffffff;stroke-linejoin:miter;\"/>\n    </g>\n    <g clip-path=\"url(#p6bf3d56c5a)\">\n     <!-- 0.0386 -->\n     <g transform=\"translate(283.441876 341.099176)rotate(-73.171556)scale(0.1 -0.1)\">\n      <use xlink:href=\"#DejaVuSans-48\"/>\n      <use x=\"63.623047\" xlink:href=\"#DejaVuSans-46\"/>\n      <use x=\"95.410156\" xlink:href=\"#DejaVuSans-48\"/>\n      <use x=\"159.033203\" xlink:href=\"#DejaVuSans-51\"/>\n      <use x=\"222.65625\" xlink:href=\"#DejaVuSans-56\"/>\n      <use x=\"286.279297\" xlink:href=\"#DejaVuSans-54\"/>\n     </g>\n    </g>\n   </g>\n   <g id=\"text_42\">\n    <g id=\"patch_43\">\n     <path clip-path=\"url(#p6bf3d56c5a)\" d=\"M 254.979512 228.380361 \nL 289.256375 221.348967 \nQ 292.195179 220.746115 291.592327 217.807311 \nL 289.6475 208.326607 \nQ 289.044647 205.387803 286.105843 205.990655 \nL 251.82898 213.022049 \nQ 248.890176 213.624901 249.493029 216.563705 \nL 251.437855 226.044409 \nQ 252.040708 228.983213 254.979512 228.380361 \nz\n\" style=\"fill:#ffffff;stroke:#ffffff;stroke-linejoin:miter;\"/>\n    </g>\n    <g clip-path=\"url(#p6bf3d56c5a)\">\n     <!-- 0.2122 -->\n     <g transform=\"translate(253.958745 223.404292)rotate(-11.592564)scale(0.1 -0.1)\">\n      <use xlink:href=\"#DejaVuSans-48\"/>\n      <use x=\"63.623047\" xlink:href=\"#DejaVuSans-46\"/>\n      <use x=\"95.410156\" xlink:href=\"#DejaVuSans-50\"/>\n      <use x=\"159.033203\" xlink:href=\"#DejaVuSans-49\"/>\n      <use x=\"222.65625\" xlink:href=\"#DejaVuSans-50\"/>\n      <use x=\"286.279297\" xlink:href=\"#DejaVuSans-50\"/>\n     </g>\n    </g>\n   </g>\n   <g id=\"text_43\">\n    <g id=\"patch_44\">\n     <path clip-path=\"url(#p6bf3d56c5a)\" d=\"M 161.634072 252.350187 \nL 195.696484 244.344193 \nQ 198.616901 243.657781 197.93049 240.737363 \nL 195.716096 231.315975 \nQ 195.029684 228.395557 192.109267 229.081969 \nL 158.046855 237.087963 \nQ 155.126437 237.774375 155.812849 240.694792 \nL 158.027243 250.116181 \nQ 158.713655 253.036598 161.634072 252.350187 \nz\n\" style=\"fill:#ffffff;stroke:#ffffff;stroke-linejoin:miter;\"/>\n    </g>\n    <g clip-path=\"url(#p6bf3d56c5a)\">\n     <!-- 0.0392 -->\n     <g transform=\"translate(160.471819 247.40525)rotate(-13.226666)scale(0.1 -0.1)\">\n      <use xlink:href=\"#DejaVuSans-48\"/>\n      <use x=\"63.623047\" xlink:href=\"#DejaVuSans-46\"/>\n      <use x=\"95.410156\" xlink:href=\"#DejaVuSans-48\"/>\n      <use x=\"159.033203\" xlink:href=\"#DejaVuSans-51\"/>\n      <use x=\"222.65625\" xlink:href=\"#DejaVuSans-57\"/>\n      <use x=\"286.279297\" xlink:href=\"#DejaVuSans-50\"/>\n     </g>\n    </g>\n   </g>\n   <g id=\"text_44\">\n    <g id=\"patch_45\">\n     <path clip-path=\"url(#p6bf3d56c5a)\" d=\"M 413.394304 151.833191 \nL 442.062282 131.771016 \nQ 444.520196 130.05094 442.80012 127.593026 \nL 437.251084 119.663694 \nQ 435.531008 117.205781 433.073094 118.925857 \nL 404.405117 138.988032 \nQ 401.947203 140.708108 403.667279 143.166022 \nL 409.216315 151.095354 \nQ 410.936391 153.553267 413.394304 151.833191 \nz\n\" style=\"fill:#ffffff;stroke:#ffffff;stroke-linejoin:miter;\"/>\n    </g>\n    <g clip-path=\"url(#p6bf3d56c5a)\">\n     <!-- 0.0302 -->\n     <g transform=\"translate(410.481822 147.67138)rotate(-34.984765)scale(0.1 -0.1)\">\n      <use xlink:href=\"#DejaVuSans-48\"/>\n      <use x=\"63.623047\" xlink:href=\"#DejaVuSans-46\"/>\n      <use x=\"95.410156\" xlink:href=\"#DejaVuSans-48\"/>\n      <use x=\"159.033203\" xlink:href=\"#DejaVuSans-51\"/>\n      <use x=\"222.65625\" xlink:href=\"#DejaVuSans-48\"/>\n      <use x=\"286.279297\" xlink:href=\"#DejaVuSans-50\"/>\n     </g>\n    </g>\n   </g>\n   <g id=\"text_45\">\n    <g id=\"patch_46\">\n     <path clip-path=\"url(#p6bf3d56c5a)\" d=\"M 412.169607 226.170288 \nL 446.885439 230.546917 \nQ 449.861879 230.922157 450.237119 227.945717 \nL 451.447659 218.343598 \nQ 451.822899 215.367158 448.846459 214.991918 \nL 414.130628 210.615289 \nQ 411.154188 210.240049 410.778947 213.216489 \nL 409.568407 222.818608 \nQ 409.193167 225.795048 412.169607 226.170288 \nz\n\" style=\"fill:#ffffff;stroke:#ffffff;stroke-linejoin:miter;\"/>\n    </g>\n    <g clip-path=\"url(#p6bf3d56c5a)\">\n     <!-- 0.1107 -->\n     <g transform=\"translate(412.804975 221.130493)rotate(-352.814622)scale(0.1 -0.1)\">\n      <use xlink:href=\"#DejaVuSans-48\"/>\n      <use x=\"63.623047\" xlink:href=\"#DejaVuSans-46\"/>\n      <use x=\"95.410156\" xlink:href=\"#DejaVuSans-49\"/>\n      <use x=\"159.033203\" xlink:href=\"#DejaVuSans-49\"/>\n      <use x=\"222.65625\" xlink:href=\"#DejaVuSans-48\"/>\n      <use x=\"286.279297\" xlink:href=\"#DejaVuSans-55\"/>\n     </g>\n    </g>\n   </g>\n   <g id=\"text_46\">\n    <g id=\"patch_47\">\n     <path clip-path=\"url(#p6bf3d56c5a)\" d=\"M 280.482635 288.958818 \nL 298.637674 259.046639 \nQ 300.194238 256.482052 297.62965 254.925488 \nL 289.356182 249.903951 \nQ 286.791594 248.347388 285.235031 250.911976 \nL 267.079992 280.824154 \nQ 265.523429 283.388742 268.088017 284.945305 \nL 276.361484 289.966842 \nQ 278.926072 291.523405 280.482635 288.958818 \nz\n\" style=\"fill:#ffffff;stroke:#ffffff;stroke-linejoin:miter;\"/>\n    </g>\n    <g clip-path=\"url(#p6bf3d56c5a)\">\n     <!-- 0.1552 -->\n     <g transform=\"translate(276.1402 286.323199)rotate(-58.744563)scale(0.1 -0.1)\">\n      <use xlink:href=\"#DejaVuSans-48\"/>\n      <use x=\"63.623047\" xlink:href=\"#DejaVuSans-46\"/>\n      <use x=\"95.410156\" xlink:href=\"#DejaVuSans-49\"/>\n      <use x=\"159.033203\" xlink:href=\"#DejaVuSans-53\"/>\n      <use x=\"222.65625\" xlink:href=\"#DejaVuSans-53\"/>\n      <use x=\"286.279297\" xlink:href=\"#DejaVuSans-50\"/>\n     </g>\n    </g>\n   </g>\n   <g id=\"text_47\">\n    <g id=\"patch_48\">\n     <path clip-path=\"url(#p6bf3d56c5a)\" d=\"M 391.544648 197.004393 \nL 426.535273 197.004393 \nQ 429.535273 197.004393 429.535273 194.004393 \nL 429.535273 184.326268 \nQ 429.535273 181.326268 426.535273 181.326268 \nL 391.544648 181.326268 \nQ 388.544648 181.326268 388.544648 184.326268 \nL 388.544648 194.004393 \nQ 388.544648 197.004393 391.544648 197.004393 \nz\n\" style=\"fill:#ffffff;stroke:#ffffff;stroke-linejoin:miter;\"/>\n    </g>\n    <g clip-path=\"url(#p6bf3d56c5a)\">\n     <!-- 0.1563 -->\n     <g transform=\"translate(391.544648 191.924705)scale(0.1 -0.1)\">\n      <use xlink:href=\"#DejaVuSans-48\"/>\n      <use x=\"63.623047\" xlink:href=\"#DejaVuSans-46\"/>\n      <use x=\"95.410156\" xlink:href=\"#DejaVuSans-49\"/>\n      <use x=\"159.033203\" xlink:href=\"#DejaVuSans-53\"/>\n      <use x=\"222.65625\" xlink:href=\"#DejaVuSans-54\"/>\n      <use x=\"286.279297\" xlink:href=\"#DejaVuSans-51\"/>\n     </g>\n    </g>\n   </g>\n   <g id=\"text_48\">\n    <g id=\"patch_49\">\n     <path clip-path=\"url(#p6bf3d56c5a)\" d=\"M 360.164519 246.441691 \nL 385.525192 222.334014 \nQ 387.699547 220.267088 385.632621 218.092733 \nL 378.964631 211.078175 \nQ 376.897705 208.903821 374.723351 210.970747 \nL 349.362678 235.078424 \nQ 347.188323 237.14535 349.255249 239.319704 \nL 355.923238 246.334262 \nQ 357.990164 248.508617 360.164519 246.441691 \nz\n\" style=\"fill:#ffffff;stroke:#ffffff;stroke-linejoin:miter;\"/>\n    </g>\n    <g clip-path=\"url(#p6bf3d56c5a)\">\n     <!-- 0.2087 -->\n     <g transform=\"translate(356.66474 242.76001)rotate(-43.549051)scale(0.1 -0.1)\">\n      <use xlink:href=\"#DejaVuSans-48\"/>\n      <use x=\"63.623047\" xlink:href=\"#DejaVuSans-46\"/>\n      <use x=\"95.410156\" xlink:href=\"#DejaVuSans-50\"/>\n      <use x=\"159.033203\" xlink:href=\"#DejaVuSans-48\"/>\n      <use x=\"222.65625\" xlink:href=\"#DejaVuSans-56\"/>\n      <use x=\"286.279297\" xlink:href=\"#DejaVuSans-55\"/>\n     </g>\n    </g>\n   </g>\n   <g id=\"text_49\">\n    <g id=\"patch_50\">\n     <path clip-path=\"url(#p6bf3d56c5a)\" d=\"M 454.546021 274.038551 \nL 473.535469 303.428085 \nQ 475.163572 305.947863 477.68335 304.31976 \nL 485.812258 299.067432 \nQ 488.332036 297.439329 486.703933 294.919551 \nL 467.714485 265.530017 \nQ 466.086382 263.010239 463.566604 264.638342 \nL 455.437696 269.89067 \nQ 452.917918 271.518773 454.546021 274.038551 \nz\n\" style=\"fill:#ffffff;stroke:#ffffff;stroke-linejoin:miter;\"/>\n    </g>\n    <g clip-path=\"url(#p6bf3d56c5a)\">\n     <!-- 0.0269 -->\n     <g transform=\"translate(458.812582 271.2818)rotate(-302.867699)scale(0.1 -0.1)\">\n      <use xlink:href=\"#DejaVuSans-48\"/>\n      <use x=\"63.623047\" xlink:href=\"#DejaVuSans-46\"/>\n      <use x=\"95.410156\" xlink:href=\"#DejaVuSans-48\"/>\n      <use x=\"159.033203\" xlink:href=\"#DejaVuSans-50\"/>\n      <use x=\"222.65625\" xlink:href=\"#DejaVuSans-54\"/>\n      <use x=\"286.279297\" xlink:href=\"#DejaVuSans-57\"/>\n     </g>\n    </g>\n   </g>\n   <g id=\"text_50\">\n    <g id=\"patch_51\">\n     <path clip-path=\"url(#p6bf3d56c5a)\" d=\"M 327.088284 333.716955 \nL 345.762112 304.125875 \nQ 347.363155 301.588818 344.826097 299.987775 \nL 336.641443 294.822744 \nQ 334.104385 293.221702 332.503343 295.758759 \nL 313.829514 325.349839 \nQ 312.228471 327.886896 314.765529 329.487939 \nL 322.950183 334.65297 \nQ 325.487241 336.254012 327.088284 333.716955 \nz\n\" style=\"fill:#ffffff;stroke:#ffffff;stroke-linejoin:miter;\"/>\n    </g>\n    <g clip-path=\"url(#p6bf3d56c5a)\">\n     <!-- 0.0267 -->\n     <g transform=\"translate(322.792464 331.006022)rotate(-57.745502)scale(0.1 -0.1)\">\n      <use xlink:href=\"#DejaVuSans-48\"/>\n      <use x=\"63.623047\" xlink:href=\"#DejaVuSans-46\"/>\n      <use x=\"95.410156\" xlink:href=\"#DejaVuSans-48\"/>\n      <use x=\"159.033203\" xlink:href=\"#DejaVuSans-50\"/>\n      <use x=\"222.65625\" xlink:href=\"#DejaVuSans-54\"/>\n      <use x=\"286.279297\" xlink:href=\"#DejaVuSans-55\"/>\n     </g>\n    </g>\n   </g>\n   <g id=\"text_51\">\n    <g id=\"patch_52\">\n     <path clip-path=\"url(#p6bf3d56c5a)\" d=\"M 298.887482 219.533122 \nL 333.178215 212.569683 \nQ 336.118208 211.972656 335.521182 209.032663 \nL 333.59515 199.548123 \nQ 332.998124 196.60813 330.058131 197.205156 \nL 295.767398 204.168595 \nQ 292.827405 204.765622 293.424431 207.705615 \nL 295.350463 217.190155 \nQ 295.947489 220.130148 298.887482 219.533122 \nz\n\" style=\"fill:#ffffff;stroke:#ffffff;stroke-linejoin:miter;\"/>\n    </g>\n    <g clip-path=\"url(#p6bf3d56c5a)\">\n     <!-- 0.1266 -->\n     <g transform=\"translate(297.87658 214.55504)rotate(-11.478998)scale(0.1 -0.1)\">\n      <use xlink:href=\"#DejaVuSans-48\"/>\n      <use x=\"63.623047\" xlink:href=\"#DejaVuSans-46\"/>\n      <use x=\"95.410156\" xlink:href=\"#DejaVuSans-49\"/>\n      <use x=\"159.033203\" xlink:href=\"#DejaVuSans-50\"/>\n      <use x=\"222.65625\" xlink:href=\"#DejaVuSans-54\"/>\n      <use x=\"286.279297\" xlink:href=\"#DejaVuSans-54\"/>\n     </g>\n    </g>\n   </g>\n   <g id=\"text_52\">\n    <g id=\"patch_53\">\n     <path clip-path=\"url(#p6bf3d56c5a)\" d=\"M 205.47611 243.417527 \nL 239.598459 235.670971 \nQ 242.524015 235.006803 241.859847 232.081246 \nL 239.717212 222.643279 \nQ 239.053044 219.717723 236.127487 220.381891 \nL 202.005138 228.128447 \nQ 199.079582 228.792615 199.74375 231.718172 \nL 201.886385 241.156139 \nQ 202.550553 244.081695 205.47611 243.417527 \nz\n\" style=\"fill:#ffffff;stroke:#ffffff;stroke-linejoin:miter;\"/>\n    </g>\n    <g clip-path=\"url(#p6bf3d56c5a)\">\n     <!-- 0.0277 -->\n     <g transform=\"translate(204.35152 238.463889)rotate(-12.790656)scale(0.1 -0.1)\">\n      <use xlink:href=\"#DejaVuSans-48\"/>\n      <use x=\"63.623047\" xlink:href=\"#DejaVuSans-46\"/>\n      <use x=\"95.410156\" xlink:href=\"#DejaVuSans-48\"/>\n      <use x=\"159.033203\" xlink:href=\"#DejaVuSans-50\"/>\n      <use x=\"222.65625\" xlink:href=\"#DejaVuSans-55\"/>\n      <use x=\"286.279297\" xlink:href=\"#DejaVuSans-55\"/>\n     </g>\n    </g>\n   </g>\n   <g id=\"text_53\">\n    <g id=\"patch_54\">\n     <path clip-path=\"url(#p6bf3d56c5a)\" d=\"M 461.004585 144.71806 \nL 484.812515 119.075785 \nQ 486.853742 116.877287 484.655243 114.83606 \nL 477.562797 108.250978 \nQ 475.364298 106.209752 473.323072 108.40825 \nL 449.515141 134.050526 \nQ 447.473915 136.249024 449.672413 138.29025 \nL 456.76486 144.875332 \nQ 458.963358 146.916558 461.004585 144.71806 \nz\n\" style=\"fill:#ffffff;stroke:#ffffff;stroke-linejoin:miter;\"/>\n    </g>\n    <g clip-path=\"url(#p6bf3d56c5a)\">\n     <!-- 0.0219 -->\n     <g transform=\"translate(457.282023 141.261796)rotate(-47.124401)scale(0.1 -0.1)\">\n      <use xlink:href=\"#DejaVuSans-48\"/>\n      <use x=\"63.623047\" xlink:href=\"#DejaVuSans-46\"/>\n      <use x=\"95.410156\" xlink:href=\"#DejaVuSans-48\"/>\n      <use x=\"159.033203\" xlink:href=\"#DejaVuSans-50\"/>\n      <use x=\"222.65625\" xlink:href=\"#DejaVuSans-49\"/>\n      <use x=\"286.279297\" xlink:href=\"#DejaVuSans-57\"/>\n     </g>\n    </g>\n   </g>\n   <g id=\"text_54\">\n    <g id=\"patch_55\">\n     <path clip-path=\"url(#p6bf3d56c5a)\" d=\"M 455.341982 213.459662 \nL 488.413639 224.888106 \nQ 491.249112 225.86795 492.228956 223.032477 \nL 495.389971 213.885123 \nQ 496.369815 211.04965 493.534342 210.069806 \nL 460.462685 198.641362 \nQ 457.627212 197.661518 456.647368 200.496991 \nL 453.486353 209.644345 \nQ 452.506509 212.479818 455.341982 213.459662 \nz\n\" style=\"fill:#ffffff;stroke:#ffffff;stroke-linejoin:miter;\"/>\n    </g>\n    <g clip-path=\"url(#p6bf3d56c5a)\">\n     <!-- 0.0716 -->\n     <g transform=\"translate(457.001082 208.658556)rotate(-340.936584)scale(0.1 -0.1)\">\n      <use xlink:href=\"#DejaVuSans-48\"/>\n      <use x=\"63.623047\" xlink:href=\"#DejaVuSans-46\"/>\n      <use x=\"95.410156\" xlink:href=\"#DejaVuSans-48\"/>\n      <use x=\"159.033203\" xlink:href=\"#DejaVuSans-55\"/>\n      <use x=\"222.65625\" xlink:href=\"#DejaVuSans-49\"/>\n      <use x=\"286.279297\" xlink:href=\"#DejaVuSans-54\"/>\n     </g>\n    </g>\n   </g>\n   <g id=\"text_55\">\n    <g id=\"patch_56\">\n     <path clip-path=\"url(#p6bf3d56c5a)\" d=\"M 321.17691 276.443784 \nL 342.723837 257.594395 \nQ 344.981784 255.619129 343.006518 253.361182 \nL 336.634227 246.076952 \nQ 334.658961 243.819005 332.401014 245.794271 \nL 310.854087 264.64366 \nQ 308.59614 266.618927 310.571406 268.876873 \nL 316.943697 276.161104 \nQ 318.918964 278.41905 321.17691 276.443784 \nz\n\" style=\"fill:#ffffff;stroke:#ffffff;stroke-linejoin:miter;\"/>\n    </g>\n    <g clip-path=\"url(#p6bf3d56c5a)\">\n     <!-- 0.096 -->\n     <g transform=\"translate(317.832332 272.620563)rotate(-41.179641)scale(0.1 -0.1)\">\n      <use xlink:href=\"#DejaVuSans-48\"/>\n      <use x=\"63.623047\" xlink:href=\"#DejaVuSans-46\"/>\n      <use x=\"95.410156\" xlink:href=\"#DejaVuSans-48\"/>\n      <use x=\"159.033203\" xlink:href=\"#DejaVuSans-57\"/>\n      <use x=\"222.65625\" xlink:href=\"#DejaVuSans-54\"/>\n     </g>\n    </g>\n   </g>\n   <g id=\"text_56\">\n    <g id=\"patch_57\">\n     <path clip-path=\"url(#p6bf3d56c5a)\" d=\"M 308.352597 276.08617 \nL 343.343222 276.08617 \nQ 346.343222 276.08617 346.343222 273.08617 \nL 346.343222 263.408045 \nQ 346.343222 260.408045 343.343222 260.408045 \nL 308.352597 260.408045 \nQ 305.352597 260.408045 305.352597 263.408045 \nL 305.352597 273.08617 \nQ 305.352597 276.08617 308.352597 276.08617 \nz\n\" style=\"fill:#ffffff;stroke:#ffffff;stroke-linejoin:miter;\"/>\n    </g>\n    <g clip-path=\"url(#p6bf3d56c5a)\">\n     <!-- 0.3019 -->\n     <g transform=\"translate(308.352597 271.006482)scale(0.1 -0.1)\">\n      <use xlink:href=\"#DejaVuSans-48\"/>\n      <use x=\"63.623047\" xlink:href=\"#DejaVuSans-46\"/>\n      <use x=\"95.410156\" xlink:href=\"#DejaVuSans-51\"/>\n      <use x=\"159.033203\" xlink:href=\"#DejaVuSans-48\"/>\n      <use x=\"222.65625\" xlink:href=\"#DejaVuSans-49\"/>\n      <use x=\"286.279297\" xlink:href=\"#DejaVuSans-57\"/>\n     </g>\n    </g>\n   </g>\n   <g id=\"text_57\">\n    <g id=\"patch_58\">\n     <path clip-path=\"url(#p6bf3d56c5a)\" d=\"M 409.910596 322.596796 \nL 440.692164 339.235271 \nQ 443.331291 340.661808 444.757829 338.022681 \nL 449.359897 329.508748 \nQ 450.786434 326.86962 448.147307 325.443083 \nL 417.365738 308.804608 \nQ 414.726611 307.37807 413.300074 310.017197 \nL 408.698006 318.531131 \nQ 407.271469 321.170258 409.910596 322.596796 \nz\n\" style=\"fill:#ffffff;stroke:#ffffff;stroke-linejoin:miter;\"/>\n    </g>\n    <g clip-path=\"url(#p6bf3d56c5a)\">\n     <!-- 0.0385 -->\n     <g transform=\"translate(412.32605 318.128149)rotate(-331.607283)scale(0.1 -0.1)\">\n      <use xlink:href=\"#DejaVuSans-48\"/>\n      <use x=\"63.623047\" xlink:href=\"#DejaVuSans-46\"/>\n      <use x=\"95.410156\" xlink:href=\"#DejaVuSans-48\"/>\n      <use x=\"159.033203\" xlink:href=\"#DejaVuSans-51\"/>\n      <use x=\"222.65625\" xlink:href=\"#DejaVuSans-56\"/>\n      <use x=\"286.279297\" xlink:href=\"#DejaVuSans-53\"/>\n     </g>\n    </g>\n   </g>\n   <g id=\"text_58\">\n    <g id=\"patch_59\">\n     <path clip-path=\"url(#p6bf3d56c5a)\" d=\"M 288.367416 373.449263 \nL 302.39522 341.393615 \nQ 303.597925 338.645252 300.849562 337.442547 \nL 291.983228 333.56257 \nQ 289.234865 332.359864 288.032159 335.108227 \nL 274.004356 367.163875 \nQ 272.80165 369.912238 275.550013 371.114944 \nL 284.416347 374.994921 \nQ 287.164711 376.197627 288.367416 373.449263 \nz\n\" style=\"fill:#ffffff;stroke:#ffffff;stroke-linejoin:miter;\"/>\n    </g>\n    <g clip-path=\"url(#p6bf3d56c5a)\">\n     <!-- 0.0381 -->\n     <g transform=\"translate(283.713807 371.412808)rotate(-66.365435)scale(0.1 -0.1)\">\n      <use xlink:href=\"#DejaVuSans-48\"/>\n      <use x=\"63.623047\" xlink:href=\"#DejaVuSans-46\"/>\n      <use x=\"95.410156\" xlink:href=\"#DejaVuSans-48\"/>\n      <use x=\"159.033203\" xlink:href=\"#DejaVuSans-51\"/>\n      <use x=\"222.65625\" xlink:href=\"#DejaVuSans-56\"/>\n      <use x=\"286.279297\" xlink:href=\"#DejaVuSans-49\"/>\n     </g>\n    </g>\n   </g>\n   <g id=\"text_59\">\n    <g id=\"patch_60\">\n     <path clip-path=\"url(#p6bf3d56c5a)\" d=\"M 253.734173 248.957602 \nL 286.40004 261.498932 \nQ 289.200722 262.574191 290.275981 259.773509 \nL 293.744812 250.738393 \nQ 294.820071 247.937711 292.019389 246.862452 \nL 259.353522 234.321123 \nQ 256.55284 233.245864 255.477581 236.046546 \nL 252.00875 245.081662 \nQ 250.933491 247.882343 253.734173 248.957602 \nz\n\" style=\"fill:#ffffff;stroke:#ffffff;stroke-linejoin:miter;\"/>\n    </g>\n    <g clip-path=\"url(#p6bf3d56c5a)\">\n     <!-- 0.1837 -->\n     <g transform=\"translate(255.554833 244.215407)rotate(-338.996824)scale(0.1 -0.1)\">\n      <use xlink:href=\"#DejaVuSans-48\"/>\n      <use x=\"63.623047\" xlink:href=\"#DejaVuSans-46\"/>\n      <use x=\"95.410156\" xlink:href=\"#DejaVuSans-49\"/>\n      <use x=\"159.033203\" xlink:href=\"#DejaVuSans-56\"/>\n      <use x=\"222.65625\" xlink:href=\"#DejaVuSans-51\"/>\n      <use x=\"286.279297\" xlink:href=\"#DejaVuSans-55\"/>\n     </g>\n    </g>\n   </g>\n   <g id=\"text_60\">\n    <g id=\"patch_61\">\n     <path clip-path=\"url(#p6bf3d56c5a)\" d=\"M 161.885282 279.658714 \nL 196.867612 278.896889 \nQ 199.866901 278.831572 199.801584 275.832283 \nL 199.59087 266.156452 \nQ 199.525553 263.157163 196.526264 263.22248 \nL 161.543933 263.984306 \nQ 158.544644 264.049623 158.609961 267.048911 \nL 158.820676 276.724742 \nQ 158.885993 279.724031 161.885282 279.658714 \nz\n\" style=\"fill:#ffffff;stroke:#ffffff;stroke-linejoin:miter;\"/>\n    </g>\n    <g clip-path=\"url(#p6bf3d56c5a)\">\n     <!-- 0.0383 -->\n     <g transform=\"translate(161.774685 274.580231)rotate(-1.247558)scale(0.1 -0.1)\">\n      <use xlink:href=\"#DejaVuSans-48\"/>\n      <use x=\"63.623047\" xlink:href=\"#DejaVuSans-46\"/>\n      <use x=\"95.410156\" xlink:href=\"#DejaVuSans-48\"/>\n      <use x=\"159.033203\" xlink:href=\"#DejaVuSans-51\"/>\n      <use x=\"222.65625\" xlink:href=\"#DejaVuSans-56\"/>\n      <use x=\"286.279297\" xlink:href=\"#DejaVuSans-51\"/>\n     </g>\n    </g>\n   </g>\n   <g id=\"text_61\">\n    <g id=\"patch_62\">\n     <path clip-path=\"url(#p6bf3d56c5a)\" d=\"M 418.955321 184.098819 \nL 443.398663 159.061509 \nQ 445.494368 156.914879 443.347738 154.819174 \nL 436.42262 148.058343 \nQ 434.275989 145.962638 432.180285 148.109268 \nL 407.736943 173.146578 \nQ 405.641238 175.293208 407.787868 177.388913 \nL 414.712986 184.149744 \nQ 416.859616 186.245449 418.955321 184.098819 \nz\n\" style=\"fill:#ffffff;stroke:#ffffff;stroke-linejoin:miter;\"/>\n    </g>\n    <g clip-path=\"url(#p6bf3d56c5a)\">\n     <!-- 0.0297 -->\n     <g transform=\"translate(415.320584 180.55031)rotate(-45.687748)scale(0.1 -0.1)\">\n      <use xlink:href=\"#DejaVuSans-48\"/>\n      <use x=\"63.623047\" xlink:href=\"#DejaVuSans-46\"/>\n      <use x=\"95.410156\" xlink:href=\"#DejaVuSans-48\"/>\n      <use x=\"159.033203\" xlink:href=\"#DejaVuSans-50\"/>\n      <use x=\"222.65625\" xlink:href=\"#DejaVuSans-57\"/>\n      <use x=\"286.279297\" xlink:href=\"#DejaVuSans-55\"/>\n     </g>\n    </g>\n   </g>\n   <g id=\"text_62\">\n    <g id=\"patch_63\">\n     <path clip-path=\"url(#p6bf3d56c5a)\" d=\"M 416.788067 261.78435 \nL 451.348136 256.312102 \nQ 454.311221 255.842927 453.842046 252.879842 \nL 452.328466 243.320805 \nQ 451.859291 240.35772 448.896206 240.826895 \nL 414.336137 246.299142 \nQ 411.373052 246.768318 411.842227 249.731403 \nL 413.355807 259.29044 \nQ 413.824982 262.253525 416.788067 261.78435 \nz\n\" style=\"fill:#ffffff;stroke:#ffffff;stroke-linejoin:miter;\"/>\n    </g>\n    <g clip-path=\"url(#p6bf3d56c5a)\">\n     <!-- 0.0866 -->\n     <g transform=\"translate(415.993646 256.767167)rotate(-8.997526)scale(0.1 -0.1)\">\n      <use xlink:href=\"#DejaVuSans-48\"/>\n      <use x=\"63.623047\" xlink:href=\"#DejaVuSans-46\"/>\n      <use x=\"95.410156\" xlink:href=\"#DejaVuSans-48\"/>\n      <use x=\"159.033203\" xlink:href=\"#DejaVuSans-56\"/>\n      <use x=\"222.65625\" xlink:href=\"#DejaVuSans-54\"/>\n      <use x=\"286.279297\" xlink:href=\"#DejaVuSans-54\"/>\n     </g>\n    </g>\n   </g>\n   <g id=\"text_63\">\n    <g id=\"patch_64\">\n     <path clip-path=\"url(#p6bf3d56c5a)\" d=\"M 276.399961 317.695774 \nL 303.759505 295.882952 \nQ 306.105237 294.012781 304.235066 291.667049 \nL 298.201815 284.099619 \nQ 296.331644 281.753887 293.985912 283.624058 \nL 266.626368 305.43688 \nQ 264.280636 307.307051 266.150807 309.652784 \nL 272.184058 317.220213 \nQ 274.054229 319.565945 276.399961 317.695774 \nz\n\" style=\"fill:#ffffff;stroke:#ffffff;stroke-linejoin:miter;\"/>\n    </g>\n    <g clip-path=\"url(#p6bf3d56c5a)\">\n     <!-- 0.1193 -->\n     <g transform=\"translate(273.233333 313.723912)rotate(-38.564149)scale(0.1 -0.1)\">\n      <use xlink:href=\"#DejaVuSans-48\"/>\n      <use x=\"63.623047\" xlink:href=\"#DejaVuSans-46\"/>\n      <use x=\"95.410156\" xlink:href=\"#DejaVuSans-49\"/>\n      <use x=\"159.033203\" xlink:href=\"#DejaVuSans-49\"/>\n      <use x=\"222.65625\" xlink:href=\"#DejaVuSans-57\"/>\n      <use x=\"286.279297\" xlink:href=\"#DejaVuSans-51\"/>\n     </g>\n    </g>\n   </g>\n   <g id=\"text_64\">\n    <g id=\"patch_65\">\n     <path clip-path=\"url(#p6bf3d56c5a)\" d=\"M 514.714681 387.631834 \nL 549.705306 387.631834 \nQ 552.705306 387.631834 552.705306 384.631834 \nL 552.705306 374.953709 \nQ 552.705306 371.953709 549.705306 371.953709 \nL 514.714681 371.953709 \nQ 511.714681 371.953709 511.714681 374.953709 \nL 511.714681 384.631834 \nQ 511.714681 387.631834 514.714681 387.631834 \nz\n\" style=\"fill:#ffffff;stroke:#ffffff;stroke-linejoin:miter;\"/>\n    </g>\n    <g clip-path=\"url(#p6bf3d56c5a)\">\n     <!-- 0.0172 -->\n     <g transform=\"translate(514.714681 382.552147)scale(0.1 -0.1)\">\n      <use xlink:href=\"#DejaVuSans-48\"/>\n      <use x=\"63.623047\" xlink:href=\"#DejaVuSans-46\"/>\n      <use x=\"95.410156\" xlink:href=\"#DejaVuSans-48\"/>\n      <use x=\"159.033203\" xlink:href=\"#DejaVuSans-49\"/>\n      <use x=\"222.65625\" xlink:href=\"#DejaVuSans-55\"/>\n      <use x=\"286.279297\" xlink:href=\"#DejaVuSans-50\"/>\n     </g>\n    </g>\n   </g>\n   <g id=\"text_65\">\n    <g id=\"patch_66\">\n     <path clip-path=\"url(#p6bf3d56c5a)\" d=\"M 375.922625 421.390924 \nL 410.1325 414.040529 \nQ 413.06556 413.410326 412.435358 410.477265 \nL 410.402298 401.01509 \nQ 409.772095 398.082029 406.839034 398.712232 \nL 372.62916 406.062627 \nQ 369.696099 406.692829 370.326302 409.62589 \nL 372.359362 419.088066 \nQ 372.989564 422.021126 375.922625 421.390924 \nz\n\" style=\"fill:#ffffff;stroke:#ffffff;stroke-linejoin:miter;\"/>\n    </g>\n    <g clip-path=\"url(#p6bf3d56c5a)\">\n     <!-- 0.0168 -->\n     <g transform=\"translate(374.855547 416.42458)rotate(-12.126311)scale(0.1 -0.1)\">\n      <use xlink:href=\"#DejaVuSans-48\"/>\n      <use x=\"63.623047\" xlink:href=\"#DejaVuSans-46\"/>\n      <use x=\"95.410156\" xlink:href=\"#DejaVuSans-48\"/>\n      <use x=\"159.033203\" xlink:href=\"#DejaVuSans-49\"/>\n      <use x=\"222.65625\" xlink:href=\"#DejaVuSans-54\"/>\n      <use x=\"286.279297\" xlink:href=\"#DejaVuSans-56\"/>\n     </g>\n    </g>\n   </g>\n   <g id=\"text_66\">\n    <g id=\"patch_67\">\n     <path clip-path=\"url(#p6bf3d56c5a)\" d=\"M 356.896559 303.064138 \nL 388.349938 318.394786 \nQ 391.046664 319.709193 392.361072 317.012467 \nL 396.601406 308.312716 \nQ 397.915813 305.615989 395.219087 304.301582 \nL 363.765708 288.970934 \nQ 361.068981 287.656526 359.754574 290.353252 \nL 355.51424 299.053004 \nQ 354.199833 301.74973 356.896559 303.064138 \nz\n\" style=\"fill:#ffffff;stroke:#ffffff;stroke-linejoin:miter;\"/>\n    </g>\n    <g clip-path=\"url(#p6bf3d56c5a)\">\n     <!-- 0.0337 -->\n     <g transform=\"translate(359.122152 298.497962)rotate(-334.014997)scale(0.1 -0.1)\">\n      <use xlink:href=\"#DejaVuSans-48\"/>\n      <use x=\"63.623047\" xlink:href=\"#DejaVuSans-46\"/>\n      <use x=\"95.410156\" xlink:href=\"#DejaVuSans-48\"/>\n      <use x=\"159.033203\" xlink:href=\"#DejaVuSans-51\"/>\n      <use x=\"222.65625\" xlink:href=\"#DejaVuSans-51\"/>\n      <use x=\"286.279297\" xlink:href=\"#DejaVuSans-55\"/>\n     </g>\n    </g>\n   </g>\n   <g id=\"text_67\">\n    <g id=\"patch_68\">\n     <path clip-path=\"url(#p6bf3d56c5a)\" d=\"M 263.652086 331.281203 \nL 297.892569 338.487668 \nQ 300.828254 339.105531 301.446116 336.169846 \nL 303.439367 326.699204 \nQ 304.057229 323.763519 301.121544 323.145656 \nL 266.881061 315.939191 \nQ 263.945376 315.321328 263.327513 318.257013 \nL 261.334263 327.727655 \nQ 260.716401 330.66334 263.652086 331.281203 \nz\n\" style=\"fill:#ffffff;stroke:#ffffff;stroke-linejoin:miter;\"/>\n    </g>\n    <g clip-path=\"url(#p6bf3d56c5a)\">\n     <!-- 0.0153 -->\n     <g transform=\"translate(264.698268 326.310415)rotate(-348.114639)scale(0.1 -0.1)\">\n      <use xlink:href=\"#DejaVuSans-48\"/>\n      <use x=\"63.623047\" xlink:href=\"#DejaVuSans-46\"/>\n      <use x=\"95.410156\" xlink:href=\"#DejaVuSans-48\"/>\n      <use x=\"159.033203\" xlink:href=\"#DejaVuSans-49\"/>\n      <use x=\"222.65625\" xlink:href=\"#DejaVuSans-53\"/>\n      <use x=\"286.279297\" xlink:href=\"#DejaVuSans-51\"/>\n     </g>\n    </g>\n   </g>\n   <g id=\"text_68\">\n    <g id=\"patch_69\">\n     <path clip-path=\"url(#p6bf3d56c5a)\" d=\"M 520.5283 204.557537 \nL 521.295029 239.53976 \nQ 521.360766 242.53904 524.360046 242.473303 \nL 534.035847 242.261232 \nQ 537.035127 242.195495 536.969389 239.196215 \nL 536.202661 204.213991 \nQ 536.136923 201.214712 533.137644 201.280449 \nL 523.461842 201.49252 \nQ 520.462563 201.558257 520.5283 204.557537 \nz\n\" style=\"fill:#ffffff;stroke:#ffffff;stroke-linejoin:miter;\"/>\n    </g>\n    <g clip-path=\"url(#p6bf3d56c5a)\">\n     <!-- 0.0127 -->\n     <g transform=\"translate(525.606768 204.446229)rotate(-271.255589)scale(0.1 -0.1)\">\n      <use xlink:href=\"#DejaVuSans-48\"/>\n      <use x=\"63.623047\" xlink:href=\"#DejaVuSans-46\"/>\n      <use x=\"95.410156\" xlink:href=\"#DejaVuSans-48\"/>\n      <use x=\"159.033203\" xlink:href=\"#DejaVuSans-49\"/>\n      <use x=\"222.65625\" xlink:href=\"#DejaVuSans-50\"/>\n      <use x=\"286.279297\" xlink:href=\"#DejaVuSans-55\"/>\n     </g>\n    </g>\n   </g>\n   <g id=\"text_69\">\n    <g id=\"patch_70\">\n     <path clip-path=\"url(#p6bf3d56c5a)\" d=\"M 542.935278 324.960282 \nL 544.767691 290.01767 \nQ 544.924797 287.021787 541.928913 286.864681 \nL 532.264069 286.35785 \nQ 529.268185 286.200744 529.111079 289.196627 \nL 527.278666 324.139239 \nQ 527.12156 327.135122 530.117444 327.292229 \nL 539.782288 327.799059 \nQ 542.778172 327.956165 542.935278 324.960282 \nz\n\" style=\"fill:#ffffff;stroke:#ffffff;stroke-linejoin:miter;\"/>\n    </g>\n    <g clip-path=\"url(#p6bf3d56c5a)\">\n     <!-- 0.0137 -->\n     <g transform=\"translate(537.862561 324.694265)rotate(-86.998123)scale(0.1 -0.1)\">\n      <use xlink:href=\"#DejaVuSans-48\"/>\n      <use x=\"63.623047\" xlink:href=\"#DejaVuSans-46\"/>\n      <use x=\"95.410156\" xlink:href=\"#DejaVuSans-48\"/>\n      <use x=\"159.033203\" xlink:href=\"#DejaVuSans-49\"/>\n      <use x=\"222.65625\" xlink:href=\"#DejaVuSans-51\"/>\n      <use x=\"286.279297\" xlink:href=\"#DejaVuSans-55\"/>\n     </g>\n    </g>\n   </g>\n   <g id=\"text_70\">\n    <g id=\"patch_71\">\n     <path clip-path=\"url(#p6bf3d56c5a)\" d=\"M 369.848273 361.36581 \nL 404.386372 366.97505 \nQ 407.347573 367.455971 407.828494 364.494769 \nL 409.379965 354.941809 \nQ 409.860886 351.980608 406.899684 351.499687 \nL 372.361586 345.890447 \nQ 369.400384 345.409526 368.919463 348.370727 \nL 367.367992 357.923687 \nQ 366.887071 360.884889 369.848273 361.36581 \nz\n\" style=\"fill:#ffffff;stroke:#ffffff;stroke-linejoin:miter;\"/>\n    </g>\n    <g clip-path=\"url(#p6bf3d56c5a)\">\n     <!-- 0.0175 -->\n     <g transform=\"translate(370.662582 356.351817)rotate(-350.775287)scale(0.1 -0.1)\">\n      <use xlink:href=\"#DejaVuSans-48\"/>\n      <use x=\"63.623047\" xlink:href=\"#DejaVuSans-46\"/>\n      <use x=\"95.410156\" xlink:href=\"#DejaVuSans-48\"/>\n      <use x=\"159.033203\" xlink:href=\"#DejaVuSans-49\"/>\n      <use x=\"222.65625\" xlink:href=\"#DejaVuSans-55\"/>\n      <use x=\"286.279297\" xlink:href=\"#DejaVuSans-53\"/>\n     </g>\n    </g>\n   </g>\n   <g id=\"text_71\">\n    <g id=\"patch_72\">\n     <path clip-path=\"url(#p6bf3d56c5a)\" d=\"M 233.056353 448.149446 \nL 268.046978 448.149446 \nQ 271.046978 448.149446 271.046978 445.149446 \nL 271.046978 435.471321 \nQ 271.046978 432.471321 268.046978 432.471321 \nL 233.056353 432.471321 \nQ 230.056353 432.471321 230.056353 435.471321 \nL 230.056353 445.149446 \nQ 230.056353 448.149446 233.056353 448.149446 \nz\n\" style=\"fill:#ffffff;stroke:#ffffff;stroke-linejoin:miter;\"/>\n    </g>\n    <g clip-path=\"url(#p6bf3d56c5a)\">\n     <!-- 0.0166 -->\n     <g transform=\"translate(233.056353 443.069759)scale(0.1 -0.1)\">\n      <use xlink:href=\"#DejaVuSans-48\"/>\n      <use x=\"63.623047\" xlink:href=\"#DejaVuSans-46\"/>\n      <use x=\"95.410156\" xlink:href=\"#DejaVuSans-48\"/>\n      <use x=\"159.033203\" xlink:href=\"#DejaVuSans-49\"/>\n      <use x=\"222.65625\" xlink:href=\"#DejaVuSans-54\"/>\n      <use x=\"286.279297\" xlink:href=\"#DejaVuSans-54\"/>\n     </g>\n    </g>\n   </g>\n   <g id=\"text_72\">\n    <g id=\"patch_73\">\n     <path clip-path=\"url(#p6bf3d56c5a)\" d=\"M 224.975144 317.74283 \nL 229.964237 352.375947 \nQ 230.391988 355.345295 233.361337 354.917544 \nL 242.940578 353.537601 \nQ 245.909926 353.10985 245.482175 350.140501 \nL 240.493081 315.507384 \nQ 240.06533 312.538036 237.095982 312.965787 \nL 227.516741 314.34573 \nQ 224.547393 314.773482 224.975144 317.74283 \nz\n\" style=\"fill:#ffffff;stroke:#ffffff;stroke-linejoin:miter;\"/>\n    </g>\n    <g clip-path=\"url(#p6bf3d56c5a)\">\n     <!-- 0.0334 -->\n     <g transform=\"translate(230.002931 317.018549)rotate(-278.197383)scale(0.1 -0.1)\">\n      <use xlink:href=\"#DejaVuSans-48\"/>\n      <use x=\"63.623047\" xlink:href=\"#DejaVuSans-46\"/>\n      <use x=\"95.410156\" xlink:href=\"#DejaVuSans-48\"/>\n      <use x=\"159.033203\" xlink:href=\"#DejaVuSans-51\"/>\n      <use x=\"222.65625\" xlink:href=\"#DejaVuSans-51\"/>\n      <use x=\"286.279297\" xlink:href=\"#DejaVuSans-52\"/>\n     </g>\n    </g>\n   </g>\n   <g id=\"text_73\">\n    <g id=\"patch_74\">\n     <path clip-path=\"url(#p6bf3d56c5a)\" d=\"M 122.885327 353.126987 \nL 150.743208 374.299666 \nQ 153.131666 376.114953 154.946953 373.726495 \nL 160.803146 366.021229 \nQ 162.618433 363.632771 160.229975 361.817484 \nL 132.372094 340.644805 \nQ 129.983636 338.829518 128.168349 341.217976 \nL 122.312157 348.923242 \nQ 120.496869 351.3117 122.885327 353.126987 \nz\n\" style=\"fill:#ffffff;stroke:#ffffff;stroke-linejoin:miter;\"/>\n    </g>\n    <g clip-path=\"url(#p6bf3d56c5a)\">\n     <!-- 0.0151 -->\n     <g transform=\"translate(125.959025 349.08278)rotate(-322.764267)scale(0.1 -0.1)\">\n      <use xlink:href=\"#DejaVuSans-48\"/>\n      <use x=\"63.623047\" xlink:href=\"#DejaVuSans-46\"/>\n      <use x=\"95.410156\" xlink:href=\"#DejaVuSans-48\"/>\n      <use x=\"159.033203\" xlink:href=\"#DejaVuSans-49\"/>\n      <use x=\"222.65625\" xlink:href=\"#DejaVuSans-53\"/>\n      <use x=\"286.279297\" xlink:href=\"#DejaVuSans-49\"/>\n     </g>\n    </g>\n   </g>\n   <g id=\"text_74\">\n    <g id=\"patch_75\">\n     <path clip-path=\"url(#p6bf3d56c5a)\" d=\"M 383.935721 270.888413 \nL 404.566643 242.626975 \nQ 406.335482 240.203917 403.912424 238.435078 \nL 396.095538 232.728731 \nQ 393.67248 230.959893 391.903641 233.382951 \nL 371.272719 261.644389 \nQ 369.50388 264.067447 371.926938 265.836285 \nL 379.743824 271.542632 \nQ 382.166882 273.311471 383.935721 270.888413 \nz\n\" style=\"fill:#ffffff;stroke:#ffffff;stroke-linejoin:miter;\"/>\n    </g>\n    <g clip-path=\"url(#p6bf3d56c5a)\">\n     <!-- 0.0126 -->\n     <g transform=\"translate(379.832928 267.893364)rotate(-53.87046)scale(0.1 -0.1)\">\n      <use xlink:href=\"#DejaVuSans-48\"/>\n      <use x=\"63.623047\" xlink:href=\"#DejaVuSans-46\"/>\n      <use x=\"95.410156\" xlink:href=\"#DejaVuSans-48\"/>\n      <use x=\"159.033203\" xlink:href=\"#DejaVuSans-49\"/>\n      <use x=\"222.65625\" xlink:href=\"#DejaVuSans-50\"/>\n      <use x=\"286.279297\" xlink:href=\"#DejaVuSans-54\"/>\n     </g>\n    </g>\n   </g>\n   <g id=\"text_75\">\n    <g id=\"patch_76\">\n     <path clip-path=\"url(#p6bf3d56c5a)\" d=\"M 385.487867 353.869881 \nL 413.992831 333.576757 \nQ 416.436768 331.836881 414.696891 329.392943 \nL 409.083977 321.5087 \nQ 407.3441 319.064763 404.900163 320.80464 \nL 376.395199 341.097764 \nQ 373.951262 342.83764 375.691138 345.281578 \nL 381.304053 353.165821 \nQ 383.04393 355.609758 385.487867 353.869881 \nz\n\" style=\"fill:#ffffff;stroke:#ffffff;stroke-linejoin:miter;\"/>\n    </g>\n    <g clip-path=\"url(#p6bf3d56c5a)\">\n     <!-- 0.0137 -->\n     <g transform=\"translate(382.541857 349.731736)rotate(-35.447651)scale(0.1 -0.1)\">\n      <use xlink:href=\"#DejaVuSans-48\"/>\n      <use x=\"63.623047\" xlink:href=\"#DejaVuSans-46\"/>\n      <use x=\"95.410156\" xlink:href=\"#DejaVuSans-48\"/>\n      <use x=\"159.033203\" xlink:href=\"#DejaVuSans-49\"/>\n      <use x=\"222.65625\" xlink:href=\"#DejaVuSans-51\"/>\n      <use x=\"286.279297\" xlink:href=\"#DejaVuSans-55\"/>\n     </g>\n    </g>\n   </g>\n   <g id=\"text_76\">\n    <g id=\"patch_77\">\n     <path clip-path=\"url(#p6bf3d56c5a)\" d=\"M 238.738482 369.662598 \nL 240.697617 404.598334 \nQ 240.865588 407.593627 243.860882 407.425657 \nL 253.523825 406.883775 \nQ 256.519119 406.715805 256.351148 403.720511 \nL 254.392013 368.784775 \nQ 254.224042 365.789481 251.228748 365.957452 \nL 241.565805 366.499333 \nQ 238.570511 366.667304 238.738482 369.662598 \nz\n\" style=\"fill:#ffffff;stroke:#ffffff;stroke-linejoin:miter;\"/>\n    </g>\n    <g clip-path=\"url(#p6bf3d56c5a)\">\n     <!-- 0.0175 -->\n     <g transform=\"translate(243.810201 369.378185)rotate(-273.209686)scale(0.1 -0.1)\">\n      <use xlink:href=\"#DejaVuSans-48\"/>\n      <use x=\"63.623047\" xlink:href=\"#DejaVuSans-46\"/>\n      <use x=\"95.410156\" xlink:href=\"#DejaVuSans-48\"/>\n      <use x=\"159.033203\" xlink:href=\"#DejaVuSans-49\"/>\n      <use x=\"222.65625\" xlink:href=\"#DejaVuSans-55\"/>\n      <use x=\"286.279297\" xlink:href=\"#DejaVuSans-53\"/>\n     </g>\n    </g>\n   </g>\n   <g id=\"text_77\">\n    <g id=\"patch_78\">\n     <path clip-path=\"url(#p6bf3d56c5a)\" d=\"M 202.41034 235.41201 \nL 237.400965 235.41201 \nQ 240.400965 235.41201 240.400965 232.41201 \nL 240.400965 222.733885 \nQ 240.400965 219.733885 237.400965 219.733885 \nL 202.41034 219.733885 \nQ 199.41034 219.733885 199.41034 222.733885 \nL 199.41034 232.41201 \nQ 199.41034 235.41201 202.41034 235.41201 \nz\n\" style=\"fill:#ffffff;stroke:#ffffff;stroke-linejoin:miter;\"/>\n    </g>\n    <g clip-path=\"url(#p6bf3d56c5a)\">\n     <!-- 0.1364 -->\n     <g transform=\"translate(202.41034 230.332323)scale(0.1 -0.1)\">\n      <use xlink:href=\"#DejaVuSans-48\"/>\n      <use x=\"63.623047\" xlink:href=\"#DejaVuSans-46\"/>\n      <use x=\"95.410156\" xlink:href=\"#DejaVuSans-49\"/>\n      <use x=\"159.033203\" xlink:href=\"#DejaVuSans-51\"/>\n      <use x=\"222.65625\" xlink:href=\"#DejaVuSans-54\"/>\n      <use x=\"286.279297\" xlink:href=\"#DejaVuSans-52\"/>\n     </g>\n    </g>\n   </g>\n   <g id=\"text_78\">\n    <g id=\"patch_79\">\n     <path clip-path=\"url(#p6bf3d56c5a)\" d=\"M 111.176387 262.968834 \nL 145.11264 254.443898 \nQ 148.022241 253.712993 147.291337 250.803392 \nL 144.933408 241.416898 \nQ 144.202503 238.507296 141.292902 239.238201 \nL 107.356649 247.763137 \nQ 104.447048 248.494042 105.177952 251.403643 \nL 107.535881 260.790137 \nQ 108.266786 263.699739 111.176387 262.968834 \nz\n\" style=\"fill:#ffffff;stroke:#ffffff;stroke-linejoin:miter;\"/>\n    </g>\n    <g clip-path=\"url(#p6bf3d56c5a)\">\n     <!-- 0.0312 -->\n     <g transform=\"translate(109.938798 258.042213)rotate(-14.101173)scale(0.1 -0.1)\">\n      <use xlink:href=\"#DejaVuSans-48\"/>\n      <use x=\"63.623047\" xlink:href=\"#DejaVuSans-46\"/>\n      <use x=\"95.410156\" xlink:href=\"#DejaVuSans-48\"/>\n      <use x=\"159.033203\" xlink:href=\"#DejaVuSans-51\"/>\n      <use x=\"222.65625\" xlink:href=\"#DejaVuSans-49\"/>\n      <use x=\"286.279297\" xlink:href=\"#DejaVuSans-50\"/>\n     </g>\n    </g>\n   </g>\n   <g id=\"text_79\">\n    <g id=\"patch_80\">\n     <path clip-path=\"url(#p6bf3d56c5a)\" d=\"M 360.877238 160.939032 \nL 391.720165 144.414576 \nQ 394.364553 142.997815 392.947792 140.353427 \nL 388.37726 131.822522 \nQ 386.960499 129.178134 384.316111 130.594895 \nL 353.473183 147.119351 \nQ 350.828795 148.536113 352.245557 151.1805 \nL 356.816088 159.711406 \nQ 358.23285 162.355794 360.877238 160.939032 \nz\n\" style=\"fill:#ffffff;stroke:#ffffff;stroke-linejoin:miter;\"/>\n    </g>\n    <g clip-path=\"url(#p6bf3d56c5a)\">\n     <!-- 0.0245 -->\n     <g transform=\"translate(358.478336 156.461478)rotate(-28.180696)scale(0.1 -0.1)\">\n      <use xlink:href=\"#DejaVuSans-48\"/>\n      <use x=\"63.623047\" xlink:href=\"#DejaVuSans-46\"/>\n      <use x=\"95.410156\" xlink:href=\"#DejaVuSans-48\"/>\n      <use x=\"159.033203\" xlink:href=\"#DejaVuSans-50\"/>\n      <use x=\"222.65625\" xlink:href=\"#DejaVuSans-52\"/>\n      <use x=\"286.279297\" xlink:href=\"#DejaVuSans-53\"/>\n     </g>\n    </g>\n   </g>\n   <g id=\"text_80\">\n    <g id=\"patch_81\">\n     <path clip-path=\"url(#p6bf3d56c5a)\" d=\"M 362.213273 238.434549 \nL 397.196018 239.17713 \nQ 400.195342 239.240797 400.259009 236.241473 \nL 400.464401 226.565527 \nQ 400.528068 223.566203 397.528743 223.502536 \nL 362.545999 222.759955 \nQ 359.546674 222.696288 359.483008 225.695613 \nL 359.277616 235.371558 \nQ 359.213949 238.370882 362.213273 238.434549 \nz\n\" style=\"fill:#ffffff;stroke:#ffffff;stroke-linejoin:miter;\"/>\n    </g>\n    <g clip-path=\"url(#p6bf3d56c5a)\">\n     <!-- 0.0587 -->\n     <g transform=\"translate(362.321076 233.356006)rotate(-358.783961)scale(0.1 -0.1)\">\n      <use xlink:href=\"#DejaVuSans-48\"/>\n      <use x=\"63.623047\" xlink:href=\"#DejaVuSans-46\"/>\n      <use x=\"95.410156\" xlink:href=\"#DejaVuSans-48\"/>\n      <use x=\"159.033203\" xlink:href=\"#DejaVuSans-53\"/>\n      <use x=\"222.65625\" xlink:href=\"#DejaVuSans-56\"/>\n      <use x=\"286.279297\" xlink:href=\"#DejaVuSans-55\"/>\n     </g>\n    </g>\n   </g>\n   <g id=\"text_81\">\n    <g id=\"patch_82\">\n     <path clip-path=\"url(#p6bf3d56c5a)\" d=\"M 221.333512 268.166016 \nL 227.842603 296.044345 \nQ 228.524704 298.965773 231.446132 298.283672 \nL 240.870778 296.083185 \nQ 243.792206 295.401084 243.110105 292.479657 \nL 236.601013 264.601327 \nQ 235.918912 261.6799 232.997485 262.362001 \nL 223.572838 264.562487 \nQ 220.651411 265.244588 221.333512 268.166016 \nz\n\" style=\"fill:#ffffff;stroke:#ffffff;stroke-linejoin:miter;\"/>\n    </g>\n    <g clip-path=\"url(#p6bf3d56c5a)\">\n     <!-- 0.079 -->\n     <g transform=\"translate(226.280158 267.011062)rotate(-283.142107)scale(0.1 -0.1)\">\n      <use xlink:href=\"#DejaVuSans-48\"/>\n      <use x=\"63.623047\" xlink:href=\"#DejaVuSans-46\"/>\n      <use x=\"95.410156\" xlink:href=\"#DejaVuSans-48\"/>\n      <use x=\"159.033203\" xlink:href=\"#DejaVuSans-55\"/>\n      <use x=\"222.65625\" xlink:href=\"#DejaVuSans-57\"/>\n     </g>\n    </g>\n   </g>\n   <g id=\"text_82\">\n    <g id=\"patch_83\">\n     <path clip-path=\"url(#p6bf3d56c5a)\" d=\"M 15.068324 282.47315 \nL 50.058949 282.47315 \nQ 53.058949 282.47315 53.058949 279.47315 \nL 53.058949 269.795025 \nQ 53.058949 266.795025 50.058949 266.795025 \nL 15.068324 266.795025 \nQ 12.068324 266.795025 12.068324 269.795025 \nL 12.068324 279.47315 \nQ 12.068324 282.47315 15.068324 282.47315 \nz\n\" style=\"fill:#ffffff;stroke:#ffffff;stroke-linejoin:miter;\"/>\n    </g>\n    <g clip-path=\"url(#p6bf3d56c5a)\">\n     <!-- 0.0152 -->\n     <g transform=\"translate(15.068324 277.393462)scale(0.1 -0.1)\">\n      <use xlink:href=\"#DejaVuSans-48\"/>\n      <use x=\"63.623047\" xlink:href=\"#DejaVuSans-46\"/>\n      <use x=\"95.410156\" xlink:href=\"#DejaVuSans-48\"/>\n      <use x=\"159.033203\" xlink:href=\"#DejaVuSans-49\"/>\n      <use x=\"222.65625\" xlink:href=\"#DejaVuSans-53\"/>\n      <use x=\"286.279297\" xlink:href=\"#DejaVuSans-50\"/>\n     </g>\n    </g>\n   </g>\n   <g id=\"text_83\">\n    <g id=\"patch_84\">\n     <path clip-path=\"url(#p6bf3d56c5a)\" d=\"M 265.920946 183.383488 \nL 298.094081 169.627281 \nQ 300.852517 168.447862 299.673098 165.689426 \nL 295.868242 156.790596 \nQ 294.688822 154.03216 291.930386 155.211579 \nL 259.757251 168.967786 \nQ 256.998815 170.147206 258.178235 172.905642 \nL 261.983091 181.804472 \nQ 263.16251 184.562908 265.920946 183.383488 \nz\n\" style=\"fill:#ffffff;stroke:#ffffff;stroke-linejoin:miter;\"/>\n    </g>\n    <g clip-path=\"url(#p6bf3d56c5a)\">\n     <!-- 0.0126 -->\n     <g transform=\"translate(263.923919 178.712824)rotate(-23.150008)scale(0.1 -0.1)\">\n      <use xlink:href=\"#DejaVuSans-48\"/>\n      <use x=\"63.623047\" xlink:href=\"#DejaVuSans-46\"/>\n      <use x=\"95.410156\" xlink:href=\"#DejaVuSans-48\"/>\n      <use x=\"159.033203\" xlink:href=\"#DejaVuSans-49\"/>\n      <use x=\"222.65625\" xlink:href=\"#DejaVuSans-50\"/>\n      <use x=\"286.279297\" xlink:href=\"#DejaVuSans-54\"/>\n     </g>\n    </g>\n   </g>\n   <g id=\"text_84\">\n    <g id=\"patch_85\">\n     <path clip-path=\"url(#p6bf3d56c5a)\" d=\"M 269.37991 263.698103 \nL 304.260798 260.929077 \nQ 307.251389 260.691668 307.013981 257.701077 \nL 306.24809 248.053304 \nQ 306.010681 245.062713 303.02009 245.300121 \nL 268.139202 248.069148 \nQ 265.148611 248.306557 265.386019 251.297148 \nL 266.15191 260.944921 \nQ 266.389319 263.935512 269.37991 263.698103 \nz\n\" style=\"fill:#ffffff;stroke:#ffffff;stroke-linejoin:miter;\"/>\n    </g>\n    <g clip-path=\"url(#p6bf3d56c5a)\">\n     <!-- 0.0137 -->\n     <g transform=\"translate(268.977923 258.634347)rotate(-4.538918)scale(0.1 -0.1)\">\n      <use xlink:href=\"#DejaVuSans-48\"/>\n      <use x=\"63.623047\" xlink:href=\"#DejaVuSans-46\"/>\n      <use x=\"95.410156\" xlink:href=\"#DejaVuSans-48\"/>\n      <use x=\"159.033203\" xlink:href=\"#DejaVuSans-49\"/>\n      <use x=\"222.65625\" xlink:href=\"#DejaVuSans-51\"/>\n      <use x=\"286.279297\" xlink:href=\"#DejaVuSans-55\"/>\n     </g>\n    </g>\n   </g>\n   <g id=\"text_85\">\n    <g id=\"patch_86\">\n     <path clip-path=\"url(#p6bf3d56c5a)\" d=\"M 119.601286 306.760771 \nL 153.333501 316.060315 \nQ 156.225608 316.857633 157.022925 313.965525 \nL 159.595104 304.635466 \nQ 160.392422 301.743359 157.500314 300.946042 \nL 123.7681 291.646497 \nQ 120.875992 290.84918 120.078675 293.741287 \nL 117.506496 303.071346 \nQ 116.709178 305.963453 119.601286 306.760771 \nz\n\" style=\"fill:#ffffff;stroke:#ffffff;stroke-linejoin:miter;\"/>\n    </g>\n    <g clip-path=\"url(#p6bf3d56c5a)\">\n     <!-- 0.0173 -->\n     <g transform=\"translate(120.951327 301.86377)rotate(-344.587143)scale(0.1 -0.1)\">\n      <use xlink:href=\"#DejaVuSans-48\"/>\n      <use x=\"63.623047\" xlink:href=\"#DejaVuSans-46\"/>\n      <use x=\"95.410156\" xlink:href=\"#DejaVuSans-48\"/>\n      <use x=\"159.033203\" xlink:href=\"#DejaVuSans-49\"/>\n      <use x=\"222.65625\" xlink:href=\"#DejaVuSans-55\"/>\n      <use x=\"286.279297\" xlink:href=\"#DejaVuSans-51\"/>\n     </g>\n    </g>\n   </g>\n   <g id=\"text_86\">\n    <g id=\"patch_87\">\n     <path clip-path=\"url(#p6bf3d56c5a)\" d=\"M 507.792384 71.800042 \nL 542.783009 71.800042 \nQ 545.783009 71.800042 545.783009 68.800042 \nL 545.783009 59.121917 \nQ 545.783009 56.121917 542.783009 56.121917 \nL 507.792384 56.121917 \nQ 504.792384 56.121917 504.792384 59.121917 \nL 504.792384 68.800042 \nQ 504.792384 71.800042 507.792384 71.800042 \nz\n\" style=\"fill:#ffffff;stroke:#ffffff;stroke-linejoin:miter;\"/>\n    </g>\n    <g clip-path=\"url(#p6bf3d56c5a)\">\n     <!-- 0.0106 -->\n     <g transform=\"translate(507.792384 66.720355)scale(0.1 -0.1)\">\n      <use xlink:href=\"#DejaVuSans-48\"/>\n      <use x=\"63.623047\" xlink:href=\"#DejaVuSans-46\"/>\n      <use x=\"95.410156\" xlink:href=\"#DejaVuSans-48\"/>\n      <use x=\"159.033203\" xlink:href=\"#DejaVuSans-49\"/>\n      <use x=\"222.65625\" xlink:href=\"#DejaVuSans-48\"/>\n      <use x=\"286.279297\" xlink:href=\"#DejaVuSans-54\"/>\n     </g>\n    </g>\n   </g>\n   <g id=\"text_87\">\n    <g id=\"patch_88\">\n     <path clip-path=\"url(#p6bf3d56c5a)\" d=\"M 523.263084 132.397522 \nL 526.239682 167.261309 \nQ 526.494887 170.250435 529.484013 169.995229 \nL 539.127055 169.171926 \nQ 542.116181 168.916721 541.860976 165.927596 \nL 538.884378 131.063808 \nQ 538.629172 128.074683 535.640047 128.329888 \nL 525.997004 129.153191 \nQ 523.007879 129.408396 523.263084 132.397522 \nz\n\" style=\"fill:#ffffff;stroke:#ffffff;stroke-linejoin:miter;\"/>\n    </g>\n    <g clip-path=\"url(#p6bf3d56c5a)\">\n     <!-- 0.0112 -->\n     <g transform=\"translate(528.324358 131.9654)rotate(-274.87996)scale(0.1 -0.1)\">\n      <use xlink:href=\"#DejaVuSans-48\"/>\n      <use x=\"63.623047\" xlink:href=\"#DejaVuSans-46\"/>\n      <use x=\"95.410156\" xlink:href=\"#DejaVuSans-48\"/>\n      <use x=\"159.033203\" xlink:href=\"#DejaVuSans-49\"/>\n      <use x=\"222.65625\" xlink:href=\"#DejaVuSans-49\"/>\n      <use x=\"286.279297\" xlink:href=\"#DejaVuSans-50\"/>\n     </g>\n    </g>\n   </g>\n   <g id=\"text_88\">\n    <g id=\"patch_89\">\n     <path clip-path=\"url(#p6bf3d56c5a)\" d=\"M 380.003866 214.081086 \nL 400.670831 194.270834 \nQ 402.836565 192.194877 400.760608 190.029143 \nL 394.063484 183.042396 \nQ 391.987527 180.876662 389.821794 182.952619 \nL 369.154829 202.762871 \nQ 366.989095 204.838828 369.065052 207.004562 \nL 375.762176 213.991309 \nQ 377.838133 216.157043 380.003866 214.081086 \nz\n\" style=\"fill:#ffffff;stroke:#ffffff;stroke-linejoin:miter;\"/>\n    </g>\n    <g clip-path=\"url(#p6bf3d56c5a)\">\n     <!-- 0.014 -->\n     <g transform=\"translate(376.488795 210.414002)rotate(-43.787498)scale(0.1 -0.1)\">\n      <use xlink:href=\"#DejaVuSans-48\"/>\n      <use x=\"63.623047\" xlink:href=\"#DejaVuSans-46\"/>\n      <use x=\"95.410156\" xlink:href=\"#DejaVuSans-48\"/>\n      <use x=\"159.033203\" xlink:href=\"#DejaVuSans-49\"/>\n      <use x=\"222.65625\" xlink:href=\"#DejaVuSans-52\"/>\n     </g>\n    </g>\n   </g>\n   <g id=\"text_89\">\n    <g id=\"patch_90\">\n     <path clip-path=\"url(#p6bf3d56c5a)\" d=\"M 522.341051 242.2032 \nL 557.331676 242.2032 \nQ 560.331676 242.2032 560.331676 239.2032 \nL 560.331676 229.525075 \nQ 560.331676 226.525075 557.331676 226.525075 \nL 522.341051 226.525075 \nQ 519.341051 226.525075 519.341051 229.525075 \nL 519.341051 239.2032 \nQ 519.341051 242.2032 522.341051 242.2032 \nz\n\" style=\"fill:#ffffff;stroke:#ffffff;stroke-linejoin:miter;\"/>\n    </g>\n    <g clip-path=\"url(#p6bf3d56c5a)\">\n     <!-- 0.0415 -->\n     <g transform=\"translate(522.341051 237.123513)scale(0.1 -0.1)\">\n      <use xlink:href=\"#DejaVuSans-48\"/>\n      <use x=\"63.623047\" xlink:href=\"#DejaVuSans-46\"/>\n      <use x=\"95.410156\" xlink:href=\"#DejaVuSans-48\"/>\n      <use x=\"159.033203\" xlink:href=\"#DejaVuSans-52\"/>\n      <use x=\"222.65625\" xlink:href=\"#DejaVuSans-49\"/>\n      <use x=\"286.279297\" xlink:href=\"#DejaVuSans-53\"/>\n     </g>\n    </g>\n   </g>\n   <g id=\"text_90\">\n    <g id=\"patch_91\">\n     <path clip-path=\"url(#p6bf3d56c5a)\" d=\"M 378.079485 296.699582 \nL 411.265197 285.606685 \nQ 414.110449 284.65561 413.159374 281.810359 \nL 410.091168 272.631458 \nQ 409.140094 269.786206 406.294842 270.737281 \nL 373.10913 281.830178 \nQ 370.263879 282.781252 371.214953 285.626504 \nL 374.283159 294.805405 \nQ 375.234234 297.650656 378.079485 296.699582 \nz\n\" style=\"fill:#ffffff;stroke:#ffffff;stroke-linejoin:miter;\"/>\n    </g>\n    <g clip-path=\"url(#p6bf3d56c5a)\">\n     <!-- 0.0526 -->\n     <g transform=\"translate(376.469098 291.881919)rotate(-18.483094)scale(0.1 -0.1)\">\n      <use xlink:href=\"#DejaVuSans-48\"/>\n      <use x=\"63.623047\" xlink:href=\"#DejaVuSans-46\"/>\n      <use x=\"95.410156\" xlink:href=\"#DejaVuSans-48\"/>\n      <use x=\"159.033203\" xlink:href=\"#DejaVuSans-53\"/>\n      <use x=\"222.65625\" xlink:href=\"#DejaVuSans-50\"/>\n      <use x=\"286.279297\" xlink:href=\"#DejaVuSans-54\"/>\n     </g>\n    </g>\n   </g>\n   <g id=\"text_91\">\n    <g id=\"patch_92\">\n     <path clip-path=\"url(#p6bf3d56c5a)\" d=\"M 227.042651 340.911787 \nL 262.033276 340.911787 \nQ 265.033276 340.911787 265.033276 337.911787 \nL 265.033276 328.233662 \nQ 265.033276 325.233662 262.033276 325.233662 \nL 227.042651 325.233662 \nQ 224.042651 325.233662 224.042651 328.233662 \nL 224.042651 337.911787 \nQ 224.042651 340.911787 227.042651 340.911787 \nz\n\" style=\"fill:#ffffff;stroke:#ffffff;stroke-linejoin:miter;\"/>\n    </g>\n    <g clip-path=\"url(#p6bf3d56c5a)\">\n     <!-- 0.0681 -->\n     <g transform=\"translate(227.042651 335.8321)scale(0.1 -0.1)\">\n      <use xlink:href=\"#DejaVuSans-48\"/>\n      <use x=\"63.623047\" xlink:href=\"#DejaVuSans-46\"/>\n      <use x=\"95.410156\" xlink:href=\"#DejaVuSans-48\"/>\n      <use x=\"159.033203\" xlink:href=\"#DejaVuSans-54\"/>\n      <use x=\"222.65625\" xlink:href=\"#DejaVuSans-56\"/>\n      <use x=\"286.279297\" xlink:href=\"#DejaVuSans-49\"/>\n     </g>\n    </g>\n   </g>\n   <g id=\"PathCollection_1\">\n    <defs>\n     <path d=\"M 0 12.4499 \nC 3.301752 12.4499 6.468717 11.1381 8.803408 8.803408 \nC 11.1381 6.468717 12.4499 3.301752 12.4499 0 \nC 12.4499 -3.301752 11.1381 -6.468717 8.803408 -8.803408 \nC 6.468717 -11.1381 3.301752 -12.4499 0 -12.4499 \nC -3.301752 -12.4499 -6.468717 -11.1381 -8.803408 -8.803408 \nC -11.1381 -6.468717 -12.4499 -3.301752 -12.4499 0 \nC -12.4499 3.301752 -11.1381 6.468717 -8.803408 8.803408 \nC -6.468717 11.1381 -3.301752 12.4499 0 12.4499 \nz\n\" id=\"m9649809760\" style=\"stroke:#5d67d9;\"/>\n    </defs>\n    <g clip-path=\"url(#p6bf3d56c5a)\">\n     <use style=\"fill:#5d67d9;stroke:#5d67d9;\" x=\"412.186484\" xlink:href=\"#m9649809760\" y=\"307.376594\"/>\n     <use style=\"fill:#5d67d9;stroke:#5d67d9;\" x=\"281.793228\" xlink:href=\"#m9649809760\" y=\"44.964929\"/>\n     <use style=\"fill:#5d67d9;stroke:#5d67d9;\" x=\"127.877617\" xlink:href=\"#m9649809760\" y=\"130.242458\"/>\n     <use style=\"fill:#5d67d9;stroke:#5d67d9;\" x=\"321.179702\" xlink:href=\"#m9649809760\" y=\"206.798068\"/>\n     <use style=\"fill:#5d67d9;stroke:#5d67d9;\" x=\"409.039961\" xlink:href=\"#m9649809760\" y=\"189.16533\"/>\n     <use style=\"fill:#5d67d9;stroke:#5d67d9;\" x=\"325.847909\" xlink:href=\"#m9649809760\" y=\"268.247107\"/>\n     <use style=\"fill:#5d67d9;stroke:#5d67d9;\" x=\"532.209993\" xlink:href=\"#m9649809760\" y=\"379.792772\"/>\n     <use style=\"fill:#5d67d9;stroke:#5d67d9;\" x=\"250.551666\" xlink:href=\"#m9649809760\" y=\"440.310384\"/>\n     <use style=\"fill:#5d67d9;stroke:#5d67d9;\" x=\"219.905653\" xlink:href=\"#m9649809760\" y=\"227.572948\"/>\n     <use style=\"fill:#5d67d9;stroke:#5d67d9;\" x=\"32.563636\" xlink:href=\"#m9649809760\" y=\"274.634087\"/>\n     <use style=\"fill:#5d67d9;stroke:#5d67d9;\" x=\"525.287696\" xlink:href=\"#m9649809760\" y=\"63.96098\"/>\n     <use style=\"fill:#5d67d9;stroke:#5d67d9;\" x=\"539.836364\" xlink:href=\"#m9649809760\" y=\"234.364138\"/>\n     <use style=\"fill:#5d67d9;stroke:#5d67d9;\" x=\"244.537964\" xlink:href=\"#m9649809760\" y=\"333.072725\"/>\n    </g>\n   </g>\n   <g id=\"text_92\">\n    <g clip-path=\"url(#p6bf3d56c5a)\">\n     <!-- 0 -->\n     <g transform=\"translate(408.368984 310.687844)scale(0.12 -0.12)\">\n      <use xlink:href=\"#DejaVuSans-48\"/>\n     </g>\n    </g>\n   </g>\n   <g id=\"text_93\">\n    <g clip-path=\"url(#p6bf3d56c5a)\">\n     <!-- 1 -->\n     <g transform=\"translate(277.975728 48.276179)scale(0.12 -0.12)\">\n      <use xlink:href=\"#DejaVuSans-49\"/>\n     </g>\n    </g>\n   </g>\n   <g id=\"text_94\">\n    <g clip-path=\"url(#p6bf3d56c5a)\">\n     <!-- 2 -->\n     <g transform=\"translate(124.060117 133.553708)scale(0.12 -0.12)\">\n      <use xlink:href=\"#DejaVuSans-50\"/>\n     </g>\n    </g>\n   </g>\n   <g id=\"text_95\">\n    <g clip-path=\"url(#p6bf3d56c5a)\">\n     <!-- 3 -->\n     <g transform=\"translate(317.362202 210.109318)scale(0.12 -0.12)\">\n      <use xlink:href=\"#DejaVuSans-51\"/>\n     </g>\n    </g>\n   </g>\n   <g id=\"text_96\">\n    <g clip-path=\"url(#p6bf3d56c5a)\">\n     <!-- 4 -->\n     <g transform=\"translate(405.222461 192.47658)scale(0.12 -0.12)\">\n      <use xlink:href=\"#DejaVuSans-52\"/>\n     </g>\n    </g>\n   </g>\n   <g id=\"text_97\">\n    <g clip-path=\"url(#p6bf3d56c5a)\">\n     <!-- 5 -->\n     <g transform=\"translate(322.030409 271.558357)scale(0.12 -0.12)\">\n      <use xlink:href=\"#DejaVuSans-53\"/>\n     </g>\n    </g>\n   </g>\n   <g id=\"text_98\">\n    <g clip-path=\"url(#p6bf3d56c5a)\">\n     <!-- 6 -->\n     <g transform=\"translate(528.392493 383.104022)scale(0.12 -0.12)\">\n      <use xlink:href=\"#DejaVuSans-54\"/>\n     </g>\n    </g>\n   </g>\n   <g id=\"text_99\">\n    <g clip-path=\"url(#p6bf3d56c5a)\">\n     <!-- 7 -->\n     <g transform=\"translate(246.734166 443.621634)scale(0.12 -0.12)\">\n      <use xlink:href=\"#DejaVuSans-55\"/>\n     </g>\n    </g>\n   </g>\n   <g id=\"text_100\">\n    <g clip-path=\"url(#p6bf3d56c5a)\">\n     <!-- 8 -->\n     <g transform=\"translate(216.088153 230.884198)scale(0.12 -0.12)\">\n      <use xlink:href=\"#DejaVuSans-56\"/>\n     </g>\n    </g>\n   </g>\n   <g id=\"text_101\">\n    <g clip-path=\"url(#p6bf3d56c5a)\">\n     <!-- 9 -->\n     <g transform=\"translate(28.746136 277.945337)scale(0.12 -0.12)\">\n      <use xlink:href=\"#DejaVuSans-57\"/>\n     </g>\n    </g>\n   </g>\n   <g id=\"text_102\">\n    <g clip-path=\"url(#p6bf3d56c5a)\">\n     <!-- 10 -->\n     <g transform=\"translate(517.652696 67.27223)scale(0.12 -0.12)\">\n      <use xlink:href=\"#DejaVuSans-49\"/>\n      <use x=\"63.623047\" xlink:href=\"#DejaVuSans-48\"/>\n     </g>\n    </g>\n   </g>\n   <g id=\"text_103\">\n    <g clip-path=\"url(#p6bf3d56c5a)\">\n     <!-- 11 -->\n     <g transform=\"translate(532.201364 237.675388)scale(0.12 -0.12)\">\n      <use xlink:href=\"#DejaVuSans-49\"/>\n      <use x=\"63.623047\" xlink:href=\"#DejaVuSans-49\"/>\n     </g>\n    </g>\n   </g>\n   <g id=\"text_104\">\n    <g clip-path=\"url(#p6bf3d56c5a)\">\n     <!-- 12 -->\n     <g transform=\"translate(236.902964 336.383975)scale(0.12 -0.12)\">\n      <use xlink:href=\"#DejaVuSans-49\"/>\n      <use x=\"63.623047\" xlink:href=\"#DejaVuSans-50\"/>\n     </g>\n    </g>\n   </g>\n   <g id=\"text_105\">\n    <!-- Gráfica completa entre las 13 colonias -->\n    <g style=\"fill:#262626;\" transform=\"translate(141.639844 19.197656)scale(0.15 -0.15)\">\n     <defs>\n      <path d=\"M 59.515625 10.40625 \nL 59.515625 29.984375 \nL 43.40625 29.984375 \nL 43.40625 38.09375 \nL 69.28125 38.09375 \nL 69.28125 6.78125 \nQ 63.578125 2.734375 56.6875 0.65625 \nQ 49.8125 -1.421875 42 -1.421875 \nQ 24.90625 -1.421875 15.25 8.5625 \nQ 5.609375 18.5625 5.609375 36.375 \nQ 5.609375 54.25 15.25 64.234375 \nQ 24.90625 74.21875 42 74.21875 \nQ 49.125 74.21875 55.546875 72.453125 \nQ 61.96875 70.703125 67.390625 67.28125 \nL 67.390625 56.78125 \nQ 61.921875 61.421875 55.765625 63.765625 \nQ 49.609375 66.109375 42.828125 66.109375 \nQ 29.4375 66.109375 22.71875 58.640625 \nQ 16.015625 51.171875 16.015625 36.375 \nQ 16.015625 21.625 22.71875 14.15625 \nQ 29.4375 6.6875 42.828125 6.6875 \nQ 48.046875 6.6875 52.140625 7.59375 \nQ 56.25 8.5 59.515625 10.40625 \nz\n\" id=\"DejaVuSans-71\"/>\n      <path d=\"M 41.109375 46.296875 \nQ 39.59375 47.171875 37.8125 47.578125 \nQ 36.03125 48 33.890625 48 \nQ 26.265625 48 22.1875 43.046875 \nQ 18.109375 38.09375 18.109375 28.8125 \nL 18.109375 0 \nL 9.078125 0 \nL 9.078125 54.6875 \nL 18.109375 54.6875 \nL 18.109375 46.1875 \nQ 20.953125 51.171875 25.484375 53.578125 \nQ 30.03125 56 36.53125 56 \nQ 37.453125 56 38.578125 55.875 \nQ 39.703125 55.765625 41.0625 55.515625 \nz\n\" id=\"DejaVuSans-114\"/>\n      <path d=\"M 34.28125 27.484375 \nQ 23.390625 27.484375 19.1875 25 \nQ 14.984375 22.515625 14.984375 16.5 \nQ 14.984375 11.71875 18.140625 8.90625 \nQ 21.296875 6.109375 26.703125 6.109375 \nQ 34.1875 6.109375 38.703125 11.40625 \nQ 43.21875 16.703125 43.21875 25.484375 \nL 43.21875 27.484375 \nz\nM 52.203125 31.203125 \nL 52.203125 0 \nL 43.21875 0 \nL 43.21875 8.296875 \nQ 40.140625 3.328125 35.546875 0.953125 \nQ 30.953125 -1.421875 24.3125 -1.421875 \nQ 15.921875 -1.421875 10.953125 3.296875 \nQ 6 8.015625 6 15.921875 \nQ 6 25.140625 12.171875 29.828125 \nQ 18.359375 34.515625 30.609375 34.515625 \nL 43.21875 34.515625 \nL 43.21875 35.40625 \nQ 43.21875 41.609375 39.140625 45 \nQ 35.0625 48.390625 27.6875 48.390625 \nQ 23 48.390625 18.546875 47.265625 \nQ 14.109375 46.140625 10.015625 43.890625 \nL 10.015625 52.203125 \nQ 14.9375 54.109375 19.578125 55.046875 \nQ 24.21875 56 28.609375 56 \nQ 40.484375 56 46.34375 49.84375 \nQ 52.203125 43.703125 52.203125 31.203125 \nz\nM 35.78125 79.984375 \nL 45.5 79.984375 \nL 29.59375 61.625 \nL 22.109375 61.625 \nz\n\" id=\"DejaVuSans-225\"/>\n      <path d=\"M 37.109375 75.984375 \nL 37.109375 68.5 \nL 28.515625 68.5 \nQ 23.6875 68.5 21.796875 66.546875 \nQ 19.921875 64.59375 19.921875 59.515625 \nL 19.921875 54.6875 \nL 34.71875 54.6875 \nL 34.71875 47.703125 \nL 19.921875 47.703125 \nL 19.921875 0 \nL 10.890625 0 \nL 10.890625 47.703125 \nL 2.296875 47.703125 \nL 2.296875 54.6875 \nL 10.890625 54.6875 \nL 10.890625 58.5 \nQ 10.890625 67.625 15.140625 71.796875 \nQ 19.390625 75.984375 28.609375 75.984375 \nz\n\" id=\"DejaVuSans-102\"/>\n      <path d=\"M 9.421875 54.6875 \nL 18.40625 54.6875 \nL 18.40625 0 \nL 9.421875 0 \nz\nM 9.421875 75.984375 \nL 18.40625 75.984375 \nL 18.40625 64.59375 \nL 9.421875 64.59375 \nz\n\" id=\"DejaVuSans-105\"/>\n      <path d=\"M 48.78125 52.59375 \nL 48.78125 44.1875 \nQ 44.96875 46.296875 41.140625 47.34375 \nQ 37.3125 48.390625 33.40625 48.390625 \nQ 24.65625 48.390625 19.8125 42.84375 \nQ 14.984375 37.3125 14.984375 27.296875 \nQ 14.984375 17.28125 19.8125 11.734375 \nQ 24.65625 6.203125 33.40625 6.203125 \nQ 37.3125 6.203125 41.140625 7.25 \nQ 44.96875 8.296875 48.78125 10.40625 \nL 48.78125 2.09375 \nQ 45.015625 0.34375 40.984375 -0.53125 \nQ 36.96875 -1.421875 32.421875 -1.421875 \nQ 20.0625 -1.421875 12.78125 6.34375 \nQ 5.515625 14.109375 5.515625 27.296875 \nQ 5.515625 40.671875 12.859375 48.328125 \nQ 20.21875 56 33.015625 56 \nQ 37.15625 56 41.109375 55.140625 \nQ 45.0625 54.296875 48.78125 52.59375 \nz\n\" id=\"DejaVuSans-99\"/>\n      <path d=\"M 34.28125 27.484375 \nQ 23.390625 27.484375 19.1875 25 \nQ 14.984375 22.515625 14.984375 16.5 \nQ 14.984375 11.71875 18.140625 8.90625 \nQ 21.296875 6.109375 26.703125 6.109375 \nQ 34.1875 6.109375 38.703125 11.40625 \nQ 43.21875 16.703125 43.21875 25.484375 \nL 43.21875 27.484375 \nz\nM 52.203125 31.203125 \nL 52.203125 0 \nL 43.21875 0 \nL 43.21875 8.296875 \nQ 40.140625 3.328125 35.546875 0.953125 \nQ 30.953125 -1.421875 24.3125 -1.421875 \nQ 15.921875 -1.421875 10.953125 3.296875 \nQ 6 8.015625 6 15.921875 \nQ 6 25.140625 12.171875 29.828125 \nQ 18.359375 34.515625 30.609375 34.515625 \nL 43.21875 34.515625 \nL 43.21875 35.40625 \nQ 43.21875 41.609375 39.140625 45 \nQ 35.0625 48.390625 27.6875 48.390625 \nQ 23 48.390625 18.546875 47.265625 \nQ 14.109375 46.140625 10.015625 43.890625 \nL 10.015625 52.203125 \nQ 14.9375 54.109375 19.578125 55.046875 \nQ 24.21875 56 28.609375 56 \nQ 40.484375 56 46.34375 49.84375 \nQ 52.203125 43.703125 52.203125 31.203125 \nz\n\" id=\"DejaVuSans-97\"/>\n      <path id=\"DejaVuSans-32\"/>\n      <path d=\"M 30.609375 48.390625 \nQ 23.390625 48.390625 19.1875 42.75 \nQ 14.984375 37.109375 14.984375 27.296875 \nQ 14.984375 17.484375 19.15625 11.84375 \nQ 23.34375 6.203125 30.609375 6.203125 \nQ 37.796875 6.203125 41.984375 11.859375 \nQ 46.1875 17.53125 46.1875 27.296875 \nQ 46.1875 37.015625 41.984375 42.703125 \nQ 37.796875 48.390625 30.609375 48.390625 \nz\nM 30.609375 56 \nQ 42.328125 56 49.015625 48.375 \nQ 55.71875 40.765625 55.71875 27.296875 \nQ 55.71875 13.875 49.015625 6.21875 \nQ 42.328125 -1.421875 30.609375 -1.421875 \nQ 18.84375 -1.421875 12.171875 6.21875 \nQ 5.515625 13.875 5.515625 27.296875 \nQ 5.515625 40.765625 12.171875 48.375 \nQ 18.84375 56 30.609375 56 \nz\n\" id=\"DejaVuSans-111\"/>\n      <path d=\"M 52 44.1875 \nQ 55.375 50.25 60.0625 53.125 \nQ 64.75 56 71.09375 56 \nQ 79.640625 56 84.28125 50.015625 \nQ 88.921875 44.046875 88.921875 33.015625 \nL 88.921875 0 \nL 79.890625 0 \nL 79.890625 32.71875 \nQ 79.890625 40.578125 77.09375 44.375 \nQ 74.3125 48.1875 68.609375 48.1875 \nQ 61.625 48.1875 57.5625 43.546875 \nQ 53.515625 38.921875 53.515625 30.90625 \nL 53.515625 0 \nL 44.484375 0 \nL 44.484375 32.71875 \nQ 44.484375 40.625 41.703125 44.40625 \nQ 38.921875 48.1875 33.109375 48.1875 \nQ 26.21875 48.1875 22.15625 43.53125 \nQ 18.109375 38.875 18.109375 30.90625 \nL 18.109375 0 \nL 9.078125 0 \nL 9.078125 54.6875 \nL 18.109375 54.6875 \nL 18.109375 46.1875 \nQ 21.1875 51.21875 25.484375 53.609375 \nQ 29.78125 56 35.6875 56 \nQ 41.65625 56 45.828125 52.96875 \nQ 50 49.953125 52 44.1875 \nz\n\" id=\"DejaVuSans-109\"/>\n      <path d=\"M 18.109375 8.203125 \nL 18.109375 -20.796875 \nL 9.078125 -20.796875 \nL 9.078125 54.6875 \nL 18.109375 54.6875 \nL 18.109375 46.390625 \nQ 20.953125 51.265625 25.265625 53.625 \nQ 29.59375 56 35.59375 56 \nQ 45.5625 56 51.78125 48.09375 \nQ 58.015625 40.1875 58.015625 27.296875 \nQ 58.015625 14.40625 51.78125 6.484375 \nQ 45.5625 -1.421875 35.59375 -1.421875 \nQ 29.59375 -1.421875 25.265625 0.953125 \nQ 20.953125 3.328125 18.109375 8.203125 \nz\nM 48.6875 27.296875 \nQ 48.6875 37.203125 44.609375 42.84375 \nQ 40.53125 48.484375 33.40625 48.484375 \nQ 26.265625 48.484375 22.1875 42.84375 \nQ 18.109375 37.203125 18.109375 27.296875 \nQ 18.109375 17.390625 22.1875 11.75 \nQ 26.265625 6.109375 33.40625 6.109375 \nQ 40.53125 6.109375 44.609375 11.75 \nQ 48.6875 17.390625 48.6875 27.296875 \nz\n\" id=\"DejaVuSans-112\"/>\n      <path d=\"M 9.421875 75.984375 \nL 18.40625 75.984375 \nL 18.40625 0 \nL 9.421875 0 \nz\n\" id=\"DejaVuSans-108\"/>\n      <path d=\"M 56.203125 29.59375 \nL 56.203125 25.203125 \nL 14.890625 25.203125 \nQ 15.484375 15.921875 20.484375 11.0625 \nQ 25.484375 6.203125 34.421875 6.203125 \nQ 39.59375 6.203125 44.453125 7.46875 \nQ 49.3125 8.734375 54.109375 11.28125 \nL 54.109375 2.78125 \nQ 49.265625 0.734375 44.1875 -0.34375 \nQ 39.109375 -1.421875 33.890625 -1.421875 \nQ 20.796875 -1.421875 13.15625 6.1875 \nQ 5.515625 13.8125 5.515625 26.8125 \nQ 5.515625 40.234375 12.765625 48.109375 \nQ 20.015625 56 32.328125 56 \nQ 43.359375 56 49.78125 48.890625 \nQ 56.203125 41.796875 56.203125 29.59375 \nz\nM 47.21875 32.234375 \nQ 47.125 39.59375 43.09375 43.984375 \nQ 39.0625 48.390625 32.421875 48.390625 \nQ 24.90625 48.390625 20.390625 44.140625 \nQ 15.875 39.890625 15.1875 32.171875 \nz\n\" id=\"DejaVuSans-101\"/>\n      <path d=\"M 18.3125 70.21875 \nL 18.3125 54.6875 \nL 36.8125 54.6875 \nL 36.8125 47.703125 \nL 18.3125 47.703125 \nL 18.3125 18.015625 \nQ 18.3125 11.328125 20.140625 9.421875 \nQ 21.96875 7.515625 27.59375 7.515625 \nL 36.8125 7.515625 \nL 36.8125 0 \nL 27.59375 0 \nQ 17.1875 0 13.234375 3.875 \nQ 9.28125 7.765625 9.28125 18.015625 \nL 9.28125 47.703125 \nL 2.6875 47.703125 \nL 2.6875 54.6875 \nL 9.28125 54.6875 \nL 9.28125 70.21875 \nz\n\" id=\"DejaVuSans-116\"/>\n      <path d=\"M 54.890625 33.015625 \nL 54.890625 0 \nL 45.90625 0 \nL 45.90625 32.71875 \nQ 45.90625 40.484375 42.875 44.328125 \nQ 39.84375 48.1875 33.796875 48.1875 \nQ 26.515625 48.1875 22.3125 43.546875 \nQ 18.109375 38.921875 18.109375 30.90625 \nL 18.109375 0 \nL 9.078125 0 \nL 9.078125 54.6875 \nL 18.109375 54.6875 \nL 18.109375 46.1875 \nQ 21.34375 51.125 25.703125 53.5625 \nQ 30.078125 56 35.796875 56 \nQ 45.21875 56 50.046875 50.171875 \nQ 54.890625 44.34375 54.890625 33.015625 \nz\n\" id=\"DejaVuSans-110\"/>\n      <path d=\"M 44.28125 53.078125 \nL 44.28125 44.578125 \nQ 40.484375 46.53125 36.375 47.5 \nQ 32.28125 48.484375 27.875 48.484375 \nQ 21.1875 48.484375 17.84375 46.4375 \nQ 14.5 44.390625 14.5 40.28125 \nQ 14.5 37.15625 16.890625 35.375 \nQ 19.28125 33.59375 26.515625 31.984375 \nL 29.59375 31.296875 \nQ 39.15625 29.25 43.1875 25.515625 \nQ 47.21875 21.78125 47.21875 15.09375 \nQ 47.21875 7.46875 41.1875 3.015625 \nQ 35.15625 -1.421875 24.609375 -1.421875 \nQ 20.21875 -1.421875 15.453125 -0.5625 \nQ 10.6875 0.296875 5.421875 2 \nL 5.421875 11.28125 \nQ 10.40625 8.6875 15.234375 7.390625 \nQ 20.0625 6.109375 24.8125 6.109375 \nQ 31.15625 6.109375 34.5625 8.28125 \nQ 37.984375 10.453125 37.984375 14.40625 \nQ 37.984375 18.0625 35.515625 20.015625 \nQ 33.0625 21.96875 24.703125 23.78125 \nL 21.578125 24.515625 \nQ 13.234375 26.265625 9.515625 29.90625 \nQ 5.8125 33.546875 5.8125 39.890625 \nQ 5.8125 47.609375 11.28125 51.796875 \nQ 16.75 56 26.8125 56 \nQ 31.78125 56 36.171875 55.265625 \nQ 40.578125 54.546875 44.28125 53.078125 \nz\n\" id=\"DejaVuSans-115\"/>\n     </defs>\n     <use xlink:href=\"#DejaVuSans-71\"/>\n     <use x=\"77.490234\" xlink:href=\"#DejaVuSans-114\"/>\n     <use x=\"118.603516\" xlink:href=\"#DejaVuSans-225\"/>\n     <use x=\"179.882812\" xlink:href=\"#DejaVuSans-102\"/>\n     <use x=\"215.087891\" xlink:href=\"#DejaVuSans-105\"/>\n     <use x=\"242.871094\" xlink:href=\"#DejaVuSans-99\"/>\n     <use x=\"297.851562\" xlink:href=\"#DejaVuSans-97\"/>\n     <use x=\"359.130859\" xlink:href=\"#DejaVuSans-32\"/>\n     <use x=\"390.917969\" xlink:href=\"#DejaVuSans-99\"/>\n     <use x=\"445.898438\" xlink:href=\"#DejaVuSans-111\"/>\n     <use x=\"507.080078\" xlink:href=\"#DejaVuSans-109\"/>\n     <use x=\"604.492188\" xlink:href=\"#DejaVuSans-112\"/>\n     <use x=\"667.96875\" xlink:href=\"#DejaVuSans-108\"/>\n     <use x=\"695.751953\" xlink:href=\"#DejaVuSans-101\"/>\n     <use x=\"757.275391\" xlink:href=\"#DejaVuSans-116\"/>\n     <use x=\"796.484375\" xlink:href=\"#DejaVuSans-97\"/>\n     <use x=\"857.763672\" xlink:href=\"#DejaVuSans-32\"/>\n     <use x=\"889.550781\" xlink:href=\"#DejaVuSans-101\"/>\n     <use x=\"951.074219\" xlink:href=\"#DejaVuSans-110\"/>\n     <use x=\"1014.453125\" xlink:href=\"#DejaVuSans-116\"/>\n     <use x=\"1053.662109\" xlink:href=\"#DejaVuSans-114\"/>\n     <use x=\"1092.525391\" xlink:href=\"#DejaVuSans-101\"/>\n     <use x=\"1154.048828\" xlink:href=\"#DejaVuSans-32\"/>\n     <use x=\"1185.835938\" xlink:href=\"#DejaVuSans-108\"/>\n     <use x=\"1213.619141\" xlink:href=\"#DejaVuSans-97\"/>\n     <use x=\"1274.898438\" xlink:href=\"#DejaVuSans-115\"/>\n     <use x=\"1326.998047\" xlink:href=\"#DejaVuSans-32\"/>\n     <use x=\"1358.785156\" xlink:href=\"#DejaVuSans-49\"/>\n     <use x=\"1422.408203\" xlink:href=\"#DejaVuSans-51\"/>\n     <use x=\"1486.03125\" xlink:href=\"#DejaVuSans-32\"/>\n     <use x=\"1517.818359\" xlink:href=\"#DejaVuSans-99\"/>\n     <use x=\"1572.798828\" xlink:href=\"#DejaVuSans-111\"/>\n     <use x=\"1633.980469\" xlink:href=\"#DejaVuSans-108\"/>\n     <use x=\"1661.763672\" xlink:href=\"#DejaVuSans-111\"/>\n     <use x=\"1722.945312\" xlink:href=\"#DejaVuSans-110\"/>\n     <use x=\"1786.324219\" xlink:href=\"#DejaVuSans-105\"/>\n     <use x=\"1814.107422\" xlink:href=\"#DejaVuSans-97\"/>\n     <use x=\"1875.386719\" xlink:href=\"#DejaVuSans-115\"/>\n    </g>\n   </g>\n  </g>\n </g>\n <defs>\n  <clipPath id=\"p6bf3d56c5a\">\n   <rect height=\"434.88\" width=\"558\" x=\"7.2\" y=\"25.197656\"/>\n  </clipPath>\n </defs>\n</svg>\n",
      "image/png": "[encoded data removed]"
     },
     "metadata": {}
    }
   ],
   "source": [
    "plt.figure(figsize=(10,8))\n",
    "ax = plt.gca()\n",
    "ax.set_title(\"Gráfica completa entre las 13 colonias\", fontsize=15, color=\"#262626\")\n",
    "pos = nx.spring_layout(A)\n",
    "nx.draw(A, pos=pos, with_labels=True, node_color=\"#5d67d9\", ax=ax, node_size=620)\n",
    "labels = nx.get_edge_attributes(A,'weight')\n",
    "nx.draw_networkx_edge_labels(A,pos,edge_labels=labels)\n",
    "plt.show()"
   ]
  },
  {
   "source": [
    "## Encontrando el árbol de peso mínimo"
   ],
   "cell_type": "markdown",
   "metadata": {}
  },
  {
   "cell_type": "code",
   "execution_count": 26,
   "metadata": {},
   "outputs": [],
   "source": [
    "GRAPH_NODES = len(colonias_agrupacion)\n",
    "edges_to_add = []\n",
    "def Prim(G, start_vertex):\n",
    "  intree = [False]*GRAPH_NODES\n",
    "  distance = [10e12]*GRAPH_NODES\n",
    "  parent = [-1]*GRAPH_NODES\n",
    "  weight_labels = nx.get_edge_attributes(G,'weight') #diccionario con la arista como llave y peso como valor\n",
    "  v = w = None\n",
    "  weight = 0\n",
    "  distance[start_vertex] = 0\n",
    "  v = start_vertex\n",
    "  while not intree[v]:\n",
    "    intree[v] = True\n",
    "    if v != start_vertex:\n",
    "      print(f'\\t Arista ({parent[v]},{v}) en el APM')\n",
    "      edges_to_add.append((parent[v], v))\n",
    "      weight += dist\n",
    "    p = list(G.edges(v))\n",
    "    while p:\n",
    "      w = p[0][1]\n",
    "      if p[0] in weight_labels:\n",
    "        weight_p = weight_labels[p[0]]\n",
    "      else:\n",
    "        weight_p = weight_labels[(p[0][1], p[0][0])]\n",
    "      if (distance[w] > weight_p) and (not intree[w]):\n",
    "        distance[w] = weight_p\n",
    "        parent[w] = v \n",
    "      p = p[1:]\n",
    "    dist = 10e12\n",
    "    for i in range(G.number_of_nodes()):\n",
    "      if (not intree[i]) and (dist > distance[i]):\n",
    "        dist = distance[i]\n",
    "        v = i\n",
    "  return weight"
   ]
  },
  {
   "cell_type": "code",
   "execution_count": 27,
   "metadata": {},
   "outputs": [
    {
     "output_type": "stream",
     "name": "stdout",
     "text": [
      "\t Arista (1,11) en el APM\n\t Arista (11,10) en el APM\n\t Arista (10,7) en el APM\n\t Arista (10,9) en el APM\n\t Arista (10,6) en el APM\n\t Arista (10,12) en el APM\n\t Arista (10,2) en el APM\n\t Arista (10,0) en el APM\n\t Arista (10,4) en el APM\n\t Arista (10,8) en el APM\n\t Arista (10,5) en el APM\n\t Arista (10,3) en el APM\n0.2172\n[(1, 11), (11, 10), (10, 7), (10, 9), (10, 6), (10, 12), (10, 2), (10, 0), (10, 4), (10, 8), (10, 5), (10, 3)]\n"
     ]
    }
   ],
   "source": [
    "weight = Prim(A, 1)\n",
    "print(weight)\n",
    "print(edges_to_add)"
   ]
  },
  {
   "cell_type": "code",
   "execution_count": 28,
   "metadata": {},
   "outputs": [
    {
     "output_type": "execute_result",
     "data": {
      "text/plain": [
       "{'jaime torres bodet': 1,\n",
       " 'el rosario': 2,\n",
       " 'tezozomoc': 3,\n",
       " 'doctores': 4,\n",
       " 'olivar del conde 1a seccin': 5,\n",
       " 'campamento 2 de octubre': 6,\n",
       " 'popotla': 7,\n",
       " 'tlaxpana': 8,\n",
       " 'escandon': 9,\n",
       " 'san martin xochinahuac': 10,\n",
       " 'san juan tlihuaca': 11,\n",
       " 'xaltocan': 12,\n",
       " 'santa maria nativitas': 13}"
      ]
     },
     "metadata": {},
     "execution_count": 28
    }
   ],
   "source": [
    "colonias_dict"
   ]
  },
  {
   "cell_type": "code",
   "execution_count": null,
   "metadata": {},
   "outputs": [],
   "source": []
  }
 ]
}