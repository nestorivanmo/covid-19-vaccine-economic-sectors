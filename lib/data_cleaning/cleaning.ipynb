{
 "metadata": {
  "language_info": {
   "codemirror_mode": {
    "name": "ipython",
    "version": 3
   },
   "file_extension": ".py",
   "mimetype": "text/x-python",
   "name": "python",
   "nbconvert_exporter": "python",
   "pygments_lexer": "ipython3",
   "version": "3.8.5-final"
  },
  "orig_nbformat": 2,
  "kernelspec": {
   "name": "python3",
   "display_name": "Python 3",
   "language": "python"
  }
 },
 "nbformat": 4,
 "nbformat_minor": 2,
 "cells": [
  {
   "source": [
    "# Limpieza de Datos "
   ],
   "cell_type": "markdown",
   "metadata": {}
  },
  {
   "cell_type": "code",
   "execution_count": 280,
   "metadata": {},
   "outputs": [],
   "source": [
    "import pandas as pd\n",
    "import numpy as np\n",
    "from urllib.request import urlopen\n",
    "import json\n",
    "data_path = '../../data/'"
   ]
  },
  {
   "source": [
    "# Índice de complejidad económica por alcaldía\n",
    "Extrar el índice de complejidad económica por cada alcaldía de la Ciudad de México. El ECI por alcaldía se obtuvo de https://datamexico.org"
   ],
   "cell_type": "markdown",
   "metadata": {}
  },
  {
   "source": [
    "## Lista de alcaldías de la CDMX"
   ],
   "cell_type": "markdown",
   "metadata": {}
  },
  {
   "cell_type": "code",
   "execution_count": 281,
   "metadata": {},
   "outputs": [
    {
     "output_type": "stream",
     "name": "stdout",
     "text": [
      "['Álvaro Obregón', 'Azcapotzalco', 'Benito Juárez', 'Coyoacán', 'Cuajimalpa de Morelos', 'Cuauhtémoc', 'Gustavo A. Madero', 'Iztacalco', 'Iztapalapa', 'La Magdalena Contreras', 'Miguel Hidalgo', 'Milpa Alta', 'Tláhuac', 'Tlalpan', 'Venustiano Carranza', 'Xochimilco']\n"
     ]
    }
   ],
   "source": [
    "alc_df = pd.read_csv(data_path + 'alcaldias_cdmx.csv')\n",
    "alc_df.loc[4] = 'Cuajimalpa de Morelos'\n",
    "alc_df.loc[9] = 'La Magdalena Contreras'\n",
    "alcaldias = list(alc_df.alcaldia)\n",
    "print(alcaldias)"
   ]
  },
  {
   "source": [
    "## Obteniendo los ECI por municipio\n",
    "El dataframe ```municipios_eci_df``` contiene los índices de complejidad económica con un nivel geográfico de municipio y un nivel industrial basado en el SCIAN para el año 2020 y bajo un indicador de empleados."
   ],
   "cell_type": "markdown",
   "metadata": {}
  },
  {
   "cell_type": "code",
   "execution_count": 282,
   "metadata": {},
   "outputs": [],
   "source": [
    "eci_url = \"https://datamexico.org/api/stats/eci?cube=inegi_denue&Month=20200417,20191114,20190410&rca=Municipality,NAICS%20Industry,Number%20of%20Employees%20Midpoint&threshold=NAICS%20Industry:900,Municipality:900&debug=true&locale=es\"\n",
    "municipios_eci_df = pd.read_json(eci_url)\n",
    "municipios_eci_df = pd.DataFrame(municipios_eci_df.data.values.tolist())"
   ]
  },
  {
   "cell_type": "code",
   "execution_count": 283,
   "metadata": {},
   "outputs": [
    {
     "output_type": "execute_result",
     "data": {
      "text/plain": [
       "        ECI       municipio\n",
       "0  3.049991  Aguascalientes\n",
       "1 -0.361775        Asientos\n",
       "2  0.342401        Calvillo\n",
       "3 -0.513439           Cosío\n",
       "4  3.094544     Jesús María"
      ],
      "text/html": "<div>\n<style scoped>\n    .dataframe tbody tr th:only-of-type {\n        vertical-align: middle;\n    }\n\n    .dataframe tbody tr th {\n        vertical-align: top;\n    }\n\n    .dataframe thead th {\n        text-align: right;\n    }\n</style>\n<table border=\"1\" class=\"dataframe\">\n  <thead>\n    <tr style=\"text-align: right;\">\n      <th></th>\n      <th>ECI</th>\n      <th>municipio</th>\n    </tr>\n  </thead>\n  <tbody>\n    <tr>\n      <th>0</th>\n      <td>3.049991</td>\n      <td>Aguascalientes</td>\n    </tr>\n    <tr>\n      <th>1</th>\n      <td>-0.361775</td>\n      <td>Asientos</td>\n    </tr>\n    <tr>\n      <th>2</th>\n      <td>0.342401</td>\n      <td>Calvillo</td>\n    </tr>\n    <tr>\n      <th>3</th>\n      <td>-0.513439</td>\n      <td>Cosío</td>\n    </tr>\n    <tr>\n      <th>4</th>\n      <td>3.094544</td>\n      <td>Jesús María</td>\n    </tr>\n  </tbody>\n</table>\n</div>"
     },
     "metadata": {},
     "execution_count": 283
    }
   ],
   "source": [
    "municipios_eci_df.rename(columns={'Municipality ID': 'municipio_id', 'Number of Employees Midpoint ECI':'ECI', 'Municipality':'municipio'}, inplace=True)\n",
    "del municipios_eci_df['municipio_id']\n",
    "municipios_eci_df.head()"
   ]
  },
  {
   "source": [
    "## Filtrando por alcaldías de la CDMX "
   ],
   "cell_type": "markdown",
   "metadata": {}
  },
  {
   "cell_type": "code",
   "execution_count": 284,
   "metadata": {},
   "outputs": [],
   "source": [
    "alcaldias_eci_df = municipios_eci_df[municipios_eci_df.municipio.isin(alcaldias)]"
   ]
  },
  {
   "cell_type": "code",
   "execution_count": 285,
   "metadata": {},
   "outputs": [],
   "source": [
    "alcaldias_dict = dict()\n",
    "for _, row in alcaldias_eci_df.iterrows():\n",
    "    municipio = row.municipio\n",
    "    eci = row.ECI\n",
    "    if municipio not in alcaldias_dict:\n",
    "        alcaldias_dict[municipio] = [-10e2]\n",
    "    alcaldias_dict[municipio] = [max(eci, alcaldias_dict[municipio][0])]\n",
    "\n",
    "alcaldias_names = alcaldias_dict.keys()\n",
    "eci_values = []\n",
    "for alcaldia in alcaldias_names:\n",
    "    eci_values.append(alcaldias_dict[alcaldia][0])"
   ]
  },
  {
   "cell_type": "code",
   "execution_count": 286,
   "metadata": {},
   "outputs": [
    {
     "output_type": "execute_result",
     "data": {
      "text/plain": [
       "                  alcaldia       eci\n",
       "0               Cuauhtemoc  3.471986\n",
       "1      Venustiano Carranza  2.501312\n",
       "2             Azcapotzalco  3.865509\n",
       "3                 Coyoacan  2.800526\n",
       "4    Cuajimalpa de Morelos  3.854617\n",
       "5        Gustavo A. Madero  2.680508\n",
       "6                Iztacalco  2.944861\n",
       "7               Iztapalapa  2.629184\n",
       "8   La Magdalena Contreras  1.623270\n",
       "9               Milpa Alta  0.343307\n",
       "10          Alvaro Obregon  3.818013\n",
       "11                 Tlahuac  1.632037\n",
       "12                 Tlalpan  2.426480\n",
       "13              Xochimilco  1.213572\n",
       "14           Benito Juarez  3.778215\n",
       "15          Miguel Hidalgo  4.152792"
      ],
      "text/html": "<div>\n<style scoped>\n    .dataframe tbody tr th:only-of-type {\n        vertical-align: middle;\n    }\n\n    .dataframe tbody tr th {\n        vertical-align: top;\n    }\n\n    .dataframe thead th {\n        text-align: right;\n    }\n</style>\n<table border=\"1\" class=\"dataframe\">\n  <thead>\n    <tr style=\"text-align: right;\">\n      <th></th>\n      <th>alcaldia</th>\n      <th>eci</th>\n    </tr>\n  </thead>\n  <tbody>\n    <tr>\n      <th>0</th>\n      <td>Cuauhtemoc</td>\n      <td>3.471986</td>\n    </tr>\n    <tr>\n      <th>1</th>\n      <td>Venustiano Carranza</td>\n      <td>2.501312</td>\n    </tr>\n    <tr>\n      <th>2</th>\n      <td>Azcapotzalco</td>\n      <td>3.865509</td>\n    </tr>\n    <tr>\n      <th>3</th>\n      <td>Coyoacan</td>\n      <td>2.800526</td>\n    </tr>\n    <tr>\n      <th>4</th>\n      <td>Cuajimalpa de Morelos</td>\n      <td>3.854617</td>\n    </tr>\n    <tr>\n      <th>5</th>\n      <td>Gustavo A. Madero</td>\n      <td>2.680508</td>\n    </tr>\n    <tr>\n      <th>6</th>\n      <td>Iztacalco</td>\n      <td>2.944861</td>\n    </tr>\n    <tr>\n      <th>7</th>\n      <td>Iztapalapa</td>\n      <td>2.629184</td>\n    </tr>\n    <tr>\n      <th>8</th>\n      <td>La Magdalena Contreras</td>\n      <td>1.623270</td>\n    </tr>\n    <tr>\n      <th>9</th>\n      <td>Milpa Alta</td>\n      <td>0.343307</td>\n    </tr>\n    <tr>\n      <th>10</th>\n      <td>Alvaro Obregon</td>\n      <td>3.818013</td>\n    </tr>\n    <tr>\n      <th>11</th>\n      <td>Tlahuac</td>\n      <td>1.632037</td>\n    </tr>\n    <tr>\n      <th>12</th>\n      <td>Tlalpan</td>\n      <td>2.426480</td>\n    </tr>\n    <tr>\n      <th>13</th>\n      <td>Xochimilco</td>\n      <td>1.213572</td>\n    </tr>\n    <tr>\n      <th>14</th>\n      <td>Benito Juarez</td>\n      <td>3.778215</td>\n    </tr>\n    <tr>\n      <th>15</th>\n      <td>Miguel Hidalgo</td>\n      <td>4.152792</td>\n    </tr>\n  </tbody>\n</table>\n</div>"
     },
     "metadata": {},
     "execution_count": 286
    }
   ],
   "source": [
    "alcaldias_eci_clean_df = pd.DataFrame(data={'alcaldia': alcaldias_names, 'eci': eci_values})\n",
    "alcaldias_eci_clean_df.loc[0, 'alcaldia'] = 'Cuauhtemoc'\n",
    "alcaldias_eci_clean_df.loc[3, 'alcaldia'] = 'Coyoacan'\n",
    "alcaldias_eci_clean_df.loc[10, 'alcaldia'] = 'Alvaro Obregon'\n",
    "alcaldias_eci_clean_df.loc[11, 'alcaldia'] = 'Tlahuac'\n",
    "alcaldias_eci_clean_df.loc[14, 'alcaldia'] = 'Benito Juarez'\n",
    "alcaldias_eci_clean_df"
   ]
  },
  {
   "cell_type": "code",
   "execution_count": 287,
   "metadata": {},
   "outputs": [
    {
     "output_type": "execute_result",
     "data": {
      "text/plain": [
       "                  alcaldia       eci\n",
       "0               cuauhtemoc  3.471986\n",
       "1      venustiano carranza  2.501312\n",
       "2             azcapotzalco  3.865509\n",
       "3                 coyoacan  2.800526\n",
       "4    cuajimalpa de morelos  3.854617\n",
       "5        gustavo a. madero  2.680508\n",
       "6                iztacalco  2.944861\n",
       "7               iztapalapa  2.629184\n",
       "8   la magdalena contreras  1.623270\n",
       "9               milpa alta  0.343307\n",
       "10          alvaro obregon  3.818013\n",
       "11                 tlahuac  1.632037\n",
       "12                 tlalpan  2.426480\n",
       "13              xochimilco  1.213572\n",
       "14           benito juarez  3.778215\n",
       "15          miguel hidalgo  4.152792"
      ],
      "text/html": "<div>\n<style scoped>\n    .dataframe tbody tr th:only-of-type {\n        vertical-align: middle;\n    }\n\n    .dataframe tbody tr th {\n        vertical-align: top;\n    }\n\n    .dataframe thead th {\n        text-align: right;\n    }\n</style>\n<table border=\"1\" class=\"dataframe\">\n  <thead>\n    <tr style=\"text-align: right;\">\n      <th></th>\n      <th>alcaldia</th>\n      <th>eci</th>\n    </tr>\n  </thead>\n  <tbody>\n    <tr>\n      <th>0</th>\n      <td>cuauhtemoc</td>\n      <td>3.471986</td>\n    </tr>\n    <tr>\n      <th>1</th>\n      <td>venustiano carranza</td>\n      <td>2.501312</td>\n    </tr>\n    <tr>\n      <th>2</th>\n      <td>azcapotzalco</td>\n      <td>3.865509</td>\n    </tr>\n    <tr>\n      <th>3</th>\n      <td>coyoacan</td>\n      <td>2.800526</td>\n    </tr>\n    <tr>\n      <th>4</th>\n      <td>cuajimalpa de morelos</td>\n      <td>3.854617</td>\n    </tr>\n    <tr>\n      <th>5</th>\n      <td>gustavo a. madero</td>\n      <td>2.680508</td>\n    </tr>\n    <tr>\n      <th>6</th>\n      <td>iztacalco</td>\n      <td>2.944861</td>\n    </tr>\n    <tr>\n      <th>7</th>\n      <td>iztapalapa</td>\n      <td>2.629184</td>\n    </tr>\n    <tr>\n      <th>8</th>\n      <td>la magdalena contreras</td>\n      <td>1.623270</td>\n    </tr>\n    <tr>\n      <th>9</th>\n      <td>milpa alta</td>\n      <td>0.343307</td>\n    </tr>\n    <tr>\n      <th>10</th>\n      <td>alvaro obregon</td>\n      <td>3.818013</td>\n    </tr>\n    <tr>\n      <th>11</th>\n      <td>tlahuac</td>\n      <td>1.632037</td>\n    </tr>\n    <tr>\n      <th>12</th>\n      <td>tlalpan</td>\n      <td>2.426480</td>\n    </tr>\n    <tr>\n      <th>13</th>\n      <td>xochimilco</td>\n      <td>1.213572</td>\n    </tr>\n    <tr>\n      <th>14</th>\n      <td>benito juarez</td>\n      <td>3.778215</td>\n    </tr>\n    <tr>\n      <th>15</th>\n      <td>miguel hidalgo</td>\n      <td>4.152792</td>\n    </tr>\n  </tbody>\n</table>\n</div>"
     },
     "metadata": {},
     "execution_count": 287
    }
   ],
   "source": [
    "alcaldias_eci_clean_df.alcaldia = alcaldias_eci_clean_df.alcaldia.str.lower()\n",
    "alcaldias_eci_clean_df"
   ]
  },
  {
   "cell_type": "code",
   "execution_count": 288,
   "metadata": {},
   "outputs": [],
   "source": [
    "alcaldias_eci_clean_df.to_csv(data_path + 'alcaldias_eci.csv', index=False)"
   ]
  },
  {
   "source": [
    "# Colonias prioritarias CDMX\n",
    "\n",
    "El archivo ```colonias_prioritarias.csv``` contiene una lista de las 200 colonias de la Ciudad de México con mayor prioridad de atención médica según el gobierno de la ciudad. Este archivo fue extraido de: https://datos.cdmx.gob.mx/dataset/colonias-de-atencion-prioritaria-covid-kioscos"
   ],
   "cell_type": "markdown",
   "metadata": {}
  },
  {
   "cell_type": "code",
   "execution_count": 289,
   "metadata": {},
   "outputs": [],
   "source": [
    "colonias_df = pd.read_csv(data_path + 'colonias_prioritarias.csv')\n",
    "colonias_df.columns = colonias_df.columns.str.lower()\n",
    "colonias_df.columns = colonias_df.columns.str.replace(' ', '_')\n",
    "colonias_df.drop(columns=['tasa_activos_(100mil_habitantes)','geo_shape', 'clave_colonia', 'centroide_colonia'], inplace=True)\n",
    "colonias_df.rename(columns={'alcaldía': 'alcaldia', 'población_total':'poblacion_total'}, inplace=True)\n",
    "colonias_df.colonia = colonias_df.colonia.str.lower()\n",
    "colonias_df.alcaldia = colonias_df.alcaldia.str.lower()\n",
    "colonias_df.porcentaje_activos = colonias_df.porcentaje_activos*100"
   ]
  },
  {
   "cell_type": "code",
   "execution_count": 290,
   "metadata": {},
   "outputs": [
    {
     "output_type": "execute_result",
     "data": {
      "text/plain": [
       "         alcaldia                          colonia  casos_activos  \\\n",
       "0  alvaro obregon                     barrio norte             57   \n",
       "1  alvaro obregon                jalalpa el grande             47   \n",
       "2  alvaro obregon            jardines del pedregal             39   \n",
       "3  alvaro obregon                     merced gomez             48   \n",
       "4  alvaro obregon  olivar del conde 2da seccion ii             37   \n",
       "\n",
       "   poblacion_total  porcentaje_activos  \n",
       "0     14367.414210              0.2562  \n",
       "1     10972.245610              0.2112  \n",
       "2     13817.000000              0.1753  \n",
       "3      6992.834615              0.2157  \n",
       "4      8191.441839              0.1663  "
      ],
      "text/html": "<div>\n<style scoped>\n    .dataframe tbody tr th:only-of-type {\n        vertical-align: middle;\n    }\n\n    .dataframe tbody tr th {\n        vertical-align: top;\n    }\n\n    .dataframe thead th {\n        text-align: right;\n    }\n</style>\n<table border=\"1\" class=\"dataframe\">\n  <thead>\n    <tr style=\"text-align: right;\">\n      <th></th>\n      <th>alcaldia</th>\n      <th>colonia</th>\n      <th>casos_activos</th>\n      <th>poblacion_total</th>\n      <th>porcentaje_activos</th>\n    </tr>\n  </thead>\n  <tbody>\n    <tr>\n      <th>0</th>\n      <td>alvaro obregon</td>\n      <td>barrio norte</td>\n      <td>57</td>\n      <td>14367.414210</td>\n      <td>0.2562</td>\n    </tr>\n    <tr>\n      <th>1</th>\n      <td>alvaro obregon</td>\n      <td>jalalpa el grande</td>\n      <td>47</td>\n      <td>10972.245610</td>\n      <td>0.2112</td>\n    </tr>\n    <tr>\n      <th>2</th>\n      <td>alvaro obregon</td>\n      <td>jardines del pedregal</td>\n      <td>39</td>\n      <td>13817.000000</td>\n      <td>0.1753</td>\n    </tr>\n    <tr>\n      <th>3</th>\n      <td>alvaro obregon</td>\n      <td>merced gomez</td>\n      <td>48</td>\n      <td>6992.834615</td>\n      <td>0.2157</td>\n    </tr>\n    <tr>\n      <th>4</th>\n      <td>alvaro obregon</td>\n      <td>olivar del conde 2da seccion ii</td>\n      <td>37</td>\n      <td>8191.441839</td>\n      <td>0.1663</td>\n    </tr>\n  </tbody>\n</table>\n</div>"
     },
     "metadata": {},
     "execution_count": 290
    }
   ],
   "source": [
    "colonias_df.head()"
   ]
  },
  {
   "source": [
    "### Identificación y corrección de valores nulos"
   ],
   "cell_type": "markdown",
   "metadata": {}
  },
  {
   "cell_type": "code",
   "execution_count": 291,
   "metadata": {},
   "outputs": [
    {
     "output_type": "execute_result",
     "data": {
      "text/plain": [
       "alcaldia              0\n",
       "colonia               0\n",
       "casos_activos         0\n",
       "poblacion_total       2\n",
       "porcentaje_activos    0\n",
       "dtype: int64"
      ]
     },
     "metadata": {},
     "execution_count": 291
    }
   ],
   "source": [
    "colonias_df.isna().sum()"
   ]
  },
  {
   "cell_type": "code",
   "execution_count": 292,
   "metadata": {},
   "outputs": [
    {
     "output_type": "execute_result",
     "data": {
      "text/plain": [
       "    alcaldia         colonia  casos_activos  poblacion_total  \\\n",
       "47   tlahuac   la conchita i             22              NaN   \n",
       "111  tlahuac  la conchita ii            102              NaN   \n",
       "\n",
       "     porcentaje_activos  \n",
       "47               0.0989  \n",
       "111              0.4584  "
      ],
      "text/html": "<div>\n<style scoped>\n    .dataframe tbody tr th:only-of-type {\n        vertical-align: middle;\n    }\n\n    .dataframe tbody tr th {\n        vertical-align: top;\n    }\n\n    .dataframe thead th {\n        text-align: right;\n    }\n</style>\n<table border=\"1\" class=\"dataframe\">\n  <thead>\n    <tr style=\"text-align: right;\">\n      <th></th>\n      <th>alcaldia</th>\n      <th>colonia</th>\n      <th>casos_activos</th>\n      <th>poblacion_total</th>\n      <th>porcentaje_activos</th>\n    </tr>\n  </thead>\n  <tbody>\n    <tr>\n      <th>47</th>\n      <td>tlahuac</td>\n      <td>la conchita i</td>\n      <td>22</td>\n      <td>NaN</td>\n      <td>0.0989</td>\n    </tr>\n    <tr>\n      <th>111</th>\n      <td>tlahuac</td>\n      <td>la conchita ii</td>\n      <td>102</td>\n      <td>NaN</td>\n      <td>0.4584</td>\n    </tr>\n  </tbody>\n</table>\n</div>"
     },
     "metadata": {},
     "execution_count": 292
    }
   ],
   "source": [
    "colonias_df[colonias_df.poblacion_total.isna()]"
   ]
  },
  {
   "cell_type": "code",
   "execution_count": 293,
   "metadata": {},
   "outputs": [],
   "source": [
    "colonias_df.loc[47, 'poblacion_total'] = (colonias_df.loc[47].casos_activos * 100) / colonias_df.loc[47].porcentaje_activos\n",
    "colonias_df.loc[111, 'poblacion_total'] = (colonias_df.loc[111].casos_activos * 100) / colonias_df.loc[111].porcentaje_activos"
   ]
  },
  {
   "cell_type": "code",
   "execution_count": 294,
   "metadata": {},
   "outputs": [
    {
     "output_type": "execute_result",
     "data": {
      "text/plain": [
       "alcaldia              0\n",
       "colonia               0\n",
       "casos_activos         0\n",
       "poblacion_total       0\n",
       "porcentaje_activos    0\n",
       "dtype: int64"
      ]
     },
     "metadata": {},
     "execution_count": 294
    }
   ],
   "source": [
    "colonias_df.isna().sum()"
   ]
  },
  {
   "source": [
    "## Agregar código postal a las colonias"
   ],
   "cell_type": "markdown",
   "metadata": {}
  },
  {
   "cell_type": "code",
   "execution_count": 295,
   "metadata": {},
   "outputs": [
    {
     "output_type": "execute_result",
     "data": {
      "text/plain": [
       "['morelos ii', 'miguel hidalgo']"
      ]
     },
     "metadata": {},
     "execution_count": 295
    }
   ],
   "source": [
    "seen = set()\n",
    "repeated = []\n",
    "for col in list(colonias_df.colonia):\n",
    "    if col in seen:\n",
    "        repeated.append(col)\n",
    "        continue\n",
    "    seen.add(col)\n",
    "repeated"
   ]
  },
  {
   "cell_type": "code",
   "execution_count": 296,
   "metadata": {},
   "outputs": [
    {
     "output_type": "execute_result",
     "data": {
      "text/plain": [
       "                alcaldia         colonia  casos_activos  poblacion_total  \\\n",
       "54               tlalpan  miguel hidalgo             65      13276.78689   \n",
       "63   venustiano carranza      morelos ii             38      17867.00000   \n",
       "158           cuauhtemoc      morelos ii             18      12171.00000   \n",
       "182              tlahuac  miguel hidalgo             43      13122.58258   \n",
       "\n",
       "     porcentaje_activos  \n",
       "54               0.2921  \n",
       "63               0.1708  \n",
       "158              0.0809  \n",
       "182              0.1933  "
      ],
      "text/html": "<div>\n<style scoped>\n    .dataframe tbody tr th:only-of-type {\n        vertical-align: middle;\n    }\n\n    .dataframe tbody tr th {\n        vertical-align: top;\n    }\n\n    .dataframe thead th {\n        text-align: right;\n    }\n</style>\n<table border=\"1\" class=\"dataframe\">\n  <thead>\n    <tr style=\"text-align: right;\">\n      <th></th>\n      <th>alcaldia</th>\n      <th>colonia</th>\n      <th>casos_activos</th>\n      <th>poblacion_total</th>\n      <th>porcentaje_activos</th>\n    </tr>\n  </thead>\n  <tbody>\n    <tr>\n      <th>54</th>\n      <td>tlalpan</td>\n      <td>miguel hidalgo</td>\n      <td>65</td>\n      <td>13276.78689</td>\n      <td>0.2921</td>\n    </tr>\n    <tr>\n      <th>63</th>\n      <td>venustiano carranza</td>\n      <td>morelos ii</td>\n      <td>38</td>\n      <td>17867.00000</td>\n      <td>0.1708</td>\n    </tr>\n    <tr>\n      <th>158</th>\n      <td>cuauhtemoc</td>\n      <td>morelos ii</td>\n      <td>18</td>\n      <td>12171.00000</td>\n      <td>0.0809</td>\n    </tr>\n    <tr>\n      <th>182</th>\n      <td>tlahuac</td>\n      <td>miguel hidalgo</td>\n      <td>43</td>\n      <td>13122.58258</td>\n      <td>0.1933</td>\n    </tr>\n  </tbody>\n</table>\n</div>"
     },
     "metadata": {},
     "execution_count": 296
    }
   ],
   "source": [
    "colonias_df[colonias_df.colonia.isin(repeated)]"
   ]
  },
  {
   "cell_type": "code",
   "execution_count": 297,
   "metadata": {},
   "outputs": [],
   "source": [
    "colonias_df.loc[54, 'colonia'] = 'miguel hidalgo - tlal'\n",
    "colonias_df.loc[63, 'colonia'] = 'morelos ii - vc'\n",
    "colonias_df.loc[158, 'colonia'] = 'morelos ii - cu'\n",
    "colonias_df.loc[182, 'colonia'] = 'miguel hidalgo - tlah'"
   ]
  },
  {
   "cell_type": "code",
   "execution_count": 298,
   "metadata": {},
   "outputs": [],
   "source": [
    "colonias_df['cp'] = np.nan"
   ]
  },
  {
   "cell_type": "code",
   "execution_count": 299,
   "metadata": {},
   "outputs": [
    {
     "output_type": "execute_result",
     "data": {
      "text/plain": [
       "         alcaldia                          colonia  casos_activos  \\\n",
       "0  alvaro obregon                     barrio norte             57   \n",
       "1  alvaro obregon                jalalpa el grande             47   \n",
       "2  alvaro obregon            jardines del pedregal             39   \n",
       "3  alvaro obregon                     merced gomez             48   \n",
       "4  alvaro obregon  olivar del conde 2da seccion ii             37   \n",
       "\n",
       "   poblacion_total  porcentaje_activos  cp  \n",
       "0     14367.414210              0.2562 NaN  \n",
       "1     10972.245610              0.2112 NaN  \n",
       "2     13817.000000              0.1753 NaN  \n",
       "3      6992.834615              0.2157 NaN  \n",
       "4      8191.441839              0.1663 NaN  "
      ],
      "text/html": "<div>\n<style scoped>\n    .dataframe tbody tr th:only-of-type {\n        vertical-align: middle;\n    }\n\n    .dataframe tbody tr th {\n        vertical-align: top;\n    }\n\n    .dataframe thead th {\n        text-align: right;\n    }\n</style>\n<table border=\"1\" class=\"dataframe\">\n  <thead>\n    <tr style=\"text-align: right;\">\n      <th></th>\n      <th>alcaldia</th>\n      <th>colonia</th>\n      <th>casos_activos</th>\n      <th>poblacion_total</th>\n      <th>porcentaje_activos</th>\n      <th>cp</th>\n    </tr>\n  </thead>\n  <tbody>\n    <tr>\n      <th>0</th>\n      <td>alvaro obregon</td>\n      <td>barrio norte</td>\n      <td>57</td>\n      <td>14367.414210</td>\n      <td>0.2562</td>\n      <td>NaN</td>\n    </tr>\n    <tr>\n      <th>1</th>\n      <td>alvaro obregon</td>\n      <td>jalalpa el grande</td>\n      <td>47</td>\n      <td>10972.245610</td>\n      <td>0.2112</td>\n      <td>NaN</td>\n    </tr>\n    <tr>\n      <th>2</th>\n      <td>alvaro obregon</td>\n      <td>jardines del pedregal</td>\n      <td>39</td>\n      <td>13817.000000</td>\n      <td>0.1753</td>\n      <td>NaN</td>\n    </tr>\n    <tr>\n      <th>3</th>\n      <td>alvaro obregon</td>\n      <td>merced gomez</td>\n      <td>48</td>\n      <td>6992.834615</td>\n      <td>0.2157</td>\n      <td>NaN</td>\n    </tr>\n    <tr>\n      <th>4</th>\n      <td>alvaro obregon</td>\n      <td>olivar del conde 2da seccion ii</td>\n      <td>37</td>\n      <td>8191.441839</td>\n      <td>0.1663</td>\n      <td>NaN</td>\n    </tr>\n  </tbody>\n</table>\n</div>"
     },
     "metadata": {},
     "execution_count": 299
    }
   ],
   "source": [
    "colonias_df.head()"
   ]
  },
  {
   "cell_type": "code",
   "execution_count": 300,
   "metadata": {},
   "outputs": [
    {
     "output_type": "execute_result",
     "data": {
      "text/plain": [
       "     CP            Estado   Municipio Tipo de Asentamiento  \\\n",
       "0  9830  Ciudad de México  Iztapalapa              Colonia   \n",
       "1  9837  Ciudad de México  Iztapalapa              Colonia   \n",
       "2  9838  Ciudad de México  Iztapalapa              Colonia   \n",
       "3  9839  Ciudad de México  Iztapalapa              Colonia   \n",
       "4  9839  Ciudad de México  Iztapalapa              Colonia   \n",
       "\n",
       "                 Asentamiento  Clave de Oficina  \n",
       "0             Paraje San Juan              9821  \n",
       "1  San Miguel 8va. Ampliación              9821  \n",
       "2              Plan de Iguala              9821  \n",
       "3  Ampliación Paraje San Juan              9821  \n",
       "4               San Juan Joya              9821  "
      ],
      "text/html": "<div>\n<style scoped>\n    .dataframe tbody tr th:only-of-type {\n        vertical-align: middle;\n    }\n\n    .dataframe tbody tr th {\n        vertical-align: top;\n    }\n\n    .dataframe thead th {\n        text-align: right;\n    }\n</style>\n<table border=\"1\" class=\"dataframe\">\n  <thead>\n    <tr style=\"text-align: right;\">\n      <th></th>\n      <th>CP</th>\n      <th>Estado</th>\n      <th>Municipio</th>\n      <th>Tipo de Asentamiento</th>\n      <th>Asentamiento</th>\n      <th>Clave de Oficina</th>\n    </tr>\n  </thead>\n  <tbody>\n    <tr>\n      <th>0</th>\n      <td>9830</td>\n      <td>Ciudad de México</td>\n      <td>Iztapalapa</td>\n      <td>Colonia</td>\n      <td>Paraje San Juan</td>\n      <td>9821</td>\n    </tr>\n    <tr>\n      <th>1</th>\n      <td>9837</td>\n      <td>Ciudad de México</td>\n      <td>Iztapalapa</td>\n      <td>Colonia</td>\n      <td>San Miguel 8va. Ampliación</td>\n      <td>9821</td>\n    </tr>\n    <tr>\n      <th>2</th>\n      <td>9838</td>\n      <td>Ciudad de México</td>\n      <td>Iztapalapa</td>\n      <td>Colonia</td>\n      <td>Plan de Iguala</td>\n      <td>9821</td>\n    </tr>\n    <tr>\n      <th>3</th>\n      <td>9839</td>\n      <td>Ciudad de México</td>\n      <td>Iztapalapa</td>\n      <td>Colonia</td>\n      <td>Ampliación Paraje San Juan</td>\n      <td>9821</td>\n    </tr>\n    <tr>\n      <th>4</th>\n      <td>9839</td>\n      <td>Ciudad de México</td>\n      <td>Iztapalapa</td>\n      <td>Colonia</td>\n      <td>San Juan Joya</td>\n      <td>9821</td>\n    </tr>\n  </tbody>\n</table>\n</div>"
     },
     "metadata": {},
     "execution_count": 300
    }
   ],
   "source": [
    "cp_df = pd.read_csv(data_path + 'codigos_postales.csv')\n",
    "cp_df.head()"
   ]
  },
  {
   "cell_type": "code",
   "execution_count": 301,
   "metadata": {},
   "outputs": [
    {
     "output_type": "execute_result",
     "data": {
      "text/plain": [
       "     CP            Estado   Municipio Tipo de Asentamiento  \\\n",
       "0  9830  Ciudad de México  Iztapalapa              Colonia   \n",
       "1  9837  Ciudad de México  Iztapalapa              Colonia   \n",
       "2  9838  Ciudad de México  Iztapalapa              Colonia   \n",
       "3  9839  Ciudad de México  Iztapalapa              Colonia   \n",
       "4  9839  Ciudad de México  Iztapalapa              Colonia   \n",
       "\n",
       "                 Asentamiento  Clave de Oficina  \n",
       "0             paraje san juan              9821  \n",
       "1  san miguel 8va. ampliación              9821  \n",
       "2              plan de iguala              9821  \n",
       "3  ampliación paraje san juan              9821  \n",
       "4               san juan joya              9821  "
      ],
      "text/html": "<div>\n<style scoped>\n    .dataframe tbody tr th:only-of-type {\n        vertical-align: middle;\n    }\n\n    .dataframe tbody tr th {\n        vertical-align: top;\n    }\n\n    .dataframe thead th {\n        text-align: right;\n    }\n</style>\n<table border=\"1\" class=\"dataframe\">\n  <thead>\n    <tr style=\"text-align: right;\">\n      <th></th>\n      <th>CP</th>\n      <th>Estado</th>\n      <th>Municipio</th>\n      <th>Tipo de Asentamiento</th>\n      <th>Asentamiento</th>\n      <th>Clave de Oficina</th>\n    </tr>\n  </thead>\n  <tbody>\n    <tr>\n      <th>0</th>\n      <td>9830</td>\n      <td>Ciudad de México</td>\n      <td>Iztapalapa</td>\n      <td>Colonia</td>\n      <td>paraje san juan</td>\n      <td>9821</td>\n    </tr>\n    <tr>\n      <th>1</th>\n      <td>9837</td>\n      <td>Ciudad de México</td>\n      <td>Iztapalapa</td>\n      <td>Colonia</td>\n      <td>san miguel 8va. ampliación</td>\n      <td>9821</td>\n    </tr>\n    <tr>\n      <th>2</th>\n      <td>9838</td>\n      <td>Ciudad de México</td>\n      <td>Iztapalapa</td>\n      <td>Colonia</td>\n      <td>plan de iguala</td>\n      <td>9821</td>\n    </tr>\n    <tr>\n      <th>3</th>\n      <td>9839</td>\n      <td>Ciudad de México</td>\n      <td>Iztapalapa</td>\n      <td>Colonia</td>\n      <td>ampliación paraje san juan</td>\n      <td>9821</td>\n    </tr>\n    <tr>\n      <th>4</th>\n      <td>9839</td>\n      <td>Ciudad de México</td>\n      <td>Iztapalapa</td>\n      <td>Colonia</td>\n      <td>san juan joya</td>\n      <td>9821</td>\n    </tr>\n  </tbody>\n</table>\n</div>"
     },
     "metadata": {},
     "execution_count": 301
    }
   ],
   "source": [
    "cp_df.Asentamiento = cp_df.Asentamiento.str.lower()\n",
    "cp_df.head()"
   ]
  },
  {
   "cell_type": "code",
   "execution_count": 302,
   "metadata": {},
   "outputs": [],
   "source": [
    "from collections import Counter\n",
    "def should_be_equal(word1, word2, per=0.4):\n",
    "    s1 = word1.lower().replace(' ', '').replace('(', '').replace(')', '').replace('.','')\n",
    "    s2 = word2.lower().replace(' ', '').replace('(', '').replace(')', '').replace('.','')\n",
    "    max_len = max(len(s1), len(s2))\n",
    "    sum_ = 0\n",
    "    if s1[0] == s2[0]:\n",
    "        for i in range(min(len(s1), len(s2))):\n",
    "            if s1[i] == s2[i]:\n",
    "                sum_ += 1\n",
    "    #print(sum_, len(s1), len(s2), max_len, s1, s2, int(max_len*per))\n",
    "    if max_len - sum_ <= int(max_len*per):\n",
    "        return True \n",
    "    return False"
   ]
  },
  {
   "cell_type": "code",
   "execution_count": 303,
   "metadata": {},
   "outputs": [],
   "source": [
    "found_col = dict()\n",
    "for _, rowCol in colonias_df.iterrows():\n",
    "    colonia = rowCol.colonia\n",
    "    col_alcaldia = rowCol.alcaldia\n",
    "    if colonia not in found_col:\n",
    "        found_col[(colonia, col_alcaldia)] = []\n",
    "    for _, row in cp_df.iterrows():\n",
    "        asentamiento = row.Asentamiento\n",
    "        cp = row.CP\n",
    "        alcaldia = row.Municipio\n",
    "        if should_be_equal(colonia, asentamiento) and len(col_alcaldia) == len(alcaldia):\n",
    "            found_col[(colonia, col_alcaldia)].append((asentamiento, alcaldia, cp))"
   ]
  },
  {
   "cell_type": "code",
   "execution_count": 304,
   "metadata": {},
   "outputs": [],
   "source": [
    "for _, row in colonias_df.iterrows():\n",
    "    tup = (row.colonia, row.alcaldia)\n",
    "    if tup in found_col.keys():\n",
    "        if len(found_col[tup]) > 0:\n",
    "            colonias_df.loc[colonias_df.colonia == row.colonia, 'cp'] = str(int(found_col[tup][0][2]))"
   ]
  },
  {
   "cell_type": "code",
   "execution_count": 305,
   "metadata": {},
   "outputs": [],
   "source": [
    "colonias_df.loc[57\t , 'cp'] = '14250'\n",
    "colonias_df.loc[191 , 'cp'] = '14250'\n",
    "colonias_df.loc[38\t , 'cp'] = '11320'\n",
    "colonias_df.loc[108 , 'cp'] = '11320'\n",
    "colonias_df.loc[127 , 'cp'] = '16090'\n",
    "colonias_df.loc[94\t , 'cp'] = '7960'\n",
    "colonias_df.loc[64\t , 'cp'] = '15640'\n",
    "colonias_df.loc[40\t , 'cp'] = '11800'\n",
    "colonias_df.loc[121 , 'cp'] = '15000'\n",
    "colonias_df.loc[47\t , 'cp'] = '13360'\n",
    "colonias_df.loc[111 , 'cp'] = '13360'\n",
    "colonias_df.loc[95\t , 'cp'] = '7140'\n",
    "colonias_df.loc[100 , 'cp'] = '9910'\n",
    "colonias_df.loc[158 , 'cp'] = '6200'\n",
    "colonias_df.loc[63\t , 'cp'] = '15270'\n",
    "colonias_df.loc[143 , 'cp'] = '3600'\n",
    "colonias_df.loc[80\t , 'cp'] = '5219'\n",
    "colonias_df.loc[162 , 'cp'] = '8100'\n",
    "colonias_df.loc[56\t , 'cp'] = '14100'\n",
    "colonias_df.loc[59\t , 'cp'] = '14100'\n",
    "colonias_df.loc[61\t , 'cp'] = '14100'\n",
    "colonias_df.loc[79\t , 'cp'] = '4369'\n",
    "colonias_df.loc[10\t , 'cp'] = '4369'\n",
    "colonias_df.loc[76\t , 'cp'] = '4369'\n",
    "colonias_df.loc[146 , 'cp'] = '4369'\n",
    "colonias_df.loc[13\t , 'cp'] = '4369'\n",
    "colonias_df.loc[149 , 'cp'] = '4369'\n",
    "colonias_df.loc[51\t , 'cp'] = '13099'\n",
    "colonias_df.loc[42\t , 'cp'] = '12100'\n",
    "colonias_df.loc[173 , 'cp'] = '10400'\n",
    "colonias_df.loc[114 , 'cp'] = '13000'\n",
    "colonias_df.loc[46\t , 'cp'] = '13310'\n",
    "colonias_df.loc[43\t , 'cp'] = '12400'\n",
    "colonias_df.loc[110 , 'cp'] = '12200'\n",
    "colonias_df.loc[180 , 'cp'] = '13070'\n",
    "colonias_df.loc[194 , 'cp'] = '16700'\n",
    "colonias_df.loc[181 , 'cp'] = '13300'\n",
    "colonias_df.loc[50\t , 'cp'] = '13420'\n",
    "colonias_df.loc[140 , 'cp'] = '3310'\n",
    "colonias_df.loc[199 , 'cp'] = '16029'\n",
    "colonias_df.loc[129 , 'cp'] = '1090'\n",
    "colonias_df.loc[184 , 'cp'] = '13300'"
   ]
  },
  {
   "cell_type": "code",
   "execution_count": 306,
   "metadata": {},
   "outputs": [
    {
     "output_type": "execute_result",
     "data": {
      "text/plain": [
       "         alcaldia                          colonia  casos_activos  \\\n",
       "0  alvaro obregon                     barrio norte             57   \n",
       "1  alvaro obregon                jalalpa el grande             47   \n",
       "2  alvaro obregon            jardines del pedregal             39   \n",
       "3  alvaro obregon                     merced gomez             48   \n",
       "4  alvaro obregon  olivar del conde 2da seccion ii             37   \n",
       "\n",
       "   poblacion_total  porcentaje_activos    cp  \n",
       "0     14367.414210              0.2562  1410  \n",
       "1     10972.245610              0.2112  1377  \n",
       "2     13817.000000              0.1753  1900  \n",
       "3      6992.834615              0.2157  1600  \n",
       "4      8191.441839              0.1663  1408  "
      ],
      "text/html": "<div>\n<style scoped>\n    .dataframe tbody tr th:only-of-type {\n        vertical-align: middle;\n    }\n\n    .dataframe tbody tr th {\n        vertical-align: top;\n    }\n\n    .dataframe thead th {\n        text-align: right;\n    }\n</style>\n<table border=\"1\" class=\"dataframe\">\n  <thead>\n    <tr style=\"text-align: right;\">\n      <th></th>\n      <th>alcaldia</th>\n      <th>colonia</th>\n      <th>casos_activos</th>\n      <th>poblacion_total</th>\n      <th>porcentaje_activos</th>\n      <th>cp</th>\n    </tr>\n  </thead>\n  <tbody>\n    <tr>\n      <th>0</th>\n      <td>alvaro obregon</td>\n      <td>barrio norte</td>\n      <td>57</td>\n      <td>14367.414210</td>\n      <td>0.2562</td>\n      <td>1410</td>\n    </tr>\n    <tr>\n      <th>1</th>\n      <td>alvaro obregon</td>\n      <td>jalalpa el grande</td>\n      <td>47</td>\n      <td>10972.245610</td>\n      <td>0.2112</td>\n      <td>1377</td>\n    </tr>\n    <tr>\n      <th>2</th>\n      <td>alvaro obregon</td>\n      <td>jardines del pedregal</td>\n      <td>39</td>\n      <td>13817.000000</td>\n      <td>0.1753</td>\n      <td>1900</td>\n    </tr>\n    <tr>\n      <th>3</th>\n      <td>alvaro obregon</td>\n      <td>merced gomez</td>\n      <td>48</td>\n      <td>6992.834615</td>\n      <td>0.2157</td>\n      <td>1600</td>\n    </tr>\n    <tr>\n      <th>4</th>\n      <td>alvaro obregon</td>\n      <td>olivar del conde 2da seccion ii</td>\n      <td>37</td>\n      <td>8191.441839</td>\n      <td>0.1663</td>\n      <td>1408</td>\n    </tr>\n  </tbody>\n</table>\n</div>"
     },
     "metadata": {},
     "execution_count": 306
    }
   ],
   "source": [
    "colonias_df.head()"
   ]
  },
  {
   "cell_type": "code",
   "execution_count": 307,
   "metadata": {},
   "outputs": [
    {
     "output_type": "execute_result",
     "data": {
      "text/plain": [
       "'tepepan (ampl)'"
      ]
     },
     "metadata": {},
     "execution_count": 307
    }
   ],
   "source": [
    "col"
   ]
  },
  {
   "source": [
    "## Guardar dataframe limpio"
   ],
   "cell_type": "markdown",
   "metadata": {}
  },
  {
   "cell_type": "code",
   "execution_count": 308,
   "metadata": {},
   "outputs": [],
   "source": [
    "colonias_df.to_csv(data_path + 'colonias_prioritarias_clean.csv', index=False)"
   ]
  },
  {
   "cell_type": "code",
   "execution_count": 309,
   "metadata": {},
   "outputs": [
    {
     "output_type": "execute_result",
     "data": {
      "text/plain": [
       "         alcaldia                          colonia  casos_activos  \\\n",
       "0  alvaro obregon                     barrio norte             57   \n",
       "1  alvaro obregon                jalalpa el grande             47   \n",
       "2  alvaro obregon            jardines del pedregal             39   \n",
       "3  alvaro obregon                     merced gomez             48   \n",
       "4  alvaro obregon  olivar del conde 2da seccion ii             37   \n",
       "\n",
       "   poblacion_total  porcentaje_activos    cp  \n",
       "0     14367.414210              0.2562  1410  \n",
       "1     10972.245610              0.2112  1377  \n",
       "2     13817.000000              0.1753  1900  \n",
       "3      6992.834615              0.2157  1600  \n",
       "4      8191.441839              0.1663  1408  "
      ],
      "text/html": "<div>\n<style scoped>\n    .dataframe tbody tr th:only-of-type {\n        vertical-align: middle;\n    }\n\n    .dataframe tbody tr th {\n        vertical-align: top;\n    }\n\n    .dataframe thead th {\n        text-align: right;\n    }\n</style>\n<table border=\"1\" class=\"dataframe\">\n  <thead>\n    <tr style=\"text-align: right;\">\n      <th></th>\n      <th>alcaldia</th>\n      <th>colonia</th>\n      <th>casos_activos</th>\n      <th>poblacion_total</th>\n      <th>porcentaje_activos</th>\n      <th>cp</th>\n    </tr>\n  </thead>\n  <tbody>\n    <tr>\n      <th>0</th>\n      <td>alvaro obregon</td>\n      <td>barrio norte</td>\n      <td>57</td>\n      <td>14367.414210</td>\n      <td>0.2562</td>\n      <td>1410</td>\n    </tr>\n    <tr>\n      <th>1</th>\n      <td>alvaro obregon</td>\n      <td>jalalpa el grande</td>\n      <td>47</td>\n      <td>10972.245610</td>\n      <td>0.2112</td>\n      <td>1377</td>\n    </tr>\n    <tr>\n      <th>2</th>\n      <td>alvaro obregon</td>\n      <td>jardines del pedregal</td>\n      <td>39</td>\n      <td>13817.000000</td>\n      <td>0.1753</td>\n      <td>1900</td>\n    </tr>\n    <tr>\n      <th>3</th>\n      <td>alvaro obregon</td>\n      <td>merced gomez</td>\n      <td>48</td>\n      <td>6992.834615</td>\n      <td>0.2157</td>\n      <td>1600</td>\n    </tr>\n    <tr>\n      <th>4</th>\n      <td>alvaro obregon</td>\n      <td>olivar del conde 2da seccion ii</td>\n      <td>37</td>\n      <td>8191.441839</td>\n      <td>0.1663</td>\n      <td>1408</td>\n    </tr>\n  </tbody>\n</table>\n</div>"
     },
     "metadata": {},
     "execution_count": 309
    }
   ],
   "source": [
    "colonias_df.head()"
   ]
  },
  {
   "source": [
    "# Negocios CDMX\n",
    "Esta lista contiene los negocios dentro de la Ciudad de México que solicitaron financiamiento dentro del programa: Financiamiento para Microempresas del Fondo para el Desarrollo Social de la Ciudad de México. \n",
    "\n",
    "La base de datos original se encuentra en: https://datos.cdmx.gob.mx/dataset/solicitudes-financiamiento-microempresas"
   ],
   "cell_type": "markdown",
   "metadata": {}
  },
  {
   "cell_type": "code",
   "execution_count": 310,
   "metadata": {},
   "outputs": [],
   "source": [
    "negocios_df = pd.read_csv(data_path + 'microempresas.csv')"
   ]
  },
  {
   "cell_type": "code",
   "execution_count": 311,
   "metadata": {},
   "outputs": [],
   "source": [
    "def lower_cols_rows(df):\n",
    "    df.columns = df.columns.str.lower()\n",
    "    for column in df.columns:\n",
    "        df[str(column)] = df[str(column)].str.lower()\n",
    "    return df"
   ]
  },
  {
   "cell_type": "code",
   "execution_count": 312,
   "metadata": {},
   "outputs": [],
   "source": [
    "negocios_df.drop(columns=['SEXO', 'FOLIO', 'ESTADO_DE_NACIMIENTO', 'FECHA_INICIO_SOLICITUD', 'FECHA_TERMINO'], inplace=True)\n",
    "negocios_df = lower_cols_rows(negocios_df)"
   ]
  },
  {
   "cell_type": "code",
   "execution_count": 313,
   "metadata": {},
   "outputs": [
    {
     "output_type": "execute_result",
     "data": {
      "text/plain": [
       "               ocupacion        alcaldia   c_p               colonia  \\\n",
       "0               joyeria�  alvaro obregon  1260           la mexicana   \n",
       "1       tiendas de ropa�  alvaro obregon  1260       calzada jalalpa   \n",
       "2  tiendas de abarrotes�  alvaro obregon  1780  olivar de los padres   \n",
       "3  tiendas de abarrotes�  alvaro obregon  1780  olivar de los padres   \n",
       "4  tiendas de abarrotes�  alvaro obregon  1780  olivar de los padres   \n",
       "\n",
       "                    giro num_empleados  estatus  \n",
       "0               joyeria�             0  cobrado  \n",
       "1       tiendas de ropa�             3  cobrado  \n",
       "2  tiendas de abarrotes�             0  cobrado  \n",
       "3  tiendas de abarrotes�             3  cobrado  \n",
       "4  tiendas de abarrotes�             0  cobrado  "
      ],
      "text/html": "<div>\n<style scoped>\n    .dataframe tbody tr th:only-of-type {\n        vertical-align: middle;\n    }\n\n    .dataframe tbody tr th {\n        vertical-align: top;\n    }\n\n    .dataframe thead th {\n        text-align: right;\n    }\n</style>\n<table border=\"1\" class=\"dataframe\">\n  <thead>\n    <tr style=\"text-align: right;\">\n      <th></th>\n      <th>ocupacion</th>\n      <th>alcaldia</th>\n      <th>c_p</th>\n      <th>colonia</th>\n      <th>giro</th>\n      <th>num_empleados</th>\n      <th>estatus</th>\n    </tr>\n  </thead>\n  <tbody>\n    <tr>\n      <th>0</th>\n      <td>joyeria�</td>\n      <td>alvaro obregon</td>\n      <td>1260</td>\n      <td>la mexicana</td>\n      <td>joyeria�</td>\n      <td>0</td>\n      <td>cobrado</td>\n    </tr>\n    <tr>\n      <th>1</th>\n      <td>tiendas de ropa�</td>\n      <td>alvaro obregon</td>\n      <td>1260</td>\n      <td>calzada jalalpa</td>\n      <td>tiendas de ropa�</td>\n      <td>3</td>\n      <td>cobrado</td>\n    </tr>\n    <tr>\n      <th>2</th>\n      <td>tiendas de abarrotes�</td>\n      <td>alvaro obregon</td>\n      <td>1780</td>\n      <td>olivar de los padres</td>\n      <td>tiendas de abarrotes�</td>\n      <td>0</td>\n      <td>cobrado</td>\n    </tr>\n    <tr>\n      <th>3</th>\n      <td>tiendas de abarrotes�</td>\n      <td>alvaro obregon</td>\n      <td>1780</td>\n      <td>olivar de los padres</td>\n      <td>tiendas de abarrotes�</td>\n      <td>3</td>\n      <td>cobrado</td>\n    </tr>\n    <tr>\n      <th>4</th>\n      <td>tiendas de abarrotes�</td>\n      <td>alvaro obregon</td>\n      <td>1780</td>\n      <td>olivar de los padres</td>\n      <td>tiendas de abarrotes�</td>\n      <td>0</td>\n      <td>cobrado</td>\n    </tr>\n  </tbody>\n</table>\n</div>"
     },
     "metadata": {},
     "execution_count": 313
    }
   ],
   "source": [
    "negocios_df.head()"
   ]
  },
  {
   "cell_type": "code",
   "execution_count": 314,
   "metadata": {},
   "outputs": [
    {
     "output_type": "execute_result",
     "data": {
      "text/plain": [
       "(51198, 6)"
      ]
     },
     "metadata": {},
     "execution_count": 314
    }
   ],
   "source": [
    "negocios_df = negocios_df[negocios_df.estatus == 'cobrado']\n",
    "negocios_df.drop(columns=['estatus'], inplace=True)\n",
    "negocios_df.shape"
   ]
  },
  {
   "cell_type": "code",
   "execution_count": 315,
   "metadata": {},
   "outputs": [
    {
     "output_type": "execute_result",
     "data": {
      "text/plain": [
       "ocupacion          9\n",
       "alcaldia           0\n",
       "c_p                1\n",
       "colonia           11\n",
       "giro             128\n",
       "num_empleados      0\n",
       "dtype: int64"
      ]
     },
     "metadata": {},
     "execution_count": 315
    }
   ],
   "source": [
    "negocios_df.isna().sum()"
   ]
  },
  {
   "source": [
    "### Ocupación"
   ],
   "cell_type": "markdown",
   "metadata": {}
  },
  {
   "cell_type": "code",
   "execution_count": 316,
   "metadata": {},
   "outputs": [
    {
     "output_type": "execute_result",
     "data": {
      "text/plain": [
       "       ocupacion             alcaldia    c_p  \\\n",
       "117391       NaN  venustiano carranza  15290   \n",
       "118507       NaN           cuauhtemoc   6220   \n",
       "118524       NaN         azcapotzalco   2630   \n",
       "118532       NaN           iztapalapa   9200   \n",
       "118537       NaN            iztacalco   8910   \n",
       "118542       NaN           iztapalapa   9200   \n",
       "118908       NaN           cuauhtemoc   6720   \n",
       "118923       NaN           iztapalapa   9099   \n",
       "118924       NaN           iztapalapa   9060   \n",
       "\n",
       "                                     colonia  \\\n",
       "117391                            10 de mayo   \n",
       "118507                            peralvillo   \n",
       "118524                              coltongo   \n",
       "118532  unidad habitacional vicente guerrero   \n",
       "118537                     barrio santa cruz   \n",
       "118542  unidad habitacional vicente guerrero   \n",
       "118908                              doctores   \n",
       "118923                  heroes de churubusco   \n",
       "118924                         escuadron 201   \n",
       "\n",
       "                                       giro num_empleados  \n",
       "117391               juegos mecanicos feria             1  \n",
       "118507                            panaderia             1  \n",
       "118524                 purificadora de agua             1  \n",
       "118532                             comercio             1  \n",
       "118537       artesanias y juegos didacticos             1  \n",
       "118542                             comercio             1  \n",
       "118908  promotora deportiva gama soccer, ac             1  \n",
       "118923    liga de futbol siglo xxi plus a.c             1  \n",
       "118924          escuela de futbol pumas 201             1  "
      ],
      "text/html": "<div>\n<style scoped>\n    .dataframe tbody tr th:only-of-type {\n        vertical-align: middle;\n    }\n\n    .dataframe tbody tr th {\n        vertical-align: top;\n    }\n\n    .dataframe thead th {\n        text-align: right;\n    }\n</style>\n<table border=\"1\" class=\"dataframe\">\n  <thead>\n    <tr style=\"text-align: right;\">\n      <th></th>\n      <th>ocupacion</th>\n      <th>alcaldia</th>\n      <th>c_p</th>\n      <th>colonia</th>\n      <th>giro</th>\n      <th>num_empleados</th>\n    </tr>\n  </thead>\n  <tbody>\n    <tr>\n      <th>117391</th>\n      <td>NaN</td>\n      <td>venustiano carranza</td>\n      <td>15290</td>\n      <td>10 de mayo</td>\n      <td>juegos mecanicos feria</td>\n      <td>1</td>\n    </tr>\n    <tr>\n      <th>118507</th>\n      <td>NaN</td>\n      <td>cuauhtemoc</td>\n      <td>6220</td>\n      <td>peralvillo</td>\n      <td>panaderia</td>\n      <td>1</td>\n    </tr>\n    <tr>\n      <th>118524</th>\n      <td>NaN</td>\n      <td>azcapotzalco</td>\n      <td>2630</td>\n      <td>coltongo</td>\n      <td>purificadora de agua</td>\n      <td>1</td>\n    </tr>\n    <tr>\n      <th>118532</th>\n      <td>NaN</td>\n      <td>iztapalapa</td>\n      <td>9200</td>\n      <td>unidad habitacional vicente guerrero</td>\n      <td>comercio</td>\n      <td>1</td>\n    </tr>\n    <tr>\n      <th>118537</th>\n      <td>NaN</td>\n      <td>iztacalco</td>\n      <td>8910</td>\n      <td>barrio santa cruz</td>\n      <td>artesanias y juegos didacticos</td>\n      <td>1</td>\n    </tr>\n    <tr>\n      <th>118542</th>\n      <td>NaN</td>\n      <td>iztapalapa</td>\n      <td>9200</td>\n      <td>unidad habitacional vicente guerrero</td>\n      <td>comercio</td>\n      <td>1</td>\n    </tr>\n    <tr>\n      <th>118908</th>\n      <td>NaN</td>\n      <td>cuauhtemoc</td>\n      <td>6720</td>\n      <td>doctores</td>\n      <td>promotora deportiva gama soccer, ac</td>\n      <td>1</td>\n    </tr>\n    <tr>\n      <th>118923</th>\n      <td>NaN</td>\n      <td>iztapalapa</td>\n      <td>9099</td>\n      <td>heroes de churubusco</td>\n      <td>liga de futbol siglo xxi plus a.c</td>\n      <td>1</td>\n    </tr>\n    <tr>\n      <th>118924</th>\n      <td>NaN</td>\n      <td>iztapalapa</td>\n      <td>9060</td>\n      <td>escuadron 201</td>\n      <td>escuela de futbol pumas 201</td>\n      <td>1</td>\n    </tr>\n  </tbody>\n</table>\n</div>"
     },
     "metadata": {},
     "execution_count": 316
    }
   ],
   "source": [
    "negocios_df[negocios_df.ocupacion.isna()]"
   ]
  },
  {
   "cell_type": "code",
   "execution_count": 317,
   "metadata": {},
   "outputs": [],
   "source": [
    "indices = list(negocios_df[negocios_df.ocupacion.isna()].index)\n",
    "for index in indices:\n",
    "    negocios_df.loc[index, 'ocupacion'] = negocios_df.loc[index, 'giro']"
   ]
  },
  {
   "cell_type": "code",
   "execution_count": 318,
   "metadata": {},
   "outputs": [
    {
     "output_type": "execute_result",
     "data": {
      "text/plain": [
       "                                  ocupacion             alcaldia    c_p  \\\n",
       "117391               juegos mecanicos feria  venustiano carranza  15290   \n",
       "118507                            panaderia           cuauhtemoc   6220   \n",
       "118524                 purificadora de agua         azcapotzalco   2630   \n",
       "118532                             comercio           iztapalapa   9200   \n",
       "118537       artesanias y juegos didacticos            iztacalco   8910   \n",
       "118542                             comercio           iztapalapa   9200   \n",
       "118908  promotora deportiva gama soccer, ac           cuauhtemoc   6720   \n",
       "118923    liga de futbol siglo xxi plus a.c           iztapalapa   9099   \n",
       "118924          escuela de futbol pumas 201           iztapalapa   9060   \n",
       "\n",
       "                                     colonia  \\\n",
       "117391                            10 de mayo   \n",
       "118507                            peralvillo   \n",
       "118524                              coltongo   \n",
       "118532  unidad habitacional vicente guerrero   \n",
       "118537                     barrio santa cruz   \n",
       "118542  unidad habitacional vicente guerrero   \n",
       "118908                              doctores   \n",
       "118923                  heroes de churubusco   \n",
       "118924                         escuadron 201   \n",
       "\n",
       "                                       giro num_empleados  \n",
       "117391               juegos mecanicos feria             1  \n",
       "118507                            panaderia             1  \n",
       "118524                 purificadora de agua             1  \n",
       "118532                             comercio             1  \n",
       "118537       artesanias y juegos didacticos             1  \n",
       "118542                             comercio             1  \n",
       "118908  promotora deportiva gama soccer, ac             1  \n",
       "118923    liga de futbol siglo xxi plus a.c             1  \n",
       "118924          escuela de futbol pumas 201             1  "
      ],
      "text/html": "<div>\n<style scoped>\n    .dataframe tbody tr th:only-of-type {\n        vertical-align: middle;\n    }\n\n    .dataframe tbody tr th {\n        vertical-align: top;\n    }\n\n    .dataframe thead th {\n        text-align: right;\n    }\n</style>\n<table border=\"1\" class=\"dataframe\">\n  <thead>\n    <tr style=\"text-align: right;\">\n      <th></th>\n      <th>ocupacion</th>\n      <th>alcaldia</th>\n      <th>c_p</th>\n      <th>colonia</th>\n      <th>giro</th>\n      <th>num_empleados</th>\n    </tr>\n  </thead>\n  <tbody>\n    <tr>\n      <th>117391</th>\n      <td>juegos mecanicos feria</td>\n      <td>venustiano carranza</td>\n      <td>15290</td>\n      <td>10 de mayo</td>\n      <td>juegos mecanicos feria</td>\n      <td>1</td>\n    </tr>\n    <tr>\n      <th>118507</th>\n      <td>panaderia</td>\n      <td>cuauhtemoc</td>\n      <td>6220</td>\n      <td>peralvillo</td>\n      <td>panaderia</td>\n      <td>1</td>\n    </tr>\n    <tr>\n      <th>118524</th>\n      <td>purificadora de agua</td>\n      <td>azcapotzalco</td>\n      <td>2630</td>\n      <td>coltongo</td>\n      <td>purificadora de agua</td>\n      <td>1</td>\n    </tr>\n    <tr>\n      <th>118532</th>\n      <td>comercio</td>\n      <td>iztapalapa</td>\n      <td>9200</td>\n      <td>unidad habitacional vicente guerrero</td>\n      <td>comercio</td>\n      <td>1</td>\n    </tr>\n    <tr>\n      <th>118537</th>\n      <td>artesanias y juegos didacticos</td>\n      <td>iztacalco</td>\n      <td>8910</td>\n      <td>barrio santa cruz</td>\n      <td>artesanias y juegos didacticos</td>\n      <td>1</td>\n    </tr>\n    <tr>\n      <th>118542</th>\n      <td>comercio</td>\n      <td>iztapalapa</td>\n      <td>9200</td>\n      <td>unidad habitacional vicente guerrero</td>\n      <td>comercio</td>\n      <td>1</td>\n    </tr>\n    <tr>\n      <th>118908</th>\n      <td>promotora deportiva gama soccer, ac</td>\n      <td>cuauhtemoc</td>\n      <td>6720</td>\n      <td>doctores</td>\n      <td>promotora deportiva gama soccer, ac</td>\n      <td>1</td>\n    </tr>\n    <tr>\n      <th>118923</th>\n      <td>liga de futbol siglo xxi plus a.c</td>\n      <td>iztapalapa</td>\n      <td>9099</td>\n      <td>heroes de churubusco</td>\n      <td>liga de futbol siglo xxi plus a.c</td>\n      <td>1</td>\n    </tr>\n    <tr>\n      <th>118924</th>\n      <td>escuela de futbol pumas 201</td>\n      <td>iztapalapa</td>\n      <td>9060</td>\n      <td>escuadron 201</td>\n      <td>escuela de futbol pumas 201</td>\n      <td>1</td>\n    </tr>\n  </tbody>\n</table>\n</div>"
     },
     "metadata": {},
     "execution_count": 318
    }
   ],
   "source": [
    "negocios_df[negocios_df.index.isin(indices)]"
   ]
  },
  {
   "cell_type": "code",
   "execution_count": 319,
   "metadata": {},
   "outputs": [
    {
     "output_type": "execute_result",
     "data": {
      "text/plain": [
       "ocupacion          0\n",
       "alcaldia           0\n",
       "c_p                1\n",
       "colonia           11\n",
       "giro             128\n",
       "num_empleados      0\n",
       "dtype: int64"
      ]
     },
     "metadata": {},
     "execution_count": 319
    }
   ],
   "source": [
    "negocios_df.isna().sum()"
   ]
  },
  {
   "source": [
    "### Colonia"
   ],
   "cell_type": "markdown",
   "metadata": {}
  },
  {
   "cell_type": "code",
   "execution_count": 320,
   "metadata": {},
   "outputs": [
    {
     "output_type": "execute_result",
     "data": {
      "text/plain": [
       "          ocupacion             alcaldia    c_p colonia  \\\n",
       "38833   comerciante             coyoacan   4470     NaN   \n",
       "38950   comerciante             coyoacan   4330     NaN   \n",
       "38991   comerciante              tlahuac  13300     NaN   \n",
       "40360   comerciante  venustiano carranza  15290     NaN   \n",
       "40361   comerciante              tlalpan  14738     NaN   \n",
       "118074  comerciante           xochimilco  16090     NaN   \n",
       "118123  comerciante              tlahuac  13200     NaN   \n",
       "118195  comerciante              tlalpan  14430     NaN   \n",
       "118203  comerciante             coyoacan   4480     NaN   \n",
       "118289  comerciante           xochimilco  16090     NaN   \n",
       "118585  comerciante             coyoacan   4380     NaN   \n",
       "\n",
       "                                            giro num_empleados  \n",
       "38833                        tienda de abarrotes             2  \n",
       "38950                                 ferreteria             4  \n",
       "38991                                     cocina             1  \n",
       "40360                                  alimentos             2  \n",
       "40361                 renta de equipo de computo             1  \n",
       "118074                                    cocina             3  \n",
       "118123  venta de fragancias, escncias y perfumes             1  \n",
       "118195                                 cafeteria             1  \n",
       "118203                venta de ropa y accesorios             1  \n",
       "118289                                 panaderia             2  \n",
       "118585                          venta de tamales             1  "
      ],
      "text/html": "<div>\n<style scoped>\n    .dataframe tbody tr th:only-of-type {\n        vertical-align: middle;\n    }\n\n    .dataframe tbody tr th {\n        vertical-align: top;\n    }\n\n    .dataframe thead th {\n        text-align: right;\n    }\n</style>\n<table border=\"1\" class=\"dataframe\">\n  <thead>\n    <tr style=\"text-align: right;\">\n      <th></th>\n      <th>ocupacion</th>\n      <th>alcaldia</th>\n      <th>c_p</th>\n      <th>colonia</th>\n      <th>giro</th>\n      <th>num_empleados</th>\n    </tr>\n  </thead>\n  <tbody>\n    <tr>\n      <th>38833</th>\n      <td>comerciante</td>\n      <td>coyoacan</td>\n      <td>4470</td>\n      <td>NaN</td>\n      <td>tienda de abarrotes</td>\n      <td>2</td>\n    </tr>\n    <tr>\n      <th>38950</th>\n      <td>comerciante</td>\n      <td>coyoacan</td>\n      <td>4330</td>\n      <td>NaN</td>\n      <td>ferreteria</td>\n      <td>4</td>\n    </tr>\n    <tr>\n      <th>38991</th>\n      <td>comerciante</td>\n      <td>tlahuac</td>\n      <td>13300</td>\n      <td>NaN</td>\n      <td>cocina</td>\n      <td>1</td>\n    </tr>\n    <tr>\n      <th>40360</th>\n      <td>comerciante</td>\n      <td>venustiano carranza</td>\n      <td>15290</td>\n      <td>NaN</td>\n      <td>alimentos</td>\n      <td>2</td>\n    </tr>\n    <tr>\n      <th>40361</th>\n      <td>comerciante</td>\n      <td>tlalpan</td>\n      <td>14738</td>\n      <td>NaN</td>\n      <td>renta de equipo de computo</td>\n      <td>1</td>\n    </tr>\n    <tr>\n      <th>118074</th>\n      <td>comerciante</td>\n      <td>xochimilco</td>\n      <td>16090</td>\n      <td>NaN</td>\n      <td>cocina</td>\n      <td>3</td>\n    </tr>\n    <tr>\n      <th>118123</th>\n      <td>comerciante</td>\n      <td>tlahuac</td>\n      <td>13200</td>\n      <td>NaN</td>\n      <td>venta de fragancias, escncias y perfumes</td>\n      <td>1</td>\n    </tr>\n    <tr>\n      <th>118195</th>\n      <td>comerciante</td>\n      <td>tlalpan</td>\n      <td>14430</td>\n      <td>NaN</td>\n      <td>cafeteria</td>\n      <td>1</td>\n    </tr>\n    <tr>\n      <th>118203</th>\n      <td>comerciante</td>\n      <td>coyoacan</td>\n      <td>4480</td>\n      <td>NaN</td>\n      <td>venta de ropa y accesorios</td>\n      <td>1</td>\n    </tr>\n    <tr>\n      <th>118289</th>\n      <td>comerciante</td>\n      <td>xochimilco</td>\n      <td>16090</td>\n      <td>NaN</td>\n      <td>panaderia</td>\n      <td>2</td>\n    </tr>\n    <tr>\n      <th>118585</th>\n      <td>comerciante</td>\n      <td>coyoacan</td>\n      <td>4380</td>\n      <td>NaN</td>\n      <td>venta de tamales</td>\n      <td>1</td>\n    </tr>\n  </tbody>\n</table>\n</div>"
     },
     "metadata": {},
     "execution_count": 320
    }
   ],
   "source": [
    "negocios_df[negocios_df.colonia.isna()]"
   ]
  },
  {
   "cell_type": "code",
   "execution_count": 321,
   "metadata": {},
   "outputs": [],
   "source": [
    "indices = list(negocios_df[negocios_df.colonia.isna()].index)"
   ]
  },
  {
   "cell_type": "code",
   "execution_count": 322,
   "metadata": {},
   "outputs": [],
   "source": [
    "negocios_df.loc[38833, 'colonia'] = 'Presidentes Ejidales 1a Seccion'\n",
    "negocios_df.loc[38950, 'colonia'] = 'El Rosedal'\n",
    "negocios_df.loc[38991, 'colonia'] = 'Santa Ana Centro'\n",
    "negocios_df.loc[40360, 'colonia'] = '10 de Mayo '\n",
    "negocios_df.loc[40361, 'colonia'] = 'Bosques del Pedregal'\n",
    "negocios_df.loc[118074, 'colonia'] = 'Tablas de San Lorenzo'\n",
    "negocios_df.loc[118123, 'colonia'] = 'Miguel Hidalgo'\n",
    "negocios_df.loc[118195, 'colonia'] = 'Tlalcoligia'\n",
    "negocios_df.loc[118203, 'colonia'] = 'Culhuacan CTM CROC'\n",
    "negocios_df.loc[118289, 'colonia'] = 'Tablas de San Lorenzo'\n",
    "negocios_df.loc[118585, 'colonia'] = 'El Rosario'"
   ]
  },
  {
   "cell_type": "code",
   "execution_count": 323,
   "metadata": {},
   "outputs": [
    {
     "output_type": "execute_result",
     "data": {
      "text/plain": [
       "          ocupacion             alcaldia    c_p  \\\n",
       "38833   comerciante             coyoacan   4470   \n",
       "38950   comerciante             coyoacan   4330   \n",
       "38991   comerciante              tlahuac  13300   \n",
       "40360   comerciante  venustiano carranza  15290   \n",
       "40361   comerciante              tlalpan  14738   \n",
       "118074  comerciante           xochimilco  16090   \n",
       "118123  comerciante              tlahuac  13200   \n",
       "118195  comerciante              tlalpan  14430   \n",
       "118203  comerciante             coyoacan   4480   \n",
       "118289  comerciante           xochimilco  16090   \n",
       "118585  comerciante             coyoacan   4380   \n",
       "\n",
       "                                colonia  \\\n",
       "38833   Presidentes Ejidales 1a Seccion   \n",
       "38950                        El Rosedal   \n",
       "38991                  Santa Ana Centro   \n",
       "40360                       10 de Mayo    \n",
       "40361              Bosques del Pedregal   \n",
       "118074            Tablas de San Lorenzo   \n",
       "118123                   Miguel Hidalgo   \n",
       "118195                      Tlalcoligia   \n",
       "118203               Culhuacan CTM CROC   \n",
       "118289            Tablas de San Lorenzo   \n",
       "118585                       El Rosario   \n",
       "\n",
       "                                            giro num_empleados  \n",
       "38833                        tienda de abarrotes             2  \n",
       "38950                                 ferreteria             4  \n",
       "38991                                     cocina             1  \n",
       "40360                                  alimentos             2  \n",
       "40361                 renta de equipo de computo             1  \n",
       "118074                                    cocina             3  \n",
       "118123  venta de fragancias, escncias y perfumes             1  \n",
       "118195                                 cafeteria             1  \n",
       "118203                venta de ropa y accesorios             1  \n",
       "118289                                 panaderia             2  \n",
       "118585                          venta de tamales             1  "
      ],
      "text/html": "<div>\n<style scoped>\n    .dataframe tbody tr th:only-of-type {\n        vertical-align: middle;\n    }\n\n    .dataframe tbody tr th {\n        vertical-align: top;\n    }\n\n    .dataframe thead th {\n        text-align: right;\n    }\n</style>\n<table border=\"1\" class=\"dataframe\">\n  <thead>\n    <tr style=\"text-align: right;\">\n      <th></th>\n      <th>ocupacion</th>\n      <th>alcaldia</th>\n      <th>c_p</th>\n      <th>colonia</th>\n      <th>giro</th>\n      <th>num_empleados</th>\n    </tr>\n  </thead>\n  <tbody>\n    <tr>\n      <th>38833</th>\n      <td>comerciante</td>\n      <td>coyoacan</td>\n      <td>4470</td>\n      <td>Presidentes Ejidales 1a Seccion</td>\n      <td>tienda de abarrotes</td>\n      <td>2</td>\n    </tr>\n    <tr>\n      <th>38950</th>\n      <td>comerciante</td>\n      <td>coyoacan</td>\n      <td>4330</td>\n      <td>El Rosedal</td>\n      <td>ferreteria</td>\n      <td>4</td>\n    </tr>\n    <tr>\n      <th>38991</th>\n      <td>comerciante</td>\n      <td>tlahuac</td>\n      <td>13300</td>\n      <td>Santa Ana Centro</td>\n      <td>cocina</td>\n      <td>1</td>\n    </tr>\n    <tr>\n      <th>40360</th>\n      <td>comerciante</td>\n      <td>venustiano carranza</td>\n      <td>15290</td>\n      <td>10 de Mayo</td>\n      <td>alimentos</td>\n      <td>2</td>\n    </tr>\n    <tr>\n      <th>40361</th>\n      <td>comerciante</td>\n      <td>tlalpan</td>\n      <td>14738</td>\n      <td>Bosques del Pedregal</td>\n      <td>renta de equipo de computo</td>\n      <td>1</td>\n    </tr>\n    <tr>\n      <th>118074</th>\n      <td>comerciante</td>\n      <td>xochimilco</td>\n      <td>16090</td>\n      <td>Tablas de San Lorenzo</td>\n      <td>cocina</td>\n      <td>3</td>\n    </tr>\n    <tr>\n      <th>118123</th>\n      <td>comerciante</td>\n      <td>tlahuac</td>\n      <td>13200</td>\n      <td>Miguel Hidalgo</td>\n      <td>venta de fragancias, escncias y perfumes</td>\n      <td>1</td>\n    </tr>\n    <tr>\n      <th>118195</th>\n      <td>comerciante</td>\n      <td>tlalpan</td>\n      <td>14430</td>\n      <td>Tlalcoligia</td>\n      <td>cafeteria</td>\n      <td>1</td>\n    </tr>\n    <tr>\n      <th>118203</th>\n      <td>comerciante</td>\n      <td>coyoacan</td>\n      <td>4480</td>\n      <td>Culhuacan CTM CROC</td>\n      <td>venta de ropa y accesorios</td>\n      <td>1</td>\n    </tr>\n    <tr>\n      <th>118289</th>\n      <td>comerciante</td>\n      <td>xochimilco</td>\n      <td>16090</td>\n      <td>Tablas de San Lorenzo</td>\n      <td>panaderia</td>\n      <td>2</td>\n    </tr>\n    <tr>\n      <th>118585</th>\n      <td>comerciante</td>\n      <td>coyoacan</td>\n      <td>4380</td>\n      <td>El Rosario</td>\n      <td>venta de tamales</td>\n      <td>1</td>\n    </tr>\n  </tbody>\n</table>\n</div>"
     },
     "metadata": {},
     "execution_count": 323
    }
   ],
   "source": [
    "negocios_df[negocios_df.index.isin(indices)]"
   ]
  },
  {
   "cell_type": "code",
   "execution_count": 324,
   "metadata": {},
   "outputs": [
    {
     "output_type": "execute_result",
     "data": {
      "text/plain": [
       "ocupacion          0\n",
       "alcaldia           0\n",
       "c_p                1\n",
       "colonia            0\n",
       "giro             128\n",
       "num_empleados      0\n",
       "dtype: int64"
      ]
     },
     "metadata": {},
     "execution_count": 324
    }
   ],
   "source": [
    "negocios_df.isna().sum()"
   ]
  },
  {
   "source": [
    "### Giro"
   ],
   "cell_type": "markdown",
   "metadata": {}
  },
  {
   "cell_type": "code",
   "execution_count": 325,
   "metadata": {},
   "outputs": [],
   "source": [
    "indices = list(negocios_df[negocios_df.giro.isna()].index)\n",
    "for index in indices:\n",
    "    negocios_df.loc[index, 'giro'] = negocios_df.loc[index, 'ocupacion']"
   ]
  },
  {
   "cell_type": "code",
   "execution_count": 326,
   "metadata": {},
   "outputs": [
    {
     "output_type": "execute_result",
     "data": {
      "text/plain": [
       "                        ocupacion        alcaldia    c_p  \\\n",
       "8676                  autoempleda      iztapalapa   9230   \n",
       "10342                 comerciante    azcapotzalco   2400   \n",
       "10349                 comerciante      iztapalapa   9840   \n",
       "10505                 comerciante  alvaro obregon   1830   \n",
       "11029                 comerciante      cuauhtemoc   6860   \n",
       "...                           ...             ...    ...   \n",
       "86127               restaurantero      iztapalapa   9230   \n",
       "86174                   estilista         tlahuac  13430   \n",
       "86391                 comerciante      xochimilco  16038   \n",
       "87050  albañil , pintor y plomero       iztacalco   8710   \n",
       "87300                 comerciante      xochimilco  16035   \n",
       "\n",
       "                           colonia                        giro num_empleados  \n",
       "8676     jos maria morelos y pavon                 autoempleda             1  \n",
       "10342            san juan tlihuaca                 comerciante             2  \n",
       "10349           los reyes culhuacn                 comerciante             1  \n",
       "10505           santa rosa xochiac                 comerciante             2  \n",
       "11029                 vista alegre                 comerciante             2  \n",
       "...                            ...                         ...           ...  \n",
       "86127    jos maria morelos y pavon               restaurantero             3  \n",
       "86174            ampliacion selene                   estilista             3  \n",
       "86391  ampliacion san marcos norte                 comerciante             1  \n",
       "87050                    tlazintla  albañil , pintor y plomero             2  \n",
       "87300              rinconada coapa                 comerciante             2  \n",
       "\n",
       "[128 rows x 6 columns]"
      ],
      "text/html": "<div>\n<style scoped>\n    .dataframe tbody tr th:only-of-type {\n        vertical-align: middle;\n    }\n\n    .dataframe tbody tr th {\n        vertical-align: top;\n    }\n\n    .dataframe thead th {\n        text-align: right;\n    }\n</style>\n<table border=\"1\" class=\"dataframe\">\n  <thead>\n    <tr style=\"text-align: right;\">\n      <th></th>\n      <th>ocupacion</th>\n      <th>alcaldia</th>\n      <th>c_p</th>\n      <th>colonia</th>\n      <th>giro</th>\n      <th>num_empleados</th>\n    </tr>\n  </thead>\n  <tbody>\n    <tr>\n      <th>8676</th>\n      <td>autoempleda</td>\n      <td>iztapalapa</td>\n      <td>9230</td>\n      <td>jos maria morelos y pavon</td>\n      <td>autoempleda</td>\n      <td>1</td>\n    </tr>\n    <tr>\n      <th>10342</th>\n      <td>comerciante</td>\n      <td>azcapotzalco</td>\n      <td>2400</td>\n      <td>san juan tlihuaca</td>\n      <td>comerciante</td>\n      <td>2</td>\n    </tr>\n    <tr>\n      <th>10349</th>\n      <td>comerciante</td>\n      <td>iztapalapa</td>\n      <td>9840</td>\n      <td>los reyes culhuacn</td>\n      <td>comerciante</td>\n      <td>1</td>\n    </tr>\n    <tr>\n      <th>10505</th>\n      <td>comerciante</td>\n      <td>alvaro obregon</td>\n      <td>1830</td>\n      <td>santa rosa xochiac</td>\n      <td>comerciante</td>\n      <td>2</td>\n    </tr>\n    <tr>\n      <th>11029</th>\n      <td>comerciante</td>\n      <td>cuauhtemoc</td>\n      <td>6860</td>\n      <td>vista alegre</td>\n      <td>comerciante</td>\n      <td>2</td>\n    </tr>\n    <tr>\n      <th>...</th>\n      <td>...</td>\n      <td>...</td>\n      <td>...</td>\n      <td>...</td>\n      <td>...</td>\n      <td>...</td>\n    </tr>\n    <tr>\n      <th>86127</th>\n      <td>restaurantero</td>\n      <td>iztapalapa</td>\n      <td>9230</td>\n      <td>jos maria morelos y pavon</td>\n      <td>restaurantero</td>\n      <td>3</td>\n    </tr>\n    <tr>\n      <th>86174</th>\n      <td>estilista</td>\n      <td>tlahuac</td>\n      <td>13430</td>\n      <td>ampliacion selene</td>\n      <td>estilista</td>\n      <td>3</td>\n    </tr>\n    <tr>\n      <th>86391</th>\n      <td>comerciante</td>\n      <td>xochimilco</td>\n      <td>16038</td>\n      <td>ampliacion san marcos norte</td>\n      <td>comerciante</td>\n      <td>1</td>\n    </tr>\n    <tr>\n      <th>87050</th>\n      <td>albañil , pintor y plomero</td>\n      <td>iztacalco</td>\n      <td>8710</td>\n      <td>tlazintla</td>\n      <td>albañil , pintor y plomero</td>\n      <td>2</td>\n    </tr>\n    <tr>\n      <th>87300</th>\n      <td>comerciante</td>\n      <td>xochimilco</td>\n      <td>16035</td>\n      <td>rinconada coapa</td>\n      <td>comerciante</td>\n      <td>2</td>\n    </tr>\n  </tbody>\n</table>\n<p>128 rows × 6 columns</p>\n</div>"
     },
     "metadata": {},
     "execution_count": 326
    }
   ],
   "source": [
    "negocios_df[negocios_df.index.isin(indices)]"
   ]
  },
  {
   "cell_type": "code",
   "execution_count": 327,
   "metadata": {},
   "outputs": [
    {
     "output_type": "execute_result",
     "data": {
      "text/plain": [
       "ocupacion        0\n",
       "alcaldia         0\n",
       "c_p              1\n",
       "colonia          0\n",
       "giro             0\n",
       "num_empleados    0\n",
       "dtype: int64"
      ]
     },
     "metadata": {},
     "execution_count": 327
    }
   ],
   "source": [
    "negocios_df.isna().sum()"
   ]
  },
  {
   "source": [
    "### Obteniendo únicamente negocios en las 200 colonias prioritarias"
   ],
   "cell_type": "markdown",
   "metadata": {}
  },
  {
   "cell_type": "code",
   "execution_count": 328,
   "metadata": {},
   "outputs": [],
   "source": [
    "negocios_df.colonia = negocios_df.colonia.str.lower()"
   ]
  },
  {
   "cell_type": "code",
   "execution_count": 329,
   "metadata": {},
   "outputs": [
    {
     "output_type": "execute_result",
     "data": {
      "text/plain": [
       "               ocupacion        alcaldia   c_p               colonia  \\\n",
       "0               joyeria�  alvaro obregon  1260           la mexicana   \n",
       "1       tiendas de ropa�  alvaro obregon  1260       calzada jalalpa   \n",
       "2  tiendas de abarrotes�  alvaro obregon  1780  olivar de los padres   \n",
       "3  tiendas de abarrotes�  alvaro obregon  1780  olivar de los padres   \n",
       "4  tiendas de abarrotes�  alvaro obregon  1780  olivar de los padres   \n",
       "\n",
       "                    giro num_empleados  \n",
       "0               joyeria�             0  \n",
       "1       tiendas de ropa�             3  \n",
       "2  tiendas de abarrotes�             0  \n",
       "3  tiendas de abarrotes�             3  \n",
       "4  tiendas de abarrotes�             0  "
      ],
      "text/html": "<div>\n<style scoped>\n    .dataframe tbody tr th:only-of-type {\n        vertical-align: middle;\n    }\n\n    .dataframe tbody tr th {\n        vertical-align: top;\n    }\n\n    .dataframe thead th {\n        text-align: right;\n    }\n</style>\n<table border=\"1\" class=\"dataframe\">\n  <thead>\n    <tr style=\"text-align: right;\">\n      <th></th>\n      <th>ocupacion</th>\n      <th>alcaldia</th>\n      <th>c_p</th>\n      <th>colonia</th>\n      <th>giro</th>\n      <th>num_empleados</th>\n    </tr>\n  </thead>\n  <tbody>\n    <tr>\n      <th>0</th>\n      <td>joyeria�</td>\n      <td>alvaro obregon</td>\n      <td>1260</td>\n      <td>la mexicana</td>\n      <td>joyeria�</td>\n      <td>0</td>\n    </tr>\n    <tr>\n      <th>1</th>\n      <td>tiendas de ropa�</td>\n      <td>alvaro obregon</td>\n      <td>1260</td>\n      <td>calzada jalalpa</td>\n      <td>tiendas de ropa�</td>\n      <td>3</td>\n    </tr>\n    <tr>\n      <th>2</th>\n      <td>tiendas de abarrotes�</td>\n      <td>alvaro obregon</td>\n      <td>1780</td>\n      <td>olivar de los padres</td>\n      <td>tiendas de abarrotes�</td>\n      <td>0</td>\n    </tr>\n    <tr>\n      <th>3</th>\n      <td>tiendas de abarrotes�</td>\n      <td>alvaro obregon</td>\n      <td>1780</td>\n      <td>olivar de los padres</td>\n      <td>tiendas de abarrotes�</td>\n      <td>3</td>\n    </tr>\n    <tr>\n      <th>4</th>\n      <td>tiendas de abarrotes�</td>\n      <td>alvaro obregon</td>\n      <td>1780</td>\n      <td>olivar de los padres</td>\n      <td>tiendas de abarrotes�</td>\n      <td>0</td>\n    </tr>\n  </tbody>\n</table>\n</div>"
     },
     "metadata": {},
     "execution_count": 329
    }
   ],
   "source": [
    "negocios_df.head()"
   ]
  },
  {
   "cell_type": "code",
   "execution_count": 330,
   "metadata": {},
   "outputs": [
    {
     "output_type": "execute_result",
     "data": {
      "text/plain": [
       "(51198, 6)"
      ]
     },
     "metadata": {},
     "execution_count": 330
    }
   ],
   "source": [
    "negocios_df.shape"
   ]
  },
  {
   "cell_type": "code",
   "execution_count": 331,
   "metadata": {},
   "outputs": [],
   "source": [
    "negocios_cp = set(negocios_df.c_p.unique())\n",
    "colonias_cp = list(colonias_df.cp)\n",
    "seen = []\n",
    "for cp in colonias_cp:\n",
    "    if cp in negocios_cp:\n",
    "        seen.append(cp)\n",
    "negocios_df = negocios_df[negocios_df.c_p.isin(seen)]"
   ]
  },
  {
   "cell_type": "code",
   "execution_count": 332,
   "metadata": {},
   "outputs": [
    {
     "output_type": "execute_result",
     "data": {
      "text/plain": [
       "               ocupacion        alcaldia   c_p               colonia  \\\n",
       "0               joyeria�  alvaro obregon  1260           la mexicana   \n",
       "1       tiendas de ropa�  alvaro obregon  1260       calzada jalalpa   \n",
       "2  tiendas de abarrotes�  alvaro obregon  1780  olivar de los padres   \n",
       "3  tiendas de abarrotes�  alvaro obregon  1780  olivar de los padres   \n",
       "4  tiendas de abarrotes�  alvaro obregon  1780  olivar de los padres   \n",
       "\n",
       "                    giro num_empleados  \n",
       "0               joyeria�             0  \n",
       "1       tiendas de ropa�             3  \n",
       "2  tiendas de abarrotes�             0  \n",
       "3  tiendas de abarrotes�             3  \n",
       "4  tiendas de abarrotes�             0  "
      ],
      "text/html": "<div>\n<style scoped>\n    .dataframe tbody tr th:only-of-type {\n        vertical-align: middle;\n    }\n\n    .dataframe tbody tr th {\n        vertical-align: top;\n    }\n\n    .dataframe thead th {\n        text-align: right;\n    }\n</style>\n<table border=\"1\" class=\"dataframe\">\n  <thead>\n    <tr style=\"text-align: right;\">\n      <th></th>\n      <th>ocupacion</th>\n      <th>alcaldia</th>\n      <th>c_p</th>\n      <th>colonia</th>\n      <th>giro</th>\n      <th>num_empleados</th>\n    </tr>\n  </thead>\n  <tbody>\n    <tr>\n      <th>0</th>\n      <td>joyeria�</td>\n      <td>alvaro obregon</td>\n      <td>1260</td>\n      <td>la mexicana</td>\n      <td>joyeria�</td>\n      <td>0</td>\n    </tr>\n    <tr>\n      <th>1</th>\n      <td>tiendas de ropa�</td>\n      <td>alvaro obregon</td>\n      <td>1260</td>\n      <td>calzada jalalpa</td>\n      <td>tiendas de ropa�</td>\n      <td>3</td>\n    </tr>\n    <tr>\n      <th>2</th>\n      <td>tiendas de abarrotes�</td>\n      <td>alvaro obregon</td>\n      <td>1780</td>\n      <td>olivar de los padres</td>\n      <td>tiendas de abarrotes�</td>\n      <td>0</td>\n    </tr>\n    <tr>\n      <th>3</th>\n      <td>tiendas de abarrotes�</td>\n      <td>alvaro obregon</td>\n      <td>1780</td>\n      <td>olivar de los padres</td>\n      <td>tiendas de abarrotes�</td>\n      <td>3</td>\n    </tr>\n    <tr>\n      <th>4</th>\n      <td>tiendas de abarrotes�</td>\n      <td>alvaro obregon</td>\n      <td>1780</td>\n      <td>olivar de los padres</td>\n      <td>tiendas de abarrotes�</td>\n      <td>0</td>\n    </tr>\n  </tbody>\n</table>\n</div>"
     },
     "metadata": {},
     "execution_count": 332
    }
   ],
   "source": [
    "negocios_df.head()"
   ]
  },
  {
   "cell_type": "code",
   "execution_count": 333,
   "metadata": {},
   "outputs": [
    {
     "output_type": "stream",
     "name": "stdout",
     "text": [
      "1410: \n\t ['barrio norte']\n1377: \n\t ['jalalpa el grande']\n1900: \n\t ['jardines del pedregal']\n1600: \n\t ['merced gomez']\n1408: \n\t ['olivar del conde 2da seccion ii']\n1290: \n\t ['piloto (adolfo lopez mateos)', 'piloto (adolfo lopez mateos) (ampl)', 'presidentes']\n1400: \n\t ['olivar del conde 1ra seccion i', 'olivar del conde 1ra seccion ii']\n3660: \n\t ['san simon ticumac']\n3300: \n\t ['portales i', 'portales iii']\n4369: \n\t ['pedregal de sto domingo iii', 'pedregal de santa ursula i', 'pedregal de sto domingo vi', 'pedregal de santa ursula iv', 'pedregal de sto domingo iv', 'pedregal de santa ursula ii', 'pedregal de sto domingo ii', 'pedregal de sto domingo v', 'pedregal de sto domingo vii']\n4600: \n\t ['pedregal de santa ursula iii']\n12400: \n\t ['centro iv', 'centro vi', 'centro viii', 'san pablo oztotepec (pblo)']\n16450: \n\t ['santa maria la ribera iv', 'santa maria la ribera i', 'santa maria la ribera ii', 'santa maria nativitas (pblo)']\n6450: \n\t ['atlampa']\n6820: \n\t ['transito']\n6720: \n\t ['doctores i', 'doctores iv', 'doctores ii', 'doctores iii']\n6700: \n\t ['roma norte iii', 'roma norte ii']\n6800: \n\t ['obrera iv', 'obrera iii', 'obrera i', 'obrera ii']\n7500: \n\t ['la pradera']\n7360: \n\t ['san pedro zacatenco (pblo)']\n7890: \n\t ['nueva tenochtitlan']\n7510: \n\t ['san felipe de jesus ii', 'san felipe de jesus iv', 'san felipe de jesus iii']\n7830: \n\t ['gertrudis sanchez 3a seccion']\n8300: \n\t ['santa anita']\n8500: \n\t ['agricola oriental vi', 'agricola oriental i', 'agricola oriental v']\n9700: \n\t ['desarrollo urbano quetzalcoatl  iii', 'desarrollo urbano quetzalcoatl  ii']\n9140: \n\t ['santa martha acatitla']\n9709: \n\t ['lomas de san lorenzo i']\n9790: \n\t ['san lorenzo tezonco (pblo)']\n9060: \n\t ['escuadron 201', 'sector popular']\n11320: \n\t ['anahuac i', 'anahuac ii']\n11400: \n\t ['popotla ii']\n11800: \n\t ['escandon ii']\n11370: \n\t ['tlaxpana']\n12100: \n\t ['san antonio tecomitl (pblo)']\n12300: \n\t ['san salvador cuauhtenco (pblo)']\n13400: \n\t ['san francisco tlaltenco (pblo)']\n13310: \n\t ['san miguel zapotitla']\n13360: \n\t ['la conchita i', 'la conchita ii']\n13420: \n\t ['selene (ampl)', 'selene 1a secc']\n13530: \n\t ['jaime torres bodet']\n13099: \n\t ['san andres mixquic (pblo)']\n13210: \n\t ['los olivos']\n14400: \n\t ['san andres totoltepec (pblo)']\n13200: \n\t ['miguel hidalgo - tlal', 'miguel hidalgo ote', 'miguel hidalgo - tlah']\n14650: \n\t ['san pedro martir (pblo)']\n14100: \n\t ['pedregal de sn nicolas 1a secc', 'pedregal de sn nicolas 2a secc', 'pedregal de sn nicolas 3a secc']\n14250: \n\t ['ampliacion miguel hidalgo 2a secc', 'ampliacion miguel hidalgo 3a secc']\n14700: \n\t ['san miguel ajusco (pblo)']\n14240: \n\t ['lomas de  padierna ii', 'lomas de  padierna i']\n15500: \n\t ['moctezuma 2a seccion ii', 'moctezuma 2a seccion iv']\n15270: \n\t ['morelos ii - vc']\n15640: \n\t ['el arenal 4a seccion']\n16200: \n\t ['santiago tepalcatlalpan (pblo)']\n1800: \n\t ['san bartolo ameyalco (pblo)']\n1619: \n\t ['la martinica']\n1780: \n\t ['olivar de los padres']\n1830: \n\t ['santa rosa xochiac (pblo)']\n1080: \n\t ['progreso tizapan']\n2100: \n\t ['el rosario c (u hab)']\n2459: \n\t ['tezozomoc']\n4300: \n\t ['ajusco i', 'ajusco ii', 'ajusco iii']\n5219: \n\t ['navidad (granjas de navidad)']\n6920: \n\t ['san simon tolnahuac']\n6300: \n\t ['guerrero i', 'guerrero iii', 'guerrero ii']\n7920: \n\t ['san juan de aragon (pblo)']\n7210: \n\t ['chalma de guadalupe i']\n7530: \n\t ['campestre aragon i', 'campestre aragon ii']\n7960: \n\t ['casas aleman (ampl) ii']\n7140: \n\t ['la forestal']\n8930: \n\t ['campamento 2 de octubre i']\n9900: \n\t ['san antonio (barr)']\n9910: \n\t ['mirasoles (u hab)']\n9860: \n\t ['cerro de la estrella i']\n9740: \n\t ['presidentes de mexico']\n9440: \n\t ['san andres tetepilco (pblo)']\n9300: \n\t ['guadalupe del moral']\n10320: \n\t ['el tanque']\n10600: \n\t ['el rosal']\n11410: \n\t ['tacuba', 'tacubaya']\n12200: \n\t ['san pedro atocpan (pblo)']\n13270: \n\t ['del mar sur']\n13000: \n\t ['san juan ixtayopan (pblo)']\n13219: \n\t ['las arboledas']\n14430: \n\t ['tlalcoligia']\n14710: \n\t ['santo tomas ajusco (pblo)']\n15670: \n\t ['adolfo lopez mateos']\n15300: \n\t ['20 de noviembre']\n15000: \n\t ['ignacio zaragoza i']\n16500: \n\t ['santa cruz acalpixca (pblo)']\n16090: \n\t ['xaltocan (barr)', 'caltongo (barr)']\n16800: \n\t ['san marcos (ampl)', 'san mateo xalpa (pblo)']\n16300: \n\t ['san lucas xochimanca (pblo)']\n1860: \n\t ['lomas de la era']\n1090: \n\t ['tizapan_tizapan san angel']\n1840: \n\t ['torres de potrero']\n1296: \n\t ['jalalpa tepito']\n1140: \n\t ['bella vista']\n1530: \n\t ['corpus christy']\n1279: \n\t ['lomas de becerra']\n1376: \n\t ['santa fe (u hab)']\n1260: \n\t ['calzada jalalpa']\n2120: \n\t ['san martin xochinahuac (pblo)']\n2400: \n\t ['san juan tlihuaca (pblo)']\n3310: \n\t ['sta cruz atoyac']\n3800: \n\t ['san pedro de los  pinos']\n3500: \n\t ['nativitas']\n3600: \n\t ['narvarte i', 'vertiz narvarte']\n4330: \n\t ['los reyes (pblo)']\n4650: \n\t ['santa ursula coapa (pblo)']\n4630: \n\t ['adolfo ruiz cortines i']\n6600: \n\t ['juarez']\n6220: \n\t ['peralvillo i']\n6470: \n\t ['san rafael ii']\n6030: \n\t ['tabacalera']\n6200: \n\t ['morelos ii - cu']\n7900: \n\t ['cuchilla del tesoro']\n8100: \n\t ['pantitlan ii']\n9280: \n\t ['jacarandas']\n9760: \n\t ['consejo agrarista mexicano i']\n9780: \n\t ['lomas de san lorenzo ii']\n9030: \n\t ['paseos de churubusco']\n9830: \n\t ['los angeles', 'el manto']\n9360: \n\t ['san miguel (barr)']\n9500: \n\t ['santa maria aztahuacan (ej) i']\n9850: \n\t ['san juan xalpa ii']\n9210: \n\t ['tepalcates ii']\n10400: \n\t ['san jeronimo aculco - lidice (pblo)']\n10300: \n\t ['san bernabe ocotepec (pblo)']\n10010: \n\t ['la malinche']\n10330: \n\t ['las cruces']\n10020: \n\t ['cuauhtemoc']\n12000: \n\t ['villa milpa alta (pblo)']\n13070: \n\t ['san pedro tlahuac (pblo)']\n13300: \n\t ['santiago zapotitlan (pblo)', 'unidades habitacionales de santa ana poniente i']\n13280: \n\t ['agricola metropolitana']\n13020: \n\t ['san jose']\n13273: \n\t ['la draga']\n13010: \n\t ['santa cecilia']\n13319: \n\t ['la estacion']\n14500: \n\t ['san miguel topilejo (pblo)']\n14000: \n\t ['tlalpan centro']\n16600: \n\t ['san gregorio atlapulco (pblo)']\n16700: \n\t ['santiago tulyehualco (pblo)']\n16100: \n\t ['santa cruz xochitepec (pblo)']\n16020: \n\t ['santa maria tepepan (pblo)']\n16880: \n\t ['santa cecilia tepetlapa (pblo)']\n16029: \n\t ['tepepan (ampl)']\n"
     ]
    }
   ],
   "source": [
    "cp_col_dict = dict()\n",
    "for _, row in colonias_df.iterrows():\n",
    "    colonia = row.colonia\n",
    "    cp = row.cp\n",
    "    if cp not in cp_col_dict:\n",
    "        cp_col_dict[cp] = []\n",
    "    cp_col_dict[cp].append(colonia)\n",
    "for c in cp_col_dict.keys():\n",
    "    print(f'{c}: \\n\\t {cp_col_dict[c]}')"
   ]
  },
  {
   "cell_type": "code",
   "execution_count": 334,
   "metadata": {},
   "outputs": [],
   "source": [
    "colonias_to_drop = set()\n",
    "for index, row in negocios_df.iterrows():\n",
    "    cp = row.c_p\n",
    "    colonia = row.colonia.lower()\n",
    "    if cp in cp_col_dict:\n",
    "        found = False\n",
    "        for real_col in cp_col_dict[cp]:\n",
    "            if should_be_equal(colonia, real_col):\n",
    "                found = True\n",
    "        if not found:\n",
    "            colonias_to_drop.add(colonia)"
   ]
  },
  {
   "cell_type": "code",
   "execution_count": 335,
   "metadata": {},
   "outputs": [],
   "source": [
    "negocios_df = negocios_df[~negocios_df.colonia.isin(colonias_to_drop)]"
   ]
  },
  {
   "source": [
    "## Guardar dataframe limpio"
   ],
   "cell_type": "markdown",
   "metadata": {}
  },
  {
   "cell_type": "code",
   "execution_count": 336,
   "metadata": {},
   "outputs": [],
   "source": [
    "negocios_df.to_csv(data_path + 'microempresas_clean.csv', index=False)"
   ]
  },
  {
   "cell_type": "code",
   "execution_count": 337,
   "metadata": {},
   "outputs": [
    {
     "output_type": "execute_result",
     "data": {
      "text/plain": [
       "                                 ocupacion        alcaldia   c_p  \\\n",
       "1                         tiendas de ropa�  alvaro obregon  1260   \n",
       "2                    tiendas de abarrotes�  alvaro obregon  1780   \n",
       "3                    tiendas de abarrotes�  alvaro obregon  1780   \n",
       "4                    tiendas de abarrotes�  alvaro obregon  1780   \n",
       "6  venta de zapatos y productos de belleza  alvaro obregon  1290   \n",
       "\n",
       "                colonia                                     giro num_empleados  \n",
       "1       calzada jalalpa                         tiendas de ropa�             3  \n",
       "2  olivar de los padres                    tiendas de abarrotes�             0  \n",
       "3  olivar de los padres                    tiendas de abarrotes�             3  \n",
       "4  olivar de los padres                    tiendas de abarrotes�             0  \n",
       "6           presidentes  venta de zapatos y productos de belleza             0  "
      ],
      "text/html": "<div>\n<style scoped>\n    .dataframe tbody tr th:only-of-type {\n        vertical-align: middle;\n    }\n\n    .dataframe tbody tr th {\n        vertical-align: top;\n    }\n\n    .dataframe thead th {\n        text-align: right;\n    }\n</style>\n<table border=\"1\" class=\"dataframe\">\n  <thead>\n    <tr style=\"text-align: right;\">\n      <th></th>\n      <th>ocupacion</th>\n      <th>alcaldia</th>\n      <th>c_p</th>\n      <th>colonia</th>\n      <th>giro</th>\n      <th>num_empleados</th>\n    </tr>\n  </thead>\n  <tbody>\n    <tr>\n      <th>1</th>\n      <td>tiendas de ropa�</td>\n      <td>alvaro obregon</td>\n      <td>1260</td>\n      <td>calzada jalalpa</td>\n      <td>tiendas de ropa�</td>\n      <td>3</td>\n    </tr>\n    <tr>\n      <th>2</th>\n      <td>tiendas de abarrotes�</td>\n      <td>alvaro obregon</td>\n      <td>1780</td>\n      <td>olivar de los padres</td>\n      <td>tiendas de abarrotes�</td>\n      <td>0</td>\n    </tr>\n    <tr>\n      <th>3</th>\n      <td>tiendas de abarrotes�</td>\n      <td>alvaro obregon</td>\n      <td>1780</td>\n      <td>olivar de los padres</td>\n      <td>tiendas de abarrotes�</td>\n      <td>3</td>\n    </tr>\n    <tr>\n      <th>4</th>\n      <td>tiendas de abarrotes�</td>\n      <td>alvaro obregon</td>\n      <td>1780</td>\n      <td>olivar de los padres</td>\n      <td>tiendas de abarrotes�</td>\n      <td>0</td>\n    </tr>\n    <tr>\n      <th>6</th>\n      <td>venta de zapatos y productos de belleza</td>\n      <td>alvaro obregon</td>\n      <td>1290</td>\n      <td>presidentes</td>\n      <td>venta de zapatos y productos de belleza</td>\n      <td>0</td>\n    </tr>\n  </tbody>\n</table>\n</div>"
     },
     "metadata": {},
     "execution_count": 337
    }
   ],
   "source": [
    "negocios_df.head()"
   ]
  },
  {
   "cell_type": "code",
   "execution_count": 338,
   "metadata": {},
   "outputs": [
    {
     "output_type": "execute_result",
     "data": {
      "text/plain": [
       "(10747, 6)"
      ]
     },
     "metadata": {},
     "execution_count": 338
    }
   ],
   "source": [
    "negocios_df.shape"
   ]
  }
 ]
}