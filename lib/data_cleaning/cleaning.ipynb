{
 "metadata": {
  "language_info": {
   "codemirror_mode": {
    "name": "ipython",
    "version": 3
   },
   "file_extension": ".py",
   "mimetype": "text/x-python",
   "name": "python",
   "nbconvert_exporter": "python",
   "pygments_lexer": "ipython3",
   "version": "3.8.5-final"
  },
  "orig_nbformat": 2,
  "kernelspec": {
   "name": "python3",
   "display_name": "Python 3",
   "language": "python"
  }
 },
 "nbformat": 4,
 "nbformat_minor": 2,
 "cells": [
  {
   "source": [
    "# Limpieza de Datos "
   ],
   "cell_type": "markdown",
   "metadata": {}
  },
  {
   "source": [
    "## Colonias prioritarias CDMX\n",
    "\n",
    "El archivo ```colonias_prioritarias.csv``` contiene una lista de las 200 colonias de la Ciudad de México con mayor prioridad de atención médica según el gobierno de la ciudad. Este archivo fue extraido de: https://datos.cdmx.gob.mx/dataset/colonias-de-atencion-prioritaria-covid-kioscos"
   ],
   "cell_type": "markdown",
   "metadata": {}
  },
  {
   "cell_type": "code",
   "execution_count": 275,
   "metadata": {},
   "outputs": [],
   "source": [
    "import pandas as pd\n",
    "data_path = '../../data/'"
   ]
  },
  {
   "cell_type": "code",
   "execution_count": 276,
   "metadata": {},
   "outputs": [],
   "source": [
    "colonias_df = pd.read_csv(data_path + 'colonias_prioritarias.csv')\n",
    "colonias_df.columns = colonias_df.columns.str.lower()\n",
    "colonias_df.columns = colonias_df.columns.str.replace(' ', '_')\n",
    "colonias_df.drop(columns=['tasa_activos_(100mil_habitantes)','geo_shape', 'clave_colonia', 'centroide_colonia'], inplace=True)\n",
    "colonias_df.rename(columns={'alcaldía': 'alcaldia', 'población_total':'poblacion_total'}, inplace=True)\n",
    "colonias_df.colonia = colonias_df.colonia.str.lower()\n",
    "colonias_df.alcaldia = colonias_df.alcaldia.str.lower()\n",
    "colonias_df.porcentaje_activos = colonias_df.porcentaje_activos*100"
   ]
  },
  {
   "cell_type": "code",
   "execution_count": 277,
   "metadata": {},
   "outputs": [
    {
     "output_type": "execute_result",
     "data": {
      "text/plain": [
       "         alcaldia                          colonia  casos_activos  \\\n",
       "0  alvaro obregon                     barrio norte             57   \n",
       "1  alvaro obregon                jalalpa el grande             47   \n",
       "2  alvaro obregon            jardines del pedregal             39   \n",
       "3  alvaro obregon                     merced gomez             48   \n",
       "4  alvaro obregon  olivar del conde 2da seccion ii             37   \n",
       "\n",
       "   poblacion_total  porcentaje_activos  \n",
       "0     14367.414210              0.2562  \n",
       "1     10972.245610              0.2112  \n",
       "2     13817.000000              0.1753  \n",
       "3      6992.834615              0.2157  \n",
       "4      8191.441839              0.1663  "
      ],
      "text/html": "<div>\n<style scoped>\n    .dataframe tbody tr th:only-of-type {\n        vertical-align: middle;\n    }\n\n    .dataframe tbody tr th {\n        vertical-align: top;\n    }\n\n    .dataframe thead th {\n        text-align: right;\n    }\n</style>\n<table border=\"1\" class=\"dataframe\">\n  <thead>\n    <tr style=\"text-align: right;\">\n      <th></th>\n      <th>alcaldia</th>\n      <th>colonia</th>\n      <th>casos_activos</th>\n      <th>poblacion_total</th>\n      <th>porcentaje_activos</th>\n    </tr>\n  </thead>\n  <tbody>\n    <tr>\n      <th>0</th>\n      <td>alvaro obregon</td>\n      <td>barrio norte</td>\n      <td>57</td>\n      <td>14367.414210</td>\n      <td>0.2562</td>\n    </tr>\n    <tr>\n      <th>1</th>\n      <td>alvaro obregon</td>\n      <td>jalalpa el grande</td>\n      <td>47</td>\n      <td>10972.245610</td>\n      <td>0.2112</td>\n    </tr>\n    <tr>\n      <th>2</th>\n      <td>alvaro obregon</td>\n      <td>jardines del pedregal</td>\n      <td>39</td>\n      <td>13817.000000</td>\n      <td>0.1753</td>\n    </tr>\n    <tr>\n      <th>3</th>\n      <td>alvaro obregon</td>\n      <td>merced gomez</td>\n      <td>48</td>\n      <td>6992.834615</td>\n      <td>0.2157</td>\n    </tr>\n    <tr>\n      <th>4</th>\n      <td>alvaro obregon</td>\n      <td>olivar del conde 2da seccion ii</td>\n      <td>37</td>\n      <td>8191.441839</td>\n      <td>0.1663</td>\n    </tr>\n  </tbody>\n</table>\n</div>"
     },
     "metadata": {},
     "execution_count": 277
    }
   ],
   "source": [
    "colonias_df.head()"
   ]
  },
  {
   "source": [
    "### Identificación y corrección de valores nulos"
   ],
   "cell_type": "markdown",
   "metadata": {}
  },
  {
   "cell_type": "code",
   "execution_count": 278,
   "metadata": {},
   "outputs": [
    {
     "output_type": "execute_result",
     "data": {
      "text/plain": [
       "alcaldia              0\n",
       "colonia               0\n",
       "casos_activos         0\n",
       "poblacion_total       2\n",
       "porcentaje_activos    0\n",
       "dtype: int64"
      ]
     },
     "metadata": {},
     "execution_count": 278
    }
   ],
   "source": [
    "colonias_df.isna().sum()"
   ]
  },
  {
   "cell_type": "code",
   "execution_count": 279,
   "metadata": {},
   "outputs": [
    {
     "output_type": "execute_result",
     "data": {
      "text/plain": [
       "    alcaldia         colonia  casos_activos  poblacion_total  \\\n",
       "47   tlahuac   la conchita i             22              NaN   \n",
       "111  tlahuac  la conchita ii            102              NaN   \n",
       "\n",
       "     porcentaje_activos  \n",
       "47               0.0989  \n",
       "111              0.4584  "
      ],
      "text/html": "<div>\n<style scoped>\n    .dataframe tbody tr th:only-of-type {\n        vertical-align: middle;\n    }\n\n    .dataframe tbody tr th {\n        vertical-align: top;\n    }\n\n    .dataframe thead th {\n        text-align: right;\n    }\n</style>\n<table border=\"1\" class=\"dataframe\">\n  <thead>\n    <tr style=\"text-align: right;\">\n      <th></th>\n      <th>alcaldia</th>\n      <th>colonia</th>\n      <th>casos_activos</th>\n      <th>poblacion_total</th>\n      <th>porcentaje_activos</th>\n    </tr>\n  </thead>\n  <tbody>\n    <tr>\n      <th>47</th>\n      <td>tlahuac</td>\n      <td>la conchita i</td>\n      <td>22</td>\n      <td>NaN</td>\n      <td>0.0989</td>\n    </tr>\n    <tr>\n      <th>111</th>\n      <td>tlahuac</td>\n      <td>la conchita ii</td>\n      <td>102</td>\n      <td>NaN</td>\n      <td>0.4584</td>\n    </tr>\n  </tbody>\n</table>\n</div>"
     },
     "metadata": {},
     "execution_count": 279
    }
   ],
   "source": [
    "colonias_df[colonias_df.poblacion_total.isna()]"
   ]
  },
  {
   "cell_type": "code",
   "execution_count": 280,
   "metadata": {},
   "outputs": [],
   "source": [
    "colonias_df.loc[47, 'poblacion_total'] = (colonias_df.loc[47].casos_activos * 100) / colonias_df.loc[47].porcentaje_activos\n",
    "colonias_df.loc[111, 'poblacion_total'] = (colonias_df.loc[111].casos_activos * 100) / colonias_df.loc[111].porcentaje_activos"
   ]
  },
  {
   "cell_type": "code",
   "execution_count": 281,
   "metadata": {},
   "outputs": [
    {
     "output_type": "execute_result",
     "data": {
      "text/plain": [
       "alcaldia              0\n",
       "colonia               0\n",
       "casos_activos         0\n",
       "poblacion_total       0\n",
       "porcentaje_activos    0\n",
       "dtype: int64"
      ]
     },
     "metadata": {},
     "execution_count": 281
    }
   ],
   "source": [
    "colonias_df.isna().sum()"
   ]
  },
  {
   "source": [
    "## Guardar dataframe limpio"
   ],
   "cell_type": "markdown",
   "metadata": {}
  },
  {
   "cell_type": "code",
   "execution_count": 282,
   "metadata": {},
   "outputs": [],
   "source": [
    "colonias_df.to_csv(data_path + 'colonias_prioritarias_clean.csv', index=False)"
   ]
  },
  {
   "cell_type": "code",
   "execution_count": 283,
   "metadata": {},
   "outputs": [
    {
     "output_type": "execute_result",
     "data": {
      "text/plain": [
       "         alcaldia                          colonia  casos_activos  \\\n",
       "0  alvaro obregon                     barrio norte             57   \n",
       "1  alvaro obregon                jalalpa el grande             47   \n",
       "2  alvaro obregon            jardines del pedregal             39   \n",
       "3  alvaro obregon                     merced gomez             48   \n",
       "4  alvaro obregon  olivar del conde 2da seccion ii             37   \n",
       "\n",
       "   poblacion_total  porcentaje_activos  \n",
       "0     14367.414210              0.2562  \n",
       "1     10972.245610              0.2112  \n",
       "2     13817.000000              0.1753  \n",
       "3      6992.834615              0.2157  \n",
       "4      8191.441839              0.1663  "
      ],
      "text/html": "<div>\n<style scoped>\n    .dataframe tbody tr th:only-of-type {\n        vertical-align: middle;\n    }\n\n    .dataframe tbody tr th {\n        vertical-align: top;\n    }\n\n    .dataframe thead th {\n        text-align: right;\n    }\n</style>\n<table border=\"1\" class=\"dataframe\">\n  <thead>\n    <tr style=\"text-align: right;\">\n      <th></th>\n      <th>alcaldia</th>\n      <th>colonia</th>\n      <th>casos_activos</th>\n      <th>poblacion_total</th>\n      <th>porcentaje_activos</th>\n    </tr>\n  </thead>\n  <tbody>\n    <tr>\n      <th>0</th>\n      <td>alvaro obregon</td>\n      <td>barrio norte</td>\n      <td>57</td>\n      <td>14367.414210</td>\n      <td>0.2562</td>\n    </tr>\n    <tr>\n      <th>1</th>\n      <td>alvaro obregon</td>\n      <td>jalalpa el grande</td>\n      <td>47</td>\n      <td>10972.245610</td>\n      <td>0.2112</td>\n    </tr>\n    <tr>\n      <th>2</th>\n      <td>alvaro obregon</td>\n      <td>jardines del pedregal</td>\n      <td>39</td>\n      <td>13817.000000</td>\n      <td>0.1753</td>\n    </tr>\n    <tr>\n      <th>3</th>\n      <td>alvaro obregon</td>\n      <td>merced gomez</td>\n      <td>48</td>\n      <td>6992.834615</td>\n      <td>0.2157</td>\n    </tr>\n    <tr>\n      <th>4</th>\n      <td>alvaro obregon</td>\n      <td>olivar del conde 2da seccion ii</td>\n      <td>37</td>\n      <td>8191.441839</td>\n      <td>0.1663</td>\n    </tr>\n  </tbody>\n</table>\n</div>"
     },
     "metadata": {},
     "execution_count": 283
    }
   ],
   "source": [
    "colonias_df.head()"
   ]
  },
  {
   "source": [
    "## Negocios CDMX\n",
    "Esta lista contiene los negocios dentro de la Ciudad de México que solicitaron financiamiento dentro del programa: Financiamiento para Microempresas del Fondo para el Desarrollo Social de la Ciudad de México. \n",
    "\n",
    "La base de datos original se encuentra en: https://datos.cdmx.gob.mx/dataset/solicitudes-financiamiento-microempresas"
   ],
   "cell_type": "markdown",
   "metadata": {}
  },
  {
   "cell_type": "code",
   "execution_count": 284,
   "metadata": {},
   "outputs": [],
   "source": [
    "negocios_df = pd.read_csv(data_path + 'microempresas.csv')"
   ]
  },
  {
   "cell_type": "code",
   "execution_count": 285,
   "metadata": {},
   "outputs": [],
   "source": [
    "def lower_cols_rows(df):\n",
    "    df.columns = df.columns.str.lower()\n",
    "    for column in df.columns:\n",
    "        df[str(column)] = df[str(column)].str.lower()\n",
    "    return df"
   ]
  },
  {
   "cell_type": "code",
   "execution_count": 286,
   "metadata": {},
   "outputs": [],
   "source": [
    "negocios_df.drop(columns=['SEXO', 'FOLIO', 'ESTADO_DE_NACIMIENTO', 'FECHA_INICIO_SOLICITUD', 'FECHA_TERMINO'], inplace=True)\n",
    "negocios_df = lower_cols_rows(negocios_df)"
   ]
  },
  {
   "cell_type": "code",
   "execution_count": 287,
   "metadata": {},
   "outputs": [
    {
     "output_type": "execute_result",
     "data": {
      "text/plain": [
       "               ocupacion        alcaldia   c_p               colonia  \\\n",
       "0               joyeria�  alvaro obregon  1260           la mexicana   \n",
       "1       tiendas de ropa�  alvaro obregon  1260       calzada jalalpa   \n",
       "2  tiendas de abarrotes�  alvaro obregon  1780  olivar de los padres   \n",
       "3  tiendas de abarrotes�  alvaro obregon  1780  olivar de los padres   \n",
       "4  tiendas de abarrotes�  alvaro obregon  1780  olivar de los padres   \n",
       "\n",
       "                    giro num_empleados  estatus  \n",
       "0               joyeria�             0  cobrado  \n",
       "1       tiendas de ropa�             3  cobrado  \n",
       "2  tiendas de abarrotes�             0  cobrado  \n",
       "3  tiendas de abarrotes�             3  cobrado  \n",
       "4  tiendas de abarrotes�             0  cobrado  "
      ],
      "text/html": "<div>\n<style scoped>\n    .dataframe tbody tr th:only-of-type {\n        vertical-align: middle;\n    }\n\n    .dataframe tbody tr th {\n        vertical-align: top;\n    }\n\n    .dataframe thead th {\n        text-align: right;\n    }\n</style>\n<table border=\"1\" class=\"dataframe\">\n  <thead>\n    <tr style=\"text-align: right;\">\n      <th></th>\n      <th>ocupacion</th>\n      <th>alcaldia</th>\n      <th>c_p</th>\n      <th>colonia</th>\n      <th>giro</th>\n      <th>num_empleados</th>\n      <th>estatus</th>\n    </tr>\n  </thead>\n  <tbody>\n    <tr>\n      <th>0</th>\n      <td>joyeria�</td>\n      <td>alvaro obregon</td>\n      <td>1260</td>\n      <td>la mexicana</td>\n      <td>joyeria�</td>\n      <td>0</td>\n      <td>cobrado</td>\n    </tr>\n    <tr>\n      <th>1</th>\n      <td>tiendas de ropa�</td>\n      <td>alvaro obregon</td>\n      <td>1260</td>\n      <td>calzada jalalpa</td>\n      <td>tiendas de ropa�</td>\n      <td>3</td>\n      <td>cobrado</td>\n    </tr>\n    <tr>\n      <th>2</th>\n      <td>tiendas de abarrotes�</td>\n      <td>alvaro obregon</td>\n      <td>1780</td>\n      <td>olivar de los padres</td>\n      <td>tiendas de abarrotes�</td>\n      <td>0</td>\n      <td>cobrado</td>\n    </tr>\n    <tr>\n      <th>3</th>\n      <td>tiendas de abarrotes�</td>\n      <td>alvaro obregon</td>\n      <td>1780</td>\n      <td>olivar de los padres</td>\n      <td>tiendas de abarrotes�</td>\n      <td>3</td>\n      <td>cobrado</td>\n    </tr>\n    <tr>\n      <th>4</th>\n      <td>tiendas de abarrotes�</td>\n      <td>alvaro obregon</td>\n      <td>1780</td>\n      <td>olivar de los padres</td>\n      <td>tiendas de abarrotes�</td>\n      <td>0</td>\n      <td>cobrado</td>\n    </tr>\n  </tbody>\n</table>\n</div>"
     },
     "metadata": {},
     "execution_count": 287
    }
   ],
   "source": [
    "negocios_df.head()"
   ]
  },
  {
   "cell_type": "code",
   "execution_count": 288,
   "metadata": {},
   "outputs": [
    {
     "output_type": "execute_result",
     "data": {
      "text/plain": [
       "(51198, 6)"
      ]
     },
     "metadata": {},
     "execution_count": 288
    }
   ],
   "source": [
    "negocios_df = negocios_df[negocios_df.estatus == 'cobrado']\n",
    "negocios_df.drop(columns=['estatus'], inplace=True)\n",
    "negocios_df.shape"
   ]
  },
  {
   "cell_type": "code",
   "execution_count": 289,
   "metadata": {},
   "outputs": [
    {
     "output_type": "execute_result",
     "data": {
      "text/plain": [
       "ocupacion          9\n",
       "alcaldia           0\n",
       "c_p                1\n",
       "colonia           11\n",
       "giro             128\n",
       "num_empleados      0\n",
       "dtype: int64"
      ]
     },
     "metadata": {},
     "execution_count": 289
    }
   ],
   "source": [
    "negocios_df.isna().sum()"
   ]
  },
  {
   "source": [
    "### Ocupación"
   ],
   "cell_type": "markdown",
   "metadata": {}
  },
  {
   "cell_type": "code",
   "execution_count": 290,
   "metadata": {},
   "outputs": [
    {
     "output_type": "execute_result",
     "data": {
      "text/plain": [
       "       ocupacion             alcaldia    c_p  \\\n",
       "117391       NaN  venustiano carranza  15290   \n",
       "118507       NaN           cuauhtemoc   6220   \n",
       "118524       NaN         azcapotzalco   2630   \n",
       "118532       NaN           iztapalapa   9200   \n",
       "118537       NaN            iztacalco   8910   \n",
       "118542       NaN           iztapalapa   9200   \n",
       "118908       NaN           cuauhtemoc   6720   \n",
       "118923       NaN           iztapalapa   9099   \n",
       "118924       NaN           iztapalapa   9060   \n",
       "\n",
       "                                     colonia  \\\n",
       "117391                            10 de mayo   \n",
       "118507                            peralvillo   \n",
       "118524                              coltongo   \n",
       "118532  unidad habitacional vicente guerrero   \n",
       "118537                     barrio santa cruz   \n",
       "118542  unidad habitacional vicente guerrero   \n",
       "118908                              doctores   \n",
       "118923                  heroes de churubusco   \n",
       "118924                         escuadron 201   \n",
       "\n",
       "                                       giro num_empleados  \n",
       "117391               juegos mecanicos feria             1  \n",
       "118507                            panaderia             1  \n",
       "118524                 purificadora de agua             1  \n",
       "118532                             comercio             1  \n",
       "118537       artesanias y juegos didacticos             1  \n",
       "118542                             comercio             1  \n",
       "118908  promotora deportiva gama soccer, ac             1  \n",
       "118923    liga de futbol siglo xxi plus a.c             1  \n",
       "118924          escuela de futbol pumas 201             1  "
      ],
      "text/html": "<div>\n<style scoped>\n    .dataframe tbody tr th:only-of-type {\n        vertical-align: middle;\n    }\n\n    .dataframe tbody tr th {\n        vertical-align: top;\n    }\n\n    .dataframe thead th {\n        text-align: right;\n    }\n</style>\n<table border=\"1\" class=\"dataframe\">\n  <thead>\n    <tr style=\"text-align: right;\">\n      <th></th>\n      <th>ocupacion</th>\n      <th>alcaldia</th>\n      <th>c_p</th>\n      <th>colonia</th>\n      <th>giro</th>\n      <th>num_empleados</th>\n    </tr>\n  </thead>\n  <tbody>\n    <tr>\n      <th>117391</th>\n      <td>NaN</td>\n      <td>venustiano carranza</td>\n      <td>15290</td>\n      <td>10 de mayo</td>\n      <td>juegos mecanicos feria</td>\n      <td>1</td>\n    </tr>\n    <tr>\n      <th>118507</th>\n      <td>NaN</td>\n      <td>cuauhtemoc</td>\n      <td>6220</td>\n      <td>peralvillo</td>\n      <td>panaderia</td>\n      <td>1</td>\n    </tr>\n    <tr>\n      <th>118524</th>\n      <td>NaN</td>\n      <td>azcapotzalco</td>\n      <td>2630</td>\n      <td>coltongo</td>\n      <td>purificadora de agua</td>\n      <td>1</td>\n    </tr>\n    <tr>\n      <th>118532</th>\n      <td>NaN</td>\n      <td>iztapalapa</td>\n      <td>9200</td>\n      <td>unidad habitacional vicente guerrero</td>\n      <td>comercio</td>\n      <td>1</td>\n    </tr>\n    <tr>\n      <th>118537</th>\n      <td>NaN</td>\n      <td>iztacalco</td>\n      <td>8910</td>\n      <td>barrio santa cruz</td>\n      <td>artesanias y juegos didacticos</td>\n      <td>1</td>\n    </tr>\n    <tr>\n      <th>118542</th>\n      <td>NaN</td>\n      <td>iztapalapa</td>\n      <td>9200</td>\n      <td>unidad habitacional vicente guerrero</td>\n      <td>comercio</td>\n      <td>1</td>\n    </tr>\n    <tr>\n      <th>118908</th>\n      <td>NaN</td>\n      <td>cuauhtemoc</td>\n      <td>6720</td>\n      <td>doctores</td>\n      <td>promotora deportiva gama soccer, ac</td>\n      <td>1</td>\n    </tr>\n    <tr>\n      <th>118923</th>\n      <td>NaN</td>\n      <td>iztapalapa</td>\n      <td>9099</td>\n      <td>heroes de churubusco</td>\n      <td>liga de futbol siglo xxi plus a.c</td>\n      <td>1</td>\n    </tr>\n    <tr>\n      <th>118924</th>\n      <td>NaN</td>\n      <td>iztapalapa</td>\n      <td>9060</td>\n      <td>escuadron 201</td>\n      <td>escuela de futbol pumas 201</td>\n      <td>1</td>\n    </tr>\n  </tbody>\n</table>\n</div>"
     },
     "metadata": {},
     "execution_count": 290
    }
   ],
   "source": [
    "negocios_df[negocios_df.ocupacion.isna()]"
   ]
  },
  {
   "cell_type": "code",
   "execution_count": 291,
   "metadata": {},
   "outputs": [],
   "source": [
    "indices = list(negocios_df[negocios_df.ocupacion.isna()].index)\n",
    "for index in indices:\n",
    "    negocios_df.loc[index, 'ocupacion'] = negocios_df.loc[index, 'giro']"
   ]
  },
  {
   "cell_type": "code",
   "execution_count": 292,
   "metadata": {},
   "outputs": [
    {
     "output_type": "execute_result",
     "data": {
      "text/plain": [
       "                                  ocupacion             alcaldia    c_p  \\\n",
       "117391               juegos mecanicos feria  venustiano carranza  15290   \n",
       "118507                            panaderia           cuauhtemoc   6220   \n",
       "118524                 purificadora de agua         azcapotzalco   2630   \n",
       "118532                             comercio           iztapalapa   9200   \n",
       "118537       artesanias y juegos didacticos            iztacalco   8910   \n",
       "118542                             comercio           iztapalapa   9200   \n",
       "118908  promotora deportiva gama soccer, ac           cuauhtemoc   6720   \n",
       "118923    liga de futbol siglo xxi plus a.c           iztapalapa   9099   \n",
       "118924          escuela de futbol pumas 201           iztapalapa   9060   \n",
       "\n",
       "                                     colonia  \\\n",
       "117391                            10 de mayo   \n",
       "118507                            peralvillo   \n",
       "118524                              coltongo   \n",
       "118532  unidad habitacional vicente guerrero   \n",
       "118537                     barrio santa cruz   \n",
       "118542  unidad habitacional vicente guerrero   \n",
       "118908                              doctores   \n",
       "118923                  heroes de churubusco   \n",
       "118924                         escuadron 201   \n",
       "\n",
       "                                       giro num_empleados  \n",
       "117391               juegos mecanicos feria             1  \n",
       "118507                            panaderia             1  \n",
       "118524                 purificadora de agua             1  \n",
       "118532                             comercio             1  \n",
       "118537       artesanias y juegos didacticos             1  \n",
       "118542                             comercio             1  \n",
       "118908  promotora deportiva gama soccer, ac             1  \n",
       "118923    liga de futbol siglo xxi plus a.c             1  \n",
       "118924          escuela de futbol pumas 201             1  "
      ],
      "text/html": "<div>\n<style scoped>\n    .dataframe tbody tr th:only-of-type {\n        vertical-align: middle;\n    }\n\n    .dataframe tbody tr th {\n        vertical-align: top;\n    }\n\n    .dataframe thead th {\n        text-align: right;\n    }\n</style>\n<table border=\"1\" class=\"dataframe\">\n  <thead>\n    <tr style=\"text-align: right;\">\n      <th></th>\n      <th>ocupacion</th>\n      <th>alcaldia</th>\n      <th>c_p</th>\n      <th>colonia</th>\n      <th>giro</th>\n      <th>num_empleados</th>\n    </tr>\n  </thead>\n  <tbody>\n    <tr>\n      <th>117391</th>\n      <td>juegos mecanicos feria</td>\n      <td>venustiano carranza</td>\n      <td>15290</td>\n      <td>10 de mayo</td>\n      <td>juegos mecanicos feria</td>\n      <td>1</td>\n    </tr>\n    <tr>\n      <th>118507</th>\n      <td>panaderia</td>\n      <td>cuauhtemoc</td>\n      <td>6220</td>\n      <td>peralvillo</td>\n      <td>panaderia</td>\n      <td>1</td>\n    </tr>\n    <tr>\n      <th>118524</th>\n      <td>purificadora de agua</td>\n      <td>azcapotzalco</td>\n      <td>2630</td>\n      <td>coltongo</td>\n      <td>purificadora de agua</td>\n      <td>1</td>\n    </tr>\n    <tr>\n      <th>118532</th>\n      <td>comercio</td>\n      <td>iztapalapa</td>\n      <td>9200</td>\n      <td>unidad habitacional vicente guerrero</td>\n      <td>comercio</td>\n      <td>1</td>\n    </tr>\n    <tr>\n      <th>118537</th>\n      <td>artesanias y juegos didacticos</td>\n      <td>iztacalco</td>\n      <td>8910</td>\n      <td>barrio santa cruz</td>\n      <td>artesanias y juegos didacticos</td>\n      <td>1</td>\n    </tr>\n    <tr>\n      <th>118542</th>\n      <td>comercio</td>\n      <td>iztapalapa</td>\n      <td>9200</td>\n      <td>unidad habitacional vicente guerrero</td>\n      <td>comercio</td>\n      <td>1</td>\n    </tr>\n    <tr>\n      <th>118908</th>\n      <td>promotora deportiva gama soccer, ac</td>\n      <td>cuauhtemoc</td>\n      <td>6720</td>\n      <td>doctores</td>\n      <td>promotora deportiva gama soccer, ac</td>\n      <td>1</td>\n    </tr>\n    <tr>\n      <th>118923</th>\n      <td>liga de futbol siglo xxi plus a.c</td>\n      <td>iztapalapa</td>\n      <td>9099</td>\n      <td>heroes de churubusco</td>\n      <td>liga de futbol siglo xxi plus a.c</td>\n      <td>1</td>\n    </tr>\n    <tr>\n      <th>118924</th>\n      <td>escuela de futbol pumas 201</td>\n      <td>iztapalapa</td>\n      <td>9060</td>\n      <td>escuadron 201</td>\n      <td>escuela de futbol pumas 201</td>\n      <td>1</td>\n    </tr>\n  </tbody>\n</table>\n</div>"
     },
     "metadata": {},
     "execution_count": 292
    }
   ],
   "source": [
    "negocios_df[negocios_df.index.isin(indices)]"
   ]
  },
  {
   "cell_type": "code",
   "execution_count": 293,
   "metadata": {},
   "outputs": [
    {
     "output_type": "execute_result",
     "data": {
      "text/plain": [
       "ocupacion          0\n",
       "alcaldia           0\n",
       "c_p                1\n",
       "colonia           11\n",
       "giro             128\n",
       "num_empleados      0\n",
       "dtype: int64"
      ]
     },
     "metadata": {},
     "execution_count": 293
    }
   ],
   "source": [
    "negocios_df.isna().sum()"
   ]
  },
  {
   "source": [
    "### Colonia"
   ],
   "cell_type": "markdown",
   "metadata": {}
  },
  {
   "cell_type": "code",
   "execution_count": 294,
   "metadata": {},
   "outputs": [
    {
     "output_type": "execute_result",
     "data": {
      "text/plain": [
       "          ocupacion             alcaldia    c_p colonia  \\\n",
       "38833   comerciante             coyoacan   4470     NaN   \n",
       "38950   comerciante             coyoacan   4330     NaN   \n",
       "38991   comerciante              tlahuac  13300     NaN   \n",
       "40360   comerciante  venustiano carranza  15290     NaN   \n",
       "40361   comerciante              tlalpan  14738     NaN   \n",
       "118074  comerciante           xochimilco  16090     NaN   \n",
       "118123  comerciante              tlahuac  13200     NaN   \n",
       "118195  comerciante              tlalpan  14430     NaN   \n",
       "118203  comerciante             coyoacan   4480     NaN   \n",
       "118289  comerciante           xochimilco  16090     NaN   \n",
       "118585  comerciante             coyoacan   4380     NaN   \n",
       "\n",
       "                                            giro num_empleados  \n",
       "38833                        tienda de abarrotes             2  \n",
       "38950                                 ferreteria             4  \n",
       "38991                                     cocina             1  \n",
       "40360                                  alimentos             2  \n",
       "40361                 renta de equipo de computo             1  \n",
       "118074                                    cocina             3  \n",
       "118123  venta de fragancias, escncias y perfumes             1  \n",
       "118195                                 cafeteria             1  \n",
       "118203                venta de ropa y accesorios             1  \n",
       "118289                                 panaderia             2  \n",
       "118585                          venta de tamales             1  "
      ],
      "text/html": "<div>\n<style scoped>\n    .dataframe tbody tr th:only-of-type {\n        vertical-align: middle;\n    }\n\n    .dataframe tbody tr th {\n        vertical-align: top;\n    }\n\n    .dataframe thead th {\n        text-align: right;\n    }\n</style>\n<table border=\"1\" class=\"dataframe\">\n  <thead>\n    <tr style=\"text-align: right;\">\n      <th></th>\n      <th>ocupacion</th>\n      <th>alcaldia</th>\n      <th>c_p</th>\n      <th>colonia</th>\n      <th>giro</th>\n      <th>num_empleados</th>\n    </tr>\n  </thead>\n  <tbody>\n    <tr>\n      <th>38833</th>\n      <td>comerciante</td>\n      <td>coyoacan</td>\n      <td>4470</td>\n      <td>NaN</td>\n      <td>tienda de abarrotes</td>\n      <td>2</td>\n    </tr>\n    <tr>\n      <th>38950</th>\n      <td>comerciante</td>\n      <td>coyoacan</td>\n      <td>4330</td>\n      <td>NaN</td>\n      <td>ferreteria</td>\n      <td>4</td>\n    </tr>\n    <tr>\n      <th>38991</th>\n      <td>comerciante</td>\n      <td>tlahuac</td>\n      <td>13300</td>\n      <td>NaN</td>\n      <td>cocina</td>\n      <td>1</td>\n    </tr>\n    <tr>\n      <th>40360</th>\n      <td>comerciante</td>\n      <td>venustiano carranza</td>\n      <td>15290</td>\n      <td>NaN</td>\n      <td>alimentos</td>\n      <td>2</td>\n    </tr>\n    <tr>\n      <th>40361</th>\n      <td>comerciante</td>\n      <td>tlalpan</td>\n      <td>14738</td>\n      <td>NaN</td>\n      <td>renta de equipo de computo</td>\n      <td>1</td>\n    </tr>\n    <tr>\n      <th>118074</th>\n      <td>comerciante</td>\n      <td>xochimilco</td>\n      <td>16090</td>\n      <td>NaN</td>\n      <td>cocina</td>\n      <td>3</td>\n    </tr>\n    <tr>\n      <th>118123</th>\n      <td>comerciante</td>\n      <td>tlahuac</td>\n      <td>13200</td>\n      <td>NaN</td>\n      <td>venta de fragancias, escncias y perfumes</td>\n      <td>1</td>\n    </tr>\n    <tr>\n      <th>118195</th>\n      <td>comerciante</td>\n      <td>tlalpan</td>\n      <td>14430</td>\n      <td>NaN</td>\n      <td>cafeteria</td>\n      <td>1</td>\n    </tr>\n    <tr>\n      <th>118203</th>\n      <td>comerciante</td>\n      <td>coyoacan</td>\n      <td>4480</td>\n      <td>NaN</td>\n      <td>venta de ropa y accesorios</td>\n      <td>1</td>\n    </tr>\n    <tr>\n      <th>118289</th>\n      <td>comerciante</td>\n      <td>xochimilco</td>\n      <td>16090</td>\n      <td>NaN</td>\n      <td>panaderia</td>\n      <td>2</td>\n    </tr>\n    <tr>\n      <th>118585</th>\n      <td>comerciante</td>\n      <td>coyoacan</td>\n      <td>4380</td>\n      <td>NaN</td>\n      <td>venta de tamales</td>\n      <td>1</td>\n    </tr>\n  </tbody>\n</table>\n</div>"
     },
     "metadata": {},
     "execution_count": 294
    }
   ],
   "source": [
    "negocios_df[negocios_df.colonia.isna()]"
   ]
  },
  {
   "cell_type": "code",
   "execution_count": 295,
   "metadata": {},
   "outputs": [],
   "source": [
    "indices = list(negocios_df[negocios_df.colonia.isna()].index)"
   ]
  },
  {
   "cell_type": "code",
   "execution_count": 296,
   "metadata": {},
   "outputs": [],
   "source": [
    "negocios_df.loc[38833, 'colonia'] = 'Presidentes Ejidales 1a Seccion'\n",
    "negocios_df.loc[38950, 'colonia'] = 'El Rosedal'\n",
    "negocios_df.loc[38991, 'colonia'] = 'Santa Ana Centro'\n",
    "negocios_df.loc[40360, 'colonia'] = '10 de Mayo '\n",
    "negocios_df.loc[40361, 'colonia'] = 'Bosques del Pedregal'\n",
    "negocios_df.loc[118074, 'colonia'] = 'Tablas de San Lorenzo'\n",
    "negocios_df.loc[118123, 'colonia'] = 'Miguel Hidalgo'\n",
    "negocios_df.loc[118195, 'colonia'] = 'Tlalcoligia'\n",
    "negocios_df.loc[118203, 'colonia'] = 'Culhuacan CTM CROC'\n",
    "negocios_df.loc[118289, 'colonia'] = 'Tablas de San Lorenzo'\n",
    "negocios_df.loc[118585, 'colonia'] = 'El Rosario'"
   ]
  },
  {
   "cell_type": "code",
   "execution_count": 297,
   "metadata": {},
   "outputs": [
    {
     "output_type": "execute_result",
     "data": {
      "text/plain": [
       "          ocupacion             alcaldia    c_p  \\\n",
       "38833   comerciante             coyoacan   4470   \n",
       "38950   comerciante             coyoacan   4330   \n",
       "38991   comerciante              tlahuac  13300   \n",
       "40360   comerciante  venustiano carranza  15290   \n",
       "40361   comerciante              tlalpan  14738   \n",
       "118074  comerciante           xochimilco  16090   \n",
       "118123  comerciante              tlahuac  13200   \n",
       "118195  comerciante              tlalpan  14430   \n",
       "118203  comerciante             coyoacan   4480   \n",
       "118289  comerciante           xochimilco  16090   \n",
       "118585  comerciante             coyoacan   4380   \n",
       "\n",
       "                                colonia  \\\n",
       "38833   Presidentes Ejidales 1a Seccion   \n",
       "38950                        El Rosedal   \n",
       "38991                  Santa Ana Centro   \n",
       "40360                       10 de Mayo    \n",
       "40361              Bosques del Pedregal   \n",
       "118074            Tablas de San Lorenzo   \n",
       "118123                   Miguel Hidalgo   \n",
       "118195                      Tlalcoligia   \n",
       "118203               Culhuacan CTM CROC   \n",
       "118289            Tablas de San Lorenzo   \n",
       "118585                       El Rosario   \n",
       "\n",
       "                                            giro num_empleados  \n",
       "38833                        tienda de abarrotes             2  \n",
       "38950                                 ferreteria             4  \n",
       "38991                                     cocina             1  \n",
       "40360                                  alimentos             2  \n",
       "40361                 renta de equipo de computo             1  \n",
       "118074                                    cocina             3  \n",
       "118123  venta de fragancias, escncias y perfumes             1  \n",
       "118195                                 cafeteria             1  \n",
       "118203                venta de ropa y accesorios             1  \n",
       "118289                                 panaderia             2  \n",
       "118585                          venta de tamales             1  "
      ],
      "text/html": "<div>\n<style scoped>\n    .dataframe tbody tr th:only-of-type {\n        vertical-align: middle;\n    }\n\n    .dataframe tbody tr th {\n        vertical-align: top;\n    }\n\n    .dataframe thead th {\n        text-align: right;\n    }\n</style>\n<table border=\"1\" class=\"dataframe\">\n  <thead>\n    <tr style=\"text-align: right;\">\n      <th></th>\n      <th>ocupacion</th>\n      <th>alcaldia</th>\n      <th>c_p</th>\n      <th>colonia</th>\n      <th>giro</th>\n      <th>num_empleados</th>\n    </tr>\n  </thead>\n  <tbody>\n    <tr>\n      <th>38833</th>\n      <td>comerciante</td>\n      <td>coyoacan</td>\n      <td>4470</td>\n      <td>Presidentes Ejidales 1a Seccion</td>\n      <td>tienda de abarrotes</td>\n      <td>2</td>\n    </tr>\n    <tr>\n      <th>38950</th>\n      <td>comerciante</td>\n      <td>coyoacan</td>\n      <td>4330</td>\n      <td>El Rosedal</td>\n      <td>ferreteria</td>\n      <td>4</td>\n    </tr>\n    <tr>\n      <th>38991</th>\n      <td>comerciante</td>\n      <td>tlahuac</td>\n      <td>13300</td>\n      <td>Santa Ana Centro</td>\n      <td>cocina</td>\n      <td>1</td>\n    </tr>\n    <tr>\n      <th>40360</th>\n      <td>comerciante</td>\n      <td>venustiano carranza</td>\n      <td>15290</td>\n      <td>10 de Mayo</td>\n      <td>alimentos</td>\n      <td>2</td>\n    </tr>\n    <tr>\n      <th>40361</th>\n      <td>comerciante</td>\n      <td>tlalpan</td>\n      <td>14738</td>\n      <td>Bosques del Pedregal</td>\n      <td>renta de equipo de computo</td>\n      <td>1</td>\n    </tr>\n    <tr>\n      <th>118074</th>\n      <td>comerciante</td>\n      <td>xochimilco</td>\n      <td>16090</td>\n      <td>Tablas de San Lorenzo</td>\n      <td>cocina</td>\n      <td>3</td>\n    </tr>\n    <tr>\n      <th>118123</th>\n      <td>comerciante</td>\n      <td>tlahuac</td>\n      <td>13200</td>\n      <td>Miguel Hidalgo</td>\n      <td>venta de fragancias, escncias y perfumes</td>\n      <td>1</td>\n    </tr>\n    <tr>\n      <th>118195</th>\n      <td>comerciante</td>\n      <td>tlalpan</td>\n      <td>14430</td>\n      <td>Tlalcoligia</td>\n      <td>cafeteria</td>\n      <td>1</td>\n    </tr>\n    <tr>\n      <th>118203</th>\n      <td>comerciante</td>\n      <td>coyoacan</td>\n      <td>4480</td>\n      <td>Culhuacan CTM CROC</td>\n      <td>venta de ropa y accesorios</td>\n      <td>1</td>\n    </tr>\n    <tr>\n      <th>118289</th>\n      <td>comerciante</td>\n      <td>xochimilco</td>\n      <td>16090</td>\n      <td>Tablas de San Lorenzo</td>\n      <td>panaderia</td>\n      <td>2</td>\n    </tr>\n    <tr>\n      <th>118585</th>\n      <td>comerciante</td>\n      <td>coyoacan</td>\n      <td>4380</td>\n      <td>El Rosario</td>\n      <td>venta de tamales</td>\n      <td>1</td>\n    </tr>\n  </tbody>\n</table>\n</div>"
     },
     "metadata": {},
     "execution_count": 297
    }
   ],
   "source": [
    "negocios_df[negocios_df.index.isin(indices)]"
   ]
  },
  {
   "cell_type": "code",
   "execution_count": 298,
   "metadata": {},
   "outputs": [
    {
     "output_type": "execute_result",
     "data": {
      "text/plain": [
       "ocupacion          0\n",
       "alcaldia           0\n",
       "c_p                1\n",
       "colonia            0\n",
       "giro             128\n",
       "num_empleados      0\n",
       "dtype: int64"
      ]
     },
     "metadata": {},
     "execution_count": 298
    }
   ],
   "source": [
    "negocios_df.isna().sum()"
   ]
  },
  {
   "source": [
    "### Giro"
   ],
   "cell_type": "markdown",
   "metadata": {}
  },
  {
   "cell_type": "code",
   "execution_count": 299,
   "metadata": {},
   "outputs": [],
   "source": [
    "indices = list(negocios_df[negocios_df.giro.isna()].index)\n",
    "for index in indices:\n",
    "    negocios_df.loc[index, 'giro'] = negocios_df.loc[index, 'ocupacion']"
   ]
  },
  {
   "cell_type": "code",
   "execution_count": 300,
   "metadata": {},
   "outputs": [
    {
     "output_type": "execute_result",
     "data": {
      "text/plain": [
       "                        ocupacion        alcaldia    c_p  \\\n",
       "8676                  autoempleda      iztapalapa   9230   \n",
       "10342                 comerciante    azcapotzalco   2400   \n",
       "10349                 comerciante      iztapalapa   9840   \n",
       "10505                 comerciante  alvaro obregon   1830   \n",
       "11029                 comerciante      cuauhtemoc   6860   \n",
       "...                           ...             ...    ...   \n",
       "86127               restaurantero      iztapalapa   9230   \n",
       "86174                   estilista         tlahuac  13430   \n",
       "86391                 comerciante      xochimilco  16038   \n",
       "87050  albañil , pintor y plomero       iztacalco   8710   \n",
       "87300                 comerciante      xochimilco  16035   \n",
       "\n",
       "                           colonia                        giro num_empleados  \n",
       "8676     jos maria morelos y pavon                 autoempleda             1  \n",
       "10342            san juan tlihuaca                 comerciante             2  \n",
       "10349           los reyes culhuacn                 comerciante             1  \n",
       "10505           santa rosa xochiac                 comerciante             2  \n",
       "11029                 vista alegre                 comerciante             2  \n",
       "...                            ...                         ...           ...  \n",
       "86127    jos maria morelos y pavon               restaurantero             3  \n",
       "86174            ampliacion selene                   estilista             3  \n",
       "86391  ampliacion san marcos norte                 comerciante             1  \n",
       "87050                    tlazintla  albañil , pintor y plomero             2  \n",
       "87300              rinconada coapa                 comerciante             2  \n",
       "\n",
       "[128 rows x 6 columns]"
      ],
      "text/html": "<div>\n<style scoped>\n    .dataframe tbody tr th:only-of-type {\n        vertical-align: middle;\n    }\n\n    .dataframe tbody tr th {\n        vertical-align: top;\n    }\n\n    .dataframe thead th {\n        text-align: right;\n    }\n</style>\n<table border=\"1\" class=\"dataframe\">\n  <thead>\n    <tr style=\"text-align: right;\">\n      <th></th>\n      <th>ocupacion</th>\n      <th>alcaldia</th>\n      <th>c_p</th>\n      <th>colonia</th>\n      <th>giro</th>\n      <th>num_empleados</th>\n    </tr>\n  </thead>\n  <tbody>\n    <tr>\n      <th>8676</th>\n      <td>autoempleda</td>\n      <td>iztapalapa</td>\n      <td>9230</td>\n      <td>jos maria morelos y pavon</td>\n      <td>autoempleda</td>\n      <td>1</td>\n    </tr>\n    <tr>\n      <th>10342</th>\n      <td>comerciante</td>\n      <td>azcapotzalco</td>\n      <td>2400</td>\n      <td>san juan tlihuaca</td>\n      <td>comerciante</td>\n      <td>2</td>\n    </tr>\n    <tr>\n      <th>10349</th>\n      <td>comerciante</td>\n      <td>iztapalapa</td>\n      <td>9840</td>\n      <td>los reyes culhuacn</td>\n      <td>comerciante</td>\n      <td>1</td>\n    </tr>\n    <tr>\n      <th>10505</th>\n      <td>comerciante</td>\n      <td>alvaro obregon</td>\n      <td>1830</td>\n      <td>santa rosa xochiac</td>\n      <td>comerciante</td>\n      <td>2</td>\n    </tr>\n    <tr>\n      <th>11029</th>\n      <td>comerciante</td>\n      <td>cuauhtemoc</td>\n      <td>6860</td>\n      <td>vista alegre</td>\n      <td>comerciante</td>\n      <td>2</td>\n    </tr>\n    <tr>\n      <th>...</th>\n      <td>...</td>\n      <td>...</td>\n      <td>...</td>\n      <td>...</td>\n      <td>...</td>\n      <td>...</td>\n    </tr>\n    <tr>\n      <th>86127</th>\n      <td>restaurantero</td>\n      <td>iztapalapa</td>\n      <td>9230</td>\n      <td>jos maria morelos y pavon</td>\n      <td>restaurantero</td>\n      <td>3</td>\n    </tr>\n    <tr>\n      <th>86174</th>\n      <td>estilista</td>\n      <td>tlahuac</td>\n      <td>13430</td>\n      <td>ampliacion selene</td>\n      <td>estilista</td>\n      <td>3</td>\n    </tr>\n    <tr>\n      <th>86391</th>\n      <td>comerciante</td>\n      <td>xochimilco</td>\n      <td>16038</td>\n      <td>ampliacion san marcos norte</td>\n      <td>comerciante</td>\n      <td>1</td>\n    </tr>\n    <tr>\n      <th>87050</th>\n      <td>albañil , pintor y plomero</td>\n      <td>iztacalco</td>\n      <td>8710</td>\n      <td>tlazintla</td>\n      <td>albañil , pintor y plomero</td>\n      <td>2</td>\n    </tr>\n    <tr>\n      <th>87300</th>\n      <td>comerciante</td>\n      <td>xochimilco</td>\n      <td>16035</td>\n      <td>rinconada coapa</td>\n      <td>comerciante</td>\n      <td>2</td>\n    </tr>\n  </tbody>\n</table>\n<p>128 rows × 6 columns</p>\n</div>"
     },
     "metadata": {},
     "execution_count": 300
    }
   ],
   "source": [
    "negocios_df[negocios_df.index.isin(indices)]"
   ]
  },
  {
   "cell_type": "code",
   "execution_count": 301,
   "metadata": {},
   "outputs": [
    {
     "output_type": "execute_result",
     "data": {
      "text/plain": [
       "ocupacion        0\n",
       "alcaldia         0\n",
       "c_p              1\n",
       "colonia          0\n",
       "giro             0\n",
       "num_empleados    0\n",
       "dtype: int64"
      ]
     },
     "metadata": {},
     "execution_count": 301
    }
   ],
   "source": [
    "negocios_df.isna().sum()"
   ]
  },
  {
   "cell_type": "code",
   "execution_count": 302,
   "metadata": {},
   "outputs": [],
   "source": [
    "#negocios_df.drop(columns=['c_p'], inplace=True)"
   ]
  },
  {
   "source": [
    "## Limpieza de cadenas"
   ],
   "cell_type": "markdown",
   "metadata": {}
  },
  {
   "source": [
    "### Colonias"
   ],
   "cell_type": "markdown",
   "metadata": {}
  },
  {
   "cell_type": "code",
   "execution_count": 311,
   "metadata": {},
   "outputs": [
    {
     "output_type": "execute_result",
     "data": {
      "text/plain": [
       "                  ocupacion  alcaldia   c_p                    colonia  \\\n",
       "500               panaderia  coyoacan  4369  pedregal de santo domingo   \n",
       "501               panaderia  coyoacan  4369  pedregal de santo domingo   \n",
       "502               panaderia  coyoacan  4369  pedregal de santo domingo   \n",
       "503               panaderia  coyoacan  4369  pedregal de santo domingo   \n",
       "519     cocinas economicas�  coyoacan  4369              santo domingo   \n",
       "...                     ...       ...   ...                        ...   \n",
       "117838          comerciante  coyoacan  4369  pedregal de santo domingo   \n",
       "117942    locatario publico  coyoacan  4369              santo domingo   \n",
       "117943    locatario publico  coyoacan  4369              santo domingo   \n",
       "118263          comerciante  coyoacan  4369  pedregal de santo domingo   \n",
       "118391          comerciante  coyoacan  4369  pedregal de santo domingo   \n",
       "\n",
       "                                    giro num_empleados  \n",
       "500                            panaderia             2  \n",
       "501                            panaderia             2  \n",
       "502                            panaderia             1  \n",
       "503                            panaderia             1  \n",
       "519                  cocinas economicas�             0  \n",
       "...                                  ...           ...  \n",
       "117838                            flores             1  \n",
       "117942                          estetica             1  \n",
       "117943  venta de articulos para mascotas             1  \n",
       "118263                venta de alimentos             1  \n",
       "118391   venta de quesadillas y gorditas             1  \n",
       "\n",
       "[593 rows x 6 columns]"
      ],
      "text/html": "<div>\n<style scoped>\n    .dataframe tbody tr th:only-of-type {\n        vertical-align: middle;\n    }\n\n    .dataframe tbody tr th {\n        vertical-align: top;\n    }\n\n    .dataframe thead th {\n        text-align: right;\n    }\n</style>\n<table border=\"1\" class=\"dataframe\">\n  <thead>\n    <tr style=\"text-align: right;\">\n      <th></th>\n      <th>ocupacion</th>\n      <th>alcaldia</th>\n      <th>c_p</th>\n      <th>colonia</th>\n      <th>giro</th>\n      <th>num_empleados</th>\n    </tr>\n  </thead>\n  <tbody>\n    <tr>\n      <th>500</th>\n      <td>panaderia</td>\n      <td>coyoacan</td>\n      <td>4369</td>\n      <td>pedregal de santo domingo</td>\n      <td>panaderia</td>\n      <td>2</td>\n    </tr>\n    <tr>\n      <th>501</th>\n      <td>panaderia</td>\n      <td>coyoacan</td>\n      <td>4369</td>\n      <td>pedregal de santo domingo</td>\n      <td>panaderia</td>\n      <td>2</td>\n    </tr>\n    <tr>\n      <th>502</th>\n      <td>panaderia</td>\n      <td>coyoacan</td>\n      <td>4369</td>\n      <td>pedregal de santo domingo</td>\n      <td>panaderia</td>\n      <td>1</td>\n    </tr>\n    <tr>\n      <th>503</th>\n      <td>panaderia</td>\n      <td>coyoacan</td>\n      <td>4369</td>\n      <td>pedregal de santo domingo</td>\n      <td>panaderia</td>\n      <td>1</td>\n    </tr>\n    <tr>\n      <th>519</th>\n      <td>cocinas economicas�</td>\n      <td>coyoacan</td>\n      <td>4369</td>\n      <td>santo domingo</td>\n      <td>cocinas economicas�</td>\n      <td>0</td>\n    </tr>\n    <tr>\n      <th>...</th>\n      <td>...</td>\n      <td>...</td>\n      <td>...</td>\n      <td>...</td>\n      <td>...</td>\n      <td>...</td>\n    </tr>\n    <tr>\n      <th>117838</th>\n      <td>comerciante</td>\n      <td>coyoacan</td>\n      <td>4369</td>\n      <td>pedregal de santo domingo</td>\n      <td>flores</td>\n      <td>1</td>\n    </tr>\n    <tr>\n      <th>117942</th>\n      <td>locatario publico</td>\n      <td>coyoacan</td>\n      <td>4369</td>\n      <td>santo domingo</td>\n      <td>estetica</td>\n      <td>1</td>\n    </tr>\n    <tr>\n      <th>117943</th>\n      <td>locatario publico</td>\n      <td>coyoacan</td>\n      <td>4369</td>\n      <td>santo domingo</td>\n      <td>venta de articulos para mascotas</td>\n      <td>1</td>\n    </tr>\n    <tr>\n      <th>118263</th>\n      <td>comerciante</td>\n      <td>coyoacan</td>\n      <td>4369</td>\n      <td>pedregal de santo domingo</td>\n      <td>venta de alimentos</td>\n      <td>1</td>\n    </tr>\n    <tr>\n      <th>118391</th>\n      <td>comerciante</td>\n      <td>coyoacan</td>\n      <td>4369</td>\n      <td>pedregal de santo domingo</td>\n      <td>venta de quesadillas y gorditas</td>\n      <td>1</td>\n    </tr>\n  </tbody>\n</table>\n<p>593 rows × 6 columns</p>\n</div>"
     },
     "metadata": {},
     "execution_count": 311
    }
   ],
   "source": [
    "negocios_df[negocios_df['c_p'] == str(4369)]"
   ]
  },
  {
   "source": [
    "## Guardar dataframe limpio"
   ],
   "cell_type": "markdown",
   "metadata": {}
  },
  {
   "cell_type": "code",
   "execution_count": 304,
   "metadata": {},
   "outputs": [],
   "source": [
    "negocios_df.to_csv(data_path + 'microempresas_clean.csv', index=False)"
   ]
  },
  {
   "cell_type": "code",
   "execution_count": 305,
   "metadata": {},
   "outputs": [
    {
     "output_type": "execute_result",
     "data": {
      "text/plain": [
       "               ocupacion        alcaldia   c_p               colonia  \\\n",
       "0               joyeria�  alvaro obregon  1260           la mexicana   \n",
       "1       tiendas de ropa�  alvaro obregon  1260       calzada jalalpa   \n",
       "2  tiendas de abarrotes�  alvaro obregon  1780  olivar de los padres   \n",
       "3  tiendas de abarrotes�  alvaro obregon  1780  olivar de los padres   \n",
       "4  tiendas de abarrotes�  alvaro obregon  1780  olivar de los padres   \n",
       "\n",
       "                    giro num_empleados  \n",
       "0               joyeria�             0  \n",
       "1       tiendas de ropa�             3  \n",
       "2  tiendas de abarrotes�             0  \n",
       "3  tiendas de abarrotes�             3  \n",
       "4  tiendas de abarrotes�             0  "
      ],
      "text/html": "<div>\n<style scoped>\n    .dataframe tbody tr th:only-of-type {\n        vertical-align: middle;\n    }\n\n    .dataframe tbody tr th {\n        vertical-align: top;\n    }\n\n    .dataframe thead th {\n        text-align: right;\n    }\n</style>\n<table border=\"1\" class=\"dataframe\">\n  <thead>\n    <tr style=\"text-align: right;\">\n      <th></th>\n      <th>ocupacion</th>\n      <th>alcaldia</th>\n      <th>c_p</th>\n      <th>colonia</th>\n      <th>giro</th>\n      <th>num_empleados</th>\n    </tr>\n  </thead>\n  <tbody>\n    <tr>\n      <th>0</th>\n      <td>joyeria�</td>\n      <td>alvaro obregon</td>\n      <td>1260</td>\n      <td>la mexicana</td>\n      <td>joyeria�</td>\n      <td>0</td>\n    </tr>\n    <tr>\n      <th>1</th>\n      <td>tiendas de ropa�</td>\n      <td>alvaro obregon</td>\n      <td>1260</td>\n      <td>calzada jalalpa</td>\n      <td>tiendas de ropa�</td>\n      <td>3</td>\n    </tr>\n    <tr>\n      <th>2</th>\n      <td>tiendas de abarrotes�</td>\n      <td>alvaro obregon</td>\n      <td>1780</td>\n      <td>olivar de los padres</td>\n      <td>tiendas de abarrotes�</td>\n      <td>0</td>\n    </tr>\n    <tr>\n      <th>3</th>\n      <td>tiendas de abarrotes�</td>\n      <td>alvaro obregon</td>\n      <td>1780</td>\n      <td>olivar de los padres</td>\n      <td>tiendas de abarrotes�</td>\n      <td>3</td>\n    </tr>\n    <tr>\n      <th>4</th>\n      <td>tiendas de abarrotes�</td>\n      <td>alvaro obregon</td>\n      <td>1780</td>\n      <td>olivar de los padres</td>\n      <td>tiendas de abarrotes�</td>\n      <td>0</td>\n    </tr>\n  </tbody>\n</table>\n</div>"
     },
     "metadata": {},
     "execution_count": 305
    }
   ],
   "source": [
    "negocios_df.head()"
   ]
  },
  {
   "cell_type": "code",
   "execution_count": null,
   "metadata": {},
   "outputs": [],
   "source": []
  }
 ]
}