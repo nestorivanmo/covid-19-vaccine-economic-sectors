{
 "metadata": {
  "language_info": {
   "codemirror_mode": {
    "name": "ipython",
    "version": 3
   },
   "file_extension": ".py",
   "mimetype": "text/x-python",
   "name": "python",
   "nbconvert_exporter": "python",
   "pygments_lexer": "ipython3",
   "version": "3.8.5-final"
  },
  "orig_nbformat": 2,
  "kernelspec": {
   "name": "python3",
   "display_name": "Python 3",
   "language": "python"
  }
 },
 "nbformat": 4,
 "nbformat_minor": 2,
 "cells": [
  {
   "source": [
    "# ECI por alcaldía\n",
    "\n",
    "Notebook para extrar el índice de complejidad económica por cada alcaldía de la Ciudad de México. El ECI por alcaldía se obtuvo de https://datamexico.org"
   ],
   "cell_type": "markdown",
   "metadata": {}
  },
  {
   "cell_type": "code",
   "execution_count": 1,
   "metadata": {},
   "outputs": [],
   "source": [
    "import pandas as pd\n",
    "from urllib.request import urlopen\n",
    "import json"
   ]
  },
  {
   "source": [
    "## Lista de alcaldías de la CDMX"
   ],
   "cell_type": "markdown",
   "metadata": {}
  },
  {
   "cell_type": "code",
   "execution_count": 2,
   "metadata": {},
   "outputs": [
    {
     "output_type": "stream",
     "name": "stdout",
     "text": [
      "['Álvaro Obregón', 'Azcapotzalco', 'Benito Juárez', 'Coyoacán', 'Cuajimalpa de Morelos', 'Cuauhtémoc', 'Gustavo A. Madero', 'Iztacalco', 'Iztapalapa', 'La Magdalena Contreras', 'Miguel Hidalgo', 'Milpa Alta', 'Tláhuac', 'Tlalpan', 'Venustiano Carranza', 'Xochimilco']\n"
     ]
    }
   ],
   "source": [
    "alc_df = pd.read_csv('../alcaldias_cdmx.csv')\n",
    "alc_df.loc[4] = 'Cuajimalpa de Morelos'\n",
    "alc_df.loc[9] = 'La Magdalena Contreras'\n",
    "alcaldias = list(alc_df.alcaldia)\n",
    "print(alcaldias)"
   ]
  },
  {
   "source": [
    "## Obteniendo los ECI por municipio\n",
    "El dataframe ```municipios_eci_df``` contiene los índices de complejidad económica con un nivel geográfico de municipio y un nivel industrial basado en el SCIAN para el año 2020 y bajo un indicador de empleados."
   ],
   "cell_type": "markdown",
   "metadata": {}
  },
  {
   "cell_type": "code",
   "execution_count": 3,
   "metadata": {},
   "outputs": [],
   "source": [
    "eci_url = \"https://datamexico.org/api/stats/eci?cube=inegi_denue&Month=20200417,20191114,20190410&rca=Municipality,NAICS%20Industry,Number%20of%20Employees%20Midpoint&threshold=NAICS%20Industry:900,Municipality:900&debug=true&locale=es\"\n",
    "municipios_eci_df = pd.read_json(eci_url)\n",
    "municipios_eci_df = pd.DataFrame(municipios_eci_df.data.values.tolist())"
   ]
  },
  {
   "cell_type": "code",
   "execution_count": 4,
   "metadata": {},
   "outputs": [
    {
     "output_type": "execute_result",
     "data": {
      "text/plain": [
       "        ECI       municipio\n",
       "0  3.049991  Aguascalientes\n",
       "1 -0.361775        Asientos\n",
       "2  0.342401        Calvillo\n",
       "3 -0.513439           Cosío\n",
       "4  3.094544     Jesús María"
      ],
      "text/html": "<div>\n<style scoped>\n    .dataframe tbody tr th:only-of-type {\n        vertical-align: middle;\n    }\n\n    .dataframe tbody tr th {\n        vertical-align: top;\n    }\n\n    .dataframe thead th {\n        text-align: right;\n    }\n</style>\n<table border=\"1\" class=\"dataframe\">\n  <thead>\n    <tr style=\"text-align: right;\">\n      <th></th>\n      <th>ECI</th>\n      <th>municipio</th>\n    </tr>\n  </thead>\n  <tbody>\n    <tr>\n      <th>0</th>\n      <td>3.049991</td>\n      <td>Aguascalientes</td>\n    </tr>\n    <tr>\n      <th>1</th>\n      <td>-0.361775</td>\n      <td>Asientos</td>\n    </tr>\n    <tr>\n      <th>2</th>\n      <td>0.342401</td>\n      <td>Calvillo</td>\n    </tr>\n    <tr>\n      <th>3</th>\n      <td>-0.513439</td>\n      <td>Cosío</td>\n    </tr>\n    <tr>\n      <th>4</th>\n      <td>3.094544</td>\n      <td>Jesús María</td>\n    </tr>\n  </tbody>\n</table>\n</div>"
     },
     "metadata": {},
     "execution_count": 4
    }
   ],
   "source": [
    "municipios_eci_df.rename(columns={'Municipality ID': 'municipio_id', 'Number of Employees Midpoint ECI':'ECI', 'Municipality':'municipio'}, inplace=True)\n",
    "del municipios_eci_df['municipio_id']\n",
    "municipios_eci_df.head()"
   ]
  },
  {
   "source": [
    "## Filtrando por alcaldías de la CDMX "
   ],
   "cell_type": "markdown",
   "metadata": {}
  },
  {
   "cell_type": "code",
   "execution_count": 5,
   "metadata": {},
   "outputs": [],
   "source": [
    "alcaldias_eci_df = municipios_eci_df[municipios_eci_df.municipio.isin(alcaldias)]"
   ]
  },
  {
   "cell_type": "code",
   "execution_count": 6,
   "metadata": {},
   "outputs": [],
   "source": [
    "alcaldias_dict = dict()\n",
    "for _, row in alcaldias_eci_df.iterrows():\n",
    "    municipio = row.municipio\n",
    "    eci = row.ECI\n",
    "    if municipio not in alcaldias_dict:\n",
    "        alcaldias_dict[municipio] = [-10e2]\n",
    "    alcaldias_dict[municipio] = [max(eci, alcaldias_dict[municipio][0])]\n",
    "\n",
    "alcaldias_names = alcaldias_dict.keys()\n",
    "eci_values = []\n",
    "for alcaldia in alcaldias_names:\n",
    "    eci_values.append(alcaldias_dict[alcaldia][0])"
   ]
  },
  {
   "cell_type": "code",
   "execution_count": 7,
   "metadata": {},
   "outputs": [
    {
     "output_type": "execute_result",
     "data": {
      "text/plain": [
       "                  alcaldia       eci\n",
       "0               Cuauhtemoc  3.471986\n",
       "1      Venustiano Carranza  2.501312\n",
       "2             Azcapotzalco  3.865509\n",
       "3                 Coyoacan  2.800526\n",
       "4    Cuajimalpa de Morelos  3.854617\n",
       "5        Gustavo A. Madero  2.680508\n",
       "6                Iztacalco  2.944861\n",
       "7               Iztapalapa  2.629184\n",
       "8   La Magdalena Contreras  1.623270\n",
       "9               Milpa Alta  0.343307\n",
       "10          Alvaro Obregon  3.818013\n",
       "11                 Tlahuac  1.632037\n",
       "12                 Tlalpan  2.426480\n",
       "13              Xochimilco  1.213572\n",
       "14           Benito Juarez  3.778215\n",
       "15          Miguel Hidalgo  4.152792"
      ],
      "text/html": "<div>\n<style scoped>\n    .dataframe tbody tr th:only-of-type {\n        vertical-align: middle;\n    }\n\n    .dataframe tbody tr th {\n        vertical-align: top;\n    }\n\n    .dataframe thead th {\n        text-align: right;\n    }\n</style>\n<table border=\"1\" class=\"dataframe\">\n  <thead>\n    <tr style=\"text-align: right;\">\n      <th></th>\n      <th>alcaldia</th>\n      <th>eci</th>\n    </tr>\n  </thead>\n  <tbody>\n    <tr>\n      <th>0</th>\n      <td>Cuauhtemoc</td>\n      <td>3.471986</td>\n    </tr>\n    <tr>\n      <th>1</th>\n      <td>Venustiano Carranza</td>\n      <td>2.501312</td>\n    </tr>\n    <tr>\n      <th>2</th>\n      <td>Azcapotzalco</td>\n      <td>3.865509</td>\n    </tr>\n    <tr>\n      <th>3</th>\n      <td>Coyoacan</td>\n      <td>2.800526</td>\n    </tr>\n    <tr>\n      <th>4</th>\n      <td>Cuajimalpa de Morelos</td>\n      <td>3.854617</td>\n    </tr>\n    <tr>\n      <th>5</th>\n      <td>Gustavo A. Madero</td>\n      <td>2.680508</td>\n    </tr>\n    <tr>\n      <th>6</th>\n      <td>Iztacalco</td>\n      <td>2.944861</td>\n    </tr>\n    <tr>\n      <th>7</th>\n      <td>Iztapalapa</td>\n      <td>2.629184</td>\n    </tr>\n    <tr>\n      <th>8</th>\n      <td>La Magdalena Contreras</td>\n      <td>1.623270</td>\n    </tr>\n    <tr>\n      <th>9</th>\n      <td>Milpa Alta</td>\n      <td>0.343307</td>\n    </tr>\n    <tr>\n      <th>10</th>\n      <td>Alvaro Obregon</td>\n      <td>3.818013</td>\n    </tr>\n    <tr>\n      <th>11</th>\n      <td>Tlahuac</td>\n      <td>1.632037</td>\n    </tr>\n    <tr>\n      <th>12</th>\n      <td>Tlalpan</td>\n      <td>2.426480</td>\n    </tr>\n    <tr>\n      <th>13</th>\n      <td>Xochimilco</td>\n      <td>1.213572</td>\n    </tr>\n    <tr>\n      <th>14</th>\n      <td>Benito Juarez</td>\n      <td>3.778215</td>\n    </tr>\n    <tr>\n      <th>15</th>\n      <td>Miguel Hidalgo</td>\n      <td>4.152792</td>\n    </tr>\n  </tbody>\n</table>\n</div>"
     },
     "metadata": {},
     "execution_count": 7
    }
   ],
   "source": [
    "alcaldias_eci_clean_df = pd.DataFrame(data={'alcaldia': alcaldias_names, 'eci': eci_values})\n",
    "alcaldias_eci_clean_df.loc[0, 'alcaldia'] = 'Cuauhtemoc'\n",
    "alcaldias_eci_clean_df.loc[3, 'alcaldia'] = 'Coyoacan'\n",
    "alcaldias_eci_clean_df.loc[10, 'alcaldia'] = 'Alvaro Obregon'\n",
    "alcaldias_eci_clean_df.loc[11, 'alcaldia'] = 'Tlahuac'\n",
    "alcaldias_eci_clean_df.loc[14, 'alcaldia'] = 'Benito Juarez'\n",
    "alcaldias_eci_clean_df"
   ]
  },
  {
   "cell_type": "code",
   "execution_count": 8,
   "metadata": {},
   "outputs": [
    {
     "output_type": "execute_result",
     "data": {
      "text/plain": [
       "                  alcaldia       eci\n",
       "0               cuauhtemoc  3.471986\n",
       "1      venustiano carranza  2.501312\n",
       "2             azcapotzalco  3.865509\n",
       "3                 coyoacan  2.800526\n",
       "4    cuajimalpa de morelos  3.854617\n",
       "5        gustavo a. madero  2.680508\n",
       "6                iztacalco  2.944861\n",
       "7               iztapalapa  2.629184\n",
       "8   la magdalena contreras  1.623270\n",
       "9               milpa alta  0.343307\n",
       "10          alvaro obregon  3.818013\n",
       "11                 tlahuac  1.632037\n",
       "12                 tlalpan  2.426480\n",
       "13              xochimilco  1.213572\n",
       "14           benito juarez  3.778215\n",
       "15          miguel hidalgo  4.152792"
      ],
      "text/html": "<div>\n<style scoped>\n    .dataframe tbody tr th:only-of-type {\n        vertical-align: middle;\n    }\n\n    .dataframe tbody tr th {\n        vertical-align: top;\n    }\n\n    .dataframe thead th {\n        text-align: right;\n    }\n</style>\n<table border=\"1\" class=\"dataframe\">\n  <thead>\n    <tr style=\"text-align: right;\">\n      <th></th>\n      <th>alcaldia</th>\n      <th>eci</th>\n    </tr>\n  </thead>\n  <tbody>\n    <tr>\n      <th>0</th>\n      <td>cuauhtemoc</td>\n      <td>3.471986</td>\n    </tr>\n    <tr>\n      <th>1</th>\n      <td>venustiano carranza</td>\n      <td>2.501312</td>\n    </tr>\n    <tr>\n      <th>2</th>\n      <td>azcapotzalco</td>\n      <td>3.865509</td>\n    </tr>\n    <tr>\n      <th>3</th>\n      <td>coyoacan</td>\n      <td>2.800526</td>\n    </tr>\n    <tr>\n      <th>4</th>\n      <td>cuajimalpa de morelos</td>\n      <td>3.854617</td>\n    </tr>\n    <tr>\n      <th>5</th>\n      <td>gustavo a. madero</td>\n      <td>2.680508</td>\n    </tr>\n    <tr>\n      <th>6</th>\n      <td>iztacalco</td>\n      <td>2.944861</td>\n    </tr>\n    <tr>\n      <th>7</th>\n      <td>iztapalapa</td>\n      <td>2.629184</td>\n    </tr>\n    <tr>\n      <th>8</th>\n      <td>la magdalena contreras</td>\n      <td>1.623270</td>\n    </tr>\n    <tr>\n      <th>9</th>\n      <td>milpa alta</td>\n      <td>0.343307</td>\n    </tr>\n    <tr>\n      <th>10</th>\n      <td>alvaro obregon</td>\n      <td>3.818013</td>\n    </tr>\n    <tr>\n      <th>11</th>\n      <td>tlahuac</td>\n      <td>1.632037</td>\n    </tr>\n    <tr>\n      <th>12</th>\n      <td>tlalpan</td>\n      <td>2.426480</td>\n    </tr>\n    <tr>\n      <th>13</th>\n      <td>xochimilco</td>\n      <td>1.213572</td>\n    </tr>\n    <tr>\n      <th>14</th>\n      <td>benito juarez</td>\n      <td>3.778215</td>\n    </tr>\n    <tr>\n      <th>15</th>\n      <td>miguel hidalgo</td>\n      <td>4.152792</td>\n    </tr>\n  </tbody>\n</table>\n</div>"
     },
     "metadata": {},
     "execution_count": 8
    }
   ],
   "source": [
    "alcaldias_eci_clean_df.alcaldia = alcaldias_eci_clean_df.alcaldia.str.lower()\n",
    "alcaldias_eci_clean_df"
   ]
  },
  {
   "cell_type": "code",
   "execution_count": 9,
   "metadata": {},
   "outputs": [],
   "source": [
    "alcaldias_eci_clean_df.to_csv('../alcaldias_eci.csv', index=False)"
   ]
  }
 ]
}